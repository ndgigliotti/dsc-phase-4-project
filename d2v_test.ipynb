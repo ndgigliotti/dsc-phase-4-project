{
 "cells": [
  {
   "cell_type": "code",
   "execution_count": 1,
   "metadata": {
    "ExecuteTime": {
     "end_time": "2021-06-26T17:09:31.872886Z",
     "start_time": "2021-06-26T17:09:30.061896Z"
    }
   },
   "outputs": [
    {
     "data": {
      "application/javascript": [
       "\n",
       "            setTimeout(function() {\n",
       "                var nbb_cell_id = 1;\n",
       "                var nbb_unformatted_code = \"import re\\nimport numpy as np\\nimport pandas as pd\\nimport seaborn as sns\\nimport nltk\\nimport matplotlib.pyplot as plt\\nfrom os.path import normpath\\nfrom operator import itemgetter\\nfrom functools import partial\\n\\n# Set Seaborn theme and default palette\\nsns.set_theme(font_scale=1, style=\\\"darkgrid\\\")\\nsns.set_palette(\\\"deep\\\", desat=0.85, color_codes=True)\\n\\n# Turn on inline plotting\\n%matplotlib inline\\n\\n# Load Black auto-formatter\\n%load_ext nb_black\\n\\n# Enable automatic reloading\\n%load_ext autoreload\\n%autoreload 2\";\n",
       "                var nbb_formatted_code = \"import re\\nimport numpy as np\\nimport pandas as pd\\nimport seaborn as sns\\nimport nltk\\nimport matplotlib.pyplot as plt\\nfrom os.path import normpath\\nfrom operator import itemgetter\\nfrom functools import partial\\n\\n# Set Seaborn theme and default palette\\nsns.set_theme(font_scale=1, style=\\\"darkgrid\\\")\\nsns.set_palette(\\\"deep\\\", desat=0.85, color_codes=True)\\n\\n# Turn on inline plotting\\n%matplotlib inline\\n\\n# Load Black auto-formatter\\n%load_ext nb_black\\n\\n# Enable automatic reloading\\n%load_ext autoreload\\n%autoreload 2\";\n",
       "                var nbb_cells = Jupyter.notebook.get_cells();\n",
       "                for (var i = 0; i < nbb_cells.length; ++i) {\n",
       "                    if (nbb_cells[i].input_prompt_number == nbb_cell_id) {\n",
       "                        if (nbb_cells[i].get_text() == nbb_unformatted_code) {\n",
       "                             nbb_cells[i].set_text(nbb_formatted_code);\n",
       "                        }\n",
       "                        break;\n",
       "                    }\n",
       "                }\n",
       "            }, 500);\n",
       "            "
      ],
      "text/plain": [
       "<IPython.core.display.Javascript object>"
      ]
     },
     "metadata": {},
     "output_type": "display_data"
    }
   ],
   "source": [
    "import re\n",
    "import numpy as np\n",
    "import pandas as pd\n",
    "import seaborn as sns\n",
    "import nltk\n",
    "import matplotlib.pyplot as plt\n",
    "from os.path import normpath\n",
    "from operator import itemgetter\n",
    "from functools import partial\n",
    "\n",
    "# Set Seaborn theme and default palette\n",
    "sns.set_theme(font_scale=1, style=\"darkgrid\")\n",
    "sns.set_palette(\"deep\", desat=0.85, color_codes=True)\n",
    "\n",
    "# Turn on inline plotting\n",
    "%matplotlib inline\n",
    "\n",
    "# Load Black auto-formatter\n",
    "%load_ext nb_black\n",
    "\n",
    "# Enable automatic reloading\n",
    "%load_ext autoreload\n",
    "%autoreload 2"
   ]
  },
  {
   "cell_type": "code",
   "execution_count": 2,
   "metadata": {
    "ExecuteTime": {
     "end_time": "2021-06-26T17:09:32.382914Z",
     "start_time": "2021-06-26T17:09:31.873887Z"
    }
   },
   "outputs": [
    {
     "data": {
      "application/javascript": [
       "\n",
       "            setTimeout(function() {\n",
       "                var nbb_cell_id = 2;\n",
       "                var nbb_unformatted_code = \"import joblib\\nfrom sklearn.dummy import DummyClassifier\\nfrom sklearn.base import clone\\nfrom sklearn.preprocessing import (\\n    StandardScaler,\\n    RobustScaler,\\n    MinMaxScaler,\\n    MaxAbsScaler,\\n    PowerTransformer,\\n    QuantileTransformer,\\n    FunctionTransformer,\\n    Normalizer,\\n    Binarizer,\\n)\\nfrom sklearn.ensemble import RandomForestClassifier\\nfrom sklearn.linear_model import (\\n    LogisticRegression,\\n    LogisticRegressionCV,\\n    SGDClassifier,\\n    RidgeClassifier,\\n    RidgeClassifierCV,\\n    PassiveAggressiveClassifier,\\n)\\nfrom sklearn.feature_extraction.text import (\\n    CountVectorizer,\\n    HashingVectorizer,\\n    TfidfTransformer,\\n    TfidfVectorizer,\\n)\\nfrom sklearn.model_selection import (\\n    train_test_split,\\n    GridSearchCV,\\n    RandomizedSearchCV,\\n    StratifiedKFold,\\n    RepeatedStratifiedKFold,\\n)\\nfrom sklearn.feature_selection import VarianceThreshold\\nfrom sklearn.pipeline import make_pipeline, Pipeline, FeatureUnion\\nfrom sklearn.compose import (\\n    make_column_transformer,\\n    make_column_selector,\\n    ColumnTransformer,\\n)\\nfrom gensim.parsing.preprocessing import STOPWORDS, preprocess_string\";\n",
       "                var nbb_formatted_code = \"import joblib\\nfrom sklearn.dummy import DummyClassifier\\nfrom sklearn.base import clone\\nfrom sklearn.preprocessing import (\\n    StandardScaler,\\n    RobustScaler,\\n    MinMaxScaler,\\n    MaxAbsScaler,\\n    PowerTransformer,\\n    QuantileTransformer,\\n    FunctionTransformer,\\n    Normalizer,\\n    Binarizer,\\n)\\nfrom sklearn.ensemble import RandomForestClassifier\\nfrom sklearn.linear_model import (\\n    LogisticRegression,\\n    LogisticRegressionCV,\\n    SGDClassifier,\\n    RidgeClassifier,\\n    RidgeClassifierCV,\\n    PassiveAggressiveClassifier,\\n)\\nfrom sklearn.feature_extraction.text import (\\n    CountVectorizer,\\n    HashingVectorizer,\\n    TfidfTransformer,\\n    TfidfVectorizer,\\n)\\nfrom sklearn.model_selection import (\\n    train_test_split,\\n    GridSearchCV,\\n    RandomizedSearchCV,\\n    StratifiedKFold,\\n    RepeatedStratifiedKFold,\\n)\\nfrom sklearn.feature_selection import VarianceThreshold\\nfrom sklearn.pipeline import make_pipeline, Pipeline, FeatureUnion\\nfrom sklearn.compose import (\\n    make_column_transformer,\\n    make_column_selector,\\n    ColumnTransformer,\\n)\\nfrom gensim.parsing.preprocessing import STOPWORDS, preprocess_string\";\n",
       "                var nbb_cells = Jupyter.notebook.get_cells();\n",
       "                for (var i = 0; i < nbb_cells.length; ++i) {\n",
       "                    if (nbb_cells[i].input_prompt_number == nbb_cell_id) {\n",
       "                        if (nbb_cells[i].get_text() == nbb_unformatted_code) {\n",
       "                             nbb_cells[i].set_text(nbb_formatted_code);\n",
       "                        }\n",
       "                        break;\n",
       "                    }\n",
       "                }\n",
       "            }, 500);\n",
       "            "
      ],
      "text/plain": [
       "<IPython.core.display.Javascript object>"
      ]
     },
     "metadata": {},
     "output_type": "display_data"
    }
   ],
   "source": [
    "import joblib\n",
    "from sklearn.dummy import DummyClassifier\n",
    "from sklearn.base import clone\n",
    "from sklearn.preprocessing import (\n",
    "    StandardScaler,\n",
    "    RobustScaler,\n",
    "    MinMaxScaler,\n",
    "    MaxAbsScaler,\n",
    "    PowerTransformer,\n",
    "    QuantileTransformer,\n",
    "    FunctionTransformer,\n",
    "    Normalizer,\n",
    "    Binarizer,\n",
    ")\n",
    "from sklearn.ensemble import RandomForestClassifier\n",
    "from sklearn.linear_model import (\n",
    "    LogisticRegression,\n",
    "    LogisticRegressionCV,\n",
    "    SGDClassifier,\n",
    "    RidgeClassifier,\n",
    "    RidgeClassifierCV,\n",
    "    PassiveAggressiveClassifier,\n",
    ")\n",
    "from sklearn.feature_extraction.text import (\n",
    "    CountVectorizer,\n",
    "    HashingVectorizer,\n",
    "    TfidfTransformer,\n",
    "    TfidfVectorizer,\n",
    ")\n",
    "from sklearn.model_selection import (\n",
    "    train_test_split,\n",
    "    GridSearchCV,\n",
    "    RandomizedSearchCV,\n",
    "    StratifiedKFold,\n",
    "    RepeatedStratifiedKFold,\n",
    ")\n",
    "from sklearn.feature_selection import VarianceThreshold\n",
    "from sklearn.pipeline import make_pipeline, Pipeline, FeatureUnion\n",
    "from sklearn.compose import (\n",
    "    make_column_transformer,\n",
    "    make_column_selector,\n",
    "    ColumnTransformer,\n",
    ")\n",
    "from gensim.parsing.preprocessing import STOPWORDS, preprocess_string"
   ]
  },
  {
   "cell_type": "code",
   "execution_count": 3,
   "metadata": {
    "ExecuteTime": {
     "end_time": "2021-06-26T17:09:32.602890Z",
     "start_time": "2021-06-26T17:09:32.383885Z"
    }
   },
   "outputs": [
    {
     "data": {
      "application/javascript": [
       "\n",
       "            setTimeout(function() {\n",
       "                var nbb_cell_id = 3;\n",
       "                var nbb_unformatted_code = \"# Import my modules\\nfrom tools import cleaning, plotting, language as lang, utils\\nfrom tools.modeling.vectorizers import Doc2Vectorizer\\nfrom tools.modeling.transformers import ArrayForcer\\nfrom tools.modeling.wrappers import PandasWrapper\\nfrom tools.modeling.classification import diagnostics as diag\\nfrom tools.modeling.selection import sweep, load_results\\n\\n# Set my default MPL settings\\nplt.rcParams.update(plotting.MPL_DEFAULTS)\\n\\n# RandomState for reproducibility\\nrando = np.random.RandomState(9547)\";\n",
       "                var nbb_formatted_code = \"# Import my modules\\nfrom tools import cleaning, plotting, language as lang, utils\\nfrom tools.modeling.vectorizers import Doc2Vectorizer\\nfrom tools.modeling.transformers import ArrayForcer\\nfrom tools.modeling.wrappers import PandasWrapper\\nfrom tools.modeling.classification import diagnostics as diag\\nfrom tools.modeling.selection import sweep, load_results\\n\\n# Set my default MPL settings\\nplt.rcParams.update(plotting.MPL_DEFAULTS)\\n\\n# RandomState for reproducibility\\nrando = np.random.RandomState(9547)\";\n",
       "                var nbb_cells = Jupyter.notebook.get_cells();\n",
       "                for (var i = 0; i < nbb_cells.length; ++i) {\n",
       "                    if (nbb_cells[i].input_prompt_number == nbb_cell_id) {\n",
       "                        if (nbb_cells[i].get_text() == nbb_unformatted_code) {\n",
       "                             nbb_cells[i].set_text(nbb_formatted_code);\n",
       "                        }\n",
       "                        break;\n",
       "                    }\n",
       "                }\n",
       "            }, 500);\n",
       "            "
      ],
      "text/plain": [
       "<IPython.core.display.Javascript object>"
      ]
     },
     "metadata": {},
     "output_type": "display_data"
    }
   ],
   "source": [
    "# Import my modules\n",
    "from tools import cleaning, plotting, language as lang, utils\n",
    "from tools.modeling.vectorizers import Doc2Vectorizer\n",
    "from tools.modeling.transformers import ArrayForcer\n",
    "from tools.modeling.wrappers import PandasWrapper\n",
    "from tools.modeling.classification import diagnostics as diag\n",
    "from tools.modeling.selection import sweep, load_results\n",
    "\n",
    "# Set my default MPL settings\n",
    "plt.rcParams.update(plotting.MPL_DEFAULTS)\n",
    "\n",
    "# RandomState for reproducibility\n",
    "rando = np.random.RandomState(9547)"
   ]
  },
  {
   "cell_type": "markdown",
   "metadata": {},
   "source": [
    "# Overview of Dataset"
   ]
  },
  {
   "cell_type": "code",
   "execution_count": 4,
   "metadata": {
    "ExecuteTime": {
     "end_time": "2021-06-26T17:09:32.723886Z",
     "start_time": "2021-06-26T17:09:32.603886Z"
    },
    "run_control": {
     "marked": false
    }
   },
   "outputs": [
    {
     "data": {
      "text/html": [
       "<div>\n",
       "<style scoped>\n",
       "    .dataframe tbody tr th:only-of-type {\n",
       "        vertical-align: middle;\n",
       "    }\n",
       "\n",
       "    .dataframe tbody tr th {\n",
       "        vertical-align: top;\n",
       "    }\n",
       "\n",
       "    .dataframe thead th {\n",
       "        text-align: right;\n",
       "    }\n",
       "</style>\n",
       "<table border=\"1\" class=\"dataframe\">\n",
       "  <thead>\n",
       "    <tr style=\"text-align: right;\">\n",
       "      <th></th>\n",
       "      <th>tweet_text</th>\n",
       "      <th>emotion_in_tweet_is_directed_at</th>\n",
       "      <th>is_there_an_emotion_directed_at_a_brand_or_product</th>\n",
       "    </tr>\n",
       "  </thead>\n",
       "  <tbody>\n",
       "    <tr>\n",
       "      <th>0</th>\n",
       "      <td>.@wesley83 I have a 3G iPhone. After 3 hrs twe...</td>\n",
       "      <td>iPhone</td>\n",
       "      <td>Negative emotion</td>\n",
       "    </tr>\n",
       "    <tr>\n",
       "      <th>1</th>\n",
       "      <td>@jessedee Know about @fludapp ? Awesome iPad/i...</td>\n",
       "      <td>iPad or iPhone App</td>\n",
       "      <td>Positive emotion</td>\n",
       "    </tr>\n",
       "    <tr>\n",
       "      <th>2</th>\n",
       "      <td>@swonderlin Can not wait for #iPad 2 also. The...</td>\n",
       "      <td>iPad</td>\n",
       "      <td>Positive emotion</td>\n",
       "    </tr>\n",
       "    <tr>\n",
       "      <th>3</th>\n",
       "      <td>@sxsw I hope this year's festival isn't as cra...</td>\n",
       "      <td>iPad or iPhone App</td>\n",
       "      <td>Negative emotion</td>\n",
       "    </tr>\n",
       "    <tr>\n",
       "      <th>4</th>\n",
       "      <td>@sxtxstate great stuff on Fri #SXSW: Marissa M...</td>\n",
       "      <td>Google</td>\n",
       "      <td>Positive emotion</td>\n",
       "    </tr>\n",
       "  </tbody>\n",
       "</table>\n",
       "</div>"
      ],
      "text/plain": [
       "                                          tweet_text  \\\n",
       "0  .@wesley83 I have a 3G iPhone. After 3 hrs twe...   \n",
       "1  @jessedee Know about @fludapp ? Awesome iPad/i...   \n",
       "2  @swonderlin Can not wait for #iPad 2 also. The...   \n",
       "3  @sxsw I hope this year's festival isn't as cra...   \n",
       "4  @sxtxstate great stuff on Fri #SXSW: Marissa M...   \n",
       "\n",
       "  emotion_in_tweet_is_directed_at  \\\n",
       "0                          iPhone   \n",
       "1              iPad or iPhone App   \n",
       "2                            iPad   \n",
       "3              iPad or iPhone App   \n",
       "4                          Google   \n",
       "\n",
       "  is_there_an_emotion_directed_at_a_brand_or_product  \n",
       "0                                   Negative emotion  \n",
       "1                                   Positive emotion  \n",
       "2                                   Positive emotion  \n",
       "3                                   Negative emotion  \n",
       "4                                   Positive emotion  "
      ]
     },
     "execution_count": 4,
     "metadata": {},
     "output_type": "execute_result"
    },
    {
     "data": {
      "application/javascript": [
       "\n",
       "            setTimeout(function() {\n",
       "                var nbb_cell_id = 4;\n",
       "                var nbb_unformatted_code = \"df = pd.read_csv(normpath(\\\"data/crowdflower_tweets.csv\\\"))\\ndf.head()\";\n",
       "                var nbb_formatted_code = \"df = pd.read_csv(normpath(\\\"data/crowdflower_tweets.csv\\\"))\\ndf.head()\";\n",
       "                var nbb_cells = Jupyter.notebook.get_cells();\n",
       "                for (var i = 0; i < nbb_cells.length; ++i) {\n",
       "                    if (nbb_cells[i].input_prompt_number == nbb_cell_id) {\n",
       "                        if (nbb_cells[i].get_text() == nbb_unformatted_code) {\n",
       "                             nbb_cells[i].set_text(nbb_formatted_code);\n",
       "                        }\n",
       "                        break;\n",
       "                    }\n",
       "                }\n",
       "            }, 500);\n",
       "            "
      ],
      "text/plain": [
       "<IPython.core.display.Javascript object>"
      ]
     },
     "metadata": {},
     "output_type": "display_data"
    }
   ],
   "source": [
    "df = pd.read_csv(normpath(\"data/crowdflower_tweets.csv\"))\n",
    "df.head()"
   ]
  },
  {
   "cell_type": "markdown",
   "metadata": {},
   "source": [
    "Looks like one text feature and two categorical features, one of which has a lot of null values. The feature names are very long and wordy, presumably to reflect the actual language used by CrowdFlower in crowdsourcing this dataset. I'm going to rename those before I do anything else."
   ]
  },
  {
   "cell_type": "code",
   "execution_count": 5,
   "metadata": {
    "ExecuteTime": {
     "end_time": "2021-06-26T17:09:32.827887Z",
     "start_time": "2021-06-26T17:09:32.724888Z"
    }
   },
   "outputs": [
    {
     "name": "stdout",
     "output_type": "stream",
     "text": [
      "<class 'pandas.core.frame.DataFrame'>\n",
      "RangeIndex: 9093 entries, 0 to 9092\n",
      "Data columns (total 3 columns):\n",
      " #   Column                                              Non-Null Count  Dtype \n",
      "---  ------                                              --------------  ----- \n",
      " 0   tweet_text                                          9092 non-null   object\n",
      " 1   emotion_in_tweet_is_directed_at                     3291 non-null   object\n",
      " 2   is_there_an_emotion_directed_at_a_brand_or_product  9093 non-null   object\n",
      "dtypes: object(3)\n",
      "memory usage: 213.2+ KB\n"
     ]
    },
    {
     "data": {
      "application/javascript": [
       "\n",
       "            setTimeout(function() {\n",
       "                var nbb_cell_id = 5;\n",
       "                var nbb_unformatted_code = \"df.info()\";\n",
       "                var nbb_formatted_code = \"df.info()\";\n",
       "                var nbb_cells = Jupyter.notebook.get_cells();\n",
       "                for (var i = 0; i < nbb_cells.length; ++i) {\n",
       "                    if (nbb_cells[i].input_prompt_number == nbb_cell_id) {\n",
       "                        if (nbb_cells[i].get_text() == nbb_unformatted_code) {\n",
       "                             nbb_cells[i].set_text(nbb_formatted_code);\n",
       "                        }\n",
       "                        break;\n",
       "                    }\n",
       "                }\n",
       "            }, 500);\n",
       "            "
      ],
      "text/plain": [
       "<IPython.core.display.Javascript object>"
      ]
     },
     "metadata": {},
     "output_type": "display_data"
    }
   ],
   "source": [
    "df.info()"
   ]
  },
  {
   "cell_type": "markdown",
   "metadata": {},
   "source": [
    "# Cleaning\n",
    "## Renaming"
   ]
  },
  {
   "cell_type": "code",
   "execution_count": 6,
   "metadata": {
    "ExecuteTime": {
     "end_time": "2021-06-26T17:09:32.926889Z",
     "start_time": "2021-06-26T17:09:32.828886Z"
    }
   },
   "outputs": [
    {
     "data": {
      "text/html": [
       "<div>\n",
       "<style scoped>\n",
       "    .dataframe tbody tr th:only-of-type {\n",
       "        vertical-align: middle;\n",
       "    }\n",
       "\n",
       "    .dataframe tbody tr th {\n",
       "        vertical-align: top;\n",
       "    }\n",
       "\n",
       "    .dataframe thead th {\n",
       "        text-align: right;\n",
       "    }\n",
       "</style>\n",
       "<table border=\"1\" class=\"dataframe\">\n",
       "  <thead>\n",
       "    <tr style=\"text-align: right;\">\n",
       "      <th></th>\n",
       "      <th>text</th>\n",
       "      <th>object_of_emotion</th>\n",
       "      <th>emotion</th>\n",
       "    </tr>\n",
       "  </thead>\n",
       "  <tbody>\n",
       "    <tr>\n",
       "      <th>0</th>\n",
       "      <td>.@wesley83 I have a 3G iPhone. After 3 hrs twe...</td>\n",
       "      <td>iPhone</td>\n",
       "      <td>Negative emotion</td>\n",
       "    </tr>\n",
       "    <tr>\n",
       "      <th>1</th>\n",
       "      <td>@jessedee Know about @fludapp ? Awesome iPad/i...</td>\n",
       "      <td>iPad or iPhone App</td>\n",
       "      <td>Positive emotion</td>\n",
       "    </tr>\n",
       "    <tr>\n",
       "      <th>2</th>\n",
       "      <td>@swonderlin Can not wait for #iPad 2 also. The...</td>\n",
       "      <td>iPad</td>\n",
       "      <td>Positive emotion</td>\n",
       "    </tr>\n",
       "    <tr>\n",
       "      <th>3</th>\n",
       "      <td>@sxsw I hope this year's festival isn't as cra...</td>\n",
       "      <td>iPad or iPhone App</td>\n",
       "      <td>Negative emotion</td>\n",
       "    </tr>\n",
       "    <tr>\n",
       "      <th>4</th>\n",
       "      <td>@sxtxstate great stuff on Fri #SXSW: Marissa M...</td>\n",
       "      <td>Google</td>\n",
       "      <td>Positive emotion</td>\n",
       "    </tr>\n",
       "  </tbody>\n",
       "</table>\n",
       "</div>"
      ],
      "text/plain": [
       "                                                text   object_of_emotion  \\\n",
       "0  .@wesley83 I have a 3G iPhone. After 3 hrs twe...              iPhone   \n",
       "1  @jessedee Know about @fludapp ? Awesome iPad/i...  iPad or iPhone App   \n",
       "2  @swonderlin Can not wait for #iPad 2 also. The...                iPad   \n",
       "3  @sxsw I hope this year's festival isn't as cra...  iPad or iPhone App   \n",
       "4  @sxtxstate great stuff on Fri #SXSW: Marissa M...              Google   \n",
       "\n",
       "            emotion  \n",
       "0  Negative emotion  \n",
       "1  Positive emotion  \n",
       "2  Positive emotion  \n",
       "3  Negative emotion  \n",
       "4  Positive emotion  "
      ]
     },
     "execution_count": 6,
     "metadata": {},
     "output_type": "execute_result"
    },
    {
     "data": {
      "application/javascript": [
       "\n",
       "            setTimeout(function() {\n",
       "                var nbb_cell_id = 6;\n",
       "                var nbb_unformatted_code = \"# Assign new column names\\ndf.columns = [\\\"text\\\", \\\"object_of_emotion\\\", \\\"emotion\\\"]\\ndf.head()\";\n",
       "                var nbb_formatted_code = \"# Assign new column names\\ndf.columns = [\\\"text\\\", \\\"object_of_emotion\\\", \\\"emotion\\\"]\\ndf.head()\";\n",
       "                var nbb_cells = Jupyter.notebook.get_cells();\n",
       "                for (var i = 0; i < nbb_cells.length; ++i) {\n",
       "                    if (nbb_cells[i].input_prompt_number == nbb_cell_id) {\n",
       "                        if (nbb_cells[i].get_text() == nbb_unformatted_code) {\n",
       "                             nbb_cells[i].set_text(nbb_formatted_code);\n",
       "                        }\n",
       "                        break;\n",
       "                    }\n",
       "                }\n",
       "            }, 500);\n",
       "            "
      ],
      "text/plain": [
       "<IPython.core.display.Javascript object>"
      ]
     },
     "metadata": {},
     "output_type": "display_data"
    }
   ],
   "source": [
    "# Assign new column names\n",
    "df.columns = [\"text\", \"object_of_emotion\", \"emotion\"]\n",
    "df.head()"
   ]
  },
  {
   "cell_type": "markdown",
   "metadata": {},
   "source": [
    "Next, I take a look at the values of the categorical variables. The categories make sense, although the names are longer than necessary. I'm going to shorten some of them as well."
   ]
  },
  {
   "cell_type": "code",
   "execution_count": 7,
   "metadata": {
    "ExecuteTime": {
     "end_time": "2021-06-26T17:09:33.032888Z",
     "start_time": "2021-06-26T17:09:32.927885Z"
    }
   },
   "outputs": [
    {
     "data": {
      "text/html": [
       "<div>\n",
       "<style scoped>\n",
       "    .dataframe tbody tr th:only-of-type {\n",
       "        vertical-align: middle;\n",
       "    }\n",
       "\n",
       "    .dataframe tbody tr th {\n",
       "        vertical-align: top;\n",
       "    }\n",
       "\n",
       "    .dataframe thead th {\n",
       "        text-align: right;\n",
       "    }\n",
       "</style>\n",
       "<table border=\"1\" class=\"dataframe\">\n",
       "  <thead>\n",
       "    <tr style=\"text-align: right;\">\n",
       "      <th>object_of_emotion</th>\n",
       "      <th>emotion</th>\n",
       "    </tr>\n",
       "  </thead>\n",
       "  <tbody>\n",
       "    <tr>\n",
       "      <td>iPhone</td>\n",
       "      <td>Negative emotion</td>\n",
       "    </tr>\n",
       "    <tr>\n",
       "      <td>iPad or iPhone App</td>\n",
       "      <td>Positive emotion</td>\n",
       "    </tr>\n",
       "    <tr>\n",
       "      <td>iPad</td>\n",
       "      <td>No emotion toward brand or product</td>\n",
       "    </tr>\n",
       "    <tr>\n",
       "      <td>Google</td>\n",
       "      <td>I can't tell</td>\n",
       "    </tr>\n",
       "    <tr>\n",
       "      <td>Android</td>\n",
       "      <td></td>\n",
       "    </tr>\n",
       "    <tr>\n",
       "      <td>Apple</td>\n",
       "      <td></td>\n",
       "    </tr>\n",
       "    <tr>\n",
       "      <td>Android App</td>\n",
       "      <td></td>\n",
       "    </tr>\n",
       "    <tr>\n",
       "      <td>Other Google product or service</td>\n",
       "      <td></td>\n",
       "    </tr>\n",
       "    <tr>\n",
       "      <td>Other Apple product or service</td>\n",
       "      <td></td>\n",
       "    </tr>\n",
       "  </tbody>\n",
       "</table>\n",
       "</div>"
      ],
      "text/plain": [
       "<IPython.core.display.HTML object>"
      ]
     },
     "metadata": {},
     "output_type": "display_data"
    },
    {
     "data": {
      "application/javascript": [
       "\n",
       "            setTimeout(function() {\n",
       "                var nbb_cell_id = 7;\n",
       "                var nbb_unformatted_code = \"cleaning.show_uniques(df)\";\n",
       "                var nbb_formatted_code = \"cleaning.show_uniques(df)\";\n",
       "                var nbb_cells = Jupyter.notebook.get_cells();\n",
       "                for (var i = 0; i < nbb_cells.length; ++i) {\n",
       "                    if (nbb_cells[i].input_prompt_number == nbb_cell_id) {\n",
       "                        if (nbb_cells[i].get_text() == nbb_unformatted_code) {\n",
       "                             nbb_cells[i].set_text(nbb_formatted_code);\n",
       "                        }\n",
       "                        break;\n",
       "                    }\n",
       "                }\n",
       "            }, 500);\n",
       "            "
      ],
      "text/plain": [
       "<IPython.core.display.Javascript object>"
      ]
     },
     "metadata": {},
     "output_type": "display_data"
    }
   ],
   "source": [
    "cleaning.show_uniques(df)"
   ]
  },
  {
   "cell_type": "markdown",
   "metadata": {},
   "source": [
    "First, I convert the categorical columns to `CategoricalDtype`. This will make it easier to rename the categories, and is a convenient way to differentiate the categorical features from the text column."
   ]
  },
  {
   "cell_type": "code",
   "execution_count": 8,
   "metadata": {
    "ExecuteTime": {
     "end_time": "2021-06-26T17:09:33.138887Z",
     "start_time": "2021-06-26T17:09:33.034887Z"
    }
   },
   "outputs": [
    {
     "data": {
      "text/plain": [
       "0    Negative emotion\n",
       "1    Positive emotion\n",
       "2    Positive emotion\n",
       "Name: emotion, dtype: category\n",
       "Categories (4, object): ['I can't tell', 'Negative emotion', 'No emotion toward brand or product', 'Positive emotion']"
      ]
     },
     "metadata": {},
     "output_type": "display_data"
    },
    {
     "data": {
      "text/plain": [
       "0                iPhone\n",
       "1    iPad or iPhone App\n",
       "2                  iPad\n",
       "Name: object_of_emotion, dtype: category\n",
       "Categories (9, object): ['Android', 'Android App', 'Apple', 'Google', ..., 'Other Google product or service', 'iPad', 'iPad or iPhone App', 'iPhone']"
      ]
     },
     "metadata": {},
     "output_type": "display_data"
    },
    {
     "data": {
      "application/javascript": [
       "\n",
       "            setTimeout(function() {\n",
       "                var nbb_cell_id = 8;\n",
       "                var nbb_unformatted_code = \"# Convert categorical columns to categorical dtype\\ncat_cols = [\\\"emotion\\\", \\\"object_of_emotion\\\"]\\ndf[cat_cols] = df.loc[:, cat_cols].astype(\\\"category\\\")\\n\\n# Delete temp variable\\ndel cat_cols\\n\\n# Display results\\ndisplay(df[\\\"emotion\\\"].head(3), df[\\\"object_of_emotion\\\"].head(3))\";\n",
       "                var nbb_formatted_code = \"# Convert categorical columns to categorical dtype\\ncat_cols = [\\\"emotion\\\", \\\"object_of_emotion\\\"]\\ndf[cat_cols] = df.loc[:, cat_cols].astype(\\\"category\\\")\\n\\n# Delete temp variable\\ndel cat_cols\\n\\n# Display results\\ndisplay(df[\\\"emotion\\\"].head(3), df[\\\"object_of_emotion\\\"].head(3))\";\n",
       "                var nbb_cells = Jupyter.notebook.get_cells();\n",
       "                for (var i = 0; i < nbb_cells.length; ++i) {\n",
       "                    if (nbb_cells[i].input_prompt_number == nbb_cell_id) {\n",
       "                        if (nbb_cells[i].get_text() == nbb_unformatted_code) {\n",
       "                             nbb_cells[i].set_text(nbb_formatted_code);\n",
       "                        }\n",
       "                        break;\n",
       "                    }\n",
       "                }\n",
       "            }, 500);\n",
       "            "
      ],
      "text/plain": [
       "<IPython.core.display.Javascript object>"
      ]
     },
     "metadata": {},
     "output_type": "display_data"
    }
   ],
   "source": [
    "# Convert categorical columns to categorical dtype\n",
    "cat_cols = [\"emotion\", \"object_of_emotion\"]\n",
    "df[cat_cols] = df.loc[:, cat_cols].astype(\"category\")\n",
    "\n",
    "# Delete temp variable\n",
    "del cat_cols\n",
    "\n",
    "# Display results\n",
    "display(df[\"emotion\"].head(3), df[\"object_of_emotion\"].head(3))"
   ]
  },
  {
   "cell_type": "markdown",
   "metadata": {},
   "source": [
    "Next, I rename the categories for both categorical features.\n",
    "\n",
    "I use a single `dict` mapping old category names to new ones. I only need one `dict` for both features because the method `Series.cat.rename_categories(...)` ignores irrelevant keys."
   ]
  },
  {
   "cell_type": "code",
   "execution_count": 9,
   "metadata": {
    "ExecuteTime": {
     "end_time": "2021-06-26T17:09:33.256889Z",
     "start_time": "2021-06-26T17:09:33.139887Z"
    }
   },
   "outputs": [
    {
     "data": {
      "text/html": [
       "<div>\n",
       "<style scoped>\n",
       "    .dataframe tbody tr th:only-of-type {\n",
       "        vertical-align: middle;\n",
       "    }\n",
       "\n",
       "    .dataframe tbody tr th {\n",
       "        vertical-align: top;\n",
       "    }\n",
       "\n",
       "    .dataframe thead th {\n",
       "        text-align: right;\n",
       "    }\n",
       "</style>\n",
       "<table border=\"1\" class=\"dataframe\">\n",
       "  <thead>\n",
       "    <tr style=\"text-align: right;\">\n",
       "      <th>object_of_emotion</th>\n",
       "      <th>emotion</th>\n",
       "    </tr>\n",
       "  </thead>\n",
       "  <tbody>\n",
       "    <tr>\n",
       "      <td>iPhone</td>\n",
       "      <td>Negative</td>\n",
       "    </tr>\n",
       "    <tr>\n",
       "      <td>iOS App</td>\n",
       "      <td>Positive</td>\n",
       "    </tr>\n",
       "    <tr>\n",
       "      <td>iPad</td>\n",
       "      <td>Neutral</td>\n",
       "    </tr>\n",
       "    <tr>\n",
       "      <td>Google</td>\n",
       "      <td>Uncertain</td>\n",
       "    </tr>\n",
       "    <tr>\n",
       "      <td>Android</td>\n",
       "      <td></td>\n",
       "    </tr>\n",
       "    <tr>\n",
       "      <td>Apple</td>\n",
       "      <td></td>\n",
       "    </tr>\n",
       "    <tr>\n",
       "      <td>Android App</td>\n",
       "      <td></td>\n",
       "    </tr>\n",
       "    <tr>\n",
       "      <td>Other Google Product</td>\n",
       "      <td></td>\n",
       "    </tr>\n",
       "    <tr>\n",
       "      <td>Other Apple Product</td>\n",
       "      <td></td>\n",
       "    </tr>\n",
       "  </tbody>\n",
       "</table>\n",
       "</div>"
      ],
      "text/plain": [
       "<IPython.core.display.HTML object>"
      ]
     },
     "metadata": {},
     "output_type": "display_data"
    },
    {
     "data": {
      "application/javascript": [
       "\n",
       "            setTimeout(function() {\n",
       "                var nbb_cell_id = 9;\n",
       "                var nbb_unformatted_code = \"# Create mapping of old categories to new ones\\nnew_cats = {\\n    # New 'emotion' categories\\n    \\\"Negative emotion\\\": \\\"Negative\\\",\\n    \\\"Positive emotion\\\": \\\"Positive\\\",\\n    \\\"No emotion toward brand or product\\\": \\\"Neutral\\\",\\n    \\\"I can't tell\\\": \\\"Uncertain\\\",\\n    # New 'object_of_emotion' categories\\n    \\\"iPad or iPhone App\\\": \\\"iOS App\\\",\\n    \\\"Other Google product or service\\\": \\\"Other Google Product\\\",\\n    \\\"Other Apple product or service\\\": \\\"Other Apple Product\\\",\\n}\\n\\n# Rename categories in-place (ignores irrelevant keys)\\ndf[\\\"emotion\\\"].cat.rename_categories(new_cats, inplace=True)\\ndf[\\\"object_of_emotion\\\"].cat.rename_categories(new_cats, inplace=True)\\n\\n# Delete renaming dict\\ndel new_cats\\n\\n# Show results\\ncleaning.show_uniques(df)\";\n",
       "                var nbb_formatted_code = \"# Create mapping of old categories to new ones\\nnew_cats = {\\n    # New 'emotion' categories\\n    \\\"Negative emotion\\\": \\\"Negative\\\",\\n    \\\"Positive emotion\\\": \\\"Positive\\\",\\n    \\\"No emotion toward brand or product\\\": \\\"Neutral\\\",\\n    \\\"I can't tell\\\": \\\"Uncertain\\\",\\n    # New 'object_of_emotion' categories\\n    \\\"iPad or iPhone App\\\": \\\"iOS App\\\",\\n    \\\"Other Google product or service\\\": \\\"Other Google Product\\\",\\n    \\\"Other Apple product or service\\\": \\\"Other Apple Product\\\",\\n}\\n\\n# Rename categories in-place (ignores irrelevant keys)\\ndf[\\\"emotion\\\"].cat.rename_categories(new_cats, inplace=True)\\ndf[\\\"object_of_emotion\\\"].cat.rename_categories(new_cats, inplace=True)\\n\\n# Delete renaming dict\\ndel new_cats\\n\\n# Show results\\ncleaning.show_uniques(df)\";\n",
       "                var nbb_cells = Jupyter.notebook.get_cells();\n",
       "                for (var i = 0; i < nbb_cells.length; ++i) {\n",
       "                    if (nbb_cells[i].input_prompt_number == nbb_cell_id) {\n",
       "                        if (nbb_cells[i].get_text() == nbb_unformatted_code) {\n",
       "                             nbb_cells[i].set_text(nbb_formatted_code);\n",
       "                        }\n",
       "                        break;\n",
       "                    }\n",
       "                }\n",
       "            }, 500);\n",
       "            "
      ],
      "text/plain": [
       "<IPython.core.display.Javascript object>"
      ]
     },
     "metadata": {},
     "output_type": "display_data"
    }
   ],
   "source": [
    "# Create mapping of old categories to new ones\n",
    "new_cats = {\n",
    "    # New 'emotion' categories\n",
    "    \"Negative emotion\": \"Negative\",\n",
    "    \"Positive emotion\": \"Positive\",\n",
    "    \"No emotion toward brand or product\": \"Neutral\",\n",
    "    \"I can't tell\": \"Uncertain\",\n",
    "    # New 'object_of_emotion' categories\n",
    "    \"iPad or iPhone App\": \"iOS App\",\n",
    "    \"Other Google product or service\": \"Other Google Product\",\n",
    "    \"Other Apple product or service\": \"Other Apple Product\",\n",
    "}\n",
    "\n",
    "# Rename categories in-place (ignores irrelevant keys)\n",
    "df[\"emotion\"].cat.rename_categories(new_cats, inplace=True)\n",
    "df[\"object_of_emotion\"].cat.rename_categories(new_cats, inplace=True)\n",
    "\n",
    "# Delete renaming dict\n",
    "del new_cats\n",
    "\n",
    "# Show results\n",
    "cleaning.show_uniques(df)"
   ]
  },
  {
   "cell_type": "code",
   "execution_count": 10,
   "metadata": {
    "ExecuteTime": {
     "end_time": "2021-06-26T17:09:33.505915Z",
     "start_time": "2021-06-26T17:09:33.257887Z"
    }
   },
   "outputs": [
    {
     "data": {
      "text/plain": [
       "<AxesSubplot:title={'center':\"'emotion' Value Counts\"}, xlabel='Count'>"
      ]
     },
     "execution_count": 10,
     "metadata": {},
     "output_type": "execute_result"
    },
    {
     "data": {
      "image/png": "[encoded data removed]",
      "text/plain": [
       "<Figure size 360x360 with 1 Axes>"
      ]
     },
     "metadata": {
      "needs_background": "light"
     },
     "output_type": "display_data"
    },
    {
     "data": {
      "application/javascript": [
       "\n",
       "            setTimeout(function() {\n",
       "                var nbb_cell_id = 10;\n",
       "                var nbb_unformatted_code = \"plotting.countplot(df[\\\"emotion\\\"], normalize=True)\";\n",
       "                var nbb_formatted_code = \"plotting.countplot(df[\\\"emotion\\\"], normalize=True)\";\n",
       "                var nbb_cells = Jupyter.notebook.get_cells();\n",
       "                for (var i = 0; i < nbb_cells.length; ++i) {\n",
       "                    if (nbb_cells[i].input_prompt_number == nbb_cell_id) {\n",
       "                        if (nbb_cells[i].get_text() == nbb_unformatted_code) {\n",
       "                             nbb_cells[i].set_text(nbb_formatted_code);\n",
       "                        }\n",
       "                        break;\n",
       "                    }\n",
       "                }\n",
       "            }, 500);\n",
       "            "
      ],
      "text/plain": [
       "<IPython.core.display.Javascript object>"
      ]
     },
     "metadata": {},
     "output_type": "display_data"
    }
   ],
   "source": [
    "plotting.countplot(df[\"emotion\"], normalize=True)"
   ]
  },
  {
   "cell_type": "code",
   "execution_count": 11,
   "metadata": {
    "ExecuteTime": {
     "end_time": "2021-06-26T17:09:33.712886Z",
     "start_time": "2021-06-26T17:09:33.506887Z"
    }
   },
   "outputs": [
    {
     "data": {
      "text/plain": [
       "<AxesSubplot:title={'center':\"'emotion' Value Counts\"}, xlabel='Count'>"
      ]
     },
     "execution_count": 11,
     "metadata": {},
     "output_type": "execute_result"
    },
    {
     "data": {
      "image/png": "[encoded data removed]",
      "text/plain": [
       "<Figure size 360x360 with 1 Axes>"
      ]
     },
     "metadata": {
      "needs_background": "light"
     },
     "output_type": "display_data"
    },
    {
     "data": {
      "application/javascript": [
       "\n",
       "            setTimeout(function() {\n",
       "                var nbb_cell_id = 11;\n",
       "                var nbb_unformatted_code = \"# Remove 'Uncertain' category\\ndf.emotion.cat.remove_categories(\\\"Uncertain\\\", inplace=True)\\nplotting.countplot(df.emotion, normalize=True)\";\n",
       "                var nbb_formatted_code = \"# Remove 'Uncertain' category\\ndf.emotion.cat.remove_categories(\\\"Uncertain\\\", inplace=True)\\nplotting.countplot(df.emotion, normalize=True)\";\n",
       "                var nbb_cells = Jupyter.notebook.get_cells();\n",
       "                for (var i = 0; i < nbb_cells.length; ++i) {\n",
       "                    if (nbb_cells[i].input_prompt_number == nbb_cell_id) {\n",
       "                        if (nbb_cells[i].get_text() == nbb_unformatted_code) {\n",
       "                             nbb_cells[i].set_text(nbb_formatted_code);\n",
       "                        }\n",
       "                        break;\n",
       "                    }\n",
       "                }\n",
       "            }, 500);\n",
       "            "
      ],
      "text/plain": [
       "<IPython.core.display.Javascript object>"
      ]
     },
     "metadata": {},
     "output_type": "display_data"
    }
   ],
   "source": [
    "# Remove 'Uncertain' category\n",
    "df.emotion.cat.remove_categories(\"Uncertain\", inplace=True)\n",
    "plotting.countplot(df.emotion, normalize=True)"
   ]
  },
  {
   "cell_type": "markdown",
   "metadata": {},
   "source": [
    "## Missing Values\n",
    "\n",
    "According to the table below, there are a lot of missing values in the 'object_of_emotion' category. I bet, however, that these NaN values correspond to the 'Neutral' category. If a tweet doesn't express a brand-emotion, then there shouldn't be any brand in the 'object_of_emotion' column.\n",
    "\n",
    "There's also one null 'text' row, and a bunch of null 'emotion' rows where the 'Uncertain' category used to be."
   ]
  },
  {
   "cell_type": "code",
   "execution_count": 12,
   "metadata": {
    "ExecuteTime": {
     "end_time": "2021-06-26T17:09:33.832917Z",
     "start_time": "2021-06-26T17:09:33.713886Z"
    }
   },
   "outputs": [
    {
     "data": {
      "text/html": [
       "<div>\n",
       "<style scoped>\n",
       "    .dataframe tbody tr th:only-of-type {\n",
       "        vertical-align: middle;\n",
       "    }\n",
       "\n",
       "    .dataframe tbody tr th {\n",
       "        vertical-align: top;\n",
       "    }\n",
       "\n",
       "    .dataframe thead th {\n",
       "        text-align: right;\n",
       "    }\n",
       "</style>\n",
       "<table border=\"1\" class=\"dataframe\">\n",
       "  <thead>\n",
       "    <tr style=\"text-align: right;\">\n",
       "      <th></th>\n",
       "      <th>null</th>\n",
       "      <th>null_%</th>\n",
       "      <th>uniq</th>\n",
       "      <th>uniq_%</th>\n",
       "      <th>dup</th>\n",
       "      <th>dup_%</th>\n",
       "    </tr>\n",
       "  </thead>\n",
       "  <tbody>\n",
       "    <tr>\n",
       "      <th>object_of_emotion</th>\n",
       "      <td>5802</td>\n",
       "      <td>63.81</td>\n",
       "      <td>9</td>\n",
       "      <td>0.10</td>\n",
       "      <td>22</td>\n",
       "      <td>0.24</td>\n",
       "    </tr>\n",
       "    <tr>\n",
       "      <th>emotion</th>\n",
       "      <td>156</td>\n",
       "      <td>1.72</td>\n",
       "      <td>3</td>\n",
       "      <td>0.03</td>\n",
       "      <td>22</td>\n",
       "      <td>0.24</td>\n",
       "    </tr>\n",
       "    <tr>\n",
       "      <th>text</th>\n",
       "      <td>1</td>\n",
       "      <td>0.01</td>\n",
       "      <td>9065</td>\n",
       "      <td>99.69</td>\n",
       "      <td>22</td>\n",
       "      <td>0.24</td>\n",
       "    </tr>\n",
       "  </tbody>\n",
       "</table>\n",
       "</div>"
      ],
      "text/plain": [
       "                   null  null_%  uniq  uniq_%  dup  dup_%\n",
       "object_of_emotion  5802   63.81     9    0.10   22   0.24\n",
       "emotion             156    1.72     3    0.03   22   0.24\n",
       "text                  1    0.01  9065   99.69   22   0.24"
      ]
     },
     "execution_count": 12,
     "metadata": {},
     "output_type": "execute_result"
    },
    {
     "data": {
      "application/javascript": [
       "\n",
       "            setTimeout(function() {\n",
       "                var nbb_cell_id = 12;\n",
       "                var nbb_unformatted_code = \"cleaning.info(df)\";\n",
       "                var nbb_formatted_code = \"cleaning.info(df)\";\n",
       "                var nbb_cells = Jupyter.notebook.get_cells();\n",
       "                for (var i = 0; i < nbb_cells.length; ++i) {\n",
       "                    if (nbb_cells[i].input_prompt_number == nbb_cell_id) {\n",
       "                        if (nbb_cells[i].get_text() == nbb_unformatted_code) {\n",
       "                             nbb_cells[i].set_text(nbb_formatted_code);\n",
       "                        }\n",
       "                        break;\n",
       "                    }\n",
       "                }\n",
       "            }, 500);\n",
       "            "
      ],
      "text/plain": [
       "<IPython.core.display.Javascript object>"
      ]
     },
     "metadata": {},
     "output_type": "display_data"
    }
   ],
   "source": [
    "cleaning.info(df)"
   ]
  },
  {
   "cell_type": "markdown",
   "metadata": {},
   "source": [
    " I'll go ahead and drop the nulls in the 'text' and 'emotion' columns first."
   ]
  },
  {
   "cell_type": "code",
   "execution_count": 13,
   "metadata": {
    "ExecuteTime": {
     "end_time": "2021-06-26T17:09:33.946915Z",
     "start_time": "2021-06-26T17:09:33.833886Z"
    }
   },
   "outputs": [
    {
     "data": {
      "text/html": [
       "<div>\n",
       "<style scoped>\n",
       "    .dataframe tbody tr th:only-of-type {\n",
       "        vertical-align: middle;\n",
       "    }\n",
       "\n",
       "    .dataframe tbody tr th {\n",
       "        vertical-align: top;\n",
       "    }\n",
       "\n",
       "    .dataframe thead th {\n",
       "        text-align: right;\n",
       "    }\n",
       "</style>\n",
       "<table border=\"1\" class=\"dataframe\">\n",
       "  <thead>\n",
       "    <tr style=\"text-align: right;\">\n",
       "      <th></th>\n",
       "      <th>null</th>\n",
       "      <th>null_%</th>\n",
       "      <th>uniq</th>\n",
       "      <th>uniq_%</th>\n",
       "      <th>dup</th>\n",
       "      <th>dup_%</th>\n",
       "    </tr>\n",
       "  </thead>\n",
       "  <tbody>\n",
       "    <tr>\n",
       "      <th>object_of_emotion</th>\n",
       "      <td>5654</td>\n",
       "      <td>63.27</td>\n",
       "      <td>9</td>\n",
       "      <td>0.10</td>\n",
       "      <td>22</td>\n",
       "      <td>0.25</td>\n",
       "    </tr>\n",
       "    <tr>\n",
       "      <th>text</th>\n",
       "      <td>0</td>\n",
       "      <td>0.00</td>\n",
       "      <td>8909</td>\n",
       "      <td>99.70</td>\n",
       "      <td>22</td>\n",
       "      <td>0.25</td>\n",
       "    </tr>\n",
       "    <tr>\n",
       "      <th>emotion</th>\n",
       "      <td>0</td>\n",
       "      <td>0.00</td>\n",
       "      <td>3</td>\n",
       "      <td>0.03</td>\n",
       "      <td>22</td>\n",
       "      <td>0.25</td>\n",
       "    </tr>\n",
       "  </tbody>\n",
       "</table>\n",
       "</div>"
      ],
      "text/plain": [
       "                   null  null_%  uniq  uniq_%  dup  dup_%\n",
       "object_of_emotion  5654   63.27     9    0.10   22   0.25\n",
       "text                  0    0.00  8909   99.70   22   0.25\n",
       "emotion               0    0.00     3    0.03   22   0.25"
      ]
     },
     "execution_count": 13,
     "metadata": {},
     "output_type": "execute_result"
    },
    {
     "data": {
      "application/javascript": [
       "\n",
       "            setTimeout(function() {\n",
       "                var nbb_cell_id = 13;\n",
       "                var nbb_unformatted_code = \"df.dropna(subset=[\\\"text\\\", \\\"emotion\\\"], inplace=True)\\ncleaning.info(df)\";\n",
       "                var nbb_formatted_code = \"df.dropna(subset=[\\\"text\\\", \\\"emotion\\\"], inplace=True)\\ncleaning.info(df)\";\n",
       "                var nbb_cells = Jupyter.notebook.get_cells();\n",
       "                for (var i = 0; i < nbb_cells.length; ++i) {\n",
       "                    if (nbb_cells[i].input_prompt_number == nbb_cell_id) {\n",
       "                        if (nbb_cells[i].get_text() == nbb_unformatted_code) {\n",
       "                             nbb_cells[i].set_text(nbb_formatted_code);\n",
       "                        }\n",
       "                        break;\n",
       "                    }\n",
       "                }\n",
       "            }, 500);\n",
       "            "
      ],
      "text/plain": [
       "<IPython.core.display.Javascript object>"
      ]
     },
     "metadata": {},
     "output_type": "display_data"
    }
   ],
   "source": [
    "df.dropna(subset=[\"text\", \"emotion\"], inplace=True)\n",
    "cleaning.info(df)"
   ]
  },
  {
   "cell_type": "code",
   "execution_count": 14,
   "metadata": {
    "ExecuteTime": {
     "end_time": "2021-06-26T17:09:34.047913Z",
     "start_time": "2021-06-26T17:09:33.947886Z"
    }
   },
   "outputs": [
    {
     "data": {
      "text/markdown": [
       "|      | text                                                                                                                                    |\n",
       "|-----:|:----------------------------------------------------------------------------------------------------------------------------------------|\n",
       "| 5140 | RT @mention @mention New iPad Apps For Speech Therapy And Communication Are Showcased At #SXSW Conference {link} #sxswi #hcsm #sxswh    |\n",
       "|  509 | Please RT Follow the next big #college social network @mention chance to win an #iPad at 7,000 followers #socialmedia #SXSW             |\n",
       "| 4916 | millions of iPhone cases at #SXSW trade show but can any of them double as shuffleboard wax sprinklers? I think not. #fail (CC @mention |\n",
       "| 6384 | RT @mention not launching any products at #SXSW but we're doing plenty else.  {link}                                                    |\n",
       "|  790 | Google to Launch Major New Social Network Called Circles, Possibly Today {link} #sxsw&quot;                                             |\n",
       "| 8793 | Google giving Social another go? {link} Google Circles, let's see what the guys at #SXSW make of it                                     |\n",
       "| 8452 | @mention The unofficial #SXSW torrents are a great way to hear what you can expect this year {link}                                     |\n",
       "| 3645 | U gotta fight for yr right to party &amp; to privacy ACLU/google #sxsw #partylikeits1986                                                |\n",
       "|   61 | #futuremf @mention {link} spec for recipes on the web, now in google search: {link}  #sxsw                                              |\n",
       "| 4081 | Hope people ask the tough questions. RT @mention Reminder: Android and Chrome TTS talk @mention 1 PM today!  {link}  #sxsw              |"
      ],
      "text/plain": [
       "<IPython.core.display.Markdown object>"
      ]
     },
     "metadata": {},
     "output_type": "display_data"
    },
    {
     "data": {
      "application/javascript": [
       "\n",
       "            setTimeout(function() {\n",
       "                var nbb_cell_id = 14;\n",
       "                var nbb_unformatted_code = \"null_rows = cleaning.null_rows(df)\\nlang.readable_sample(null_rows[\\\"text\\\"], random_state=rando)\";\n",
       "                var nbb_formatted_code = \"null_rows = cleaning.null_rows(df)\\nlang.readable_sample(null_rows[\\\"text\\\"], random_state=rando)\";\n",
       "                var nbb_cells = Jupyter.notebook.get_cells();\n",
       "                for (var i = 0; i < nbb_cells.length; ++i) {\n",
       "                    if (nbb_cells[i].input_prompt_number == nbb_cell_id) {\n",
       "                        if (nbb_cells[i].get_text() == nbb_unformatted_code) {\n",
       "                             nbb_cells[i].set_text(nbb_formatted_code);\n",
       "                        }\n",
       "                        break;\n",
       "                    }\n",
       "                }\n",
       "            }, 500);\n",
       "            "
      ],
      "text/plain": [
       "<IPython.core.display.Javascript object>"
      ]
     },
     "metadata": {},
     "output_type": "display_data"
    }
   ],
   "source": [
    "null_rows = cleaning.null_rows(df)\n",
    "lang.readable_sample(null_rows[\"text\"], random_state=rando)"
   ]
  },
  {
   "cell_type": "markdown",
   "metadata": {},
   "source": [
    "Looks like some of the NaN values don't line up with the 'Neutral' category."
   ]
  },
  {
   "cell_type": "code",
   "execution_count": 15,
   "metadata": {
    "ExecuteTime": {
     "end_time": "2021-06-26T17:09:34.151886Z",
     "start_time": "2021-06-26T17:09:34.048888Z"
    }
   },
   "outputs": [
    {
     "data": {
      "text/html": [
       "<div>\n",
       "<style scoped>\n",
       "    .dataframe tbody tr th:only-of-type {\n",
       "        vertical-align: middle;\n",
       "    }\n",
       "\n",
       "    .dataframe tbody tr th {\n",
       "        vertical-align: top;\n",
       "    }\n",
       "\n",
       "    .dataframe thead th {\n",
       "        text-align: right;\n",
       "    }\n",
       "</style>\n",
       "<table border=\"1\" class=\"dataframe\">\n",
       "  <thead>\n",
       "    <tr style=\"text-align: right;\">\n",
       "      <th></th>\n",
       "      <th>text</th>\n",
       "      <th>object_of_emotion</th>\n",
       "      <th>emotion</th>\n",
       "    </tr>\n",
       "  </thead>\n",
       "  <tbody>\n",
       "    <tr>\n",
       "      <th>46</th>\n",
       "      <td>Hand-Held ���Hobo�۪: Drafthouse launches ���Ho...</td>\n",
       "      <td>NaN</td>\n",
       "      <td>Positive</td>\n",
       "    </tr>\n",
       "    <tr>\n",
       "      <th>64</th>\n",
       "      <td>Again? RT @mention Line at the Apple store is ...</td>\n",
       "      <td>NaN</td>\n",
       "      <td>Negative</td>\n",
       "    </tr>\n",
       "    <tr>\n",
       "      <th>68</th>\n",
       "      <td>Boooo! RT @mention Flipboard is developing an ...</td>\n",
       "      <td>NaN</td>\n",
       "      <td>Negative</td>\n",
       "    </tr>\n",
       "    <tr>\n",
       "      <th>103</th>\n",
       "      <td>Know that &amp;quot;dataviz&amp;quot; translates to &amp;q...</td>\n",
       "      <td>NaN</td>\n",
       "      <td>Negative</td>\n",
       "    </tr>\n",
       "    <tr>\n",
       "      <th>112</th>\n",
       "      <td>Spark for #android is up for a #teamandroid aw...</td>\n",
       "      <td>NaN</td>\n",
       "      <td>Positive</td>\n",
       "    </tr>\n",
       "  </tbody>\n",
       "</table>\n",
       "</div>"
      ],
      "text/plain": [
       "                                                  text object_of_emotion  \\\n",
       "46   Hand-Held ���Hobo�۪: Drafthouse launches ���Ho...               NaN   \n",
       "64   Again? RT @mention Line at the Apple store is ...               NaN   \n",
       "68   Boooo! RT @mention Flipboard is developing an ...               NaN   \n",
       "103  Know that &quot;dataviz&quot; translates to &q...               NaN   \n",
       "112  Spark for #android is up for a #teamandroid aw...               NaN   \n",
       "\n",
       "      emotion  \n",
       "46   Positive  \n",
       "64   Negative  \n",
       "68   Negative  \n",
       "103  Negative  \n",
       "112  Positive  "
      ]
     },
     "metadata": {},
     "output_type": "display_data"
    },
    {
     "data": {
      "text/plain": [
       "(357, 3)"
      ]
     },
     "metadata": {},
     "output_type": "display_data"
    },
    {
     "data": {
      "application/javascript": [
       "\n",
       "            setTimeout(function() {\n",
       "                var nbb_cell_id = 15;\n",
       "                var nbb_unformatted_code = \"emotion_without_object = null_rows.loc[null_rows.emotion != \\\"Neutral\\\"]\\n\\n# Delete variable\\ndel null_rows\\n\\ndisplay(emotion_without_object.head(), emotion_without_object.shape)\";\n",
       "                var nbb_formatted_code = \"emotion_without_object = null_rows.loc[null_rows.emotion != \\\"Neutral\\\"]\\n\\n# Delete variable\\ndel null_rows\\n\\ndisplay(emotion_without_object.head(), emotion_without_object.shape)\";\n",
       "                var nbb_cells = Jupyter.notebook.get_cells();\n",
       "                for (var i = 0; i < nbb_cells.length; ++i) {\n",
       "                    if (nbb_cells[i].input_prompt_number == nbb_cell_id) {\n",
       "                        if (nbb_cells[i].get_text() == nbb_unformatted_code) {\n",
       "                             nbb_cells[i].set_text(nbb_formatted_code);\n",
       "                        }\n",
       "                        break;\n",
       "                    }\n",
       "                }\n",
       "            }, 500);\n",
       "            "
      ],
      "text/plain": [
       "<IPython.core.display.Javascript object>"
      ]
     },
     "metadata": {},
     "output_type": "display_data"
    }
   ],
   "source": [
    "emotion_without_object = null_rows.loc[null_rows.emotion != \"Neutral\"]\n",
    "\n",
    "# Delete variable\n",
    "del null_rows\n",
    "\n",
    "display(emotion_without_object.head(), emotion_without_object.shape)"
   ]
  },
  {
   "cell_type": "code",
   "execution_count": 16,
   "metadata": {
    "ExecuteTime": {
     "end_time": "2021-06-26T17:09:34.252888Z",
     "start_time": "2021-06-26T17:09:34.152887Z"
    }
   },
   "outputs": [
    {
     "data": {
      "text/markdown": [
       "|      | text                                                                                                                                                  |\n",
       "|-----:|:------------------------------------------------------------------------------------------------------------------------------------------------------|\n",
       "| 3353 | Whoohoo! Got it! ;) RT @mention New #UberSocial for #iPhone now in the App Store includes UberGuide to #SXSW (cont) {link}                            |\n",
       "| 3928 | dancing with myself at google 80s party.... ain't that the truth! need my girl @mention up in this joint #SXSW {link}                                 |\n",
       "|  783 | Google to Launch Major New Social Network Called Circles, Possibly Today {link} #sxsw rt @mention via @mention                                        |\n",
       "| 1365 | @mention - re: &quot;lack of #SXSW newsworthy announcements&quot;. Unless you count Google Circles. :) #googlecircles                                 |\n",
       "| 5307 | RT @mention #SXSW News: Apple is getting into the music business? New device called an &quot;iPod&quot;. Like a compact disc player without the disk. |\n",
       "| 2447 | Near Field Communication already here on android phones. #SXSW #bemyneighbor                                                                          |\n",
       "| 7530 | #spiltbeer consequences of drunk techies #sxsw let's see what android has to offer compared to this.                                                  |\n",
       "| 5965 | RT @mention Having fun w/ @mention new Check-In's feature on iPhone | See @mention latest article &quot;Roll your own 4square&quot; {link} #SXSW      |\n",
       "| 3442 | Back in the big apple!  Need to wean off my new foursquare addiction thanks to #sxsw and @mention Do people really care where I am? Nah               |\n",
       "| 3780 | FYI @mention is working on an iPhone app, looking to release it this summer, hopefully. #SXSW #flipboard                                              |"
      ],
      "text/plain": [
       "<IPython.core.display.Markdown object>"
      ]
     },
     "metadata": {},
     "output_type": "display_data"
    },
    {
     "data": {
      "application/javascript": [
       "\n",
       "            setTimeout(function() {\n",
       "                var nbb_cell_id = 16;\n",
       "                var nbb_unformatted_code = \"lang.readable_sample(\\n    emotion_without_object.groupby(\\\"emotion\\\").get_group(\\\"Positive\\\").text,\\n    random_state=rando,\\n)\";\n",
       "                var nbb_formatted_code = \"lang.readable_sample(\\n    emotion_without_object.groupby(\\\"emotion\\\").get_group(\\\"Positive\\\").text,\\n    random_state=rando,\\n)\";\n",
       "                var nbb_cells = Jupyter.notebook.get_cells();\n",
       "                for (var i = 0; i < nbb_cells.length; ++i) {\n",
       "                    if (nbb_cells[i].input_prompt_number == nbb_cell_id) {\n",
       "                        if (nbb_cells[i].get_text() == nbb_unformatted_code) {\n",
       "                             nbb_cells[i].set_text(nbb_formatted_code);\n",
       "                        }\n",
       "                        break;\n",
       "                    }\n",
       "                }\n",
       "            }, 500);\n",
       "            "
      ],
      "text/plain": [
       "<IPython.core.display.Javascript object>"
      ]
     },
     "metadata": {},
     "output_type": "display_data"
    }
   ],
   "source": [
    "lang.readable_sample(\n",
    "    emotion_without_object.groupby(\"emotion\").get_group(\"Positive\").text,\n",
    "    random_state=rando,\n",
    ")"
   ]
  },
  {
   "cell_type": "code",
   "execution_count": 17,
   "metadata": {
    "ExecuteTime": {
     "end_time": "2021-06-26T17:09:34.370887Z",
     "start_time": "2021-06-26T17:09:34.253887Z"
    }
   },
   "outputs": [
    {
     "data": {
      "text/plain": [
       "google         122\n",
       "ipad            98\n",
       "apple           76\n",
       "iphone          57\n",
       "ipad2           26\n",
       "android         19\n",
       "iphone app       8\n",
       "ipad app         4\n",
       "ipad1            1\n",
       "android app      1\n",
       "Name: locate_patterns, dtype: int64"
      ]
     },
     "metadata": {},
     "output_type": "display_data"
    },
    {
     "data": {
      "text/plain": [
       "412"
      ]
     },
     "metadata": {},
     "output_type": "display_data"
    },
    {
     "data": {
      "application/javascript": [
       "\n",
       "            setTimeout(function() {\n",
       "                var nbb_cell_id = 17;\n",
       "                var nbb_unformatted_code = \"# Create regex for finding each brand\\nre_apple = r\\\"ipad\\\\d?\\\\s*app|ipad\\\\d?|iphone\\\\s*app|iphone|apple\\\"\\nre_google = r\\\"android\\\\s*app|android|google\\\"\\n\\n# Find all brand/product name occurrences for each brand\\nfindings = lang.locate_patterns(\\n    re_apple,\\n    re_google,\\n    strings=emotion_without_object[\\\"text\\\"],\\n    exclusive=True,\\n    flags=re.I,\\n)\\n\\n# Convert to lowercase\\nfindings = findings.str.lower()\\n\\n# View results\\ndisplay(\\n    findings.value_counts(),\\n    findings.size,\\n)\";\n",
       "                var nbb_formatted_code = \"# Create regex for finding each brand\\nre_apple = r\\\"ipad\\\\d?\\\\s*app|ipad\\\\d?|iphone\\\\s*app|iphone|apple\\\"\\nre_google = r\\\"android\\\\s*app|android|google\\\"\\n\\n# Find all brand/product name occurrences for each brand\\nfindings = lang.locate_patterns(\\n    re_apple,\\n    re_google,\\n    strings=emotion_without_object[\\\"text\\\"],\\n    exclusive=True,\\n    flags=re.I,\\n)\\n\\n# Convert to lowercase\\nfindings = findings.str.lower()\\n\\n# View results\\ndisplay(\\n    findings.value_counts(),\\n    findings.size,\\n)\";\n",
       "                var nbb_cells = Jupyter.notebook.get_cells();\n",
       "                for (var i = 0; i < nbb_cells.length; ++i) {\n",
       "                    if (nbb_cells[i].input_prompt_number == nbb_cell_id) {\n",
       "                        if (nbb_cells[i].get_text() == nbb_unformatted_code) {\n",
       "                             nbb_cells[i].set_text(nbb_formatted_code);\n",
       "                        }\n",
       "                        break;\n",
       "                    }\n",
       "                }\n",
       "            }, 500);\n",
       "            "
      ],
      "text/plain": [
       "<IPython.core.display.Javascript object>"
      ]
     },
     "metadata": {},
     "output_type": "display_data"
    }
   ],
   "source": [
    "# Create regex for finding each brand\n",
    "re_apple = r\"ipad\\d?\\s*app|ipad\\d?|iphone\\s*app|iphone|apple\"\n",
    "re_google = r\"android\\s*app|android|google\"\n",
    "\n",
    "# Find all brand/product name occurrences for each brand\n",
    "findings = lang.locate_patterns(\n",
    "    re_apple,\n",
    "    re_google,\n",
    "    strings=emotion_without_object[\"text\"],\n",
    "    exclusive=True,\n",
    "    flags=re.I,\n",
    ")\n",
    "\n",
    "# Convert to lowercase\n",
    "findings = findings.str.lower()\n",
    "\n",
    "# View results\n",
    "display(\n",
    "    findings.value_counts(),\n",
    "    findings.size,\n",
    ")"
   ]
  },
  {
   "cell_type": "code",
   "execution_count": 18,
   "metadata": {
    "ExecuteTime": {
     "end_time": "2021-06-26T17:09:34.591886Z",
     "start_time": "2021-06-26T17:09:34.371885Z"
    }
   },
   "outputs": [
    {
     "data": {
      "text/html": [
       "<div>\n",
       "<style scoped>\n",
       "    .dataframe tbody tr th:only-of-type {\n",
       "        vertical-align: middle;\n",
       "    }\n",
       "\n",
       "    .dataframe tbody tr th {\n",
       "        vertical-align: top;\n",
       "    }\n",
       "\n",
       "    .dataframe thead th {\n",
       "        text-align: right;\n",
       "    }\n",
       "</style>\n",
       "<table border=\"1\" class=\"dataframe\">\n",
       "  <thead>\n",
       "    <tr style=\"text-align: right;\">\n",
       "      <th></th>\n",
       "      <th>original</th>\n",
       "      <th>match</th>\n",
       "      <th>score</th>\n",
       "    </tr>\n",
       "  </thead>\n",
       "  <tbody>\n",
       "    <tr>\n",
       "      <th>5401</th>\n",
       "      <td>ipad2</td>\n",
       "      <td>iPad</td>\n",
       "      <td>89</td>\n",
       "    </tr>\n",
       "    <tr>\n",
       "      <th>3179</th>\n",
       "      <td>ipad2</td>\n",
       "      <td>iPad</td>\n",
       "      <td>89</td>\n",
       "    </tr>\n",
       "    <tr>\n",
       "      <th>8149</th>\n",
       "      <td>ipad2</td>\n",
       "      <td>iPad</td>\n",
       "      <td>89</td>\n",
       "    </tr>\n",
       "    <tr>\n",
       "      <th>6309</th>\n",
       "      <td>ipad2</td>\n",
       "      <td>iPad</td>\n",
       "      <td>89</td>\n",
       "    </tr>\n",
       "    <tr>\n",
       "      <th>3710</th>\n",
       "      <td>ipad2</td>\n",
       "      <td>iPad</td>\n",
       "      <td>89</td>\n",
       "    </tr>\n",
       "    <tr>\n",
       "      <th>...</th>\n",
       "      <td>...</td>\n",
       "      <td>...</td>\n",
       "      <td>...</td>\n",
       "    </tr>\n",
       "    <tr>\n",
       "      <th>3224</th>\n",
       "      <td>ipad</td>\n",
       "      <td>iPad</td>\n",
       "      <td>100</td>\n",
       "    </tr>\n",
       "    <tr>\n",
       "      <th>3179</th>\n",
       "      <td>ipad</td>\n",
       "      <td>iPad</td>\n",
       "      <td>100</td>\n",
       "    </tr>\n",
       "    <tr>\n",
       "      <th>3134</th>\n",
       "      <td>google</td>\n",
       "      <td>Google</td>\n",
       "      <td>100</td>\n",
       "    </tr>\n",
       "    <tr>\n",
       "      <th>3055</th>\n",
       "      <td>ipad</td>\n",
       "      <td>iPad</td>\n",
       "      <td>100</td>\n",
       "    </tr>\n",
       "    <tr>\n",
       "      <th>9054</th>\n",
       "      <td>ipad</td>\n",
       "      <td>iPad</td>\n",
       "      <td>100</td>\n",
       "    </tr>\n",
       "  </tbody>\n",
       "</table>\n",
       "<p>412 rows × 3 columns</p>\n",
       "</div>"
      ],
      "text/plain": [
       "     original   match  score\n",
       "5401    ipad2    iPad     89\n",
       "3179    ipad2    iPad     89\n",
       "8149    ipad2    iPad     89\n",
       "6309    ipad2    iPad     89\n",
       "3710    ipad2    iPad     89\n",
       "...       ...     ...    ...\n",
       "3224     ipad    iPad    100\n",
       "3179     ipad    iPad    100\n",
       "3134   google  Google    100\n",
       "3055     ipad    iPad    100\n",
       "9054     ipad    iPad    100\n",
       "\n",
       "[412 rows x 3 columns]"
      ]
     },
     "execution_count": 18,
     "metadata": {},
     "output_type": "execute_result"
    },
    {
     "data": {
      "application/javascript": [
       "\n",
       "            setTimeout(function() {\n",
       "                var nbb_cell_id = 18;\n",
       "                var nbb_unformatted_code = \"# Rename Apple apps to match categories defined previously\\nfindings = findings.str.replace(\\n    r\\\"ipad\\\\s+app|iphone\\\\s+app\\\", \\\"ios app\\\", case=False, regex=True\\n)\\n\\n# Fuzzy match with previously defined categories\\nfindings = lang.fuzzy_match(findings, df[\\\"object_of_emotion\\\"].cat.categories)\\n\\n# View results\\nfindings.sort_values(\\\"score\\\")\";\n",
       "                var nbb_formatted_code = \"# Rename Apple apps to match categories defined previously\\nfindings = findings.str.replace(\\n    r\\\"ipad\\\\s+app|iphone\\\\s+app\\\", \\\"ios app\\\", case=False, regex=True\\n)\\n\\n# Fuzzy match with previously defined categories\\nfindings = lang.fuzzy_match(findings, df[\\\"object_of_emotion\\\"].cat.categories)\\n\\n# View results\\nfindings.sort_values(\\\"score\\\")\";\n",
       "                var nbb_cells = Jupyter.notebook.get_cells();\n",
       "                for (var i = 0; i < nbb_cells.length; ++i) {\n",
       "                    if (nbb_cells[i].input_prompt_number == nbb_cell_id) {\n",
       "                        if (nbb_cells[i].get_text() == nbb_unformatted_code) {\n",
       "                             nbb_cells[i].set_text(nbb_formatted_code);\n",
       "                        }\n",
       "                        break;\n",
       "                    }\n",
       "                }\n",
       "            }, 500);\n",
       "            "
      ],
      "text/plain": [
       "<IPython.core.display.Javascript object>"
      ]
     },
     "metadata": {},
     "output_type": "display_data"
    }
   ],
   "source": [
    "# Rename Apple apps to match categories defined previously\n",
    "findings = findings.str.replace(\n",
    "    r\"ipad\\s+app|iphone\\s+app\", \"ios app\", case=False, regex=True\n",
    ")\n",
    "\n",
    "# Fuzzy match with previously defined categories\n",
    "findings = lang.fuzzy_match(findings, df[\"object_of_emotion\"].cat.categories)\n",
    "\n",
    "# View results\n",
    "findings.sort_values(\"score\")"
   ]
  },
  {
   "cell_type": "code",
   "execution_count": 19,
   "metadata": {
    "ExecuteTime": {
     "end_time": "2021-06-26T17:09:34.801886Z",
     "start_time": "2021-06-26T17:09:34.592886Z"
    },
    "run_control": {
     "marked": false
    }
   },
   "outputs": [
    {
     "data": {
      "text/html": [
       "<div>\n",
       "<style scoped>\n",
       "    .dataframe tbody tr th:only-of-type {\n",
       "        vertical-align: middle;\n",
       "    }\n",
       "\n",
       "    .dataframe tbody tr th {\n",
       "        vertical-align: top;\n",
       "    }\n",
       "\n",
       "    .dataframe thead th {\n",
       "        text-align: right;\n",
       "    }\n",
       "</style>\n",
       "<table border=\"1\" class=\"dataframe\">\n",
       "  <thead>\n",
       "    <tr style=\"text-align: right;\">\n",
       "      <th></th>\n",
       "      <th>text</th>\n",
       "      <th>object_of_emotion</th>\n",
       "      <th>emotion</th>\n",
       "    </tr>\n",
       "  </thead>\n",
       "  <tbody>\n",
       "    <tr>\n",
       "      <th>598</th>\n",
       "      <td>CNNMoney: Got a craving? #SXSW minds created a...</td>\n",
       "      <td>iPhone</td>\n",
       "      <td>Positive</td>\n",
       "    </tr>\n",
       "    <tr>\n",
       "      <th>5401</th>\n",
       "      <td>RT @mention Anyone at #sxsw want to make a qui...</td>\n",
       "      <td>iPad</td>\n",
       "      <td>Positive</td>\n",
       "    </tr>\n",
       "    <tr>\n",
       "      <th>5212</th>\n",
       "      <td>RT @mention #Apple saves #SXSW, set to open po...</td>\n",
       "      <td>Apple</td>\n",
       "      <td>Positive</td>\n",
       "    </tr>\n",
       "    <tr>\n",
       "      <th>639</th>\n",
       "      <td>Catch 22��_ I mean iPad 2 at #SXSW - {link} #a...</td>\n",
       "      <td>iPad</td>\n",
       "      <td>Positive</td>\n",
       "    </tr>\n",
       "    <tr>\n",
       "      <th>5586</th>\n",
       "      <td>RT @mention Buying iPad2? Turn in ur iPad1, Ap...</td>\n",
       "      <td>iPad</td>\n",
       "      <td>Positive</td>\n",
       "    </tr>\n",
       "    <tr>\n",
       "      <th>8898</th>\n",
       "      <td>@mention What's the wait time lookin like? The...</td>\n",
       "      <td>Apple</td>\n",
       "      <td>Positive</td>\n",
       "    </tr>\n",
       "    <tr>\n",
       "      <th>6371</th>\n",
       "      <td>RT @mention Nice! @mention just told me @menti...</td>\n",
       "      <td>iPad</td>\n",
       "      <td>Positive</td>\n",
       "    </tr>\n",
       "    <tr>\n",
       "      <th>7680</th>\n",
       "      <td>Google (tries again) to launch a new social ne...</td>\n",
       "      <td>Google</td>\n",
       "      <td>Negative</td>\n",
       "    </tr>\n",
       "    <tr>\n",
       "      <th>1813</th>\n",
       "      <td>3rd time a charm? All about privacy! RT @menti...</td>\n",
       "      <td>Google</td>\n",
       "      <td>Positive</td>\n",
       "    </tr>\n",
       "    <tr>\n",
       "      <th>1284</th>\n",
       "      <td>Trying to update software (4.0) on iPhone to d...</td>\n",
       "      <td>iPhone</td>\n",
       "      <td>Negative</td>\n",
       "    </tr>\n",
       "  </tbody>\n",
       "</table>\n",
       "</div>"
      ],
      "text/plain": [
       "                                                   text object_of_emotion  \\\n",
       "598   CNNMoney: Got a craving? #SXSW minds created a...            iPhone   \n",
       "5401  RT @mention Anyone at #sxsw want to make a qui...              iPad   \n",
       "5212  RT @mention #Apple saves #SXSW, set to open po...             Apple   \n",
       "639   Catch 22��_ I mean iPad 2 at #SXSW - {link} #a...              iPad   \n",
       "5586  RT @mention Buying iPad2? Turn in ur iPad1, Ap...              iPad   \n",
       "8898  @mention What's the wait time lookin like? The...             Apple   \n",
       "6371  RT @mention Nice! @mention just told me @menti...              iPad   \n",
       "7680  Google (tries again) to launch a new social ne...            Google   \n",
       "1813  3rd time a charm? All about privacy! RT @menti...            Google   \n",
       "1284  Trying to update software (4.0) on iPhone to d...            iPhone   \n",
       "\n",
       "       emotion  \n",
       "598   Positive  \n",
       "5401  Positive  \n",
       "5212  Positive  \n",
       "639   Positive  \n",
       "5586  Positive  \n",
       "8898  Positive  \n",
       "6371  Positive  \n",
       "7680  Negative  \n",
       "1813  Positive  \n",
       "1284  Negative  "
      ]
     },
     "execution_count": 19,
     "metadata": {},
     "output_type": "execute_result"
    },
    {
     "data": {
      "application/javascript": [
       "\n",
       "            setTimeout(function() {\n",
       "                var nbb_cell_id = 19;\n",
       "                var nbb_unformatted_code = \"# Define sort order, i.e. fill priority\\norder = [\\n    \\\"iOS App\\\",\\n    \\\"Android App\\\",\\n    \\\"iPhone\\\",\\n    \\\"iPad\\\",\\n    \\\"Android\\\",\\n    \\\"Apple\\\",\\n    \\\"Google\\\",\\n]\\n\\n# Sort values in reverse order\\nutils.explicit_sort(\\n    findings,\\n    order=order,\\n    by=\\\"match\\\",\\n    ascending=False,\\n    inplace=True,\\n)\\n\\n# Fill in reverse, overwriting lower priority values\\nfor i, brand in findings.match.items():\\n    df.at[i, \\\"object_of_emotion\\\"] = brand\\ndf.loc[findings.index].sample(10, random_state=rando)\";\n",
       "                var nbb_formatted_code = \"# Define sort order, i.e. fill priority\\norder = [\\n    \\\"iOS App\\\",\\n    \\\"Android App\\\",\\n    \\\"iPhone\\\",\\n    \\\"iPad\\\",\\n    \\\"Android\\\",\\n    \\\"Apple\\\",\\n    \\\"Google\\\",\\n]\\n\\n# Sort values in reverse order\\nutils.explicit_sort(\\n    findings,\\n    order=order,\\n    by=\\\"match\\\",\\n    ascending=False,\\n    inplace=True,\\n)\\n\\n# Fill in reverse, overwriting lower priority values\\nfor i, brand in findings.match.items():\\n    df.at[i, \\\"object_of_emotion\\\"] = brand\\ndf.loc[findings.index].sample(10, random_state=rando)\";\n",
       "                var nbb_cells = Jupyter.notebook.get_cells();\n",
       "                for (var i = 0; i < nbb_cells.length; ++i) {\n",
       "                    if (nbb_cells[i].input_prompt_number == nbb_cell_id) {\n",
       "                        if (nbb_cells[i].get_text() == nbb_unformatted_code) {\n",
       "                             nbb_cells[i].set_text(nbb_formatted_code);\n",
       "                        }\n",
       "                        break;\n",
       "                    }\n",
       "                }\n",
       "            }, 500);\n",
       "            "
      ],
      "text/plain": [
       "<IPython.core.display.Javascript object>"
      ]
     },
     "metadata": {},
     "output_type": "display_data"
    }
   ],
   "source": [
    "# Define sort order, i.e. fill priority\n",
    "order = [\n",
    "    \"iOS App\",\n",
    "    \"Android App\",\n",
    "    \"iPhone\",\n",
    "    \"iPad\",\n",
    "    \"Android\",\n",
    "    \"Apple\",\n",
    "    \"Google\",\n",
    "]\n",
    "\n",
    "# Sort values in reverse order\n",
    "utils.explicit_sort(\n",
    "    findings,\n",
    "    order=order,\n",
    "    by=\"match\",\n",
    "    ascending=False,\n",
    "    inplace=True,\n",
    ")\n",
    "\n",
    "# Fill in reverse, overwriting lower priority values\n",
    "for i, brand in findings.match.items():\n",
    "    df.at[i, \"object_of_emotion\"] = brand\n",
    "df.loc[findings.index].sample(10, random_state=rando)"
   ]
  },
  {
   "cell_type": "code",
   "execution_count": 20,
   "metadata": {
    "ExecuteTime": {
     "end_time": "2021-06-26T17:09:34.900886Z",
     "start_time": "2021-06-26T17:09:34.802887Z"
    },
    "run_control": {
     "marked": false
    }
   },
   "outputs": [
    {
     "name": "stdout",
     "output_type": "stream",
     "text": [
      "24 observations dropped.\n"
     ]
    },
    {
     "data": {
      "application/javascript": [
       "\n",
       "            setTimeout(function() {\n",
       "                var nbb_cell_id = 20;\n",
       "                var nbb_unformatted_code = \"# Get indices which were not filled\\nemotion_without_object.drop(findings.index, inplace=True)\\n\\n# Drop unfilled observations\\ndf.drop(emotion_without_object.index, inplace=True)\\n\\nprint(f\\\"{emotion_without_object.shape[0]} observations dropped.\\\")\\n\\ndel emotion_without_object\";\n",
       "                var nbb_formatted_code = \"# Get indices which were not filled\\nemotion_without_object.drop(findings.index, inplace=True)\\n\\n# Drop unfilled observations\\ndf.drop(emotion_without_object.index, inplace=True)\\n\\nprint(f\\\"{emotion_without_object.shape[0]} observations dropped.\\\")\\n\\ndel emotion_without_object\";\n",
       "                var nbb_cells = Jupyter.notebook.get_cells();\n",
       "                for (var i = 0; i < nbb_cells.length; ++i) {\n",
       "                    if (nbb_cells[i].input_prompt_number == nbb_cell_id) {\n",
       "                        if (nbb_cells[i].get_text() == nbb_unformatted_code) {\n",
       "                             nbb_cells[i].set_text(nbb_formatted_code);\n",
       "                        }\n",
       "                        break;\n",
       "                    }\n",
       "                }\n",
       "            }, 500);\n",
       "            "
      ],
      "text/plain": [
       "<IPython.core.display.Javascript object>"
      ]
     },
     "metadata": {},
     "output_type": "display_data"
    }
   ],
   "source": [
    "# Get indices which were not filled\n",
    "emotion_without_object.drop(findings.index, inplace=True)\n",
    "\n",
    "# Drop unfilled observations\n",
    "df.drop(emotion_without_object.index, inplace=True)\n",
    "\n",
    "print(f\"{emotion_without_object.shape[0]} observations dropped.\")\n",
    "\n",
    "del emotion_without_object"
   ]
  },
  {
   "cell_type": "code",
   "execution_count": 21,
   "metadata": {
    "ExecuteTime": {
     "end_time": "2021-06-26T17:09:35.003890Z",
     "start_time": "2021-06-26T17:09:34.901886Z"
    },
    "scrolled": true
   },
   "outputs": [
    {
     "data": {
      "text/html": [
       "<div>\n",
       "<style scoped>\n",
       "    .dataframe tbody tr th:only-of-type {\n",
       "        vertical-align: middle;\n",
       "    }\n",
       "\n",
       "    .dataframe tbody tr th {\n",
       "        vertical-align: top;\n",
       "    }\n",
       "\n",
       "    .dataframe thead th {\n",
       "        text-align: right;\n",
       "    }\n",
       "</style>\n",
       "<table border=\"1\" class=\"dataframe\">\n",
       "  <thead>\n",
       "    <tr style=\"text-align: right;\">\n",
       "      <th></th>\n",
       "      <th>text</th>\n",
       "      <th>object_of_emotion</th>\n",
       "      <th>emotion</th>\n",
       "    </tr>\n",
       "  </thead>\n",
       "  <tbody>\n",
       "    <tr>\n",
       "      <th>63</th>\n",
       "      <td>#Smile RT @mention I think Apple's &amp;quot;pop-u...</td>\n",
       "      <td>Apple</td>\n",
       "      <td>Neutral</td>\n",
       "    </tr>\n",
       "    <tr>\n",
       "      <th>265</th>\n",
       "      <td>The #SXSW Apple &amp;quot;pop-up&amp;quot; store was n...</td>\n",
       "      <td>Apple</td>\n",
       "      <td>Neutral</td>\n",
       "    </tr>\n",
       "    <tr>\n",
       "      <th>317</th>\n",
       "      <td>I arrived at #sxsw and my @mention issue hasn'...</td>\n",
       "      <td>iOS App</td>\n",
       "      <td>Neutral</td>\n",
       "    </tr>\n",
       "    <tr>\n",
       "      <th>558</th>\n",
       "      <td>haha. the google &amp;quot;Party like it's 1986&amp;qu...</td>\n",
       "      <td>Google</td>\n",
       "      <td>Neutral</td>\n",
       "    </tr>\n",
       "    <tr>\n",
       "      <th>588</th>\n",
       "      <td>Diller on Google TV: &amp;quot;The first product w...</td>\n",
       "      <td>Other Google Product</td>\n",
       "      <td>Neutral</td>\n",
       "    </tr>\n",
       "  </tbody>\n",
       "</table>\n",
       "</div>"
      ],
      "text/plain": [
       "                                                  text     object_of_emotion  \\\n",
       "63   #Smile RT @mention I think Apple's &quot;pop-u...                 Apple   \n",
       "265  The #SXSW Apple &quot;pop-up&quot; store was n...                 Apple   \n",
       "317  I arrived at #sxsw and my @mention issue hasn'...               iOS App   \n",
       "558  haha. the google &quot;Party like it's 1986&qu...                Google   \n",
       "588  Diller on Google TV: &quot;The first product w...  Other Google Product   \n",
       "\n",
       "     emotion  \n",
       "63   Neutral  \n",
       "265  Neutral  \n",
       "317  Neutral  \n",
       "558  Neutral  \n",
       "588  Neutral  "
      ]
     },
     "metadata": {},
     "output_type": "display_data"
    },
    {
     "data": {
      "text/plain": [
       "(91, 3)"
      ]
     },
     "metadata": {},
     "output_type": "display_data"
    },
    {
     "data": {
      "application/javascript": [
       "\n",
       "            setTimeout(function() {\n",
       "                var nbb_cell_id = 21;\n",
       "                var nbb_unformatted_code = \"object_without_emotion = df.loc[\\n    (df.emotion == \\\"Neutral\\\") & df.object_of_emotion.notnull()\\n]\\ndisplay(object_without_emotion.head(), object_without_emotion.shape)\";\n",
       "                var nbb_formatted_code = \"object_without_emotion = df.loc[\\n    (df.emotion == \\\"Neutral\\\") & df.object_of_emotion.notnull()\\n]\\ndisplay(object_without_emotion.head(), object_without_emotion.shape)\";\n",
       "                var nbb_cells = Jupyter.notebook.get_cells();\n",
       "                for (var i = 0; i < nbb_cells.length; ++i) {\n",
       "                    if (nbb_cells[i].input_prompt_number == nbb_cell_id) {\n",
       "                        if (nbb_cells[i].get_text() == nbb_unformatted_code) {\n",
       "                             nbb_cells[i].set_text(nbb_formatted_code);\n",
       "                        }\n",
       "                        break;\n",
       "                    }\n",
       "                }\n",
       "            }, 500);\n",
       "            "
      ],
      "text/plain": [
       "<IPython.core.display.Javascript object>"
      ]
     },
     "metadata": {},
     "output_type": "display_data"
    }
   ],
   "source": [
    "object_without_emotion = df.loc[\n",
    "    (df.emotion == \"Neutral\") & df.object_of_emotion.notnull()\n",
    "]\n",
    "display(object_without_emotion.head(), object_without_emotion.shape)"
   ]
  },
  {
   "cell_type": "markdown",
   "metadata": {},
   "source": [
    "Tweet 6517 seems clearly negative to me, and 7137 seems kind of sardonic. 2666 seems weakly positive. 8647, 5696, 7521, 668, and 265 don't seem to express an emotion toward a brand or product. Since most of them seem neutral to me, and that's consistent with their 'Neutral' label, I'm going to keep them that way."
   ]
  },
  {
   "cell_type": "code",
   "execution_count": 22,
   "metadata": {
    "ExecuteTime": {
     "end_time": "2021-06-26T17:09:35.105916Z",
     "start_time": "2021-06-26T17:09:35.004885Z"
    }
   },
   "outputs": [
    {
     "data": {
      "text/markdown": [
       "|      | text                                                                                                                                                       |\n",
       "|-----:|:-----------------------------------------------------------------------------------------------------------------------------------------------------------|\n",
       "| 6127 | RT @mention In iPad Design Headaches: Take Two Tablets, Call Me in the AM panel - excited to hear @mention live! #sxsw                                     |\n",
       "| 8271 | Google Hot Pot - what the whattt pot....#SXSW                                                                                                              |\n",
       "| 1628 | @mention @mention Similarily, Tweetcaster for Android lets you zip tweets w annoying hash tags, like #sxsw                                                 |\n",
       "| 6517 | RT @mention RT @mention Best thing I've heard this weekend at #SXSW &quot;I gave my iPad 2 money to #Japan relief. I don't need an iPad 2.&quot; (@mention |\n",
       "| 8849 | We can't wait to give an iPad to someone at #sxsw. Want in? Just head to www.pep.jobs/upc to enter. (must be present to win)                               |\n",
       "| 3011 | #iPad interface/controls should be at the top, mobile controls at the bottom. #tapworthy #sxsw                                                             |\n",
       "|  787 | Google to Launch Major New Social Network Called Circles, Possibly Today {link} #sxsw�۝ @mention                                                           |\n",
       "| 4826 | Talking to a 15 year old iPhone developer genius who came to SXSW with his proud dad. #SXSW @mention BD Riley's Irish Pub {link}                           |\n",
       "| 1276 | Apple has two Austin-area retail locations but in anticipation of all the gadget ...  #ipad #sxsw #gadgets {link}                                          |\n",
       "| 7173 | ipad is not a game changer just a new game, its a about multiplicity and options not either or, but someone has to p[ay for content! #sxsw                 |"
      ],
      "text/plain": [
       "<IPython.core.display.Markdown object>"
      ]
     },
     "metadata": {},
     "output_type": "display_data"
    },
    {
     "data": {
      "application/javascript": [
       "\n",
       "            setTimeout(function() {\n",
       "                var nbb_cell_id = 22;\n",
       "                var nbb_unformatted_code = \"lang.readable_sample(object_without_emotion[\\\"text\\\"], random_state=rando)\";\n",
       "                var nbb_formatted_code = \"lang.readable_sample(object_without_emotion[\\\"text\\\"], random_state=rando)\";\n",
       "                var nbb_cells = Jupyter.notebook.get_cells();\n",
       "                for (var i = 0; i < nbb_cells.length; ++i) {\n",
       "                    if (nbb_cells[i].input_prompt_number == nbb_cell_id) {\n",
       "                        if (nbb_cells[i].get_text() == nbb_unformatted_code) {\n",
       "                             nbb_cells[i].set_text(nbb_formatted_code);\n",
       "                        }\n",
       "                        break;\n",
       "                    }\n",
       "                }\n",
       "            }, 500);\n",
       "            "
      ],
      "text/plain": [
       "<IPython.core.display.Javascript object>"
      ]
     },
     "metadata": {},
     "output_type": "display_data"
    }
   ],
   "source": [
    "lang.readable_sample(object_without_emotion[\"text\"], random_state=rando)"
   ]
  },
  {
   "cell_type": "code",
   "execution_count": 23,
   "metadata": {
    "ExecuteTime": {
     "end_time": "2021-06-26T17:09:35.207886Z",
     "start_time": "2021-06-26T17:09:35.109915Z"
    }
   },
   "outputs": [
    {
     "data": {
      "text/plain": [
       "True"
      ]
     },
     "execution_count": 23,
     "metadata": {},
     "output_type": "execute_result"
    },
    {
     "data": {
      "application/javascript": [
       "\n",
       "            setTimeout(function() {\n",
       "                var nbb_cell_id = 23;\n",
       "                var nbb_unformatted_code = \"# Set object to null where emotion is neutral\\ndf.loc[object_without_emotion.index, \\\"object_of_emotion\\\"] = np.nan\\n\\n# Ensure that 'Neutral' rows line up with 'NaN' rows\\n(df[\\\"emotion\\\"] == \\\"Neutral\\\").equals(df[\\\"object_of_emotion\\\"].isnull())\";\n",
       "                var nbb_formatted_code = \"# Set object to null where emotion is neutral\\ndf.loc[object_without_emotion.index, \\\"object_of_emotion\\\"] = np.nan\\n\\n# Ensure that 'Neutral' rows line up with 'NaN' rows\\n(df[\\\"emotion\\\"] == \\\"Neutral\\\").equals(df[\\\"object_of_emotion\\\"].isnull())\";\n",
       "                var nbb_cells = Jupyter.notebook.get_cells();\n",
       "                for (var i = 0; i < nbb_cells.length; ++i) {\n",
       "                    if (nbb_cells[i].input_prompt_number == nbb_cell_id) {\n",
       "                        if (nbb_cells[i].get_text() == nbb_unformatted_code) {\n",
       "                             nbb_cells[i].set_text(nbb_formatted_code);\n",
       "                        }\n",
       "                        break;\n",
       "                    }\n",
       "                }\n",
       "            }, 500);\n",
       "            "
      ],
      "text/plain": [
       "<IPython.core.display.Javascript object>"
      ]
     },
     "metadata": {},
     "output_type": "display_data"
    }
   ],
   "source": [
    "# Set object to null where emotion is neutral\n",
    "df.loc[object_without_emotion.index, \"object_of_emotion\"] = np.nan\n",
    "\n",
    "# Ensure that 'Neutral' rows line up with 'NaN' rows\n",
    "(df[\"emotion\"] == \"Neutral\").equals(df[\"object_of_emotion\"].isnull())"
   ]
  },
  {
   "cell_type": "code",
   "execution_count": 24,
   "metadata": {
    "ExecuteTime": {
     "end_time": "2021-06-26T17:09:35.648887Z",
     "start_time": "2021-06-26T17:09:35.208890Z"
    }
   },
   "outputs": [
    {
     "data": {
      "image/png": "[encoded data removed]",
      "text/plain": [
       "<Figure size 1080x360 with 3 Axes>"
      ]
     },
     "metadata": {
      "needs_background": "light"
     },
     "output_type": "display_data"
    },
    {
     "data": {
      "application/javascript": [
       "\n",
       "            setTimeout(function() {\n",
       "                var nbb_cell_id = 24;\n",
       "                var nbb_unformatted_code = \"fig = plotting.countplot(df.select_dtypes(\\\"category\\\"), normalize=1)\";\n",
       "                var nbb_formatted_code = \"fig = plotting.countplot(df.select_dtypes(\\\"category\\\"), normalize=1)\";\n",
       "                var nbb_cells = Jupyter.notebook.get_cells();\n",
       "                for (var i = 0; i < nbb_cells.length; ++i) {\n",
       "                    if (nbb_cells[i].input_prompt_number == nbb_cell_id) {\n",
       "                        if (nbb_cells[i].get_text() == nbb_unformatted_code) {\n",
       "                             nbb_cells[i].set_text(nbb_formatted_code);\n",
       "                        }\n",
       "                        break;\n",
       "                    }\n",
       "                }\n",
       "            }, 500);\n",
       "            "
      ],
      "text/plain": [
       "<IPython.core.display.Javascript object>"
      ]
     },
     "metadata": {},
     "output_type": "display_data"
    }
   ],
   "source": [
    "fig = plotting.countplot(df.select_dtypes(\"category\"), normalize=1)"
   ]
  },
  {
   "cell_type": "markdown",
   "metadata": {},
   "source": [
    "There are $22$ duplicate rows, and even more when only the text is considered. Unfortunately this dataset is very small, and I've discovered that my models perform better when I leave the duplicates in. Having discovered that, I can't very well drop these rows."
   ]
  },
  {
   "cell_type": "code",
   "execution_count": 25,
   "metadata": {
    "ExecuteTime": {
     "end_time": "2021-06-26T17:09:35.744887Z",
     "start_time": "2021-06-26T17:09:35.649887Z"
    }
   },
   "outputs": [
    {
     "data": {
      "text/plain": [
       "3962    #SXSW is just starting, #CTIA is around the co...\n",
       "468        Before It Even Begins, Apple Wins #SXSW {link}\n",
       "2559    Counting down the days to #sxsw plus strong Ca...\n",
       "776     Google to Launch Major New Social Network Call...\n",
       "8483    I just noticed DST is coming this weekend. How...\n",
       "2232    Marissa Mayer: Google Will Connect the Digital...\n",
       "8747    Need to buy an iPad2 while I'm in Austin at #s...\n",
       "4897    Oh. My. God. The #SXSW app for iPad is pure, u...\n",
       "5882    RT @mention Google to Launch Major New Social ...\n",
       "5884    RT @mention Google to Launch Major New Social ...\n",
       "5883    RT @mention Google to Launch Major New Social ...\n",
       "5881    RT @mention Google to Launch Major New Social ...\n",
       "5885    RT @mention Google to Launch Major New Social ...\n",
       "6299    RT @mention Marissa Mayer: Google Will Connect...\n",
       "6297    RT @mention Marissa Mayer: Google Will Connect...\n",
       "6295    RT @mention Marissa Mayer: Google Will Connect...\n",
       "6300    RT @mention Marissa Mayer: Google Will Connect...\n",
       "6298    RT @mention Marissa Mayer: Google Will Connect...\n",
       "6294    RT @mention Marissa Mayer: Google Will Connect...\n",
       "6296    RT @mention Marissa Mayer: Google Will Connect...\n",
       "6546    RT @mention RT @mention Google to Launch Major...\n",
       "6576    RT @mention RT @mention It's not a rumor: Appl...\n",
       "5338    RT @mention ��� GO BEYOND BORDERS! ��_ {link} ...\n",
       "5341    RT @mention ��� Happy Woman's Day! Make love, ...\n",
       "3950    Really enjoying the changes in Gowalla 3.0 for...\n",
       "3814             Win free iPad 2 from webdoc.com #sxsw RT\n",
       "3813             Win free ipad 2 from webdoc.com #sxsw RT\n",
       "Name: text, dtype: object"
      ]
     },
     "execution_count": 25,
     "metadata": {},
     "output_type": "execute_result"
    },
    {
     "data": {
      "application/javascript": [
       "\n",
       "            setTimeout(function() {\n",
       "                var nbb_cell_id = 25;\n",
       "                var nbb_unformatted_code = \"cleaning.dup_rows(df.text).sort_values()\";\n",
       "                var nbb_formatted_code = \"cleaning.dup_rows(df.text).sort_values()\";\n",
       "                var nbb_cells = Jupyter.notebook.get_cells();\n",
       "                for (var i = 0; i < nbb_cells.length; ++i) {\n",
       "                    if (nbb_cells[i].input_prompt_number == nbb_cell_id) {\n",
       "                        if (nbb_cells[i].get_text() == nbb_unformatted_code) {\n",
       "                             nbb_cells[i].set_text(nbb_formatted_code);\n",
       "                        }\n",
       "                        break;\n",
       "                    }\n",
       "                }\n",
       "            }, 500);\n",
       "            "
      ],
      "text/plain": [
       "<IPython.core.display.Javascript object>"
      ]
     },
     "metadata": {},
     "output_type": "display_data"
    }
   ],
   "source": [
    "cleaning.dup_rows(df.text).sort_values()"
   ]
  },
  {
   "cell_type": "code",
   "execution_count": 26,
   "metadata": {
    "ExecuteTime": {
     "end_time": "2021-06-26T17:09:35.855888Z",
     "start_time": "2021-06-26T17:09:35.745887Z"
    }
   },
   "outputs": [
    {
     "data": {
      "text/html": [
       "<div>\n",
       "<style scoped>\n",
       "    .dataframe tbody tr th:only-of-type {\n",
       "        vertical-align: middle;\n",
       "    }\n",
       "\n",
       "    .dataframe tbody tr th {\n",
       "        vertical-align: top;\n",
       "    }\n",
       "\n",
       "    .dataframe thead th {\n",
       "        text-align: right;\n",
       "    }\n",
       "</style>\n",
       "<table border=\"1\" class=\"dataframe\">\n",
       "  <thead>\n",
       "    <tr style=\"text-align: right;\">\n",
       "      <th></th>\n",
       "      <th>null</th>\n",
       "      <th>null_%</th>\n",
       "      <th>uniq</th>\n",
       "      <th>uniq_%</th>\n",
       "      <th>dup</th>\n",
       "      <th>dup_%</th>\n",
       "    </tr>\n",
       "  </thead>\n",
       "  <tbody>\n",
       "    <tr>\n",
       "      <th>object_of_emotion</th>\n",
       "      <td>5388</td>\n",
       "      <td>60.46</td>\n",
       "      <td>9</td>\n",
       "      <td>0.10</td>\n",
       "      <td>22</td>\n",
       "      <td>0.25</td>\n",
       "    </tr>\n",
       "    <tr>\n",
       "      <th>text</th>\n",
       "      <td>0</td>\n",
       "      <td>0.00</td>\n",
       "      <td>8885</td>\n",
       "      <td>99.70</td>\n",
       "      <td>22</td>\n",
       "      <td>0.25</td>\n",
       "    </tr>\n",
       "    <tr>\n",
       "      <th>emotion</th>\n",
       "      <td>0</td>\n",
       "      <td>0.00</td>\n",
       "      <td>3</td>\n",
       "      <td>0.03</td>\n",
       "      <td>22</td>\n",
       "      <td>0.25</td>\n",
       "    </tr>\n",
       "  </tbody>\n",
       "</table>\n",
       "</div>"
      ],
      "text/plain": [
       "                   null  null_%  uniq  uniq_%  dup  dup_%\n",
       "object_of_emotion  5388   60.46     9    0.10   22   0.25\n",
       "text                  0    0.00  8885   99.70   22   0.25\n",
       "emotion               0    0.00     3    0.03   22   0.25"
      ]
     },
     "execution_count": 26,
     "metadata": {},
     "output_type": "execute_result"
    },
    {
     "data": {
      "application/javascript": [
       "\n",
       "            setTimeout(function() {\n",
       "                var nbb_cell_id = 26;\n",
       "                var nbb_unformatted_code = \"# df = df.loc[~df.text.duplicated() | df.text.str.startswith(\\\"RT\\\")]\\ncleaning.info(df)\";\n",
       "                var nbb_formatted_code = \"# df = df.loc[~df.text.duplicated() | df.text.str.startswith(\\\"RT\\\")]\\ncleaning.info(df)\";\n",
       "                var nbb_cells = Jupyter.notebook.get_cells();\n",
       "                for (var i = 0; i < nbb_cells.length; ++i) {\n",
       "                    if (nbb_cells[i].input_prompt_number == nbb_cell_id) {\n",
       "                        if (nbb_cells[i].get_text() == nbb_unformatted_code) {\n",
       "                             nbb_cells[i].set_text(nbb_formatted_code);\n",
       "                        }\n",
       "                        break;\n",
       "                    }\n",
       "                }\n",
       "            }, 500);\n",
       "            "
      ],
      "text/plain": [
       "<IPython.core.display.Javascript object>"
      ]
     },
     "metadata": {},
     "output_type": "display_data"
    }
   ],
   "source": [
    "# df = df.loc[~df.text.duplicated() | df.text.str.startswith(\"RT\")]\n",
    "cleaning.info(df)"
   ]
  },
  {
   "cell_type": "code",
   "execution_count": 27,
   "metadata": {
    "ExecuteTime": {
     "end_time": "2021-06-26T17:09:35.955887Z",
     "start_time": "2021-06-26T17:09:35.856889Z"
    }
   },
   "outputs": [
    {
     "data": {
      "text/plain": [
       "2640"
      ]
     },
     "execution_count": 27,
     "metadata": {},
     "output_type": "execute_result"
    },
    {
     "data": {
      "application/javascript": [
       "\n",
       "            setTimeout(function() {\n",
       "                var nbb_cell_id = 27;\n",
       "                var nbb_unformatted_code = \"df.text.str.contains(\\\"RT\\\").sum()\";\n",
       "                var nbb_formatted_code = \"df.text.str.contains(\\\"RT\\\").sum()\";\n",
       "                var nbb_cells = Jupyter.notebook.get_cells();\n",
       "                for (var i = 0; i < nbb_cells.length; ++i) {\n",
       "                    if (nbb_cells[i].input_prompt_number == nbb_cell_id) {\n",
       "                        if (nbb_cells[i].get_text() == nbb_unformatted_code) {\n",
       "                             nbb_cells[i].set_text(nbb_formatted_code);\n",
       "                        }\n",
       "                        break;\n",
       "                    }\n",
       "                }\n",
       "            }, 500);\n",
       "            "
      ],
      "text/plain": [
       "<IPython.core.display.Javascript object>"
      ]
     },
     "metadata": {},
     "output_type": "display_data"
    }
   ],
   "source": [
    "df.text.str.contains(\"RT\").sum()"
   ]
  },
  {
   "cell_type": "code",
   "execution_count": 28,
   "metadata": {
    "ExecuteTime": {
     "end_time": "2021-06-26T17:09:36.061917Z",
     "start_time": "2021-06-26T17:09:35.956890Z"
    }
   },
   "outputs": [
    {
     "data": {
      "text/plain": [
       "lowercase             FunctionTransformer(func=<function lowercase a...\n",
       "strip_short           FunctionTransformer(func=<function strip_short...\n",
       "strip_punct           FunctionTransformer(func=functools.partial(<fu...\n",
       "strip_multiwhite      FunctionTransformer(func=<function strip_multi...\n",
       "strip_numeric         FunctionTransformer(func=<function strip_numer...\n",
       "strip_non_alphanum    FunctionTransformer(func=<function strip_non_a...\n",
       "split_alphanum        FunctionTransformer(func=<function split_alpha...\n",
       "uni2ascii             FunctionTransformer(func=<function uni2ascii a...\n",
       "stem_text             FunctionTransformer(func=<function stem_text a...\n",
       "strip_handles         FunctionTransformer(func=<function strip_handl...\n",
       "limit_repeats         FunctionTransformer(func=<function limit_repea...\n",
       "wordnet_lemmatize     FunctionTransformer(func=<function wordnet_lem...\n",
       "dtype: object"
      ]
     },
     "execution_count": 28,
     "metadata": {},
     "output_type": "execute_result"
    },
    {
     "data": {
      "application/javascript": [
       "\n",
       "            setTimeout(function() {\n",
       "                var nbb_cell_id = 28;\n",
       "                var nbb_unformatted_code = \"funcs = [\\n    lang.lowercase,\\n    lang.strip_short,\\n    partial(lang.strip_punct, exclude=\\\"@#!?\\\"),\\n    lang.strip_multiwhite,\\n    lang.strip_numeric,\\n    lang.strip_non_alphanum,\\n    lang.split_alphanum,\\n    lang.uni2ascii,\\n    lang.stem_text,\\n    lang.strip_handles,\\n    lang.limit_repeats,\\n    lang.wordnet_lemmatize,\\n    lang.stem_text,\\n]\\n\\nfunc_names = utils.get_func_name(funcs)\\n\\nfuncs = [FunctionTransformer(func=x) for x in funcs]\\n\\nfuncs = pd.Series(dict(zip(func_names, funcs)))\\nfuncs\";\n",
       "                var nbb_formatted_code = \"funcs = [\\n    lang.lowercase,\\n    lang.strip_short,\\n    partial(lang.strip_punct, exclude=\\\"@#!?\\\"),\\n    lang.strip_multiwhite,\\n    lang.strip_numeric,\\n    lang.strip_non_alphanum,\\n    lang.split_alphanum,\\n    lang.uni2ascii,\\n    lang.stem_text,\\n    lang.strip_handles,\\n    lang.limit_repeats,\\n    lang.wordnet_lemmatize,\\n    lang.stem_text,\\n]\\n\\nfunc_names = utils.get_func_name(funcs)\\n\\nfuncs = [FunctionTransformer(func=x) for x in funcs]\\n\\nfuncs = pd.Series(dict(zip(func_names, funcs)))\\nfuncs\";\n",
       "                var nbb_cells = Jupyter.notebook.get_cells();\n",
       "                for (var i = 0; i < nbb_cells.length; ++i) {\n",
       "                    if (nbb_cells[i].input_prompt_number == nbb_cell_id) {\n",
       "                        if (nbb_cells[i].get_text() == nbb_unformatted_code) {\n",
       "                             nbb_cells[i].set_text(nbb_formatted_code);\n",
       "                        }\n",
       "                        break;\n",
       "                    }\n",
       "                }\n",
       "            }, 500);\n",
       "            "
      ],
      "text/plain": [
       "<IPython.core.display.Javascript object>"
      ]
     },
     "metadata": {},
     "output_type": "display_data"
    }
   ],
   "source": [
    "funcs = [\n",
    "    lang.lowercase,\n",
    "    lang.strip_short,\n",
    "    partial(lang.strip_punct, exclude=\"@#!?\"),\n",
    "    lang.strip_multiwhite,\n",
    "    lang.strip_numeric,\n",
    "    lang.strip_non_alphanum,\n",
    "    lang.split_alphanum,\n",
    "    lang.uni2ascii,\n",
    "    lang.stem_text,\n",
    "    lang.strip_handles,\n",
    "    lang.limit_repeats,\n",
    "    lang.wordnet_lemmatize,\n",
    "    lang.stem_text,\n",
    "]\n",
    "\n",
    "func_names = utils.get_func_name(funcs)\n",
    "\n",
    "funcs = [FunctionTransformer(func=x) for x in funcs]\n",
    "\n",
    "funcs = pd.Series(dict(zip(func_names, funcs)))\n",
    "funcs"
   ]
  },
  {
   "cell_type": "code",
   "execution_count": 29,
   "metadata": {
    "ExecuteTime": {
     "end_time": "2021-06-26T17:09:36.776363Z",
     "start_time": "2021-06-26T17:09:36.062885Z"
    }
   },
   "outputs": [
    {
     "data": {
      "text/plain": [
       "0       @wesley have iphone after hrs tweeting #rise a...\n",
       "1       @jessedee know about @fludapp awesome ipad iph...\n",
       "2       @swonderlin can not wait for #ipad also they s...\n",
       "3       @sxsw hope this year festival isn crashy this ...\n",
       "4       @sxtxstate great stuff fri #sxsw marissa mayer...\n",
       "                              ...                        \n",
       "9088                           ipad everywhere #sxsw link\n",
       "9089    wave buzz @mention interrupt your regularly sc...\n",
       "9090    google zeiger physician never reported potenti...\n",
       "9091    some verizon iphone customers complained their...\n",
       "9092       @mention google tests check offers@ #sxsw link\n",
       "Name: text, Length: 8912, dtype: object"
      ]
     },
     "execution_count": 29,
     "metadata": {},
     "output_type": "execute_result"
    },
    {
     "data": {
      "application/javascript": [
       "\n",
       "            setTimeout(function() {\n",
       "                var nbb_cell_id = 29;\n",
       "                var nbb_unformatted_code = \"filts = [\\n    \\\"lowercase\\\",\\n    \\\"uni2ascii\\\",\\n    \\\"limit_repeats\\\",\\n    \\\"strip_punct\\\",\\n    \\\"split_alphanum\\\",\\n    \\\"strip_short\\\",\\n    \\\"strip_multiwhite\\\",\\n]\\n\\nfilts = list(zip(filts, funcs.loc[filts].to_list()))\\nfilts = PandasWrapper(Pipeline(filts))\\nfilts.fit_transform(df.text)\";\n",
       "                var nbb_formatted_code = \"filts = [\\n    \\\"lowercase\\\",\\n    \\\"uni2ascii\\\",\\n    \\\"limit_repeats\\\",\\n    \\\"strip_punct\\\",\\n    \\\"split_alphanum\\\",\\n    \\\"strip_short\\\",\\n    \\\"strip_multiwhite\\\",\\n]\\n\\nfilts = list(zip(filts, funcs.loc[filts].to_list()))\\nfilts = PandasWrapper(Pipeline(filts))\\nfilts.fit_transform(df.text)\";\n",
       "                var nbb_cells = Jupyter.notebook.get_cells();\n",
       "                for (var i = 0; i < nbb_cells.length; ++i) {\n",
       "                    if (nbb_cells[i].input_prompt_number == nbb_cell_id) {\n",
       "                        if (nbb_cells[i].get_text() == nbb_unformatted_code) {\n",
       "                             nbb_cells[i].set_text(nbb_formatted_code);\n",
       "                        }\n",
       "                        break;\n",
       "                    }\n",
       "                }\n",
       "            }, 500);\n",
       "            "
      ],
      "text/plain": [
       "<IPython.core.display.Javascript object>"
      ]
     },
     "metadata": {},
     "output_type": "display_data"
    }
   ],
   "source": [
    "filts = [\n",
    "    \"lowercase\",\n",
    "    \"uni2ascii\",\n",
    "    \"limit_repeats\",\n",
    "    \"strip_punct\",\n",
    "    \"split_alphanum\",\n",
    "    \"strip_short\",\n",
    "    \"strip_multiwhite\",\n",
    "]\n",
    "\n",
    "filts = list(zip(filts, funcs.loc[filts].to_list()))\n",
    "filts = PandasWrapper(Pipeline(filts))\n",
    "filts.fit_transform(df.text)"
   ]
  },
  {
   "cell_type": "code",
   "execution_count": 30,
   "metadata": {
    "ExecuteTime": {
     "end_time": "2021-06-26T17:09:37.479363Z",
     "start_time": "2021-06-26T17:09:36.777361Z"
    }
   },
   "outputs": [
    {
     "data": {
      "text/html": [
       "<div>\n",
       "<style scoped>\n",
       "    .dataframe tbody tr th:only-of-type {\n",
       "        vertical-align: middle;\n",
       "    }\n",
       "\n",
       "    .dataframe tbody tr th {\n",
       "        vertical-align: top;\n",
       "    }\n",
       "\n",
       "    .dataframe thead th {\n",
       "        text-align: right;\n",
       "    }\n",
       "</style>\n",
       "<table border=\"1\" class=\"dataframe\">\n",
       "  <thead>\n",
       "    <tr style=\"text-align: right;\">\n",
       "      <th></th>\n",
       "      <th>text</th>\n",
       "      <th>object_of_emotion</th>\n",
       "      <th>emotion</th>\n",
       "      <th>clean_text</th>\n",
       "    </tr>\n",
       "  </thead>\n",
       "  <tbody>\n",
       "    <tr>\n",
       "      <th>0</th>\n",
       "      <td>.@wesley83 I have a 3G iPhone. After 3 hrs twe...</td>\n",
       "      <td>iPhone</td>\n",
       "      <td>Negative</td>\n",
       "      <td>@wesley have iphone after hrs tweeting #rise a...</td>\n",
       "    </tr>\n",
       "    <tr>\n",
       "      <th>1</th>\n",
       "      <td>@jessedee Know about @fludapp ? Awesome iPad/i...</td>\n",
       "      <td>iOS App</td>\n",
       "      <td>Positive</td>\n",
       "      <td>@jessedee know about @fludapp awesome ipad iph...</td>\n",
       "    </tr>\n",
       "    <tr>\n",
       "      <th>2</th>\n",
       "      <td>@swonderlin Can not wait for #iPad 2 also. The...</td>\n",
       "      <td>iPad</td>\n",
       "      <td>Positive</td>\n",
       "      <td>@swonderlin can not wait for #ipad also they s...</td>\n",
       "    </tr>\n",
       "    <tr>\n",
       "      <th>3</th>\n",
       "      <td>@sxsw I hope this year's festival isn't as cra...</td>\n",
       "      <td>iOS App</td>\n",
       "      <td>Negative</td>\n",
       "      <td>@sxsw hope this year festival isn crashy this ...</td>\n",
       "    </tr>\n",
       "    <tr>\n",
       "      <th>4</th>\n",
       "      <td>@sxtxstate great stuff on Fri #SXSW: Marissa M...</td>\n",
       "      <td>Google</td>\n",
       "      <td>Positive</td>\n",
       "      <td>@sxtxstate great stuff fri #sxsw marissa mayer...</td>\n",
       "    </tr>\n",
       "  </tbody>\n",
       "</table>\n",
       "</div>"
      ],
      "text/plain": [
       "                                                text object_of_emotion  \\\n",
       "0  .@wesley83 I have a 3G iPhone. After 3 hrs twe...            iPhone   \n",
       "1  @jessedee Know about @fludapp ? Awesome iPad/i...           iOS App   \n",
       "2  @swonderlin Can not wait for #iPad 2 also. The...              iPad   \n",
       "3  @sxsw I hope this year's festival isn't as cra...           iOS App   \n",
       "4  @sxtxstate great stuff on Fri #SXSW: Marissa M...            Google   \n",
       "\n",
       "    emotion                                         clean_text  \n",
       "0  Negative  @wesley have iphone after hrs tweeting #rise a...  \n",
       "1  Positive  @jessedee know about @fludapp awesome ipad iph...  \n",
       "2  Positive  @swonderlin can not wait for #ipad also they s...  \n",
       "3  Negative  @sxsw hope this year festival isn crashy this ...  \n",
       "4  Positive  @sxtxstate great stuff fri #sxsw marissa mayer...  "
      ]
     },
     "execution_count": 30,
     "metadata": {},
     "output_type": "execute_result"
    },
    {
     "data": {
      "application/javascript": [
       "\n",
       "            setTimeout(function() {\n",
       "                var nbb_cell_id = 30;\n",
       "                var nbb_unformatted_code = \"df[\\\"clean_text\\\"] = filts.fit_transform(df.text)\\ndf.head()\";\n",
       "                var nbb_formatted_code = \"df[\\\"clean_text\\\"] = filts.fit_transform(df.text)\\ndf.head()\";\n",
       "                var nbb_cells = Jupyter.notebook.get_cells();\n",
       "                for (var i = 0; i < nbb_cells.length; ++i) {\n",
       "                    if (nbb_cells[i].input_prompt_number == nbb_cell_id) {\n",
       "                        if (nbb_cells[i].get_text() == nbb_unformatted_code) {\n",
       "                             nbb_cells[i].set_text(nbb_formatted_code);\n",
       "                        }\n",
       "                        break;\n",
       "                    }\n",
       "                }\n",
       "            }, 500);\n",
       "            "
      ],
      "text/plain": [
       "<IPython.core.display.Javascript object>"
      ]
     },
     "metadata": {},
     "output_type": "display_data"
    }
   ],
   "source": [
    "df[\"clean_text\"] = filts.fit_transform(df.text)\n",
    "df.head()"
   ]
  },
  {
   "cell_type": "code",
   "execution_count": 31,
   "metadata": {
    "ExecuteTime": {
     "end_time": "2021-06-26T17:09:37.756362Z",
     "start_time": "2021-06-26T17:09:37.480361Z"
    }
   },
   "outputs": [
    {
     "data": {
      "text/plain": [
       "0              [iphone]\n",
       "1    [ipad, iphone app]\n",
       "2                [ipad]\n",
       "3          [iphone app]\n",
       "4              [google]\n",
       "Name: brand_terms, dtype: object"
      ]
     },
     "execution_count": 31,
     "metadata": {},
     "output_type": "execute_result"
    },
    {
     "data": {
      "application/javascript": [
       "\n",
       "            setTimeout(function() {\n",
       "                var nbb_cell_id = 31;\n",
       "                var nbb_unformatted_code = \"re_brand = fr\\\"{re_apple}|{re_google}\\\"\\nregex_brands = lang.locate_patterns(re_brand, strings=df.clean_text)\\nregex_brands = utils.implode(regex_brands).reindex_like(df)\\ndf[\\\"brand_terms\\\"] = regex_brands\\ndel regex_brands\\ndf[\\\"brand_terms\\\"].head()\";\n",
       "                var nbb_formatted_code = \"re_brand = fr\\\"{re_apple}|{re_google}\\\"\\nregex_brands = lang.locate_patterns(re_brand, strings=df.clean_text)\\nregex_brands = utils.implode(regex_brands).reindex_like(df)\\ndf[\\\"brand_terms\\\"] = regex_brands\\ndel regex_brands\\ndf[\\\"brand_terms\\\"].head()\";\n",
       "                var nbb_cells = Jupyter.notebook.get_cells();\n",
       "                for (var i = 0; i < nbb_cells.length; ++i) {\n",
       "                    if (nbb_cells[i].input_prompt_number == nbb_cell_id) {\n",
       "                        if (nbb_cells[i].get_text() == nbb_unformatted_code) {\n",
       "                             nbb_cells[i].set_text(nbb_formatted_code);\n",
       "                        }\n",
       "                        break;\n",
       "                    }\n",
       "                }\n",
       "            }, 500);\n",
       "            "
      ],
      "text/plain": [
       "<IPython.core.display.Javascript object>"
      ]
     },
     "metadata": {},
     "output_type": "display_data"
    }
   ],
   "source": [
    "re_brand = fr\"{re_apple}|{re_google}\"\n",
    "regex_brands = lang.locate_patterns(re_brand, strings=df.clean_text)\n",
    "regex_brands = utils.implode(regex_brands).reindex_like(df)\n",
    "df[\"brand_terms\"] = regex_brands\n",
    "del regex_brands\n",
    "df[\"brand_terms\"].head()"
   ]
  },
  {
   "cell_type": "code",
   "execution_count": 32,
   "metadata": {
    "ExecuteTime": {
     "end_time": "2021-06-26T17:09:38.267527Z",
     "start_time": "2021-06-26T17:09:37.757361Z"
    }
   },
   "outputs": [
    {
     "data": {
      "text/plain": [
       "0    [@wesley, have, iphone, after, hrs, tweeting, ...\n",
       "1    [@jessedee, know, about, @fludapp, awesome, ip...\n",
       "2    [@swonderlin, can, not, wait, for, #ipad, also...\n",
       "3    [@sxsw, hope, this, year, festival, isn, crash...\n",
       "4    [@sxtxstate, great, stuff, fri, #sxsw, marissa...\n",
       "Name: tokens, dtype: object"
      ]
     },
     "execution_count": 32,
     "metadata": {},
     "output_type": "execute_result"
    },
    {
     "data": {
      "application/javascript": [
       "\n",
       "            setTimeout(function() {\n",
       "                var nbb_cell_id = 32;\n",
       "                var nbb_unformatted_code = \"df[\\\"tokens\\\"] = df[\\\"clean_text\\\"].map(nltk.casual_tokenize)\\ndf[\\\"tokens\\\"].head()\";\n",
       "                var nbb_formatted_code = \"df[\\\"tokens\\\"] = df[\\\"clean_text\\\"].map(nltk.casual_tokenize)\\ndf[\\\"tokens\\\"].head()\";\n",
       "                var nbb_cells = Jupyter.notebook.get_cells();\n",
       "                for (var i = 0; i < nbb_cells.length; ++i) {\n",
       "                    if (nbb_cells[i].input_prompt_number == nbb_cell_id) {\n",
       "                        if (nbb_cells[i].get_text() == nbb_unformatted_code) {\n",
       "                             nbb_cells[i].set_text(nbb_formatted_code);\n",
       "                        }\n",
       "                        break;\n",
       "                    }\n",
       "                }\n",
       "            }, 500);\n",
       "            "
      ],
      "text/plain": [
       "<IPython.core.display.Javascript object>"
      ]
     },
     "metadata": {},
     "output_type": "display_data"
    }
   ],
   "source": [
    "df[\"tokens\"] = df[\"clean_text\"].map(nltk.casual_tokenize)\n",
    "df[\"tokens\"].head()"
   ]
  },
  {
   "cell_type": "code",
   "execution_count": 33,
   "metadata": {
    "ExecuteTime": {
     "end_time": "2021-06-26T17:09:46.873496Z",
     "start_time": "2021-06-26T17:09:38.268494Z"
    }
   },
   "outputs": [
    {
     "data": {
      "text/plain": [
       "0    [(@wesley, NNS), (have, VBP), (iphone, VBN), (...\n",
       "1    [(@jessedee, NN), (know, VBP), (about, IN), (@...\n",
       "2    [(@swonderlin, NNS), (can, MD), (not, RB), (wa...\n",
       "3    [(@sxsw, RB), (hope, NN), (this, DT), (year, N...\n",
       "4    [(@sxtxstate, JJ), (great, JJ), (stuff, NN), (...\n",
       "Name: tagged, dtype: object"
      ]
     },
     "execution_count": 33,
     "metadata": {},
     "output_type": "execute_result"
    },
    {
     "data": {
      "application/javascript": [
       "\n",
       "            setTimeout(function() {\n",
       "                var nbb_cell_id = 33;\n",
       "                var nbb_unformatted_code = \"df[\\\"tagged\\\"] = df.tokens.map(nltk.pos_tag)\\ndf[\\\"tagged\\\"].head()\";\n",
       "                var nbb_formatted_code = \"df[\\\"tagged\\\"] = df.tokens.map(nltk.pos_tag)\\ndf[\\\"tagged\\\"].head()\";\n",
       "                var nbb_cells = Jupyter.notebook.get_cells();\n",
       "                for (var i = 0; i < nbb_cells.length; ++i) {\n",
       "                    if (nbb_cells[i].input_prompt_number == nbb_cell_id) {\n",
       "                        if (nbb_cells[i].get_text() == nbb_unformatted_code) {\n",
       "                             nbb_cells[i].set_text(nbb_formatted_code);\n",
       "                        }\n",
       "                        break;\n",
       "                    }\n",
       "                }\n",
       "            }, 500);\n",
       "            "
      ],
      "text/plain": [
       "<IPython.core.display.Javascript object>"
      ]
     },
     "metadata": {},
     "output_type": "display_data"
    }
   ],
   "source": [
    "df[\"tagged\"] = df.tokens.map(nltk.pos_tag)\n",
    "df[\"tagged\"].head()"
   ]
  },
  {
   "cell_type": "code",
   "execution_count": 34,
   "metadata": {
    "ExecuteTime": {
     "end_time": "2021-06-26T17:09:47.414497Z",
     "start_time": "2021-06-26T17:09:46.874496Z"
    }
   },
   "outputs": [
    {
     "data": {
      "text/plain": [
       "0    [NNS, VBP, VBN, IN, NN, VBG, NN, NN, VBD, JJ, ...\n",
       "1    [NN, VBP, IN, NNP, JJ, NN, NN, NN, IN, PRP, JJ...\n",
       "2    [NNS, MD, RB, VB, IN, NN, RB, PRP, MD, NN, PRP...\n",
       "3     [RB, NN, DT, NN, NN, NN, NN, DT, NN, NN, NN, NN]\n",
       "4    [JJ, JJ, NN, NN, NNP, NN, NN, NN, NN, RB, JJ, ...\n",
       "Name: pos_tags, dtype: object"
      ]
     },
     "execution_count": 34,
     "metadata": {},
     "output_type": "execute_result"
    },
    {
     "data": {
      "application/javascript": [
       "\n",
       "            setTimeout(function() {\n",
       "                var nbb_cell_id = 34;\n",
       "                var nbb_unformatted_code = \"df[\\\"pos_tags\\\"] = utils.implode(df[\\\"tagged\\\"].explode().map(itemgetter(1)))\\ndf[\\\"pos_tags\\\"].head()\";\n",
       "                var nbb_formatted_code = \"df[\\\"pos_tags\\\"] = utils.implode(df[\\\"tagged\\\"].explode().map(itemgetter(1)))\\ndf[\\\"pos_tags\\\"].head()\";\n",
       "                var nbb_cells = Jupyter.notebook.get_cells();\n",
       "                for (var i = 0; i < nbb_cells.length; ++i) {\n",
       "                    if (nbb_cells[i].input_prompt_number == nbb_cell_id) {\n",
       "                        if (nbb_cells[i].get_text() == nbb_unformatted_code) {\n",
       "                             nbb_cells[i].set_text(nbb_formatted_code);\n",
       "                        }\n",
       "                        break;\n",
       "                    }\n",
       "                }\n",
       "            }, 500);\n",
       "            "
      ],
      "text/plain": [
       "<IPython.core.display.Javascript object>"
      ]
     },
     "metadata": {},
     "output_type": "display_data"
    }
   ],
   "source": [
    "df[\"pos_tags\"] = utils.implode(df[\"tagged\"].explode().map(itemgetter(1)))\n",
    "df[\"pos_tags\"].head()"
   ]
  },
  {
   "cell_type": "code",
   "execution_count": 35,
   "metadata": {
    "ExecuteTime": {
     "end_time": "2021-06-26T17:09:48.118497Z",
     "start_time": "2021-06-26T17:09:47.415495Z"
    }
   },
   "outputs": [
    {
     "data": {
      "text/html": [
       "<div>\n",
       "<style scoped>\n",
       "    .dataframe tbody tr th:only-of-type {\n",
       "        vertical-align: middle;\n",
       "    }\n",
       "\n",
       "    .dataframe tbody tr th {\n",
       "        vertical-align: top;\n",
       "    }\n",
       "\n",
       "    .dataframe thead th {\n",
       "        text-align: right;\n",
       "    }\n",
       "</style>\n",
       "<table border=\"1\" class=\"dataframe\">\n",
       "  <thead>\n",
       "    <tr style=\"text-align: right;\">\n",
       "      <th></th>\n",
       "      <th>n_chars</th>\n",
       "      <th>n_words</th>\n",
       "      <th>avg_word_len</th>\n",
       "    </tr>\n",
       "  </thead>\n",
       "  <tbody>\n",
       "    <tr>\n",
       "      <th>0</th>\n",
       "      <td>104</td>\n",
       "      <td>29</td>\n",
       "      <td>3.586207</td>\n",
       "    </tr>\n",
       "    <tr>\n",
       "      <th>1</th>\n",
       "      <td>118</td>\n",
       "      <td>26</td>\n",
       "      <td>4.538462</td>\n",
       "    </tr>\n",
       "    <tr>\n",
       "      <th>2</th>\n",
       "      <td>65</td>\n",
       "      <td>17</td>\n",
       "      <td>3.823529</td>\n",
       "    </tr>\n",
       "    <tr>\n",
       "      <th>3</th>\n",
       "      <td>68</td>\n",
       "      <td>16</td>\n",
       "      <td>4.250000</td>\n",
       "    </tr>\n",
       "    <tr>\n",
       "      <th>4</th>\n",
       "      <td>115</td>\n",
       "      <td>27</td>\n",
       "      <td>4.259259</td>\n",
       "    </tr>\n",
       "    <tr>\n",
       "      <th>...</th>\n",
       "      <td>...</td>\n",
       "      <td>...</td>\n",
       "      <td>...</td>\n",
       "    </tr>\n",
       "    <tr>\n",
       "      <th>9088</th>\n",
       "      <td>26</td>\n",
       "      <td>7</td>\n",
       "      <td>3.714286</td>\n",
       "    </tr>\n",
       "    <tr>\n",
       "      <th>9089</th>\n",
       "      <td>107</td>\n",
       "      <td>22</td>\n",
       "      <td>4.863636</td>\n",
       "    </tr>\n",
       "    <tr>\n",
       "      <th>9090</th>\n",
       "      <td>127</td>\n",
       "      <td>27</td>\n",
       "      <td>4.703704</td>\n",
       "    </tr>\n",
       "    <tr>\n",
       "      <th>9091</th>\n",
       "      <td>117</td>\n",
       "      <td>25</td>\n",
       "      <td>4.680000</td>\n",
       "    </tr>\n",
       "    <tr>\n",
       "      <th>9092</th>\n",
       "      <td>89</td>\n",
       "      <td>41</td>\n",
       "      <td>2.170732</td>\n",
       "    </tr>\n",
       "  </tbody>\n",
       "</table>\n",
       "<p>8912 rows × 3 columns</p>\n",
       "</div>"
      ],
      "text/plain": [
       "      n_chars  n_words  avg_word_len\n",
       "0         104       29      3.586207\n",
       "1         118       26      4.538462\n",
       "2          65       17      3.823529\n",
       "3          68       16      4.250000\n",
       "4         115       27      4.259259\n",
       "...       ...      ...           ...\n",
       "9088       26        7      3.714286\n",
       "9089      107       22      4.863636\n",
       "9090      127       27      4.703704\n",
       "9091      117       25      4.680000\n",
       "9092       89       41      2.170732\n",
       "\n",
       "[8912 rows x 3 columns]"
      ]
     },
     "execution_count": 35,
     "metadata": {},
     "output_type": "execute_result"
    },
    {
     "data": {
      "application/javascript": [
       "\n",
       "            setTimeout(function() {\n",
       "                var nbb_cell_id = 35;\n",
       "                var nbb_unformatted_code = \"df[\\\"n_chars\\\"] = df[\\\"text\\\"].str.replace(\\\"\\\\s+\\\", \\\"\\\", regex=True).map(len)\\ndf[\\\"n_words\\\"] = df[\\\"text\\\"].map(nltk.casual_tokenize).map(len)\\ndf[\\\"avg_word_len\\\"] = df[\\\"n_chars\\\"] / df[\\\"n_words\\\"]\\ndf[[\\\"n_chars\\\", \\\"n_words\\\", \\\"avg_word_len\\\"]]\";\n",
       "                var nbb_formatted_code = \"df[\\\"n_chars\\\"] = df[\\\"text\\\"].str.replace(\\\"\\\\s+\\\", \\\"\\\", regex=True).map(len)\\ndf[\\\"n_words\\\"] = df[\\\"text\\\"].map(nltk.casual_tokenize).map(len)\\ndf[\\\"avg_word_len\\\"] = df[\\\"n_chars\\\"] / df[\\\"n_words\\\"]\\ndf[[\\\"n_chars\\\", \\\"n_words\\\", \\\"avg_word_len\\\"]]\";\n",
       "                var nbb_cells = Jupyter.notebook.get_cells();\n",
       "                for (var i = 0; i < nbb_cells.length; ++i) {\n",
       "                    if (nbb_cells[i].input_prompt_number == nbb_cell_id) {\n",
       "                        if (nbb_cells[i].get_text() == nbb_unformatted_code) {\n",
       "                             nbb_cells[i].set_text(nbb_formatted_code);\n",
       "                        }\n",
       "                        break;\n",
       "                    }\n",
       "                }\n",
       "            }, 500);\n",
       "            "
      ],
      "text/plain": [
       "<IPython.core.display.Javascript object>"
      ]
     },
     "metadata": {},
     "output_type": "display_data"
    }
   ],
   "source": [
    "df[\"n_chars\"] = df[\"text\"].str.replace(\"\\s+\", \"\", regex=True).map(len)\n",
    "df[\"n_words\"] = df[\"text\"].map(nltk.casual_tokenize).map(len)\n",
    "df[\"avg_word_len\"] = df[\"n_chars\"] / df[\"n_words\"]\n",
    "df[[\"n_chars\", \"n_words\", \"avg_word_len\"]]"
   ]
  },
  {
   "cell_type": "markdown",
   "metadata": {},
   "source": [
    "# Exploration"
   ]
  },
  {
   "cell_type": "code",
   "execution_count": 36,
   "metadata": {
    "ExecuteTime": {
     "end_time": "2021-06-26T17:09:48.779525Z",
     "start_time": "2021-06-26T17:09:48.119495Z"
    }
   },
   "outputs": [
    {
     "data": {
      "image/png": "[encoded data removed]",
      "text/plain": [
       "<Figure size 1080x360 with 3 Axes>"
      ]
     },
     "metadata": {
      "needs_background": "light"
     },
     "output_type": "display_data"
    },
    {
     "data": {
      "application/javascript": [
       "\n",
       "            setTimeout(function() {\n",
       "                var nbb_cell_id = 36;\n",
       "                var nbb_unformatted_code = \"fig = plotting.countplot(\\n    df.explode(\\\"brand_terms\\\").groupby(\\\"emotion\\\")[\\\"brand_terms\\\"],\\n    normalize=True,\\n)\";\n",
       "                var nbb_formatted_code = \"fig = plotting.countplot(\\n    df.explode(\\\"brand_terms\\\").groupby(\\\"emotion\\\")[\\\"brand_terms\\\"],\\n    normalize=True,\\n)\";\n",
       "                var nbb_cells = Jupyter.notebook.get_cells();\n",
       "                for (var i = 0; i < nbb_cells.length; ++i) {\n",
       "                    if (nbb_cells[i].input_prompt_number == nbb_cell_id) {\n",
       "                        if (nbb_cells[i].get_text() == nbb_unformatted_code) {\n",
       "                             nbb_cells[i].set_text(nbb_formatted_code);\n",
       "                        }\n",
       "                        break;\n",
       "                    }\n",
       "                }\n",
       "            }, 500);\n",
       "            "
      ],
      "text/plain": [
       "<IPython.core.display.Javascript object>"
      ]
     },
     "metadata": {},
     "output_type": "display_data"
    }
   ],
   "source": [
    "fig = plotting.countplot(\n",
    "    df.explode(\"brand_terms\").groupby(\"emotion\")[\"brand_terms\"],\n",
    "    normalize=True,\n",
    ")"
   ]
  },
  {
   "cell_type": "code",
   "execution_count": 37,
   "metadata": {
    "ExecuteTime": {
     "end_time": "2021-06-26T17:09:49.633827Z",
     "start_time": "2021-06-26T17:09:48.780499Z"
    }
   },
   "outputs": [
    {
     "data": {
      "image/png": "[encoded data removed]",
      "text/plain": [
       "<Figure size 1080x360 with 3 Axes>"
      ]
     },
     "metadata": {
      "needs_background": "light"
     },
     "output_type": "display_data"
    },
    {
     "data": {
      "application/javascript": [
       "\n",
       "            setTimeout(function() {\n",
       "                var nbb_cell_id = 37;\n",
       "                var nbb_unformatted_code = \"grouped = df.explode(\\\"pos_tags\\\").groupby(\\\"emotion\\\")[\\\"pos_tags\\\"]\\n\\nfig = plotting.countplot(grouped, normalize=True, topn=10)\";\n",
       "                var nbb_formatted_code = \"grouped = df.explode(\\\"pos_tags\\\").groupby(\\\"emotion\\\")[\\\"pos_tags\\\"]\\n\\nfig = plotting.countplot(grouped, normalize=True, topn=10)\";\n",
       "                var nbb_cells = Jupyter.notebook.get_cells();\n",
       "                for (var i = 0; i < nbb_cells.length; ++i) {\n",
       "                    if (nbb_cells[i].input_prompt_number == nbb_cell_id) {\n",
       "                        if (nbb_cells[i].get_text() == nbb_unformatted_code) {\n",
       "                             nbb_cells[i].set_text(nbb_formatted_code);\n",
       "                        }\n",
       "                        break;\n",
       "                    }\n",
       "                }\n",
       "            }, 500);\n",
       "            "
      ],
      "text/plain": [
       "<IPython.core.display.Javascript object>"
      ]
     },
     "metadata": {},
     "output_type": "display_data"
    }
   ],
   "source": [
    "grouped = df.explode(\"pos_tags\").groupby(\"emotion\")[\"pos_tags\"]\n",
    "\n",
    "fig = plotting.countplot(grouped, normalize=True, topn=10)"
   ]
  },
  {
   "cell_type": "code",
   "execution_count": 38,
   "metadata": {
    "ExecuteTime": {
     "end_time": "2021-06-26T17:09:50.030851Z",
     "start_time": "2021-06-26T17:09:49.634827Z"
    }
   },
   "outputs": [
    {
     "data": {
      "text/plain": [
       "<AxesSubplot:xlabel='object_of_emotion,emotion'>"
      ]
     },
     "execution_count": 38,
     "metadata": {},
     "output_type": "execute_result"
    },
    {
     "data": {
      "image/png": "[encoded data removed]",
      "text/plain": [
       "<Figure size 432x288 with 1 Axes>"
      ]
     },
     "metadata": {
      "needs_background": "light"
     },
     "output_type": "display_data"
    },
    {
     "data": {
      "application/javascript": [
       "\n",
       "            setTimeout(function() {\n",
       "                var nbb_cell_id = 38;\n",
       "                var nbb_unformatted_code = \"df.groupby([\\\"object_of_emotion\\\", \\\"emotion\\\"])[\\\"avg_word_len\\\"].mean().plot.bar()\";\n",
       "                var nbb_formatted_code = \"df.groupby([\\\"object_of_emotion\\\", \\\"emotion\\\"])[\\\"avg_word_len\\\"].mean().plot.bar()\";\n",
       "                var nbb_cells = Jupyter.notebook.get_cells();\n",
       "                for (var i = 0; i < nbb_cells.length; ++i) {\n",
       "                    if (nbb_cells[i].input_prompt_number == nbb_cell_id) {\n",
       "                        if (nbb_cells[i].get_text() == nbb_unformatted_code) {\n",
       "                             nbb_cells[i].set_text(nbb_formatted_code);\n",
       "                        }\n",
       "                        break;\n",
       "                    }\n",
       "                }\n",
       "            }, 500);\n",
       "            "
      ],
      "text/plain": [
       "<IPython.core.display.Javascript object>"
      ]
     },
     "metadata": {},
     "output_type": "display_data"
    }
   ],
   "source": [
    "df.groupby([\"object_of_emotion\", \"emotion\"])[\"avg_word_len\"].mean().plot.bar()"
   ]
  },
  {
   "cell_type": "code",
   "execution_count": 39,
   "metadata": {
    "ExecuteTime": {
     "end_time": "2021-06-26T17:09:50.128826Z",
     "start_time": "2021-06-26T17:09:50.031823Z"
    }
   },
   "outputs": [
    {
     "name": "stdout",
     "output_type": "stream",
     "text": [
      "['#sxsw', 'a', 'about', 'above', 'across', 'after', 'afterwards', 'again', 'against', 'all', 'almost', 'alone', 'along', 'already', 'also', 'although', 'always', 'am', 'among', 'amongst', 'amoungst', 'amount', 'an', 'and', 'another', 'any', 'anyhow', 'anyone', 'anything', 'anyway', 'anywhere', 'are', 'around', 'as', 'at', 'back', 'be', 'became', 'because', 'become', 'becomes', 'becoming', 'been', 'before', 'beforehand', 'behind', 'being', 'below', 'beside', 'besides', 'between', 'beyond', 'bill', 'both', 'bottom', 'but', 'by', 'call', 'can', 'cannot', 'cant', 'co', 'computer', 'con', 'could', 'couldnt', 'cry', 'de', 'describe', 'detail', 'did', 'didn', 'do', 'does', 'doesn', 'doing', 'don', 'done', 'down', 'due', 'during', 'each', 'eg', 'eight', 'either', 'eleven', 'else', 'elsewhere', 'empty', 'enough', 'etc', 'even', 'ever', 'every', 'everyone', 'everything', 'everywhere', 'except', 'few', 'fifteen', 'fifty', 'fill', 'find', 'fire', 'first', 'five', 'for', 'former', 'formerly', 'forty', 'found', 'four', 'from', 'front', 'full', 'further', 'get', 'give', 'go', 'had', 'has', 'hasnt', 'have', 'he', 'hence', 'her', 'here', 'hereafter', 'hereby', 'herein', 'hereupon', 'hers', 'herself', 'him', 'himself', 'his', 'how', 'however', 'hundred', 'i', 'ie', 'if', 'in', 'inc', 'indeed', 'interest', 'into', 'is', 'it', 'its', 'itself', 'just', 'keep', 'kg', 'km', 'last', 'latter', 'latterly', 'least', 'less', 'link', 'ltd', 'made', 'make', 'many', 'may', 'me', 'meanwhile', 'might', 'mill', 'mine', 'more', 'moreover', 'most', 'mostly', 'move', 'much', 'must', 'my', 'myself', 'name', 'namely', 'neither', 'never', 'nevertheless', 'next', 'nine', 'no', 'nobody', 'none', 'noone', 'nor', 'not', 'nothing', 'now', 'nowhere', 'of', 'off', 'often', 'on', 'once', 'one', 'only', 'onto', 'or', 'other', 'others', 'otherwise', 'our', 'ours', 'ourselves', 'out', 'over', 'own', 'part', 'per', 'perhaps', 'please', 'put', 'quite', 'quot', 'rather', 're', 'really', 'regarding', 'same', 'say', 'see', 'seem', 'seemed', 'seeming', 'seems', 'serious', 'several', 'she', 'should', 'show', 'side', 'since', 'sincere', 'six', 'sixty', 'so', 'some', 'somehow', 'someone', 'something', 'sometime', 'sometimes', 'somewhere', 'still', 'such', 'sxsw', 'system', 'take', 'ten', 'than', 'that', 'the', 'their', 'them', 'themselves', 'then', 'thence', 'there', 'thereafter', 'thereby', 'therefore', 'therein', 'thereupon', 'these', 'they', 'thick', 'thin', 'third', 'this', 'those', 'though', 'three', 'through', 'throughout', 'thru', 'thus', 'to', 'together', 'too', 'top', 'toward', 'towards', 'twelve', 'twenty', 'two', 'un', 'under', 'unless', 'until', 'up', 'upon', 'us', 'used', 'using', 'various', 'very', 'via', 'was', 'we', 'well', 'were', 'what', 'whatever', 'when', 'whence', 'whenever', 'where', 'whereafter', 'whereas', 'whereby', 'wherein', 'whereupon', 'wherever', 'whether', 'which', 'while', 'whither', 'who', 'whoever', 'whole', 'whom', 'whose', 'why', 'will', 'with', 'within', 'without', 'would', 'yet', 'you', 'your', 'yours', 'yourself', 'yourselves']\n"
     ]
    },
    {
     "data": {
      "application/javascript": [
       "\n",
       "            setTimeout(function() {\n",
       "                var nbb_cell_id = 39;\n",
       "                var nbb_unformatted_code = \"stop_words = list(STOPWORDS) + [\\\"sxsw\\\", \\\"#sxsw\\\", \\\"quot\\\", \\\"link\\\"]\\nstop_words.sort()\\nprint(stop_words)\";\n",
       "                var nbb_formatted_code = \"stop_words = list(STOPWORDS) + [\\\"sxsw\\\", \\\"#sxsw\\\", \\\"quot\\\", \\\"link\\\"]\\nstop_words.sort()\\nprint(stop_words)\";\n",
       "                var nbb_cells = Jupyter.notebook.get_cells();\n",
       "                for (var i = 0; i < nbb_cells.length; ++i) {\n",
       "                    if (nbb_cells[i].input_prompt_number == nbb_cell_id) {\n",
       "                        if (nbb_cells[i].get_text() == nbb_unformatted_code) {\n",
       "                             nbb_cells[i].set_text(nbb_formatted_code);\n",
       "                        }\n",
       "                        break;\n",
       "                    }\n",
       "                }\n",
       "            }, 500);\n",
       "            "
      ],
      "text/plain": [
       "<IPython.core.display.Javascript object>"
      ]
     },
     "metadata": {},
     "output_type": "display_data"
    }
   ],
   "source": [
    "stop_words = list(STOPWORDS) + [\"sxsw\", \"#sxsw\", \"quot\", \"link\"]\n",
    "stop_words.sort()\n",
    "print(stop_words)"
   ]
  },
  {
   "cell_type": "code",
   "execution_count": 40,
   "metadata": {
    "ExecuteTime": {
     "end_time": "2021-06-26T17:09:50.245823Z",
     "start_time": "2021-06-26T17:09:50.129825Z"
    }
   },
   "outputs": [
    {
     "data": {
      "text/plain": [
       "Negative  Android                 they took away the lego pit but replaced with ...\n",
       "          Android App             beware the android #sxsw app for schedules com...\n",
       "          Apple                   again? @mention line the apple store insane #s...\n",
       "          Google                  @mention false alarm google circles not coming...\n",
       "          Other Apple Product     @mention meant itunes doesn work for don run a...\n",
       "          Other Google Product    @mention google launch major new social networ...\n",
       "          iOS App                 @sxsw hope this year festival isn crashy this ...\n",
       "          iPad                    attending @mention ipad design headaches #sxsw...\n",
       "          iPhone                  @wesley have iphone after hrs tweeting #rise a...\n",
       "Neutral   NaN                     @teachntech new ipad apps for #speechtherapy a...\n",
       "Positive  Android                 #sxsw just starting #ctia around the corner an...\n",
       "          Android App             find amp start impromptu parties #sxsw with @h...\n",
       "          Apple                   counting down the days #sxsw plus strong canad...\n",
       "          Google                  @sxtxstate great stuff fri #sxsw marissa mayer...\n",
       "          Other Apple Product     pedicab iphone charger would epic win #sxsw pu...\n",
       "          Other Google Product    gotta love this #sxsw google calendar featurin...\n",
       "          iOS App                 @jessedee know about @fludapp awesome ipad iph...\n",
       "          iPad                    @swonderlin can not wait for #ipad also they s...\n",
       "          iPhone                  love @mention iphone case from #sxsw but can g...\n",
       "dtype: object"
      ]
     },
     "execution_count": 40,
     "metadata": {},
     "output_type": "execute_result"
    },
    {
     "data": {
      "application/javascript": [
       "\n",
       "            setTimeout(function() {\n",
       "                var nbb_cell_id = 40;\n",
       "                var nbb_unformatted_code = \"brand_docs = (\\n    pd.Series(df.groupby([\\\"emotion\\\", \\\"object_of_emotion\\\"]).groups)\\n    .map(lambda x: df.loc[x, \\\"clean_text\\\"])\\n    .map(lambda x: \\\" \\\".join(x))\\n)\\n\\nbrand_docs = brand_docs.drop(index=np.nan, level=0)\\nbrand_docs\";\n",
       "                var nbb_formatted_code = \"brand_docs = (\\n    pd.Series(df.groupby([\\\"emotion\\\", \\\"object_of_emotion\\\"]).groups)\\n    .map(lambda x: df.loc[x, \\\"clean_text\\\"])\\n    .map(lambda x: \\\" \\\".join(x))\\n)\\n\\nbrand_docs = brand_docs.drop(index=np.nan, level=0)\\nbrand_docs\";\n",
       "                var nbb_cells = Jupyter.notebook.get_cells();\n",
       "                for (var i = 0; i < nbb_cells.length; ++i) {\n",
       "                    if (nbb_cells[i].input_prompt_number == nbb_cell_id) {\n",
       "                        if (nbb_cells[i].get_text() == nbb_unformatted_code) {\n",
       "                             nbb_cells[i].set_text(nbb_formatted_code);\n",
       "                        }\n",
       "                        break;\n",
       "                    }\n",
       "                }\n",
       "            }, 500);\n",
       "            "
      ],
      "text/plain": [
       "<IPython.core.display.Javascript object>"
      ]
     },
     "metadata": {},
     "output_type": "display_data"
    }
   ],
   "source": [
    "brand_docs = (\n",
    "    pd.Series(df.groupby([\"emotion\", \"object_of_emotion\"]).groups)\n",
    "    .map(lambda x: df.loc[x, \"clean_text\"])\n",
    "    .map(lambda x: \" \".join(x))\n",
    ")\n",
    "\n",
    "brand_docs = brand_docs.drop(index=np.nan, level=0)\n",
    "brand_docs"
   ]
  },
  {
   "cell_type": "code",
   "execution_count": 41,
   "metadata": {
    "ExecuteTime": {
     "end_time": "2021-06-26T17:09:51.093481Z",
     "start_time": "2021-06-26T17:09:50.246823Z"
    }
   },
   "outputs": [
    {
     "data": {
      "text/html": [
       "<div>\n",
       "<style scoped>\n",
       "    .dataframe tbody tr th:only-of-type {\n",
       "        vertical-align: middle;\n",
       "    }\n",
       "\n",
       "    .dataframe tbody tr th {\n",
       "        vertical-align: top;\n",
       "    }\n",
       "\n",
       "    .dataframe thead tr th {\n",
       "        text-align: left;\n",
       "    }\n",
       "</style>\n",
       "<table border=\"1\" class=\"dataframe\">\n",
       "  <thead>\n",
       "    <tr>\n",
       "      <th></th>\n",
       "      <th colspan=\"9\" halign=\"left\">Negative</th>\n",
       "      <th>Neutral</th>\n",
       "      <th colspan=\"9\" halign=\"left\">Positive</th>\n",
       "    </tr>\n",
       "    <tr>\n",
       "      <th></th>\n",
       "      <th>Android</th>\n",
       "      <th>Android App</th>\n",
       "      <th>Apple</th>\n",
       "      <th>Google</th>\n",
       "      <th>Other Apple Product</th>\n",
       "      <th>Other Google Product</th>\n",
       "      <th>iOS App</th>\n",
       "      <th>iPad</th>\n",
       "      <th>iPhone</th>\n",
       "      <th>NaN</th>\n",
       "      <th>Android</th>\n",
       "      <th>Android App</th>\n",
       "      <th>Apple</th>\n",
       "      <th>Google</th>\n",
       "      <th>Other Apple Product</th>\n",
       "      <th>Other Google Product</th>\n",
       "      <th>iOS App</th>\n",
       "      <th>iPad</th>\n",
       "      <th>iPhone</th>\n",
       "    </tr>\n",
       "  </thead>\n",
       "  <tbody>\n",
       "    <tr>\n",
       "      <th>!</th>\n",
       "      <td>0.04388</td>\n",
       "      <td>0.025603</td>\n",
       "      <td>0.054796</td>\n",
       "      <td>0.062841</td>\n",
       "      <td>0.0</td>\n",
       "      <td>0.041581</td>\n",
       "      <td>0.073591</td>\n",
       "      <td>0.040762</td>\n",
       "      <td>0.135289</td>\n",
       "      <td>0.171880</td>\n",
       "      <td>0.207318</td>\n",
       "      <td>0.243020</td>\n",
       "      <td>0.132520</td>\n",
       "      <td>0.193603</td>\n",
       "      <td>0.215399</td>\n",
       "      <td>0.119854</td>\n",
       "      <td>0.267892</td>\n",
       "      <td>0.249208</td>\n",
       "      <td>0.292128</td>\n",
       "    </tr>\n",
       "    <tr>\n",
       "      <th>! !</th>\n",
       "      <td>0.00000</td>\n",
       "      <td>0.000000</td>\n",
       "      <td>0.005163</td>\n",
       "      <td>0.010996</td>\n",
       "      <td>0.0</td>\n",
       "      <td>0.016977</td>\n",
       "      <td>0.022535</td>\n",
       "      <td>0.000000</td>\n",
       "      <td>0.011047</td>\n",
       "      <td>0.013888</td>\n",
       "      <td>0.027452</td>\n",
       "      <td>0.029766</td>\n",
       "      <td>0.010887</td>\n",
       "      <td>0.041427</td>\n",
       "      <td>0.000000</td>\n",
       "      <td>0.034769</td>\n",
       "      <td>0.044972</td>\n",
       "      <td>0.048623</td>\n",
       "      <td>0.022363</td>\n",
       "    </tr>\n",
       "    <tr>\n",
       "      <th>! ! !</th>\n",
       "      <td>0.00000</td>\n",
       "      <td>0.000000</td>\n",
       "      <td>0.000000</td>\n",
       "      <td>0.005793</td>\n",
       "      <td>0.0</td>\n",
       "      <td>0.008943</td>\n",
       "      <td>0.007914</td>\n",
       "      <td>0.000000</td>\n",
       "      <td>0.005820</td>\n",
       "      <td>0.004413</td>\n",
       "      <td>0.007231</td>\n",
       "      <td>0.015681</td>\n",
       "      <td>0.003128</td>\n",
       "      <td>0.015051</td>\n",
       "      <td>0.000000</td>\n",
       "      <td>0.018316</td>\n",
       "      <td>0.017549</td>\n",
       "      <td>0.016127</td>\n",
       "      <td>0.006732</td>\n",
       "    </tr>\n",
       "    <tr>\n",
       "      <th>! ! #angrybirds</th>\n",
       "      <td>0.00000</td>\n",
       "      <td>0.000000</td>\n",
       "      <td>0.000000</td>\n",
       "      <td>0.000000</td>\n",
       "      <td>0.0</td>\n",
       "      <td>0.000000</td>\n",
       "      <td>0.000000</td>\n",
       "      <td>0.000000</td>\n",
       "      <td>0.000000</td>\n",
       "      <td>0.000565</td>\n",
       "      <td>0.000000</td>\n",
       "      <td>0.000000</td>\n",
       "      <td>0.000000</td>\n",
       "      <td>0.000000</td>\n",
       "      <td>0.000000</td>\n",
       "      <td>0.000000</td>\n",
       "      <td>0.000000</td>\n",
       "      <td>0.000000</td>\n",
       "      <td>0.000000</td>\n",
       "    </tr>\n",
       "    <tr>\n",
       "      <th>! ! #apple</th>\n",
       "      <td>0.00000</td>\n",
       "      <td>0.000000</td>\n",
       "      <td>0.000000</td>\n",
       "      <td>0.000000</td>\n",
       "      <td>0.0</td>\n",
       "      <td>0.000000</td>\n",
       "      <td>0.000000</td>\n",
       "      <td>0.000000</td>\n",
       "      <td>0.000000</td>\n",
       "      <td>0.000000</td>\n",
       "      <td>0.000000</td>\n",
       "      <td>0.000000</td>\n",
       "      <td>0.000000</td>\n",
       "      <td>0.000000</td>\n",
       "      <td>0.000000</td>\n",
       "      <td>0.000000</td>\n",
       "      <td>0.000000</td>\n",
       "      <td>0.002309</td>\n",
       "      <td>0.000000</td>\n",
       "    </tr>\n",
       "    <tr>\n",
       "      <th>...</th>\n",
       "      <td>...</td>\n",
       "      <td>...</td>\n",
       "      <td>...</td>\n",
       "      <td>...</td>\n",
       "      <td>...</td>\n",
       "      <td>...</td>\n",
       "      <td>...</td>\n",
       "      <td>...</td>\n",
       "      <td>...</td>\n",
       "      <td>...</td>\n",
       "      <td>...</td>\n",
       "      <td>...</td>\n",
       "      <td>...</td>\n",
       "      <td>...</td>\n",
       "      <td>...</td>\n",
       "      <td>...</td>\n",
       "      <td>...</td>\n",
       "      <td>...</td>\n",
       "      <td>...</td>\n",
       "    </tr>\n",
       "    <tr>\n",
       "      <th>zynga facebook</th>\n",
       "      <td>0.00000</td>\n",
       "      <td>0.000000</td>\n",
       "      <td>0.000000</td>\n",
       "      <td>0.000000</td>\n",
       "      <td>0.0</td>\n",
       "      <td>0.000000</td>\n",
       "      <td>0.000000</td>\n",
       "      <td>0.000000</td>\n",
       "      <td>0.000000</td>\n",
       "      <td>0.002262</td>\n",
       "      <td>0.000000</td>\n",
       "      <td>0.000000</td>\n",
       "      <td>0.000000</td>\n",
       "      <td>0.000000</td>\n",
       "      <td>0.000000</td>\n",
       "      <td>0.000000</td>\n",
       "      <td>0.000000</td>\n",
       "      <td>0.000000</td>\n",
       "      <td>0.000000</td>\n",
       "    </tr>\n",
       "    <tr>\n",
       "      <th>zynga facebook microsoft</th>\n",
       "      <td>0.00000</td>\n",
       "      <td>0.000000</td>\n",
       "      <td>0.000000</td>\n",
       "      <td>0.000000</td>\n",
       "      <td>0.0</td>\n",
       "      <td>0.000000</td>\n",
       "      <td>0.000000</td>\n",
       "      <td>0.000000</td>\n",
       "      <td>0.000000</td>\n",
       "      <td>0.002262</td>\n",
       "      <td>0.000000</td>\n",
       "      <td>0.000000</td>\n",
       "      <td>0.000000</td>\n",
       "      <td>0.000000</td>\n",
       "      <td>0.000000</td>\n",
       "      <td>0.000000</td>\n",
       "      <td>0.000000</td>\n",
       "      <td>0.000000</td>\n",
       "      <td>0.000000</td>\n",
       "    </tr>\n",
       "    <tr>\n",
       "      <th>zzzs</th>\n",
       "      <td>0.00000</td>\n",
       "      <td>0.000000</td>\n",
       "      <td>0.000000</td>\n",
       "      <td>0.000000</td>\n",
       "      <td>0.0</td>\n",
       "      <td>0.000000</td>\n",
       "      <td>0.000000</td>\n",
       "      <td>0.000000</td>\n",
       "      <td>0.014167</td>\n",
       "      <td>0.000000</td>\n",
       "      <td>0.000000</td>\n",
       "      <td>0.000000</td>\n",
       "      <td>0.000000</td>\n",
       "      <td>0.000000</td>\n",
       "      <td>0.000000</td>\n",
       "      <td>0.000000</td>\n",
       "      <td>0.000000</td>\n",
       "      <td>0.000000</td>\n",
       "      <td>0.000000</td>\n",
       "    </tr>\n",
       "    <tr>\n",
       "      <th>zzzs iphone</th>\n",
       "      <td>0.00000</td>\n",
       "      <td>0.000000</td>\n",
       "      <td>0.000000</td>\n",
       "      <td>0.000000</td>\n",
       "      <td>0.0</td>\n",
       "      <td>0.000000</td>\n",
       "      <td>0.000000</td>\n",
       "      <td>0.000000</td>\n",
       "      <td>0.014167</td>\n",
       "      <td>0.000000</td>\n",
       "      <td>0.000000</td>\n",
       "      <td>0.000000</td>\n",
       "      <td>0.000000</td>\n",
       "      <td>0.000000</td>\n",
       "      <td>0.000000</td>\n",
       "      <td>0.000000</td>\n",
       "      <td>0.000000</td>\n",
       "      <td>0.000000</td>\n",
       "      <td>0.000000</td>\n",
       "    </tr>\n",
       "    <tr>\n",
       "      <th>zzzs iphone battery</th>\n",
       "      <td>0.00000</td>\n",
       "      <td>0.000000</td>\n",
       "      <td>0.000000</td>\n",
       "      <td>0.000000</td>\n",
       "      <td>0.0</td>\n",
       "      <td>0.000000</td>\n",
       "      <td>0.000000</td>\n",
       "      <td>0.000000</td>\n",
       "      <td>0.014167</td>\n",
       "      <td>0.000000</td>\n",
       "      <td>0.000000</td>\n",
       "      <td>0.000000</td>\n",
       "      <td>0.000000</td>\n",
       "      <td>0.000000</td>\n",
       "      <td>0.000000</td>\n",
       "      <td>0.000000</td>\n",
       "      <td>0.000000</td>\n",
       "      <td>0.000000</td>\n",
       "      <td>0.000000</td>\n",
       "    </tr>\n",
       "  </tbody>\n",
       "</table>\n",
       "<p>104142 rows × 19 columns</p>\n",
       "</div>"
      ],
      "text/plain": [
       "                         Negative                                  \\\n",
       "                          Android Android App     Apple    Google   \n",
       "!                         0.04388    0.025603  0.054796  0.062841   \n",
       "! !                       0.00000    0.000000  0.005163  0.010996   \n",
       "! ! !                     0.00000    0.000000  0.000000  0.005793   \n",
       "! ! #angrybirds           0.00000    0.000000  0.000000  0.000000   \n",
       "! ! #apple                0.00000    0.000000  0.000000  0.000000   \n",
       "...                           ...         ...       ...       ...   \n",
       "zynga facebook            0.00000    0.000000  0.000000  0.000000   \n",
       "zynga facebook microsoft  0.00000    0.000000  0.000000  0.000000   \n",
       "zzzs                      0.00000    0.000000  0.000000  0.000000   \n",
       "zzzs iphone               0.00000    0.000000  0.000000  0.000000   \n",
       "zzzs iphone battery       0.00000    0.000000  0.000000  0.000000   \n",
       "\n",
       "                                                                             \\\n",
       "                         Other Apple Product Other Google Product   iOS App   \n",
       "!                                        0.0             0.041581  0.073591   \n",
       "! !                                      0.0             0.016977  0.022535   \n",
       "! ! !                                    0.0             0.008943  0.007914   \n",
       "! ! #angrybirds                          0.0             0.000000  0.000000   \n",
       "! ! #apple                               0.0             0.000000  0.000000   \n",
       "...                                      ...                  ...       ...   \n",
       "zynga facebook                           0.0             0.000000  0.000000   \n",
       "zynga facebook microsoft                 0.0             0.000000  0.000000   \n",
       "zzzs                                     0.0             0.000000  0.000000   \n",
       "zzzs iphone                              0.0             0.000000  0.000000   \n",
       "zzzs iphone battery                      0.0             0.000000  0.000000   \n",
       "\n",
       "                                               Neutral  Positive              \\\n",
       "                              iPad    iPhone       NaN   Android Android App   \n",
       "!                         0.040762  0.135289  0.171880  0.207318    0.243020   \n",
       "! !                       0.000000  0.011047  0.013888  0.027452    0.029766   \n",
       "! ! !                     0.000000  0.005820  0.004413  0.007231    0.015681   \n",
       "! ! #angrybirds           0.000000  0.000000  0.000565  0.000000    0.000000   \n",
       "! ! #apple                0.000000  0.000000  0.000000  0.000000    0.000000   \n",
       "...                            ...       ...       ...       ...         ...   \n",
       "zynga facebook            0.000000  0.000000  0.002262  0.000000    0.000000   \n",
       "zynga facebook microsoft  0.000000  0.000000  0.002262  0.000000    0.000000   \n",
       "zzzs                      0.000000  0.014167  0.000000  0.000000    0.000000   \n",
       "zzzs iphone               0.000000  0.014167  0.000000  0.000000    0.000000   \n",
       "zzzs iphone battery       0.000000  0.014167  0.000000  0.000000    0.000000   \n",
       "\n",
       "                                                                  \\\n",
       "                             Apple    Google Other Apple Product   \n",
       "!                         0.132520  0.193603            0.215399   \n",
       "! !                       0.010887  0.041427            0.000000   \n",
       "! ! !                     0.003128  0.015051            0.000000   \n",
       "! ! #angrybirds           0.000000  0.000000            0.000000   \n",
       "! ! #apple                0.000000  0.000000            0.000000   \n",
       "...                            ...       ...                 ...   \n",
       "zynga facebook            0.000000  0.000000            0.000000   \n",
       "zynga facebook microsoft  0.000000  0.000000            0.000000   \n",
       "zzzs                      0.000000  0.000000            0.000000   \n",
       "zzzs iphone               0.000000  0.000000            0.000000   \n",
       "zzzs iphone battery       0.000000  0.000000            0.000000   \n",
       "\n",
       "                                                                             \n",
       "                         Other Google Product   iOS App      iPad    iPhone  \n",
       "!                                    0.119854  0.267892  0.249208  0.292128  \n",
       "! !                                  0.034769  0.044972  0.048623  0.022363  \n",
       "! ! !                                0.018316  0.017549  0.016127  0.006732  \n",
       "! ! #angrybirds                      0.000000  0.000000  0.000000  0.000000  \n",
       "! ! #apple                           0.000000  0.000000  0.002309  0.000000  \n",
       "...                                       ...       ...       ...       ...  \n",
       "zynga facebook                       0.000000  0.000000  0.000000  0.000000  \n",
       "zynga facebook microsoft             0.000000  0.000000  0.000000  0.000000  \n",
       "zzzs                                 0.000000  0.000000  0.000000  0.000000  \n",
       "zzzs iphone                          0.000000  0.000000  0.000000  0.000000  \n",
       "zzzs iphone battery                  0.000000  0.000000  0.000000  0.000000  \n",
       "\n",
       "[104142 rows x 19 columns]"
      ]
     },
     "execution_count": 41,
     "metadata": {},
     "output_type": "execute_result"
    },
    {
     "data": {
      "application/javascript": [
       "\n",
       "            setTimeout(function() {\n",
       "                var nbb_cell_id = 41;\n",
       "                var nbb_unformatted_code = \"tfidf = TfidfVectorizer(\\n    tokenizer=partial(nltk.casual_tokenize, strip_handles=True),\\n    stop_words=stop_words,\\n    max_features=None,\\n    ngram_range=(1, 3),\\n    norm=\\\"l2\\\",\\n)\\nbrand_vecs = tfidf.fit_transform(brand_docs.values)\\nbrand_vecs = lang.frame_doc_vecs(\\n    brand_vecs,\\n    tfidf.vocabulary_,\\n    brand_docs.index,\\n).T\\nbrand_vecs\";\n",
       "                var nbb_formatted_code = \"tfidf = TfidfVectorizer(\\n    tokenizer=partial(nltk.casual_tokenize, strip_handles=True),\\n    stop_words=stop_words,\\n    max_features=None,\\n    ngram_range=(1, 3),\\n    norm=\\\"l2\\\",\\n)\\nbrand_vecs = tfidf.fit_transform(brand_docs.values)\\nbrand_vecs = lang.frame_doc_vecs(\\n    brand_vecs,\\n    tfidf.vocabulary_,\\n    brand_docs.index,\\n).T\\nbrand_vecs\";\n",
       "                var nbb_cells = Jupyter.notebook.get_cells();\n",
       "                for (var i = 0; i < nbb_cells.length; ++i) {\n",
       "                    if (nbb_cells[i].input_prompt_number == nbb_cell_id) {\n",
       "                        if (nbb_cells[i].get_text() == nbb_unformatted_code) {\n",
       "                             nbb_cells[i].set_text(nbb_formatted_code);\n",
       "                        }\n",
       "                        break;\n",
       "                    }\n",
       "                }\n",
       "            }, 500);\n",
       "            "
      ],
      "text/plain": [
       "<IPython.core.display.Javascript object>"
      ]
     },
     "metadata": {},
     "output_type": "display_data"
    }
   ],
   "source": [
    "tfidf = TfidfVectorizer(\n",
    "    tokenizer=partial(nltk.casual_tokenize, strip_handles=True),\n",
    "    stop_words=stop_words,\n",
    "    max_features=None,\n",
    "    ngram_range=(1, 3),\n",
    "    norm=\"l2\",\n",
    ")\n",
    "brand_vecs = tfidf.fit_transform(brand_docs.values)\n",
    "brand_vecs = lang.frame_doc_vecs(\n",
    "    brand_vecs,\n",
    "    tfidf.vocabulary_,\n",
    "    brand_docs.index,\n",
    ").T\n",
    "brand_vecs"
   ]
  },
  {
   "cell_type": "code",
   "execution_count": 42,
   "metadata": {
    "ExecuteTime": {
     "end_time": "2021-06-26T17:09:51.215847Z",
     "start_time": "2021-06-26T17:09:51.094453Z"
    }
   },
   "outputs": [
    {
     "data": {
      "text/html": [
       "<div>\n",
       "<style scoped>\n",
       "    .dataframe tbody tr th:only-of-type {\n",
       "        vertical-align: middle;\n",
       "    }\n",
       "\n",
       "    .dataframe tbody tr th {\n",
       "        vertical-align: top;\n",
       "    }\n",
       "\n",
       "    .dataframe thead tr th {\n",
       "        text-align: left;\n",
       "    }\n",
       "</style>\n",
       "<table border=\"1\" class=\"dataframe\">\n",
       "  <thead>\n",
       "    <tr>\n",
       "      <th></th>\n",
       "      <th colspan=\"9\" halign=\"left\">Negative</th>\n",
       "      <th>Neutral</th>\n",
       "      <th colspan=\"9\" halign=\"left\">Positive</th>\n",
       "    </tr>\n",
       "    <tr>\n",
       "      <th></th>\n",
       "      <th>Android</th>\n",
       "      <th>Android App</th>\n",
       "      <th>Apple</th>\n",
       "      <th>Google</th>\n",
       "      <th>Other Apple Product</th>\n",
       "      <th>Other Google Product</th>\n",
       "      <th>iOS App</th>\n",
       "      <th>iPad</th>\n",
       "      <th>iPhone</th>\n",
       "      <th>NaN</th>\n",
       "      <th>Android</th>\n",
       "      <th>Android App</th>\n",
       "      <th>Apple</th>\n",
       "      <th>Google</th>\n",
       "      <th>Other Apple Product</th>\n",
       "      <th>Other Google Product</th>\n",
       "      <th>iOS App</th>\n",
       "      <th>iPad</th>\n",
       "      <th>iPhone</th>\n",
       "    </tr>\n",
       "  </thead>\n",
       "  <tbody>\n",
       "    <tr>\n",
       "      <th>!</th>\n",
       "      <td>0.04388</td>\n",
       "      <td>0.025603</td>\n",
       "      <td>0.054796</td>\n",
       "      <td>0.062841</td>\n",
       "      <td>0.0</td>\n",
       "      <td>0.041581</td>\n",
       "      <td>0.073591</td>\n",
       "      <td>0.040762</td>\n",
       "      <td>0.135289</td>\n",
       "      <td>0.171880</td>\n",
       "      <td>0.207318</td>\n",
       "      <td>0.243020</td>\n",
       "      <td>0.132520</td>\n",
       "      <td>0.193603</td>\n",
       "      <td>0.215399</td>\n",
       "      <td>0.119854</td>\n",
       "      <td>0.267892</td>\n",
       "      <td>0.249208</td>\n",
       "      <td>0.292128</td>\n",
       "    </tr>\n",
       "    <tr>\n",
       "      <th>! !</th>\n",
       "      <td>0.00000</td>\n",
       "      <td>0.000000</td>\n",
       "      <td>0.005163</td>\n",
       "      <td>0.010996</td>\n",
       "      <td>0.0</td>\n",
       "      <td>0.016977</td>\n",
       "      <td>0.022535</td>\n",
       "      <td>0.000000</td>\n",
       "      <td>0.011047</td>\n",
       "      <td>0.013888</td>\n",
       "      <td>0.027452</td>\n",
       "      <td>0.029766</td>\n",
       "      <td>0.010887</td>\n",
       "      <td>0.041427</td>\n",
       "      <td>0.000000</td>\n",
       "      <td>0.034769</td>\n",
       "      <td>0.044972</td>\n",
       "      <td>0.048623</td>\n",
       "      <td>0.022363</td>\n",
       "    </tr>\n",
       "    <tr>\n",
       "      <th>! ! !</th>\n",
       "      <td>0.00000</td>\n",
       "      <td>0.000000</td>\n",
       "      <td>0.000000</td>\n",
       "      <td>0.005793</td>\n",
       "      <td>0.0</td>\n",
       "      <td>0.008943</td>\n",
       "      <td>0.007914</td>\n",
       "      <td>0.000000</td>\n",
       "      <td>0.005820</td>\n",
       "      <td>0.004413</td>\n",
       "      <td>0.007231</td>\n",
       "      <td>0.015681</td>\n",
       "      <td>0.003128</td>\n",
       "      <td>0.015051</td>\n",
       "      <td>0.000000</td>\n",
       "      <td>0.018316</td>\n",
       "      <td>0.017549</td>\n",
       "      <td>0.016127</td>\n",
       "      <td>0.006732</td>\n",
       "    </tr>\n",
       "    <tr>\n",
       "      <th>! ! #angrybirds</th>\n",
       "      <td>0.00000</td>\n",
       "      <td>0.000000</td>\n",
       "      <td>0.000000</td>\n",
       "      <td>0.000000</td>\n",
       "      <td>0.0</td>\n",
       "      <td>0.000000</td>\n",
       "      <td>0.000000</td>\n",
       "      <td>0.000000</td>\n",
       "      <td>0.000000</td>\n",
       "      <td>0.000565</td>\n",
       "      <td>0.000000</td>\n",
       "      <td>0.000000</td>\n",
       "      <td>0.000000</td>\n",
       "      <td>0.000000</td>\n",
       "      <td>0.000000</td>\n",
       "      <td>0.000000</td>\n",
       "      <td>0.000000</td>\n",
       "      <td>0.000000</td>\n",
       "      <td>0.000000</td>\n",
       "    </tr>\n",
       "    <tr>\n",
       "      <th>! ! #apple</th>\n",
       "      <td>0.00000</td>\n",
       "      <td>0.000000</td>\n",
       "      <td>0.000000</td>\n",
       "      <td>0.000000</td>\n",
       "      <td>0.0</td>\n",
       "      <td>0.000000</td>\n",
       "      <td>0.000000</td>\n",
       "      <td>0.000000</td>\n",
       "      <td>0.000000</td>\n",
       "      <td>0.000000</td>\n",
       "      <td>0.000000</td>\n",
       "      <td>0.000000</td>\n",
       "      <td>0.000000</td>\n",
       "      <td>0.000000</td>\n",
       "      <td>0.000000</td>\n",
       "      <td>0.000000</td>\n",
       "      <td>0.000000</td>\n",
       "      <td>0.002309</td>\n",
       "      <td>0.000000</td>\n",
       "    </tr>\n",
       "    <tr>\n",
       "      <th>...</th>\n",
       "      <td>...</td>\n",
       "      <td>...</td>\n",
       "      <td>...</td>\n",
       "      <td>...</td>\n",
       "      <td>...</td>\n",
       "      <td>...</td>\n",
       "      <td>...</td>\n",
       "      <td>...</td>\n",
       "      <td>...</td>\n",
       "      <td>...</td>\n",
       "      <td>...</td>\n",
       "      <td>...</td>\n",
       "      <td>...</td>\n",
       "      <td>...</td>\n",
       "      <td>...</td>\n",
       "      <td>...</td>\n",
       "      <td>...</td>\n",
       "      <td>...</td>\n",
       "      <td>...</td>\n",
       "    </tr>\n",
       "    <tr>\n",
       "      <th>zynga facebook</th>\n",
       "      <td>0.00000</td>\n",
       "      <td>0.000000</td>\n",
       "      <td>0.000000</td>\n",
       "      <td>0.000000</td>\n",
       "      <td>0.0</td>\n",
       "      <td>0.000000</td>\n",
       "      <td>0.000000</td>\n",
       "      <td>0.000000</td>\n",
       "      <td>0.000000</td>\n",
       "      <td>0.002262</td>\n",
       "      <td>0.000000</td>\n",
       "      <td>0.000000</td>\n",
       "      <td>0.000000</td>\n",
       "      <td>0.000000</td>\n",
       "      <td>0.000000</td>\n",
       "      <td>0.000000</td>\n",
       "      <td>0.000000</td>\n",
       "      <td>0.000000</td>\n",
       "      <td>0.000000</td>\n",
       "    </tr>\n",
       "    <tr>\n",
       "      <th>zynga facebook microsoft</th>\n",
       "      <td>0.00000</td>\n",
       "      <td>0.000000</td>\n",
       "      <td>0.000000</td>\n",
       "      <td>0.000000</td>\n",
       "      <td>0.0</td>\n",
       "      <td>0.000000</td>\n",
       "      <td>0.000000</td>\n",
       "      <td>0.000000</td>\n",
       "      <td>0.000000</td>\n",
       "      <td>0.002262</td>\n",
       "      <td>0.000000</td>\n",
       "      <td>0.000000</td>\n",
       "      <td>0.000000</td>\n",
       "      <td>0.000000</td>\n",
       "      <td>0.000000</td>\n",
       "      <td>0.000000</td>\n",
       "      <td>0.000000</td>\n",
       "      <td>0.000000</td>\n",
       "      <td>0.000000</td>\n",
       "    </tr>\n",
       "    <tr>\n",
       "      <th>zzzs</th>\n",
       "      <td>0.00000</td>\n",
       "      <td>0.000000</td>\n",
       "      <td>0.000000</td>\n",
       "      <td>0.000000</td>\n",
       "      <td>0.0</td>\n",
       "      <td>0.000000</td>\n",
       "      <td>0.000000</td>\n",
       "      <td>0.000000</td>\n",
       "      <td>0.014167</td>\n",
       "      <td>0.000000</td>\n",
       "      <td>0.000000</td>\n",
       "      <td>0.000000</td>\n",
       "      <td>0.000000</td>\n",
       "      <td>0.000000</td>\n",
       "      <td>0.000000</td>\n",
       "      <td>0.000000</td>\n",
       "      <td>0.000000</td>\n",
       "      <td>0.000000</td>\n",
       "      <td>0.000000</td>\n",
       "    </tr>\n",
       "    <tr>\n",
       "      <th>zzzs iphone</th>\n",
       "      <td>0.00000</td>\n",
       "      <td>0.000000</td>\n",
       "      <td>0.000000</td>\n",
       "      <td>0.000000</td>\n",
       "      <td>0.0</td>\n",
       "      <td>0.000000</td>\n",
       "      <td>0.000000</td>\n",
       "      <td>0.000000</td>\n",
       "      <td>0.014167</td>\n",
       "      <td>0.000000</td>\n",
       "      <td>0.000000</td>\n",
       "      <td>0.000000</td>\n",
       "      <td>0.000000</td>\n",
       "      <td>0.000000</td>\n",
       "      <td>0.000000</td>\n",
       "      <td>0.000000</td>\n",
       "      <td>0.000000</td>\n",
       "      <td>0.000000</td>\n",
       "      <td>0.000000</td>\n",
       "    </tr>\n",
       "    <tr>\n",
       "      <th>zzzs iphone battery</th>\n",
       "      <td>0.00000</td>\n",
       "      <td>0.000000</td>\n",
       "      <td>0.000000</td>\n",
       "      <td>0.000000</td>\n",
       "      <td>0.0</td>\n",
       "      <td>0.000000</td>\n",
       "      <td>0.000000</td>\n",
       "      <td>0.000000</td>\n",
       "      <td>0.014167</td>\n",
       "      <td>0.000000</td>\n",
       "      <td>0.000000</td>\n",
       "      <td>0.000000</td>\n",
       "      <td>0.000000</td>\n",
       "      <td>0.000000</td>\n",
       "      <td>0.000000</td>\n",
       "      <td>0.000000</td>\n",
       "      <td>0.000000</td>\n",
       "      <td>0.000000</td>\n",
       "      <td>0.000000</td>\n",
       "    </tr>\n",
       "  </tbody>\n",
       "</table>\n",
       "<p>104142 rows × 19 columns</p>\n",
       "</div>"
      ],
      "text/plain": [
       "                         Negative                                  \\\n",
       "                          Android Android App     Apple    Google   \n",
       "!                         0.04388    0.025603  0.054796  0.062841   \n",
       "! !                       0.00000    0.000000  0.005163  0.010996   \n",
       "! ! !                     0.00000    0.000000  0.000000  0.005793   \n",
       "! ! #angrybirds           0.00000    0.000000  0.000000  0.000000   \n",
       "! ! #apple                0.00000    0.000000  0.000000  0.000000   \n",
       "...                           ...         ...       ...       ...   \n",
       "zynga facebook            0.00000    0.000000  0.000000  0.000000   \n",
       "zynga facebook microsoft  0.00000    0.000000  0.000000  0.000000   \n",
       "zzzs                      0.00000    0.000000  0.000000  0.000000   \n",
       "zzzs iphone               0.00000    0.000000  0.000000  0.000000   \n",
       "zzzs iphone battery       0.00000    0.000000  0.000000  0.000000   \n",
       "\n",
       "                                                                             \\\n",
       "                         Other Apple Product Other Google Product   iOS App   \n",
       "!                                        0.0             0.041581  0.073591   \n",
       "! !                                      0.0             0.016977  0.022535   \n",
       "! ! !                                    0.0             0.008943  0.007914   \n",
       "! ! #angrybirds                          0.0             0.000000  0.000000   \n",
       "! ! #apple                               0.0             0.000000  0.000000   \n",
       "...                                      ...                  ...       ...   \n",
       "zynga facebook                           0.0             0.000000  0.000000   \n",
       "zynga facebook microsoft                 0.0             0.000000  0.000000   \n",
       "zzzs                                     0.0             0.000000  0.000000   \n",
       "zzzs iphone                              0.0             0.000000  0.000000   \n",
       "zzzs iphone battery                      0.0             0.000000  0.000000   \n",
       "\n",
       "                                               Neutral  Positive              \\\n",
       "                              iPad    iPhone       NaN   Android Android App   \n",
       "!                         0.040762  0.135289  0.171880  0.207318    0.243020   \n",
       "! !                       0.000000  0.011047  0.013888  0.027452    0.029766   \n",
       "! ! !                     0.000000  0.005820  0.004413  0.007231    0.015681   \n",
       "! ! #angrybirds           0.000000  0.000000  0.000565  0.000000    0.000000   \n",
       "! ! #apple                0.000000  0.000000  0.000000  0.000000    0.000000   \n",
       "...                            ...       ...       ...       ...         ...   \n",
       "zynga facebook            0.000000  0.000000  0.002262  0.000000    0.000000   \n",
       "zynga facebook microsoft  0.000000  0.000000  0.002262  0.000000    0.000000   \n",
       "zzzs                      0.000000  0.014167  0.000000  0.000000    0.000000   \n",
       "zzzs iphone               0.000000  0.014167  0.000000  0.000000    0.000000   \n",
       "zzzs iphone battery       0.000000  0.014167  0.000000  0.000000    0.000000   \n",
       "\n",
       "                                                                  \\\n",
       "                             Apple    Google Other Apple Product   \n",
       "!                         0.132520  0.193603            0.215399   \n",
       "! !                       0.010887  0.041427            0.000000   \n",
       "! ! !                     0.003128  0.015051            0.000000   \n",
       "! ! #angrybirds           0.000000  0.000000            0.000000   \n",
       "! ! #apple                0.000000  0.000000            0.000000   \n",
       "...                            ...       ...                 ...   \n",
       "zynga facebook            0.000000  0.000000            0.000000   \n",
       "zynga facebook microsoft  0.000000  0.000000            0.000000   \n",
       "zzzs                      0.000000  0.000000            0.000000   \n",
       "zzzs iphone               0.000000  0.000000            0.000000   \n",
       "zzzs iphone battery       0.000000  0.000000            0.000000   \n",
       "\n",
       "                                                                             \n",
       "                         Other Google Product   iOS App      iPad    iPhone  \n",
       "!                                    0.119854  0.267892  0.249208  0.292128  \n",
       "! !                                  0.034769  0.044972  0.048623  0.022363  \n",
       "! ! !                                0.018316  0.017549  0.016127  0.006732  \n",
       "! ! #angrybirds                      0.000000  0.000000  0.000000  0.000000  \n",
       "! ! #apple                           0.000000  0.000000  0.002309  0.000000  \n",
       "...                                       ...       ...       ...       ...  \n",
       "zynga facebook                       0.000000  0.000000  0.000000  0.000000  \n",
       "zynga facebook microsoft             0.000000  0.000000  0.000000  0.000000  \n",
       "zzzs                                 0.000000  0.000000  0.000000  0.000000  \n",
       "zzzs iphone                          0.000000  0.000000  0.000000  0.000000  \n",
       "zzzs iphone battery                  0.000000  0.000000  0.000000  0.000000  \n",
       "\n",
       "[104142 rows x 19 columns]"
      ]
     },
     "execution_count": 42,
     "metadata": {},
     "output_type": "execute_result"
    },
    {
     "data": {
      "application/javascript": [
       "\n",
       "            setTimeout(function() {\n",
       "                var nbb_cell_id = 42;\n",
       "                var nbb_unformatted_code = \"brand_vecs = brand_vecs.sort_index(1)\\nbrand_vecs\";\n",
       "                var nbb_formatted_code = \"brand_vecs = brand_vecs.sort_index(1)\\nbrand_vecs\";\n",
       "                var nbb_cells = Jupyter.notebook.get_cells();\n",
       "                for (var i = 0; i < nbb_cells.length; ++i) {\n",
       "                    if (nbb_cells[i].input_prompt_number == nbb_cell_id) {\n",
       "                        if (nbb_cells[i].get_text() == nbb_unformatted_code) {\n",
       "                             nbb_cells[i].set_text(nbb_formatted_code);\n",
       "                        }\n",
       "                        break;\n",
       "                    }\n",
       "                }\n",
       "            }, 500);\n",
       "            "
      ],
      "text/plain": [
       "<IPython.core.display.Javascript object>"
      ]
     },
     "metadata": {},
     "output_type": "display_data"
    }
   ],
   "source": [
    "brand_vecs = brand_vecs.sort_index(1)\n",
    "brand_vecs"
   ]
  },
  {
   "cell_type": "code",
   "execution_count": 43,
   "metadata": {
    "ExecuteTime": {
     "end_time": "2021-06-26T17:09:51.308848Z",
     "start_time": "2021-06-26T17:09:51.216849Z"
    }
   },
   "outputs": [
    {
     "data": {
      "application/javascript": [
       "\n",
       "            setTimeout(function() {\n",
       "                var nbb_cell_id = 43;\n",
       "                var nbb_unformatted_code = \"# fig = plotting.wordcloud(brand_vecs.loc[:, \\\"Negative\\\"], cmap=\\\"Reds\\\", random_state=rando)\\n# fig.savefig(\\\"negative.png\\\")\";\n",
       "                var nbb_formatted_code = \"# fig = plotting.wordcloud(brand_vecs.loc[:, \\\"Negative\\\"], cmap=\\\"Reds\\\", random_state=rando)\\n# fig.savefig(\\\"negative.png\\\")\";\n",
       "                var nbb_cells = Jupyter.notebook.get_cells();\n",
       "                for (var i = 0; i < nbb_cells.length; ++i) {\n",
       "                    if (nbb_cells[i].input_prompt_number == nbb_cell_id) {\n",
       "                        if (nbb_cells[i].get_text() == nbb_unformatted_code) {\n",
       "                             nbb_cells[i].set_text(nbb_formatted_code);\n",
       "                        }\n",
       "                        break;\n",
       "                    }\n",
       "                }\n",
       "            }, 500);\n",
       "            "
      ],
      "text/plain": [
       "<IPython.core.display.Javascript object>"
      ]
     },
     "metadata": {},
     "output_type": "display_data"
    }
   ],
   "source": [
    "# fig = plotting.wordcloud(brand_vecs.loc[:, \"Negative\"], cmap=\"Reds\", random_state=rando)\n",
    "# fig.savefig(\"negative.png\")"
   ]
  },
  {
   "cell_type": "code",
   "execution_count": 44,
   "metadata": {
    "ExecuteTime": {
     "end_time": "2021-06-26T17:09:51.403851Z",
     "start_time": "2021-06-26T17:09:51.309848Z"
    }
   },
   "outputs": [
    {
     "data": {
      "application/javascript": [
       "\n",
       "            setTimeout(function() {\n",
       "                var nbb_cell_id = 44;\n",
       "                var nbb_unformatted_code = \"# fig = plotting.wordcloud(\\n#     brand_vecs.loc[:, \\\"Positive\\\"], cmap=\\\"Greens\\\", random_state=rando\\n# )\\n# fig.savefig(\\\"positive.png\\\")\";\n",
       "                var nbb_formatted_code = \"# fig = plotting.wordcloud(\\n#     brand_vecs.loc[:, \\\"Positive\\\"], cmap=\\\"Greens\\\", random_state=rando\\n# )\\n# fig.savefig(\\\"positive.png\\\")\";\n",
       "                var nbb_cells = Jupyter.notebook.get_cells();\n",
       "                for (var i = 0; i < nbb_cells.length; ++i) {\n",
       "                    if (nbb_cells[i].input_prompt_number == nbb_cell_id) {\n",
       "                        if (nbb_cells[i].get_text() == nbb_unformatted_code) {\n",
       "                             nbb_cells[i].set_text(nbb_formatted_code);\n",
       "                        }\n",
       "                        break;\n",
       "                    }\n",
       "                }\n",
       "            }, 500);\n",
       "            "
      ],
      "text/plain": [
       "<IPython.core.display.Javascript object>"
      ]
     },
     "metadata": {},
     "output_type": "display_data"
    }
   ],
   "source": [
    "# fig = plotting.wordcloud(\n",
    "#     brand_vecs.loc[:, \"Positive\"], cmap=\"Greens\", random_state=rando\n",
    "# )\n",
    "# fig.savefig(\"positive.png\")"
   ]
  },
  {
   "cell_type": "markdown",
   "metadata": {
    "ExecuteTime": {
     "end_time": "2021-06-18T21:51:57.879110Z",
     "start_time": "2021-06-18T21:51:57.788136Z"
    }
   },
   "source": [
    "# Modeling"
   ]
  },
  {
   "cell_type": "code",
   "execution_count": 45,
   "metadata": {
    "ExecuteTime": {
     "end_time": "2021-06-26T17:09:51.567849Z",
     "start_time": "2021-06-26T17:09:51.404847Z"
    }
   },
   "outputs": [
    {
     "data": {
      "text/plain": [
       "0       @wesley/NNS have/VBP iphone/VBN after/IN hrs/N...\n",
       "1       @jessedee/NN know/VBP about/IN @fludapp/NNP aw...\n",
       "2       @swonderlin/NNS can/MD not/RB wait/VB for/IN #...\n",
       "3       @sxsw/RB hope/NN this/DT year/NN festival/NN i...\n",
       "4       @sxtxstate/JJ great/JJ stuff/NN fri/NN #sxsw/N...\n",
       "                              ...                        \n",
       "9088              ipad/NN everywhere/RB #sxsw/VBZ link/NN\n",
       "9089    wave/NN buzz/NN @mention/NN interrupt/VB your/...\n",
       "9090    google/NN zeiger/NN physician/NN never/RB repo...\n",
       "9091    some/DT verizon/NN iphone/NN customers/NNS com...\n",
       "9092    @mention/NN google/NN tests/NNS check/VBP offe...\n",
       "Name: tagged, Length: 8912, dtype: object"
      ]
     },
     "execution_count": 45,
     "metadata": {},
     "output_type": "execute_result"
    },
    {
     "data": {
      "application/javascript": [
       "\n",
       "            setTimeout(function() {\n",
       "                var nbb_cell_id = 45;\n",
       "                var nbb_unformatted_code = \"df[\\\"tagged\\\"] = df[\\\"tagged\\\"].map(lambda x: [nltk.tuple2str(y) for y in x])\\ndf[\\\"tagged\\\"] = df[\\\"tagged\\\"].str.join(\\\" \\\")\\ndf[\\\"tagged\\\"]\";\n",
       "                var nbb_formatted_code = \"df[\\\"tagged\\\"] = df[\\\"tagged\\\"].map(lambda x: [nltk.tuple2str(y) for y in x])\\ndf[\\\"tagged\\\"] = df[\\\"tagged\\\"].str.join(\\\" \\\")\\ndf[\\\"tagged\\\"]\";\n",
       "                var nbb_cells = Jupyter.notebook.get_cells();\n",
       "                for (var i = 0; i < nbb_cells.length; ++i) {\n",
       "                    if (nbb_cells[i].input_prompt_number == nbb_cell_id) {\n",
       "                        if (nbb_cells[i].get_text() == nbb_unformatted_code) {\n",
       "                             nbb_cells[i].set_text(nbb_formatted_code);\n",
       "                        }\n",
       "                        break;\n",
       "                    }\n",
       "                }\n",
       "            }, 500);\n",
       "            "
      ],
      "text/plain": [
       "<IPython.core.display.Javascript object>"
      ]
     },
     "metadata": {},
     "output_type": "display_data"
    }
   ],
   "source": [
    "df[\"tagged\"] = df[\"tagged\"].map(lambda x: [nltk.tuple2str(y) for y in x])\n",
    "df[\"tagged\"] = df[\"tagged\"].str.join(\" \")\n",
    "df[\"tagged\"]"
   ]
  },
  {
   "cell_type": "code",
   "execution_count": 46,
   "metadata": {
    "ExecuteTime": {
     "end_time": "2021-06-26T17:09:51.668851Z",
     "start_time": "2021-06-26T17:09:51.568849Z"
    },
    "scrolled": true
   },
   "outputs": [
    {
     "data": {
      "text/plain": [
       "0    NNS VBP VBN IN NN VBG NN NN VBD JJ . NN JJ NN ...\n",
       "1    NN VBP IN NNP JJ NN NN NN IN PRP JJ NN IN PRP$...\n",
       "2            NNS MD RB VB IN NN RB PRP MD NN PRP RP NN\n",
       "3                  RB NN DT NN NN NN NN DT NN NN NN NN\n",
       "4    JJ JJ NN NN NNP NN NN NN NN RB JJ NNS NNS VBP ...\n",
       "Name: pos_tags, dtype: object"
      ]
     },
     "execution_count": 46,
     "metadata": {},
     "output_type": "execute_result"
    },
    {
     "data": {
      "application/javascript": [
       "\n",
       "            setTimeout(function() {\n",
       "                var nbb_cell_id = 46;\n",
       "                var nbb_unformatted_code = \"df[\\\"pos_tags\\\"] = df[\\\"pos_tags\\\"].str.join(\\\" \\\")\\ndf[\\\"pos_tags\\\"].head()\";\n",
       "                var nbb_formatted_code = \"df[\\\"pos_tags\\\"] = df[\\\"pos_tags\\\"].str.join(\\\" \\\")\\ndf[\\\"pos_tags\\\"].head()\";\n",
       "                var nbb_cells = Jupyter.notebook.get_cells();\n",
       "                for (var i = 0; i < nbb_cells.length; ++i) {\n",
       "                    if (nbb_cells[i].input_prompt_number == nbb_cell_id) {\n",
       "                        if (nbb_cells[i].get_text() == nbb_unformatted_code) {\n",
       "                             nbb_cells[i].set_text(nbb_formatted_code);\n",
       "                        }\n",
       "                        break;\n",
       "                    }\n",
       "                }\n",
       "            }, 500);\n",
       "            "
      ],
      "text/plain": [
       "<IPython.core.display.Javascript object>"
      ]
     },
     "metadata": {},
     "output_type": "display_data"
    }
   ],
   "source": [
    "df[\"pos_tags\"] = df[\"pos_tags\"].str.join(\" \")\n",
    "df[\"pos_tags\"].head()"
   ]
  },
  {
   "cell_type": "code",
   "execution_count": 47,
   "metadata": {
    "ExecuteTime": {
     "end_time": "2021-06-26T17:09:52.018850Z",
     "start_time": "2021-06-26T17:09:51.669849Z"
    }
   },
   "outputs": [
    {
     "data": {
      "text/plain": [
       "0             iphone\n",
       "1    ipad iphone/app\n",
       "2               ipad\n",
       "3         iphone/app\n",
       "4             google\n",
       "Name: brand_terms, dtype: object"
      ]
     },
     "execution_count": 47,
     "metadata": {},
     "output_type": "execute_result"
    },
    {
     "data": {
      "application/javascript": [
       "\n",
       "            setTimeout(function() {\n",
       "                var nbb_cell_id = 47;\n",
       "                var nbb_unformatted_code = \"df[\\\"brand_terms\\\"] = utils.implode(\\n    df[\\\"brand_terms\\\"].explode().str.replace(\\\" \\\", \\\"/\\\").fillna(\\\"\\\")\\n)\\ndf[\\\"brand_terms\\\"] = df[\\\"brand_terms\\\"].str.join(\\\" \\\")\\ndf[\\\"brand_terms\\\"].head()\";\n",
       "                var nbb_formatted_code = \"df[\\\"brand_terms\\\"] = utils.implode(\\n    df[\\\"brand_terms\\\"].explode().str.replace(\\\" \\\", \\\"/\\\").fillna(\\\"\\\")\\n)\\ndf[\\\"brand_terms\\\"] = df[\\\"brand_terms\\\"].str.join(\\\" \\\")\\ndf[\\\"brand_terms\\\"].head()\";\n",
       "                var nbb_cells = Jupyter.notebook.get_cells();\n",
       "                for (var i = 0; i < nbb_cells.length; ++i) {\n",
       "                    if (nbb_cells[i].input_prompt_number == nbb_cell_id) {\n",
       "                        if (nbb_cells[i].get_text() == nbb_unformatted_code) {\n",
       "                             nbb_cells[i].set_text(nbb_formatted_code);\n",
       "                        }\n",
       "                        break;\n",
       "                    }\n",
       "                }\n",
       "            }, 500);\n",
       "            "
      ],
      "text/plain": [
       "<IPython.core.display.Javascript object>"
      ]
     },
     "metadata": {},
     "output_type": "display_data"
    }
   ],
   "source": [
    "df[\"brand_terms\"] = utils.implode(\n",
    "    df[\"brand_terms\"].explode().str.replace(\" \", \"/\").fillna(\"\")\n",
    ")\n",
    "df[\"brand_terms\"] = df[\"brand_terms\"].str.join(\" \")\n",
    "df[\"brand_terms\"].head()"
   ]
  },
  {
   "cell_type": "markdown",
   "metadata": {},
   "source": [
    "## Train-Test-Split"
   ]
  },
  {
   "cell_type": "code",
   "execution_count": 48,
   "metadata": {
    "ExecuteTime": {
     "end_time": "2021-06-26T17:09:52.128848Z",
     "start_time": "2021-06-26T17:09:52.019850Z"
    },
    "run_control": {
     "marked": false
    }
   },
   "outputs": [
    {
     "data": {
      "text/plain": [
       "((6684, 4), (6684,), (2228, 4), (2228,))"
      ]
     },
     "execution_count": 48,
     "metadata": {},
     "output_type": "execute_result"
    },
    {
     "data": {
      "application/javascript": [
       "\n",
       "            setTimeout(function() {\n",
       "                var nbb_cell_id = 48;\n",
       "                var nbb_unformatted_code = \"cols = [\\n    \\\"text\\\",\\n    \\\"tagged\\\",\\n    \\\"pos_tags\\\",\\n    \\\"brand_terms\\\",\\n]\\nX = df.loc[:, cols].copy()\\ny = df.emotion.to_numpy()\\nX_train, X_test, y_train, y_test = train_test_split(\\n    X,\\n    y,\\n    random_state=rando,\\n    stratify=y,\\n    shuffle=True,\\n)\\nX_train.shape, y_train.shape, X_test.shape, y_test.shape\";\n",
       "                var nbb_formatted_code = \"cols = [\\n    \\\"text\\\",\\n    \\\"tagged\\\",\\n    \\\"pos_tags\\\",\\n    \\\"brand_terms\\\",\\n]\\nX = df.loc[:, cols].copy()\\ny = df.emotion.to_numpy()\\nX_train, X_test, y_train, y_test = train_test_split(\\n    X,\\n    y,\\n    random_state=rando,\\n    stratify=y,\\n    shuffle=True,\\n)\\nX_train.shape, y_train.shape, X_test.shape, y_test.shape\";\n",
       "                var nbb_cells = Jupyter.notebook.get_cells();\n",
       "                for (var i = 0; i < nbb_cells.length; ++i) {\n",
       "                    if (nbb_cells[i].input_prompt_number == nbb_cell_id) {\n",
       "                        if (nbb_cells[i].get_text() == nbb_unformatted_code) {\n",
       "                             nbb_cells[i].set_text(nbb_formatted_code);\n",
       "                        }\n",
       "                        break;\n",
       "                    }\n",
       "                }\n",
       "            }, 500);\n",
       "            "
      ],
      "text/plain": [
       "<IPython.core.display.Javascript object>"
      ]
     },
     "metadata": {},
     "output_type": "display_data"
    }
   ],
   "source": [
    "cols = [\n",
    "    \"text\",\n",
    "    \"tagged\",\n",
    "    \"pos_tags\",\n",
    "    \"brand_terms\",\n",
    "]\n",
    "X = df.loc[:, cols].copy()\n",
    "y = df.emotion.to_numpy()\n",
    "X_train, X_test, y_train, y_test = train_test_split(\n",
    "    X,\n",
    "    y,\n",
    "    random_state=rando,\n",
    "    stratify=y,\n",
    "    shuffle=True,\n",
    ")\n",
    "X_train.shape, y_train.shape, X_test.shape, y_test.shape"
   ]
  },
  {
   "cell_type": "code",
   "execution_count": 62,
   "metadata": {
    "ExecuteTime": {
     "end_time": "2021-06-26T17:13:06.671424Z",
     "start_time": "2021-06-26T17:12:36.895930Z"
    }
   },
   "outputs": [
    {
     "data": {
      "text/html": [
       "<style  type=\"text/css\" >\n",
       "#T_e4ffe_row0_col0{\n",
       "            background-color:  #b0bdd2;\n",
       "            color:  #000000;\n",
       "        }#T_e4ffe_row0_col1{\n",
       "            background-color:  #c87c7a;\n",
       "            color:  #000000;\n",
       "        }#T_e4ffe_row0_col2,#T_e4ffe_row3_col1{\n",
       "            background-color:  #ecd2d0;\n",
       "            color:  #000000;\n",
       "        }#T_e4ffe_row1_col0{\n",
       "            background-color:  #e6c5c3;\n",
       "            color:  #000000;\n",
       "        }#T_e4ffe_row1_col1{\n",
       "            background-color:  #dcaeab;\n",
       "            color:  #000000;\n",
       "        }#T_e4ffe_row1_col2{\n",
       "            background-color:  #e4c0be;\n",
       "            color:  #000000;\n",
       "        }#T_e4ffe_row2_col0{\n",
       "            background-color:  #dde0e7;\n",
       "            color:  #000000;\n",
       "        }#T_e4ffe_row2_col1{\n",
       "            background-color:  #d39794;\n",
       "            color:  #000000;\n",
       "        }#T_e4ffe_row2_col2{\n",
       "            background-color:  #e8cac8;\n",
       "            color:  #000000;\n",
       "        }#T_e4ffe_row3_col0{\n",
       "            background-color:  #4a7bbc;\n",
       "            color:  #000000;\n",
       "        }#T_e4ffe_row3_col2{\n",
       "            background-color:  #bbc5d7;\n",
       "            color:  #000000;\n",
       "        }</style><table id=\"T_e4ffe_\" ><thead>    <tr>        <th class=\"blank level0\" ></th>        <th class=\"col_heading level0 col0\" >Negative</th>        <th class=\"col_heading level0 col1\" >Neutral</th>        <th class=\"col_heading level0 col2\" >Positive</th>        <th class=\"col_heading level0 col3\" >macro avg</th>        <th class=\"col_heading level0 col4\" >weighted avg</th>        <th class=\"col_heading level0 col5\" >accuracy</th>        <th class=\"col_heading level0 col6\" >bal accuracy</th>    </tr></thead><tbody>\n",
       "                <tr>\n",
       "                        <th id=\"T_e4ffe_level0_row0\" class=\"row_heading level0 row0\" >precision</th>\n",
       "                        <td id=\"T_e4ffe_row0_col0\" class=\"data row0 col0\" >0.304</td>\n",
       "                        <td id=\"T_e4ffe_row0_col1\" class=\"data row0 col1\" >0.821</td>\n",
       "                        <td id=\"T_e4ffe_row0_col2\" class=\"data row0 col2\" >0.603</td>\n",
       "                        <td id=\"T_e4ffe_row0_col3\" class=\"data row0 col3\" >0.576</td>\n",
       "                        <td id=\"T_e4ffe_row0_col4\" class=\"data row0 col4\" >0.716</td>\n",
       "                        <td id=\"T_e4ffe_row0_col5\" class=\"data row0 col5\" >0.675</td>\n",
       "                        <td id=\"T_e4ffe_row0_col6\" class=\"data row0 col6\" >0.658</td>\n",
       "            </tr>\n",
       "            <tr>\n",
       "                        <th id=\"T_e4ffe_level0_row1\" class=\"row_heading level0 row1\" >recall</th>\n",
       "                        <td id=\"T_e4ffe_row1_col0\" class=\"data row1 col0\" >0.634</td>\n",
       "                        <td id=\"T_e4ffe_row1_col1\" class=\"data row1 col1\" >0.693</td>\n",
       "                        <td id=\"T_e4ffe_row1_col2\" class=\"data row1 col2\" >0.648</td>\n",
       "                        <td id=\"T_e4ffe_row1_col3\" class=\"data row1 col3\" >0.658</td>\n",
       "                        <td id=\"T_e4ffe_row1_col4\" class=\"data row1 col4\" >0.675</td>\n",
       "                        <td id=\"T_e4ffe_row1_col5\" class=\"data row1 col5\" ></td>\n",
       "                        <td id=\"T_e4ffe_row1_col6\" class=\"data row1 col6\" ></td>\n",
       "            </tr>\n",
       "            <tr>\n",
       "                        <th id=\"T_e4ffe_level0_row2\" class=\"row_heading level0 row2\" >f1-score</th>\n",
       "                        <td id=\"T_e4ffe_row2_col0\" class=\"data row2 col0\" >0.411</td>\n",
       "                        <td id=\"T_e4ffe_row2_col1\" class=\"data row2 col1\" >0.752</td>\n",
       "                        <td id=\"T_e4ffe_row2_col2\" class=\"data row2 col2\" >0.625</td>\n",
       "                        <td id=\"T_e4ffe_row2_col3\" class=\"data row2 col3\" >0.596</td>\n",
       "                        <td id=\"T_e4ffe_row2_col4\" class=\"data row2 col4\" >0.688</td>\n",
       "                        <td id=\"T_e4ffe_row2_col5\" class=\"data row2 col5\" ></td>\n",
       "                        <td id=\"T_e4ffe_row2_col6\" class=\"data row2 col6\" ></td>\n",
       "            </tr>\n",
       "            <tr>\n",
       "                        <th id=\"T_e4ffe_level0_row3\" class=\"row_heading level0 row3\" >support</th>\n",
       "                        <td id=\"T_e4ffe_row3_col0\" class=\"data row3 col0\" >0.064</td>\n",
       "                        <td id=\"T_e4ffe_row3_col1\" class=\"data row3 col1\" >0.605</td>\n",
       "                        <td id=\"T_e4ffe_row3_col2\" class=\"data row3 col2\" >0.332</td>\n",
       "                        <td id=\"T_e4ffe_row3_col3\" class=\"data row3 col3\" ></td>\n",
       "                        <td id=\"T_e4ffe_row3_col4\" class=\"data row3 col4\" ></td>\n",
       "                        <td id=\"T_e4ffe_row3_col5\" class=\"data row3 col5\" ></td>\n",
       "                        <td id=\"T_e4ffe_row3_col6\" class=\"data row3 col6\" ></td>\n",
       "            </tr>\n",
       "    </tbody></table>"
      ],
      "text/plain": [
       "<pandas.io.formats.style.Styler at 0x2216435f1f0>"
      ]
     },
     "metadata": {},
     "output_type": "display_data"
    },
    {
     "data": {
      "image/png": "[encoded data removed]",
      "text/plain": [
       "<Figure size 288x288 with 1 Axes>"
      ]
     },
     "metadata": {
      "needs_background": "light"
     },
     "output_type": "display_data"
    },
    {
     "data": {
      "application/javascript": [
       "\n",
       "            setTimeout(function() {\n",
       "                var nbb_cell_id = 62;\n",
       "                var nbb_unformatted_code = \"test_fit = partial(\\n    diag.test_fit,\\n    X_train=X_train,\\n    X_test=X_test,\\n    y_train=y_train,\\n    y_test=y_test,\\n)\\ntest_fit(main_pipe)\";\n",
       "                var nbb_formatted_code = \"test_fit = partial(\\n    diag.test_fit,\\n    X_train=X_train,\\n    X_test=X_test,\\n    y_train=y_train,\\n    y_test=y_test,\\n)\\ntest_fit(main_pipe)\";\n",
       "                var nbb_cells = Jupyter.notebook.get_cells();\n",
       "                for (var i = 0; i < nbb_cells.length; ++i) {\n",
       "                    if (nbb_cells[i].input_prompt_number == nbb_cell_id) {\n",
       "                        if (nbb_cells[i].get_text() == nbb_unformatted_code) {\n",
       "                             nbb_cells[i].set_text(nbb_formatted_code);\n",
       "                        }\n",
       "                        break;\n",
       "                    }\n",
       "                }\n",
       "            }, 500);\n",
       "            "
      ],
      "text/plain": [
       "<IPython.core.display.Javascript object>"
      ]
     },
     "metadata": {},
     "output_type": "display_data"
    }
   ],
   "source": [
    "test_fit = partial(\n",
    "    diag.test_fit,\n",
    "    X_train=X_train,\n",
    "    X_test=X_test,\n",
    "    y_train=y_train,\n",
    "    y_test=y_test,\n",
    ")"
   ]
  },
  {
   "cell_type": "markdown",
   "metadata": {},
   "source": [
    "## Baseline Dummy Model"
   ]
  },
  {
   "cell_type": "code",
   "execution_count": 49,
   "metadata": {
    "ExecuteTime": {
     "end_time": "2021-06-26T17:09:52.224848Z",
     "start_time": "2021-06-26T17:09:52.129847Z"
    }
   },
   "outputs": [
    {
     "data": {
      "text/plain": [
       "DummyClassifier(random_state=RandomState(MT19937) at 0x2215EB3B240,\n",
       "                strategy='stratified')"
      ]
     },
     "execution_count": 49,
     "metadata": {},
     "output_type": "execute_result"
    },
    {
     "data": {
      "application/javascript": [
       "\n",
       "            setTimeout(function() {\n",
       "                var nbb_cell_id = 49;\n",
       "                var nbb_unformatted_code = \"dummy = DummyClassifier(strategy=\\\"stratified\\\", random_state=rando)\\ndummy\";\n",
       "                var nbb_formatted_code = \"dummy = DummyClassifier(strategy=\\\"stratified\\\", random_state=rando)\\ndummy\";\n",
       "                var nbb_cells = Jupyter.notebook.get_cells();\n",
       "                for (var i = 0; i < nbb_cells.length; ++i) {\n",
       "                    if (nbb_cells[i].input_prompt_number == nbb_cell_id) {\n",
       "                        if (nbb_cells[i].get_text() == nbb_unformatted_code) {\n",
       "                             nbb_cells[i].set_text(nbb_formatted_code);\n",
       "                        }\n",
       "                        break;\n",
       "                    }\n",
       "                }\n",
       "            }, 500);\n",
       "            "
      ],
      "text/plain": [
       "<IPython.core.display.Javascript object>"
      ]
     },
     "metadata": {},
     "output_type": "display_data"
    }
   ],
   "source": [
    "dummy = DummyClassifier(strategy=\"stratified\", random_state=rando)\n",
    "dummy"
   ]
  },
  {
   "cell_type": "code",
   "execution_count": 97,
   "metadata": {
    "ExecuteTime": {
     "end_time": "2021-06-26T17:28:44.517360Z",
     "start_time": "2021-06-26T17:28:44.413360Z"
    }
   },
   "outputs": [
    {
     "data": {
      "text/plain": [
       "(Doc2Vectorizer(batch_words=5000, epochs=30, size=300, token_pattern=None,\n",
       "                tokenizer=<function casual_tokenize at 0x000002215C48A550>),\n",
       " TfidfVectorizer(tokenizer=<function space_tokenize at 0x000002215734C280>))"
      ]
     },
     "execution_count": 97,
     "metadata": {},
     "output_type": "execute_result"
    },
    {
     "data": {
      "application/javascript": [
       "\n",
       "            setTimeout(function() {\n",
       "                var nbb_cell_id = 97;\n",
       "                var nbb_unformatted_code = \"d2v_text = Doc2Vectorizer(\\n    tokenizer=nltk.casual_tokenize,\\n    size=300,\\n    epochs=30,\\n    batch_words=5000,\\n)\\ntfidf_simp = TfidfVectorizer(tokenizer=lang.space_tokenize)\\n\\nd2v_text, tfidf_simp\";\n",
       "                var nbb_formatted_code = \"d2v_text = Doc2Vectorizer(\\n    tokenizer=nltk.casual_tokenize,\\n    size=300,\\n    epochs=30,\\n    batch_words=5000,\\n)\\ntfidf_simp = TfidfVectorizer(tokenizer=lang.space_tokenize)\\n\\nd2v_text, tfidf_simp\";\n",
       "                var nbb_cells = Jupyter.notebook.get_cells();\n",
       "                for (var i = 0; i < nbb_cells.length; ++i) {\n",
       "                    if (nbb_cells[i].input_prompt_number == nbb_cell_id) {\n",
       "                        if (nbb_cells[i].get_text() == nbb_unformatted_code) {\n",
       "                             nbb_cells[i].set_text(nbb_formatted_code);\n",
       "                        }\n",
       "                        break;\n",
       "                    }\n",
       "                }\n",
       "            }, 500);\n",
       "            "
      ],
      "text/plain": [
       "<IPython.core.display.Javascript object>"
      ]
     },
     "metadata": {},
     "output_type": "display_data"
    }
   ],
   "source": [
    "d2v_text = Doc2Vectorizer(\n",
    "    tokenizer=nltk.casual_tokenize,\n",
    "    size=300,\n",
    "    epochs=30,\n",
    "    batch_words=5000,\n",
    ")\n",
    "tfidf_simp = TfidfVectorizer(tokenizer=lang.space_tokenize)\n",
    "\n",
    "d2v_text, tfidf_simp"
   ]
  },
  {
   "cell_type": "code",
   "execution_count": 98,
   "metadata": {
    "ExecuteTime": {
     "end_time": "2021-06-26T17:28:44.730687Z",
     "start_time": "2021-06-26T17:28:44.619664Z"
    }
   },
   "outputs": [
    {
     "data": {
      "text/plain": [
       "ColumnTransformer(n_jobs=1,\n",
       "                  transformers=[('txt',\n",
       "                                 Doc2Vectorizer(batch_words=5000, epochs=30,\n",
       "                                                size=300, token_pattern=None,\n",
       "                                                tokenizer=<function casual_tokenize at 0x000002215C48A550>),\n",
       "                                 'text'),\n",
       "                                ('tag',\n",
       "                                 Doc2Vectorizer(batch_words=5000, epochs=30,\n",
       "                                                size=300, token_pattern=None,\n",
       "                                                tokenizer=<function casual_tokenize at 0x000002215C48A550>),\n",
       "                                 'tagged'),\n",
       "                                ('pos',\n",
       "                                 TfidfVectorizer(tokenizer=<function space_tokenize at 0x000002215734C280>),\n",
       "                                 'pos_tags'),\n",
       "                                ('bra',\n",
       "                                 TfidfVectorizer(tokenizer=<function space_tokenize at 0x000002215734C280>),\n",
       "                                 'brand_terms')])"
      ]
     },
     "execution_count": 98,
     "metadata": {},
     "output_type": "execute_result"
    },
    {
     "data": {
      "application/javascript": [
       "\n",
       "            setTimeout(function() {\n",
       "                var nbb_cell_id = 98;\n",
       "                var nbb_unformatted_code = \"col_xform = ColumnTransformer(\\n    [\\n        (\\\"txt\\\", d2v_text, \\\"text\\\"),\\n        (\\\"tag\\\", d2v_text, \\\"tagged\\\"),\\n        (\\\"pos\\\", tfidf_simp, \\\"pos_tags\\\"),\\n        (\\\"bra\\\", tfidf_simp, \\\"brand_terms\\\"),\\n    ],\\n    n_jobs=1,\\n)\\ncol_xform\";\n",
       "                var nbb_formatted_code = \"col_xform = ColumnTransformer(\\n    [\\n        (\\\"txt\\\", d2v_text, \\\"text\\\"),\\n        (\\\"tag\\\", d2v_text, \\\"tagged\\\"),\\n        (\\\"pos\\\", tfidf_simp, \\\"pos_tags\\\"),\\n        (\\\"bra\\\", tfidf_simp, \\\"brand_terms\\\"),\\n    ],\\n    n_jobs=1,\\n)\\ncol_xform\";\n",
       "                var nbb_cells = Jupyter.notebook.get_cells();\n",
       "                for (var i = 0; i < nbb_cells.length; ++i) {\n",
       "                    if (nbb_cells[i].input_prompt_number == nbb_cell_id) {\n",
       "                        if (nbb_cells[i].get_text() == nbb_unformatted_code) {\n",
       "                             nbb_cells[i].set_text(nbb_formatted_code);\n",
       "                        }\n",
       "                        break;\n",
       "                    }\n",
       "                }\n",
       "            }, 500);\n",
       "            "
      ],
      "text/plain": [
       "<IPython.core.display.Javascript object>"
      ]
     },
     "metadata": {},
     "output_type": "display_data"
    }
   ],
   "source": [
    "col_xform = ColumnTransformer(\n",
    "    [\n",
    "        (\"txt\", d2v_text, \"text\"),\n",
    "        (\"tag\", d2v_text, \"tagged\"),\n",
    "        (\"pos\", tfidf_simp, \"pos_tags\"),\n",
    "        (\"bra\", tfidf_simp, \"brand_terms\"),\n",
    "    ],\n",
    "    n_jobs=1,\n",
    ")\n",
    "col_xform"
   ]
  },
  {
   "cell_type": "markdown",
   "metadata": {},
   "source": [
    "## Baseline Model"
   ]
  },
  {
   "cell_type": "code",
   "execution_count": 99,
   "metadata": {
    "ExecuteTime": {
     "end_time": "2021-06-26T17:28:46.070518Z",
     "start_time": "2021-06-26T17:28:45.972550Z"
    }
   },
   "outputs": [
    {
     "data": {
      "text/plain": [
       "LogisticRegression(class_weight='balanced', max_iter=10000.0,\n",
       "                   multi_class='multinomial',\n",
       "                   random_state=RandomState(MT19937) at 0x2215EB3B240)"
      ]
     },
     "execution_count": 99,
     "metadata": {},
     "output_type": "execute_result"
    },
    {
     "data": {
      "application/javascript": [
       "\n",
       "            setTimeout(function() {\n",
       "                var nbb_cell_id = 99;\n",
       "                var nbb_unformatted_code = \"logit = LogisticRegression(\\n    class_weight=\\\"balanced\\\",\\n    multi_class=\\\"multinomial\\\",\\n    solver=\\\"lbfgs\\\",\\n    max_iter=1e4,\\n    verbose=0,\\n    random_state=rando,\\n)\\nlogit\";\n",
       "                var nbb_formatted_code = \"logit = LogisticRegression(\\n    class_weight=\\\"balanced\\\",\\n    multi_class=\\\"multinomial\\\",\\n    solver=\\\"lbfgs\\\",\\n    max_iter=1e4,\\n    verbose=0,\\n    random_state=rando,\\n)\\nlogit\";\n",
       "                var nbb_cells = Jupyter.notebook.get_cells();\n",
       "                for (var i = 0; i < nbb_cells.length; ++i) {\n",
       "                    if (nbb_cells[i].input_prompt_number == nbb_cell_id) {\n",
       "                        if (nbb_cells[i].get_text() == nbb_unformatted_code) {\n",
       "                             nbb_cells[i].set_text(nbb_formatted_code);\n",
       "                        }\n",
       "                        break;\n",
       "                    }\n",
       "                }\n",
       "            }, 500);\n",
       "            "
      ],
      "text/plain": [
       "<IPython.core.display.Javascript object>"
      ]
     },
     "metadata": {},
     "output_type": "display_data"
    }
   ],
   "source": [
    "logit = LogisticRegression(\n",
    "    class_weight=\"balanced\",\n",
    "    multi_class=\"multinomial\",\n",
    "    solver=\"lbfgs\",\n",
    "    max_iter=1e4,\n",
    "    verbose=0,\n",
    "    random_state=rando,\n",
    ")\n",
    "logit"
   ]
  },
  {
   "cell_type": "code",
   "execution_count": 100,
   "metadata": {
    "ExecuteTime": {
     "end_time": "2021-06-26T17:28:46.394375Z",
     "start_time": "2021-06-26T17:28:46.299373Z"
    }
   },
   "outputs": [
    {
     "data": {
      "application/javascript": [
       "\n",
       "            setTimeout(function() {\n",
       "                var nbb_cell_id = 100;\n",
       "                var nbb_unformatted_code = \"main_pipe = Pipeline(\\n    [\\n        (\\\"col\\\", col_xform),\\n        (\\\"cls\\\", logit),\\n    ]\\n)\";\n",
       "                var nbb_formatted_code = \"main_pipe = Pipeline(\\n    [\\n        (\\\"col\\\", col_xform),\\n        (\\\"cls\\\", logit),\\n    ]\\n)\";\n",
       "                var nbb_cells = Jupyter.notebook.get_cells();\n",
       "                for (var i = 0; i < nbb_cells.length; ++i) {\n",
       "                    if (nbb_cells[i].input_prompt_number == nbb_cell_id) {\n",
       "                        if (nbb_cells[i].get_text() == nbb_unformatted_code) {\n",
       "                             nbb_cells[i].set_text(nbb_formatted_code);\n",
       "                        }\n",
       "                        break;\n",
       "                    }\n",
       "                }\n",
       "            }, 500);\n",
       "            "
      ],
      "text/plain": [
       "<IPython.core.display.Javascript object>"
      ]
     },
     "metadata": {},
     "output_type": "display_data"
    }
   ],
   "source": [
    "main_pipe = Pipeline(\n",
    "    [\n",
    "        (\"col\", col_xform),\n",
    "        (\"cls\", logit),\n",
    "    ]\n",
    ")"
   ]
  },
  {
   "cell_type": "code",
   "execution_count": 101,
   "metadata": {
    "ExecuteTime": {
     "end_time": "2021-06-26T17:29:41.641129Z",
     "start_time": "2021-06-26T17:28:47.057972Z"
    }
   },
   "outputs": [
    {
     "data": {
      "text/html": [
       "<style  type=\"text/css\" >\n",
       "#T_f52ba_row0_col0{\n",
       "            background-color:  #6c8ebf;\n",
       "            color:  #000000;\n",
       "        }#T_f52ba_row0_col1{\n",
       "            background-color:  #cd8885;\n",
       "            color:  #000000;\n",
       "        }#T_f52ba_row0_col2,#T_f52ba_row1_col0{\n",
       "            background-color:  #faf2f1;\n",
       "            color:  #000000;\n",
       "        }#T_f52ba_row1_col1{\n",
       "            background-color:  #f3e2e0;\n",
       "            color:  #000000;\n",
       "        }#T_f52ba_row1_col2{\n",
       "            background-color:  #faf3f3;\n",
       "            color:  #000000;\n",
       "        }#T_f52ba_row2_col0{\n",
       "            background-color:  #8da4c6;\n",
       "            color:  #000000;\n",
       "        }#T_f52ba_row2_col1{\n",
       "            background-color:  #e2bcb9;\n",
       "            color:  #000000;\n",
       "        }#T_f52ba_row2_col2{\n",
       "            background-color:  #faf3f2;\n",
       "            color:  #000000;\n",
       "        }#T_f52ba_row3_col0{\n",
       "            background-color:  #4a7bbc;\n",
       "            color:  #000000;\n",
       "        }#T_f52ba_row3_col1{\n",
       "            background-color:  #ecd2d0;\n",
       "            color:  #000000;\n",
       "        }#T_f52ba_row3_col2{\n",
       "            background-color:  #bbc5d7;\n",
       "            color:  #000000;\n",
       "        }</style><table id=\"T_f52ba_\" ><thead>    <tr>        <th class=\"blank level0\" ></th>        <th class=\"col_heading level0 col0\" >Negative</th>        <th class=\"col_heading level0 col1\" >Neutral</th>        <th class=\"col_heading level0 col2\" >Positive</th>        <th class=\"col_heading level0 col3\" >macro avg</th>        <th class=\"col_heading level0 col4\" >weighted avg</th>        <th class=\"col_heading level0 col5\" >accuracy</th>        <th class=\"col_heading level0 col6\" >bal accuracy</th>    </tr></thead><tbody>\n",
       "                <tr>\n",
       "                        <th id=\"T_f52ba_level0_row0\" class=\"row_heading level0 row0\" >precision</th>\n",
       "                        <td id=\"T_f52ba_row0_col0\" class=\"data row0 col0\" >0.138</td>\n",
       "                        <td id=\"T_f52ba_row0_col1\" class=\"data row0 col1\" >0.792</td>\n",
       "                        <td id=\"T_f52ba_row0_col2\" class=\"data row0 col2\" >0.520</td>\n",
       "                        <td id=\"T_f52ba_row0_col3\" class=\"data row0 col3\" >0.483</td>\n",
       "                        <td id=\"T_f52ba_row0_col4\" class=\"data row0 col4\" >0.660</td>\n",
       "                        <td id=\"T_f52ba_row0_col5\" class=\"data row0 col5\" >0.545</td>\n",
       "                        <td id=\"T_f52ba_row0_col6\" class=\"data row0 col6\" >0.533</td>\n",
       "            </tr>\n",
       "            <tr>\n",
       "                        <th id=\"T_f52ba_level0_row1\" class=\"row_heading level0 row1\" >recall</th>\n",
       "                        <td id=\"T_f52ba_row1_col0\" class=\"data row1 col0\" >0.521</td>\n",
       "                        <td id=\"T_f52ba_row1_col1\" class=\"data row1 col1\" >0.563</td>\n",
       "                        <td id=\"T_f52ba_row1_col2\" class=\"data row1 col2\" >0.516</td>\n",
       "                        <td id=\"T_f52ba_row1_col3\" class=\"data row1 col3\" >0.533</td>\n",
       "                        <td id=\"T_f52ba_row1_col4\" class=\"data row1 col4\" >0.545</td>\n",
       "                        <td id=\"T_f52ba_row1_col5\" class=\"data row1 col5\" ></td>\n",
       "                        <td id=\"T_f52ba_row1_col6\" class=\"data row1 col6\" ></td>\n",
       "            </tr>\n",
       "            <tr>\n",
       "                        <th id=\"T_f52ba_level0_row2\" class=\"row_heading level0 row2\" >f1-score</th>\n",
       "                        <td id=\"T_f52ba_row2_col0\" class=\"data row2 col0\" >0.218</td>\n",
       "                        <td id=\"T_f52ba_row2_col1\" class=\"data row2 col1\" >0.659</td>\n",
       "                        <td id=\"T_f52ba_row2_col2\" class=\"data row2 col2\" >0.518</td>\n",
       "                        <td id=\"T_f52ba_row2_col3\" class=\"data row2 col3\" >0.465</td>\n",
       "                        <td id=\"T_f52ba_row2_col4\" class=\"data row2 col4\" >0.584</td>\n",
       "                        <td id=\"T_f52ba_row2_col5\" class=\"data row2 col5\" ></td>\n",
       "                        <td id=\"T_f52ba_row2_col6\" class=\"data row2 col6\" ></td>\n",
       "            </tr>\n",
       "            <tr>\n",
       "                        <th id=\"T_f52ba_level0_row3\" class=\"row_heading level0 row3\" >support</th>\n",
       "                        <td id=\"T_f52ba_row3_col0\" class=\"data row3 col0\" >0.064</td>\n",
       "                        <td id=\"T_f52ba_row3_col1\" class=\"data row3 col1\" >0.605</td>\n",
       "                        <td id=\"T_f52ba_row3_col2\" class=\"data row3 col2\" >0.332</td>\n",
       "                        <td id=\"T_f52ba_row3_col3\" class=\"data row3 col3\" ></td>\n",
       "                        <td id=\"T_f52ba_row3_col4\" class=\"data row3 col4\" ></td>\n",
       "                        <td id=\"T_f52ba_row3_col5\" class=\"data row3 col5\" ></td>\n",
       "                        <td id=\"T_f52ba_row3_col6\" class=\"data row3 col6\" ></td>\n",
       "            </tr>\n",
       "    </tbody></table>"
      ],
      "text/plain": [
       "<pandas.io.formats.style.Styler at 0x22165310280>"
      ]
     },
     "metadata": {},
     "output_type": "display_data"
    },
    {
     "data": {
      "image/png": "[encoded data removed]",
      "text/plain": [
       "<Figure size 288x288 with 1 Axes>"
      ]
     },
     "metadata": {
      "needs_background": "light"
     },
     "output_type": "display_data"
    },
    {
     "data": {
      "application/javascript": [
       "\n",
       "            setTimeout(function() {\n",
       "                var nbb_cell_id = 101;\n",
       "                var nbb_unformatted_code = \"test_fit(main_pipe)\";\n",
       "                var nbb_formatted_code = \"test_fit(main_pipe)\";\n",
       "                var nbb_cells = Jupyter.notebook.get_cells();\n",
       "                for (var i = 0; i < nbb_cells.length; ++i) {\n",
       "                    if (nbb_cells[i].input_prompt_number == nbb_cell_id) {\n",
       "                        if (nbb_cells[i].get_text() == nbb_unformatted_code) {\n",
       "                             nbb_cells[i].set_text(nbb_formatted_code);\n",
       "                        }\n",
       "                        break;\n",
       "                    }\n",
       "                }\n",
       "            }, 500);\n",
       "            "
      ],
      "text/plain": [
       "<IPython.core.display.Javascript object>"
      ]
     },
     "metadata": {},
     "output_type": "display_data"
    }
   ],
   "source": [
    "test_fit(main_pipe)"
   ]
  },
  {
   "cell_type": "code",
   "execution_count": 80,
   "metadata": {
    "ExecuteTime": {
     "end_time": "2021-06-26T17:00:07.415362Z",
     "start_time": "2021-06-26T17:00:07.318365Z"
    }
   },
   "outputs": [
    {
     "data": {
      "text/plain": [
       "False"
      ]
     },
     "execution_count": 80,
     "metadata": {},
     "output_type": "execute_result"
    },
    {
     "data": {
      "application/javascript": [
       "\n",
       "            setTimeout(function() {\n",
       "                var nbb_cell_id = 80;\n",
       "                var nbb_unformatted_code = \"main_pipe[\\\"col\\\"].named_transformers_[\\\"txt\\\"] is d2v_text\";\n",
       "                var nbb_formatted_code = \"main_pipe[\\\"col\\\"].named_transformers_[\\\"txt\\\"] is d2v_text\";\n",
       "                var nbb_cells = Jupyter.notebook.get_cells();\n",
       "                for (var i = 0; i < nbb_cells.length; ++i) {\n",
       "                    if (nbb_cells[i].input_prompt_number == nbb_cell_id) {\n",
       "                        if (nbb_cells[i].get_text() == nbb_unformatted_code) {\n",
       "                             nbb_cells[i].set_text(nbb_formatted_code);\n",
       "                        }\n",
       "                        break;\n",
       "                    }\n",
       "                }\n",
       "            }, 500);\n",
       "            "
      ],
      "text/plain": [
       "<IPython.core.display.Javascript object>"
      ]
     },
     "metadata": {},
     "output_type": "display_data"
    }
   ],
   "source": [
    "main_pipe[\"col\"].named_transformers_[\"txt\"] is d2v_text"
   ]
  },
  {
   "cell_type": "markdown",
   "metadata": {},
   "source": [
    "## Model Mark II"
   ]
  },
  {
   "cell_type": "code",
   "execution_count": 58,
   "metadata": {
    "ExecuteTime": {
     "end_time": "2021-06-26T15:48:17.484714Z",
     "start_time": "2021-06-26T15:48:17.388715Z"
    },
    "run_control": {
     "marked": false
    }
   },
   "outputs": [
    {
     "data": {
      "application/javascript": [
       "\n",
       "            setTimeout(function() {\n",
       "                var nbb_cell_id = 58;\n",
       "                var nbb_unformatted_code = \"run_sweep = partial(\\n    sweep,\\n    X=X,\\n    y=y,\\n    scoring=\\\"balanced_accuracy\\\",\\n    n_jobs=-1,\\n    cv=RepeatedStratifiedKFold(random_state=35),\\n    random_state=46,\\n)\";\n",
       "                var nbb_formatted_code = \"run_sweep = partial(\\n    sweep,\\n    X=X,\\n    y=y,\\n    scoring=\\\"balanced_accuracy\\\",\\n    n_jobs=-1,\\n    cv=RepeatedStratifiedKFold(random_state=35),\\n    random_state=46,\\n)\";\n",
       "                var nbb_cells = Jupyter.notebook.get_cells();\n",
       "                for (var i = 0; i < nbb_cells.length; ++i) {\n",
       "                    if (nbb_cells[i].input_prompt_number == nbb_cell_id) {\n",
       "                        if (nbb_cells[i].get_text() == nbb_unformatted_code) {\n",
       "                             nbb_cells[i].set_text(nbb_formatted_code);\n",
       "                        }\n",
       "                        break;\n",
       "                    }\n",
       "                }\n",
       "            }, 500);\n",
       "            "
      ],
      "text/plain": [
       "<IPython.core.display.Javascript object>"
      ]
     },
     "metadata": {},
     "output_type": "display_data"
    }
   ],
   "source": [
    "run_sweep = partial(\n",
    "    sweep,\n",
    "    X=X,\n",
    "    y=y,\n",
    "    scoring=\"balanced_accuracy\",\n",
    "    n_jobs=-1,\n",
    "    cv=RepeatedStratifiedKFold(random_state=35),\n",
    "    random_state=46,\n",
    ")"
   ]
  },
  {
   "cell_type": "markdown",
   "metadata": {
    "ExecuteTime": {
     "end_time": "2021-06-23T19:29:37.557183Z",
     "start_time": "2021-06-23T19:29:37.456179Z"
    }
   },
   "source": [
    "#### Stemming and Tokenizing Sweep\n",
    "```python\n",
    "tokenize_lemmatize = partial(\n",
    "    lang.wordnet_lemmatize,\n",
    "    tokenizer=nltk.casual_tokenize,\n",
    "    as_tokens=True,\n",
    ")\n",
    "\n",
    "tokenize_stem = partial(lang.tokenize_stem, tokenizer=nltk.casual_tokenize)\n",
    "\n",
    "grid = pd.Series(\n",
    "    dict(\n",
    "        tokenizer=[\n",
    "            tokenize_lemmatize,\n",
    "            tokenize_stem,\n",
    "            nltk.casual_tokenize,\n",
    "            lang.space_tokenize,\n",
    "        ]\n",
    "    )\n",
    ")\n",
    "\n",
    "run_sweep(\n",
    "    main_pipe,\n",
    "    grid.add_prefix(\"col__txt__\"),\n",
    "    dst=\"sweeps/stemming\",\n",
    "    kind=\"grid\",\n",
    ")\n",
    "```"
   ]
  },
  {
   "cell_type": "code",
   "execution_count": 59,
   "metadata": {
    "ExecuteTime": {
     "end_time": "2021-06-26T15:48:17.912715Z",
     "start_time": "2021-06-26T15:48:17.485714Z"
    }
   },
   "outputs": [
    {
     "data": {
      "text/html": [
       "<div>\n",
       "<style scoped>\n",
       "    .dataframe tbody tr th:only-of-type {\n",
       "        vertical-align: middle;\n",
       "    }\n",
       "\n",
       "    .dataframe tbody tr th {\n",
       "        vertical-align: top;\n",
       "    }\n",
       "\n",
       "    .dataframe thead th {\n",
       "        text-align: right;\n",
       "    }\n",
       "</style>\n",
       "<table border=\"1\" class=\"dataframe\">\n",
       "  <thead>\n",
       "    <tr style=\"text-align: right;\">\n",
       "      <th></th>\n",
       "      <th>tokenizer</th>\n",
       "      <th>mean_score</th>\n",
       "      <th>rank_score</th>\n",
       "    </tr>\n",
       "  </thead>\n",
       "  <tbody>\n",
       "    <tr>\n",
       "      <th>2</th>\n",
       "      <td>casual_tokenize</td>\n",
       "      <td>0.629354</td>\n",
       "      <td>1</td>\n",
       "    </tr>\n",
       "    <tr>\n",
       "      <th>1</th>\n",
       "      <td>tokenize_stem</td>\n",
       "      <td>0.628134</td>\n",
       "      <td>2</td>\n",
       "    </tr>\n",
       "    <tr>\n",
       "      <th>3</th>\n",
       "      <td>space_tokenize</td>\n",
       "      <td>0.620386</td>\n",
       "      <td>3</td>\n",
       "    </tr>\n",
       "    <tr>\n",
       "      <th>0</th>\n",
       "      <td>wordnet_lemmatize</td>\n",
       "      <td>0.618362</td>\n",
       "      <td>4</td>\n",
       "    </tr>\n",
       "  </tbody>\n",
       "</table>\n",
       "</div>"
      ],
      "text/plain": [
       "           tokenizer  mean_score  rank_score\n",
       "2    casual_tokenize    0.629354           1\n",
       "1      tokenize_stem    0.628134           2\n",
       "3     space_tokenize    0.620386           3\n",
       "0  wordnet_lemmatize    0.618362           4"
      ]
     },
     "execution_count": 59,
     "metadata": {},
     "output_type": "execute_result"
    },
    {
     "data": {
      "application/javascript": [
       "\n",
       "            setTimeout(function() {\n",
       "                var nbb_cell_id = 59;\n",
       "                var nbb_unformatted_code = \"results = load_results(\\\"sweeps/stemming.joblib\\\")\\nresults[\\\"tokenizer\\\"] = utils.get_func_name(results[\\\"tokenizer\\\"])\\nresults.head(10)\";\n",
       "                var nbb_formatted_code = \"results = load_results(\\\"sweeps/stemming.joblib\\\")\\nresults[\\\"tokenizer\\\"] = utils.get_func_name(results[\\\"tokenizer\\\"])\\nresults.head(10)\";\n",
       "                var nbb_cells = Jupyter.notebook.get_cells();\n",
       "                for (var i = 0; i < nbb_cells.length; ++i) {\n",
       "                    if (nbb_cells[i].input_prompt_number == nbb_cell_id) {\n",
       "                        if (nbb_cells[i].get_text() == nbb_unformatted_code) {\n",
       "                             nbb_cells[i].set_text(nbb_formatted_code);\n",
       "                        }\n",
       "                        break;\n",
       "                    }\n",
       "                }\n",
       "            }, 500);\n",
       "            "
      ],
      "text/plain": [
       "<IPython.core.display.Javascript object>"
      ]
     },
     "metadata": {},
     "output_type": "display_data"
    }
   ],
   "source": [
    "results = load_results(\"sweeps/stemming.joblib\")\n",
    "results[\"tokenizer\"] = utils.get_func_name(results[\"tokenizer\"])\n",
    "results.head(10)"
   ]
  },
  {
   "cell_type": "markdown",
   "metadata": {
    "ExecuteTime": {
     "end_time": "2021-06-25T00:26:29.877668Z",
     "start_time": "2021-06-25T00:25:02.068669Z"
    }
   },
   "source": [
    "```python\n",
    "grid = pd.Series(\n",
    "    dict(\n",
    "        stop_words=[\n",
    "            stop_words,\n",
    "            \"english\",\n",
    "            None,\n",
    "        ]\n",
    "    )\n",
    ")\n",
    "\n",
    "run_sweep(\n",
    "    main_pipe,\n",
    "    grid.add_prefix(\"col__txt__\"),\n",
    "    dst=\"sweeps/stop_words\",\n",
    "    kind=\"grid\",\n",
    ")\n",
    "```"
   ]
  },
  {
   "cell_type": "code",
   "execution_count": 60,
   "metadata": {
    "ExecuteTime": {
     "end_time": "2021-06-26T15:48:18.324716Z",
     "start_time": "2021-06-26T15:48:17.913715Z"
    }
   },
   "outputs": [
    {
     "data": {
      "text/html": [
       "<div>\n",
       "<style scoped>\n",
       "    .dataframe tbody tr th:only-of-type {\n",
       "        vertical-align: middle;\n",
       "    }\n",
       "\n",
       "    .dataframe tbody tr th {\n",
       "        vertical-align: top;\n",
       "    }\n",
       "\n",
       "    .dataframe thead th {\n",
       "        text-align: right;\n",
       "    }\n",
       "</style>\n",
       "<table border=\"1\" class=\"dataframe\">\n",
       "  <thead>\n",
       "    <tr style=\"text-align: right;\">\n",
       "      <th></th>\n",
       "      <th>stop_words</th>\n",
       "      <th>mean_score</th>\n",
       "      <th>rank_score</th>\n",
       "    </tr>\n",
       "  </thead>\n",
       "  <tbody>\n",
       "    <tr>\n",
       "      <th>2</th>\n",
       "      <td>None</td>\n",
       "      <td>0.631893</td>\n",
       "      <td>1</td>\n",
       "    </tr>\n",
       "    <tr>\n",
       "      <th>0</th>\n",
       "      <td>[#sxsw, a, about, above, across, after, afterw...</td>\n",
       "      <td>0.627353</td>\n",
       "      <td>2</td>\n",
       "    </tr>\n",
       "    <tr>\n",
       "      <th>1</th>\n",
       "      <td>english</td>\n",
       "      <td>0.625780</td>\n",
       "      <td>3</td>\n",
       "    </tr>\n",
       "  </tbody>\n",
       "</table>\n",
       "</div>"
      ],
      "text/plain": [
       "                                          stop_words  mean_score  rank_score\n",
       "2                                               None    0.631893           1\n",
       "0  [#sxsw, a, about, above, across, after, afterw...    0.627353           2\n",
       "1                                            english    0.625780           3"
      ]
     },
     "execution_count": 60,
     "metadata": {},
     "output_type": "execute_result"
    },
    {
     "data": {
      "application/javascript": [
       "\n",
       "            setTimeout(function() {\n",
       "                var nbb_cell_id = 60;\n",
       "                var nbb_unformatted_code = \"results = load_results(\\\"sweeps/stop_words\\\")\\nresults.head(10)\";\n",
       "                var nbb_formatted_code = \"results = load_results(\\\"sweeps/stop_words\\\")\\nresults.head(10)\";\n",
       "                var nbb_cells = Jupyter.notebook.get_cells();\n",
       "                for (var i = 0; i < nbb_cells.length; ++i) {\n",
       "                    if (nbb_cells[i].input_prompt_number == nbb_cell_id) {\n",
       "                        if (nbb_cells[i].get_text() == nbb_unformatted_code) {\n",
       "                             nbb_cells[i].set_text(nbb_formatted_code);\n",
       "                        }\n",
       "                        break;\n",
       "                    }\n",
       "                }\n",
       "            }, 500);\n",
       "            "
      ],
      "text/plain": [
       "<IPython.core.display.Javascript object>"
      ]
     },
     "metadata": {},
     "output_type": "display_data"
    }
   ],
   "source": [
    "results = load_results(\"sweeps/stop_words\")\n",
    "results.head(10)"
   ]
  },
  {
   "cell_type": "code",
   "execution_count": 61,
   "metadata": {
    "ExecuteTime": {
     "end_time": "2021-06-26T15:48:21.615716Z",
     "start_time": "2021-06-26T15:48:18.325715Z"
    }
   },
   "outputs": [
    {
     "data": {
      "text/html": [
       "<style  type=\"text/css\" >\n",
       "#T_471ed_row0_col0{\n",
       "            background-color:  #d4d8e2;\n",
       "            color:  #000000;\n",
       "        }#T_471ed_row0_col1{\n",
       "            background-color:  #ca827f;\n",
       "            color:  #000000;\n",
       "        }#T_471ed_row0_col2{\n",
       "            background-color:  #ebd0ce;\n",
       "            color:  #000000;\n",
       "        }#T_471ed_row1_col0{\n",
       "            background-color:  #eed7d5;\n",
       "            color:  #000000;\n",
       "        }#T_471ed_row1_col1{\n",
       "            background-color:  #d8a3a0;\n",
       "            color:  #000000;\n",
       "        }#T_471ed_row1_col2{\n",
       "            background-color:  #e2bcb9;\n",
       "            color:  #000000;\n",
       "        }#T_471ed_row2_col0{\n",
       "            background-color:  #f5f2f4;\n",
       "            color:  #000000;\n",
       "        }#T_471ed_row2_col1{\n",
       "            background-color:  #d29491;\n",
       "            color:  #000000;\n",
       "        }#T_471ed_row2_col2{\n",
       "            background-color:  #e7c7c5;\n",
       "            color:  #000000;\n",
       "        }#T_471ed_row3_col0{\n",
       "            background-color:  #4a7bbc;\n",
       "            color:  #000000;\n",
       "        }#T_471ed_row3_col1{\n",
       "            background-color:  #ecd2d0;\n",
       "            color:  #000000;\n",
       "        }#T_471ed_row3_col2{\n",
       "            background-color:  #bbc5d7;\n",
       "            color:  #000000;\n",
       "        }</style><table id=\"T_471ed_\" ><thead>    <tr>        <th class=\"blank level0\" ></th>        <th class=\"col_heading level0 col0\" >Negative</th>        <th class=\"col_heading level0 col1\" >Neutral</th>        <th class=\"col_heading level0 col2\" >Positive</th>        <th class=\"col_heading level0 col3\" >macro avg</th>        <th class=\"col_heading level0 col4\" >weighted avg</th>        <th class=\"col_heading level0 col5\" >accuracy</th>        <th class=\"col_heading level0 col6\" >bal accuracy</th>    </tr></thead><tbody>\n",
       "                <tr>\n",
       "                        <th id=\"T_471ed_level0_row0\" class=\"row_heading level0 row0\" >precision</th>\n",
       "                        <td id=\"T_471ed_row0_col0\" class=\"data row0 col0\" >0.389</td>\n",
       "                        <td id=\"T_471ed_row0_col1\" class=\"data row0 col1\" >0.805</td>\n",
       "                        <td id=\"T_471ed_row0_col2\" class=\"data row0 col2\" >0.606</td>\n",
       "                        <td id=\"T_471ed_row0_col3\" class=\"data row0 col3\" >0.600</td>\n",
       "                        <td id=\"T_471ed_row0_col4\" class=\"data row0 col4\" >0.713</td>\n",
       "                        <td id=\"T_471ed_row0_col5\" class=\"data row0 col5\" >0.693</td>\n",
       "                        <td id=\"T_471ed_row0_col6\" class=\"data row0 col6\" >0.658</td>\n",
       "            </tr>\n",
       "            <tr>\n",
       "                        <th id=\"T_471ed_level0_row1\" class=\"row_heading level0 row1\" >recall</th>\n",
       "                        <td id=\"T_471ed_row1_col0\" class=\"data row1 col0\" >0.592</td>\n",
       "                        <td id=\"T_471ed_row1_col1\" class=\"data row1 col1\" >0.722</td>\n",
       "                        <td id=\"T_471ed_row1_col2\" class=\"data row1 col2\" >0.659</td>\n",
       "                        <td id=\"T_471ed_row1_col3\" class=\"data row1 col3\" >0.658</td>\n",
       "                        <td id=\"T_471ed_row1_col4\" class=\"data row1 col4\" >0.693</td>\n",
       "                        <td id=\"T_471ed_row1_col5\" class=\"data row1 col5\" ></td>\n",
       "                        <td id=\"T_471ed_row1_col6\" class=\"data row1 col6\" ></td>\n",
       "            </tr>\n",
       "            <tr>\n",
       "                        <th id=\"T_471ed_level0_row2\" class=\"row_heading level0 row2\" >f1-score</th>\n",
       "                        <td id=\"T_471ed_row2_col0\" class=\"data row2 col0\" >0.469</td>\n",
       "                        <td id=\"T_471ed_row2_col1\" class=\"data row2 col1\" >0.762</td>\n",
       "                        <td id=\"T_471ed_row2_col2\" class=\"data row2 col2\" >0.631</td>\n",
       "                        <td id=\"T_471ed_row2_col3\" class=\"data row2 col3\" >0.621</td>\n",
       "                        <td id=\"T_471ed_row2_col4\" class=\"data row2 col4\" >0.700</td>\n",
       "                        <td id=\"T_471ed_row2_col5\" class=\"data row2 col5\" ></td>\n",
       "                        <td id=\"T_471ed_row2_col6\" class=\"data row2 col6\" ></td>\n",
       "            </tr>\n",
       "            <tr>\n",
       "                        <th id=\"T_471ed_level0_row3\" class=\"row_heading level0 row3\" >support</th>\n",
       "                        <td id=\"T_471ed_row3_col0\" class=\"data row3 col0\" >0.064</td>\n",
       "                        <td id=\"T_471ed_row3_col1\" class=\"data row3 col1\" >0.605</td>\n",
       "                        <td id=\"T_471ed_row3_col2\" class=\"data row3 col2\" >0.332</td>\n",
       "                        <td id=\"T_471ed_row3_col3\" class=\"data row3 col3\" ></td>\n",
       "                        <td id=\"T_471ed_row3_col4\" class=\"data row3 col4\" ></td>\n",
       "                        <td id=\"T_471ed_row3_col5\" class=\"data row3 col5\" ></td>\n",
       "                        <td id=\"T_471ed_row3_col6\" class=\"data row3 col6\" ></td>\n",
       "            </tr>\n",
       "    </tbody></table>"
      ],
      "text/plain": [
       "<pandas.io.formats.style.Styler at 0x188312278b0>"
      ]
     },
     "metadata": {},
     "output_type": "display_data"
    },
    {
     "data": {
      "image/png": "[encoded data removed]",
      "text/plain": [
       "<Figure size 288x288 with 1 Axes>"
      ]
     },
     "metadata": {
      "needs_background": "light"
     },
     "output_type": "display_data"
    },
    {
     "data": {
      "application/javascript": [
       "\n",
       "            setTimeout(function() {\n",
       "                var nbb_cell_id = 61;\n",
       "                var nbb_unformatted_code = \"txt_pp = partial(\\n    lang.chain_filts,\\n    filts=[\\n        lang.lowercase,\\n        lang.split_alphanum,\\n        lang.strip_numeric,\\n    ],\\n)\\n\\nmain_pipe.set_params(col__txt__preprocessor=txt_pp)\\ntest_fit(main_pipe)\";\n",
       "                var nbb_formatted_code = \"txt_pp = partial(\\n    lang.chain_filts,\\n    filts=[\\n        lang.lowercase,\\n        lang.split_alphanum,\\n        lang.strip_numeric,\\n    ],\\n)\\n\\nmain_pipe.set_params(col__txt__preprocessor=txt_pp)\\ntest_fit(main_pipe)\";\n",
       "                var nbb_cells = Jupyter.notebook.get_cells();\n",
       "                for (var i = 0; i < nbb_cells.length; ++i) {\n",
       "                    if (nbb_cells[i].input_prompt_number == nbb_cell_id) {\n",
       "                        if (nbb_cells[i].get_text() == nbb_unformatted_code) {\n",
       "                             nbb_cells[i].set_text(nbb_formatted_code);\n",
       "                        }\n",
       "                        break;\n",
       "                    }\n",
       "                }\n",
       "            }, 500);\n",
       "            "
      ],
      "text/plain": [
       "<IPython.core.display.Javascript object>"
      ]
     },
     "metadata": {},
     "output_type": "display_data"
    }
   ],
   "source": [
    "txt_pp = partial(\n",
    "    lang.chain_filts,\n",
    "    filts=[\n",
    "        lang.lowercase,\n",
    "        lang.split_alphanum,\n",
    "        lang.strip_numeric,\n",
    "    ],\n",
    ")\n",
    "\n",
    "main_pipe.set_params(col__txt__preprocessor=txt_pp)\n",
    "test_fit(main_pipe)"
   ]
  },
  {
   "cell_type": "markdown",
   "metadata": {},
   "source": [
    "## Model Mark III"
   ]
  },
  {
   "cell_type": "code",
   "execution_count": 62,
   "metadata": {
    "ExecuteTime": {
     "end_time": "2021-06-26T15:48:24.694717Z",
     "start_time": "2021-06-26T15:48:21.616716Z"
    }
   },
   "outputs": [
    {
     "data": {
      "text/html": [
       "<style  type=\"text/css\" >\n",
       "#T_e74a5_row0_col0{\n",
       "            background-color:  #d7dae4;\n",
       "            color:  #000000;\n",
       "        }#T_e74a5_row0_col1{\n",
       "            background-color:  #ca827f;\n",
       "            color:  #000000;\n",
       "        }#T_e74a5_row0_col2{\n",
       "            background-color:  #ebd0ce;\n",
       "            color:  #000000;\n",
       "        }#T_e74a5_row1_col0{\n",
       "            background-color:  #eed7d5;\n",
       "            color:  #000000;\n",
       "        }#T_e74a5_row1_col1{\n",
       "            background-color:  #d7a29f;\n",
       "            color:  #000000;\n",
       "        }#T_e74a5_row1_col2{\n",
       "            background-color:  #e1bab8;\n",
       "            color:  #000000;\n",
       "        }#T_e74a5_row2_col0{\n",
       "            background-color:  #f6f3f4;\n",
       "            color:  #000000;\n",
       "        }#T_e74a5_row2_col1{\n",
       "            background-color:  #d19290;\n",
       "            color:  #000000;\n",
       "        }#T_e74a5_row2_col2{\n",
       "            background-color:  #e7c7c5;\n",
       "            color:  #000000;\n",
       "        }#T_e74a5_row3_col0{\n",
       "            background-color:  #4a7bbc;\n",
       "            color:  #000000;\n",
       "        }#T_e74a5_row3_col1{\n",
       "            background-color:  #ecd2d0;\n",
       "            color:  #000000;\n",
       "        }#T_e74a5_row3_col2{\n",
       "            background-color:  #bbc5d7;\n",
       "            color:  #000000;\n",
       "        }</style><table id=\"T_e74a5_\" ><thead>    <tr>        <th class=\"blank level0\" ></th>        <th class=\"col_heading level0 col0\" >Negative</th>        <th class=\"col_heading level0 col1\" >Neutral</th>        <th class=\"col_heading level0 col2\" >Positive</th>        <th class=\"col_heading level0 col3\" >macro avg</th>        <th class=\"col_heading level0 col4\" >weighted avg</th>        <th class=\"col_heading level0 col5\" >accuracy</th>        <th class=\"col_heading level0 col6\" >bal accuracy</th>    </tr></thead><tbody>\n",
       "                <tr>\n",
       "                        <th id=\"T_e74a5_level0_row0\" class=\"row_heading level0 row0\" >precision</th>\n",
       "                        <td id=\"T_e74a5_row0_col0\" class=\"data row0 col0\" >0.398</td>\n",
       "                        <td id=\"T_e74a5_row0_col1\" class=\"data row0 col1\" >0.805</td>\n",
       "                        <td id=\"T_e74a5_row0_col2\" class=\"data row0 col2\" >0.607</td>\n",
       "                        <td id=\"T_e74a5_row0_col3\" class=\"data row0 col3\" >0.604</td>\n",
       "                        <td id=\"T_e74a5_row0_col4\" class=\"data row0 col4\" >0.714</td>\n",
       "                        <td id=\"T_e74a5_row0_col5\" class=\"data row0 col5\" >0.695</td>\n",
       "                        <td id=\"T_e74a5_row0_col6\" class=\"data row0 col6\" >0.659</td>\n",
       "            </tr>\n",
       "            <tr>\n",
       "                        <th id=\"T_e74a5_level0_row1\" class=\"row_heading level0 row1\" >recall</th>\n",
       "                        <td id=\"T_e74a5_row1_col0\" class=\"data row1 col0\" >0.592</td>\n",
       "                        <td id=\"T_e74a5_row1_col1\" class=\"data row1 col1\" >0.725</td>\n",
       "                        <td id=\"T_e74a5_row1_col2\" class=\"data row1 col2\" >0.660</td>\n",
       "                        <td id=\"T_e74a5_row1_col3\" class=\"data row1 col3\" >0.659</td>\n",
       "                        <td id=\"T_e74a5_row1_col4\" class=\"data row1 col4\" >0.695</td>\n",
       "                        <td id=\"T_e74a5_row1_col5\" class=\"data row1 col5\" ></td>\n",
       "                        <td id=\"T_e74a5_row1_col6\" class=\"data row1 col6\" ></td>\n",
       "            </tr>\n",
       "            <tr>\n",
       "                        <th id=\"T_e74a5_level0_row2\" class=\"row_heading level0 row2\" >f1-score</th>\n",
       "                        <td id=\"T_e74a5_row2_col0\" class=\"data row2 col0\" >0.476</td>\n",
       "                        <td id=\"T_e74a5_row2_col1\" class=\"data row2 col1\" >0.763</td>\n",
       "                        <td id=\"T_e74a5_row2_col2\" class=\"data row2 col2\" >0.633</td>\n",
       "                        <td id=\"T_e74a5_row2_col3\" class=\"data row2 col3\" >0.624</td>\n",
       "                        <td id=\"T_e74a5_row2_col4\" class=\"data row2 col4\" >0.702</td>\n",
       "                        <td id=\"T_e74a5_row2_col5\" class=\"data row2 col5\" ></td>\n",
       "                        <td id=\"T_e74a5_row2_col6\" class=\"data row2 col6\" ></td>\n",
       "            </tr>\n",
       "            <tr>\n",
       "                        <th id=\"T_e74a5_level0_row3\" class=\"row_heading level0 row3\" >support</th>\n",
       "                        <td id=\"T_e74a5_row3_col0\" class=\"data row3 col0\" >0.064</td>\n",
       "                        <td id=\"T_e74a5_row3_col1\" class=\"data row3 col1\" >0.605</td>\n",
       "                        <td id=\"T_e74a5_row3_col2\" class=\"data row3 col2\" >0.332</td>\n",
       "                        <td id=\"T_e74a5_row3_col3\" class=\"data row3 col3\" ></td>\n",
       "                        <td id=\"T_e74a5_row3_col4\" class=\"data row3 col4\" ></td>\n",
       "                        <td id=\"T_e74a5_row3_col5\" class=\"data row3 col5\" ></td>\n",
       "                        <td id=\"T_e74a5_row3_col6\" class=\"data row3 col6\" ></td>\n",
       "            </tr>\n",
       "    </tbody></table>"
      ],
      "text/plain": [
       "<pandas.io.formats.style.Styler at 0x18830e20e20>"
      ]
     },
     "metadata": {},
     "output_type": "display_data"
    },
    {
     "data": {
      "image/png": "[encoded data removed]",
      "text/plain": [
       "<Figure size 288x288 with 1 Axes>"
      ]
     },
     "metadata": {
      "needs_background": "light"
     },
     "output_type": "display_data"
    },
    {
     "data": {
      "application/javascript": [
       "\n",
       "            setTimeout(function() {\n",
       "                var nbb_cell_id = 62;\n",
       "                var nbb_unformatted_code = \"main_pipe.set_params(\\n    col__txt__analyzer=\\\"word\\\",\\n    col__txt__ngram_range=(1, 1),\\n    col__tag__analyzer=\\\"word\\\",\\n    col__tag__ngram_range=(1, 1),\\n    col__pos__analyzer=\\\"word\\\",\\n    col__pos__ngram_range=(1, 1),\\n    col__bra__analyzer=\\\"word\\\",\\n    col__bra__ngram_range=(1, 2),\\n)\\ntest_fit(main_pipe)\";\n",
       "                var nbb_formatted_code = \"main_pipe.set_params(\\n    col__txt__analyzer=\\\"word\\\",\\n    col__txt__ngram_range=(1, 1),\\n    col__tag__analyzer=\\\"word\\\",\\n    col__tag__ngram_range=(1, 1),\\n    col__pos__analyzer=\\\"word\\\",\\n    col__pos__ngram_range=(1, 1),\\n    col__bra__analyzer=\\\"word\\\",\\n    col__bra__ngram_range=(1, 2),\\n)\\ntest_fit(main_pipe)\";\n",
       "                var nbb_cells = Jupyter.notebook.get_cells();\n",
       "                for (var i = 0; i < nbb_cells.length; ++i) {\n",
       "                    if (nbb_cells[i].input_prompt_number == nbb_cell_id) {\n",
       "                        if (nbb_cells[i].get_text() == nbb_unformatted_code) {\n",
       "                             nbb_cells[i].set_text(nbb_formatted_code);\n",
       "                        }\n",
       "                        break;\n",
       "                    }\n",
       "                }\n",
       "            }, 500);\n",
       "            "
      ],
      "text/plain": [
       "<IPython.core.display.Javascript object>"
      ]
     },
     "metadata": {},
     "output_type": "display_data"
    }
   ],
   "source": [
    "main_pipe.set_params(\n",
    "    col__txt__analyzer=\"word\",\n",
    "    col__txt__ngram_range=(1, 1),\n",
    "    col__tag__analyzer=\"word\",\n",
    "    col__tag__ngram_range=(1, 1),\n",
    "    col__pos__analyzer=\"word\",\n",
    "    col__pos__ngram_range=(1, 1),\n",
    "    col__bra__analyzer=\"word\",\n",
    "    col__bra__ngram_range=(1, 2),\n",
    ")\n",
    "test_fit(main_pipe)"
   ]
  },
  {
   "cell_type": "markdown",
   "metadata": {},
   "source": [
    "## Model Mark IV"
   ]
  },
  {
   "cell_type": "markdown",
   "metadata": {
    "ExecuteTime": {
     "end_time": "2021-06-25T00:13:31.423157Z",
     "start_time": "2021-06-25T00:10:15.345157Z"
    }
   },
   "source": [
    "```python\n",
    "grid = dict(\n",
    "            cls__C=np.geomspace(1e-4, 1e4, 9),\n",
    "            cls__penalty=[\"l2\"],\n",
    "    )\n",
    "\n",
    "logit.set_params(max_iter=1e6, solver=\"lbfgs\")\n",
    "\n",
    "run_sweep(\n",
    "    main_pipe,\n",
    "    grid,\n",
    "    dst=\"sweeps/penalty\",\n",
    "    kind=\"hgrid\",\n",
    "    min_resources=\"exhaust\",\n",
    "    factor=2,\n",
    ")\n",
    "```"
   ]
  },
  {
   "cell_type": "code",
   "execution_count": 63,
   "metadata": {
    "ExecuteTime": {
     "end_time": "2021-06-26T15:48:25.112717Z",
     "start_time": "2021-06-26T15:48:24.695716Z"
    }
   },
   "outputs": [
    {
     "data": {
      "text/html": [
       "<div>\n",
       "<style scoped>\n",
       "    .dataframe tbody tr th:only-of-type {\n",
       "        vertical-align: middle;\n",
       "    }\n",
       "\n",
       "    .dataframe tbody tr th {\n",
       "        vertical-align: top;\n",
       "    }\n",
       "\n",
       "    .dataframe thead th {\n",
       "        text-align: right;\n",
       "    }\n",
       "</style>\n",
       "<table border=\"1\" class=\"dataframe\">\n",
       "  <thead>\n",
       "    <tr style=\"text-align: right;\">\n",
       "      <th></th>\n",
       "      <th>C</th>\n",
       "      <th>penalty</th>\n",
       "      <th>mean_score</th>\n",
       "      <th>rank_score</th>\n",
       "    </tr>\n",
       "  </thead>\n",
       "  <tbody>\n",
       "    <tr>\n",
       "      <th>18</th>\n",
       "      <td>1.0</td>\n",
       "      <td>l2</td>\n",
       "      <td>0.635979</td>\n",
       "      <td>1</td>\n",
       "    </tr>\n",
       "    <tr>\n",
       "      <th>17</th>\n",
       "      <td>0.1</td>\n",
       "      <td>l2</td>\n",
       "      <td>0.607102</td>\n",
       "      <td>2</td>\n",
       "    </tr>\n",
       "    <tr>\n",
       "      <th>16</th>\n",
       "      <td>1.0</td>\n",
       "      <td>l2</td>\n",
       "      <td>0.596662</td>\n",
       "      <td>3</td>\n",
       "    </tr>\n",
       "    <tr>\n",
       "      <th>15</th>\n",
       "      <td>0.1</td>\n",
       "      <td>l2</td>\n",
       "      <td>0.568935</td>\n",
       "      <td>4</td>\n",
       "    </tr>\n",
       "    <tr>\n",
       "      <th>14</th>\n",
       "      <td>10.0</td>\n",
       "      <td>l2</td>\n",
       "      <td>0.562507</td>\n",
       "      <td>5</td>\n",
       "    </tr>\n",
       "  </tbody>\n",
       "</table>\n",
       "</div>"
      ],
      "text/plain": [
       "       C penalty  mean_score  rank_score\n",
       "18   1.0      l2    0.635979           1\n",
       "17   0.1      l2    0.607102           2\n",
       "16   1.0      l2    0.596662           3\n",
       "15   0.1      l2    0.568935           4\n",
       "14  10.0      l2    0.562507           5"
      ]
     },
     "execution_count": 63,
     "metadata": {},
     "output_type": "execute_result"
    },
    {
     "data": {
      "application/javascript": [
       "\n",
       "            setTimeout(function() {\n",
       "                var nbb_cell_id = 63;\n",
       "                var nbb_unformatted_code = \"results = load_results(\\\"sweeps/penalty\\\")\\nresults.head()\";\n",
       "                var nbb_formatted_code = \"results = load_results(\\\"sweeps/penalty\\\")\\nresults.head()\";\n",
       "                var nbb_cells = Jupyter.notebook.get_cells();\n",
       "                for (var i = 0; i < nbb_cells.length; ++i) {\n",
       "                    if (nbb_cells[i].input_prompt_number == nbb_cell_id) {\n",
       "                        if (nbb_cells[i].get_text() == nbb_unformatted_code) {\n",
       "                             nbb_cells[i].set_text(nbb_formatted_code);\n",
       "                        }\n",
       "                        break;\n",
       "                    }\n",
       "                }\n",
       "            }, 500);\n",
       "            "
      ],
      "text/plain": [
       "<IPython.core.display.Javascript object>"
      ]
     },
     "metadata": {},
     "output_type": "display_data"
    }
   ],
   "source": [
    "results = load_results(\"sweeps/penalty\")\n",
    "results.head()"
   ]
  },
  {
   "cell_type": "code",
   "execution_count": 64,
   "metadata": {
    "ExecuteTime": {
     "end_time": "2021-06-26T15:48:28.205715Z",
     "start_time": "2021-06-26T15:48:25.113716Z"
    }
   },
   "outputs": [
    {
     "data": {
      "text/html": [
       "<style  type=\"text/css\" >\n",
       "#T_bf893_row0_col0{\n",
       "            background-color:  #d7dae4;\n",
       "            color:  #000000;\n",
       "        }#T_bf893_row0_col1{\n",
       "            background-color:  #ca827f;\n",
       "            color:  #000000;\n",
       "        }#T_bf893_row0_col2{\n",
       "            background-color:  #ebd0ce;\n",
       "            color:  #000000;\n",
       "        }#T_bf893_row1_col0{\n",
       "            background-color:  #eed7d5;\n",
       "            color:  #000000;\n",
       "        }#T_bf893_row1_col1{\n",
       "            background-color:  #d7a29f;\n",
       "            color:  #000000;\n",
       "        }#T_bf893_row1_col2{\n",
       "            background-color:  #e1bab8;\n",
       "            color:  #000000;\n",
       "        }#T_bf893_row2_col0{\n",
       "            background-color:  #f6f3f4;\n",
       "            color:  #000000;\n",
       "        }#T_bf893_row2_col1{\n",
       "            background-color:  #d19290;\n",
       "            color:  #000000;\n",
       "        }#T_bf893_row2_col2{\n",
       "            background-color:  #e7c7c5;\n",
       "            color:  #000000;\n",
       "        }#T_bf893_row3_col0{\n",
       "            background-color:  #4a7bbc;\n",
       "            color:  #000000;\n",
       "        }#T_bf893_row3_col1{\n",
       "            background-color:  #ecd2d0;\n",
       "            color:  #000000;\n",
       "        }#T_bf893_row3_col2{\n",
       "            background-color:  #bbc5d7;\n",
       "            color:  #000000;\n",
       "        }</style><table id=\"T_bf893_\" ><thead>    <tr>        <th class=\"blank level0\" ></th>        <th class=\"col_heading level0 col0\" >Negative</th>        <th class=\"col_heading level0 col1\" >Neutral</th>        <th class=\"col_heading level0 col2\" >Positive</th>        <th class=\"col_heading level0 col3\" >macro avg</th>        <th class=\"col_heading level0 col4\" >weighted avg</th>        <th class=\"col_heading level0 col5\" >accuracy</th>        <th class=\"col_heading level0 col6\" >bal accuracy</th>    </tr></thead><tbody>\n",
       "                <tr>\n",
       "                        <th id=\"T_bf893_level0_row0\" class=\"row_heading level0 row0\" >precision</th>\n",
       "                        <td id=\"T_bf893_row0_col0\" class=\"data row0 col0\" >0.398</td>\n",
       "                        <td id=\"T_bf893_row0_col1\" class=\"data row0 col1\" >0.805</td>\n",
       "                        <td id=\"T_bf893_row0_col2\" class=\"data row0 col2\" >0.607</td>\n",
       "                        <td id=\"T_bf893_row0_col3\" class=\"data row0 col3\" >0.604</td>\n",
       "                        <td id=\"T_bf893_row0_col4\" class=\"data row0 col4\" >0.714</td>\n",
       "                        <td id=\"T_bf893_row0_col5\" class=\"data row0 col5\" >0.695</td>\n",
       "                        <td id=\"T_bf893_row0_col6\" class=\"data row0 col6\" >0.659</td>\n",
       "            </tr>\n",
       "            <tr>\n",
       "                        <th id=\"T_bf893_level0_row1\" class=\"row_heading level0 row1\" >recall</th>\n",
       "                        <td id=\"T_bf893_row1_col0\" class=\"data row1 col0\" >0.592</td>\n",
       "                        <td id=\"T_bf893_row1_col1\" class=\"data row1 col1\" >0.725</td>\n",
       "                        <td id=\"T_bf893_row1_col2\" class=\"data row1 col2\" >0.660</td>\n",
       "                        <td id=\"T_bf893_row1_col3\" class=\"data row1 col3\" >0.659</td>\n",
       "                        <td id=\"T_bf893_row1_col4\" class=\"data row1 col4\" >0.695</td>\n",
       "                        <td id=\"T_bf893_row1_col5\" class=\"data row1 col5\" ></td>\n",
       "                        <td id=\"T_bf893_row1_col6\" class=\"data row1 col6\" ></td>\n",
       "            </tr>\n",
       "            <tr>\n",
       "                        <th id=\"T_bf893_level0_row2\" class=\"row_heading level0 row2\" >f1-score</th>\n",
       "                        <td id=\"T_bf893_row2_col0\" class=\"data row2 col0\" >0.476</td>\n",
       "                        <td id=\"T_bf893_row2_col1\" class=\"data row2 col1\" >0.763</td>\n",
       "                        <td id=\"T_bf893_row2_col2\" class=\"data row2 col2\" >0.633</td>\n",
       "                        <td id=\"T_bf893_row2_col3\" class=\"data row2 col3\" >0.624</td>\n",
       "                        <td id=\"T_bf893_row2_col4\" class=\"data row2 col4\" >0.702</td>\n",
       "                        <td id=\"T_bf893_row2_col5\" class=\"data row2 col5\" ></td>\n",
       "                        <td id=\"T_bf893_row2_col6\" class=\"data row2 col6\" ></td>\n",
       "            </tr>\n",
       "            <tr>\n",
       "                        <th id=\"T_bf893_level0_row3\" class=\"row_heading level0 row3\" >support</th>\n",
       "                        <td id=\"T_bf893_row3_col0\" class=\"data row3 col0\" >0.064</td>\n",
       "                        <td id=\"T_bf893_row3_col1\" class=\"data row3 col1\" >0.605</td>\n",
       "                        <td id=\"T_bf893_row3_col2\" class=\"data row3 col2\" >0.332</td>\n",
       "                        <td id=\"T_bf893_row3_col3\" class=\"data row3 col3\" ></td>\n",
       "                        <td id=\"T_bf893_row3_col4\" class=\"data row3 col4\" ></td>\n",
       "                        <td id=\"T_bf893_row3_col5\" class=\"data row3 col5\" ></td>\n",
       "                        <td id=\"T_bf893_row3_col6\" class=\"data row3 col6\" ></td>\n",
       "            </tr>\n",
       "    </tbody></table>"
      ],
      "text/plain": [
       "<pandas.io.formats.style.Styler at 0x18830a0e4f0>"
      ]
     },
     "metadata": {},
     "output_type": "display_data"
    },
    {
     "data": {
      "image/png": "[encoded data removed]",
      "text/plain": [
       "<Figure size 288x288 with 1 Axes>"
      ]
     },
     "metadata": {
      "needs_background": "light"
     },
     "output_type": "display_data"
    },
    {
     "data": {
      "application/javascript": [
       "\n",
       "            setTimeout(function() {\n",
       "                var nbb_cell_id = 64;\n",
       "                var nbb_unformatted_code = \"main_pipe.set_params(cls__C=1.0)\\ntest_fit(main_pipe)\";\n",
       "                var nbb_formatted_code = \"main_pipe.set_params(cls__C=1.0)\\ntest_fit(main_pipe)\";\n",
       "                var nbb_cells = Jupyter.notebook.get_cells();\n",
       "                for (var i = 0; i < nbb_cells.length; ++i) {\n",
       "                    if (nbb_cells[i].input_prompt_number == nbb_cell_id) {\n",
       "                        if (nbb_cells[i].get_text() == nbb_unformatted_code) {\n",
       "                             nbb_cells[i].set_text(nbb_formatted_code);\n",
       "                        }\n",
       "                        break;\n",
       "                    }\n",
       "                }\n",
       "            }, 500);\n",
       "            "
      ],
      "text/plain": [
       "<IPython.core.display.Javascript object>"
      ]
     },
     "metadata": {},
     "output_type": "display_data"
    }
   ],
   "source": [
    "main_pipe.set_params(cls__C=1.0)\n",
    "test_fit(main_pipe)"
   ]
  },
  {
   "cell_type": "markdown",
   "metadata": {
    "ExecuteTime": {
     "end_time": "2021-06-23T20:08:42.019241Z",
     "start_time": "2021-06-23T20:08:41.926238Z"
    },
    "run_control": {
     "marked": false
    }
   },
   "source": [
    "```python\n",
    "grid = pd.Series(dict(threshold=np.arange(1, 10, 1) * 1e-5))\n",
    "\n",
    "run_sweep(\n",
    "    main_pipe,\n",
    "    grid.add_prefix(\"sel__\"),\n",
    "    dst=\"sweeps/var_thresh\",\n",
    "    kind=\"hgrid\",\n",
    "    factor=2,\n",
    ")\n",
    "```"
   ]
  },
  {
   "cell_type": "code",
   "execution_count": 65,
   "metadata": {
    "ExecuteTime": {
     "end_time": "2021-06-26T15:48:28.692718Z",
     "start_time": "2021-06-26T15:48:28.206715Z"
    }
   },
   "outputs": [
    {
     "data": {
      "text/html": [
       "<div>\n",
       "<style scoped>\n",
       "    .dataframe tbody tr th:only-of-type {\n",
       "        vertical-align: middle;\n",
       "    }\n",
       "\n",
       "    .dataframe tbody tr th {\n",
       "        vertical-align: top;\n",
       "    }\n",
       "\n",
       "    .dataframe thead th {\n",
       "        text-align: right;\n",
       "    }\n",
       "</style>\n",
       "<table border=\"1\" class=\"dataframe\">\n",
       "  <thead>\n",
       "    <tr style=\"text-align: right;\">\n",
       "      <th></th>\n",
       "      <th>threshold</th>\n",
       "      <th>mean_score</th>\n",
       "      <th>rank_score</th>\n",
       "    </tr>\n",
       "  </thead>\n",
       "  <tbody>\n",
       "    <tr>\n",
       "      <th>17</th>\n",
       "      <td>0.00006</td>\n",
       "      <td>0.627227</td>\n",
       "      <td>1</td>\n",
       "    </tr>\n",
       "    <tr>\n",
       "      <th>18</th>\n",
       "      <td>0.00009</td>\n",
       "      <td>0.624826</td>\n",
       "      <td>2</td>\n",
       "    </tr>\n",
       "    <tr>\n",
       "      <th>16</th>\n",
       "      <td>0.00009</td>\n",
       "      <td>0.588219</td>\n",
       "      <td>3</td>\n",
       "    </tr>\n",
       "    <tr>\n",
       "      <th>14</th>\n",
       "      <td>0.00006</td>\n",
       "      <td>0.587508</td>\n",
       "      <td>4</td>\n",
       "    </tr>\n",
       "    <tr>\n",
       "      <th>15</th>\n",
       "      <td>0.00008</td>\n",
       "      <td>0.587377</td>\n",
       "      <td>5</td>\n",
       "    </tr>\n",
       "  </tbody>\n",
       "</table>\n",
       "</div>"
      ],
      "text/plain": [
       "   threshold  mean_score  rank_score\n",
       "17   0.00006    0.627227           1\n",
       "18   0.00009    0.624826           2\n",
       "16   0.00009    0.588219           3\n",
       "14   0.00006    0.587508           4\n",
       "15   0.00008    0.587377           5"
      ]
     },
     "execution_count": 65,
     "metadata": {},
     "output_type": "execute_result"
    },
    {
     "data": {
      "application/javascript": [
       "\n",
       "            setTimeout(function() {\n",
       "                var nbb_cell_id = 65;\n",
       "                var nbb_unformatted_code = \"results = load_results(\\\"sweeps/var_thresh\\\")\\nresults.head()\";\n",
       "                var nbb_formatted_code = \"results = load_results(\\\"sweeps/var_thresh\\\")\\nresults.head()\";\n",
       "                var nbb_cells = Jupyter.notebook.get_cells();\n",
       "                for (var i = 0; i < nbb_cells.length; ++i) {\n",
       "                    if (nbb_cells[i].input_prompt_number == nbb_cell_id) {\n",
       "                        if (nbb_cells[i].get_text() == nbb_unformatted_code) {\n",
       "                             nbb_cells[i].set_text(nbb_formatted_code);\n",
       "                        }\n",
       "                        break;\n",
       "                    }\n",
       "                }\n",
       "            }, 500);\n",
       "            "
      ],
      "text/plain": [
       "<IPython.core.display.Javascript object>"
      ]
     },
     "metadata": {},
     "output_type": "display_data"
    }
   ],
   "source": [
    "results = load_results(\"sweeps/var_thresh\")\n",
    "results.head()"
   ]
  },
  {
   "cell_type": "code",
   "execution_count": 66,
   "metadata": {
    "ExecuteTime": {
     "end_time": "2021-06-26T15:48:31.568175Z",
     "start_time": "2021-06-26T15:48:28.696717Z"
    },
    "run_control": {
     "marked": false
    }
   },
   "outputs": [
    {
     "data": {
      "text/html": [
       "<style  type=\"text/css\" >\n",
       "#T_18fc7_row0_col0{\n",
       "            background-color:  #b3bfd3;\n",
       "            color:  #000000;\n",
       "        }#T_18fc7_row0_col1{\n",
       "            background-color:  #c97f7d;\n",
       "            color:  #000000;\n",
       "        }#T_18fc7_row0_col2{\n",
       "            background-color:  #ecd3d2;\n",
       "            color:  #000000;\n",
       "        }#T_18fc7_row1_col0{\n",
       "            background-color:  #e3bdbb;\n",
       "            color:  #000000;\n",
       "        }#T_18fc7_row1_col1{\n",
       "            background-color:  #deb2b0;\n",
       "            color:  #000000;\n",
       "        }#T_18fc7_row1_col2{\n",
       "            background-color:  #e4c0be;\n",
       "            color:  #000000;\n",
       "        }#T_18fc7_row2_col0{\n",
       "            background-color:  #e1e2e9;\n",
       "            color:  #000000;\n",
       "        }#T_18fc7_row2_col1{\n",
       "            background-color:  #d49a97;\n",
       "            color:  #000000;\n",
       "        }#T_18fc7_row2_col2{\n",
       "            background-color:  #e8cac8;\n",
       "            color:  #000000;\n",
       "        }#T_18fc7_row3_col0{\n",
       "            background-color:  #4a7bbc;\n",
       "            color:  #000000;\n",
       "        }#T_18fc7_row3_col1{\n",
       "            background-color:  #ecd2d0;\n",
       "            color:  #000000;\n",
       "        }#T_18fc7_row3_col2{\n",
       "            background-color:  #bbc5d7;\n",
       "            color:  #000000;\n",
       "        }</style><table id=\"T_18fc7_\" ><thead>    <tr>        <th class=\"blank level0\" ></th>        <th class=\"col_heading level0 col0\" >Negative</th>        <th class=\"col_heading level0 col1\" >Neutral</th>        <th class=\"col_heading level0 col2\" >Positive</th>        <th class=\"col_heading level0 col3\" >macro avg</th>        <th class=\"col_heading level0 col4\" >weighted avg</th>        <th class=\"col_heading level0 col5\" >accuracy</th>        <th class=\"col_heading level0 col6\" >bal accuracy</th>    </tr></thead><tbody>\n",
       "                <tr>\n",
       "                        <th id=\"T_18fc7_level0_row0\" class=\"row_heading level0 row0\" >precision</th>\n",
       "                        <td id=\"T_18fc7_row0_col0\" class=\"data row0 col0\" >0.309</td>\n",
       "                        <td id=\"T_18fc7_row0_col1\" class=\"data row0 col1\" >0.816</td>\n",
       "                        <td id=\"T_18fc7_row0_col2\" class=\"data row0 col2\" >0.598</td>\n",
       "                        <td id=\"T_18fc7_row0_col3\" class=\"data row0 col3\" >0.574</td>\n",
       "                        <td id=\"T_18fc7_row0_col4\" class=\"data row0 col4\" >0.711</td>\n",
       "                        <td id=\"T_18fc7_row0_col5\" class=\"data row0 col5\" >0.669</td>\n",
       "                        <td id=\"T_18fc7_row0_col6\" class=\"data row0 col6\" >0.662</td>\n",
       "            </tr>\n",
       "            <tr>\n",
       "                        <th id=\"T_18fc7_level0_row1\" class=\"row_heading level0 row1\" >recall</th>\n",
       "                        <td id=\"T_18fc7_row1_col0\" class=\"data row1 col0\" >0.655</td>\n",
       "                        <td id=\"T_18fc7_row1_col1\" class=\"data row1 col1\" >0.683</td>\n",
       "                        <td id=\"T_18fc7_row1_col2\" class=\"data row1 col2\" >0.647</td>\n",
       "                        <td id=\"T_18fc7_row1_col3\" class=\"data row1 col3\" >0.662</td>\n",
       "                        <td id=\"T_18fc7_row1_col4\" class=\"data row1 col4\" >0.669</td>\n",
       "                        <td id=\"T_18fc7_row1_col5\" class=\"data row1 col5\" ></td>\n",
       "                        <td id=\"T_18fc7_row1_col6\" class=\"data row1 col6\" ></td>\n",
       "            </tr>\n",
       "            <tr>\n",
       "                        <th id=\"T_18fc7_level0_row2\" class=\"row_heading level0 row2\" >f1-score</th>\n",
       "                        <td id=\"T_18fc7_row2_col0\" class=\"data row2 col0\" >0.420</td>\n",
       "                        <td id=\"T_18fc7_row2_col1\" class=\"data row2 col1\" >0.743</td>\n",
       "                        <td id=\"T_18fc7_row2_col2\" class=\"data row2 col2\" >0.622</td>\n",
       "                        <td id=\"T_18fc7_row2_col3\" class=\"data row2 col3\" >0.595</td>\n",
       "                        <td id=\"T_18fc7_row2_col4\" class=\"data row2 col4\" >0.682</td>\n",
       "                        <td id=\"T_18fc7_row2_col5\" class=\"data row2 col5\" ></td>\n",
       "                        <td id=\"T_18fc7_row2_col6\" class=\"data row2 col6\" ></td>\n",
       "            </tr>\n",
       "            <tr>\n",
       "                        <th id=\"T_18fc7_level0_row3\" class=\"row_heading level0 row3\" >support</th>\n",
       "                        <td id=\"T_18fc7_row3_col0\" class=\"data row3 col0\" >0.064</td>\n",
       "                        <td id=\"T_18fc7_row3_col1\" class=\"data row3 col1\" >0.605</td>\n",
       "                        <td id=\"T_18fc7_row3_col2\" class=\"data row3 col2\" >0.332</td>\n",
       "                        <td id=\"T_18fc7_row3_col3\" class=\"data row3 col3\" ></td>\n",
       "                        <td id=\"T_18fc7_row3_col4\" class=\"data row3 col4\" ></td>\n",
       "                        <td id=\"T_18fc7_row3_col5\" class=\"data row3 col5\" ></td>\n",
       "                        <td id=\"T_18fc7_row3_col6\" class=\"data row3 col6\" ></td>\n",
       "            </tr>\n",
       "    </tbody></table>"
      ],
      "text/plain": [
       "<pandas.io.formats.style.Styler at 0x18835998ac0>"
      ]
     },
     "metadata": {},
     "output_type": "display_data"
    },
    {
     "data": {
      "image/png": "[encoded data removed]",
      "text/plain": [
       "<Figure size 288x288 with 1 Axes>"
      ]
     },
     "metadata": {
      "needs_background": "light"
     },
     "output_type": "display_data"
    },
    {
     "data": {
      "application/javascript": [
       "\n",
       "            setTimeout(function() {\n",
       "                var nbb_cell_id = 66;\n",
       "                var nbb_unformatted_code = \"main_pipe = Pipeline(\\n    [\\n        (\\\"col\\\", col_xform),\\n        (\\\"sel\\\", VarianceThreshold(9e-5)),\\n        (\\\"cls\\\", logit),\\n    ]\\n)\\nlogit.set_params(solver=\\\"lbfgs\\\")\\ntest_fit(main_pipe)\";\n",
       "                var nbb_formatted_code = \"main_pipe = Pipeline(\\n    [\\n        (\\\"col\\\", col_xform),\\n        (\\\"sel\\\", VarianceThreshold(9e-5)),\\n        (\\\"cls\\\", logit),\\n    ]\\n)\\nlogit.set_params(solver=\\\"lbfgs\\\")\\ntest_fit(main_pipe)\";\n",
       "                var nbb_cells = Jupyter.notebook.get_cells();\n",
       "                for (var i = 0; i < nbb_cells.length; ++i) {\n",
       "                    if (nbb_cells[i].input_prompt_number == nbb_cell_id) {\n",
       "                        if (nbb_cells[i].get_text() == nbb_unformatted_code) {\n",
       "                             nbb_cells[i].set_text(nbb_formatted_code);\n",
       "                        }\n",
       "                        break;\n",
       "                    }\n",
       "                }\n",
       "            }, 500);\n",
       "            "
      ],
      "text/plain": [
       "<IPython.core.display.Javascript object>"
      ]
     },
     "metadata": {},
     "output_type": "display_data"
    }
   ],
   "source": [
    "main_pipe = Pipeline(\n",
    "    [\n",
    "        (\"col\", col_xform),\n",
    "        (\"sel\", VarianceThreshold(9e-5)),\n",
    "        (\"cls\", logit),\n",
    "    ]\n",
    ")\n",
    "logit.set_params(solver=\"lbfgs\")\n",
    "test_fit(main_pipe)"
   ]
  },
  {
   "cell_type": "code",
   "execution_count": 67,
   "metadata": {
    "ExecuteTime": {
     "end_time": "2021-06-26T15:48:33.454173Z",
     "start_time": "2021-06-26T15:48:31.569175Z"
    }
   },
   "outputs": [
    {
     "data": {
      "text/plain": [
       "<6684x20394 sparse matrix of type '<class 'numpy.float64'>'\n",
       "\twith 282911 stored elements in Compressed Sparse Row format>"
      ]
     },
     "metadata": {},
     "output_type": "display_data"
    },
    {
     "data": {
      "text/plain": [
       "<6684x3943 sparse matrix of type '<class 'numpy.float64'>'\n",
       "\twith 255158 stored elements in Compressed Sparse Row format>"
      ]
     },
     "metadata": {},
     "output_type": "display_data"
    },
    {
     "data": {
      "application/javascript": [
       "\n",
       "            setTimeout(function() {\n",
       "                var nbb_cell_id = 67;\n",
       "                var nbb_unformatted_code = \"display(main_pipe[:1].fit_transform(X_train))\\ndisplay(main_pipe[:2].fit_transform(X_train))\";\n",
       "                var nbb_formatted_code = \"display(main_pipe[:1].fit_transform(X_train))\\ndisplay(main_pipe[:2].fit_transform(X_train))\";\n",
       "                var nbb_cells = Jupyter.notebook.get_cells();\n",
       "                for (var i = 0; i < nbb_cells.length; ++i) {\n",
       "                    if (nbb_cells[i].input_prompt_number == nbb_cell_id) {\n",
       "                        if (nbb_cells[i].get_text() == nbb_unformatted_code) {\n",
       "                             nbb_cells[i].set_text(nbb_formatted_code);\n",
       "                        }\n",
       "                        break;\n",
       "                    }\n",
       "                }\n",
       "            }, 500);\n",
       "            "
      ],
      "text/plain": [
       "<IPython.core.display.Javascript object>"
      ]
     },
     "metadata": {},
     "output_type": "display_data"
    }
   ],
   "source": [
    "display(main_pipe[:1].fit_transform(X_train))\n",
    "display(main_pipe[:2].fit_transform(X_train))"
   ]
  },
  {
   "cell_type": "code",
   "execution_count": null,
   "metadata": {},
   "outputs": [],
   "source": []
  }
 ],
 "metadata": {
  "interpreter": {
   "hash": "45e948d0256f8c78ae85303b642a175be3add64c95f2eaa9e19fcfd099775c4c"
  },
  "kernelspec": {
   "display_name": "Python 3",
   "language": "python",
   "name": "python3"
  },
  "language_info": {
   "codemirror_mode": {
    "name": "ipython",
    "version": 3
   },
   "file_extension": ".py",
   "mimetype": "text/x-python",
   "name": "python",
   "nbconvert_exporter": "python",
   "pygments_lexer": "ipython3",
   "version": "3.8.5"
  },
  "toc": {
   "base_numbering": 1,
   "nav_menu": {},
   "number_sections": false,
   "sideBar": true,
   "skip_h1_title": false,
   "title_cell": "Table of Contents",
   "title_sidebar": "Contents",
   "toc_cell": false,
   "toc_position": {
    "height": "calc(100% - 180px)",
    "left": "10px",
    "top": "150px",
    "width": "512px"
   },
   "toc_section_display": true,
   "toc_window_display": true
  }
 },
 "nbformat": 4,
 "nbformat_minor": 2
}
