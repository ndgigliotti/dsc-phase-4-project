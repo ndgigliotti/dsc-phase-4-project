{
 "cells": [
  {
   "cell_type": "code",
   "execution_count": 1,
   "metadata": {
    "ExecuteTime": {
     "end_time": "2021-06-17T21:15:06.951819Z",
     "start_time": "2021-06-17T21:15:05.820793Z"
    }
   },
   "outputs": [
    {
     "data": {
      "application/javascript": [
       "\n",
       "            setTimeout(function() {\n",
       "                var nbb_cell_id = 1;\n",
       "                var nbb_unformatted_code = \"import re\\nimport numpy as np\\nimport pandas as pd\\nimport seaborn as sns\\nimport matplotlib.pyplot as plt\\nfrom os.path import normpath\\n\\n# Set Seaborn theme and default palette\\nsns.set_theme(font_scale=1, style=\\\"darkgrid\\\")\\nsns.set_palette(\\\"deep\\\", desat=0.85, color_codes=True)\\n\\n# Turn on inline plotting\\n%matplotlib inline\\n\\n# Load Black auto-formatter\\n%load_ext nb_black\\n\\n# Enable automatic reloading\\n%load_ext autoreload\\n%autoreload 2\";\n",
       "                var nbb_formatted_code = \"import re\\nimport numpy as np\\nimport pandas as pd\\nimport seaborn as sns\\nimport matplotlib.pyplot as plt\\nfrom os.path import normpath\\n\\n# Set Seaborn theme and default palette\\nsns.set_theme(font_scale=1, style=\\\"darkgrid\\\")\\nsns.set_palette(\\\"deep\\\", desat=0.85, color_codes=True)\\n\\n# Turn on inline plotting\\n%matplotlib inline\\n\\n# Load Black auto-formatter\\n%load_ext nb_black\\n\\n# Enable automatic reloading\\n%load_ext autoreload\\n%autoreload 2\";\n",
       "                var nbb_cells = Jupyter.notebook.get_cells();\n",
       "                for (var i = 0; i < nbb_cells.length; ++i) {\n",
       "                    if (nbb_cells[i].input_prompt_number == nbb_cell_id) {\n",
       "                        if (nbb_cells[i].get_text() == nbb_unformatted_code) {\n",
       "                             nbb_cells[i].set_text(nbb_formatted_code);\n",
       "                        }\n",
       "                        break;\n",
       "                    }\n",
       "                }\n",
       "            }, 500);\n",
       "            "
      ],
      "text/plain": [
       "<IPython.core.display.Javascript object>"
      ]
     },
     "metadata": {},
     "output_type": "display_data"
    }
   ],
   "source": [
    "import re\n",
    "import numpy as np\n",
    "import pandas as pd\n",
    "import seaborn as sns\n",
    "import matplotlib.pyplot as plt\n",
    "from os.path import normpath\n",
    "\n",
    "# Set Seaborn theme and default palette\n",
    "sns.set_theme(font_scale=1, style=\"darkgrid\")\n",
    "sns.set_palette(\"deep\", desat=0.85, color_codes=True)\n",
    "\n",
    "# Turn on inline plotting\n",
    "%matplotlib inline\n",
    "\n",
    "# Load Black auto-formatter\n",
    "%load_ext nb_black\n",
    "\n",
    "# Enable automatic reloading\n",
    "%load_ext autoreload\n",
    "%autoreload 2"
   ]
  },
  {
   "cell_type": "code",
   "execution_count": 2,
   "metadata": {
    "ExecuteTime": {
     "end_time": "2021-06-17T21:15:08.211653Z",
     "start_time": "2021-06-17T21:15:06.953791Z"
    }
   },
   "outputs": [
    {
     "data": {
      "application/javascript": [
       "\n",
       "            setTimeout(function() {\n",
       "                var nbb_cell_id = 2;\n",
       "                var nbb_unformatted_code = \"# Import my modules\\nfrom tools import cleaning, plotting, language, utils\\n\\n# Set my default MPL settings\\nplt.rcParams.update(plotting.MPL_DEFAULTS)\\n\\n# Seed random bit generator for reproducibility\\nrando = utils.bitgen(9547)\\n\\nrando = np.random.RandomState(9547)\";\n",
       "                var nbb_formatted_code = \"# Import my modules\\nfrom tools import cleaning, plotting, language, utils\\n\\n# Set my default MPL settings\\nplt.rcParams.update(plotting.MPL_DEFAULTS)\\n\\n# Seed random bit generator for reproducibility\\nrando = utils.bitgen(9547)\\n\\nrando = np.random.RandomState(9547)\";\n",
       "                var nbb_cells = Jupyter.notebook.get_cells();\n",
       "                for (var i = 0; i < nbb_cells.length; ++i) {\n",
       "                    if (nbb_cells[i].input_prompt_number == nbb_cell_id) {\n",
       "                        if (nbb_cells[i].get_text() == nbb_unformatted_code) {\n",
       "                             nbb_cells[i].set_text(nbb_formatted_code);\n",
       "                        }\n",
       "                        break;\n",
       "                    }\n",
       "                }\n",
       "            }, 500);\n",
       "            "
      ],
      "text/plain": [
       "<IPython.core.display.Javascript object>"
      ]
     },
     "metadata": {},
     "output_type": "display_data"
    }
   ],
   "source": [
    "# Import my modules\n",
    "from tools import cleaning, plotting, language, utils\n",
    "\n",
    "# Set my default MPL settings\n",
    "plt.rcParams.update(plotting.MPL_DEFAULTS)\n",
    "\n",
    "# RandomState for reproducibility\n",
    "rando = np.random.RandomState(9547)"
   ]
  },
  {
   "cell_type": "markdown",
   "metadata": {},
   "source": [
    "# Overview of Dataset"
   ]
  },
  {
   "cell_type": "code",
   "execution_count": 3,
   "metadata": {
    "ExecuteTime": {
     "end_time": "2021-06-17T21:15:08.334653Z",
     "start_time": "2021-06-17T21:15:08.214654Z"
    },
    "run_control": {
     "marked": false
    }
   },
   "outputs": [
    {
     "data": {
      "text/html": [
       "<div>\n",
       "<style scoped>\n",
       "    .dataframe tbody tr th:only-of-type {\n",
       "        vertical-align: middle;\n",
       "    }\n",
       "\n",
       "    .dataframe tbody tr th {\n",
       "        vertical-align: top;\n",
       "    }\n",
       "\n",
       "    .dataframe thead th {\n",
       "        text-align: right;\n",
       "    }\n",
       "</style>\n",
       "<table border=\"1\" class=\"dataframe\">\n",
       "  <thead>\n",
       "    <tr style=\"text-align: right;\">\n",
       "      <th></th>\n",
       "      <th>tweet_text</th>\n",
       "      <th>emotion_in_tweet_is_directed_at</th>\n",
       "      <th>is_there_an_emotion_directed_at_a_brand_or_product</th>\n",
       "    </tr>\n",
       "  </thead>\n",
       "  <tbody>\n",
       "    <tr>\n",
       "      <th>0</th>\n",
       "      <td>.@wesley83 I have a 3G iPhone. After 3 hrs twe...</td>\n",
       "      <td>iPhone</td>\n",
       "      <td>Negative emotion</td>\n",
       "    </tr>\n",
       "    <tr>\n",
       "      <th>1</th>\n",
       "      <td>@jessedee Know about @fludapp ? Awesome iPad/i...</td>\n",
       "      <td>iPad or iPhone App</td>\n",
       "      <td>Positive emotion</td>\n",
       "    </tr>\n",
       "    <tr>\n",
       "      <th>2</th>\n",
       "      <td>@swonderlin Can not wait for #iPad 2 also. The...</td>\n",
       "      <td>iPad</td>\n",
       "      <td>Positive emotion</td>\n",
       "    </tr>\n",
       "    <tr>\n",
       "      <th>3</th>\n",
       "      <td>@sxsw I hope this year's festival isn't as cra...</td>\n",
       "      <td>iPad or iPhone App</td>\n",
       "      <td>Negative emotion</td>\n",
       "    </tr>\n",
       "    <tr>\n",
       "      <th>4</th>\n",
       "      <td>@sxtxstate great stuff on Fri #SXSW: Marissa M...</td>\n",
       "      <td>Google</td>\n",
       "      <td>Positive emotion</td>\n",
       "    </tr>\n",
       "  </tbody>\n",
       "</table>\n",
       "</div>"
      ],
      "text/plain": [
       "                                          tweet_text  \\\n",
       "0  .@wesley83 I have a 3G iPhone. After 3 hrs twe...   \n",
       "1  @jessedee Know about @fludapp ? Awesome iPad/i...   \n",
       "2  @swonderlin Can not wait for #iPad 2 also. The...   \n",
       "3  @sxsw I hope this year's festival isn't as cra...   \n",
       "4  @sxtxstate great stuff on Fri #SXSW: Marissa M...   \n",
       "\n",
       "  emotion_in_tweet_is_directed_at  \\\n",
       "0                          iPhone   \n",
       "1              iPad or iPhone App   \n",
       "2                            iPad   \n",
       "3              iPad or iPhone App   \n",
       "4                          Google   \n",
       "\n",
       "  is_there_an_emotion_directed_at_a_brand_or_product  \n",
       "0                                   Negative emotion  \n",
       "1                                   Positive emotion  \n",
       "2                                   Positive emotion  \n",
       "3                                   Negative emotion  \n",
       "4                                   Positive emotion  "
      ]
     },
     "execution_count": 3,
     "metadata": {},
     "output_type": "execute_result"
    },
    {
     "data": {
      "application/javascript": [
       "\n",
       "            setTimeout(function() {\n",
       "                var nbb_cell_id = 3;\n",
       "                var nbb_unformatted_code = \"df = pd.read_csv(normpath(\\\"data/crowdflower_tweets.csv\\\"))\\ndf.head()\";\n",
       "                var nbb_formatted_code = \"df = pd.read_csv(normpath(\\\"data/crowdflower_tweets.csv\\\"))\\ndf.head()\";\n",
       "                var nbb_cells = Jupyter.notebook.get_cells();\n",
       "                for (var i = 0; i < nbb_cells.length; ++i) {\n",
       "                    if (nbb_cells[i].input_prompt_number == nbb_cell_id) {\n",
       "                        if (nbb_cells[i].get_text() == nbb_unformatted_code) {\n",
       "                             nbb_cells[i].set_text(nbb_formatted_code);\n",
       "                        }\n",
       "                        break;\n",
       "                    }\n",
       "                }\n",
       "            }, 500);\n",
       "            "
      ],
      "text/plain": [
       "<IPython.core.display.Javascript object>"
      ]
     },
     "metadata": {},
     "output_type": "display_data"
    }
   ],
   "source": [
    "df = pd.read_csv(normpath(\"data/crowdflower_tweets.csv\"))\n",
    "df.head()"
   ]
  },
  {
   "cell_type": "markdown",
   "metadata": {},
   "source": [
    "Looks like one text feature and two categorical features, one of which has a lot of null values. The feature names are very long and wordy, presumably to reflect the actual language used by CrowdFlower in crowdsourcing this dataset. I'm going to rename those before I do anything else."
   ]
  },
  {
   "cell_type": "code",
   "execution_count": 4,
   "metadata": {
    "ExecuteTime": {
     "end_time": "2021-06-17T21:15:08.438659Z",
     "start_time": "2021-06-17T21:15:08.335655Z"
    }
   },
   "outputs": [
    {
     "name": "stdout",
     "output_type": "stream",
     "text": [
      "<class 'pandas.core.frame.DataFrame'>\n",
      "RangeIndex: 9093 entries, 0 to 9092\n",
      "Data columns (total 3 columns):\n",
      " #   Column                                              Non-Null Count  Dtype \n",
      "---  ------                                              --------------  ----- \n",
      " 0   tweet_text                                          9092 non-null   object\n",
      " 1   emotion_in_tweet_is_directed_at                     3291 non-null   object\n",
      " 2   is_there_an_emotion_directed_at_a_brand_or_product  9093 non-null   object\n",
      "dtypes: object(3)\n",
      "memory usage: 213.2+ KB\n"
     ]
    },
    {
     "data": {
      "application/javascript": [
       "\n",
       "            setTimeout(function() {\n",
       "                var nbb_cell_id = 4;\n",
       "                var nbb_unformatted_code = \"df.info()\";\n",
       "                var nbb_formatted_code = \"df.info()\";\n",
       "                var nbb_cells = Jupyter.notebook.get_cells();\n",
       "                for (var i = 0; i < nbb_cells.length; ++i) {\n",
       "                    if (nbb_cells[i].input_prompt_number == nbb_cell_id) {\n",
       "                        if (nbb_cells[i].get_text() == nbb_unformatted_code) {\n",
       "                             nbb_cells[i].set_text(nbb_formatted_code);\n",
       "                        }\n",
       "                        break;\n",
       "                    }\n",
       "                }\n",
       "            }, 500);\n",
       "            "
      ],
      "text/plain": [
       "<IPython.core.display.Javascript object>"
      ]
     },
     "metadata": {},
     "output_type": "display_data"
    }
   ],
   "source": [
    "df.info()"
   ]
  },
  {
   "cell_type": "markdown",
   "metadata": {},
   "source": [
    "# Cleaning\n",
    "## Renaming"
   ]
  },
  {
   "cell_type": "code",
   "execution_count": 5,
   "metadata": {
    "ExecuteTime": {
     "end_time": "2021-06-17T21:15:08.536655Z",
     "start_time": "2021-06-17T21:15:08.439657Z"
    }
   },
   "outputs": [
    {
     "data": {
      "text/html": [
       "<div>\n",
       "<style scoped>\n",
       "    .dataframe tbody tr th:only-of-type {\n",
       "        vertical-align: middle;\n",
       "    }\n",
       "\n",
       "    .dataframe tbody tr th {\n",
       "        vertical-align: top;\n",
       "    }\n",
       "\n",
       "    .dataframe thead th {\n",
       "        text-align: right;\n",
       "    }\n",
       "</style>\n",
       "<table border=\"1\" class=\"dataframe\">\n",
       "  <thead>\n",
       "    <tr style=\"text-align: right;\">\n",
       "      <th></th>\n",
       "      <th>text</th>\n",
       "      <th>object_of_emotion</th>\n",
       "      <th>emotion</th>\n",
       "    </tr>\n",
       "  </thead>\n",
       "  <tbody>\n",
       "    <tr>\n",
       "      <th>0</th>\n",
       "      <td>.@wesley83 I have a 3G iPhone. After 3 hrs twe...</td>\n",
       "      <td>iPhone</td>\n",
       "      <td>Negative emotion</td>\n",
       "    </tr>\n",
       "    <tr>\n",
       "      <th>1</th>\n",
       "      <td>@jessedee Know about @fludapp ? Awesome iPad/i...</td>\n",
       "      <td>iPad or iPhone App</td>\n",
       "      <td>Positive emotion</td>\n",
       "    </tr>\n",
       "    <tr>\n",
       "      <th>2</th>\n",
       "      <td>@swonderlin Can not wait for #iPad 2 also. The...</td>\n",
       "      <td>iPad</td>\n",
       "      <td>Positive emotion</td>\n",
       "    </tr>\n",
       "    <tr>\n",
       "      <th>3</th>\n",
       "      <td>@sxsw I hope this year's festival isn't as cra...</td>\n",
       "      <td>iPad or iPhone App</td>\n",
       "      <td>Negative emotion</td>\n",
       "    </tr>\n",
       "    <tr>\n",
       "      <th>4</th>\n",
       "      <td>@sxtxstate great stuff on Fri #SXSW: Marissa M...</td>\n",
       "      <td>Google</td>\n",
       "      <td>Positive emotion</td>\n",
       "    </tr>\n",
       "  </tbody>\n",
       "</table>\n",
       "</div>"
      ],
      "text/plain": [
       "                                                text   object_of_emotion  \\\n",
       "0  .@wesley83 I have a 3G iPhone. After 3 hrs twe...              iPhone   \n",
       "1  @jessedee Know about @fludapp ? Awesome iPad/i...  iPad or iPhone App   \n",
       "2  @swonderlin Can not wait for #iPad 2 also. The...                iPad   \n",
       "3  @sxsw I hope this year's festival isn't as cra...  iPad or iPhone App   \n",
       "4  @sxtxstate great stuff on Fri #SXSW: Marissa M...              Google   \n",
       "\n",
       "            emotion  \n",
       "0  Negative emotion  \n",
       "1  Positive emotion  \n",
       "2  Positive emotion  \n",
       "3  Negative emotion  \n",
       "4  Positive emotion  "
      ]
     },
     "execution_count": 5,
     "metadata": {},
     "output_type": "execute_result"
    },
    {
     "data": {
      "application/javascript": [
       "\n",
       "            setTimeout(function() {\n",
       "                var nbb_cell_id = 5;\n",
       "                var nbb_unformatted_code = \"# Assign new column names\\ndf.columns = [\\\"text\\\", \\\"object_of_emotion\\\", \\\"emotion\\\"]\\ndf.head()\";\n",
       "                var nbb_formatted_code = \"# Assign new column names\\ndf.columns = [\\\"text\\\", \\\"object_of_emotion\\\", \\\"emotion\\\"]\\ndf.head()\";\n",
       "                var nbb_cells = Jupyter.notebook.get_cells();\n",
       "                for (var i = 0; i < nbb_cells.length; ++i) {\n",
       "                    if (nbb_cells[i].input_prompt_number == nbb_cell_id) {\n",
       "                        if (nbb_cells[i].get_text() == nbb_unformatted_code) {\n",
       "                             nbb_cells[i].set_text(nbb_formatted_code);\n",
       "                        }\n",
       "                        break;\n",
       "                    }\n",
       "                }\n",
       "            }, 500);\n",
       "            "
      ],
      "text/plain": [
       "<IPython.core.display.Javascript object>"
      ]
     },
     "metadata": {},
     "output_type": "display_data"
    }
   ],
   "source": [
    "# Assign new column names\n",
    "df.columns = [\"text\", \"object_of_emotion\", \"emotion\"]\n",
    "df.head()"
   ]
  },
  {
   "cell_type": "markdown",
   "metadata": {},
   "source": [
    "Next, I take a look at the values of the categorical variables. The categories make sense, although the names are longer than necessary. I'm going to shorten some of them as well."
   ]
  },
  {
   "cell_type": "code",
   "execution_count": 6,
   "metadata": {
    "ExecuteTime": {
     "end_time": "2021-06-17T21:15:08.646685Z",
     "start_time": "2021-06-17T21:15:08.538656Z"
    }
   },
   "outputs": [
    {
     "data": {
      "text/html": [
       "<div>\n",
       "<style scoped>\n",
       "    .dataframe tbody tr th:only-of-type {\n",
       "        vertical-align: middle;\n",
       "    }\n",
       "\n",
       "    .dataframe tbody tr th {\n",
       "        vertical-align: top;\n",
       "    }\n",
       "\n",
       "    .dataframe thead th {\n",
       "        text-align: right;\n",
       "    }\n",
       "</style>\n",
       "<table border=\"1\" class=\"dataframe\">\n",
       "  <thead>\n",
       "    <tr style=\"text-align: right;\">\n",
       "      <th>object_of_emotion</th>\n",
       "      <th>emotion</th>\n",
       "    </tr>\n",
       "  </thead>\n",
       "  <tbody>\n",
       "    <tr>\n",
       "      <td>iPhone</td>\n",
       "      <td>Negative emotion</td>\n",
       "    </tr>\n",
       "    <tr>\n",
       "      <td>iPad or iPhone App</td>\n",
       "      <td>Positive emotion</td>\n",
       "    </tr>\n",
       "    <tr>\n",
       "      <td>iPad</td>\n",
       "      <td>No emotion toward brand or product</td>\n",
       "    </tr>\n",
       "    <tr>\n",
       "      <td>Google</td>\n",
       "      <td>I can't tell</td>\n",
       "    </tr>\n",
       "    <tr>\n",
       "      <td>Android</td>\n",
       "      <td></td>\n",
       "    </tr>\n",
       "    <tr>\n",
       "      <td>Apple</td>\n",
       "      <td></td>\n",
       "    </tr>\n",
       "    <tr>\n",
       "      <td>Android App</td>\n",
       "      <td></td>\n",
       "    </tr>\n",
       "    <tr>\n",
       "      <td>Other Google product or service</td>\n",
       "      <td></td>\n",
       "    </tr>\n",
       "    <tr>\n",
       "      <td>Other Apple product or service</td>\n",
       "      <td></td>\n",
       "    </tr>\n",
       "  </tbody>\n",
       "</table>\n",
       "</div>"
      ],
      "text/plain": [
       "<IPython.core.display.HTML object>"
      ]
     },
     "metadata": {},
     "output_type": "display_data"
    },
    {
     "data": {
      "application/javascript": [
       "\n",
       "            setTimeout(function() {\n",
       "                var nbb_cell_id = 6;\n",
       "                var nbb_unformatted_code = \"cleaning.show_uniques(df)\";\n",
       "                var nbb_formatted_code = \"cleaning.show_uniques(df)\";\n",
       "                var nbb_cells = Jupyter.notebook.get_cells();\n",
       "                for (var i = 0; i < nbb_cells.length; ++i) {\n",
       "                    if (nbb_cells[i].input_prompt_number == nbb_cell_id) {\n",
       "                        if (nbb_cells[i].get_text() == nbb_unformatted_code) {\n",
       "                             nbb_cells[i].set_text(nbb_formatted_code);\n",
       "                        }\n",
       "                        break;\n",
       "                    }\n",
       "                }\n",
       "            }, 500);\n",
       "            "
      ],
      "text/plain": [
       "<IPython.core.display.Javascript object>"
      ]
     },
     "metadata": {},
     "output_type": "display_data"
    }
   ],
   "source": [
    "cleaning.show_uniques(df)"
   ]
  },
  {
   "cell_type": "markdown",
   "metadata": {},
   "source": [
    "First, I convert the categorical columns to `CategoricalDtype`. This will make it easier to rename the categories, and is a convenient way to differentiate the categorical features from the text column."
   ]
  },
  {
   "cell_type": "code",
   "execution_count": 7,
   "metadata": {
    "ExecuteTime": {
     "end_time": "2021-06-17T21:15:08.751655Z",
     "start_time": "2021-06-17T21:15:08.647654Z"
    }
   },
   "outputs": [
    {
     "data": {
      "text/plain": [
       "0    Negative emotion\n",
       "1    Positive emotion\n",
       "2    Positive emotion\n",
       "Name: emotion, dtype: category\n",
       "Categories (4, object): ['I can't tell', 'Negative emotion', 'No emotion toward brand or product', 'Positive emotion']"
      ]
     },
     "metadata": {},
     "output_type": "display_data"
    },
    {
     "data": {
      "text/plain": [
       "0                iPhone\n",
       "1    iPad or iPhone App\n",
       "2                  iPad\n",
       "Name: object_of_emotion, dtype: category\n",
       "Categories (9, object): ['Android', 'Android App', 'Apple', 'Google', ..., 'Other Google product or service', 'iPad', 'iPad or iPhone App', 'iPhone']"
      ]
     },
     "metadata": {},
     "output_type": "display_data"
    },
    {
     "data": {
      "application/javascript": [
       "\n",
       "            setTimeout(function() {\n",
       "                var nbb_cell_id = 7;\n",
       "                var nbb_unformatted_code = \"# Convert categorical columns to categorical dtype\\ncat_cols = [\\\"emotion\\\", \\\"object_of_emotion\\\"]\\ndf[cat_cols] = df.loc[:, cat_cols].astype(\\\"category\\\")\\n\\n# Delete temp variable\\ndel cat_cols\\n\\n# Display results\\ndisplay(df[\\\"emotion\\\"].head(3), df[\\\"object_of_emotion\\\"].head(3))\";\n",
       "                var nbb_formatted_code = \"# Convert categorical columns to categorical dtype\\ncat_cols = [\\\"emotion\\\", \\\"object_of_emotion\\\"]\\ndf[cat_cols] = df.loc[:, cat_cols].astype(\\\"category\\\")\\n\\n# Delete temp variable\\ndel cat_cols\\n\\n# Display results\\ndisplay(df[\\\"emotion\\\"].head(3), df[\\\"object_of_emotion\\\"].head(3))\";\n",
       "                var nbb_cells = Jupyter.notebook.get_cells();\n",
       "                for (var i = 0; i < nbb_cells.length; ++i) {\n",
       "                    if (nbb_cells[i].input_prompt_number == nbb_cell_id) {\n",
       "                        if (nbb_cells[i].get_text() == nbb_unformatted_code) {\n",
       "                             nbb_cells[i].set_text(nbb_formatted_code);\n",
       "                        }\n",
       "                        break;\n",
       "                    }\n",
       "                }\n",
       "            }, 500);\n",
       "            "
      ],
      "text/plain": [
       "<IPython.core.display.Javascript object>"
      ]
     },
     "metadata": {},
     "output_type": "display_data"
    }
   ],
   "source": [
    "# Convert categorical columns to categorical dtype\n",
    "cat_cols = [\"emotion\", \"object_of_emotion\"]\n",
    "df[cat_cols] = df.loc[:, cat_cols].astype(\"category\")\n",
    "\n",
    "# Delete temp variable\n",
    "del cat_cols\n",
    "\n",
    "# Display results\n",
    "display(df[\"emotion\"].head(3), df[\"object_of_emotion\"].head(3))"
   ]
  },
  {
   "cell_type": "markdown",
   "metadata": {},
   "source": [
    "Next, I rename the categories for both categorical features.\n",
    "\n",
    "I use a single `dict` mapping old category names to new ones. I only need one `dict` for both features because the method `Series.cat.rename_categories(...)` ignores irrelevant keys."
   ]
  },
  {
   "cell_type": "code",
   "execution_count": 8,
   "metadata": {
    "ExecuteTime": {
     "end_time": "2021-06-17T21:15:08.860655Z",
     "start_time": "2021-06-17T21:15:08.752656Z"
    }
   },
   "outputs": [
    {
     "data": {
      "text/html": [
       "<div>\n",
       "<style scoped>\n",
       "    .dataframe tbody tr th:only-of-type {\n",
       "        vertical-align: middle;\n",
       "    }\n",
       "\n",
       "    .dataframe tbody tr th {\n",
       "        vertical-align: top;\n",
       "    }\n",
       "\n",
       "    .dataframe thead th {\n",
       "        text-align: right;\n",
       "    }\n",
       "</style>\n",
       "<table border=\"1\" class=\"dataframe\">\n",
       "  <thead>\n",
       "    <tr style=\"text-align: right;\">\n",
       "      <th>object_of_emotion</th>\n",
       "      <th>emotion</th>\n",
       "    </tr>\n",
       "  </thead>\n",
       "  <tbody>\n",
       "    <tr>\n",
       "      <td>iPhone</td>\n",
       "      <td>Negative</td>\n",
       "    </tr>\n",
       "    <tr>\n",
       "      <td>iOS App</td>\n",
       "      <td>Positive</td>\n",
       "    </tr>\n",
       "    <tr>\n",
       "      <td>iPad</td>\n",
       "      <td>Neutral</td>\n",
       "    </tr>\n",
       "    <tr>\n",
       "      <td>Google</td>\n",
       "      <td>Uncertain</td>\n",
       "    </tr>\n",
       "    <tr>\n",
       "      <td>Android</td>\n",
       "      <td></td>\n",
       "    </tr>\n",
       "    <tr>\n",
       "      <td>Apple</td>\n",
       "      <td></td>\n",
       "    </tr>\n",
       "    <tr>\n",
       "      <td>Android App</td>\n",
       "      <td></td>\n",
       "    </tr>\n",
       "    <tr>\n",
       "      <td>Other Google Product</td>\n",
       "      <td></td>\n",
       "    </tr>\n",
       "    <tr>\n",
       "      <td>Other Apple Product</td>\n",
       "      <td></td>\n",
       "    </tr>\n",
       "  </tbody>\n",
       "</table>\n",
       "</div>"
      ],
      "text/plain": [
       "<IPython.core.display.HTML object>"
      ]
     },
     "metadata": {},
     "output_type": "display_data"
    },
    {
     "data": {
      "application/javascript": [
       "\n",
       "            setTimeout(function() {\n",
       "                var nbb_cell_id = 8;\n",
       "                var nbb_unformatted_code = \"# Create mapping of old categories to new ones\\nnew_cats = {\\n    # New 'emotion' categories\\n    \\\"Negative emotion\\\": \\\"Negative\\\",\\n    \\\"Positive emotion\\\": \\\"Positive\\\",\\n    \\\"No emotion toward brand or product\\\": \\\"Neutral\\\",\\n    \\\"I can't tell\\\": \\\"Uncertain\\\",\\n    # New 'object_of_emotion' categories\\n    \\\"iPad or iPhone App\\\": \\\"iOS App\\\",\\n    \\\"Other Google product or service\\\": \\\"Other Google Product\\\",\\n    \\\"Other Apple product or service\\\": \\\"Other Apple Product\\\",\\n}\\n\\n# Rename categories in-place (ignores irrelevant keys)\\ndf[\\\"emotion\\\"].cat.rename_categories(new_cats, inplace=True)\\ndf[\\\"object_of_emotion\\\"].cat.rename_categories(new_cats, inplace=True)\\n\\n# Delete renaming dict\\ndel new_cats\\n\\n# Show results\\ncleaning.show_uniques(df)\";\n",
       "                var nbb_formatted_code = \"# Create mapping of old categories to new ones\\nnew_cats = {\\n    # New 'emotion' categories\\n    \\\"Negative emotion\\\": \\\"Negative\\\",\\n    \\\"Positive emotion\\\": \\\"Positive\\\",\\n    \\\"No emotion toward brand or product\\\": \\\"Neutral\\\",\\n    \\\"I can't tell\\\": \\\"Uncertain\\\",\\n    # New 'object_of_emotion' categories\\n    \\\"iPad or iPhone App\\\": \\\"iOS App\\\",\\n    \\\"Other Google product or service\\\": \\\"Other Google Product\\\",\\n    \\\"Other Apple product or service\\\": \\\"Other Apple Product\\\",\\n}\\n\\n# Rename categories in-place (ignores irrelevant keys)\\ndf[\\\"emotion\\\"].cat.rename_categories(new_cats, inplace=True)\\ndf[\\\"object_of_emotion\\\"].cat.rename_categories(new_cats, inplace=True)\\n\\n# Delete renaming dict\\ndel new_cats\\n\\n# Show results\\ncleaning.show_uniques(df)\";\n",
       "                var nbb_cells = Jupyter.notebook.get_cells();\n",
       "                for (var i = 0; i < nbb_cells.length; ++i) {\n",
       "                    if (nbb_cells[i].input_prompt_number == nbb_cell_id) {\n",
       "                        if (nbb_cells[i].get_text() == nbb_unformatted_code) {\n",
       "                             nbb_cells[i].set_text(nbb_formatted_code);\n",
       "                        }\n",
       "                        break;\n",
       "                    }\n",
       "                }\n",
       "            }, 500);\n",
       "            "
      ],
      "text/plain": [
       "<IPython.core.display.Javascript object>"
      ]
     },
     "metadata": {},
     "output_type": "display_data"
    }
   ],
   "source": [
    "# Create mapping of old categories to new ones\n",
    "new_cats = {\n",
    "    # New 'emotion' categories\n",
    "    \"Negative emotion\": \"Negative\",\n",
    "    \"Positive emotion\": \"Positive\",\n",
    "    \"No emotion toward brand or product\": \"Neutral\",\n",
    "    \"I can't tell\": \"Uncertain\",\n",
    "    # New 'object_of_emotion' categories\n",
    "    \"iPad or iPhone App\": \"iOS App\",\n",
    "    \"Other Google product or service\": \"Other Google Product\",\n",
    "    \"Other Apple product or service\": \"Other Apple Product\",\n",
    "}\n",
    "\n",
    "# Rename categories in-place (ignores irrelevant keys)\n",
    "df[\"emotion\"].cat.rename_categories(new_cats, inplace=True)\n",
    "df[\"object_of_emotion\"].cat.rename_categories(new_cats, inplace=True)\n",
    "\n",
    "# Delete renaming dict\n",
    "del new_cats\n",
    "\n",
    "# Show results\n",
    "cleaning.show_uniques(df)"
   ]
  },
  {
   "cell_type": "code",
   "execution_count": 9,
   "metadata": {
    "ExecuteTime": {
     "end_time": "2021-06-17T21:15:09.117683Z",
     "start_time": "2021-06-17T21:15:08.861655Z"
    }
   },
   "outputs": [
    {
     "data": {
      "text/plain": [
       "<AxesSubplot:title={'center':'`emotion` Value Counts'}, xlabel='Count'>"
      ]
     },
     "execution_count": 9,
     "metadata": {},
     "output_type": "execute_result"
    },
    {
     "data": {
      "image/png": "[encoded data removed]",
      "text/plain": [
       "<Figure size 360x360 with 1 Axes>"
      ]
     },
     "metadata": {
      "needs_background": "light"
     },
     "output_type": "display_data"
    },
    {
     "data": {
      "application/javascript": [
       "\n",
       "            setTimeout(function() {\n",
       "                var nbb_cell_id = 9;\n",
       "                var nbb_unformatted_code = \"plotting.countplot(data=df[\\\"emotion\\\"], normalize=True)\";\n",
       "                var nbb_formatted_code = \"plotting.countplot(data=df[\\\"emotion\\\"], normalize=True)\";\n",
       "                var nbb_cells = Jupyter.notebook.get_cells();\n",
       "                for (var i = 0; i < nbb_cells.length; ++i) {\n",
       "                    if (nbb_cells[i].input_prompt_number == nbb_cell_id) {\n",
       "                        if (nbb_cells[i].get_text() == nbb_unformatted_code) {\n",
       "                             nbb_cells[i].set_text(nbb_formatted_code);\n",
       "                        }\n",
       "                        break;\n",
       "                    }\n",
       "                }\n",
       "            }, 500);\n",
       "            "
      ],
      "text/plain": [
       "<IPython.core.display.Javascript object>"
      ]
     },
     "metadata": {},
     "output_type": "display_data"
    }
   ],
   "source": [
    "plotting.countplot(data=df[\"emotion\"], normalize=True)"
   ]
  },
  {
   "cell_type": "code",
   "execution_count": 10,
   "metadata": {
    "ExecuteTime": {
     "end_time": "2021-06-17T21:15:09.321682Z",
     "start_time": "2021-06-17T21:15:09.118684Z"
    }
   },
   "outputs": [
    {
     "data": {
      "text/plain": [
       "<AxesSubplot:title={'center':'`emotion` Value Counts'}, xlabel='Count'>"
      ]
     },
     "execution_count": 10,
     "metadata": {},
     "output_type": "execute_result"
    },
    {
     "data": {
      "image/png": "[encoded data removed]",
      "text/plain": [
       "<Figure size 360x360 with 1 Axes>"
      ]
     },
     "metadata": {
      "needs_background": "light"
     },
     "output_type": "display_data"
    },
    {
     "data": {
      "application/javascript": [
       "\n",
       "            setTimeout(function() {\n",
       "                var nbb_cell_id = 10;\n",
       "                var nbb_unformatted_code = \"# Remove 'Uncertain' category\\ndf.emotion.cat.remove_categories(\\\"Uncertain\\\", inplace=True)\\nplotting.countplot(data=df.emotion, normalize=True)\";\n",
       "                var nbb_formatted_code = \"# Remove 'Uncertain' category\\ndf.emotion.cat.remove_categories(\\\"Uncertain\\\", inplace=True)\\nplotting.countplot(data=df.emotion, normalize=True)\";\n",
       "                var nbb_cells = Jupyter.notebook.get_cells();\n",
       "                for (var i = 0; i < nbb_cells.length; ++i) {\n",
       "                    if (nbb_cells[i].input_prompt_number == nbb_cell_id) {\n",
       "                        if (nbb_cells[i].get_text() == nbb_unformatted_code) {\n",
       "                             nbb_cells[i].set_text(nbb_formatted_code);\n",
       "                        }\n",
       "                        break;\n",
       "                    }\n",
       "                }\n",
       "            }, 500);\n",
       "            "
      ],
      "text/plain": [
       "<IPython.core.display.Javascript object>"
      ]
     },
     "metadata": {},
     "output_type": "display_data"
    }
   ],
   "source": [
    "# Remove 'Uncertain' category\n",
    "df.emotion.cat.remove_categories(\"Uncertain\", inplace=True)\n",
    "plotting.countplot(data=df.emotion, normalize=True)"
   ]
  },
  {
   "cell_type": "markdown",
   "metadata": {},
   "source": [
    "## Missing Values\n",
    "\n",
    "According to the table below, there are a lot of missing values in the 'object_of_emotion' category. I bet, however, that these NaN values correspond to the 'Neutral' category. If a tweet doesn't express a brand-emotion, then there shouldn't be any brand in the 'object_of_emotion' column.\n",
    "\n",
    "There's also one null 'text' row, and a bunch of null 'emotion' rows where the 'Uncertain' category used to be."
   ]
  },
  {
   "cell_type": "code",
   "execution_count": 11,
   "metadata": {
    "ExecuteTime": {
     "end_time": "2021-06-17T21:15:09.444654Z",
     "start_time": "2021-06-17T21:15:09.322653Z"
    }
   },
   "outputs": [
    {
     "data": {
      "text/html": [
       "<div>\n",
       "<style scoped>\n",
       "    .dataframe tbody tr th:only-of-type {\n",
       "        vertical-align: middle;\n",
       "    }\n",
       "\n",
       "    .dataframe tbody tr th {\n",
       "        vertical-align: top;\n",
       "    }\n",
       "\n",
       "    .dataframe thead th {\n",
       "        text-align: right;\n",
       "    }\n",
       "</style>\n",
       "<table border=\"1\" class=\"dataframe\">\n",
       "  <thead>\n",
       "    <tr style=\"text-align: right;\">\n",
       "      <th></th>\n",
       "      <th>null</th>\n",
       "      <th>null_%</th>\n",
       "      <th>uniq</th>\n",
       "      <th>uniq_%</th>\n",
       "      <th>dup</th>\n",
       "      <th>dup_%</th>\n",
       "    </tr>\n",
       "  </thead>\n",
       "  <tbody>\n",
       "    <tr>\n",
       "      <th>object_of_emotion</th>\n",
       "      <td>5802</td>\n",
       "      <td>63.81</td>\n",
       "      <td>9</td>\n",
       "      <td>0.10</td>\n",
       "      <td>22</td>\n",
       "      <td>0.24</td>\n",
       "    </tr>\n",
       "    <tr>\n",
       "      <th>emotion</th>\n",
       "      <td>156</td>\n",
       "      <td>1.72</td>\n",
       "      <td>3</td>\n",
       "      <td>0.03</td>\n",
       "      <td>22</td>\n",
       "      <td>0.24</td>\n",
       "    </tr>\n",
       "    <tr>\n",
       "      <th>text</th>\n",
       "      <td>1</td>\n",
       "      <td>0.01</td>\n",
       "      <td>9065</td>\n",
       "      <td>99.69</td>\n",
       "      <td>22</td>\n",
       "      <td>0.24</td>\n",
       "    </tr>\n",
       "  </tbody>\n",
       "</table>\n",
       "</div>"
      ],
      "text/plain": [
       "                   null  null_%  uniq  uniq_%  dup  dup_%\n",
       "object_of_emotion  5802   63.81     9    0.10   22   0.24\n",
       "emotion             156    1.72     3    0.03   22   0.24\n",
       "text                  1    0.01  9065   99.69   22   0.24"
      ]
     },
     "execution_count": 11,
     "metadata": {},
     "output_type": "execute_result"
    },
    {
     "data": {
      "application/javascript": [
       "\n",
       "            setTimeout(function() {\n",
       "                var nbb_cell_id = 11;\n",
       "                var nbb_unformatted_code = \"cleaning.info(df)\";\n",
       "                var nbb_formatted_code = \"cleaning.info(df)\";\n",
       "                var nbb_cells = Jupyter.notebook.get_cells();\n",
       "                for (var i = 0; i < nbb_cells.length; ++i) {\n",
       "                    if (nbb_cells[i].input_prompt_number == nbb_cell_id) {\n",
       "                        if (nbb_cells[i].get_text() == nbb_unformatted_code) {\n",
       "                             nbb_cells[i].set_text(nbb_formatted_code);\n",
       "                        }\n",
       "                        break;\n",
       "                    }\n",
       "                }\n",
       "            }, 500);\n",
       "            "
      ],
      "text/plain": [
       "<IPython.core.display.Javascript object>"
      ]
     },
     "metadata": {},
     "output_type": "display_data"
    }
   ],
   "source": [
    "cleaning.info(df)"
   ]
  },
  {
   "cell_type": "markdown",
   "metadata": {},
   "source": [
    " I'll go ahead and drop the nulls in the 'text' and 'emotion' columns first."
   ]
  },
  {
   "cell_type": "code",
   "execution_count": 12,
   "metadata": {
    "ExecuteTime": {
     "end_time": "2021-06-17T21:15:09.557684Z",
     "start_time": "2021-06-17T21:15:09.445657Z"
    }
   },
   "outputs": [
    {
     "data": {
      "text/html": [
       "<div>\n",
       "<style scoped>\n",
       "    .dataframe tbody tr th:only-of-type {\n",
       "        vertical-align: middle;\n",
       "    }\n",
       "\n",
       "    .dataframe tbody tr th {\n",
       "        vertical-align: top;\n",
       "    }\n",
       "\n",
       "    .dataframe thead th {\n",
       "        text-align: right;\n",
       "    }\n",
       "</style>\n",
       "<table border=\"1\" class=\"dataframe\">\n",
       "  <thead>\n",
       "    <tr style=\"text-align: right;\">\n",
       "      <th></th>\n",
       "      <th>null</th>\n",
       "      <th>null_%</th>\n",
       "      <th>uniq</th>\n",
       "      <th>uniq_%</th>\n",
       "      <th>dup</th>\n",
       "      <th>dup_%</th>\n",
       "    </tr>\n",
       "  </thead>\n",
       "  <tbody>\n",
       "    <tr>\n",
       "      <th>object_of_emotion</th>\n",
       "      <td>5654</td>\n",
       "      <td>63.27</td>\n",
       "      <td>9</td>\n",
       "      <td>0.10</td>\n",
       "      <td>22</td>\n",
       "      <td>0.25</td>\n",
       "    </tr>\n",
       "    <tr>\n",
       "      <th>text</th>\n",
       "      <td>0</td>\n",
       "      <td>0.00</td>\n",
       "      <td>8909</td>\n",
       "      <td>99.70</td>\n",
       "      <td>22</td>\n",
       "      <td>0.25</td>\n",
       "    </tr>\n",
       "    <tr>\n",
       "      <th>emotion</th>\n",
       "      <td>0</td>\n",
       "      <td>0.00</td>\n",
       "      <td>3</td>\n",
       "      <td>0.03</td>\n",
       "      <td>22</td>\n",
       "      <td>0.25</td>\n",
       "    </tr>\n",
       "  </tbody>\n",
       "</table>\n",
       "</div>"
      ],
      "text/plain": [
       "                   null  null_%  uniq  uniq_%  dup  dup_%\n",
       "object_of_emotion  5654   63.27     9    0.10   22   0.25\n",
       "text                  0    0.00  8909   99.70   22   0.25\n",
       "emotion               0    0.00     3    0.03   22   0.25"
      ]
     },
     "execution_count": 12,
     "metadata": {},
     "output_type": "execute_result"
    },
    {
     "data": {
      "application/javascript": [
       "\n",
       "            setTimeout(function() {\n",
       "                var nbb_cell_id = 12;\n",
       "                var nbb_unformatted_code = \"df.dropna(subset=[\\\"text\\\", \\\"emotion\\\"], inplace=True)\\ncleaning.info(df)\";\n",
       "                var nbb_formatted_code = \"df.dropna(subset=[\\\"text\\\", \\\"emotion\\\"], inplace=True)\\ncleaning.info(df)\";\n",
       "                var nbb_cells = Jupyter.notebook.get_cells();\n",
       "                for (var i = 0; i < nbb_cells.length; ++i) {\n",
       "                    if (nbb_cells[i].input_prompt_number == nbb_cell_id) {\n",
       "                        if (nbb_cells[i].get_text() == nbb_unformatted_code) {\n",
       "                             nbb_cells[i].set_text(nbb_formatted_code);\n",
       "                        }\n",
       "                        break;\n",
       "                    }\n",
       "                }\n",
       "            }, 500);\n",
       "            "
      ],
      "text/plain": [
       "<IPython.core.display.Javascript object>"
      ]
     },
     "metadata": {},
     "output_type": "display_data"
    }
   ],
   "source": [
    "df.dropna(subset=[\"text\", \"emotion\"], inplace=True)\n",
    "cleaning.info(df)"
   ]
  },
  {
   "cell_type": "code",
   "execution_count": 13,
   "metadata": {
    "ExecuteTime": {
     "end_time": "2021-06-17T21:15:09.663683Z",
     "start_time": "2021-06-17T21:15:09.558654Z"
    }
   },
   "outputs": [
    {
     "data": {
      "text/markdown": [
       "|      | text                                                                                                                                    |\n",
       "|-----:|:----------------------------------------------------------------------------------------------------------------------------------------|\n",
       "| 5140 | RT @mention @mention New iPad Apps For Speech Therapy And Communication Are Showcased At #SXSW Conference {link} #sxswi #hcsm #sxswh    |\n",
       "|  509 | Please RT Follow the next big #college social network @mention chance to win an #iPad at 7,000 followers #socialmedia #SXSW             |\n",
       "| 4916 | millions of iPhone cases at #SXSW trade show but can any of them double as shuffleboard wax sprinklers? I think not. #fail (CC @mention |\n",
       "| 6384 | RT @mention not launching any products at #SXSW but we're doing plenty else.  {link}                                                    |\n",
       "|  790 | Google to Launch Major New Social Network Called Circles, Possibly Today {link} #sxsw&quot;                                             |\n",
       "| 8793 | Google giving Social another go? {link} Google Circles, let's see what the guys at #SXSW make of it                                     |\n",
       "| 8452 | @mention The unofficial #SXSW torrents are a great way to hear what you can expect this year {link}                                     |\n",
       "| 3645 | U gotta fight for yr right to party &amp; to privacy ACLU/google #sxsw #partylikeits1986                                                |\n",
       "|   61 | #futuremf @mention {link} spec for recipes on the web, now in google search: {link}  #sxsw                                              |\n",
       "| 4081 | Hope people ask the tough questions. RT @mention Reminder: Android and Chrome TTS talk @mention 1 PM today!  {link}  #sxsw              |"
      ],
      "text/plain": [
       "<IPython.core.display.Markdown object>"
      ]
     },
     "metadata": {},
     "output_type": "display_data"
    },
    {
     "data": {
      "application/javascript": [
       "\n",
       "            setTimeout(function() {\n",
       "                var nbb_cell_id = 13;\n",
       "                var nbb_unformatted_code = \"null_rows = cleaning.null_rows(df)\\nlanguage.readable_sample(null_rows[\\\"text\\\"], random_state=rando)\";\n",
       "                var nbb_formatted_code = \"null_rows = cleaning.null_rows(df)\\nlanguage.readable_sample(null_rows[\\\"text\\\"], random_state=rando)\";\n",
       "                var nbb_cells = Jupyter.notebook.get_cells();\n",
       "                for (var i = 0; i < nbb_cells.length; ++i) {\n",
       "                    if (nbb_cells[i].input_prompt_number == nbb_cell_id) {\n",
       "                        if (nbb_cells[i].get_text() == nbb_unformatted_code) {\n",
       "                             nbb_cells[i].set_text(nbb_formatted_code);\n",
       "                        }\n",
       "                        break;\n",
       "                    }\n",
       "                }\n",
       "            }, 500);\n",
       "            "
      ],
      "text/plain": [
       "<IPython.core.display.Javascript object>"
      ]
     },
     "metadata": {},
     "output_type": "display_data"
    }
   ],
   "source": [
    "null_rows = cleaning.null_rows(df)\n",
    "language.readable_sample(null_rows[\"text\"], random_state=rando)"
   ]
  },
  {
   "cell_type": "markdown",
   "metadata": {},
   "source": [
    "Looks like some of the NaN values don't line up with the 'Neutral' category."
   ]
  },
  {
   "cell_type": "code",
   "execution_count": 14,
   "metadata": {
    "ExecuteTime": {
     "end_time": "2021-06-17T21:15:09.764652Z",
     "start_time": "2021-06-17T21:15:09.664653Z"
    }
   },
   "outputs": [
    {
     "data": {
      "text/html": [
       "<div>\n",
       "<style scoped>\n",
       "    .dataframe tbody tr th:only-of-type {\n",
       "        vertical-align: middle;\n",
       "    }\n",
       "\n",
       "    .dataframe tbody tr th {\n",
       "        vertical-align: top;\n",
       "    }\n",
       "\n",
       "    .dataframe thead th {\n",
       "        text-align: right;\n",
       "    }\n",
       "</style>\n",
       "<table border=\"1\" class=\"dataframe\">\n",
       "  <thead>\n",
       "    <tr style=\"text-align: right;\">\n",
       "      <th></th>\n",
       "      <th>text</th>\n",
       "      <th>object_of_emotion</th>\n",
       "      <th>emotion</th>\n",
       "    </tr>\n",
       "  </thead>\n",
       "  <tbody>\n",
       "    <tr>\n",
       "      <th>46</th>\n",
       "      <td>Hand-Held ���Hobo�۪: Drafthouse launches ���Ho...</td>\n",
       "      <td>NaN</td>\n",
       "      <td>Positive</td>\n",
       "    </tr>\n",
       "    <tr>\n",
       "      <th>64</th>\n",
       "      <td>Again? RT @mention Line at the Apple store is ...</td>\n",
       "      <td>NaN</td>\n",
       "      <td>Negative</td>\n",
       "    </tr>\n",
       "    <tr>\n",
       "      <th>68</th>\n",
       "      <td>Boooo! RT @mention Flipboard is developing an ...</td>\n",
       "      <td>NaN</td>\n",
       "      <td>Negative</td>\n",
       "    </tr>\n",
       "    <tr>\n",
       "      <th>103</th>\n",
       "      <td>Know that &amp;quot;dataviz&amp;quot; translates to &amp;q...</td>\n",
       "      <td>NaN</td>\n",
       "      <td>Negative</td>\n",
       "    </tr>\n",
       "    <tr>\n",
       "      <th>112</th>\n",
       "      <td>Spark for #android is up for a #teamandroid aw...</td>\n",
       "      <td>NaN</td>\n",
       "      <td>Positive</td>\n",
       "    </tr>\n",
       "  </tbody>\n",
       "</table>\n",
       "</div>"
      ],
      "text/plain": [
       "                                                  text object_of_emotion  \\\n",
       "46   Hand-Held ���Hobo�۪: Drafthouse launches ���Ho...               NaN   \n",
       "64   Again? RT @mention Line at the Apple store is ...               NaN   \n",
       "68   Boooo! RT @mention Flipboard is developing an ...               NaN   \n",
       "103  Know that &quot;dataviz&quot; translates to &q...               NaN   \n",
       "112  Spark for #android is up for a #teamandroid aw...               NaN   \n",
       "\n",
       "      emotion  \n",
       "46   Positive  \n",
       "64   Negative  \n",
       "68   Negative  \n",
       "103  Negative  \n",
       "112  Positive  "
      ]
     },
     "metadata": {},
     "output_type": "display_data"
    },
    {
     "data": {
      "text/plain": [
       "(357, 3)"
      ]
     },
     "metadata": {},
     "output_type": "display_data"
    },
    {
     "data": {
      "application/javascript": [
       "\n",
       "            setTimeout(function() {\n",
       "                var nbb_cell_id = 14;\n",
       "                var nbb_unformatted_code = \"emotion_without_object = null_rows.loc[null_rows.emotion != \\\"Neutral\\\"]\\n\\n# Delete variable\\ndel null_rows\\n\\ndisplay(emotion_without_object.head(), emotion_without_object.shape)\";\n",
       "                var nbb_formatted_code = \"emotion_without_object = null_rows.loc[null_rows.emotion != \\\"Neutral\\\"]\\n\\n# Delete variable\\ndel null_rows\\n\\ndisplay(emotion_without_object.head(), emotion_without_object.shape)\";\n",
       "                var nbb_cells = Jupyter.notebook.get_cells();\n",
       "                for (var i = 0; i < nbb_cells.length; ++i) {\n",
       "                    if (nbb_cells[i].input_prompt_number == nbb_cell_id) {\n",
       "                        if (nbb_cells[i].get_text() == nbb_unformatted_code) {\n",
       "                             nbb_cells[i].set_text(nbb_formatted_code);\n",
       "                        }\n",
       "                        break;\n",
       "                    }\n",
       "                }\n",
       "            }, 500);\n",
       "            "
      ],
      "text/plain": [
       "<IPython.core.display.Javascript object>"
      ]
     },
     "metadata": {},
     "output_type": "display_data"
    }
   ],
   "source": [
    "emotion_without_object = null_rows.loc[null_rows.emotion != \"Neutral\"]\n",
    "\n",
    "# Delete variable\n",
    "del null_rows\n",
    "\n",
    "display(emotion_without_object.head(), emotion_without_object.shape)"
   ]
  },
  {
   "cell_type": "code",
   "execution_count": 15,
   "metadata": {
    "ExecuteTime": {
     "end_time": "2021-06-17T21:15:09.875654Z",
     "start_time": "2021-06-17T21:15:09.765653Z"
    }
   },
   "outputs": [
    {
     "data": {
      "text/plain": [
       "google         122\n",
       "ipad            98\n",
       "apple           76\n",
       "iphone          57\n",
       "ipad2           26\n",
       "android         19\n",
       "iphone app       8\n",
       "ipad app         4\n",
       "android app      1\n",
       "ipad1            1\n",
       "Name: locate_patterns, dtype: int64"
      ]
     },
     "metadata": {},
     "output_type": "display_data"
    },
    {
     "data": {
      "text/plain": [
       "412"
      ]
     },
     "metadata": {},
     "output_type": "display_data"
    },
    {
     "data": {
      "application/javascript": [
       "\n",
       "            setTimeout(function() {\n",
       "                var nbb_cell_id = 15;\n",
       "                var nbb_unformatted_code = \"# Create regex for finding each brand\\nre_apple = r\\\"ipad\\\\d?\\\\s*app|ipad\\\\d?|iphone\\\\s*app|iphone|apple\\\"\\nre_google = r\\\"android\\\\s*app|android|google\\\"\\n\\n# Find all brand/product name occurrences for each brand\\nfindings = language.locate_patterns(\\n    re_apple,\\n    re_google,\\n    docs=emotion_without_object[\\\"text\\\"],\\n    exclusive=True,\\n    flags=re.I,\\n)\\n\\n# Convert to lowercase\\nfindings = findings.str.lower()\\n\\n# View results\\ndisplay(\\n    findings.value_counts(),\\n    findings.size,\\n)\";\n",
       "                var nbb_formatted_code = \"# Create regex for finding each brand\\nre_apple = r\\\"ipad\\\\d?\\\\s*app|ipad\\\\d?|iphone\\\\s*app|iphone|apple\\\"\\nre_google = r\\\"android\\\\s*app|android|google\\\"\\n\\n# Find all brand/product name occurrences for each brand\\nfindings = language.locate_patterns(\\n    re_apple,\\n    re_google,\\n    docs=emotion_without_object[\\\"text\\\"],\\n    exclusive=True,\\n    flags=re.I,\\n)\\n\\n# Convert to lowercase\\nfindings = findings.str.lower()\\n\\n# View results\\ndisplay(\\n    findings.value_counts(),\\n    findings.size,\\n)\";\n",
       "                var nbb_cells = Jupyter.notebook.get_cells();\n",
       "                for (var i = 0; i < nbb_cells.length; ++i) {\n",
       "                    if (nbb_cells[i].input_prompt_number == nbb_cell_id) {\n",
       "                        if (nbb_cells[i].get_text() == nbb_unformatted_code) {\n",
       "                             nbb_cells[i].set_text(nbb_formatted_code);\n",
       "                        }\n",
       "                        break;\n",
       "                    }\n",
       "                }\n",
       "            }, 500);\n",
       "            "
      ],
      "text/plain": [
       "<IPython.core.display.Javascript object>"
      ]
     },
     "metadata": {},
     "output_type": "display_data"
    }
   ],
   "source": [
    "# Create regex for finding each brand\n",
    "re_apple = r\"ipad\\d?\\s*app|ipad\\d?|iphone\\s*app|iphone|apple\"\n",
    "re_google = r\"android\\s*app|android|google\"\n",
    "\n",
    "# Find all brand/product name occurrences for each brand\n",
    "findings = language.locate_patterns(\n",
    "    re_apple,\n",
    "    re_google,\n",
    "    docs=emotion_without_object[\"text\"],\n",
    "    exclusive=True,\n",
    "    flags=re.I,\n",
    ")\n",
    "\n",
    "# Convert to lowercase\n",
    "findings = findings.str.lower()\n",
    "\n",
    "# View results\n",
    "display(\n",
    "    findings.value_counts(),\n",
    "    findings.size,\n",
    ")"
   ]
  },
  {
   "cell_type": "code",
   "execution_count": 16,
   "metadata": {
    "ExecuteTime": {
     "end_time": "2021-06-17T21:15:10.098683Z",
     "start_time": "2021-06-17T21:15:09.876653Z"
    }
   },
   "outputs": [
    {
     "data": {
      "text/html": [
       "<div>\n",
       "<style scoped>\n",
       "    .dataframe tbody tr th:only-of-type {\n",
       "        vertical-align: middle;\n",
       "    }\n",
       "\n",
       "    .dataframe tbody tr th {\n",
       "        vertical-align: top;\n",
       "    }\n",
       "\n",
       "    .dataframe thead th {\n",
       "        text-align: right;\n",
       "    }\n",
       "</style>\n",
       "<table border=\"1\" class=\"dataframe\">\n",
       "  <thead>\n",
       "    <tr style=\"text-align: right;\">\n",
       "      <th></th>\n",
       "      <th>original</th>\n",
       "      <th>match</th>\n",
       "      <th>score</th>\n",
       "    </tr>\n",
       "  </thead>\n",
       "  <tbody>\n",
       "    <tr>\n",
       "      <th>5401</th>\n",
       "      <td>ipad2</td>\n",
       "      <td>iPad</td>\n",
       "      <td>89</td>\n",
       "    </tr>\n",
       "    <tr>\n",
       "      <th>3179</th>\n",
       "      <td>ipad2</td>\n",
       "      <td>iPad</td>\n",
       "      <td>89</td>\n",
       "    </tr>\n",
       "    <tr>\n",
       "      <th>8149</th>\n",
       "      <td>ipad2</td>\n",
       "      <td>iPad</td>\n",
       "      <td>89</td>\n",
       "    </tr>\n",
       "    <tr>\n",
       "      <th>6309</th>\n",
       "      <td>ipad2</td>\n",
       "      <td>iPad</td>\n",
       "      <td>89</td>\n",
       "    </tr>\n",
       "    <tr>\n",
       "      <th>3710</th>\n",
       "      <td>ipad2</td>\n",
       "      <td>iPad</td>\n",
       "      <td>89</td>\n",
       "    </tr>\n",
       "    <tr>\n",
       "      <th>...</th>\n",
       "      <td>...</td>\n",
       "      <td>...</td>\n",
       "      <td>...</td>\n",
       "    </tr>\n",
       "    <tr>\n",
       "      <th>3224</th>\n",
       "      <td>ipad</td>\n",
       "      <td>iPad</td>\n",
       "      <td>100</td>\n",
       "    </tr>\n",
       "    <tr>\n",
       "      <th>3179</th>\n",
       "      <td>ipad</td>\n",
       "      <td>iPad</td>\n",
       "      <td>100</td>\n",
       "    </tr>\n",
       "    <tr>\n",
       "      <th>3134</th>\n",
       "      <td>google</td>\n",
       "      <td>Google</td>\n",
       "      <td>100</td>\n",
       "    </tr>\n",
       "    <tr>\n",
       "      <th>3055</th>\n",
       "      <td>ipad</td>\n",
       "      <td>iPad</td>\n",
       "      <td>100</td>\n",
       "    </tr>\n",
       "    <tr>\n",
       "      <th>9054</th>\n",
       "      <td>ipad</td>\n",
       "      <td>iPad</td>\n",
       "      <td>100</td>\n",
       "    </tr>\n",
       "  </tbody>\n",
       "</table>\n",
       "<p>412 rows × 3 columns</p>\n",
       "</div>"
      ],
      "text/plain": [
       "     original   match  score\n",
       "5401    ipad2    iPad     89\n",
       "3179    ipad2    iPad     89\n",
       "8149    ipad2    iPad     89\n",
       "6309    ipad2    iPad     89\n",
       "3710    ipad2    iPad     89\n",
       "...       ...     ...    ...\n",
       "3224     ipad    iPad    100\n",
       "3179     ipad    iPad    100\n",
       "3134   google  Google    100\n",
       "3055     ipad    iPad    100\n",
       "9054     ipad    iPad    100\n",
       "\n",
       "[412 rows x 3 columns]"
      ]
     },
     "execution_count": 16,
     "metadata": {},
     "output_type": "execute_result"
    },
    {
     "data": {
      "application/javascript": [
       "\n",
       "            setTimeout(function() {\n",
       "                var nbb_cell_id = 16;\n",
       "                var nbb_unformatted_code = \"# Rename Apple apps to match categories defined previously\\nfindings = findings.str.replace(\\n    r\\\"ipad\\\\s+app|iphone\\\\s+app\\\", \\\"ios app\\\", case=False, regex=True\\n)\\n\\n# Fuzzy match with previously defined categories\\nfindings = language.fuzzy_match(findings, df[\\\"object_of_emotion\\\"].cat.categories)\\n\\n# View results\\nfindings.sort_values(\\\"score\\\")\";\n",
       "                var nbb_formatted_code = \"# Rename Apple apps to match categories defined previously\\nfindings = findings.str.replace(\\n    r\\\"ipad\\\\s+app|iphone\\\\s+app\\\", \\\"ios app\\\", case=False, regex=True\\n)\\n\\n# Fuzzy match with previously defined categories\\nfindings = language.fuzzy_match(findings, df[\\\"object_of_emotion\\\"].cat.categories)\\n\\n# View results\\nfindings.sort_values(\\\"score\\\")\";\n",
       "                var nbb_cells = Jupyter.notebook.get_cells();\n",
       "                for (var i = 0; i < nbb_cells.length; ++i) {\n",
       "                    if (nbb_cells[i].input_prompt_number == nbb_cell_id) {\n",
       "                        if (nbb_cells[i].get_text() == nbb_unformatted_code) {\n",
       "                             nbb_cells[i].set_text(nbb_formatted_code);\n",
       "                        }\n",
       "                        break;\n",
       "                    }\n",
       "                }\n",
       "            }, 500);\n",
       "            "
      ],
      "text/plain": [
       "<IPython.core.display.Javascript object>"
      ]
     },
     "metadata": {},
     "output_type": "display_data"
    }
   ],
   "source": [
    "# Rename Apple apps to match categories defined previously\n",
    "findings = findings.str.replace(\n",
    "    r\"ipad\\s+app|iphone\\s+app\", \"ios app\", case=False, regex=True\n",
    ")\n",
    "\n",
    "# Fuzzy match with previously defined categories\n",
    "findings = language.fuzzy_match(findings, df[\"object_of_emotion\"].cat.categories)\n",
    "\n",
    "# View results\n",
    "findings.sort_values(\"score\")"
   ]
  },
  {
   "cell_type": "code",
   "execution_count": 17,
   "metadata": {
    "ExecuteTime": {
     "end_time": "2021-06-17T21:15:10.318676Z",
     "start_time": "2021-06-17T21:15:10.099653Z"
    },
    "run_control": {
     "marked": false
    }
   },
   "outputs": [
    {
     "data": {
      "text/html": [
       "<div>\n",
       "<style scoped>\n",
       "    .dataframe tbody tr th:only-of-type {\n",
       "        vertical-align: middle;\n",
       "    }\n",
       "\n",
       "    .dataframe tbody tr th {\n",
       "        vertical-align: top;\n",
       "    }\n",
       "\n",
       "    .dataframe thead th {\n",
       "        text-align: right;\n",
       "    }\n",
       "</style>\n",
       "<table border=\"1\" class=\"dataframe\">\n",
       "  <thead>\n",
       "    <tr style=\"text-align: right;\">\n",
       "      <th></th>\n",
       "      <th>text</th>\n",
       "      <th>object_of_emotion</th>\n",
       "      <th>emotion</th>\n",
       "    </tr>\n",
       "  </thead>\n",
       "  <tbody>\n",
       "    <tr>\n",
       "      <th>8029</th>\n",
       "      <td>Yeah I wasn't doing it, but I got couldn't res...</td>\n",
       "      <td>iPad</td>\n",
       "      <td>Positive</td>\n",
       "    </tr>\n",
       "    <tr>\n",
       "      <th>2753</th>\n",
       "      <td>I love the waves!!!!!! {link} iPad Webber #jap...</td>\n",
       "      <td>iPad</td>\n",
       "      <td>Positive</td>\n",
       "    </tr>\n",
       "    <tr>\n",
       "      <th>8973</th>\n",
       "      <td>Google guy at #sxsw talk is explaining how he ...</td>\n",
       "      <td>Google</td>\n",
       "      <td>Negative</td>\n",
       "    </tr>\n",
       "    <tr>\n",
       "      <th>1089</th>\n",
       "      <td>���@mention So @mention just spilled the beans...</td>\n",
       "      <td>iPhone</td>\n",
       "      <td>Positive</td>\n",
       "    </tr>\n",
       "    <tr>\n",
       "      <th>4674</th>\n",
       "      <td>Apple opening up temporary store in downtown A...</td>\n",
       "      <td>iPad</td>\n",
       "      <td>Positive</td>\n",
       "    </tr>\n",
       "    <tr>\n",
       "      <th>4536</th>\n",
       "      <td>Whoa - line for ipad2 is 3blks long!!! #apple ...</td>\n",
       "      <td>iPad</td>\n",
       "      <td>Positive</td>\n",
       "    </tr>\n",
       "    <tr>\n",
       "      <th>6078</th>\n",
       "      <td>RT @mention I'm debuting my new iPhone &amp;amp; D...</td>\n",
       "      <td>iPhone</td>\n",
       "      <td>Positive</td>\n",
       "    </tr>\n",
       "    <tr>\n",
       "      <th>6710</th>\n",
       "      <td>RT @mention Temporary #apple store is def not ...</td>\n",
       "      <td>Apple</td>\n",
       "      <td>Positive</td>\n",
       "    </tr>\n",
       "    <tr>\n",
       "      <th>682</th>\n",
       "      <td>#technews iPad 2 Gets Temporary Apple Store fo...</td>\n",
       "      <td>iPad</td>\n",
       "      <td>Positive</td>\n",
       "    </tr>\n",
       "    <tr>\n",
       "      <th>5501</th>\n",
       "      <td>RT @mention At #sxsw even the cabbies are tech...</td>\n",
       "      <td>iPhone</td>\n",
       "      <td>Positive</td>\n",
       "    </tr>\n",
       "  </tbody>\n",
       "</table>\n",
       "</div>"
      ],
      "text/plain": [
       "                                                   text object_of_emotion  \\\n",
       "8029  Yeah I wasn't doing it, but I got couldn't res...              iPad   \n",
       "2753  I love the waves!!!!!! {link} iPad Webber #jap...              iPad   \n",
       "8973  Google guy at #sxsw talk is explaining how he ...            Google   \n",
       "1089  ���@mention So @mention just spilled the beans...            iPhone   \n",
       "4674  Apple opening up temporary store in downtown A...              iPad   \n",
       "4536  Whoa - line for ipad2 is 3blks long!!! #apple ...              iPad   \n",
       "6078  RT @mention I'm debuting my new iPhone &amp; D...            iPhone   \n",
       "6710  RT @mention Temporary #apple store is def not ...             Apple   \n",
       "682   #technews iPad 2 Gets Temporary Apple Store fo...              iPad   \n",
       "5501  RT @mention At #sxsw even the cabbies are tech...            iPhone   \n",
       "\n",
       "       emotion  \n",
       "8029  Positive  \n",
       "2753  Positive  \n",
       "8973  Negative  \n",
       "1089  Positive  \n",
       "4674  Positive  \n",
       "4536  Positive  \n",
       "6078  Positive  \n",
       "6710  Positive  \n",
       "682   Positive  \n",
       "5501  Positive  "
      ]
     },
     "execution_count": 17,
     "metadata": {},
     "output_type": "execute_result"
    },
    {
     "data": {
      "application/javascript": [
       "\n",
       "            setTimeout(function() {\n",
       "                var nbb_cell_id = 17;\n",
       "                var nbb_unformatted_code = \"# Define sort order, i.e. fill priority\\norder = [\\n    \\\"iOS App\\\",\\n    \\\"Android App\\\",\\n    \\\"iPhone\\\",\\n    \\\"iPad\\\",\\n    \\\"Android\\\",\\n    \\\"Apple\\\",\\n    \\\"Google\\\",\\n]\\n\\n# Sort values in reverse order\\nutils.explicit_sort(\\n    findings,\\n    order=order,\\n    by=\\\"match\\\",\\n    ascending=False,\\n    inplace=True,\\n)\\n\\n# Fill in reverse, overwriting lower priority values\\nfor i, brand in findings.match.items():\\n    df.at[i, \\\"object_of_emotion\\\"] = brand\\ndf.loc[findings.index].sample(10, random_state=rando)\";\n",
       "                var nbb_formatted_code = \"# Define sort order, i.e. fill priority\\norder = [\\n    \\\"iOS App\\\",\\n    \\\"Android App\\\",\\n    \\\"iPhone\\\",\\n    \\\"iPad\\\",\\n    \\\"Android\\\",\\n    \\\"Apple\\\",\\n    \\\"Google\\\",\\n]\\n\\n# Sort values in reverse order\\nutils.explicit_sort(\\n    findings,\\n    order=order,\\n    by=\\\"match\\\",\\n    ascending=False,\\n    inplace=True,\\n)\\n\\n# Fill in reverse, overwriting lower priority values\\nfor i, brand in findings.match.items():\\n    df.at[i, \\\"object_of_emotion\\\"] = brand\\ndf.loc[findings.index].sample(10, random_state=rando)\";\n",
       "                var nbb_cells = Jupyter.notebook.get_cells();\n",
       "                for (var i = 0; i < nbb_cells.length; ++i) {\n",
       "                    if (nbb_cells[i].input_prompt_number == nbb_cell_id) {\n",
       "                        if (nbb_cells[i].get_text() == nbb_unformatted_code) {\n",
       "                             nbb_cells[i].set_text(nbb_formatted_code);\n",
       "                        }\n",
       "                        break;\n",
       "                    }\n",
       "                }\n",
       "            }, 500);\n",
       "            "
      ],
      "text/plain": [
       "<IPython.core.display.Javascript object>"
      ]
     },
     "metadata": {},
     "output_type": "display_data"
    }
   ],
   "source": [
    "# Define sort order, i.e. fill priority\n",
    "order = [\n",
    "    \"iOS App\",\n",
    "    \"Android App\",\n",
    "    \"iPhone\",\n",
    "    \"iPad\",\n",
    "    \"Android\",\n",
    "    \"Apple\",\n",
    "    \"Google\",\n",
    "]\n",
    "\n",
    "# Sort values in reverse order\n",
    "utils.explicit_sort(\n",
    "    findings,\n",
    "    order=order,\n",
    "    by=\"match\",\n",
    "    ascending=False,\n",
    "    inplace=True,\n",
    ")\n",
    "\n",
    "# Fill in reverse, overwriting lower priority values\n",
    "for i, brand in findings.match.items():\n",
    "    df.at[i, \"object_of_emotion\"] = brand\n",
    "df.loc[findings.index].sample(10, random_state=rando)"
   ]
  },
  {
   "cell_type": "code",
   "execution_count": 18,
   "metadata": {
    "ExecuteTime": {
     "end_time": "2021-06-17T21:15:10.417656Z",
     "start_time": "2021-06-17T21:15:10.319657Z"
    },
    "run_control": {
     "marked": false
    }
   },
   "outputs": [
    {
     "name": "stdout",
     "output_type": "stream",
     "text": [
      "24 observations dropped.\n"
     ]
    },
    {
     "data": {
      "application/javascript": [
       "\n",
       "            setTimeout(function() {\n",
       "                var nbb_cell_id = 18;\n",
       "                var nbb_unformatted_code = \"# Get indices which were not filled\\nemotion_without_object.drop(findings.index, inplace=True)\\n\\n# Drop unfilled observations\\ndf.drop(emotion_without_object.index, inplace=True)\\n\\nprint(f\\\"{emotion_without_object.shape[0]} observations dropped.\\\")\\n\\ndel emotion_without_object\";\n",
       "                var nbb_formatted_code = \"# Get indices which were not filled\\nemotion_without_object.drop(findings.index, inplace=True)\\n\\n# Drop unfilled observations\\ndf.drop(emotion_without_object.index, inplace=True)\\n\\nprint(f\\\"{emotion_without_object.shape[0]} observations dropped.\\\")\\n\\ndel emotion_without_object\";\n",
       "                var nbb_cells = Jupyter.notebook.get_cells();\n",
       "                for (var i = 0; i < nbb_cells.length; ++i) {\n",
       "                    if (nbb_cells[i].input_prompt_number == nbb_cell_id) {\n",
       "                        if (nbb_cells[i].get_text() == nbb_unformatted_code) {\n",
       "                             nbb_cells[i].set_text(nbb_formatted_code);\n",
       "                        }\n",
       "                        break;\n",
       "                    }\n",
       "                }\n",
       "            }, 500);\n",
       "            "
      ],
      "text/plain": [
       "<IPython.core.display.Javascript object>"
      ]
     },
     "metadata": {},
     "output_type": "display_data"
    }
   ],
   "source": [
    "# Get indices which were not filled\n",
    "emotion_without_object.drop(findings.index, inplace=True)\n",
    "\n",
    "# Drop unfilled observations\n",
    "df.drop(emotion_without_object.index, inplace=True)\n",
    "\n",
    "print(f\"{emotion_without_object.shape[0]} observations dropped.\")\n",
    "\n",
    "del emotion_without_object"
   ]
  },
  {
   "cell_type": "code",
   "execution_count": 19,
   "metadata": {
    "ExecuteTime": {
     "end_time": "2021-06-17T21:15:10.517656Z",
     "start_time": "2021-06-17T21:15:10.418655Z"
    },
    "scrolled": true
   },
   "outputs": [
    {
     "data": {
      "text/html": [
       "<div>\n",
       "<style scoped>\n",
       "    .dataframe tbody tr th:only-of-type {\n",
       "        vertical-align: middle;\n",
       "    }\n",
       "\n",
       "    .dataframe tbody tr th {\n",
       "        vertical-align: top;\n",
       "    }\n",
       "\n",
       "    .dataframe thead th {\n",
       "        text-align: right;\n",
       "    }\n",
       "</style>\n",
       "<table border=\"1\" class=\"dataframe\">\n",
       "  <thead>\n",
       "    <tr style=\"text-align: right;\">\n",
       "      <th></th>\n",
       "      <th>text</th>\n",
       "      <th>object_of_emotion</th>\n",
       "      <th>emotion</th>\n",
       "    </tr>\n",
       "  </thead>\n",
       "  <tbody>\n",
       "    <tr>\n",
       "      <th>63</th>\n",
       "      <td>#Smile RT @mention I think Apple's &amp;quot;pop-u...</td>\n",
       "      <td>Apple</td>\n",
       "      <td>Neutral</td>\n",
       "    </tr>\n",
       "    <tr>\n",
       "      <th>265</th>\n",
       "      <td>The #SXSW Apple &amp;quot;pop-up&amp;quot; store was n...</td>\n",
       "      <td>Apple</td>\n",
       "      <td>Neutral</td>\n",
       "    </tr>\n",
       "    <tr>\n",
       "      <th>317</th>\n",
       "      <td>I arrived at #sxsw and my @mention issue hasn'...</td>\n",
       "      <td>iOS App</td>\n",
       "      <td>Neutral</td>\n",
       "    </tr>\n",
       "    <tr>\n",
       "      <th>558</th>\n",
       "      <td>haha. the google &amp;quot;Party like it's 1986&amp;qu...</td>\n",
       "      <td>Google</td>\n",
       "      <td>Neutral</td>\n",
       "    </tr>\n",
       "    <tr>\n",
       "      <th>588</th>\n",
       "      <td>Diller on Google TV: &amp;quot;The first product w...</td>\n",
       "      <td>Other Google Product</td>\n",
       "      <td>Neutral</td>\n",
       "    </tr>\n",
       "  </tbody>\n",
       "</table>\n",
       "</div>"
      ],
      "text/plain": [
       "                                                  text     object_of_emotion  \\\n",
       "63   #Smile RT @mention I think Apple's &quot;pop-u...                 Apple   \n",
       "265  The #SXSW Apple &quot;pop-up&quot; store was n...                 Apple   \n",
       "317  I arrived at #sxsw and my @mention issue hasn'...               iOS App   \n",
       "558  haha. the google &quot;Party like it's 1986&qu...                Google   \n",
       "588  Diller on Google TV: &quot;The first product w...  Other Google Product   \n",
       "\n",
       "     emotion  \n",
       "63   Neutral  \n",
       "265  Neutral  \n",
       "317  Neutral  \n",
       "558  Neutral  \n",
       "588  Neutral  "
      ]
     },
     "metadata": {},
     "output_type": "display_data"
    },
    {
     "data": {
      "text/plain": [
       "(91, 3)"
      ]
     },
     "metadata": {},
     "output_type": "display_data"
    },
    {
     "data": {
      "application/javascript": [
       "\n",
       "            setTimeout(function() {\n",
       "                var nbb_cell_id = 19;\n",
       "                var nbb_unformatted_code = \"object_without_emotion = df.loc[\\n    (df.emotion == \\\"Neutral\\\") & df.object_of_emotion.notnull()\\n]\\ndisplay(object_without_emotion.head(), object_without_emotion.shape)\";\n",
       "                var nbb_formatted_code = \"object_without_emotion = df.loc[\\n    (df.emotion == \\\"Neutral\\\") & df.object_of_emotion.notnull()\\n]\\ndisplay(object_without_emotion.head(), object_without_emotion.shape)\";\n",
       "                var nbb_cells = Jupyter.notebook.get_cells();\n",
       "                for (var i = 0; i < nbb_cells.length; ++i) {\n",
       "                    if (nbb_cells[i].input_prompt_number == nbb_cell_id) {\n",
       "                        if (nbb_cells[i].get_text() == nbb_unformatted_code) {\n",
       "                             nbb_cells[i].set_text(nbb_formatted_code);\n",
       "                        }\n",
       "                        break;\n",
       "                    }\n",
       "                }\n",
       "            }, 500);\n",
       "            "
      ],
      "text/plain": [
       "<IPython.core.display.Javascript object>"
      ]
     },
     "metadata": {},
     "output_type": "display_data"
    }
   ],
   "source": [
    "object_without_emotion = df.loc[\n",
    "    (df.emotion == \"Neutral\") & df.object_of_emotion.notnull()\n",
    "]\n",
    "display(object_without_emotion.head(), object_without_emotion.shape)"
   ]
  },
  {
   "cell_type": "markdown",
   "metadata": {},
   "source": [
    "Tweet 6517 seems clearly negative to me, and 7137 seems kind of sardonic. 2666 seems weakly positive. 8647, 5696, 7521, 668, and 265 don't seem to express an emotion toward a brand or product. Since most of them seem neutral to me, and that's consistent with their 'Neutral' label, I'm going to keep them that way."
   ]
  },
  {
   "cell_type": "code",
   "execution_count": 20,
   "metadata": {
    "ExecuteTime": {
     "end_time": "2021-06-17T21:15:10.614653Z",
     "start_time": "2021-06-17T21:15:10.518655Z"
    }
   },
   "outputs": [
    {
     "data": {
      "text/markdown": [
       "|      | text                                                                                                                                              |\n",
       "|-----:|:--------------------------------------------------------------------------------------------------------------------------------------------------|\n",
       "|  668 | #sxsw guy in front of me at this panel has an ipad in an etch-a-sketch case...device of wondeR? #iusxsw                                           |\n",
       "| 1628 | @mention @mention Similarily, Tweetcaster for Android lets you zip tweets w annoying hash tags, like #sxsw                                        |\n",
       "| 1253 | Google vp to speak. The topic: 10 quick steps to owning everything in the world. #sxsw {link}                                                     |\n",
       "| 2849 | Nice to see the speaker sneak in an irrelevant snarky comment about Apple. Class!  #sxsw #authenticationdesign                                    |\n",
       "| 7658 | Score a free imo tshirt outside the SXSW Apple store today at 2:15 PM &amp; check out imo's app for the iPad 2  {link}  #sxsw #ipad2              |\n",
       "| 4119 | From #Apple to Naomi Campbell: pop-up stores are all the rage: {link} #sxsw                                                                       |\n",
       "| 5912 | RT @mention Google to launch new social network at SXSW? - CNET News {link} #sxsw                                                                 |\n",
       "| 6082 | RT @mention I'm not really at #sxsw. Just messing with you. I'm making money instead. // I bet someone left the iPad queue                        |\n",
       "| 6491 | RT @mention RT @mention &quot;IAVA wants to be the Google of nonprofits.&quot; / yes, we do b/c our #vets deserve nothing less! #sxsw #letshookup |\n",
       "| 8902 | @mention Which is to say iPad is going to be ubiquitous a lot faster than anyone expected a year or even 6 mo. ago. #newsapps #sxsw               |"
      ],
      "text/plain": [
       "<IPython.core.display.Markdown object>"
      ]
     },
     "metadata": {},
     "output_type": "display_data"
    },
    {
     "data": {
      "application/javascript": [
       "\n",
       "            setTimeout(function() {\n",
       "                var nbb_cell_id = 20;\n",
       "                var nbb_unformatted_code = \"language.readable_sample(object_without_emotion[\\\"text\\\"], random_state=rando)\";\n",
       "                var nbb_formatted_code = \"language.readable_sample(object_without_emotion[\\\"text\\\"], random_state=rando)\";\n",
       "                var nbb_cells = Jupyter.notebook.get_cells();\n",
       "                for (var i = 0; i < nbb_cells.length; ++i) {\n",
       "                    if (nbb_cells[i].input_prompt_number == nbb_cell_id) {\n",
       "                        if (nbb_cells[i].get_text() == nbb_unformatted_code) {\n",
       "                             nbb_cells[i].set_text(nbb_formatted_code);\n",
       "                        }\n",
       "                        break;\n",
       "                    }\n",
       "                }\n",
       "            }, 500);\n",
       "            "
      ],
      "text/plain": [
       "<IPython.core.display.Javascript object>"
      ]
     },
     "metadata": {},
     "output_type": "display_data"
    }
   ],
   "source": [
    "language.readable_sample(object_without_emotion[\"text\"], random_state=rando)"
   ]
  },
  {
   "cell_type": "code",
   "execution_count": 21,
   "metadata": {
    "ExecuteTime": {
     "end_time": "2021-06-17T21:15:10.715655Z",
     "start_time": "2021-06-17T21:15:10.616654Z"
    }
   },
   "outputs": [
    {
     "data": {
      "text/plain": [
       "True"
      ]
     },
     "execution_count": 21,
     "metadata": {},
     "output_type": "execute_result"
    },
    {
     "data": {
      "application/javascript": [
       "\n",
       "            setTimeout(function() {\n",
       "                var nbb_cell_id = 21;\n",
       "                var nbb_unformatted_code = \"# Set object to null where emotion is neutral\\ndf.loc[object_without_emotion.index, \\\"object_of_emotion\\\"] = np.nan\\n\\n# Ensure that 'Neutral' rows line up with 'NaN' rows\\n(df[\\\"emotion\\\"] == \\\"Neutral\\\").equals(df[\\\"object_of_emotion\\\"].isnull())\";\n",
       "                var nbb_formatted_code = \"# Set object to null where emotion is neutral\\ndf.loc[object_without_emotion.index, \\\"object_of_emotion\\\"] = np.nan\\n\\n# Ensure that 'Neutral' rows line up with 'NaN' rows\\n(df[\\\"emotion\\\"] == \\\"Neutral\\\").equals(df[\\\"object_of_emotion\\\"].isnull())\";\n",
       "                var nbb_cells = Jupyter.notebook.get_cells();\n",
       "                for (var i = 0; i < nbb_cells.length; ++i) {\n",
       "                    if (nbb_cells[i].input_prompt_number == nbb_cell_id) {\n",
       "                        if (nbb_cells[i].get_text() == nbb_unformatted_code) {\n",
       "                             nbb_cells[i].set_text(nbb_formatted_code);\n",
       "                        }\n",
       "                        break;\n",
       "                    }\n",
       "                }\n",
       "            }, 500);\n",
       "            "
      ],
      "text/plain": [
       "<IPython.core.display.Javascript object>"
      ]
     },
     "metadata": {},
     "output_type": "display_data"
    }
   ],
   "source": [
    "# Set object to null where emotion is neutral\n",
    "df.loc[object_without_emotion.index, \"object_of_emotion\"] = np.nan\n",
    "\n",
    "# Ensure that 'Neutral' rows line up with 'NaN' rows\n",
    "(df[\"emotion\"] == \"Neutral\").equals(df[\"object_of_emotion\"].isnull())"
   ]
  },
  {
   "cell_type": "code",
   "execution_count": 22,
   "metadata": {
    "ExecuteTime": {
     "end_time": "2021-06-17T21:15:11.153655Z",
     "start_time": "2021-06-17T21:15:10.716656Z"
    }
   },
   "outputs": [
    {
     "data": {
      "image/png": "[encoded data removed]",
      "text/plain": [
       "<Figure size 1080x360 with 3 Axes>"
      ]
     },
     "metadata": {
      "needs_background": "light"
     },
     "output_type": "display_data"
    },
    {
     "data": {
      "application/javascript": [
       "\n",
       "            setTimeout(function() {\n",
       "                var nbb_cell_id = 22;\n",
       "                var nbb_unformatted_code = \"fig = plotting.multi_countplot(data=df.select_dtypes(\\\"category\\\"), normalize=1)\";\n",
       "                var nbb_formatted_code = \"fig = plotting.multi_countplot(data=df.select_dtypes(\\\"category\\\"), normalize=1)\";\n",
       "                var nbb_cells = Jupyter.notebook.get_cells();\n",
       "                for (var i = 0; i < nbb_cells.length; ++i) {\n",
       "                    if (nbb_cells[i].input_prompt_number == nbb_cell_id) {\n",
       "                        if (nbb_cells[i].get_text() == nbb_unformatted_code) {\n",
       "                             nbb_cells[i].set_text(nbb_formatted_code);\n",
       "                        }\n",
       "                        break;\n",
       "                    }\n",
       "                }\n",
       "            }, 500);\n",
       "            "
      ],
      "text/plain": [
       "<IPython.core.display.Javascript object>"
      ]
     },
     "metadata": {},
     "output_type": "display_data"
    }
   ],
   "source": [
    "fig = plotting.multi_countplot(data=df.select_dtypes(\"category\"), normalize=1)"
   ]
  },
  {
   "cell_type": "markdown",
   "metadata": {},
   "source": [
    "There are $22$ duplicate rows, but I'm not going to remove them yet. I'll dynamically remove duplicates as part of my preprocessing pipeline so I can catch as many as possible."
   ]
  },
  {
   "cell_type": "code",
   "execution_count": 23,
   "metadata": {
    "ExecuteTime": {
     "end_time": "2021-06-17T21:15:11.259653Z",
     "start_time": "2021-06-17T21:15:11.154654Z"
    }
   },
   "outputs": [
    {
     "data": {
      "text/html": [
       "<div>\n",
       "<style scoped>\n",
       "    .dataframe tbody tr th:only-of-type {\n",
       "        vertical-align: middle;\n",
       "    }\n",
       "\n",
       "    .dataframe tbody tr th {\n",
       "        vertical-align: top;\n",
       "    }\n",
       "\n",
       "    .dataframe thead th {\n",
       "        text-align: right;\n",
       "    }\n",
       "</style>\n",
       "<table border=\"1\" class=\"dataframe\">\n",
       "  <thead>\n",
       "    <tr style=\"text-align: right;\">\n",
       "      <th></th>\n",
       "      <th>text</th>\n",
       "      <th>object_of_emotion</th>\n",
       "      <th>emotion</th>\n",
       "    </tr>\n",
       "  </thead>\n",
       "  <tbody>\n",
       "    <tr>\n",
       "      <th>3962</th>\n",
       "      <td>#SXSW is just starting, #CTIA is around the co...</td>\n",
       "      <td>Android</td>\n",
       "      <td>Positive</td>\n",
       "    </tr>\n",
       "    <tr>\n",
       "      <th>468</th>\n",
       "      <td>Before It Even Begins, Apple Wins #SXSW {link}</td>\n",
       "      <td>Apple</td>\n",
       "      <td>Positive</td>\n",
       "    </tr>\n",
       "    <tr>\n",
       "      <th>2559</th>\n",
       "      <td>Counting down the days to #sxsw plus strong Ca...</td>\n",
       "      <td>Apple</td>\n",
       "      <td>Positive</td>\n",
       "    </tr>\n",
       "    <tr>\n",
       "      <th>776</th>\n",
       "      <td>Google to Launch Major New Social Network Call...</td>\n",
       "      <td>NaN</td>\n",
       "      <td>Neutral</td>\n",
       "    </tr>\n",
       "    <tr>\n",
       "      <th>8483</th>\n",
       "      <td>I just noticed DST is coming this weekend. How...</td>\n",
       "      <td>iPhone</td>\n",
       "      <td>Negative</td>\n",
       "    </tr>\n",
       "    <tr>\n",
       "      <th>2232</th>\n",
       "      <td>Marissa Mayer: Google Will Connect the Digital...</td>\n",
       "      <td>NaN</td>\n",
       "      <td>Neutral</td>\n",
       "    </tr>\n",
       "    <tr>\n",
       "      <th>8747</th>\n",
       "      <td>Need to buy an iPad2 while I'm in Austin at #s...</td>\n",
       "      <td>iPad</td>\n",
       "      <td>Positive</td>\n",
       "    </tr>\n",
       "    <tr>\n",
       "      <th>4897</th>\n",
       "      <td>Oh. My. God. The #SXSW app for iPad is pure, u...</td>\n",
       "      <td>iOS App</td>\n",
       "      <td>Positive</td>\n",
       "    </tr>\n",
       "    <tr>\n",
       "      <th>5884</th>\n",
       "      <td>RT @mention Google to Launch Major New Social ...</td>\n",
       "      <td>NaN</td>\n",
       "      <td>Neutral</td>\n",
       "    </tr>\n",
       "    <tr>\n",
       "      <th>5882</th>\n",
       "      <td>RT @mention Google to Launch Major New Social ...</td>\n",
       "      <td>NaN</td>\n",
       "      <td>Neutral</td>\n",
       "    </tr>\n",
       "    <tr>\n",
       "      <th>5881</th>\n",
       "      <td>RT @mention Google to Launch Major New Social ...</td>\n",
       "      <td>NaN</td>\n",
       "      <td>Neutral</td>\n",
       "    </tr>\n",
       "    <tr>\n",
       "      <th>5883</th>\n",
       "      <td>RT @mention Google to Launch Major New Social ...</td>\n",
       "      <td>NaN</td>\n",
       "      <td>Neutral</td>\n",
       "    </tr>\n",
       "    <tr>\n",
       "      <th>5885</th>\n",
       "      <td>RT @mention Google to Launch Major New Social ...</td>\n",
       "      <td>NaN</td>\n",
       "      <td>Neutral</td>\n",
       "    </tr>\n",
       "    <tr>\n",
       "      <th>6297</th>\n",
       "      <td>RT @mention Marissa Mayer: Google Will Connect...</td>\n",
       "      <td>NaN</td>\n",
       "      <td>Neutral</td>\n",
       "    </tr>\n",
       "    <tr>\n",
       "      <th>6299</th>\n",
       "      <td>RT @mention Marissa Mayer: Google Will Connect...</td>\n",
       "      <td>NaN</td>\n",
       "      <td>Neutral</td>\n",
       "    </tr>\n",
       "    <tr>\n",
       "      <th>6296</th>\n",
       "      <td>RT @mention Marissa Mayer: Google Will Connect...</td>\n",
       "      <td>Google</td>\n",
       "      <td>Positive</td>\n",
       "    </tr>\n",
       "    <tr>\n",
       "      <th>6298</th>\n",
       "      <td>RT @mention Marissa Mayer: Google Will Connect...</td>\n",
       "      <td>Google</td>\n",
       "      <td>Positive</td>\n",
       "    </tr>\n",
       "    <tr>\n",
       "      <th>6300</th>\n",
       "      <td>RT @mention Marissa Mayer: Google Will Connect...</td>\n",
       "      <td>NaN</td>\n",
       "      <td>Neutral</td>\n",
       "    </tr>\n",
       "    <tr>\n",
       "      <th>6546</th>\n",
       "      <td>RT @mention RT @mention Google to Launch Major...</td>\n",
       "      <td>NaN</td>\n",
       "      <td>Neutral</td>\n",
       "    </tr>\n",
       "    <tr>\n",
       "      <th>5338</th>\n",
       "      <td>RT @mention ��� GO BEYOND BORDERS! ��_ {link} ...</td>\n",
       "      <td>NaN</td>\n",
       "      <td>Neutral</td>\n",
       "    </tr>\n",
       "    <tr>\n",
       "      <th>5341</th>\n",
       "      <td>RT @mention ��� Happy Woman's Day! Make love, ...</td>\n",
       "      <td>NaN</td>\n",
       "      <td>Neutral</td>\n",
       "    </tr>\n",
       "    <tr>\n",
       "      <th>3950</th>\n",
       "      <td>Really enjoying the changes in Gowalla 3.0 for...</td>\n",
       "      <td>Android App</td>\n",
       "      <td>Positive</td>\n",
       "    </tr>\n",
       "  </tbody>\n",
       "</table>\n",
       "</div>"
      ],
      "text/plain": [
       "                                                   text object_of_emotion  \\\n",
       "3962  #SXSW is just starting, #CTIA is around the co...           Android   \n",
       "468      Before It Even Begins, Apple Wins #SXSW {link}             Apple   \n",
       "2559  Counting down the days to #sxsw plus strong Ca...             Apple   \n",
       "776   Google to Launch Major New Social Network Call...               NaN   \n",
       "8483  I just noticed DST is coming this weekend. How...            iPhone   \n",
       "2232  Marissa Mayer: Google Will Connect the Digital...               NaN   \n",
       "8747  Need to buy an iPad2 while I'm in Austin at #s...              iPad   \n",
       "4897  Oh. My. God. The #SXSW app for iPad is pure, u...           iOS App   \n",
       "5884  RT @mention Google to Launch Major New Social ...               NaN   \n",
       "5882  RT @mention Google to Launch Major New Social ...               NaN   \n",
       "5881  RT @mention Google to Launch Major New Social ...               NaN   \n",
       "5883  RT @mention Google to Launch Major New Social ...               NaN   \n",
       "5885  RT @mention Google to Launch Major New Social ...               NaN   \n",
       "6297  RT @mention Marissa Mayer: Google Will Connect...               NaN   \n",
       "6299  RT @mention Marissa Mayer: Google Will Connect...               NaN   \n",
       "6296  RT @mention Marissa Mayer: Google Will Connect...            Google   \n",
       "6298  RT @mention Marissa Mayer: Google Will Connect...            Google   \n",
       "6300  RT @mention Marissa Mayer: Google Will Connect...               NaN   \n",
       "6546  RT @mention RT @mention Google to Launch Major...               NaN   \n",
       "5338  RT @mention ��� GO BEYOND BORDERS! ��_ {link} ...               NaN   \n",
       "5341  RT @mention ��� Happy Woman's Day! Make love, ...               NaN   \n",
       "3950  Really enjoying the changes in Gowalla 3.0 for...       Android App   \n",
       "\n",
       "       emotion  \n",
       "3962  Positive  \n",
       "468   Positive  \n",
       "2559  Positive  \n",
       "776    Neutral  \n",
       "8483  Negative  \n",
       "2232   Neutral  \n",
       "8747  Positive  \n",
       "4897  Positive  \n",
       "5884   Neutral  \n",
       "5882   Neutral  \n",
       "5881   Neutral  \n",
       "5883   Neutral  \n",
       "5885   Neutral  \n",
       "6297   Neutral  \n",
       "6299   Neutral  \n",
       "6296  Positive  \n",
       "6298  Positive  \n",
       "6300   Neutral  \n",
       "6546   Neutral  \n",
       "5338   Neutral  \n",
       "5341   Neutral  \n",
       "3950  Positive  "
      ]
     },
     "execution_count": 23,
     "metadata": {},
     "output_type": "execute_result"
    },
    {
     "data": {
      "application/javascript": [
       "\n",
       "            setTimeout(function() {\n",
       "                var nbb_cell_id = 23;\n",
       "                var nbb_unformatted_code = \"cleaning.dup_rows(df).sort_values(\\\"text\\\")\";\n",
       "                var nbb_formatted_code = \"cleaning.dup_rows(df).sort_values(\\\"text\\\")\";\n",
       "                var nbb_cells = Jupyter.notebook.get_cells();\n",
       "                for (var i = 0; i < nbb_cells.length; ++i) {\n",
       "                    if (nbb_cells[i].input_prompt_number == nbb_cell_id) {\n",
       "                        if (nbb_cells[i].get_text() == nbb_unformatted_code) {\n",
       "                             nbb_cells[i].set_text(nbb_formatted_code);\n",
       "                        }\n",
       "                        break;\n",
       "                    }\n",
       "                }\n",
       "            }, 500);\n",
       "            "
      ],
      "text/plain": [
       "<IPython.core.display.Javascript object>"
      ]
     },
     "metadata": {},
     "output_type": "display_data"
    }
   ],
   "source": [
    "cleaning.dup_rows(df).sort_values(\"text\")"
   ]
  },
  {
   "cell_type": "code",
   "execution_count": 24,
   "metadata": {
    "ExecuteTime": {
     "end_time": "2021-06-17T21:15:11.379657Z",
     "start_time": "2021-06-17T21:15:11.260653Z"
    }
   },
   "outputs": [
    {
     "data": {
      "text/plain": [
       "lowercase             PandasWrapper(transformer=FunctionTransformer(...\n",
       "strip_short           PandasWrapper(transformer=FunctionTransformer(...\n",
       "strip_punct           PandasWrapper(transformer=FunctionTransformer(...\n",
       "strip_multiwhite      PandasWrapper(transformer=FunctionTransformer(...\n",
       "strip_numeric         PandasWrapper(transformer=FunctionTransformer(...\n",
       "strip_non_alphanum    PandasWrapper(transformer=FunctionTransformer(...\n",
       "split_alphanum        PandasWrapper(transformer=FunctionTransformer(...\n",
       "unidecode             PandasWrapper(transformer=FunctionTransformer(...\n",
       "stem_text             PandasWrapper(transformer=FunctionTransformer(...\n",
       "dtype: object"
      ]
     },
     "execution_count": 24,
     "metadata": {},
     "output_type": "execute_result"
    },
    {
     "data": {
      "application/javascript": [
       "\n",
       "            setTimeout(function() {\n",
       "                var nbb_cell_id = 24;\n",
       "                var nbb_unformatted_code = \"from sklearn.pipeline import Pipeline\\nfrom sklearn.preprocessing import FunctionTransformer\\nfrom sklearn.feature_extraction.text import CountVectorizer, TfidfVectorizer\\nfrom functools import partial\\nfrom tools.modeling.transformers import PandasWrapper, TweetTokenizer\\nfrom nltk.tokenize.casual import TweetTokenizer\\nfrom tools.language import (\\n    lowercase,\\n    strip_short,\\n    strip_multiwhite,\\n    strip_numeric,\\n    strip_non_alphanum,\\n    split_alphanum,\\n    strip_punct,\\n    unidecode,\\n    stem_text,\\n)\\n\\n\\nfuncs = [\\n    lowercase,\\n    strip_short,\\n    partial(strip_punct, exclude=\\\"@#\\\"),\\n    strip_multiwhite,\\n    strip_numeric,\\n    strip_non_alphanum,\\n    split_alphanum,\\n    unidecode,\\n    stem_text,\\n]\\n\\nfunc_names = utils.get_func_names(funcs)\\n\\nfunc_names[3] = \\\"strip_multiwhite\\\"\\nfunc_names[7] = \\\"unidecode\\\"\\n\\nfuncs = [FunctionTransformer(func=x) for x in funcs]\\n\\nfuncs = [PandasWrapper(x) for x in funcs]\\nfuncs = pd.Series(dict(zip(func_names, funcs)))\\nfuncs\";\n",
       "                var nbb_formatted_code = \"from sklearn.pipeline import Pipeline\\nfrom sklearn.preprocessing import FunctionTransformer\\nfrom sklearn.feature_extraction.text import CountVectorizer, TfidfVectorizer\\nfrom functools import partial\\nfrom tools.modeling.transformers import PandasWrapper, TweetTokenizer\\nfrom nltk.tokenize.casual import TweetTokenizer\\nfrom tools.language import (\\n    lowercase,\\n    strip_short,\\n    strip_multiwhite,\\n    strip_numeric,\\n    strip_non_alphanum,\\n    split_alphanum,\\n    strip_punct,\\n    unidecode,\\n    stem_text,\\n)\\n\\n\\nfuncs = [\\n    lowercase,\\n    strip_short,\\n    partial(strip_punct, exclude=\\\"@#\\\"),\\n    strip_multiwhite,\\n    strip_numeric,\\n    strip_non_alphanum,\\n    split_alphanum,\\n    unidecode,\\n    stem_text,\\n]\\n\\nfunc_names = utils.get_func_names(funcs)\\n\\nfunc_names[3] = \\\"strip_multiwhite\\\"\\nfunc_names[7] = \\\"unidecode\\\"\\n\\nfuncs = [FunctionTransformer(func=x) for x in funcs]\\n\\nfuncs = [PandasWrapper(x) for x in funcs]\\nfuncs = pd.Series(dict(zip(func_names, funcs)))\\nfuncs\";\n",
       "                var nbb_cells = Jupyter.notebook.get_cells();\n",
       "                for (var i = 0; i < nbb_cells.length; ++i) {\n",
       "                    if (nbb_cells[i].input_prompt_number == nbb_cell_id) {\n",
       "                        if (nbb_cells[i].get_text() == nbb_unformatted_code) {\n",
       "                             nbb_cells[i].set_text(nbb_formatted_code);\n",
       "                        }\n",
       "                        break;\n",
       "                    }\n",
       "                }\n",
       "            }, 500);\n",
       "            "
      ],
      "text/plain": [
       "<IPython.core.display.Javascript object>"
      ]
     },
     "metadata": {},
     "output_type": "display_data"
    }
   ],
   "source": [
    "from sklearn.pipeline import Pipeline\n",
    "from sklearn.preprocessing import FunctionTransformer\n",
    "from sklearn.feature_extraction.text import CountVectorizer, TfidfVectorizer\n",
    "from functools import partial\n",
    "from tools.modeling.transformers import PandasWrapper, TweetTokenizer\n",
    "from nltk.tokenize.casual import TweetTokenizer\n",
    "from tools.language import (\n",
    "    lowercase,\n",
    "    strip_short,\n",
    "    strip_multiwhite,\n",
    "    strip_numeric,\n",
    "    strip_non_alphanum,\n",
    "    split_alphanum,\n",
    "    strip_punct,\n",
    "    unidecode,\n",
    "    stem_text,\n",
    ")\n",
    "\n",
    "\n",
    "funcs = [\n",
    "    lowercase,\n",
    "    strip_short,\n",
    "    partial(strip_punct, exclude=\"@#\"),\n",
    "    strip_multiwhite,\n",
    "    strip_numeric,\n",
    "    strip_non_alphanum,\n",
    "    split_alphanum,\n",
    "    unidecode,\n",
    "    stem_text,\n",
    "]\n",
    "\n",
    "func_names = utils.get_func_names(funcs)\n",
    "\n",
    "func_names[3] = \"strip_multiwhite\"\n",
    "func_names[7] = \"unidecode\"\n",
    "\n",
    "funcs = [FunctionTransformer(func=x) for x in funcs]\n",
    "\n",
    "funcs = [PandasWrapper(x) for x in funcs]\n",
    "funcs = pd.Series(dict(zip(func_names, funcs)))\n",
    "funcs"
   ]
  },
  {
   "cell_type": "code",
   "execution_count": 25,
   "metadata": {
    "ExecuteTime": {
     "end_time": "2021-06-17T21:15:11.765654Z",
     "start_time": "2021-06-17T21:15:11.380655Z"
    }
   },
   "outputs": [
    {
     "data": {
      "text/plain": [
       "0       @wesley have iphone after hrs tweeting #rise a...\n",
       "1       @jessedee know about @fludapp awesome ipad iph...\n",
       "2       @swonderlin can not wait for #ipad also they s...\n",
       "3       @sxsw hope this year festival isn crashy this ...\n",
       "4       @sxtxstate great stuff fri #sxsw marissa mayer...\n",
       "                              ...                        \n",
       "9088                           ipad everywhere #sxsw link\n",
       "9089    wave buzz @mention interrupt your regularly sc...\n",
       "9090    google zeiger physician never reported potenti...\n",
       "9091    some verizon iphone customers complained their...\n",
       "9092       @mention google tests check offers@ #sxsw link\n",
       "Name: text, Length: 8912, dtype: object"
      ]
     },
     "execution_count": 25,
     "metadata": {},
     "output_type": "execute_result"
    },
    {
     "data": {
      "application/javascript": [
       "\n",
       "            setTimeout(function() {\n",
       "                var nbb_cell_id = 25;\n",
       "                var nbb_unformatted_code = \"text_cleaner = [\\n    \\\"lowercase\\\",\\n    \\\"unidecode\\\",\\n    \\\"strip_punct\\\",\\n    \\\"split_alphanum\\\",\\n    \\\"strip_short\\\",\\n    #     \\\"stem_text\\\",\\n    \\\"strip_multiwhite\\\",\\n]\\n\\ntext_cleaner = list(zip(text_cleaner, funcs.loc[text_cleaner].to_list()))\\ntext_cleaner = Pipeline(text_cleaner)\\ntext_cleaner.fit_transform(df.text)\";\n",
       "                var nbb_formatted_code = \"text_cleaner = [\\n    \\\"lowercase\\\",\\n    \\\"unidecode\\\",\\n    \\\"strip_punct\\\",\\n    \\\"split_alphanum\\\",\\n    \\\"strip_short\\\",\\n    #     \\\"stem_text\\\",\\n    \\\"strip_multiwhite\\\",\\n]\\n\\ntext_cleaner = list(zip(text_cleaner, funcs.loc[text_cleaner].to_list()))\\ntext_cleaner = Pipeline(text_cleaner)\\ntext_cleaner.fit_transform(df.text)\";\n",
       "                var nbb_cells = Jupyter.notebook.get_cells();\n",
       "                for (var i = 0; i < nbb_cells.length; ++i) {\n",
       "                    if (nbb_cells[i].input_prompt_number == nbb_cell_id) {\n",
       "                        if (nbb_cells[i].get_text() == nbb_unformatted_code) {\n",
       "                             nbb_cells[i].set_text(nbb_formatted_code);\n",
       "                        }\n",
       "                        break;\n",
       "                    }\n",
       "                }\n",
       "            }, 500);\n",
       "            "
      ],
      "text/plain": [
       "<IPython.core.display.Javascript object>"
      ]
     },
     "metadata": {},
     "output_type": "display_data"
    }
   ],
   "source": [
    "text_cleaner = [\n",
    "    \"lowercase\",\n",
    "    \"unidecode\",\n",
    "    \"strip_punct\",\n",
    "    \"split_alphanum\",\n",
    "    \"strip_short\",\n",
    "    #     \"stem_text\",\n",
    "    \"strip_multiwhite\",\n",
    "]\n",
    "\n",
    "text_cleaner = list(zip(text_cleaner, funcs.loc[text_cleaner].to_list()))\n",
    "text_cleaner = Pipeline(text_cleaner)\n",
    "text_cleaner.fit_transform(df.text)"
   ]
  },
  {
   "cell_type": "markdown",
   "metadata": {},
   "source": [
    "# Exploration"
   ]
  },
  {
   "cell_type": "code",
   "execution_count": 26,
   "metadata": {
    "ExecuteTime": {
     "end_time": "2021-06-17T21:15:12.184655Z",
     "start_time": "2021-06-17T21:15:11.766654Z"
    }
   },
   "outputs": [
    {
     "data": {
      "text/html": [
       "<div>\n",
       "<style scoped>\n",
       "    .dataframe tbody tr th:only-of-type {\n",
       "        vertical-align: middle;\n",
       "    }\n",
       "\n",
       "    .dataframe tbody tr th {\n",
       "        vertical-align: top;\n",
       "    }\n",
       "\n",
       "    .dataframe thead th {\n",
       "        text-align: right;\n",
       "    }\n",
       "</style>\n",
       "<table border=\"1\" class=\"dataframe\">\n",
       "  <thead>\n",
       "    <tr style=\"text-align: right;\">\n",
       "      <th></th>\n",
       "      <th>text</th>\n",
       "      <th>object_of_emotion</th>\n",
       "      <th>emotion</th>\n",
       "      <th>clean_text</th>\n",
       "    </tr>\n",
       "  </thead>\n",
       "  <tbody>\n",
       "    <tr>\n",
       "      <th>0</th>\n",
       "      <td>.@wesley83 I have a 3G iPhone. After 3 hrs twe...</td>\n",
       "      <td>iPhone</td>\n",
       "      <td>Negative</td>\n",
       "      <td>@wesley have iphone after hrs tweeting #rise a...</td>\n",
       "    </tr>\n",
       "    <tr>\n",
       "      <th>1</th>\n",
       "      <td>@jessedee Know about @fludapp ? Awesome iPad/i...</td>\n",
       "      <td>iOS App</td>\n",
       "      <td>Positive</td>\n",
       "      <td>@jessedee know about @fludapp awesome ipad iph...</td>\n",
       "    </tr>\n",
       "    <tr>\n",
       "      <th>2</th>\n",
       "      <td>@swonderlin Can not wait for #iPad 2 also. The...</td>\n",
       "      <td>iPad</td>\n",
       "      <td>Positive</td>\n",
       "      <td>@swonderlin can not wait for #ipad also they s...</td>\n",
       "    </tr>\n",
       "    <tr>\n",
       "      <th>3</th>\n",
       "      <td>@sxsw I hope this year's festival isn't as cra...</td>\n",
       "      <td>iOS App</td>\n",
       "      <td>Negative</td>\n",
       "      <td>@sxsw hope this year festival isn crashy this ...</td>\n",
       "    </tr>\n",
       "    <tr>\n",
       "      <th>4</th>\n",
       "      <td>@sxtxstate great stuff on Fri #SXSW: Marissa M...</td>\n",
       "      <td>Google</td>\n",
       "      <td>Positive</td>\n",
       "      <td>@sxtxstate great stuff fri #sxsw marissa mayer...</td>\n",
       "    </tr>\n",
       "  </tbody>\n",
       "</table>\n",
       "</div>"
      ],
      "text/plain": [
       "                                                text object_of_emotion  \\\n",
       "0  .@wesley83 I have a 3G iPhone. After 3 hrs twe...            iPhone   \n",
       "1  @jessedee Know about @fludapp ? Awesome iPad/i...           iOS App   \n",
       "2  @swonderlin Can not wait for #iPad 2 also. The...              iPad   \n",
       "3  @sxsw I hope this year's festival isn't as cra...           iOS App   \n",
       "4  @sxtxstate great stuff on Fri #SXSW: Marissa M...            Google   \n",
       "\n",
       "    emotion                                         clean_text  \n",
       "0  Negative  @wesley have iphone after hrs tweeting #rise a...  \n",
       "1  Positive  @jessedee know about @fludapp awesome ipad iph...  \n",
       "2  Positive  @swonderlin can not wait for #ipad also they s...  \n",
       "3  Negative  @sxsw hope this year festival isn crashy this ...  \n",
       "4  Positive  @sxtxstate great stuff fri #sxsw marissa mayer...  "
      ]
     },
     "execution_count": 26,
     "metadata": {},
     "output_type": "execute_result"
    },
    {
     "data": {
      "application/javascript": [
       "\n",
       "            setTimeout(function() {\n",
       "                var nbb_cell_id = 26;\n",
       "                var nbb_unformatted_code = \"df[\\\"clean_text\\\"] = text_cleaner.fit_transform(df.text)\\ndf.head()\";\n",
       "                var nbb_formatted_code = \"df[\\\"clean_text\\\"] = text_cleaner.fit_transform(df.text)\\ndf.head()\";\n",
       "                var nbb_cells = Jupyter.notebook.get_cells();\n",
       "                for (var i = 0; i < nbb_cells.length; ++i) {\n",
       "                    if (nbb_cells[i].input_prompt_number == nbb_cell_id) {\n",
       "                        if (nbb_cells[i].get_text() == nbb_unformatted_code) {\n",
       "                             nbb_cells[i].set_text(nbb_formatted_code);\n",
       "                        }\n",
       "                        break;\n",
       "                    }\n",
       "                }\n",
       "            }, 500);\n",
       "            "
      ],
      "text/plain": [
       "<IPython.core.display.Javascript object>"
      ]
     },
     "metadata": {},
     "output_type": "display_data"
    }
   ],
   "source": [
    "df[\"clean_text\"] = text_cleaner.fit_transform(df.text)\n",
    "df.head()"
   ]
  },
  {
   "cell_type": "code",
   "execution_count": 43,
   "metadata": {
    "ExecuteTime": {
     "end_time": "2021-06-17T21:26:49.461920Z",
     "start_time": "2021-06-17T21:26:49.348894Z"
    }
   },
   "outputs": [
    {
     "name": "stdout",
     "output_type": "stream",
     "text": [
      "['#sxsw', 'a', 'about', 'above', 'across', 'after', 'afterwards', 'again', 'against', 'all', 'almost', 'alone', 'along', 'already', 'also', 'although', 'always', 'am', 'among', 'amongst', 'amoungst', 'amount', 'an', 'and', 'another', 'any', 'anyhow', 'anyone', 'anything', 'anyway', 'anywhere', 'are', 'around', 'as', 'at', 'back', 'be', 'became', 'because', 'become', 'becomes', 'becoming', 'been', 'before', 'beforehand', 'behind', 'being', 'below', 'beside', 'besides', 'between', 'beyond', 'bill', 'both', 'bottom', 'but', 'by', 'call', 'can', 'cannot', 'cant', 'co', 'computer', 'con', 'could', 'couldnt', 'cry', 'de', 'describe', 'detail', 'did', 'didn', 'do', 'does', 'doesn', 'doing', 'don', 'done', 'down', 'due', 'during', 'each', 'eg', 'eight', 'either', 'eleven', 'else', 'elsewhere', 'empty', 'enough', 'etc', 'even', 'ever', 'every', 'everyone', 'everything', 'everywhere', 'except', 'few', 'fifteen', 'fifty', 'fill', 'find', 'fire', 'first', 'five', 'for', 'former', 'formerly', 'forty', 'found', 'four', 'from', 'front', 'full', 'further', 'get', 'give', 'go', 'had', 'has', 'hasnt', 'have', 'he', 'hence', 'her', 'here', 'hereafter', 'hereby', 'herein', 'hereupon', 'hers', 'herself', 'him', 'himself', 'his', 'how', 'however', 'hundred', 'i', 'ie', 'if', 'in', 'inc', 'indeed', 'interest', 'into', 'is', 'it', 'its', 'itself', 'just', 'keep', 'kg', 'km', 'last', 'latter', 'latterly', 'least', 'less', 'link', 'ltd', 'made', 'make', 'many', 'may', 'me', 'meanwhile', 'might', 'mill', 'mine', 'more', 'moreover', 'most', 'mostly', 'move', 'much', 'must', 'my', 'myself', 'name', 'namely', 'neither', 'never', 'nevertheless', 'next', 'nine', 'no', 'nobody', 'none', 'noone', 'nor', 'not', 'nothing', 'now', 'nowhere', 'of', 'off', 'often', 'on', 'once', 'one', 'only', 'onto', 'or', 'other', 'others', 'otherwise', 'our', 'ours', 'ourselves', 'out', 'over', 'own', 'part', 'per', 'perhaps', 'please', 'put', 'quite', 'quot', 'rather', 're', 'really', 'regarding', 'same', 'say', 'see', 'seem', 'seemed', 'seeming', 'seems', 'serious', 'several', 'she', 'should', 'show', 'side', 'since', 'sincere', 'six', 'sixty', 'so', 'some', 'somehow', 'someone', 'something', 'sometime', 'sometimes', 'somewhere', 'still', 'such', 'sxsw', 'system', 'take', 'ten', 'than', 'that', 'the', 'their', 'them', 'themselves', 'then', 'thence', 'there', 'thereafter', 'thereby', 'therefore', 'therein', 'thereupon', 'these', 'they', 'thick', 'thin', 'third', 'this', 'those', 'though', 'three', 'through', 'throughout', 'thru', 'thus', 'to', 'together', 'too', 'top', 'toward', 'towards', 'twelve', 'twenty', 'two', 'un', 'under', 'unless', 'until', 'up', 'upon', 'us', 'used', 'using', 'various', 'very', 'via', 'was', 'we', 'well', 'were', 'what', 'whatever', 'when', 'whence', 'whenever', 'where', 'whereafter', 'whereas', 'whereby', 'wherein', 'whereupon', 'wherever', 'whether', 'which', 'while', 'whither', 'who', 'whoever', 'whole', 'whom', 'whose', 'why', 'will', 'with', 'within', 'without', 'would', 'yet', 'you', 'your', 'yours', 'yourself', 'yourselves']\n"
     ]
    },
    {
     "data": {
      "application/javascript": [
       "\n",
       "            setTimeout(function() {\n",
       "                var nbb_cell_id = 43;\n",
       "                var nbb_unformatted_code = \"from gensim.parsing.preprocessing import STOPWORDS\\n\\nstop_words = list(STOPWORDS) + [\\\"sxsw\\\", \\\"#sxsw\\\", \\\"quot\\\", \\\"link\\\"]\\nstop_words.sort()\\nprint(stop_words)\";\n",
       "                var nbb_formatted_code = \"from gensim.parsing.preprocessing import STOPWORDS\\n\\nstop_words = list(STOPWORDS) + [\\\"sxsw\\\", \\\"#sxsw\\\", \\\"quot\\\", \\\"link\\\"]\\nstop_words.sort()\\nprint(stop_words)\";\n",
       "                var nbb_cells = Jupyter.notebook.get_cells();\n",
       "                for (var i = 0; i < nbb_cells.length; ++i) {\n",
       "                    if (nbb_cells[i].input_prompt_number == nbb_cell_id) {\n",
       "                        if (nbb_cells[i].get_text() == nbb_unformatted_code) {\n",
       "                             nbb_cells[i].set_text(nbb_formatted_code);\n",
       "                        }\n",
       "                        break;\n",
       "                    }\n",
       "                }\n",
       "            }, 500);\n",
       "            "
      ],
      "text/plain": [
       "<IPython.core.display.Javascript object>"
      ]
     },
     "metadata": {},
     "output_type": "display_data"
    }
   ],
   "source": [
    "from gensim.parsing.preprocessing import STOPWORDS\n",
    "\n",
    "stop_words = list(STOPWORDS) + [\"sxsw\", \"#sxsw\", \"quot\", \"link\"]\n",
    "stop_words.sort()\n",
    "print(stop_words)"
   ]
  },
  {
   "cell_type": "code",
   "execution_count": 44,
   "metadata": {
    "ExecuteTime": {
     "end_time": "2021-06-17T21:26:49.644895Z",
     "start_time": "2021-06-17T21:26:49.462895Z"
    }
   },
   "outputs": [
    {
     "data": {
      "text/plain": [
       "Negative    @wesley have iphone after hrs tweeting #rise a...\n",
       "Neutral     @teachntech new ipad apps for #speechtherapy a...\n",
       "Positive    @jessedee know about @fludapp awesome ipad iph...\n",
       "dtype: object"
      ]
     },
     "execution_count": 44,
     "metadata": {},
     "output_type": "execute_result"
    },
    {
     "data": {
      "application/javascript": [
       "\n",
       "            setTimeout(function() {\n",
       "                var nbb_cell_id = 44;\n",
       "                var nbb_unformatted_code = \"emo_docs = pd.Series(df.groupby(\\\"emotion\\\").groups).map(\\n    lambda x: df.loc[x, \\\"clean_text\\\"]\\n)\\nemo_docs = emo_docs.map(lambda x: \\\" \\\".join(x.to_list()))\\nemo_docs\";\n",
       "                var nbb_formatted_code = \"emo_docs = pd.Series(df.groupby(\\\"emotion\\\").groups).map(\\n    lambda x: df.loc[x, \\\"clean_text\\\"]\\n)\\nemo_docs = emo_docs.map(lambda x: \\\" \\\".join(x.to_list()))\\nemo_docs\";\n",
       "                var nbb_cells = Jupyter.notebook.get_cells();\n",
       "                for (var i = 0; i < nbb_cells.length; ++i) {\n",
       "                    if (nbb_cells[i].input_prompt_number == nbb_cell_id) {\n",
       "                        if (nbb_cells[i].get_text() == nbb_unformatted_code) {\n",
       "                             nbb_cells[i].set_text(nbb_formatted_code);\n",
       "                        }\n",
       "                        break;\n",
       "                    }\n",
       "                }\n",
       "            }, 500);\n",
       "            "
      ],
      "text/plain": [
       "<IPython.core.display.Javascript object>"
      ]
     },
     "metadata": {},
     "output_type": "display_data"
    }
   ],
   "source": [
    "emo_docs = pd.Series(df.groupby(\"emotion\").groups).map(\n",
    "    lambda x: df.loc[x, \"clean_text\"]\n",
    ")\n",
    "emo_docs = emo_docs.map(lambda x: \" \".join(x.to_list()))\n",
    "emo_docs"
   ]
  },
  {
   "cell_type": "code",
   "execution_count": 45,
   "metadata": {
    "ExecuteTime": {
     "end_time": "2021-06-17T21:26:50.233897Z",
     "start_time": "2021-06-17T21:26:49.645896Z"
    }
   },
   "outputs": [
    {
     "data": {
      "text/plain": [
       "<3x50 sparse matrix of type '<class 'numpy.float64'>'\n",
       "\twith 150 stored elements in Compressed Sparse Row format>"
      ]
     },
     "execution_count": 45,
     "metadata": {},
     "output_type": "execute_result"
    },
    {
     "data": {
      "application/javascript": [
       "\n",
       "            setTimeout(function() {\n",
       "                var nbb_cell_id = 45;\n",
       "                var nbb_unformatted_code = \"tfidf = TfidfVectorizer(\\n    tokenizer=TweetTokenizer(strip_handles=True, reduce_len=True).tokenize,\\n    stop_words=stop_words,\\n    max_features=50,\\n    norm=\\\"l1\\\",\\n)\\nemo_vecs = tfidf.fit_transform(emo_docs.values)\\nemo_vecs\";\n",
       "                var nbb_formatted_code = \"tfidf = TfidfVectorizer(\\n    tokenizer=TweetTokenizer(strip_handles=True, reduce_len=True).tokenize,\\n    stop_words=stop_words,\\n    max_features=50,\\n    norm=\\\"l1\\\",\\n)\\nemo_vecs = tfidf.fit_transform(emo_docs.values)\\nemo_vecs\";\n",
       "                var nbb_cells = Jupyter.notebook.get_cells();\n",
       "                for (var i = 0; i < nbb_cells.length; ++i) {\n",
       "                    if (nbb_cells[i].input_prompt_number == nbb_cell_id) {\n",
       "                        if (nbb_cells[i].get_text() == nbb_unformatted_code) {\n",
       "                             nbb_cells[i].set_text(nbb_formatted_code);\n",
       "                        }\n",
       "                        break;\n",
       "                    }\n",
       "                }\n",
       "            }, 500);\n",
       "            "
      ],
      "text/plain": [
       "<IPython.core.display.Javascript object>"
      ]
     },
     "metadata": {},
     "output_type": "display_data"
    }
   ],
   "source": [
    "tfidf = TfidfVectorizer(\n",
    "    tokenizer=TweetTokenizer(strip_handles=True, reduce_len=True).tokenize,\n",
    "    stop_words=stop_words,\n",
    "    max_features=50,\n",
    "    norm=\"l1\",\n",
    ")\n",
    "emo_vecs = tfidf.fit_transform(emo_docs.values)\n",
    "emo_vecs"
   ]
  },
  {
   "cell_type": "code",
   "execution_count": 47,
   "metadata": {
    "ExecuteTime": {
     "end_time": "2021-06-17T21:26:57.130181Z",
     "start_time": "2021-06-17T21:26:57.024206Z"
    }
   },
   "outputs": [
    {
     "data": {
      "text/html": [
       "<div>\n",
       "<style scoped>\n",
       "    .dataframe tbody tr th:only-of-type {\n",
       "        vertical-align: middle;\n",
       "    }\n",
       "\n",
       "    .dataframe tbody tr th {\n",
       "        vertical-align: top;\n",
       "    }\n",
       "\n",
       "    .dataframe thead th {\n",
       "        text-align: right;\n",
       "    }\n",
       "</style>\n",
       "<table border=\"1\" class=\"dataframe\">\n",
       "  <thead>\n",
       "    <tr style=\"text-align: right;\">\n",
       "      <th></th>\n",
       "      <th>Negative</th>\n",
       "      <th>Neutral</th>\n",
       "      <th>Positive</th>\n",
       "    </tr>\n",
       "  </thead>\n",
       "  <tbody>\n",
       "    <tr>\n",
       "      <th>#apple</th>\n",
       "      <td>0.011186</td>\n",
       "      <td>0.014096</td>\n",
       "      <td>0.020495</td>\n",
       "    </tr>\n",
       "    <tr>\n",
       "      <th>#google</th>\n",
       "      <td>0.009694</td>\n",
       "      <td>0.015181</td>\n",
       "      <td>0.007900</td>\n",
       "    </tr>\n",
       "    <tr>\n",
       "      <th>#ipad</th>\n",
       "      <td>0.020134</td>\n",
       "      <td>0.019837</td>\n",
       "      <td>0.025876</td>\n",
       "    </tr>\n",
       "    <tr>\n",
       "      <th>#iphone</th>\n",
       "      <td>0.010440</td>\n",
       "      <td>0.010779</td>\n",
       "      <td>0.009503</td>\n",
       "    </tr>\n",
       "    <tr>\n",
       "      <th>#sxswi</th>\n",
       "      <td>0.008203</td>\n",
       "      <td>0.013267</td>\n",
       "      <td>0.010992</td>\n",
       "    </tr>\n",
       "  </tbody>\n",
       "</table>\n",
       "</div>"
      ],
      "text/plain": [
       "         Negative   Neutral  Positive\n",
       "#apple   0.011186  0.014096  0.020495\n",
       "#google  0.009694  0.015181  0.007900\n",
       "#ipad    0.020134  0.019837  0.025876\n",
       "#iphone  0.010440  0.010779  0.009503\n",
       "#sxswi   0.008203  0.013267  0.010992"
      ]
     },
     "execution_count": 47,
     "metadata": {},
     "output_type": "execute_result"
    },
    {
     "data": {
      "application/javascript": [
       "\n",
       "            setTimeout(function() {\n",
       "                var nbb_cell_id = 47;\n",
       "                var nbb_unformatted_code = \"emo_vecs = language.frame_doc_vecs(emo_vecs, tfidf.vocabulary_, emo_docs.index).T\\nemo_vecs.head()\";\n",
       "                var nbb_formatted_code = \"emo_vecs = language.frame_doc_vecs(emo_vecs, tfidf.vocabulary_, emo_docs.index).T\\nemo_vecs.head()\";\n",
       "                var nbb_cells = Jupyter.notebook.get_cells();\n",
       "                for (var i = 0; i < nbb_cells.length; ++i) {\n",
       "                    if (nbb_cells[i].input_prompt_number == nbb_cell_id) {\n",
       "                        if (nbb_cells[i].get_text() == nbb_unformatted_code) {\n",
       "                             nbb_cells[i].set_text(nbb_formatted_code);\n",
       "                        }\n",
       "                        break;\n",
       "                    }\n",
       "                }\n",
       "            }, 500);\n",
       "            "
      ],
      "text/plain": [
       "<IPython.core.display.Javascript object>"
      ]
     },
     "metadata": {},
     "output_type": "display_data"
    }
   ],
   "source": [
    "emo_vecs = language.frame_doc_vecs(emo_vecs, tfidf.vocabulary_, emo_docs.index).T\n",
    "emo_vecs.head()"
   ]
  },
  {
   "cell_type": "code",
   "execution_count": 49,
   "metadata": {
    "ExecuteTime": {
     "end_time": "2021-06-17T21:27:36.786924Z",
     "start_time": "2021-06-17T21:27:35.594701Z"
    }
   },
   "outputs": [
    {
     "data": {
      "image/png": "[encoded data removed]",
      "text/plain": [
       "<Figure size 432x648 with 3 Axes>"
      ]
     },
     "metadata": {},
     "output_type": "display_data"
    },
    {
     "data": {
      "application/javascript": [
       "\n",
       "            setTimeout(function() {\n",
       "                var nbb_cell_id = 49;\n",
       "                var nbb_unformatted_code = \"fig = plotting.emo_wordclouds(emo_vecs, orient=\\\"v\\\", size=(6, 3))\";\n",
       "                var nbb_formatted_code = \"fig = plotting.emo_wordclouds(emo_vecs, orient=\\\"v\\\", size=(6, 3))\";\n",
       "                var nbb_cells = Jupyter.notebook.get_cells();\n",
       "                for (var i = 0; i < nbb_cells.length; ++i) {\n",
       "                    if (nbb_cells[i].input_prompt_number == nbb_cell_id) {\n",
       "                        if (nbb_cells[i].get_text() == nbb_unformatted_code) {\n",
       "                             nbb_cells[i].set_text(nbb_formatted_code);\n",
       "                        }\n",
       "                        break;\n",
       "                    }\n",
       "                }\n",
       "            }, 500);\n",
       "            "
      ],
      "text/plain": [
       "<IPython.core.display.Javascript object>"
      ]
     },
     "metadata": {},
     "output_type": "display_data"
    }
   ],
   "source": [
    "fig = plotting.emo_wordclouds(emo_vecs, orient=\"v\", size=(6, 3))"
   ]
  },
  {
   "cell_type": "code",
   "execution_count": null,
   "metadata": {},
   "outputs": [],
   "source": []
  }
 ],
 "metadata": {
  "interpreter": {
   "hash": "45e948d0256f8c78ae85303b642a175be3add64c95f2eaa9e19fcfd099775c4c"
  },
  "kernelspec": {
   "display_name": "Python 3",
   "language": "python",
   "name": "python3"
  },
  "language_info": {
   "codemirror_mode": {
    "name": "ipython",
    "version": 3
   },
   "file_extension": ".py",
   "mimetype": "text/x-python",
   "name": "python",
   "nbconvert_exporter": "python",
   "pygments_lexer": "ipython3",
   "version": "3.8.5"
  },
  "toc": {
   "base_numbering": 1,
   "nav_menu": {},
   "number_sections": false,
   "sideBar": true,
   "skip_h1_title": false,
   "title_cell": "Table of Contents",
   "title_sidebar": "Contents",
   "toc_cell": false,
   "toc_position": {},
   "toc_section_display": true,
   "toc_window_display": false
  }
 },
 "nbformat": 4,
 "nbformat_minor": 2
}
