{
 "cells": [
  {
   "cell_type": "code",
   "execution_count": 1,
   "metadata": {
    "ExecuteTime": {
     "end_time": "2021-06-23T07:31:15.604531Z",
     "start_time": "2021-06-23T07:31:13.704528Z"
    }
   },
   "outputs": [
    {
     "data": {
      "application/javascript": [
       "\n",
       "            setTimeout(function() {\n",
       "                var nbb_cell_id = 1;\n",
       "                var nbb_unformatted_code = \"import re\\nimport numpy as np\\nimport pandas as pd\\nimport seaborn as sns\\nimport nltk\\nimport matplotlib.pyplot as plt\\nfrom os.path import normpath\\nfrom operator import itemgetter\\nfrom functools import partial\\n\\n# Set Seaborn theme and default palette\\nsns.set_theme(font_scale=1, style=\\\"darkgrid\\\")\\nsns.set_palette(\\\"deep\\\", desat=0.85, color_codes=True)\\n\\n# Turn on inline plotting\\n%matplotlib inline\\n\\n# Load Black auto-formatter\\n%load_ext nb_black\\n\\n# Enable automatic reloading\\n%load_ext autoreload\\n%autoreload 2\";\n",
       "                var nbb_formatted_code = \"import re\\nimport numpy as np\\nimport pandas as pd\\nimport seaborn as sns\\nimport nltk\\nimport matplotlib.pyplot as plt\\nfrom os.path import normpath\\nfrom operator import itemgetter\\nfrom functools import partial\\n\\n# Set Seaborn theme and default palette\\nsns.set_theme(font_scale=1, style=\\\"darkgrid\\\")\\nsns.set_palette(\\\"deep\\\", desat=0.85, color_codes=True)\\n\\n# Turn on inline plotting\\n%matplotlib inline\\n\\n# Load Black auto-formatter\\n%load_ext nb_black\\n\\n# Enable automatic reloading\\n%load_ext autoreload\\n%autoreload 2\";\n",
       "                var nbb_cells = Jupyter.notebook.get_cells();\n",
       "                for (var i = 0; i < nbb_cells.length; ++i) {\n",
       "                    if (nbb_cells[i].input_prompt_number == nbb_cell_id) {\n",
       "                        if (nbb_cells[i].get_text() == nbb_unformatted_code) {\n",
       "                             nbb_cells[i].set_text(nbb_formatted_code);\n",
       "                        }\n",
       "                        break;\n",
       "                    }\n",
       "                }\n",
       "            }, 500);\n",
       "            "
      ],
      "text/plain": [
       "<IPython.core.display.Javascript object>"
      ]
     },
     "metadata": {},
     "output_type": "display_data"
    }
   ],
   "source": [
    "import re\n",
    "import numpy as np\n",
    "import pandas as pd\n",
    "import seaborn as sns\n",
    "import nltk\n",
    "import matplotlib.pyplot as plt\n",
    "from os.path import normpath\n",
    "from operator import itemgetter\n",
    "from functools import partial\n",
    "\n",
    "# Set Seaborn theme and default palette\n",
    "sns.set_theme(font_scale=1, style=\"darkgrid\")\n",
    "sns.set_palette(\"deep\", desat=0.85, color_codes=True)\n",
    "\n",
    "# Turn on inline plotting\n",
    "%matplotlib inline\n",
    "\n",
    "# Load Black auto-formatter\n",
    "%load_ext nb_black\n",
    "\n",
    "# Enable automatic reloading\n",
    "%load_ext autoreload\n",
    "%autoreload 2"
   ]
  },
  {
   "cell_type": "code",
   "execution_count": 2,
   "metadata": {
    "ExecuteTime": {
     "end_time": "2021-06-23T07:31:16.177528Z",
     "start_time": "2021-06-23T07:31:15.605529Z"
    }
   },
   "outputs": [
    {
     "data": {
      "application/javascript": [
       "\n",
       "            setTimeout(function() {\n",
       "                var nbb_cell_id = 2;\n",
       "                var nbb_unformatted_code = \"import joblib\\nfrom sklearn.dummy import DummyClassifier\\nfrom sklearn.base import clone\\nfrom sklearn.preprocessing import (\\n    StandardScaler,\\n    RobustScaler,\\n    MinMaxScaler,\\n    MaxAbsScaler,\\n    PowerTransformer,\\n    QuantileTransformer,\\n    FunctionTransformer,\\n    Normalizer,\\n    Binarizer,\\n)\\nfrom sklearn.ensemble import RandomForestClassifier\\nfrom sklearn.linear_model import (\\n    LogisticRegression,\\n    LogisticRegressionCV,\\n    SGDClassifier,\\n    RidgeClassifier,\\n    RidgeClassifierCV,\\n    PassiveAggressiveClassifier,\\n)\\nfrom sklearn.feature_extraction.text import (\\n    CountVectorizer,\\n    HashingVectorizer,\\n    TfidfTransformer,\\n    TfidfVectorizer,\\n)\\nfrom sklearn.model_selection import (\\n    train_test_split,\\n    GridSearchCV,\\n    RandomizedSearchCV,\\n    StratifiedKFold,\\n    RepeatedStratifiedKFold,\\n)\\nfrom sklearn.feature_selection import VarianceThreshold\\nfrom sklearn.pipeline import make_pipeline, Pipeline, FeatureUnion\\nfrom sklearn.compose import (\\n    make_column_transformer,\\n    make_column_selector,\\n    ColumnTransformer,\\n)\\nfrom gensim.parsing.preprocessing import STOPWORDS, preprocess_string\";\n",
       "                var nbb_formatted_code = \"import joblib\\nfrom sklearn.dummy import DummyClassifier\\nfrom sklearn.base import clone\\nfrom sklearn.preprocessing import (\\n    StandardScaler,\\n    RobustScaler,\\n    MinMaxScaler,\\n    MaxAbsScaler,\\n    PowerTransformer,\\n    QuantileTransformer,\\n    FunctionTransformer,\\n    Normalizer,\\n    Binarizer,\\n)\\nfrom sklearn.ensemble import RandomForestClassifier\\nfrom sklearn.linear_model import (\\n    LogisticRegression,\\n    LogisticRegressionCV,\\n    SGDClassifier,\\n    RidgeClassifier,\\n    RidgeClassifierCV,\\n    PassiveAggressiveClassifier,\\n)\\nfrom sklearn.feature_extraction.text import (\\n    CountVectorizer,\\n    HashingVectorizer,\\n    TfidfTransformer,\\n    TfidfVectorizer,\\n)\\nfrom sklearn.model_selection import (\\n    train_test_split,\\n    GridSearchCV,\\n    RandomizedSearchCV,\\n    StratifiedKFold,\\n    RepeatedStratifiedKFold,\\n)\\nfrom sklearn.feature_selection import VarianceThreshold\\nfrom sklearn.pipeline import make_pipeline, Pipeline, FeatureUnion\\nfrom sklearn.compose import (\\n    make_column_transformer,\\n    make_column_selector,\\n    ColumnTransformer,\\n)\\nfrom gensim.parsing.preprocessing import STOPWORDS, preprocess_string\";\n",
       "                var nbb_cells = Jupyter.notebook.get_cells();\n",
       "                for (var i = 0; i < nbb_cells.length; ++i) {\n",
       "                    if (nbb_cells[i].input_prompt_number == nbb_cell_id) {\n",
       "                        if (nbb_cells[i].get_text() == nbb_unformatted_code) {\n",
       "                             nbb_cells[i].set_text(nbb_formatted_code);\n",
       "                        }\n",
       "                        break;\n",
       "                    }\n",
       "                }\n",
       "            }, 500);\n",
       "            "
      ],
      "text/plain": [
       "<IPython.core.display.Javascript object>"
      ]
     },
     "metadata": {},
     "output_type": "display_data"
    }
   ],
   "source": [
    "import joblib\n",
    "from sklearn.dummy import DummyClassifier\n",
    "from sklearn.base import clone\n",
    "from sklearn.preprocessing import (\n",
    "    StandardScaler,\n",
    "    RobustScaler,\n",
    "    MinMaxScaler,\n",
    "    MaxAbsScaler,\n",
    "    PowerTransformer,\n",
    "    QuantileTransformer,\n",
    "    FunctionTransformer,\n",
    "    Normalizer,\n",
    "    Binarizer,\n",
    ")\n",
    "from sklearn.ensemble import RandomForestClassifier\n",
    "from sklearn.linear_model import (\n",
    "    LogisticRegression,\n",
    "    LogisticRegressionCV,\n",
    "    SGDClassifier,\n",
    "    RidgeClassifier,\n",
    "    RidgeClassifierCV,\n",
    "    PassiveAggressiveClassifier,\n",
    ")\n",
    "from sklearn.feature_extraction.text import (\n",
    "    CountVectorizer,\n",
    "    HashingVectorizer,\n",
    "    TfidfTransformer,\n",
    "    TfidfVectorizer,\n",
    ")\n",
    "from sklearn.model_selection import (\n",
    "    train_test_split,\n",
    "    GridSearchCV,\n",
    "    RandomizedSearchCV,\n",
    "    StratifiedKFold,\n",
    "    RepeatedStratifiedKFold,\n",
    ")\n",
    "from sklearn.feature_selection import VarianceThreshold\n",
    "from sklearn.pipeline import make_pipeline, Pipeline, FeatureUnion\n",
    "from sklearn.compose import (\n",
    "    make_column_transformer,\n",
    "    make_column_selector,\n",
    "    ColumnTransformer,\n",
    ")\n",
    "from gensim.parsing.preprocessing import STOPWORDS, preprocess_string"
   ]
  },
  {
   "cell_type": "code",
   "execution_count": 3,
   "metadata": {
    "ExecuteTime": {
     "end_time": "2021-06-23T07:31:16.420528Z",
     "start_time": "2021-06-23T07:31:16.178529Z"
    }
   },
   "outputs": [
    {
     "data": {
      "application/javascript": [
       "\n",
       "            setTimeout(function() {\n",
       "                var nbb_cell_id = 3;\n",
       "                var nbb_unformatted_code = \"# Import my modules\\nfrom tools import cleaning, plotting, language as lang, utils\\nfrom tools.modeling.vectorizers import Doc2Vectorizer\\nfrom tools.modeling.transformers import ArrayForcer\\nfrom tools.modeling.wrappers import PandasWrapper\\nfrom tools.modeling.classification import diagnostics as diag\\nfrom tools.modeling.selection import sweep, load_results\\n\\n# Set my default MPL settings\\nplt.rcParams.update(plotting.MPL_DEFAULTS)\\n\\n# RandomState for reproducibility\\nrando = np.random.RandomState(9547)\";\n",
       "                var nbb_formatted_code = \"# Import my modules\\nfrom tools import cleaning, plotting, language as lang, utils\\nfrom tools.modeling.vectorizers import Doc2Vectorizer\\nfrom tools.modeling.transformers import ArrayForcer\\nfrom tools.modeling.wrappers import PandasWrapper\\nfrom tools.modeling.classification import diagnostics as diag\\nfrom tools.modeling.selection import sweep, load_results\\n\\n# Set my default MPL settings\\nplt.rcParams.update(plotting.MPL_DEFAULTS)\\n\\n# RandomState for reproducibility\\nrando = np.random.RandomState(9547)\";\n",
       "                var nbb_cells = Jupyter.notebook.get_cells();\n",
       "                for (var i = 0; i < nbb_cells.length; ++i) {\n",
       "                    if (nbb_cells[i].input_prompt_number == nbb_cell_id) {\n",
       "                        if (nbb_cells[i].get_text() == nbb_unformatted_code) {\n",
       "                             nbb_cells[i].set_text(nbb_formatted_code);\n",
       "                        }\n",
       "                        break;\n",
       "                    }\n",
       "                }\n",
       "            }, 500);\n",
       "            "
      ],
      "text/plain": [
       "<IPython.core.display.Javascript object>"
      ]
     },
     "metadata": {},
     "output_type": "display_data"
    }
   ],
   "source": [
    "# Import my modules\n",
    "from tools import cleaning, plotting, language as lang, utils\n",
    "from tools.modeling.vectorizers import Doc2Vectorizer\n",
    "from tools.modeling.transformers import ArrayForcer\n",
    "from tools.modeling.wrappers import PandasWrapper\n",
    "from tools.modeling.classification import diagnostics as diag\n",
    "from tools.modeling.selection import sweep, load_results\n",
    "\n",
    "# Set my default MPL settings\n",
    "plt.rcParams.update(plotting.MPL_DEFAULTS)\n",
    "\n",
    "# RandomState for reproducibility\n",
    "rando = np.random.RandomState(9547)"
   ]
  },
  {
   "cell_type": "markdown",
   "metadata": {},
   "source": [
    "# Overview of Dataset"
   ]
  },
  {
   "cell_type": "code",
   "execution_count": 4,
   "metadata": {
    "ExecuteTime": {
     "end_time": "2021-06-23T07:31:16.541558Z",
     "start_time": "2021-06-23T07:31:16.421527Z"
    },
    "run_control": {
     "marked": false
    }
   },
   "outputs": [
    {
     "data": {
      "text/html": [
       "<div>\n",
       "<style scoped>\n",
       "    .dataframe tbody tr th:only-of-type {\n",
       "        vertical-align: middle;\n",
       "    }\n",
       "\n",
       "    .dataframe tbody tr th {\n",
       "        vertical-align: top;\n",
       "    }\n",
       "\n",
       "    .dataframe thead th {\n",
       "        text-align: right;\n",
       "    }\n",
       "</style>\n",
       "<table border=\"1\" class=\"dataframe\">\n",
       "  <thead>\n",
       "    <tr style=\"text-align: right;\">\n",
       "      <th></th>\n",
       "      <th>tweet_text</th>\n",
       "      <th>emotion_in_tweet_is_directed_at</th>\n",
       "      <th>is_there_an_emotion_directed_at_a_brand_or_product</th>\n",
       "    </tr>\n",
       "  </thead>\n",
       "  <tbody>\n",
       "    <tr>\n",
       "      <th>0</th>\n",
       "      <td>.@wesley83 I have a 3G iPhone. After 3 hrs twe...</td>\n",
       "      <td>iPhone</td>\n",
       "      <td>Negative emotion</td>\n",
       "    </tr>\n",
       "    <tr>\n",
       "      <th>1</th>\n",
       "      <td>@jessedee Know about @fludapp ? Awesome iPad/i...</td>\n",
       "      <td>iPad or iPhone App</td>\n",
       "      <td>Positive emotion</td>\n",
       "    </tr>\n",
       "    <tr>\n",
       "      <th>2</th>\n",
       "      <td>@swonderlin Can not wait for #iPad 2 also. The...</td>\n",
       "      <td>iPad</td>\n",
       "      <td>Positive emotion</td>\n",
       "    </tr>\n",
       "    <tr>\n",
       "      <th>3</th>\n",
       "      <td>@sxsw I hope this year's festival isn't as cra...</td>\n",
       "      <td>iPad or iPhone App</td>\n",
       "      <td>Negative emotion</td>\n",
       "    </tr>\n",
       "    <tr>\n",
       "      <th>4</th>\n",
       "      <td>@sxtxstate great stuff on Fri #SXSW: Marissa M...</td>\n",
       "      <td>Google</td>\n",
       "      <td>Positive emotion</td>\n",
       "    </tr>\n",
       "  </tbody>\n",
       "</table>\n",
       "</div>"
      ],
      "text/plain": [
       "                                          tweet_text  \\\n",
       "0  .@wesley83 I have a 3G iPhone. After 3 hrs twe...   \n",
       "1  @jessedee Know about @fludapp ? Awesome iPad/i...   \n",
       "2  @swonderlin Can not wait for #iPad 2 also. The...   \n",
       "3  @sxsw I hope this year's festival isn't as cra...   \n",
       "4  @sxtxstate great stuff on Fri #SXSW: Marissa M...   \n",
       "\n",
       "  emotion_in_tweet_is_directed_at  \\\n",
       "0                          iPhone   \n",
       "1              iPad or iPhone App   \n",
       "2                            iPad   \n",
       "3              iPad or iPhone App   \n",
       "4                          Google   \n",
       "\n",
       "  is_there_an_emotion_directed_at_a_brand_or_product  \n",
       "0                                   Negative emotion  \n",
       "1                                   Positive emotion  \n",
       "2                                   Positive emotion  \n",
       "3                                   Negative emotion  \n",
       "4                                   Positive emotion  "
      ]
     },
     "execution_count": 4,
     "metadata": {},
     "output_type": "execute_result"
    },
    {
     "data": {
      "application/javascript": [
       "\n",
       "            setTimeout(function() {\n",
       "                var nbb_cell_id = 4;\n",
       "                var nbb_unformatted_code = \"df = pd.read_csv(normpath(\\\"data/crowdflower_tweets.csv\\\"))\\ndf.head()\";\n",
       "                var nbb_formatted_code = \"df = pd.read_csv(normpath(\\\"data/crowdflower_tweets.csv\\\"))\\ndf.head()\";\n",
       "                var nbb_cells = Jupyter.notebook.get_cells();\n",
       "                for (var i = 0; i < nbb_cells.length; ++i) {\n",
       "                    if (nbb_cells[i].input_prompt_number == nbb_cell_id) {\n",
       "                        if (nbb_cells[i].get_text() == nbb_unformatted_code) {\n",
       "                             nbb_cells[i].set_text(nbb_formatted_code);\n",
       "                        }\n",
       "                        break;\n",
       "                    }\n",
       "                }\n",
       "            }, 500);\n",
       "            "
      ],
      "text/plain": [
       "<IPython.core.display.Javascript object>"
      ]
     },
     "metadata": {},
     "output_type": "display_data"
    }
   ],
   "source": [
    "df = pd.read_csv(normpath(\"data/crowdflower_tweets.csv\"))\n",
    "df.head()"
   ]
  },
  {
   "cell_type": "markdown",
   "metadata": {},
   "source": [
    "Looks like one text feature and two categorical features, one of which has a lot of null values. The feature names are very long and wordy, presumably to reflect the actual language used by CrowdFlower in crowdsourcing this dataset. I'm going to rename those before I do anything else."
   ]
  },
  {
   "cell_type": "code",
   "execution_count": 5,
   "metadata": {
    "ExecuteTime": {
     "end_time": "2021-06-23T07:31:16.643530Z",
     "start_time": "2021-06-23T07:31:16.542529Z"
    }
   },
   "outputs": [
    {
     "name": "stdout",
     "output_type": "stream",
     "text": [
      "<class 'pandas.core.frame.DataFrame'>\n",
      "RangeIndex: 9093 entries, 0 to 9092\n",
      "Data columns (total 3 columns):\n",
      " #   Column                                              Non-Null Count  Dtype \n",
      "---  ------                                              --------------  ----- \n",
      " 0   tweet_text                                          9092 non-null   object\n",
      " 1   emotion_in_tweet_is_directed_at                     3291 non-null   object\n",
      " 2   is_there_an_emotion_directed_at_a_brand_or_product  9093 non-null   object\n",
      "dtypes: object(3)\n",
      "memory usage: 213.2+ KB\n"
     ]
    },
    {
     "data": {
      "application/javascript": [
       "\n",
       "            setTimeout(function() {\n",
       "                var nbb_cell_id = 5;\n",
       "                var nbb_unformatted_code = \"df.info()\";\n",
       "                var nbb_formatted_code = \"df.info()\";\n",
       "                var nbb_cells = Jupyter.notebook.get_cells();\n",
       "                for (var i = 0; i < nbb_cells.length; ++i) {\n",
       "                    if (nbb_cells[i].input_prompt_number == nbb_cell_id) {\n",
       "                        if (nbb_cells[i].get_text() == nbb_unformatted_code) {\n",
       "                             nbb_cells[i].set_text(nbb_formatted_code);\n",
       "                        }\n",
       "                        break;\n",
       "                    }\n",
       "                }\n",
       "            }, 500);\n",
       "            "
      ],
      "text/plain": [
       "<IPython.core.display.Javascript object>"
      ]
     },
     "metadata": {},
     "output_type": "display_data"
    }
   ],
   "source": [
    "df.info()"
   ]
  },
  {
   "cell_type": "markdown",
   "metadata": {},
   "source": [
    "# Cleaning\n",
    "## Renaming"
   ]
  },
  {
   "cell_type": "code",
   "execution_count": 6,
   "metadata": {
    "ExecuteTime": {
     "end_time": "2021-06-23T07:31:16.743529Z",
     "start_time": "2021-06-23T07:31:16.644529Z"
    }
   },
   "outputs": [
    {
     "data": {
      "text/html": [
       "<div>\n",
       "<style scoped>\n",
       "    .dataframe tbody tr th:only-of-type {\n",
       "        vertical-align: middle;\n",
       "    }\n",
       "\n",
       "    .dataframe tbody tr th {\n",
       "        vertical-align: top;\n",
       "    }\n",
       "\n",
       "    .dataframe thead th {\n",
       "        text-align: right;\n",
       "    }\n",
       "</style>\n",
       "<table border=\"1\" class=\"dataframe\">\n",
       "  <thead>\n",
       "    <tr style=\"text-align: right;\">\n",
       "      <th></th>\n",
       "      <th>text</th>\n",
       "      <th>object_of_emotion</th>\n",
       "      <th>emotion</th>\n",
       "    </tr>\n",
       "  </thead>\n",
       "  <tbody>\n",
       "    <tr>\n",
       "      <th>0</th>\n",
       "      <td>.@wesley83 I have a 3G iPhone. After 3 hrs twe...</td>\n",
       "      <td>iPhone</td>\n",
       "      <td>Negative emotion</td>\n",
       "    </tr>\n",
       "    <tr>\n",
       "      <th>1</th>\n",
       "      <td>@jessedee Know about @fludapp ? Awesome iPad/i...</td>\n",
       "      <td>iPad or iPhone App</td>\n",
       "      <td>Positive emotion</td>\n",
       "    </tr>\n",
       "    <tr>\n",
       "      <th>2</th>\n",
       "      <td>@swonderlin Can not wait for #iPad 2 also. The...</td>\n",
       "      <td>iPad</td>\n",
       "      <td>Positive emotion</td>\n",
       "    </tr>\n",
       "    <tr>\n",
       "      <th>3</th>\n",
       "      <td>@sxsw I hope this year's festival isn't as cra...</td>\n",
       "      <td>iPad or iPhone App</td>\n",
       "      <td>Negative emotion</td>\n",
       "    </tr>\n",
       "    <tr>\n",
       "      <th>4</th>\n",
       "      <td>@sxtxstate great stuff on Fri #SXSW: Marissa M...</td>\n",
       "      <td>Google</td>\n",
       "      <td>Positive emotion</td>\n",
       "    </tr>\n",
       "  </tbody>\n",
       "</table>\n",
       "</div>"
      ],
      "text/plain": [
       "                                                text   object_of_emotion  \\\n",
       "0  .@wesley83 I have a 3G iPhone. After 3 hrs twe...              iPhone   \n",
       "1  @jessedee Know about @fludapp ? Awesome iPad/i...  iPad or iPhone App   \n",
       "2  @swonderlin Can not wait for #iPad 2 also. The...                iPad   \n",
       "3  @sxsw I hope this year's festival isn't as cra...  iPad or iPhone App   \n",
       "4  @sxtxstate great stuff on Fri #SXSW: Marissa M...              Google   \n",
       "\n",
       "            emotion  \n",
       "0  Negative emotion  \n",
       "1  Positive emotion  \n",
       "2  Positive emotion  \n",
       "3  Negative emotion  \n",
       "4  Positive emotion  "
      ]
     },
     "execution_count": 6,
     "metadata": {},
     "output_type": "execute_result"
    },
    {
     "data": {
      "application/javascript": [
       "\n",
       "            setTimeout(function() {\n",
       "                var nbb_cell_id = 6;\n",
       "                var nbb_unformatted_code = \"# Assign new column names\\ndf.columns = [\\\"text\\\", \\\"object_of_emotion\\\", \\\"emotion\\\"]\\ndf.head()\";\n",
       "                var nbb_formatted_code = \"# Assign new column names\\ndf.columns = [\\\"text\\\", \\\"object_of_emotion\\\", \\\"emotion\\\"]\\ndf.head()\";\n",
       "                var nbb_cells = Jupyter.notebook.get_cells();\n",
       "                for (var i = 0; i < nbb_cells.length; ++i) {\n",
       "                    if (nbb_cells[i].input_prompt_number == nbb_cell_id) {\n",
       "                        if (nbb_cells[i].get_text() == nbb_unformatted_code) {\n",
       "                             nbb_cells[i].set_text(nbb_formatted_code);\n",
       "                        }\n",
       "                        break;\n",
       "                    }\n",
       "                }\n",
       "            }, 500);\n",
       "            "
      ],
      "text/plain": [
       "<IPython.core.display.Javascript object>"
      ]
     },
     "metadata": {},
     "output_type": "display_data"
    }
   ],
   "source": [
    "# Assign new column names\n",
    "df.columns = [\"text\", \"object_of_emotion\", \"emotion\"]\n",
    "df.head()"
   ]
  },
  {
   "cell_type": "markdown",
   "metadata": {},
   "source": [
    "Next, I take a look at the values of the categorical variables. The categories make sense, although the names are longer than necessary. I'm going to shorten some of them as well."
   ]
  },
  {
   "cell_type": "code",
   "execution_count": 7,
   "metadata": {
    "ExecuteTime": {
     "end_time": "2021-06-23T07:31:16.856529Z",
     "start_time": "2021-06-23T07:31:16.746528Z"
    }
   },
   "outputs": [
    {
     "data": {
      "text/html": [
       "<div>\n",
       "<style scoped>\n",
       "    .dataframe tbody tr th:only-of-type {\n",
       "        vertical-align: middle;\n",
       "    }\n",
       "\n",
       "    .dataframe tbody tr th {\n",
       "        vertical-align: top;\n",
       "    }\n",
       "\n",
       "    .dataframe thead th {\n",
       "        text-align: right;\n",
       "    }\n",
       "</style>\n",
       "<table border=\"1\" class=\"dataframe\">\n",
       "  <thead>\n",
       "    <tr style=\"text-align: right;\">\n",
       "      <th>object_of_emotion</th>\n",
       "      <th>emotion</th>\n",
       "    </tr>\n",
       "  </thead>\n",
       "  <tbody>\n",
       "    <tr>\n",
       "      <td>iPhone</td>\n",
       "      <td>Negative emotion</td>\n",
       "    </tr>\n",
       "    <tr>\n",
       "      <td>iPad or iPhone App</td>\n",
       "      <td>Positive emotion</td>\n",
       "    </tr>\n",
       "    <tr>\n",
       "      <td>iPad</td>\n",
       "      <td>No emotion toward brand or product</td>\n",
       "    </tr>\n",
       "    <tr>\n",
       "      <td>Google</td>\n",
       "      <td>I can't tell</td>\n",
       "    </tr>\n",
       "    <tr>\n",
       "      <td>Android</td>\n",
       "      <td></td>\n",
       "    </tr>\n",
       "    <tr>\n",
       "      <td>Apple</td>\n",
       "      <td></td>\n",
       "    </tr>\n",
       "    <tr>\n",
       "      <td>Android App</td>\n",
       "      <td></td>\n",
       "    </tr>\n",
       "    <tr>\n",
       "      <td>Other Google product or service</td>\n",
       "      <td></td>\n",
       "    </tr>\n",
       "    <tr>\n",
       "      <td>Other Apple product or service</td>\n",
       "      <td></td>\n",
       "    </tr>\n",
       "  </tbody>\n",
       "</table>\n",
       "</div>"
      ],
      "text/plain": [
       "<IPython.core.display.HTML object>"
      ]
     },
     "metadata": {},
     "output_type": "display_data"
    },
    {
     "data": {
      "application/javascript": [
       "\n",
       "            setTimeout(function() {\n",
       "                var nbb_cell_id = 7;\n",
       "                var nbb_unformatted_code = \"cleaning.show_uniques(df)\";\n",
       "                var nbb_formatted_code = \"cleaning.show_uniques(df)\";\n",
       "                var nbb_cells = Jupyter.notebook.get_cells();\n",
       "                for (var i = 0; i < nbb_cells.length; ++i) {\n",
       "                    if (nbb_cells[i].input_prompt_number == nbb_cell_id) {\n",
       "                        if (nbb_cells[i].get_text() == nbb_unformatted_code) {\n",
       "                             nbb_cells[i].set_text(nbb_formatted_code);\n",
       "                        }\n",
       "                        break;\n",
       "                    }\n",
       "                }\n",
       "            }, 500);\n",
       "            "
      ],
      "text/plain": [
       "<IPython.core.display.Javascript object>"
      ]
     },
     "metadata": {},
     "output_type": "display_data"
    }
   ],
   "source": [
    "cleaning.show_uniques(df)"
   ]
  },
  {
   "cell_type": "markdown",
   "metadata": {},
   "source": [
    "First, I convert the categorical columns to `CategoricalDtype`. This will make it easier to rename the categories, and is a convenient way to differentiate the categorical features from the text column."
   ]
  },
  {
   "cell_type": "code",
   "execution_count": 8,
   "metadata": {
    "ExecuteTime": {
     "end_time": "2021-06-23T07:31:16.962528Z",
     "start_time": "2021-06-23T07:31:16.857530Z"
    }
   },
   "outputs": [
    {
     "data": {
      "text/plain": [
       "0    Negative emotion\n",
       "1    Positive emotion\n",
       "2    Positive emotion\n",
       "Name: emotion, dtype: category\n",
       "Categories (4, object): ['I can't tell', 'Negative emotion', 'No emotion toward brand or product', 'Positive emotion']"
      ]
     },
     "metadata": {},
     "output_type": "display_data"
    },
    {
     "data": {
      "text/plain": [
       "0                iPhone\n",
       "1    iPad or iPhone App\n",
       "2                  iPad\n",
       "Name: object_of_emotion, dtype: category\n",
       "Categories (9, object): ['Android', 'Android App', 'Apple', 'Google', ..., 'Other Google product or service', 'iPad', 'iPad or iPhone App', 'iPhone']"
      ]
     },
     "metadata": {},
     "output_type": "display_data"
    },
    {
     "data": {
      "application/javascript": [
       "\n",
       "            setTimeout(function() {\n",
       "                var nbb_cell_id = 8;\n",
       "                var nbb_unformatted_code = \"# Convert categorical columns to categorical dtype\\ncat_cols = [\\\"emotion\\\", \\\"object_of_emotion\\\"]\\ndf[cat_cols] = df.loc[:, cat_cols].astype(\\\"category\\\")\\n\\n# Delete temp variable\\ndel cat_cols\\n\\n# Display results\\ndisplay(df[\\\"emotion\\\"].head(3), df[\\\"object_of_emotion\\\"].head(3))\";\n",
       "                var nbb_formatted_code = \"# Convert categorical columns to categorical dtype\\ncat_cols = [\\\"emotion\\\", \\\"object_of_emotion\\\"]\\ndf[cat_cols] = df.loc[:, cat_cols].astype(\\\"category\\\")\\n\\n# Delete temp variable\\ndel cat_cols\\n\\n# Display results\\ndisplay(df[\\\"emotion\\\"].head(3), df[\\\"object_of_emotion\\\"].head(3))\";\n",
       "                var nbb_cells = Jupyter.notebook.get_cells();\n",
       "                for (var i = 0; i < nbb_cells.length; ++i) {\n",
       "                    if (nbb_cells[i].input_prompt_number == nbb_cell_id) {\n",
       "                        if (nbb_cells[i].get_text() == nbb_unformatted_code) {\n",
       "                             nbb_cells[i].set_text(nbb_formatted_code);\n",
       "                        }\n",
       "                        break;\n",
       "                    }\n",
       "                }\n",
       "            }, 500);\n",
       "            "
      ],
      "text/plain": [
       "<IPython.core.display.Javascript object>"
      ]
     },
     "metadata": {},
     "output_type": "display_data"
    }
   ],
   "source": [
    "# Convert categorical columns to categorical dtype\n",
    "cat_cols = [\"emotion\", \"object_of_emotion\"]\n",
    "df[cat_cols] = df.loc[:, cat_cols].astype(\"category\")\n",
    "\n",
    "# Delete temp variable\n",
    "del cat_cols\n",
    "\n",
    "# Display results\n",
    "display(df[\"emotion\"].head(3), df[\"object_of_emotion\"].head(3))"
   ]
  },
  {
   "cell_type": "markdown",
   "metadata": {},
   "source": [
    "Next, I rename the categories for both categorical features.\n",
    "\n",
    "I use a single `dict` mapping old category names to new ones. I only need one `dict` for both features because the method `Series.cat.rename_categories(...)` ignores irrelevant keys."
   ]
  },
  {
   "cell_type": "code",
   "execution_count": 9,
   "metadata": {
    "ExecuteTime": {
     "end_time": "2021-06-23T07:31:17.093644Z",
     "start_time": "2021-06-23T07:31:16.963528Z"
    }
   },
   "outputs": [
    {
     "data": {
      "text/html": [
       "<div>\n",
       "<style scoped>\n",
       "    .dataframe tbody tr th:only-of-type {\n",
       "        vertical-align: middle;\n",
       "    }\n",
       "\n",
       "    .dataframe tbody tr th {\n",
       "        vertical-align: top;\n",
       "    }\n",
       "\n",
       "    .dataframe thead th {\n",
       "        text-align: right;\n",
       "    }\n",
       "</style>\n",
       "<table border=\"1\" class=\"dataframe\">\n",
       "  <thead>\n",
       "    <tr style=\"text-align: right;\">\n",
       "      <th>object_of_emotion</th>\n",
       "      <th>emotion</th>\n",
       "    </tr>\n",
       "  </thead>\n",
       "  <tbody>\n",
       "    <tr>\n",
       "      <td>iPhone</td>\n",
       "      <td>Negative</td>\n",
       "    </tr>\n",
       "    <tr>\n",
       "      <td>iOS App</td>\n",
       "      <td>Positive</td>\n",
       "    </tr>\n",
       "    <tr>\n",
       "      <td>iPad</td>\n",
       "      <td>Neutral</td>\n",
       "    </tr>\n",
       "    <tr>\n",
       "      <td>Google</td>\n",
       "      <td>Uncertain</td>\n",
       "    </tr>\n",
       "    <tr>\n",
       "      <td>Android</td>\n",
       "      <td></td>\n",
       "    </tr>\n",
       "    <tr>\n",
       "      <td>Apple</td>\n",
       "      <td></td>\n",
       "    </tr>\n",
       "    <tr>\n",
       "      <td>Android App</td>\n",
       "      <td></td>\n",
       "    </tr>\n",
       "    <tr>\n",
       "      <td>Other Google Product</td>\n",
       "      <td></td>\n",
       "    </tr>\n",
       "    <tr>\n",
       "      <td>Other Apple Product</td>\n",
       "      <td></td>\n",
       "    </tr>\n",
       "  </tbody>\n",
       "</table>\n",
       "</div>"
      ],
      "text/plain": [
       "<IPython.core.display.HTML object>"
      ]
     },
     "metadata": {},
     "output_type": "display_data"
    },
    {
     "data": {
      "application/javascript": [
       "\n",
       "            setTimeout(function() {\n",
       "                var nbb_cell_id = 9;\n",
       "                var nbb_unformatted_code = \"# Create mapping of old categories to new ones\\nnew_cats = {\\n    # New 'emotion' categories\\n    \\\"Negative emotion\\\": \\\"Negative\\\",\\n    \\\"Positive emotion\\\": \\\"Positive\\\",\\n    \\\"No emotion toward brand or product\\\": \\\"Neutral\\\",\\n    \\\"I can't tell\\\": \\\"Uncertain\\\",\\n    # New 'object_of_emotion' categories\\n    \\\"iPad or iPhone App\\\": \\\"iOS App\\\",\\n    \\\"Other Google product or service\\\": \\\"Other Google Product\\\",\\n    \\\"Other Apple product or service\\\": \\\"Other Apple Product\\\",\\n}\\n\\n# Rename categories in-place (ignores irrelevant keys)\\ndf[\\\"emotion\\\"].cat.rename_categories(new_cats, inplace=True)\\ndf[\\\"object_of_emotion\\\"].cat.rename_categories(new_cats, inplace=True)\\n\\n# Delete renaming dict\\ndel new_cats\\n\\n# Show results\\ncleaning.show_uniques(df)\";\n",
       "                var nbb_formatted_code = \"# Create mapping of old categories to new ones\\nnew_cats = {\\n    # New 'emotion' categories\\n    \\\"Negative emotion\\\": \\\"Negative\\\",\\n    \\\"Positive emotion\\\": \\\"Positive\\\",\\n    \\\"No emotion toward brand or product\\\": \\\"Neutral\\\",\\n    \\\"I can't tell\\\": \\\"Uncertain\\\",\\n    # New 'object_of_emotion' categories\\n    \\\"iPad or iPhone App\\\": \\\"iOS App\\\",\\n    \\\"Other Google product or service\\\": \\\"Other Google Product\\\",\\n    \\\"Other Apple product or service\\\": \\\"Other Apple Product\\\",\\n}\\n\\n# Rename categories in-place (ignores irrelevant keys)\\ndf[\\\"emotion\\\"].cat.rename_categories(new_cats, inplace=True)\\ndf[\\\"object_of_emotion\\\"].cat.rename_categories(new_cats, inplace=True)\\n\\n# Delete renaming dict\\ndel new_cats\\n\\n# Show results\\ncleaning.show_uniques(df)\";\n",
       "                var nbb_cells = Jupyter.notebook.get_cells();\n",
       "                for (var i = 0; i < nbb_cells.length; ++i) {\n",
       "                    if (nbb_cells[i].input_prompt_number == nbb_cell_id) {\n",
       "                        if (nbb_cells[i].get_text() == nbb_unformatted_code) {\n",
       "                             nbb_cells[i].set_text(nbb_formatted_code);\n",
       "                        }\n",
       "                        break;\n",
       "                    }\n",
       "                }\n",
       "            }, 500);\n",
       "            "
      ],
      "text/plain": [
       "<IPython.core.display.Javascript object>"
      ]
     },
     "metadata": {},
     "output_type": "display_data"
    }
   ],
   "source": [
    "# Create mapping of old categories to new ones\n",
    "new_cats = {\n",
    "    # New 'emotion' categories\n",
    "    \"Negative emotion\": \"Negative\",\n",
    "    \"Positive emotion\": \"Positive\",\n",
    "    \"No emotion toward brand or product\": \"Neutral\",\n",
    "    \"I can't tell\": \"Uncertain\",\n",
    "    # New 'object_of_emotion' categories\n",
    "    \"iPad or iPhone App\": \"iOS App\",\n",
    "    \"Other Google product or service\": \"Other Google Product\",\n",
    "    \"Other Apple product or service\": \"Other Apple Product\",\n",
    "}\n",
    "\n",
    "# Rename categories in-place (ignores irrelevant keys)\n",
    "df[\"emotion\"].cat.rename_categories(new_cats, inplace=True)\n",
    "df[\"object_of_emotion\"].cat.rename_categories(new_cats, inplace=True)\n",
    "\n",
    "# Delete renaming dict\n",
    "del new_cats\n",
    "\n",
    "# Show results\n",
    "cleaning.show_uniques(df)"
   ]
  },
  {
   "cell_type": "code",
   "execution_count": 10,
   "metadata": {
    "ExecuteTime": {
     "end_time": "2021-06-23T07:31:17.392528Z",
     "start_time": "2021-06-23T07:31:17.094529Z"
    }
   },
   "outputs": [
    {
     "data": {
      "text/plain": [
       "<AxesSubplot:title={'center':\"'emotion' Value Counts\"}, xlabel='Count'>"
      ]
     },
     "execution_count": 10,
     "metadata": {},
     "output_type": "execute_result"
    },
    {
     "data": {
      "image/png": "[encoded data removed]",
      "text/plain": [
       "<Figure size 360x360 with 1 Axes>"
      ]
     },
     "metadata": {
      "needs_background": "light"
     },
     "output_type": "display_data"
    },
    {
     "data": {
      "application/javascript": [
       "\n",
       "            setTimeout(function() {\n",
       "                var nbb_cell_id = 10;\n",
       "                var nbb_unformatted_code = \"plotting.countplot(df[\\\"emotion\\\"], normalize=True)\";\n",
       "                var nbb_formatted_code = \"plotting.countplot(df[\\\"emotion\\\"], normalize=True)\";\n",
       "                var nbb_cells = Jupyter.notebook.get_cells();\n",
       "                for (var i = 0; i < nbb_cells.length; ++i) {\n",
       "                    if (nbb_cells[i].input_prompt_number == nbb_cell_id) {\n",
       "                        if (nbb_cells[i].get_text() == nbb_unformatted_code) {\n",
       "                             nbb_cells[i].set_text(nbb_formatted_code);\n",
       "                        }\n",
       "                        break;\n",
       "                    }\n",
       "                }\n",
       "            }, 500);\n",
       "            "
      ],
      "text/plain": [
       "<IPython.core.display.Javascript object>"
      ]
     },
     "metadata": {},
     "output_type": "display_data"
    }
   ],
   "source": [
    "plotting.countplot(df[\"emotion\"], normalize=True)"
   ]
  },
  {
   "cell_type": "code",
   "execution_count": 11,
   "metadata": {
    "ExecuteTime": {
     "end_time": "2021-06-23T07:31:17.611527Z",
     "start_time": "2021-06-23T07:31:17.393529Z"
    }
   },
   "outputs": [
    {
     "data": {
      "text/plain": [
       "<AxesSubplot:title={'center':\"'emotion' Value Counts\"}, xlabel='Count'>"
      ]
     },
     "execution_count": 11,
     "metadata": {},
     "output_type": "execute_result"
    },
    {
     "data": {
      "image/png": "[encoded data removed]",
      "text/plain": [
       "<Figure size 360x360 with 1 Axes>"
      ]
     },
     "metadata": {
      "needs_background": "light"
     },
     "output_type": "display_data"
    },
    {
     "data": {
      "application/javascript": [
       "\n",
       "            setTimeout(function() {\n",
       "                var nbb_cell_id = 11;\n",
       "                var nbb_unformatted_code = \"# Remove 'Uncertain' category\\ndf.emotion.cat.remove_categories(\\\"Uncertain\\\", inplace=True)\\nplotting.countplot(df.emotion, normalize=True)\";\n",
       "                var nbb_formatted_code = \"# Remove 'Uncertain' category\\ndf.emotion.cat.remove_categories(\\\"Uncertain\\\", inplace=True)\\nplotting.countplot(df.emotion, normalize=True)\";\n",
       "                var nbb_cells = Jupyter.notebook.get_cells();\n",
       "                for (var i = 0; i < nbb_cells.length; ++i) {\n",
       "                    if (nbb_cells[i].input_prompt_number == nbb_cell_id) {\n",
       "                        if (nbb_cells[i].get_text() == nbb_unformatted_code) {\n",
       "                             nbb_cells[i].set_text(nbb_formatted_code);\n",
       "                        }\n",
       "                        break;\n",
       "                    }\n",
       "                }\n",
       "            }, 500);\n",
       "            "
      ],
      "text/plain": [
       "<IPython.core.display.Javascript object>"
      ]
     },
     "metadata": {},
     "output_type": "display_data"
    }
   ],
   "source": [
    "# Remove 'Uncertain' category\n",
    "df.emotion.cat.remove_categories(\"Uncertain\", inplace=True)\n",
    "plotting.countplot(df.emotion, normalize=True)"
   ]
  },
  {
   "cell_type": "markdown",
   "metadata": {},
   "source": [
    "## Missing Values\n",
    "\n",
    "According to the table below, there are a lot of missing values in the 'object_of_emotion' category. I bet, however, that these NaN values correspond to the 'Neutral' category. If a tweet doesn't express a brand-emotion, then there shouldn't be any brand in the 'object_of_emotion' column.\n",
    "\n",
    "There's also one null 'text' row, and a bunch of null 'emotion' rows where the 'Uncertain' category used to be."
   ]
  },
  {
   "cell_type": "code",
   "execution_count": 12,
   "metadata": {
    "ExecuteTime": {
     "end_time": "2021-06-23T07:31:17.724552Z",
     "start_time": "2021-06-23T07:31:17.612529Z"
    }
   },
   "outputs": [
    {
     "data": {
      "text/html": [
       "<div>\n",
       "<style scoped>\n",
       "    .dataframe tbody tr th:only-of-type {\n",
       "        vertical-align: middle;\n",
       "    }\n",
       "\n",
       "    .dataframe tbody tr th {\n",
       "        vertical-align: top;\n",
       "    }\n",
       "\n",
       "    .dataframe thead th {\n",
       "        text-align: right;\n",
       "    }\n",
       "</style>\n",
       "<table border=\"1\" class=\"dataframe\">\n",
       "  <thead>\n",
       "    <tr style=\"text-align: right;\">\n",
       "      <th></th>\n",
       "      <th>null</th>\n",
       "      <th>null_%</th>\n",
       "      <th>uniq</th>\n",
       "      <th>uniq_%</th>\n",
       "      <th>dup</th>\n",
       "      <th>dup_%</th>\n",
       "    </tr>\n",
       "  </thead>\n",
       "  <tbody>\n",
       "    <tr>\n",
       "      <th>object_of_emotion</th>\n",
       "      <td>5802</td>\n",
       "      <td>63.81</td>\n",
       "      <td>9</td>\n",
       "      <td>0.10</td>\n",
       "      <td>22</td>\n",
       "      <td>0.24</td>\n",
       "    </tr>\n",
       "    <tr>\n",
       "      <th>emotion</th>\n",
       "      <td>156</td>\n",
       "      <td>1.72</td>\n",
       "      <td>3</td>\n",
       "      <td>0.03</td>\n",
       "      <td>22</td>\n",
       "      <td>0.24</td>\n",
       "    </tr>\n",
       "    <tr>\n",
       "      <th>text</th>\n",
       "      <td>1</td>\n",
       "      <td>0.01</td>\n",
       "      <td>9065</td>\n",
       "      <td>99.69</td>\n",
       "      <td>22</td>\n",
       "      <td>0.24</td>\n",
       "    </tr>\n",
       "  </tbody>\n",
       "</table>\n",
       "</div>"
      ],
      "text/plain": [
       "                   null  null_%  uniq  uniq_%  dup  dup_%\n",
       "object_of_emotion  5802   63.81     9    0.10   22   0.24\n",
       "emotion             156    1.72     3    0.03   22   0.24\n",
       "text                  1    0.01  9065   99.69   22   0.24"
      ]
     },
     "execution_count": 12,
     "metadata": {},
     "output_type": "execute_result"
    },
    {
     "data": {
      "application/javascript": [
       "\n",
       "            setTimeout(function() {\n",
       "                var nbb_cell_id = 12;\n",
       "                var nbb_unformatted_code = \"cleaning.info(df)\";\n",
       "                var nbb_formatted_code = \"cleaning.info(df)\";\n",
       "                var nbb_cells = Jupyter.notebook.get_cells();\n",
       "                for (var i = 0; i < nbb_cells.length; ++i) {\n",
       "                    if (nbb_cells[i].input_prompt_number == nbb_cell_id) {\n",
       "                        if (nbb_cells[i].get_text() == nbb_unformatted_code) {\n",
       "                             nbb_cells[i].set_text(nbb_formatted_code);\n",
       "                        }\n",
       "                        break;\n",
       "                    }\n",
       "                }\n",
       "            }, 500);\n",
       "            "
      ],
      "text/plain": [
       "<IPython.core.display.Javascript object>"
      ]
     },
     "metadata": {},
     "output_type": "display_data"
    }
   ],
   "source": [
    "cleaning.info(df)"
   ]
  },
  {
   "cell_type": "markdown",
   "metadata": {},
   "source": [
    " I'll go ahead and drop the nulls in the 'text' and 'emotion' columns first."
   ]
  },
  {
   "cell_type": "code",
   "execution_count": 13,
   "metadata": {
    "ExecuteTime": {
     "end_time": "2021-06-23T07:31:17.844530Z",
     "start_time": "2021-06-23T07:31:17.725527Z"
    }
   },
   "outputs": [
    {
     "data": {
      "text/html": [
       "<div>\n",
       "<style scoped>\n",
       "    .dataframe tbody tr th:only-of-type {\n",
       "        vertical-align: middle;\n",
       "    }\n",
       "\n",
       "    .dataframe tbody tr th {\n",
       "        vertical-align: top;\n",
       "    }\n",
       "\n",
       "    .dataframe thead th {\n",
       "        text-align: right;\n",
       "    }\n",
       "</style>\n",
       "<table border=\"1\" class=\"dataframe\">\n",
       "  <thead>\n",
       "    <tr style=\"text-align: right;\">\n",
       "      <th></th>\n",
       "      <th>null</th>\n",
       "      <th>null_%</th>\n",
       "      <th>uniq</th>\n",
       "      <th>uniq_%</th>\n",
       "      <th>dup</th>\n",
       "      <th>dup_%</th>\n",
       "    </tr>\n",
       "  </thead>\n",
       "  <tbody>\n",
       "    <tr>\n",
       "      <th>object_of_emotion</th>\n",
       "      <td>5654</td>\n",
       "      <td>63.27</td>\n",
       "      <td>9</td>\n",
       "      <td>0.10</td>\n",
       "      <td>22</td>\n",
       "      <td>0.25</td>\n",
       "    </tr>\n",
       "    <tr>\n",
       "      <th>text</th>\n",
       "      <td>0</td>\n",
       "      <td>0.00</td>\n",
       "      <td>8909</td>\n",
       "      <td>99.70</td>\n",
       "      <td>22</td>\n",
       "      <td>0.25</td>\n",
       "    </tr>\n",
       "    <tr>\n",
       "      <th>emotion</th>\n",
       "      <td>0</td>\n",
       "      <td>0.00</td>\n",
       "      <td>3</td>\n",
       "      <td>0.03</td>\n",
       "      <td>22</td>\n",
       "      <td>0.25</td>\n",
       "    </tr>\n",
       "  </tbody>\n",
       "</table>\n",
       "</div>"
      ],
      "text/plain": [
       "                   null  null_%  uniq  uniq_%  dup  dup_%\n",
       "object_of_emotion  5654   63.27     9    0.10   22   0.25\n",
       "text                  0    0.00  8909   99.70   22   0.25\n",
       "emotion               0    0.00     3    0.03   22   0.25"
      ]
     },
     "execution_count": 13,
     "metadata": {},
     "output_type": "execute_result"
    },
    {
     "data": {
      "application/javascript": [
       "\n",
       "            setTimeout(function() {\n",
       "                var nbb_cell_id = 13;\n",
       "                var nbb_unformatted_code = \"df.dropna(subset=[\\\"text\\\", \\\"emotion\\\"], inplace=True)\\ncleaning.info(df)\";\n",
       "                var nbb_formatted_code = \"df.dropna(subset=[\\\"text\\\", \\\"emotion\\\"], inplace=True)\\ncleaning.info(df)\";\n",
       "                var nbb_cells = Jupyter.notebook.get_cells();\n",
       "                for (var i = 0; i < nbb_cells.length; ++i) {\n",
       "                    if (nbb_cells[i].input_prompt_number == nbb_cell_id) {\n",
       "                        if (nbb_cells[i].get_text() == nbb_unformatted_code) {\n",
       "                             nbb_cells[i].set_text(nbb_formatted_code);\n",
       "                        }\n",
       "                        break;\n",
       "                    }\n",
       "                }\n",
       "            }, 500);\n",
       "            "
      ],
      "text/plain": [
       "<IPython.core.display.Javascript object>"
      ]
     },
     "metadata": {},
     "output_type": "display_data"
    }
   ],
   "source": [
    "df.dropna(subset=[\"text\", \"emotion\"], inplace=True)\n",
    "cleaning.info(df)"
   ]
  },
  {
   "cell_type": "code",
   "execution_count": 14,
   "metadata": {
    "ExecuteTime": {
     "end_time": "2021-06-23T07:31:17.946529Z",
     "start_time": "2021-06-23T07:31:17.845527Z"
    }
   },
   "outputs": [
    {
     "data": {
      "text/markdown": [
       "|      | text                                                                                                                                    |\n",
       "|-----:|:----------------------------------------------------------------------------------------------------------------------------------------|\n",
       "| 5140 | RT @mention @mention New iPad Apps For Speech Therapy And Communication Are Showcased At #SXSW Conference {link} #sxswi #hcsm #sxswh    |\n",
       "|  509 | Please RT Follow the next big #college social network @mention chance to win an #iPad at 7,000 followers #socialmedia #SXSW             |\n",
       "| 4916 | millions of iPhone cases at #SXSW trade show but can any of them double as shuffleboard wax sprinklers? I think not. #fail (CC @mention |\n",
       "| 6384 | RT @mention not launching any products at #SXSW but we're doing plenty else.  {link}                                                    |\n",
       "|  790 | Google to Launch Major New Social Network Called Circles, Possibly Today {link} #sxsw&quot;                                             |\n",
       "| 8793 | Google giving Social another go? {link} Google Circles, let's see what the guys at #SXSW make of it                                     |\n",
       "| 8452 | @mention The unofficial #SXSW torrents are a great way to hear what you can expect this year {link}                                     |\n",
       "| 3645 | U gotta fight for yr right to party &amp; to privacy ACLU/google #sxsw #partylikeits1986                                                |\n",
       "|   61 | #futuremf @mention {link} spec for recipes on the web, now in google search: {link}  #sxsw                                              |\n",
       "| 4081 | Hope people ask the tough questions. RT @mention Reminder: Android and Chrome TTS talk @mention 1 PM today!  {link}  #sxsw              |"
      ],
      "text/plain": [
       "<IPython.core.display.Markdown object>"
      ]
     },
     "metadata": {},
     "output_type": "display_data"
    },
    {
     "data": {
      "application/javascript": [
       "\n",
       "            setTimeout(function() {\n",
       "                var nbb_cell_id = 14;\n",
       "                var nbb_unformatted_code = \"null_rows = cleaning.null_rows(df)\\nlang.readable_sample(null_rows[\\\"text\\\"], random_state=rando)\";\n",
       "                var nbb_formatted_code = \"null_rows = cleaning.null_rows(df)\\nlang.readable_sample(null_rows[\\\"text\\\"], random_state=rando)\";\n",
       "                var nbb_cells = Jupyter.notebook.get_cells();\n",
       "                for (var i = 0; i < nbb_cells.length; ++i) {\n",
       "                    if (nbb_cells[i].input_prompt_number == nbb_cell_id) {\n",
       "                        if (nbb_cells[i].get_text() == nbb_unformatted_code) {\n",
       "                             nbb_cells[i].set_text(nbb_formatted_code);\n",
       "                        }\n",
       "                        break;\n",
       "                    }\n",
       "                }\n",
       "            }, 500);\n",
       "            "
      ],
      "text/plain": [
       "<IPython.core.display.Javascript object>"
      ]
     },
     "metadata": {},
     "output_type": "display_data"
    }
   ],
   "source": [
    "null_rows = cleaning.null_rows(df)\n",
    "lang.readable_sample(null_rows[\"text\"], random_state=rando)"
   ]
  },
  {
   "cell_type": "markdown",
   "metadata": {},
   "source": [
    "Looks like some of the NaN values don't line up with the 'Neutral' category."
   ]
  },
  {
   "cell_type": "code",
   "execution_count": 15,
   "metadata": {
    "ExecuteTime": {
     "end_time": "2021-06-23T07:31:18.047528Z",
     "start_time": "2021-06-23T07:31:17.947529Z"
    }
   },
   "outputs": [
    {
     "data": {
      "text/html": [
       "<div>\n",
       "<style scoped>\n",
       "    .dataframe tbody tr th:only-of-type {\n",
       "        vertical-align: middle;\n",
       "    }\n",
       "\n",
       "    .dataframe tbody tr th {\n",
       "        vertical-align: top;\n",
       "    }\n",
       "\n",
       "    .dataframe thead th {\n",
       "        text-align: right;\n",
       "    }\n",
       "</style>\n",
       "<table border=\"1\" class=\"dataframe\">\n",
       "  <thead>\n",
       "    <tr style=\"text-align: right;\">\n",
       "      <th></th>\n",
       "      <th>text</th>\n",
       "      <th>object_of_emotion</th>\n",
       "      <th>emotion</th>\n",
       "    </tr>\n",
       "  </thead>\n",
       "  <tbody>\n",
       "    <tr>\n",
       "      <th>46</th>\n",
       "      <td>Hand-Held ���Hobo�۪: Drafthouse launches ���Ho...</td>\n",
       "      <td>NaN</td>\n",
       "      <td>Positive</td>\n",
       "    </tr>\n",
       "    <tr>\n",
       "      <th>64</th>\n",
       "      <td>Again? RT @mention Line at the Apple store is ...</td>\n",
       "      <td>NaN</td>\n",
       "      <td>Negative</td>\n",
       "    </tr>\n",
       "    <tr>\n",
       "      <th>68</th>\n",
       "      <td>Boooo! RT @mention Flipboard is developing an ...</td>\n",
       "      <td>NaN</td>\n",
       "      <td>Negative</td>\n",
       "    </tr>\n",
       "    <tr>\n",
       "      <th>103</th>\n",
       "      <td>Know that &amp;quot;dataviz&amp;quot; translates to &amp;q...</td>\n",
       "      <td>NaN</td>\n",
       "      <td>Negative</td>\n",
       "    </tr>\n",
       "    <tr>\n",
       "      <th>112</th>\n",
       "      <td>Spark for #android is up for a #teamandroid aw...</td>\n",
       "      <td>NaN</td>\n",
       "      <td>Positive</td>\n",
       "    </tr>\n",
       "  </tbody>\n",
       "</table>\n",
       "</div>"
      ],
      "text/plain": [
       "                                                  text object_of_emotion  \\\n",
       "46   Hand-Held ���Hobo�۪: Drafthouse launches ���Ho...               NaN   \n",
       "64   Again? RT @mention Line at the Apple store is ...               NaN   \n",
       "68   Boooo! RT @mention Flipboard is developing an ...               NaN   \n",
       "103  Know that &quot;dataviz&quot; translates to &q...               NaN   \n",
       "112  Spark for #android is up for a #teamandroid aw...               NaN   \n",
       "\n",
       "      emotion  \n",
       "46   Positive  \n",
       "64   Negative  \n",
       "68   Negative  \n",
       "103  Negative  \n",
       "112  Positive  "
      ]
     },
     "metadata": {},
     "output_type": "display_data"
    },
    {
     "data": {
      "text/plain": [
       "(357, 3)"
      ]
     },
     "metadata": {},
     "output_type": "display_data"
    },
    {
     "data": {
      "application/javascript": [
       "\n",
       "            setTimeout(function() {\n",
       "                var nbb_cell_id = 15;\n",
       "                var nbb_unformatted_code = \"emotion_without_object = null_rows.loc[null_rows.emotion != \\\"Neutral\\\"]\\n\\n# Delete variable\\ndel null_rows\\n\\ndisplay(emotion_without_object.head(), emotion_without_object.shape)\";\n",
       "                var nbb_formatted_code = \"emotion_without_object = null_rows.loc[null_rows.emotion != \\\"Neutral\\\"]\\n\\n# Delete variable\\ndel null_rows\\n\\ndisplay(emotion_without_object.head(), emotion_without_object.shape)\";\n",
       "                var nbb_cells = Jupyter.notebook.get_cells();\n",
       "                for (var i = 0; i < nbb_cells.length; ++i) {\n",
       "                    if (nbb_cells[i].input_prompt_number == nbb_cell_id) {\n",
       "                        if (nbb_cells[i].get_text() == nbb_unformatted_code) {\n",
       "                             nbb_cells[i].set_text(nbb_formatted_code);\n",
       "                        }\n",
       "                        break;\n",
       "                    }\n",
       "                }\n",
       "            }, 500);\n",
       "            "
      ],
      "text/plain": [
       "<IPython.core.display.Javascript object>"
      ]
     },
     "metadata": {},
     "output_type": "display_data"
    }
   ],
   "source": [
    "emotion_without_object = null_rows.loc[null_rows.emotion != \"Neutral\"]\n",
    "\n",
    "# Delete variable\n",
    "del null_rows\n",
    "\n",
    "display(emotion_without_object.head(), emotion_without_object.shape)"
   ]
  },
  {
   "cell_type": "code",
   "execution_count": 16,
   "metadata": {
    "ExecuteTime": {
     "end_time": "2021-06-23T07:31:18.147530Z",
     "start_time": "2021-06-23T07:31:18.048529Z"
    }
   },
   "outputs": [
    {
     "data": {
      "text/markdown": [
       "|      | text                                                                                                                                                  |\n",
       "|-----:|:------------------------------------------------------------------------------------------------------------------------------------------------------|\n",
       "| 3353 | Whoohoo! Got it! ;) RT @mention New #UberSocial for #iPhone now in the App Store includes UberGuide to #SXSW (cont) {link}                            |\n",
       "| 3928 | dancing with myself at google 80s party.... ain't that the truth! need my girl @mention up in this joint #SXSW {link}                                 |\n",
       "|  783 | Google to Launch Major New Social Network Called Circles, Possibly Today {link} #sxsw rt @mention via @mention                                        |\n",
       "| 1365 | @mention - re: &quot;lack of #SXSW newsworthy announcements&quot;. Unless you count Google Circles. :) #googlecircles                                 |\n",
       "| 5307 | RT @mention #SXSW News: Apple is getting into the music business? New device called an &quot;iPod&quot;. Like a compact disc player without the disk. |\n",
       "| 2447 | Near Field Communication already here on android phones. #SXSW #bemyneighbor                                                                          |\n",
       "| 7530 | #spiltbeer consequences of drunk techies #sxsw let's see what android has to offer compared to this.                                                  |\n",
       "| 5965 | RT @mention Having fun w/ @mention new Check-In's feature on iPhone | See @mention latest article &quot;Roll your own 4square&quot; {link} #SXSW      |\n",
       "| 3442 | Back in the big apple!  Need to wean off my new foursquare addiction thanks to #sxsw and @mention Do people really care where I am? Nah               |\n",
       "| 3780 | FYI @mention is working on an iPhone app, looking to release it this summer, hopefully. #SXSW #flipboard                                              |"
      ],
      "text/plain": [
       "<IPython.core.display.Markdown object>"
      ]
     },
     "metadata": {},
     "output_type": "display_data"
    },
    {
     "data": {
      "application/javascript": [
       "\n",
       "            setTimeout(function() {\n",
       "                var nbb_cell_id = 16;\n",
       "                var nbb_unformatted_code = \"lang.readable_sample(\\n    emotion_without_object.groupby(\\\"emotion\\\").get_group(\\\"Positive\\\").text,\\n    random_state=rando,\\n)\";\n",
       "                var nbb_formatted_code = \"lang.readable_sample(\\n    emotion_without_object.groupby(\\\"emotion\\\").get_group(\\\"Positive\\\").text,\\n    random_state=rando,\\n)\";\n",
       "                var nbb_cells = Jupyter.notebook.get_cells();\n",
       "                for (var i = 0; i < nbb_cells.length; ++i) {\n",
       "                    if (nbb_cells[i].input_prompt_number == nbb_cell_id) {\n",
       "                        if (nbb_cells[i].get_text() == nbb_unformatted_code) {\n",
       "                             nbb_cells[i].set_text(nbb_formatted_code);\n",
       "                        }\n",
       "                        break;\n",
       "                    }\n",
       "                }\n",
       "            }, 500);\n",
       "            "
      ],
      "text/plain": [
       "<IPython.core.display.Javascript object>"
      ]
     },
     "metadata": {},
     "output_type": "display_data"
    }
   ],
   "source": [
    "lang.readable_sample(\n",
    "    emotion_without_object.groupby(\"emotion\").get_group(\"Positive\").text,\n",
    "    random_state=rando,\n",
    ")"
   ]
  },
  {
   "cell_type": "code",
   "execution_count": 17,
   "metadata": {
    "ExecuteTime": {
     "end_time": "2021-06-23T07:31:18.262558Z",
     "start_time": "2021-06-23T07:31:18.148530Z"
    }
   },
   "outputs": [
    {
     "data": {
      "text/plain": [
       "google         122\n",
       "ipad            98\n",
       "apple           76\n",
       "iphone          57\n",
       "ipad2           26\n",
       "android         19\n",
       "iphone app       8\n",
       "ipad app         4\n",
       "ipad1            1\n",
       "android app      1\n",
       "Name: locate_patterns, dtype: int64"
      ]
     },
     "metadata": {},
     "output_type": "display_data"
    },
    {
     "data": {
      "text/plain": [
       "412"
      ]
     },
     "metadata": {},
     "output_type": "display_data"
    },
    {
     "data": {
      "application/javascript": [
       "\n",
       "            setTimeout(function() {\n",
       "                var nbb_cell_id = 17;\n",
       "                var nbb_unformatted_code = \"# Create regex for finding each brand\\nre_apple = r\\\"ipad\\\\d?\\\\s*app|ipad\\\\d?|iphone\\\\s*app|iphone|apple\\\"\\nre_google = r\\\"android\\\\s*app|android|google\\\"\\n\\n# Find all brand/product name occurrences for each brand\\nfindings = lang.locate_patterns(\\n    re_apple,\\n    re_google,\\n    docs=emotion_without_object[\\\"text\\\"],\\n    exclusive=True,\\n    flags=re.I,\\n)\\n\\n# Convert to lowercase\\nfindings = findings.str.lower()\\n\\n# View results\\ndisplay(\\n    findings.value_counts(),\\n    findings.size,\\n)\";\n",
       "                var nbb_formatted_code = \"# Create regex for finding each brand\\nre_apple = r\\\"ipad\\\\d?\\\\s*app|ipad\\\\d?|iphone\\\\s*app|iphone|apple\\\"\\nre_google = r\\\"android\\\\s*app|android|google\\\"\\n\\n# Find all brand/product name occurrences for each brand\\nfindings = lang.locate_patterns(\\n    re_apple,\\n    re_google,\\n    docs=emotion_without_object[\\\"text\\\"],\\n    exclusive=True,\\n    flags=re.I,\\n)\\n\\n# Convert to lowercase\\nfindings = findings.str.lower()\\n\\n# View results\\ndisplay(\\n    findings.value_counts(),\\n    findings.size,\\n)\";\n",
       "                var nbb_cells = Jupyter.notebook.get_cells();\n",
       "                for (var i = 0; i < nbb_cells.length; ++i) {\n",
       "                    if (nbb_cells[i].input_prompt_number == nbb_cell_id) {\n",
       "                        if (nbb_cells[i].get_text() == nbb_unformatted_code) {\n",
       "                             nbb_cells[i].set_text(nbb_formatted_code);\n",
       "                        }\n",
       "                        break;\n",
       "                    }\n",
       "                }\n",
       "            }, 500);\n",
       "            "
      ],
      "text/plain": [
       "<IPython.core.display.Javascript object>"
      ]
     },
     "metadata": {},
     "output_type": "display_data"
    }
   ],
   "source": [
    "# Create regex for finding each brand\n",
    "re_apple = r\"ipad\\d?\\s*app|ipad\\d?|iphone\\s*app|iphone|apple\"\n",
    "re_google = r\"android\\s*app|android|google\"\n",
    "\n",
    "# Find all brand/product name occurrences for each brand\n",
    "findings = lang.locate_patterns(\n",
    "    re_apple,\n",
    "    re_google,\n",
    "    docs=emotion_without_object[\"text\"],\n",
    "    exclusive=True,\n",
    "    flags=re.I,\n",
    ")\n",
    "\n",
    "# Convert to lowercase\n",
    "findings = findings.str.lower()\n",
    "\n",
    "# View results\n",
    "display(\n",
    "    findings.value_counts(),\n",
    "    findings.size,\n",
    ")"
   ]
  },
  {
   "cell_type": "code",
   "execution_count": 18,
   "metadata": {
    "ExecuteTime": {
     "end_time": "2021-06-23T07:31:18.496529Z",
     "start_time": "2021-06-23T07:31:18.263528Z"
    }
   },
   "outputs": [
    {
     "data": {
      "text/html": [
       "<div>\n",
       "<style scoped>\n",
       "    .dataframe tbody tr th:only-of-type {\n",
       "        vertical-align: middle;\n",
       "    }\n",
       "\n",
       "    .dataframe tbody tr th {\n",
       "        vertical-align: top;\n",
       "    }\n",
       "\n",
       "    .dataframe thead th {\n",
       "        text-align: right;\n",
       "    }\n",
       "</style>\n",
       "<table border=\"1\" class=\"dataframe\">\n",
       "  <thead>\n",
       "    <tr style=\"text-align: right;\">\n",
       "      <th></th>\n",
       "      <th>original</th>\n",
       "      <th>match</th>\n",
       "      <th>score</th>\n",
       "    </tr>\n",
       "  </thead>\n",
       "  <tbody>\n",
       "    <tr>\n",
       "      <th>5401</th>\n",
       "      <td>ipad2</td>\n",
       "      <td>iPad</td>\n",
       "      <td>89</td>\n",
       "    </tr>\n",
       "    <tr>\n",
       "      <th>3179</th>\n",
       "      <td>ipad2</td>\n",
       "      <td>iPad</td>\n",
       "      <td>89</td>\n",
       "    </tr>\n",
       "    <tr>\n",
       "      <th>8149</th>\n",
       "      <td>ipad2</td>\n",
       "      <td>iPad</td>\n",
       "      <td>89</td>\n",
       "    </tr>\n",
       "    <tr>\n",
       "      <th>6309</th>\n",
       "      <td>ipad2</td>\n",
       "      <td>iPad</td>\n",
       "      <td>89</td>\n",
       "    </tr>\n",
       "    <tr>\n",
       "      <th>3710</th>\n",
       "      <td>ipad2</td>\n",
       "      <td>iPad</td>\n",
       "      <td>89</td>\n",
       "    </tr>\n",
       "    <tr>\n",
       "      <th>...</th>\n",
       "      <td>...</td>\n",
       "      <td>...</td>\n",
       "      <td>...</td>\n",
       "    </tr>\n",
       "    <tr>\n",
       "      <th>3224</th>\n",
       "      <td>ipad</td>\n",
       "      <td>iPad</td>\n",
       "      <td>100</td>\n",
       "    </tr>\n",
       "    <tr>\n",
       "      <th>3179</th>\n",
       "      <td>ipad</td>\n",
       "      <td>iPad</td>\n",
       "      <td>100</td>\n",
       "    </tr>\n",
       "    <tr>\n",
       "      <th>3134</th>\n",
       "      <td>google</td>\n",
       "      <td>Google</td>\n",
       "      <td>100</td>\n",
       "    </tr>\n",
       "    <tr>\n",
       "      <th>3055</th>\n",
       "      <td>ipad</td>\n",
       "      <td>iPad</td>\n",
       "      <td>100</td>\n",
       "    </tr>\n",
       "    <tr>\n",
       "      <th>9054</th>\n",
       "      <td>ipad</td>\n",
       "      <td>iPad</td>\n",
       "      <td>100</td>\n",
       "    </tr>\n",
       "  </tbody>\n",
       "</table>\n",
       "<p>412 rows × 3 columns</p>\n",
       "</div>"
      ],
      "text/plain": [
       "     original   match  score\n",
       "5401    ipad2    iPad     89\n",
       "3179    ipad2    iPad     89\n",
       "8149    ipad2    iPad     89\n",
       "6309    ipad2    iPad     89\n",
       "3710    ipad2    iPad     89\n",
       "...       ...     ...    ...\n",
       "3224     ipad    iPad    100\n",
       "3179     ipad    iPad    100\n",
       "3134   google  Google    100\n",
       "3055     ipad    iPad    100\n",
       "9054     ipad    iPad    100\n",
       "\n",
       "[412 rows x 3 columns]"
      ]
     },
     "execution_count": 18,
     "metadata": {},
     "output_type": "execute_result"
    },
    {
     "data": {
      "application/javascript": [
       "\n",
       "            setTimeout(function() {\n",
       "                var nbb_cell_id = 18;\n",
       "                var nbb_unformatted_code = \"# Rename Apple apps to match categories defined previously\\nfindings = findings.str.replace(\\n    r\\\"ipad\\\\s+app|iphone\\\\s+app\\\", \\\"ios app\\\", case=False, regex=True\\n)\\n\\n# Fuzzy match with previously defined categories\\nfindings = lang.fuzzy_match(findings, df[\\\"object_of_emotion\\\"].cat.categories)\\n\\n# View results\\nfindings.sort_values(\\\"score\\\")\";\n",
       "                var nbb_formatted_code = \"# Rename Apple apps to match categories defined previously\\nfindings = findings.str.replace(\\n    r\\\"ipad\\\\s+app|iphone\\\\s+app\\\", \\\"ios app\\\", case=False, regex=True\\n)\\n\\n# Fuzzy match with previously defined categories\\nfindings = lang.fuzzy_match(findings, df[\\\"object_of_emotion\\\"].cat.categories)\\n\\n# View results\\nfindings.sort_values(\\\"score\\\")\";\n",
       "                var nbb_cells = Jupyter.notebook.get_cells();\n",
       "                for (var i = 0; i < nbb_cells.length; ++i) {\n",
       "                    if (nbb_cells[i].input_prompt_number == nbb_cell_id) {\n",
       "                        if (nbb_cells[i].get_text() == nbb_unformatted_code) {\n",
       "                             nbb_cells[i].set_text(nbb_formatted_code);\n",
       "                        }\n",
       "                        break;\n",
       "                    }\n",
       "                }\n",
       "            }, 500);\n",
       "            "
      ],
      "text/plain": [
       "<IPython.core.display.Javascript object>"
      ]
     },
     "metadata": {},
     "output_type": "display_data"
    }
   ],
   "source": [
    "# Rename Apple apps to match categories defined previously\n",
    "findings = findings.str.replace(\n",
    "    r\"ipad\\s+app|iphone\\s+app\", \"ios app\", case=False, regex=True\n",
    ")\n",
    "\n",
    "# Fuzzy match with previously defined categories\n",
    "findings = lang.fuzzy_match(findings, df[\"object_of_emotion\"].cat.categories)\n",
    "\n",
    "# View results\n",
    "findings.sort_values(\"score\")"
   ]
  },
  {
   "cell_type": "code",
   "execution_count": 19,
   "metadata": {
    "ExecuteTime": {
     "end_time": "2021-06-23T07:31:18.703529Z",
     "start_time": "2021-06-23T07:31:18.497526Z"
    },
    "run_control": {
     "marked": false
    }
   },
   "outputs": [
    {
     "data": {
      "text/html": [
       "<div>\n",
       "<style scoped>\n",
       "    .dataframe tbody tr th:only-of-type {\n",
       "        vertical-align: middle;\n",
       "    }\n",
       "\n",
       "    .dataframe tbody tr th {\n",
       "        vertical-align: top;\n",
       "    }\n",
       "\n",
       "    .dataframe thead th {\n",
       "        text-align: right;\n",
       "    }\n",
       "</style>\n",
       "<table border=\"1\" class=\"dataframe\">\n",
       "  <thead>\n",
       "    <tr style=\"text-align: right;\">\n",
       "      <th></th>\n",
       "      <th>text</th>\n",
       "      <th>object_of_emotion</th>\n",
       "      <th>emotion</th>\n",
       "    </tr>\n",
       "  </thead>\n",
       "  <tbody>\n",
       "    <tr>\n",
       "      <th>598</th>\n",
       "      <td>CNNMoney: Got a craving? #SXSW minds created a...</td>\n",
       "      <td>iPhone</td>\n",
       "      <td>Positive</td>\n",
       "    </tr>\n",
       "    <tr>\n",
       "      <th>5401</th>\n",
       "      <td>RT @mention Anyone at #sxsw want to make a qui...</td>\n",
       "      <td>iPad</td>\n",
       "      <td>Positive</td>\n",
       "    </tr>\n",
       "    <tr>\n",
       "      <th>5212</th>\n",
       "      <td>RT @mention #Apple saves #SXSW, set to open po...</td>\n",
       "      <td>Apple</td>\n",
       "      <td>Positive</td>\n",
       "    </tr>\n",
       "    <tr>\n",
       "      <th>639</th>\n",
       "      <td>Catch 22��_ I mean iPad 2 at #SXSW - {link} #a...</td>\n",
       "      <td>iPad</td>\n",
       "      <td>Positive</td>\n",
       "    </tr>\n",
       "    <tr>\n",
       "      <th>5586</th>\n",
       "      <td>RT @mention Buying iPad2? Turn in ur iPad1, Ap...</td>\n",
       "      <td>iPad</td>\n",
       "      <td>Positive</td>\n",
       "    </tr>\n",
       "    <tr>\n",
       "      <th>8898</th>\n",
       "      <td>@mention What's the wait time lookin like? The...</td>\n",
       "      <td>Apple</td>\n",
       "      <td>Positive</td>\n",
       "    </tr>\n",
       "    <tr>\n",
       "      <th>6371</th>\n",
       "      <td>RT @mention Nice! @mention just told me @menti...</td>\n",
       "      <td>iPad</td>\n",
       "      <td>Positive</td>\n",
       "    </tr>\n",
       "    <tr>\n",
       "      <th>7680</th>\n",
       "      <td>Google (tries again) to launch a new social ne...</td>\n",
       "      <td>Google</td>\n",
       "      <td>Negative</td>\n",
       "    </tr>\n",
       "    <tr>\n",
       "      <th>1813</th>\n",
       "      <td>3rd time a charm? All about privacy! RT @menti...</td>\n",
       "      <td>Google</td>\n",
       "      <td>Positive</td>\n",
       "    </tr>\n",
       "    <tr>\n",
       "      <th>1284</th>\n",
       "      <td>Trying to update software (4.0) on iPhone to d...</td>\n",
       "      <td>iPhone</td>\n",
       "      <td>Negative</td>\n",
       "    </tr>\n",
       "  </tbody>\n",
       "</table>\n",
       "</div>"
      ],
      "text/plain": [
       "                                                   text object_of_emotion  \\\n",
       "598   CNNMoney: Got a craving? #SXSW minds created a...            iPhone   \n",
       "5401  RT @mention Anyone at #sxsw want to make a qui...              iPad   \n",
       "5212  RT @mention #Apple saves #SXSW, set to open po...             Apple   \n",
       "639   Catch 22��_ I mean iPad 2 at #SXSW - {link} #a...              iPad   \n",
       "5586  RT @mention Buying iPad2? Turn in ur iPad1, Ap...              iPad   \n",
       "8898  @mention What's the wait time lookin like? The...             Apple   \n",
       "6371  RT @mention Nice! @mention just told me @menti...              iPad   \n",
       "7680  Google (tries again) to launch a new social ne...            Google   \n",
       "1813  3rd time a charm? All about privacy! RT @menti...            Google   \n",
       "1284  Trying to update software (4.0) on iPhone to d...            iPhone   \n",
       "\n",
       "       emotion  \n",
       "598   Positive  \n",
       "5401  Positive  \n",
       "5212  Positive  \n",
       "639   Positive  \n",
       "5586  Positive  \n",
       "8898  Positive  \n",
       "6371  Positive  \n",
       "7680  Negative  \n",
       "1813  Positive  \n",
       "1284  Negative  "
      ]
     },
     "execution_count": 19,
     "metadata": {},
     "output_type": "execute_result"
    },
    {
     "data": {
      "application/javascript": [
       "\n",
       "            setTimeout(function() {\n",
       "                var nbb_cell_id = 19;\n",
       "                var nbb_unformatted_code = \"# Define sort order, i.e. fill priority\\norder = [\\n    \\\"iOS App\\\",\\n    \\\"Android App\\\",\\n    \\\"iPhone\\\",\\n    \\\"iPad\\\",\\n    \\\"Android\\\",\\n    \\\"Apple\\\",\\n    \\\"Google\\\",\\n]\\n\\n# Sort values in reverse order\\nutils.explicit_sort(\\n    findings,\\n    order=order,\\n    by=\\\"match\\\",\\n    ascending=False,\\n    inplace=True,\\n)\\n\\n# Fill in reverse, overwriting lower priority values\\nfor i, brand in findings.match.items():\\n    df.at[i, \\\"object_of_emotion\\\"] = brand\\ndf.loc[findings.index].sample(10, random_state=rando)\";\n",
       "                var nbb_formatted_code = \"# Define sort order, i.e. fill priority\\norder = [\\n    \\\"iOS App\\\",\\n    \\\"Android App\\\",\\n    \\\"iPhone\\\",\\n    \\\"iPad\\\",\\n    \\\"Android\\\",\\n    \\\"Apple\\\",\\n    \\\"Google\\\",\\n]\\n\\n# Sort values in reverse order\\nutils.explicit_sort(\\n    findings,\\n    order=order,\\n    by=\\\"match\\\",\\n    ascending=False,\\n    inplace=True,\\n)\\n\\n# Fill in reverse, overwriting lower priority values\\nfor i, brand in findings.match.items():\\n    df.at[i, \\\"object_of_emotion\\\"] = brand\\ndf.loc[findings.index].sample(10, random_state=rando)\";\n",
       "                var nbb_cells = Jupyter.notebook.get_cells();\n",
       "                for (var i = 0; i < nbb_cells.length; ++i) {\n",
       "                    if (nbb_cells[i].input_prompt_number == nbb_cell_id) {\n",
       "                        if (nbb_cells[i].get_text() == nbb_unformatted_code) {\n",
       "                             nbb_cells[i].set_text(nbb_formatted_code);\n",
       "                        }\n",
       "                        break;\n",
       "                    }\n",
       "                }\n",
       "            }, 500);\n",
       "            "
      ],
      "text/plain": [
       "<IPython.core.display.Javascript object>"
      ]
     },
     "metadata": {},
     "output_type": "display_data"
    }
   ],
   "source": [
    "# Define sort order, i.e. fill priority\n",
    "order = [\n",
    "    \"iOS App\",\n",
    "    \"Android App\",\n",
    "    \"iPhone\",\n",
    "    \"iPad\",\n",
    "    \"Android\",\n",
    "    \"Apple\",\n",
    "    \"Google\",\n",
    "]\n",
    "\n",
    "# Sort values in reverse order\n",
    "utils.explicit_sort(\n",
    "    findings,\n",
    "    order=order,\n",
    "    by=\"match\",\n",
    "    ascending=False,\n",
    "    inplace=True,\n",
    ")\n",
    "\n",
    "# Fill in reverse, overwriting lower priority values\n",
    "for i, brand in findings.match.items():\n",
    "    df.at[i, \"object_of_emotion\"] = brand\n",
    "df.loc[findings.index].sample(10, random_state=rando)"
   ]
  },
  {
   "cell_type": "code",
   "execution_count": 20,
   "metadata": {
    "ExecuteTime": {
     "end_time": "2021-06-23T07:31:18.803528Z",
     "start_time": "2021-06-23T07:31:18.704530Z"
    },
    "run_control": {
     "marked": false
    }
   },
   "outputs": [
    {
     "name": "stdout",
     "output_type": "stream",
     "text": [
      "24 observations dropped.\n"
     ]
    },
    {
     "data": {
      "application/javascript": [
       "\n",
       "            setTimeout(function() {\n",
       "                var nbb_cell_id = 20;\n",
       "                var nbb_unformatted_code = \"# Get indices which were not filled\\nemotion_without_object.drop(findings.index, inplace=True)\\n\\n# Drop unfilled observations\\ndf.drop(emotion_without_object.index, inplace=True)\\n\\nprint(f\\\"{emotion_without_object.shape[0]} observations dropped.\\\")\\n\\ndel emotion_without_object\";\n",
       "                var nbb_formatted_code = \"# Get indices which were not filled\\nemotion_without_object.drop(findings.index, inplace=True)\\n\\n# Drop unfilled observations\\ndf.drop(emotion_without_object.index, inplace=True)\\n\\nprint(f\\\"{emotion_without_object.shape[0]} observations dropped.\\\")\\n\\ndel emotion_without_object\";\n",
       "                var nbb_cells = Jupyter.notebook.get_cells();\n",
       "                for (var i = 0; i < nbb_cells.length; ++i) {\n",
       "                    if (nbb_cells[i].input_prompt_number == nbb_cell_id) {\n",
       "                        if (nbb_cells[i].get_text() == nbb_unformatted_code) {\n",
       "                             nbb_cells[i].set_text(nbb_formatted_code);\n",
       "                        }\n",
       "                        break;\n",
       "                    }\n",
       "                }\n",
       "            }, 500);\n",
       "            "
      ],
      "text/plain": [
       "<IPython.core.display.Javascript object>"
      ]
     },
     "metadata": {},
     "output_type": "display_data"
    }
   ],
   "source": [
    "# Get indices which were not filled\n",
    "emotion_without_object.drop(findings.index, inplace=True)\n",
    "\n",
    "# Drop unfilled observations\n",
    "df.drop(emotion_without_object.index, inplace=True)\n",
    "\n",
    "print(f\"{emotion_without_object.shape[0]} observations dropped.\")\n",
    "\n",
    "del emotion_without_object"
   ]
  },
  {
   "cell_type": "code",
   "execution_count": 21,
   "metadata": {
    "ExecuteTime": {
     "end_time": "2021-06-23T07:31:18.904529Z",
     "start_time": "2021-06-23T07:31:18.804528Z"
    },
    "scrolled": true
   },
   "outputs": [
    {
     "data": {
      "text/html": [
       "<div>\n",
       "<style scoped>\n",
       "    .dataframe tbody tr th:only-of-type {\n",
       "        vertical-align: middle;\n",
       "    }\n",
       "\n",
       "    .dataframe tbody tr th {\n",
       "        vertical-align: top;\n",
       "    }\n",
       "\n",
       "    .dataframe thead th {\n",
       "        text-align: right;\n",
       "    }\n",
       "</style>\n",
       "<table border=\"1\" class=\"dataframe\">\n",
       "  <thead>\n",
       "    <tr style=\"text-align: right;\">\n",
       "      <th></th>\n",
       "      <th>text</th>\n",
       "      <th>object_of_emotion</th>\n",
       "      <th>emotion</th>\n",
       "    </tr>\n",
       "  </thead>\n",
       "  <tbody>\n",
       "    <tr>\n",
       "      <th>63</th>\n",
       "      <td>#Smile RT @mention I think Apple's &amp;quot;pop-u...</td>\n",
       "      <td>Apple</td>\n",
       "      <td>Neutral</td>\n",
       "    </tr>\n",
       "    <tr>\n",
       "      <th>265</th>\n",
       "      <td>The #SXSW Apple &amp;quot;pop-up&amp;quot; store was n...</td>\n",
       "      <td>Apple</td>\n",
       "      <td>Neutral</td>\n",
       "    </tr>\n",
       "    <tr>\n",
       "      <th>317</th>\n",
       "      <td>I arrived at #sxsw and my @mention issue hasn'...</td>\n",
       "      <td>iOS App</td>\n",
       "      <td>Neutral</td>\n",
       "    </tr>\n",
       "    <tr>\n",
       "      <th>558</th>\n",
       "      <td>haha. the google &amp;quot;Party like it's 1986&amp;qu...</td>\n",
       "      <td>Google</td>\n",
       "      <td>Neutral</td>\n",
       "    </tr>\n",
       "    <tr>\n",
       "      <th>588</th>\n",
       "      <td>Diller on Google TV: &amp;quot;The first product w...</td>\n",
       "      <td>Other Google Product</td>\n",
       "      <td>Neutral</td>\n",
       "    </tr>\n",
       "  </tbody>\n",
       "</table>\n",
       "</div>"
      ],
      "text/plain": [
       "                                                  text     object_of_emotion  \\\n",
       "63   #Smile RT @mention I think Apple's &quot;pop-u...                 Apple   \n",
       "265  The #SXSW Apple &quot;pop-up&quot; store was n...                 Apple   \n",
       "317  I arrived at #sxsw and my @mention issue hasn'...               iOS App   \n",
       "558  haha. the google &quot;Party like it's 1986&qu...                Google   \n",
       "588  Diller on Google TV: &quot;The first product w...  Other Google Product   \n",
       "\n",
       "     emotion  \n",
       "63   Neutral  \n",
       "265  Neutral  \n",
       "317  Neutral  \n",
       "558  Neutral  \n",
       "588  Neutral  "
      ]
     },
     "metadata": {},
     "output_type": "display_data"
    },
    {
     "data": {
      "text/plain": [
       "(91, 3)"
      ]
     },
     "metadata": {},
     "output_type": "display_data"
    },
    {
     "data": {
      "application/javascript": [
       "\n",
       "            setTimeout(function() {\n",
       "                var nbb_cell_id = 21;\n",
       "                var nbb_unformatted_code = \"object_without_emotion = df.loc[\\n    (df.emotion == \\\"Neutral\\\") & df.object_of_emotion.notnull()\\n]\\ndisplay(object_without_emotion.head(), object_without_emotion.shape)\";\n",
       "                var nbb_formatted_code = \"object_without_emotion = df.loc[\\n    (df.emotion == \\\"Neutral\\\") & df.object_of_emotion.notnull()\\n]\\ndisplay(object_without_emotion.head(), object_without_emotion.shape)\";\n",
       "                var nbb_cells = Jupyter.notebook.get_cells();\n",
       "                for (var i = 0; i < nbb_cells.length; ++i) {\n",
       "                    if (nbb_cells[i].input_prompt_number == nbb_cell_id) {\n",
       "                        if (nbb_cells[i].get_text() == nbb_unformatted_code) {\n",
       "                             nbb_cells[i].set_text(nbb_formatted_code);\n",
       "                        }\n",
       "                        break;\n",
       "                    }\n",
       "                }\n",
       "            }, 500);\n",
       "            "
      ],
      "text/plain": [
       "<IPython.core.display.Javascript object>"
      ]
     },
     "metadata": {},
     "output_type": "display_data"
    }
   ],
   "source": [
    "object_without_emotion = df.loc[\n",
    "    (df.emotion == \"Neutral\") & df.object_of_emotion.notnull()\n",
    "]\n",
    "display(object_without_emotion.head(), object_without_emotion.shape)"
   ]
  },
  {
   "cell_type": "markdown",
   "metadata": {},
   "source": [
    "Tweet 6517 seems clearly negative to me, and 7137 seems kind of sardonic. 2666 seems weakly positive. 8647, 5696, 7521, 668, and 265 don't seem to express an emotion toward a brand or product. Since most of them seem neutral to me, and that's consistent with their 'Neutral' label, I'm going to keep them that way."
   ]
  },
  {
   "cell_type": "code",
   "execution_count": 22,
   "metadata": {
    "ExecuteTime": {
     "end_time": "2021-06-23T07:31:19.002529Z",
     "start_time": "2021-06-23T07:31:18.907527Z"
    }
   },
   "outputs": [
    {
     "data": {
      "text/markdown": [
       "|      | text                                                                                                                                                       |\n",
       "|-----:|:-----------------------------------------------------------------------------------------------------------------------------------------------------------|\n",
       "| 6127 | RT @mention In iPad Design Headaches: Take Two Tablets, Call Me in the AM panel - excited to hear @mention live! #sxsw                                     |\n",
       "| 8271 | Google Hot Pot - what the whattt pot....#SXSW                                                                                                              |\n",
       "| 1628 | @mention @mention Similarily, Tweetcaster for Android lets you zip tweets w annoying hash tags, like #sxsw                                                 |\n",
       "| 6517 | RT @mention RT @mention Best thing I've heard this weekend at #SXSW &quot;I gave my iPad 2 money to #Japan relief. I don't need an iPad 2.&quot; (@mention |\n",
       "| 8849 | We can't wait to give an iPad to someone at #sxsw. Want in? Just head to www.pep.jobs/upc to enter. (must be present to win)                               |\n",
       "| 3011 | #iPad interface/controls should be at the top, mobile controls at the bottom. #tapworthy #sxsw                                                             |\n",
       "|  787 | Google to Launch Major New Social Network Called Circles, Possibly Today {link} #sxsw�۝ @mention                                                           |\n",
       "| 4826 | Talking to a 15 year old iPhone developer genius who came to SXSW with his proud dad. #SXSW @mention BD Riley's Irish Pub {link}                           |\n",
       "| 1276 | Apple has two Austin-area retail locations but in anticipation of all the gadget ...  #ipad #sxsw #gadgets {link}                                          |\n",
       "| 7173 | ipad is not a game changer just a new game, its a about multiplicity and options not either or, but someone has to p[ay for content! #sxsw                 |"
      ],
      "text/plain": [
       "<IPython.core.display.Markdown object>"
      ]
     },
     "metadata": {},
     "output_type": "display_data"
    },
    {
     "data": {
      "application/javascript": [
       "\n",
       "            setTimeout(function() {\n",
       "                var nbb_cell_id = 22;\n",
       "                var nbb_unformatted_code = \"lang.readable_sample(object_without_emotion[\\\"text\\\"], random_state=rando)\";\n",
       "                var nbb_formatted_code = \"lang.readable_sample(object_without_emotion[\\\"text\\\"], random_state=rando)\";\n",
       "                var nbb_cells = Jupyter.notebook.get_cells();\n",
       "                for (var i = 0; i < nbb_cells.length; ++i) {\n",
       "                    if (nbb_cells[i].input_prompt_number == nbb_cell_id) {\n",
       "                        if (nbb_cells[i].get_text() == nbb_unformatted_code) {\n",
       "                             nbb_cells[i].set_text(nbb_formatted_code);\n",
       "                        }\n",
       "                        break;\n",
       "                    }\n",
       "                }\n",
       "            }, 500);\n",
       "            "
      ],
      "text/plain": [
       "<IPython.core.display.Javascript object>"
      ]
     },
     "metadata": {},
     "output_type": "display_data"
    }
   ],
   "source": [
    "lang.readable_sample(object_without_emotion[\"text\"], random_state=rando)"
   ]
  },
  {
   "cell_type": "code",
   "execution_count": 23,
   "metadata": {
    "ExecuteTime": {
     "end_time": "2021-06-23T07:31:19.101529Z",
     "start_time": "2021-06-23T07:31:19.004531Z"
    }
   },
   "outputs": [
    {
     "data": {
      "text/plain": [
       "True"
      ]
     },
     "execution_count": 23,
     "metadata": {},
     "output_type": "execute_result"
    },
    {
     "data": {
      "application/javascript": [
       "\n",
       "            setTimeout(function() {\n",
       "                var nbb_cell_id = 23;\n",
       "                var nbb_unformatted_code = \"# Set object to null where emotion is neutral\\ndf.loc[object_without_emotion.index, \\\"object_of_emotion\\\"] = np.nan\\n\\n# Ensure that 'Neutral' rows line up with 'NaN' rows\\n(df[\\\"emotion\\\"] == \\\"Neutral\\\").equals(df[\\\"object_of_emotion\\\"].isnull())\";\n",
       "                var nbb_formatted_code = \"# Set object to null where emotion is neutral\\ndf.loc[object_without_emotion.index, \\\"object_of_emotion\\\"] = np.nan\\n\\n# Ensure that 'Neutral' rows line up with 'NaN' rows\\n(df[\\\"emotion\\\"] == \\\"Neutral\\\").equals(df[\\\"object_of_emotion\\\"].isnull())\";\n",
       "                var nbb_cells = Jupyter.notebook.get_cells();\n",
       "                for (var i = 0; i < nbb_cells.length; ++i) {\n",
       "                    if (nbb_cells[i].input_prompt_number == nbb_cell_id) {\n",
       "                        if (nbb_cells[i].get_text() == nbb_unformatted_code) {\n",
       "                             nbb_cells[i].set_text(nbb_formatted_code);\n",
       "                        }\n",
       "                        break;\n",
       "                    }\n",
       "                }\n",
       "            }, 500);\n",
       "            "
      ],
      "text/plain": [
       "<IPython.core.display.Javascript object>"
      ]
     },
     "metadata": {},
     "output_type": "display_data"
    }
   ],
   "source": [
    "# Set object to null where emotion is neutral\n",
    "df.loc[object_without_emotion.index, \"object_of_emotion\"] = np.nan\n",
    "\n",
    "# Ensure that 'Neutral' rows line up with 'NaN' rows\n",
    "(df[\"emotion\"] == \"Neutral\").equals(df[\"object_of_emotion\"].isnull())"
   ]
  },
  {
   "cell_type": "code",
   "execution_count": 24,
   "metadata": {
    "ExecuteTime": {
     "end_time": "2021-06-23T07:31:19.532529Z",
     "start_time": "2021-06-23T07:31:19.102528Z"
    }
   },
   "outputs": [
    {
     "data": {
      "image/png": "[encoded data removed]",
      "text/plain": [
       "<Figure size 1080x360 with 3 Axes>"
      ]
     },
     "metadata": {
      "needs_background": "light"
     },
     "output_type": "display_data"
    },
    {
     "data": {
      "application/javascript": [
       "\n",
       "            setTimeout(function() {\n",
       "                var nbb_cell_id = 24;\n",
       "                var nbb_unformatted_code = \"fig = plotting.countplot(df.select_dtypes(\\\"category\\\"), normalize=1)\";\n",
       "                var nbb_formatted_code = \"fig = plotting.countplot(df.select_dtypes(\\\"category\\\"), normalize=1)\";\n",
       "                var nbb_cells = Jupyter.notebook.get_cells();\n",
       "                for (var i = 0; i < nbb_cells.length; ++i) {\n",
       "                    if (nbb_cells[i].input_prompt_number == nbb_cell_id) {\n",
       "                        if (nbb_cells[i].get_text() == nbb_unformatted_code) {\n",
       "                             nbb_cells[i].set_text(nbb_formatted_code);\n",
       "                        }\n",
       "                        break;\n",
       "                    }\n",
       "                }\n",
       "            }, 500);\n",
       "            "
      ],
      "text/plain": [
       "<IPython.core.display.Javascript object>"
      ]
     },
     "metadata": {},
     "output_type": "display_data"
    }
   ],
   "source": [
    "fig = plotting.countplot(df.select_dtypes(\"category\"), normalize=1)"
   ]
  },
  {
   "cell_type": "markdown",
   "metadata": {},
   "source": [
    "There are $22$ duplicate rows, but I'm not going to remove them yet. I'll dynamically remove duplicates as part of my preprocessing pipeline so I can catch as many as possible."
   ]
  },
  {
   "cell_type": "code",
   "execution_count": 25,
   "metadata": {
    "ExecuteTime": {
     "end_time": "2021-06-23T07:31:19.642528Z",
     "start_time": "2021-06-23T07:31:19.533532Z"
    }
   },
   "outputs": [
    {
     "data": {
      "text/html": [
       "<div>\n",
       "<style scoped>\n",
       "    .dataframe tbody tr th:only-of-type {\n",
       "        vertical-align: middle;\n",
       "    }\n",
       "\n",
       "    .dataframe tbody tr th {\n",
       "        vertical-align: top;\n",
       "    }\n",
       "\n",
       "    .dataframe thead th {\n",
       "        text-align: right;\n",
       "    }\n",
       "</style>\n",
       "<table border=\"1\" class=\"dataframe\">\n",
       "  <thead>\n",
       "    <tr style=\"text-align: right;\">\n",
       "      <th></th>\n",
       "      <th>text</th>\n",
       "      <th>object_of_emotion</th>\n",
       "      <th>emotion</th>\n",
       "    </tr>\n",
       "  </thead>\n",
       "  <tbody>\n",
       "    <tr>\n",
       "      <th>3962</th>\n",
       "      <td>#SXSW is just starting, #CTIA is around the co...</td>\n",
       "      <td>Android</td>\n",
       "      <td>Positive</td>\n",
       "    </tr>\n",
       "    <tr>\n",
       "      <th>468</th>\n",
       "      <td>Before It Even Begins, Apple Wins #SXSW {link}</td>\n",
       "      <td>Apple</td>\n",
       "      <td>Positive</td>\n",
       "    </tr>\n",
       "    <tr>\n",
       "      <th>2559</th>\n",
       "      <td>Counting down the days to #sxsw plus strong Ca...</td>\n",
       "      <td>Apple</td>\n",
       "      <td>Positive</td>\n",
       "    </tr>\n",
       "    <tr>\n",
       "      <th>776</th>\n",
       "      <td>Google to Launch Major New Social Network Call...</td>\n",
       "      <td>NaN</td>\n",
       "      <td>Neutral</td>\n",
       "    </tr>\n",
       "    <tr>\n",
       "      <th>8483</th>\n",
       "      <td>I just noticed DST is coming this weekend. How...</td>\n",
       "      <td>iPhone</td>\n",
       "      <td>Negative</td>\n",
       "    </tr>\n",
       "    <tr>\n",
       "      <th>2232</th>\n",
       "      <td>Marissa Mayer: Google Will Connect the Digital...</td>\n",
       "      <td>NaN</td>\n",
       "      <td>Neutral</td>\n",
       "    </tr>\n",
       "    <tr>\n",
       "      <th>8747</th>\n",
       "      <td>Need to buy an iPad2 while I'm in Austin at #s...</td>\n",
       "      <td>iPad</td>\n",
       "      <td>Positive</td>\n",
       "    </tr>\n",
       "    <tr>\n",
       "      <th>4897</th>\n",
       "      <td>Oh. My. God. The #SXSW app for iPad is pure, u...</td>\n",
       "      <td>iOS App</td>\n",
       "      <td>Positive</td>\n",
       "    </tr>\n",
       "    <tr>\n",
       "      <th>5884</th>\n",
       "      <td>RT @mention Google to Launch Major New Social ...</td>\n",
       "      <td>NaN</td>\n",
       "      <td>Neutral</td>\n",
       "    </tr>\n",
       "    <tr>\n",
       "      <th>5882</th>\n",
       "      <td>RT @mention Google to Launch Major New Social ...</td>\n",
       "      <td>NaN</td>\n",
       "      <td>Neutral</td>\n",
       "    </tr>\n",
       "    <tr>\n",
       "      <th>5881</th>\n",
       "      <td>RT @mention Google to Launch Major New Social ...</td>\n",
       "      <td>NaN</td>\n",
       "      <td>Neutral</td>\n",
       "    </tr>\n",
       "    <tr>\n",
       "      <th>5883</th>\n",
       "      <td>RT @mention Google to Launch Major New Social ...</td>\n",
       "      <td>NaN</td>\n",
       "      <td>Neutral</td>\n",
       "    </tr>\n",
       "    <tr>\n",
       "      <th>5885</th>\n",
       "      <td>RT @mention Google to Launch Major New Social ...</td>\n",
       "      <td>NaN</td>\n",
       "      <td>Neutral</td>\n",
       "    </tr>\n",
       "    <tr>\n",
       "      <th>6297</th>\n",
       "      <td>RT @mention Marissa Mayer: Google Will Connect...</td>\n",
       "      <td>NaN</td>\n",
       "      <td>Neutral</td>\n",
       "    </tr>\n",
       "    <tr>\n",
       "      <th>6299</th>\n",
       "      <td>RT @mention Marissa Mayer: Google Will Connect...</td>\n",
       "      <td>NaN</td>\n",
       "      <td>Neutral</td>\n",
       "    </tr>\n",
       "    <tr>\n",
       "      <th>6296</th>\n",
       "      <td>RT @mention Marissa Mayer: Google Will Connect...</td>\n",
       "      <td>Google</td>\n",
       "      <td>Positive</td>\n",
       "    </tr>\n",
       "    <tr>\n",
       "      <th>6298</th>\n",
       "      <td>RT @mention Marissa Mayer: Google Will Connect...</td>\n",
       "      <td>Google</td>\n",
       "      <td>Positive</td>\n",
       "    </tr>\n",
       "    <tr>\n",
       "      <th>6300</th>\n",
       "      <td>RT @mention Marissa Mayer: Google Will Connect...</td>\n",
       "      <td>NaN</td>\n",
       "      <td>Neutral</td>\n",
       "    </tr>\n",
       "    <tr>\n",
       "      <th>6546</th>\n",
       "      <td>RT @mention RT @mention Google to Launch Major...</td>\n",
       "      <td>NaN</td>\n",
       "      <td>Neutral</td>\n",
       "    </tr>\n",
       "    <tr>\n",
       "      <th>5338</th>\n",
       "      <td>RT @mention ��� GO BEYOND BORDERS! ��_ {link} ...</td>\n",
       "      <td>NaN</td>\n",
       "      <td>Neutral</td>\n",
       "    </tr>\n",
       "    <tr>\n",
       "      <th>5341</th>\n",
       "      <td>RT @mention ��� Happy Woman's Day! Make love, ...</td>\n",
       "      <td>NaN</td>\n",
       "      <td>Neutral</td>\n",
       "    </tr>\n",
       "    <tr>\n",
       "      <th>3950</th>\n",
       "      <td>Really enjoying the changes in Gowalla 3.0 for...</td>\n",
       "      <td>Android App</td>\n",
       "      <td>Positive</td>\n",
       "    </tr>\n",
       "  </tbody>\n",
       "</table>\n",
       "</div>"
      ],
      "text/plain": [
       "                                                   text object_of_emotion  \\\n",
       "3962  #SXSW is just starting, #CTIA is around the co...           Android   \n",
       "468      Before It Even Begins, Apple Wins #SXSW {link}             Apple   \n",
       "2559  Counting down the days to #sxsw plus strong Ca...             Apple   \n",
       "776   Google to Launch Major New Social Network Call...               NaN   \n",
       "8483  I just noticed DST is coming this weekend. How...            iPhone   \n",
       "2232  Marissa Mayer: Google Will Connect the Digital...               NaN   \n",
       "8747  Need to buy an iPad2 while I'm in Austin at #s...              iPad   \n",
       "4897  Oh. My. God. The #SXSW app for iPad is pure, u...           iOS App   \n",
       "5884  RT @mention Google to Launch Major New Social ...               NaN   \n",
       "5882  RT @mention Google to Launch Major New Social ...               NaN   \n",
       "5881  RT @mention Google to Launch Major New Social ...               NaN   \n",
       "5883  RT @mention Google to Launch Major New Social ...               NaN   \n",
       "5885  RT @mention Google to Launch Major New Social ...               NaN   \n",
       "6297  RT @mention Marissa Mayer: Google Will Connect...               NaN   \n",
       "6299  RT @mention Marissa Mayer: Google Will Connect...               NaN   \n",
       "6296  RT @mention Marissa Mayer: Google Will Connect...            Google   \n",
       "6298  RT @mention Marissa Mayer: Google Will Connect...            Google   \n",
       "6300  RT @mention Marissa Mayer: Google Will Connect...               NaN   \n",
       "6546  RT @mention RT @mention Google to Launch Major...               NaN   \n",
       "5338  RT @mention ��� GO BEYOND BORDERS! ��_ {link} ...               NaN   \n",
       "5341  RT @mention ��� Happy Woman's Day! Make love, ...               NaN   \n",
       "3950  Really enjoying the changes in Gowalla 3.0 for...       Android App   \n",
       "\n",
       "       emotion  \n",
       "3962  Positive  \n",
       "468   Positive  \n",
       "2559  Positive  \n",
       "776    Neutral  \n",
       "8483  Negative  \n",
       "2232   Neutral  \n",
       "8747  Positive  \n",
       "4897  Positive  \n",
       "5884   Neutral  \n",
       "5882   Neutral  \n",
       "5881   Neutral  \n",
       "5883   Neutral  \n",
       "5885   Neutral  \n",
       "6297   Neutral  \n",
       "6299   Neutral  \n",
       "6296  Positive  \n",
       "6298  Positive  \n",
       "6300   Neutral  \n",
       "6546   Neutral  \n",
       "5338   Neutral  \n",
       "5341   Neutral  \n",
       "3950  Positive  "
      ]
     },
     "execution_count": 25,
     "metadata": {},
     "output_type": "execute_result"
    },
    {
     "data": {
      "application/javascript": [
       "\n",
       "            setTimeout(function() {\n",
       "                var nbb_cell_id = 25;\n",
       "                var nbb_unformatted_code = \"cleaning.dup_rows(df).sort_values(\\\"text\\\")\";\n",
       "                var nbb_formatted_code = \"cleaning.dup_rows(df).sort_values(\\\"text\\\")\";\n",
       "                var nbb_cells = Jupyter.notebook.get_cells();\n",
       "                for (var i = 0; i < nbb_cells.length; ++i) {\n",
       "                    if (nbb_cells[i].input_prompt_number == nbb_cell_id) {\n",
       "                        if (nbb_cells[i].get_text() == nbb_unformatted_code) {\n",
       "                             nbb_cells[i].set_text(nbb_formatted_code);\n",
       "                        }\n",
       "                        break;\n",
       "                    }\n",
       "                }\n",
       "            }, 500);\n",
       "            "
      ],
      "text/plain": [
       "<IPython.core.display.Javascript object>"
      ]
     },
     "metadata": {},
     "output_type": "display_data"
    }
   ],
   "source": [
    "cleaning.dup_rows(df).sort_values(\"text\")"
   ]
  },
  {
   "cell_type": "code",
   "execution_count": 26,
   "metadata": {
    "ExecuteTime": {
     "end_time": "2021-06-23T07:31:19.745527Z",
     "start_time": "2021-06-23T07:31:19.643527Z"
    }
   },
   "outputs": [
    {
     "data": {
      "text/plain": [
       "lowercase             FunctionTransformer(func=<function lowercase a...\n",
       "strip_short           FunctionTransformer(func=<function strip_short...\n",
       "strip_punct           FunctionTransformer(func=functools.partial(<fu...\n",
       "strip_multiwhite      FunctionTransformer(func=<function strip_multi...\n",
       "strip_numeric         FunctionTransformer(func=<function strip_numer...\n",
       "strip_non_alphanum    FunctionTransformer(func=<function strip_non_a...\n",
       "split_alphanum        FunctionTransformer(func=<function split_alpha...\n",
       "uni2ascii             FunctionTransformer(func=<function uni2ascii a...\n",
       "stem_text             FunctionTransformer(func=<function stem_text a...\n",
       "strip_handles         FunctionTransformer(func=<function strip_handl...\n",
       "limit_repeats         FunctionTransformer(func=<function limit_repea...\n",
       "wordnet_lemmatize     FunctionTransformer(func=<function wordnet_lem...\n",
       "dtype: object"
      ]
     },
     "execution_count": 26,
     "metadata": {},
     "output_type": "execute_result"
    },
    {
     "data": {
      "application/javascript": [
       "\n",
       "            setTimeout(function() {\n",
       "                var nbb_cell_id = 26;\n",
       "                var nbb_unformatted_code = \"funcs = [\\n    lang.lowercase,\\n    lang.strip_short,\\n    partial(lang.strip_punct, exclude=\\\"@#!?\\\"),\\n    lang.strip_multiwhite,\\n    lang.strip_numeric,\\n    lang.strip_non_alphanum,\\n    lang.split_alphanum,\\n    lang.uni2ascii,\\n    lang.stem_text,\\n    lang.strip_handles,\\n    lang.limit_repeats,\\n    lang.wordnet_lemmatize,\\n    lang.stem_text,\\n]\\n\\nfunc_names = utils.get_func_name(funcs)\\n\\nfuncs = [FunctionTransformer(func=x) for x in funcs]\\n\\nfuncs = pd.Series(dict(zip(func_names, funcs)))\\nfuncs\";\n",
       "                var nbb_formatted_code = \"funcs = [\\n    lang.lowercase,\\n    lang.strip_short,\\n    partial(lang.strip_punct, exclude=\\\"@#!?\\\"),\\n    lang.strip_multiwhite,\\n    lang.strip_numeric,\\n    lang.strip_non_alphanum,\\n    lang.split_alphanum,\\n    lang.uni2ascii,\\n    lang.stem_text,\\n    lang.strip_handles,\\n    lang.limit_repeats,\\n    lang.wordnet_lemmatize,\\n    lang.stem_text,\\n]\\n\\nfunc_names = utils.get_func_name(funcs)\\n\\nfuncs = [FunctionTransformer(func=x) for x in funcs]\\n\\nfuncs = pd.Series(dict(zip(func_names, funcs)))\\nfuncs\";\n",
       "                var nbb_cells = Jupyter.notebook.get_cells();\n",
       "                for (var i = 0; i < nbb_cells.length; ++i) {\n",
       "                    if (nbb_cells[i].input_prompt_number == nbb_cell_id) {\n",
       "                        if (nbb_cells[i].get_text() == nbb_unformatted_code) {\n",
       "                             nbb_cells[i].set_text(nbb_formatted_code);\n",
       "                        }\n",
       "                        break;\n",
       "                    }\n",
       "                }\n",
       "            }, 500);\n",
       "            "
      ],
      "text/plain": [
       "<IPython.core.display.Javascript object>"
      ]
     },
     "metadata": {},
     "output_type": "display_data"
    }
   ],
   "source": [
    "funcs = [\n",
    "    lang.lowercase,\n",
    "    lang.strip_short,\n",
    "    partial(lang.strip_punct, exclude=\"@#!?\"),\n",
    "    lang.strip_multiwhite,\n",
    "    lang.strip_numeric,\n",
    "    lang.strip_non_alphanum,\n",
    "    lang.split_alphanum,\n",
    "    lang.uni2ascii,\n",
    "    lang.stem_text,\n",
    "    lang.strip_handles,\n",
    "    lang.limit_repeats,\n",
    "    lang.wordnet_lemmatize,\n",
    "    lang.stem_text,\n",
    "]\n",
    "\n",
    "func_names = utils.get_func_name(funcs)\n",
    "\n",
    "funcs = [FunctionTransformer(func=x) for x in funcs]\n",
    "\n",
    "funcs = pd.Series(dict(zip(func_names, funcs)))\n",
    "funcs"
   ]
  },
  {
   "cell_type": "code",
   "execution_count": 27,
   "metadata": {
    "ExecuteTime": {
     "end_time": "2021-06-23T07:31:20.476556Z",
     "start_time": "2021-06-23T07:31:19.746527Z"
    }
   },
   "outputs": [
    {
     "data": {
      "text/plain": [
       "0       @wesley have iphone after hrs tweeting #rise a...\n",
       "1       @jessedee know about @fludapp awesome ipad iph...\n",
       "2       @swonderlin can not wait for #ipad also they s...\n",
       "3       @sxsw hope this year festival isn crashy this ...\n",
       "4       @sxtxstate great stuff fri #sxsw marissa mayer...\n",
       "                              ...                        \n",
       "9088                           ipad everywhere #sxsw link\n",
       "9089    wave buzz @mention interrupt your regularly sc...\n",
       "9090    google zeiger physician never reported potenti...\n",
       "9091    some verizon iphone customers complained their...\n",
       "9092       @mention google tests check offers@ #sxsw link\n",
       "Name: text, Length: 8912, dtype: object"
      ]
     },
     "execution_count": 27,
     "metadata": {},
     "output_type": "execute_result"
    },
    {
     "data": {
      "application/javascript": [
       "\n",
       "            setTimeout(function() {\n",
       "                var nbb_cell_id = 27;\n",
       "                var nbb_unformatted_code = \"filts = [\\n    \\\"lowercase\\\",\\n    \\\"uni2ascii\\\",\\n    \\\"limit_repeats\\\",\\n    \\\"strip_punct\\\",\\n    \\\"split_alphanum\\\",\\n    \\\"strip_short\\\",\\n    \\\"strip_multiwhite\\\",\\n]\\n\\nfilts = list(zip(filts, funcs.loc[filts].to_list()))\\nfilts = PandasWrapper(Pipeline(filts))\\nfilts.fit_transform(df.text)\";\n",
       "                var nbb_formatted_code = \"filts = [\\n    \\\"lowercase\\\",\\n    \\\"uni2ascii\\\",\\n    \\\"limit_repeats\\\",\\n    \\\"strip_punct\\\",\\n    \\\"split_alphanum\\\",\\n    \\\"strip_short\\\",\\n    \\\"strip_multiwhite\\\",\\n]\\n\\nfilts = list(zip(filts, funcs.loc[filts].to_list()))\\nfilts = PandasWrapper(Pipeline(filts))\\nfilts.fit_transform(df.text)\";\n",
       "                var nbb_cells = Jupyter.notebook.get_cells();\n",
       "                for (var i = 0; i < nbb_cells.length; ++i) {\n",
       "                    if (nbb_cells[i].input_prompt_number == nbb_cell_id) {\n",
       "                        if (nbb_cells[i].get_text() == nbb_unformatted_code) {\n",
       "                             nbb_cells[i].set_text(nbb_formatted_code);\n",
       "                        }\n",
       "                        break;\n",
       "                    }\n",
       "                }\n",
       "            }, 500);\n",
       "            "
      ],
      "text/plain": [
       "<IPython.core.display.Javascript object>"
      ]
     },
     "metadata": {},
     "output_type": "display_data"
    }
   ],
   "source": [
    "filts = [\n",
    "    \"lowercase\",\n",
    "    \"uni2ascii\",\n",
    "    \"limit_repeats\",\n",
    "    \"strip_punct\",\n",
    "    \"split_alphanum\",\n",
    "    \"strip_short\",\n",
    "    \"strip_multiwhite\",\n",
    "]\n",
    "\n",
    "filts = list(zip(filts, funcs.loc[filts].to_list()))\n",
    "filts = PandasWrapper(Pipeline(filts))\n",
    "filts.fit_transform(df.text)"
   ]
  },
  {
   "cell_type": "code",
   "execution_count": 28,
   "metadata": {
    "ExecuteTime": {
     "end_time": "2021-06-23T07:31:21.180529Z",
     "start_time": "2021-06-23T07:31:20.477529Z"
    }
   },
   "outputs": [
    {
     "data": {
      "text/html": [
       "<div>\n",
       "<style scoped>\n",
       "    .dataframe tbody tr th:only-of-type {\n",
       "        vertical-align: middle;\n",
       "    }\n",
       "\n",
       "    .dataframe tbody tr th {\n",
       "        vertical-align: top;\n",
       "    }\n",
       "\n",
       "    .dataframe thead th {\n",
       "        text-align: right;\n",
       "    }\n",
       "</style>\n",
       "<table border=\"1\" class=\"dataframe\">\n",
       "  <thead>\n",
       "    <tr style=\"text-align: right;\">\n",
       "      <th></th>\n",
       "      <th>text</th>\n",
       "      <th>object_of_emotion</th>\n",
       "      <th>emotion</th>\n",
       "      <th>clean_text</th>\n",
       "    </tr>\n",
       "  </thead>\n",
       "  <tbody>\n",
       "    <tr>\n",
       "      <th>0</th>\n",
       "      <td>.@wesley83 I have a 3G iPhone. After 3 hrs twe...</td>\n",
       "      <td>iPhone</td>\n",
       "      <td>Negative</td>\n",
       "      <td>@wesley have iphone after hrs tweeting #rise a...</td>\n",
       "    </tr>\n",
       "    <tr>\n",
       "      <th>1</th>\n",
       "      <td>@jessedee Know about @fludapp ? Awesome iPad/i...</td>\n",
       "      <td>iOS App</td>\n",
       "      <td>Positive</td>\n",
       "      <td>@jessedee know about @fludapp awesome ipad iph...</td>\n",
       "    </tr>\n",
       "    <tr>\n",
       "      <th>2</th>\n",
       "      <td>@swonderlin Can not wait for #iPad 2 also. The...</td>\n",
       "      <td>iPad</td>\n",
       "      <td>Positive</td>\n",
       "      <td>@swonderlin can not wait for #ipad also they s...</td>\n",
       "    </tr>\n",
       "    <tr>\n",
       "      <th>3</th>\n",
       "      <td>@sxsw I hope this year's festival isn't as cra...</td>\n",
       "      <td>iOS App</td>\n",
       "      <td>Negative</td>\n",
       "      <td>@sxsw hope this year festival isn crashy this ...</td>\n",
       "    </tr>\n",
       "    <tr>\n",
       "      <th>4</th>\n",
       "      <td>@sxtxstate great stuff on Fri #SXSW: Marissa M...</td>\n",
       "      <td>Google</td>\n",
       "      <td>Positive</td>\n",
       "      <td>@sxtxstate great stuff fri #sxsw marissa mayer...</td>\n",
       "    </tr>\n",
       "  </tbody>\n",
       "</table>\n",
       "</div>"
      ],
      "text/plain": [
       "                                                text object_of_emotion  \\\n",
       "0  .@wesley83 I have a 3G iPhone. After 3 hrs twe...            iPhone   \n",
       "1  @jessedee Know about @fludapp ? Awesome iPad/i...           iOS App   \n",
       "2  @swonderlin Can not wait for #iPad 2 also. The...              iPad   \n",
       "3  @sxsw I hope this year's festival isn't as cra...           iOS App   \n",
       "4  @sxtxstate great stuff on Fri #SXSW: Marissa M...            Google   \n",
       "\n",
       "    emotion                                         clean_text  \n",
       "0  Negative  @wesley have iphone after hrs tweeting #rise a...  \n",
       "1  Positive  @jessedee know about @fludapp awesome ipad iph...  \n",
       "2  Positive  @swonderlin can not wait for #ipad also they s...  \n",
       "3  Negative  @sxsw hope this year festival isn crashy this ...  \n",
       "4  Positive  @sxtxstate great stuff fri #sxsw marissa mayer...  "
      ]
     },
     "execution_count": 28,
     "metadata": {},
     "output_type": "execute_result"
    },
    {
     "data": {
      "application/javascript": [
       "\n",
       "            setTimeout(function() {\n",
       "                var nbb_cell_id = 28;\n",
       "                var nbb_unformatted_code = \"df[\\\"clean_text\\\"] = filts.fit_transform(df.text)\\ndf.head()\";\n",
       "                var nbb_formatted_code = \"df[\\\"clean_text\\\"] = filts.fit_transform(df.text)\\ndf.head()\";\n",
       "                var nbb_cells = Jupyter.notebook.get_cells();\n",
       "                for (var i = 0; i < nbb_cells.length; ++i) {\n",
       "                    if (nbb_cells[i].input_prompt_number == nbb_cell_id) {\n",
       "                        if (nbb_cells[i].get_text() == nbb_unformatted_code) {\n",
       "                             nbb_cells[i].set_text(nbb_formatted_code);\n",
       "                        }\n",
       "                        break;\n",
       "                    }\n",
       "                }\n",
       "            }, 500);\n",
       "            "
      ],
      "text/plain": [
       "<IPython.core.display.Javascript object>"
      ]
     },
     "metadata": {},
     "output_type": "display_data"
    }
   ],
   "source": [
    "df[\"clean_text\"] = filts.fit_transform(df.text)\n",
    "df.head()"
   ]
  },
  {
   "cell_type": "code",
   "execution_count": 29,
   "metadata": {
    "ExecuteTime": {
     "end_time": "2021-06-23T07:31:21.460531Z",
     "start_time": "2021-06-23T07:31:21.181528Z"
    }
   },
   "outputs": [
    {
     "data": {
      "text/plain": [
       "0              [iphone]\n",
       "1    [ipad, iphone app]\n",
       "2                [ipad]\n",
       "3          [iphone app]\n",
       "4              [google]\n",
       "Name: brand_terms, dtype: object"
      ]
     },
     "execution_count": 29,
     "metadata": {},
     "output_type": "execute_result"
    },
    {
     "data": {
      "application/javascript": [
       "\n",
       "            setTimeout(function() {\n",
       "                var nbb_cell_id = 29;\n",
       "                var nbb_unformatted_code = \"re_brand = fr\\\"{re_apple}|{re_google}\\\"\\nregex_brands = lang.locate_patterns(re_brand, docs=df.clean_text)\\nregex_brands = utils.implode(regex_brands).reindex_like(df)\\ndf[\\\"brand_terms\\\"] = regex_brands\\ndel regex_brands\\ndf[\\\"brand_terms\\\"].head()\";\n",
       "                var nbb_formatted_code = \"re_brand = fr\\\"{re_apple}|{re_google}\\\"\\nregex_brands = lang.locate_patterns(re_brand, docs=df.clean_text)\\nregex_brands = utils.implode(regex_brands).reindex_like(df)\\ndf[\\\"brand_terms\\\"] = regex_brands\\ndel regex_brands\\ndf[\\\"brand_terms\\\"].head()\";\n",
       "                var nbb_cells = Jupyter.notebook.get_cells();\n",
       "                for (var i = 0; i < nbb_cells.length; ++i) {\n",
       "                    if (nbb_cells[i].input_prompt_number == nbb_cell_id) {\n",
       "                        if (nbb_cells[i].get_text() == nbb_unformatted_code) {\n",
       "                             nbb_cells[i].set_text(nbb_formatted_code);\n",
       "                        }\n",
       "                        break;\n",
       "                    }\n",
       "                }\n",
       "            }, 500);\n",
       "            "
      ],
      "text/plain": [
       "<IPython.core.display.Javascript object>"
      ]
     },
     "metadata": {},
     "output_type": "display_data"
    }
   ],
   "source": [
    "re_brand = fr\"{re_apple}|{re_google}\"\n",
    "regex_brands = lang.locate_patterns(re_brand, docs=df.clean_text)\n",
    "regex_brands = utils.implode(regex_brands).reindex_like(df)\n",
    "df[\"brand_terms\"] = regex_brands\n",
    "del regex_brands\n",
    "df[\"brand_terms\"].head()"
   ]
  },
  {
   "cell_type": "code",
   "execution_count": 30,
   "metadata": {
    "ExecuteTime": {
     "end_time": "2021-06-23T07:31:21.965527Z",
     "start_time": "2021-06-23T07:31:21.461529Z"
    }
   },
   "outputs": [
    {
     "data": {
      "text/plain": [
       "0    [@wesley, have, iphone, after, hrs, tweeting, ...\n",
       "1    [@jessedee, know, about, @fludapp, awesome, ip...\n",
       "2    [@swonderlin, can, not, wait, for, #ipad, also...\n",
       "3    [@sxsw, hope, this, year, festival, isn, crash...\n",
       "4    [@sxtxstate, great, stuff, fri, #sxsw, marissa...\n",
       "Name: tokens, dtype: object"
      ]
     },
     "execution_count": 30,
     "metadata": {},
     "output_type": "execute_result"
    },
    {
     "data": {
      "application/javascript": [
       "\n",
       "            setTimeout(function() {\n",
       "                var nbb_cell_id = 30;\n",
       "                var nbb_unformatted_code = \"df[\\\"tokens\\\"] = df.clean_text.map(nltk.casual_tokenize)\\ndf[\\\"tokens\\\"].head()\";\n",
       "                var nbb_formatted_code = \"df[\\\"tokens\\\"] = df.clean_text.map(nltk.casual_tokenize)\\ndf[\\\"tokens\\\"].head()\";\n",
       "                var nbb_cells = Jupyter.notebook.get_cells();\n",
       "                for (var i = 0; i < nbb_cells.length; ++i) {\n",
       "                    if (nbb_cells[i].input_prompt_number == nbb_cell_id) {\n",
       "                        if (nbb_cells[i].get_text() == nbb_unformatted_code) {\n",
       "                             nbb_cells[i].set_text(nbb_formatted_code);\n",
       "                        }\n",
       "                        break;\n",
       "                    }\n",
       "                }\n",
       "            }, 500);\n",
       "            "
      ],
      "text/plain": [
       "<IPython.core.display.Javascript object>"
      ]
     },
     "metadata": {},
     "output_type": "display_data"
    }
   ],
   "source": [
    "df[\"tokens\"] = df.clean_text.map(nltk.casual_tokenize)\n",
    "df[\"tokens\"].head()"
   ]
  },
  {
   "cell_type": "code",
   "execution_count": 31,
   "metadata": {
    "ExecuteTime": {
     "end_time": "2021-06-23T07:31:30.546529Z",
     "start_time": "2021-06-23T07:31:21.966528Z"
    }
   },
   "outputs": [
    {
     "data": {
      "text/plain": [
       "0    [(@wesley, NNS), (have, VBP), (iphone, VBN), (...\n",
       "1    [(@jessedee, NN), (know, VBP), (about, IN), (@...\n",
       "2    [(@swonderlin, NNS), (can, MD), (not, RB), (wa...\n",
       "3    [(@sxsw, RB), (hope, NN), (this, DT), (year, N...\n",
       "4    [(@sxtxstate, JJ), (great, JJ), (stuff, NN), (...\n",
       "Name: tagged, dtype: object"
      ]
     },
     "execution_count": 31,
     "metadata": {},
     "output_type": "execute_result"
    },
    {
     "data": {
      "application/javascript": [
       "\n",
       "            setTimeout(function() {\n",
       "                var nbb_cell_id = 31;\n",
       "                var nbb_unformatted_code = \"df[\\\"tagged\\\"] = df.tokens.map(nltk.pos_tag)\\ndf[\\\"tagged\\\"].head()\";\n",
       "                var nbb_formatted_code = \"df[\\\"tagged\\\"] = df.tokens.map(nltk.pos_tag)\\ndf[\\\"tagged\\\"].head()\";\n",
       "                var nbb_cells = Jupyter.notebook.get_cells();\n",
       "                for (var i = 0; i < nbb_cells.length; ++i) {\n",
       "                    if (nbb_cells[i].input_prompt_number == nbb_cell_id) {\n",
       "                        if (nbb_cells[i].get_text() == nbb_unformatted_code) {\n",
       "                             nbb_cells[i].set_text(nbb_formatted_code);\n",
       "                        }\n",
       "                        break;\n",
       "                    }\n",
       "                }\n",
       "            }, 500);\n",
       "            "
      ],
      "text/plain": [
       "<IPython.core.display.Javascript object>"
      ]
     },
     "metadata": {},
     "output_type": "display_data"
    }
   ],
   "source": [
    "df[\"tagged\"] = df.tokens.map(nltk.pos_tag)\n",
    "df[\"tagged\"].head()"
   ]
  },
  {
   "cell_type": "code",
   "execution_count": 32,
   "metadata": {
    "ExecuteTime": {
     "end_time": "2021-06-23T07:31:31.101531Z",
     "start_time": "2021-06-23T07:31:30.547528Z"
    }
   },
   "outputs": [
    {
     "data": {
      "text/plain": [
       "0    [NNS, VBP, VBN, IN, NN, VBG, NN, NN, VBD, JJ, ...\n",
       "1    [NN, VBP, IN, NNP, JJ, NN, NN, NN, IN, PRP, JJ...\n",
       "2    [NNS, MD, RB, VB, IN, NN, RB, PRP, MD, NN, PRP...\n",
       "3     [RB, NN, DT, NN, NN, NN, NN, DT, NN, NN, NN, NN]\n",
       "4    [JJ, JJ, NN, NN, NNP, NN, NN, NN, NN, RB, JJ, ...\n",
       "Name: pos_tags, dtype: object"
      ]
     },
     "execution_count": 32,
     "metadata": {},
     "output_type": "execute_result"
    },
    {
     "data": {
      "application/javascript": [
       "\n",
       "            setTimeout(function() {\n",
       "                var nbb_cell_id = 32;\n",
       "                var nbb_unformatted_code = \"df[\\\"pos_tags\\\"] = utils.implode(df[\\\"tagged\\\"].explode().map(itemgetter(1)))\\ndf[\\\"pos_tags\\\"].head()\";\n",
       "                var nbb_formatted_code = \"df[\\\"pos_tags\\\"] = utils.implode(df[\\\"tagged\\\"].explode().map(itemgetter(1)))\\ndf[\\\"pos_tags\\\"].head()\";\n",
       "                var nbb_cells = Jupyter.notebook.get_cells();\n",
       "                for (var i = 0; i < nbb_cells.length; ++i) {\n",
       "                    if (nbb_cells[i].input_prompt_number == nbb_cell_id) {\n",
       "                        if (nbb_cells[i].get_text() == nbb_unformatted_code) {\n",
       "                             nbb_cells[i].set_text(nbb_formatted_code);\n",
       "                        }\n",
       "                        break;\n",
       "                    }\n",
       "                }\n",
       "            }, 500);\n",
       "            "
      ],
      "text/plain": [
       "<IPython.core.display.Javascript object>"
      ]
     },
     "metadata": {},
     "output_type": "display_data"
    }
   ],
   "source": [
    "df[\"pos_tags\"] = utils.implode(df[\"tagged\"].explode().map(itemgetter(1)))\n",
    "df[\"pos_tags\"].head()"
   ]
  },
  {
   "cell_type": "markdown",
   "metadata": {},
   "source": [
    "# Exploration"
   ]
  },
  {
   "cell_type": "code",
   "execution_count": 33,
   "metadata": {
    "ExecuteTime": {
     "end_time": "2021-06-23T07:31:31.783528Z",
     "start_time": "2021-06-23T07:31:31.102531Z"
    }
   },
   "outputs": [
    {
     "data": {
      "image/png": "[encoded data removed]",
      "text/plain": [
       "<Figure size 1080x360 with 3 Axes>"
      ]
     },
     "metadata": {
      "needs_background": "light"
     },
     "output_type": "display_data"
    },
    {
     "data": {
      "application/javascript": [
       "\n",
       "            setTimeout(function() {\n",
       "                var nbb_cell_id = 33;\n",
       "                var nbb_unformatted_code = \"fig = plotting.countplot(\\n    df.explode(\\\"brand_terms\\\").groupby(\\\"emotion\\\")[\\\"brand_terms\\\"],\\n    normalize=True,\\n)\";\n",
       "                var nbb_formatted_code = \"fig = plotting.countplot(\\n    df.explode(\\\"brand_terms\\\").groupby(\\\"emotion\\\")[\\\"brand_terms\\\"],\\n    normalize=True,\\n)\";\n",
       "                var nbb_cells = Jupyter.notebook.get_cells();\n",
       "                for (var i = 0; i < nbb_cells.length; ++i) {\n",
       "                    if (nbb_cells[i].input_prompt_number == nbb_cell_id) {\n",
       "                        if (nbb_cells[i].get_text() == nbb_unformatted_code) {\n",
       "                             nbb_cells[i].set_text(nbb_formatted_code);\n",
       "                        }\n",
       "                        break;\n",
       "                    }\n",
       "                }\n",
       "            }, 500);\n",
       "            "
      ],
      "text/plain": [
       "<IPython.core.display.Javascript object>"
      ]
     },
     "metadata": {},
     "output_type": "display_data"
    }
   ],
   "source": [
    "fig = plotting.countplot(\n",
    "    df.explode(\"brand_terms\").groupby(\"emotion\")[\"brand_terms\"],\n",
    "    normalize=True,\n",
    ")"
   ]
  },
  {
   "cell_type": "code",
   "execution_count": 34,
   "metadata": {
    "ExecuteTime": {
     "end_time": "2021-06-23T07:31:32.627528Z",
     "start_time": "2021-06-23T07:31:31.784529Z"
    }
   },
   "outputs": [
    {
     "data": {
      "image/png": "[encoded data removed]",
      "text/plain": [
       "<Figure size 1080x360 with 3 Axes>"
      ]
     },
     "metadata": {
      "needs_background": "light"
     },
     "output_type": "display_data"
    },
    {
     "data": {
      "application/javascript": [
       "\n",
       "            setTimeout(function() {\n",
       "                var nbb_cell_id = 34;\n",
       "                var nbb_unformatted_code = \"grouped = df.explode(\\\"pos_tags\\\").groupby(\\\"emotion\\\")[\\\"pos_tags\\\"]\\n\\nfig = plotting.countplot(grouped, normalize=True, topn=10)\";\n",
       "                var nbb_formatted_code = \"grouped = df.explode(\\\"pos_tags\\\").groupby(\\\"emotion\\\")[\\\"pos_tags\\\"]\\n\\nfig = plotting.countplot(grouped, normalize=True, topn=10)\";\n",
       "                var nbb_cells = Jupyter.notebook.get_cells();\n",
       "                for (var i = 0; i < nbb_cells.length; ++i) {\n",
       "                    if (nbb_cells[i].input_prompt_number == nbb_cell_id) {\n",
       "                        if (nbb_cells[i].get_text() == nbb_unformatted_code) {\n",
       "                             nbb_cells[i].set_text(nbb_formatted_code);\n",
       "                        }\n",
       "                        break;\n",
       "                    }\n",
       "                }\n",
       "            }, 500);\n",
       "            "
      ],
      "text/plain": [
       "<IPython.core.display.Javascript object>"
      ]
     },
     "metadata": {},
     "output_type": "display_data"
    }
   ],
   "source": [
    "grouped = df.explode(\"pos_tags\").groupby(\"emotion\")[\"pos_tags\"]\n",
    "\n",
    "fig = plotting.countplot(grouped, normalize=True, topn=10)"
   ]
  },
  {
   "cell_type": "code",
   "execution_count": 35,
   "metadata": {
    "ExecuteTime": {
     "end_time": "2021-06-23T07:31:32.723530Z",
     "start_time": "2021-06-23T07:31:32.628527Z"
    }
   },
   "outputs": [
    {
     "data": {
      "application/javascript": [
       "\n",
       "            setTimeout(function() {\n",
       "                var nbb_cell_id = 35;\n",
       "                var nbb_unformatted_code = \"# Try POS filtering\\n# Try tfidf vectorizing with just POS tags\";\n",
       "                var nbb_formatted_code = \"# Try POS filtering\\n# Try tfidf vectorizing with just POS tags\";\n",
       "                var nbb_cells = Jupyter.notebook.get_cells();\n",
       "                for (var i = 0; i < nbb_cells.length; ++i) {\n",
       "                    if (nbb_cells[i].input_prompt_number == nbb_cell_id) {\n",
       "                        if (nbb_cells[i].get_text() == nbb_unformatted_code) {\n",
       "                             nbb_cells[i].set_text(nbb_formatted_code);\n",
       "                        }\n",
       "                        break;\n",
       "                    }\n",
       "                }\n",
       "            }, 500);\n",
       "            "
      ],
      "text/plain": [
       "<IPython.core.display.Javascript object>"
      ]
     },
     "metadata": {},
     "output_type": "display_data"
    }
   ],
   "source": [
    "# Try POS filtering\n",
    "# Try tfidf vectorizing with just POS tags"
   ]
  },
  {
   "cell_type": "code",
   "execution_count": 36,
   "metadata": {
    "ExecuteTime": {
     "end_time": "2021-06-23T07:31:32.821529Z",
     "start_time": "2021-06-23T07:31:32.724527Z"
    }
   },
   "outputs": [
    {
     "name": "stdout",
     "output_type": "stream",
     "text": [
      "['#sxsw', 'a', 'about', 'above', 'across', 'after', 'afterwards', 'again', 'against', 'all', 'almost', 'alone', 'along', 'already', 'also', 'although', 'always', 'am', 'among', 'amongst', 'amoungst', 'amount', 'an', 'and', 'another', 'any', 'anyhow', 'anyone', 'anything', 'anyway', 'anywhere', 'are', 'around', 'as', 'at', 'back', 'be', 'became', 'because', 'become', 'becomes', 'becoming', 'been', 'before', 'beforehand', 'behind', 'being', 'below', 'beside', 'besides', 'between', 'beyond', 'bill', 'both', 'bottom', 'but', 'by', 'call', 'can', 'cannot', 'cant', 'co', 'computer', 'con', 'could', 'couldnt', 'cry', 'de', 'describe', 'detail', 'did', 'didn', 'do', 'does', 'doesn', 'doing', 'don', 'done', 'down', 'due', 'during', 'each', 'eg', 'eight', 'either', 'eleven', 'else', 'elsewhere', 'empty', 'enough', 'etc', 'even', 'ever', 'every', 'everyone', 'everything', 'everywhere', 'except', 'few', 'fifteen', 'fifty', 'fill', 'find', 'fire', 'first', 'five', 'for', 'former', 'formerly', 'forty', 'found', 'four', 'from', 'front', 'full', 'further', 'get', 'give', 'go', 'had', 'has', 'hasnt', 'have', 'he', 'hence', 'her', 'here', 'hereafter', 'hereby', 'herein', 'hereupon', 'hers', 'herself', 'him', 'himself', 'his', 'how', 'however', 'hundred', 'i', 'ie', 'if', 'in', 'inc', 'indeed', 'interest', 'into', 'is', 'it', 'its', 'itself', 'just', 'keep', 'kg', 'km', 'last', 'latter', 'latterly', 'least', 'less', 'link', 'ltd', 'made', 'make', 'many', 'may', 'me', 'meanwhile', 'might', 'mill', 'mine', 'more', 'moreover', 'most', 'mostly', 'move', 'much', 'must', 'my', 'myself', 'name', 'namely', 'neither', 'never', 'nevertheless', 'next', 'nine', 'no', 'nobody', 'none', 'noone', 'nor', 'not', 'nothing', 'now', 'nowhere', 'of', 'off', 'often', 'on', 'once', 'one', 'only', 'onto', 'or', 'other', 'others', 'otherwise', 'our', 'ours', 'ourselves', 'out', 'over', 'own', 'part', 'per', 'perhaps', 'please', 'put', 'quite', 'quot', 'rather', 're', 'really', 'regarding', 'same', 'say', 'see', 'seem', 'seemed', 'seeming', 'seems', 'serious', 'several', 'she', 'should', 'show', 'side', 'since', 'sincere', 'six', 'sixty', 'so', 'some', 'somehow', 'someone', 'something', 'sometime', 'sometimes', 'somewhere', 'still', 'such', 'sxsw', 'system', 'take', 'ten', 'than', 'that', 'the', 'their', 'them', 'themselves', 'then', 'thence', 'there', 'thereafter', 'thereby', 'therefore', 'therein', 'thereupon', 'these', 'they', 'thick', 'thin', 'third', 'this', 'those', 'though', 'three', 'through', 'throughout', 'thru', 'thus', 'to', 'together', 'too', 'top', 'toward', 'towards', 'twelve', 'twenty', 'two', 'un', 'under', 'unless', 'until', 'up', 'upon', 'us', 'used', 'using', 'various', 'very', 'via', 'was', 'we', 'well', 'were', 'what', 'whatever', 'when', 'whence', 'whenever', 'where', 'whereafter', 'whereas', 'whereby', 'wherein', 'whereupon', 'wherever', 'whether', 'which', 'while', 'whither', 'who', 'whoever', 'whole', 'whom', 'whose', 'why', 'will', 'with', 'within', 'without', 'would', 'yet', 'you', 'your', 'yours', 'yourself', 'yourselves']\n"
     ]
    },
    {
     "data": {
      "application/javascript": [
       "\n",
       "            setTimeout(function() {\n",
       "                var nbb_cell_id = 36;\n",
       "                var nbb_unformatted_code = \"stop_words = list(STOPWORDS) + [\\\"sxsw\\\", \\\"#sxsw\\\", \\\"quot\\\", \\\"link\\\"]\\nstop_words.sort()\\nprint(stop_words)\";\n",
       "                var nbb_formatted_code = \"stop_words = list(STOPWORDS) + [\\\"sxsw\\\", \\\"#sxsw\\\", \\\"quot\\\", \\\"link\\\"]\\nstop_words.sort()\\nprint(stop_words)\";\n",
       "                var nbb_cells = Jupyter.notebook.get_cells();\n",
       "                for (var i = 0; i < nbb_cells.length; ++i) {\n",
       "                    if (nbb_cells[i].input_prompt_number == nbb_cell_id) {\n",
       "                        if (nbb_cells[i].get_text() == nbb_unformatted_code) {\n",
       "                             nbb_cells[i].set_text(nbb_formatted_code);\n",
       "                        }\n",
       "                        break;\n",
       "                    }\n",
       "                }\n",
       "            }, 500);\n",
       "            "
      ],
      "text/plain": [
       "<IPython.core.display.Javascript object>"
      ]
     },
     "metadata": {},
     "output_type": "display_data"
    }
   ],
   "source": [
    "stop_words = list(STOPWORDS) + [\"sxsw\", \"#sxsw\", \"quot\", \"link\"]\n",
    "stop_words.sort()\n",
    "print(stop_words)"
   ]
  },
  {
   "cell_type": "code",
   "execution_count": 37,
   "metadata": {
    "ExecuteTime": {
     "end_time": "2021-06-23T07:31:32.939558Z",
     "start_time": "2021-06-23T07:31:32.822528Z"
    }
   },
   "outputs": [
    {
     "data": {
      "text/plain": [
       "Negative  Android                 they took away the lego pit but replaced with ...\n",
       "          Android App             beware the android #sxsw app for schedules com...\n",
       "          Apple                   again? @mention line the apple store insane #s...\n",
       "          Google                  @mention false alarm google circles not coming...\n",
       "          Other Apple Product     @mention meant itunes doesn work for don run a...\n",
       "          Other Google Product    @mention google launch major new social networ...\n",
       "          iOS App                 @sxsw hope this year festival isn crashy this ...\n",
       "          iPad                    attending @mention ipad design headaches #sxsw...\n",
       "          iPhone                  @wesley have iphone after hrs tweeting #rise a...\n",
       "Neutral   NaN                     @teachntech new ipad apps for #speechtherapy a...\n",
       "Positive  Android                 #sxsw just starting #ctia around the corner an...\n",
       "          Android App             find amp start impromptu parties #sxsw with @h...\n",
       "          Apple                   counting down the days #sxsw plus strong canad...\n",
       "          Google                  @sxtxstate great stuff fri #sxsw marissa mayer...\n",
       "          Other Apple Product     pedicab iphone charger would epic win #sxsw pu...\n",
       "          Other Google Product    gotta love this #sxsw google calendar featurin...\n",
       "          iOS App                 @jessedee know about @fludapp awesome ipad iph...\n",
       "          iPad                    @swonderlin can not wait for #ipad also they s...\n",
       "          iPhone                  love @mention iphone case from #sxsw but can g...\n",
       "dtype: object"
      ]
     },
     "execution_count": 37,
     "metadata": {},
     "output_type": "execute_result"
    },
    {
     "data": {
      "application/javascript": [
       "\n",
       "            setTimeout(function() {\n",
       "                var nbb_cell_id = 37;\n",
       "                var nbb_unformatted_code = \"brand_docs = (\\n    pd.Series(df.groupby([\\\"emotion\\\", \\\"object_of_emotion\\\"]).groups)\\n    .map(lambda x: df.loc[x, \\\"clean_text\\\"])\\n    .map(lambda x: \\\" \\\".join(x))\\n)\\n\\nbrand_docs = brand_docs.drop(index=np.nan, level=0)\\nbrand_docs\";\n",
       "                var nbb_formatted_code = \"brand_docs = (\\n    pd.Series(df.groupby([\\\"emotion\\\", \\\"object_of_emotion\\\"]).groups)\\n    .map(lambda x: df.loc[x, \\\"clean_text\\\"])\\n    .map(lambda x: \\\" \\\".join(x))\\n)\\n\\nbrand_docs = brand_docs.drop(index=np.nan, level=0)\\nbrand_docs\";\n",
       "                var nbb_cells = Jupyter.notebook.get_cells();\n",
       "                for (var i = 0; i < nbb_cells.length; ++i) {\n",
       "                    if (nbb_cells[i].input_prompt_number == nbb_cell_id) {\n",
       "                        if (nbb_cells[i].get_text() == nbb_unformatted_code) {\n",
       "                             nbb_cells[i].set_text(nbb_formatted_code);\n",
       "                        }\n",
       "                        break;\n",
       "                    }\n",
       "                }\n",
       "            }, 500);\n",
       "            "
      ],
      "text/plain": [
       "<IPython.core.display.Javascript object>"
      ]
     },
     "metadata": {},
     "output_type": "display_data"
    }
   ],
   "source": [
    "brand_docs = (\n",
    "    pd.Series(df.groupby([\"emotion\", \"object_of_emotion\"]).groups)\n",
    "    .map(lambda x: df.loc[x, \"clean_text\"])\n",
    "    .map(lambda x: \" \".join(x))\n",
    ")\n",
    "\n",
    "brand_docs = brand_docs.drop(index=np.nan, level=0)\n",
    "brand_docs"
   ]
  },
  {
   "cell_type": "code",
   "execution_count": 38,
   "metadata": {
    "ExecuteTime": {
     "end_time": "2021-06-23T07:31:33.811529Z",
     "start_time": "2021-06-23T07:31:32.940530Z"
    }
   },
   "outputs": [
    {
     "data": {
      "text/html": [
       "<div>\n",
       "<style scoped>\n",
       "    .dataframe tbody tr th:only-of-type {\n",
       "        vertical-align: middle;\n",
       "    }\n",
       "\n",
       "    .dataframe tbody tr th {\n",
       "        vertical-align: top;\n",
       "    }\n",
       "\n",
       "    .dataframe thead tr th {\n",
       "        text-align: left;\n",
       "    }\n",
       "</style>\n",
       "<table border=\"1\" class=\"dataframe\">\n",
       "  <thead>\n",
       "    <tr>\n",
       "      <th></th>\n",
       "      <th colspan=\"9\" halign=\"left\">Negative</th>\n",
       "      <th>Neutral</th>\n",
       "      <th colspan=\"9\" halign=\"left\">Positive</th>\n",
       "    </tr>\n",
       "    <tr>\n",
       "      <th></th>\n",
       "      <th>Android</th>\n",
       "      <th>Android App</th>\n",
       "      <th>Apple</th>\n",
       "      <th>Google</th>\n",
       "      <th>Other Apple Product</th>\n",
       "      <th>Other Google Product</th>\n",
       "      <th>iOS App</th>\n",
       "      <th>iPad</th>\n",
       "      <th>iPhone</th>\n",
       "      <th>NaN</th>\n",
       "      <th>Android</th>\n",
       "      <th>Android App</th>\n",
       "      <th>Apple</th>\n",
       "      <th>Google</th>\n",
       "      <th>Other Apple Product</th>\n",
       "      <th>Other Google Product</th>\n",
       "      <th>iOS App</th>\n",
       "      <th>iPad</th>\n",
       "      <th>iPhone</th>\n",
       "    </tr>\n",
       "  </thead>\n",
       "  <tbody>\n",
       "    <tr>\n",
       "      <th>!</th>\n",
       "      <td>0.04388</td>\n",
       "      <td>0.025603</td>\n",
       "      <td>0.054796</td>\n",
       "      <td>0.062841</td>\n",
       "      <td>0.0</td>\n",
       "      <td>0.041581</td>\n",
       "      <td>0.073591</td>\n",
       "      <td>0.040762</td>\n",
       "      <td>0.135289</td>\n",
       "      <td>0.171880</td>\n",
       "      <td>0.207318</td>\n",
       "      <td>0.243020</td>\n",
       "      <td>0.132520</td>\n",
       "      <td>0.193603</td>\n",
       "      <td>0.215399</td>\n",
       "      <td>0.119854</td>\n",
       "      <td>0.267892</td>\n",
       "      <td>0.249208</td>\n",
       "      <td>0.292128</td>\n",
       "    </tr>\n",
       "    <tr>\n",
       "      <th>! !</th>\n",
       "      <td>0.00000</td>\n",
       "      <td>0.000000</td>\n",
       "      <td>0.005163</td>\n",
       "      <td>0.010996</td>\n",
       "      <td>0.0</td>\n",
       "      <td>0.016977</td>\n",
       "      <td>0.022535</td>\n",
       "      <td>0.000000</td>\n",
       "      <td>0.011047</td>\n",
       "      <td>0.013888</td>\n",
       "      <td>0.027452</td>\n",
       "      <td>0.029766</td>\n",
       "      <td>0.010887</td>\n",
       "      <td>0.041427</td>\n",
       "      <td>0.000000</td>\n",
       "      <td>0.034769</td>\n",
       "      <td>0.044972</td>\n",
       "      <td>0.048623</td>\n",
       "      <td>0.022363</td>\n",
       "    </tr>\n",
       "    <tr>\n",
       "      <th>! ! !</th>\n",
       "      <td>0.00000</td>\n",
       "      <td>0.000000</td>\n",
       "      <td>0.000000</td>\n",
       "      <td>0.005793</td>\n",
       "      <td>0.0</td>\n",
       "      <td>0.008943</td>\n",
       "      <td>0.007914</td>\n",
       "      <td>0.000000</td>\n",
       "      <td>0.005820</td>\n",
       "      <td>0.004413</td>\n",
       "      <td>0.007231</td>\n",
       "      <td>0.015681</td>\n",
       "      <td>0.003128</td>\n",
       "      <td>0.015051</td>\n",
       "      <td>0.000000</td>\n",
       "      <td>0.018316</td>\n",
       "      <td>0.017549</td>\n",
       "      <td>0.016127</td>\n",
       "      <td>0.006732</td>\n",
       "    </tr>\n",
       "    <tr>\n",
       "      <th>! ! #angrybirds</th>\n",
       "      <td>0.00000</td>\n",
       "      <td>0.000000</td>\n",
       "      <td>0.000000</td>\n",
       "      <td>0.000000</td>\n",
       "      <td>0.0</td>\n",
       "      <td>0.000000</td>\n",
       "      <td>0.000000</td>\n",
       "      <td>0.000000</td>\n",
       "      <td>0.000000</td>\n",
       "      <td>0.000565</td>\n",
       "      <td>0.000000</td>\n",
       "      <td>0.000000</td>\n",
       "      <td>0.000000</td>\n",
       "      <td>0.000000</td>\n",
       "      <td>0.000000</td>\n",
       "      <td>0.000000</td>\n",
       "      <td>0.000000</td>\n",
       "      <td>0.000000</td>\n",
       "      <td>0.000000</td>\n",
       "    </tr>\n",
       "    <tr>\n",
       "      <th>! ! #apple</th>\n",
       "      <td>0.00000</td>\n",
       "      <td>0.000000</td>\n",
       "      <td>0.000000</td>\n",
       "      <td>0.000000</td>\n",
       "      <td>0.0</td>\n",
       "      <td>0.000000</td>\n",
       "      <td>0.000000</td>\n",
       "      <td>0.000000</td>\n",
       "      <td>0.000000</td>\n",
       "      <td>0.000000</td>\n",
       "      <td>0.000000</td>\n",
       "      <td>0.000000</td>\n",
       "      <td>0.000000</td>\n",
       "      <td>0.000000</td>\n",
       "      <td>0.000000</td>\n",
       "      <td>0.000000</td>\n",
       "      <td>0.000000</td>\n",
       "      <td>0.002309</td>\n",
       "      <td>0.000000</td>\n",
       "    </tr>\n",
       "    <tr>\n",
       "      <th>...</th>\n",
       "      <td>...</td>\n",
       "      <td>...</td>\n",
       "      <td>...</td>\n",
       "      <td>...</td>\n",
       "      <td>...</td>\n",
       "      <td>...</td>\n",
       "      <td>...</td>\n",
       "      <td>...</td>\n",
       "      <td>...</td>\n",
       "      <td>...</td>\n",
       "      <td>...</td>\n",
       "      <td>...</td>\n",
       "      <td>...</td>\n",
       "      <td>...</td>\n",
       "      <td>...</td>\n",
       "      <td>...</td>\n",
       "      <td>...</td>\n",
       "      <td>...</td>\n",
       "      <td>...</td>\n",
       "    </tr>\n",
       "    <tr>\n",
       "      <th>zynga facebook</th>\n",
       "      <td>0.00000</td>\n",
       "      <td>0.000000</td>\n",
       "      <td>0.000000</td>\n",
       "      <td>0.000000</td>\n",
       "      <td>0.0</td>\n",
       "      <td>0.000000</td>\n",
       "      <td>0.000000</td>\n",
       "      <td>0.000000</td>\n",
       "      <td>0.000000</td>\n",
       "      <td>0.002262</td>\n",
       "      <td>0.000000</td>\n",
       "      <td>0.000000</td>\n",
       "      <td>0.000000</td>\n",
       "      <td>0.000000</td>\n",
       "      <td>0.000000</td>\n",
       "      <td>0.000000</td>\n",
       "      <td>0.000000</td>\n",
       "      <td>0.000000</td>\n",
       "      <td>0.000000</td>\n",
       "    </tr>\n",
       "    <tr>\n",
       "      <th>zynga facebook microsoft</th>\n",
       "      <td>0.00000</td>\n",
       "      <td>0.000000</td>\n",
       "      <td>0.000000</td>\n",
       "      <td>0.000000</td>\n",
       "      <td>0.0</td>\n",
       "      <td>0.000000</td>\n",
       "      <td>0.000000</td>\n",
       "      <td>0.000000</td>\n",
       "      <td>0.000000</td>\n",
       "      <td>0.002262</td>\n",
       "      <td>0.000000</td>\n",
       "      <td>0.000000</td>\n",
       "      <td>0.000000</td>\n",
       "      <td>0.000000</td>\n",
       "      <td>0.000000</td>\n",
       "      <td>0.000000</td>\n",
       "      <td>0.000000</td>\n",
       "      <td>0.000000</td>\n",
       "      <td>0.000000</td>\n",
       "    </tr>\n",
       "    <tr>\n",
       "      <th>zzzs</th>\n",
       "      <td>0.00000</td>\n",
       "      <td>0.000000</td>\n",
       "      <td>0.000000</td>\n",
       "      <td>0.000000</td>\n",
       "      <td>0.0</td>\n",
       "      <td>0.000000</td>\n",
       "      <td>0.000000</td>\n",
       "      <td>0.000000</td>\n",
       "      <td>0.014167</td>\n",
       "      <td>0.000000</td>\n",
       "      <td>0.000000</td>\n",
       "      <td>0.000000</td>\n",
       "      <td>0.000000</td>\n",
       "      <td>0.000000</td>\n",
       "      <td>0.000000</td>\n",
       "      <td>0.000000</td>\n",
       "      <td>0.000000</td>\n",
       "      <td>0.000000</td>\n",
       "      <td>0.000000</td>\n",
       "    </tr>\n",
       "    <tr>\n",
       "      <th>zzzs iphone</th>\n",
       "      <td>0.00000</td>\n",
       "      <td>0.000000</td>\n",
       "      <td>0.000000</td>\n",
       "      <td>0.000000</td>\n",
       "      <td>0.0</td>\n",
       "      <td>0.000000</td>\n",
       "      <td>0.000000</td>\n",
       "      <td>0.000000</td>\n",
       "      <td>0.014167</td>\n",
       "      <td>0.000000</td>\n",
       "      <td>0.000000</td>\n",
       "      <td>0.000000</td>\n",
       "      <td>0.000000</td>\n",
       "      <td>0.000000</td>\n",
       "      <td>0.000000</td>\n",
       "      <td>0.000000</td>\n",
       "      <td>0.000000</td>\n",
       "      <td>0.000000</td>\n",
       "      <td>0.000000</td>\n",
       "    </tr>\n",
       "    <tr>\n",
       "      <th>zzzs iphone battery</th>\n",
       "      <td>0.00000</td>\n",
       "      <td>0.000000</td>\n",
       "      <td>0.000000</td>\n",
       "      <td>0.000000</td>\n",
       "      <td>0.0</td>\n",
       "      <td>0.000000</td>\n",
       "      <td>0.000000</td>\n",
       "      <td>0.000000</td>\n",
       "      <td>0.014167</td>\n",
       "      <td>0.000000</td>\n",
       "      <td>0.000000</td>\n",
       "      <td>0.000000</td>\n",
       "      <td>0.000000</td>\n",
       "      <td>0.000000</td>\n",
       "      <td>0.000000</td>\n",
       "      <td>0.000000</td>\n",
       "      <td>0.000000</td>\n",
       "      <td>0.000000</td>\n",
       "      <td>0.000000</td>\n",
       "    </tr>\n",
       "  </tbody>\n",
       "</table>\n",
       "<p>104142 rows × 19 columns</p>\n",
       "</div>"
      ],
      "text/plain": [
       "                         Negative                                  \\\n",
       "                          Android Android App     Apple    Google   \n",
       "!                         0.04388    0.025603  0.054796  0.062841   \n",
       "! !                       0.00000    0.000000  0.005163  0.010996   \n",
       "! ! !                     0.00000    0.000000  0.000000  0.005793   \n",
       "! ! #angrybirds           0.00000    0.000000  0.000000  0.000000   \n",
       "! ! #apple                0.00000    0.000000  0.000000  0.000000   \n",
       "...                           ...         ...       ...       ...   \n",
       "zynga facebook            0.00000    0.000000  0.000000  0.000000   \n",
       "zynga facebook microsoft  0.00000    0.000000  0.000000  0.000000   \n",
       "zzzs                      0.00000    0.000000  0.000000  0.000000   \n",
       "zzzs iphone               0.00000    0.000000  0.000000  0.000000   \n",
       "zzzs iphone battery       0.00000    0.000000  0.000000  0.000000   \n",
       "\n",
       "                                                                             \\\n",
       "                         Other Apple Product Other Google Product   iOS App   \n",
       "!                                        0.0             0.041581  0.073591   \n",
       "! !                                      0.0             0.016977  0.022535   \n",
       "! ! !                                    0.0             0.008943  0.007914   \n",
       "! ! #angrybirds                          0.0             0.000000  0.000000   \n",
       "! ! #apple                               0.0             0.000000  0.000000   \n",
       "...                                      ...                  ...       ...   \n",
       "zynga facebook                           0.0             0.000000  0.000000   \n",
       "zynga facebook microsoft                 0.0             0.000000  0.000000   \n",
       "zzzs                                     0.0             0.000000  0.000000   \n",
       "zzzs iphone                              0.0             0.000000  0.000000   \n",
       "zzzs iphone battery                      0.0             0.000000  0.000000   \n",
       "\n",
       "                                               Neutral  Positive              \\\n",
       "                              iPad    iPhone       NaN   Android Android App   \n",
       "!                         0.040762  0.135289  0.171880  0.207318    0.243020   \n",
       "! !                       0.000000  0.011047  0.013888  0.027452    0.029766   \n",
       "! ! !                     0.000000  0.005820  0.004413  0.007231    0.015681   \n",
       "! ! #angrybirds           0.000000  0.000000  0.000565  0.000000    0.000000   \n",
       "! ! #apple                0.000000  0.000000  0.000000  0.000000    0.000000   \n",
       "...                            ...       ...       ...       ...         ...   \n",
       "zynga facebook            0.000000  0.000000  0.002262  0.000000    0.000000   \n",
       "zynga facebook microsoft  0.000000  0.000000  0.002262  0.000000    0.000000   \n",
       "zzzs                      0.000000  0.014167  0.000000  0.000000    0.000000   \n",
       "zzzs iphone               0.000000  0.014167  0.000000  0.000000    0.000000   \n",
       "zzzs iphone battery       0.000000  0.014167  0.000000  0.000000    0.000000   \n",
       "\n",
       "                                                                  \\\n",
       "                             Apple    Google Other Apple Product   \n",
       "!                         0.132520  0.193603            0.215399   \n",
       "! !                       0.010887  0.041427            0.000000   \n",
       "! ! !                     0.003128  0.015051            0.000000   \n",
       "! ! #angrybirds           0.000000  0.000000            0.000000   \n",
       "! ! #apple                0.000000  0.000000            0.000000   \n",
       "...                            ...       ...                 ...   \n",
       "zynga facebook            0.000000  0.000000            0.000000   \n",
       "zynga facebook microsoft  0.000000  0.000000            0.000000   \n",
       "zzzs                      0.000000  0.000000            0.000000   \n",
       "zzzs iphone               0.000000  0.000000            0.000000   \n",
       "zzzs iphone battery       0.000000  0.000000            0.000000   \n",
       "\n",
       "                                                                             \n",
       "                         Other Google Product   iOS App      iPad    iPhone  \n",
       "!                                    0.119854  0.267892  0.249208  0.292128  \n",
       "! !                                  0.034769  0.044972  0.048623  0.022363  \n",
       "! ! !                                0.018316  0.017549  0.016127  0.006732  \n",
       "! ! #angrybirds                      0.000000  0.000000  0.000000  0.000000  \n",
       "! ! #apple                           0.000000  0.000000  0.002309  0.000000  \n",
       "...                                       ...       ...       ...       ...  \n",
       "zynga facebook                       0.000000  0.000000  0.000000  0.000000  \n",
       "zynga facebook microsoft             0.000000  0.000000  0.000000  0.000000  \n",
       "zzzs                                 0.000000  0.000000  0.000000  0.000000  \n",
       "zzzs iphone                          0.000000  0.000000  0.000000  0.000000  \n",
       "zzzs iphone battery                  0.000000  0.000000  0.000000  0.000000  \n",
       "\n",
       "[104142 rows x 19 columns]"
      ]
     },
     "execution_count": 38,
     "metadata": {},
     "output_type": "execute_result"
    },
    {
     "data": {
      "application/javascript": [
       "\n",
       "            setTimeout(function() {\n",
       "                var nbb_cell_id = 38;\n",
       "                var nbb_unformatted_code = \"tfidf = TfidfVectorizer(\\n    tokenizer=partial(nltk.casual_tokenize, strip_handles=True),\\n    stop_words=stop_words,\\n    max_features=None,\\n    ngram_range=(1, 3),\\n    norm=\\\"l2\\\",\\n)\\nbrand_vecs = tfidf.fit_transform(brand_docs.values)\\nbrand_vecs = lang.frame_doc_vecs(\\n    brand_vecs,\\n    tfidf.vocabulary_,\\n    brand_docs.index,\\n).T\\nbrand_vecs\";\n",
       "                var nbb_formatted_code = \"tfidf = TfidfVectorizer(\\n    tokenizer=partial(nltk.casual_tokenize, strip_handles=True),\\n    stop_words=stop_words,\\n    max_features=None,\\n    ngram_range=(1, 3),\\n    norm=\\\"l2\\\",\\n)\\nbrand_vecs = tfidf.fit_transform(brand_docs.values)\\nbrand_vecs = lang.frame_doc_vecs(\\n    brand_vecs,\\n    tfidf.vocabulary_,\\n    brand_docs.index,\\n).T\\nbrand_vecs\";\n",
       "                var nbb_cells = Jupyter.notebook.get_cells();\n",
       "                for (var i = 0; i < nbb_cells.length; ++i) {\n",
       "                    if (nbb_cells[i].input_prompt_number == nbb_cell_id) {\n",
       "                        if (nbb_cells[i].get_text() == nbb_unformatted_code) {\n",
       "                             nbb_cells[i].set_text(nbb_formatted_code);\n",
       "                        }\n",
       "                        break;\n",
       "                    }\n",
       "                }\n",
       "            }, 500);\n",
       "            "
      ],
      "text/plain": [
       "<IPython.core.display.Javascript object>"
      ]
     },
     "metadata": {},
     "output_type": "display_data"
    }
   ],
   "source": [
    "tfidf = TfidfVectorizer(\n",
    "    tokenizer=partial(nltk.casual_tokenize, strip_handles=True),\n",
    "    stop_words=stop_words,\n",
    "    max_features=None,\n",
    "    ngram_range=(1, 3),\n",
    "    norm=\"l2\",\n",
    ")\n",
    "brand_vecs = tfidf.fit_transform(brand_docs.values)\n",
    "brand_vecs = lang.frame_doc_vecs(\n",
    "    brand_vecs,\n",
    "    tfidf.vocabulary_,\n",
    "    brand_docs.index,\n",
    ").T\n",
    "brand_vecs"
   ]
  },
  {
   "cell_type": "code",
   "execution_count": 39,
   "metadata": {
    "ExecuteTime": {
     "end_time": "2021-06-23T07:31:33.931533Z",
     "start_time": "2021-06-23T07:31:33.812529Z"
    }
   },
   "outputs": [
    {
     "data": {
      "text/html": [
       "<div>\n",
       "<style scoped>\n",
       "    .dataframe tbody tr th:only-of-type {\n",
       "        vertical-align: middle;\n",
       "    }\n",
       "\n",
       "    .dataframe tbody tr th {\n",
       "        vertical-align: top;\n",
       "    }\n",
       "\n",
       "    .dataframe thead tr th {\n",
       "        text-align: left;\n",
       "    }\n",
       "</style>\n",
       "<table border=\"1\" class=\"dataframe\">\n",
       "  <thead>\n",
       "    <tr>\n",
       "      <th></th>\n",
       "      <th colspan=\"9\" halign=\"left\">Negative</th>\n",
       "      <th>Neutral</th>\n",
       "      <th colspan=\"9\" halign=\"left\">Positive</th>\n",
       "    </tr>\n",
       "    <tr>\n",
       "      <th></th>\n",
       "      <th>Android</th>\n",
       "      <th>Android App</th>\n",
       "      <th>Apple</th>\n",
       "      <th>Google</th>\n",
       "      <th>Other Apple Product</th>\n",
       "      <th>Other Google Product</th>\n",
       "      <th>iOS App</th>\n",
       "      <th>iPad</th>\n",
       "      <th>iPhone</th>\n",
       "      <th>NaN</th>\n",
       "      <th>Android</th>\n",
       "      <th>Android App</th>\n",
       "      <th>Apple</th>\n",
       "      <th>Google</th>\n",
       "      <th>Other Apple Product</th>\n",
       "      <th>Other Google Product</th>\n",
       "      <th>iOS App</th>\n",
       "      <th>iPad</th>\n",
       "      <th>iPhone</th>\n",
       "    </tr>\n",
       "  </thead>\n",
       "  <tbody>\n",
       "    <tr>\n",
       "      <th>!</th>\n",
       "      <td>0.04388</td>\n",
       "      <td>0.025603</td>\n",
       "      <td>0.054796</td>\n",
       "      <td>0.062841</td>\n",
       "      <td>0.0</td>\n",
       "      <td>0.041581</td>\n",
       "      <td>0.073591</td>\n",
       "      <td>0.040762</td>\n",
       "      <td>0.135289</td>\n",
       "      <td>0.171880</td>\n",
       "      <td>0.207318</td>\n",
       "      <td>0.243020</td>\n",
       "      <td>0.132520</td>\n",
       "      <td>0.193603</td>\n",
       "      <td>0.215399</td>\n",
       "      <td>0.119854</td>\n",
       "      <td>0.267892</td>\n",
       "      <td>0.249208</td>\n",
       "      <td>0.292128</td>\n",
       "    </tr>\n",
       "    <tr>\n",
       "      <th>! !</th>\n",
       "      <td>0.00000</td>\n",
       "      <td>0.000000</td>\n",
       "      <td>0.005163</td>\n",
       "      <td>0.010996</td>\n",
       "      <td>0.0</td>\n",
       "      <td>0.016977</td>\n",
       "      <td>0.022535</td>\n",
       "      <td>0.000000</td>\n",
       "      <td>0.011047</td>\n",
       "      <td>0.013888</td>\n",
       "      <td>0.027452</td>\n",
       "      <td>0.029766</td>\n",
       "      <td>0.010887</td>\n",
       "      <td>0.041427</td>\n",
       "      <td>0.000000</td>\n",
       "      <td>0.034769</td>\n",
       "      <td>0.044972</td>\n",
       "      <td>0.048623</td>\n",
       "      <td>0.022363</td>\n",
       "    </tr>\n",
       "    <tr>\n",
       "      <th>! ! !</th>\n",
       "      <td>0.00000</td>\n",
       "      <td>0.000000</td>\n",
       "      <td>0.000000</td>\n",
       "      <td>0.005793</td>\n",
       "      <td>0.0</td>\n",
       "      <td>0.008943</td>\n",
       "      <td>0.007914</td>\n",
       "      <td>0.000000</td>\n",
       "      <td>0.005820</td>\n",
       "      <td>0.004413</td>\n",
       "      <td>0.007231</td>\n",
       "      <td>0.015681</td>\n",
       "      <td>0.003128</td>\n",
       "      <td>0.015051</td>\n",
       "      <td>0.000000</td>\n",
       "      <td>0.018316</td>\n",
       "      <td>0.017549</td>\n",
       "      <td>0.016127</td>\n",
       "      <td>0.006732</td>\n",
       "    </tr>\n",
       "    <tr>\n",
       "      <th>! ! #angrybirds</th>\n",
       "      <td>0.00000</td>\n",
       "      <td>0.000000</td>\n",
       "      <td>0.000000</td>\n",
       "      <td>0.000000</td>\n",
       "      <td>0.0</td>\n",
       "      <td>0.000000</td>\n",
       "      <td>0.000000</td>\n",
       "      <td>0.000000</td>\n",
       "      <td>0.000000</td>\n",
       "      <td>0.000565</td>\n",
       "      <td>0.000000</td>\n",
       "      <td>0.000000</td>\n",
       "      <td>0.000000</td>\n",
       "      <td>0.000000</td>\n",
       "      <td>0.000000</td>\n",
       "      <td>0.000000</td>\n",
       "      <td>0.000000</td>\n",
       "      <td>0.000000</td>\n",
       "      <td>0.000000</td>\n",
       "    </tr>\n",
       "    <tr>\n",
       "      <th>! ! #apple</th>\n",
       "      <td>0.00000</td>\n",
       "      <td>0.000000</td>\n",
       "      <td>0.000000</td>\n",
       "      <td>0.000000</td>\n",
       "      <td>0.0</td>\n",
       "      <td>0.000000</td>\n",
       "      <td>0.000000</td>\n",
       "      <td>0.000000</td>\n",
       "      <td>0.000000</td>\n",
       "      <td>0.000000</td>\n",
       "      <td>0.000000</td>\n",
       "      <td>0.000000</td>\n",
       "      <td>0.000000</td>\n",
       "      <td>0.000000</td>\n",
       "      <td>0.000000</td>\n",
       "      <td>0.000000</td>\n",
       "      <td>0.000000</td>\n",
       "      <td>0.002309</td>\n",
       "      <td>0.000000</td>\n",
       "    </tr>\n",
       "    <tr>\n",
       "      <th>...</th>\n",
       "      <td>...</td>\n",
       "      <td>...</td>\n",
       "      <td>...</td>\n",
       "      <td>...</td>\n",
       "      <td>...</td>\n",
       "      <td>...</td>\n",
       "      <td>...</td>\n",
       "      <td>...</td>\n",
       "      <td>...</td>\n",
       "      <td>...</td>\n",
       "      <td>...</td>\n",
       "      <td>...</td>\n",
       "      <td>...</td>\n",
       "      <td>...</td>\n",
       "      <td>...</td>\n",
       "      <td>...</td>\n",
       "      <td>...</td>\n",
       "      <td>...</td>\n",
       "      <td>...</td>\n",
       "    </tr>\n",
       "    <tr>\n",
       "      <th>zynga facebook</th>\n",
       "      <td>0.00000</td>\n",
       "      <td>0.000000</td>\n",
       "      <td>0.000000</td>\n",
       "      <td>0.000000</td>\n",
       "      <td>0.0</td>\n",
       "      <td>0.000000</td>\n",
       "      <td>0.000000</td>\n",
       "      <td>0.000000</td>\n",
       "      <td>0.000000</td>\n",
       "      <td>0.002262</td>\n",
       "      <td>0.000000</td>\n",
       "      <td>0.000000</td>\n",
       "      <td>0.000000</td>\n",
       "      <td>0.000000</td>\n",
       "      <td>0.000000</td>\n",
       "      <td>0.000000</td>\n",
       "      <td>0.000000</td>\n",
       "      <td>0.000000</td>\n",
       "      <td>0.000000</td>\n",
       "    </tr>\n",
       "    <tr>\n",
       "      <th>zynga facebook microsoft</th>\n",
       "      <td>0.00000</td>\n",
       "      <td>0.000000</td>\n",
       "      <td>0.000000</td>\n",
       "      <td>0.000000</td>\n",
       "      <td>0.0</td>\n",
       "      <td>0.000000</td>\n",
       "      <td>0.000000</td>\n",
       "      <td>0.000000</td>\n",
       "      <td>0.000000</td>\n",
       "      <td>0.002262</td>\n",
       "      <td>0.000000</td>\n",
       "      <td>0.000000</td>\n",
       "      <td>0.000000</td>\n",
       "      <td>0.000000</td>\n",
       "      <td>0.000000</td>\n",
       "      <td>0.000000</td>\n",
       "      <td>0.000000</td>\n",
       "      <td>0.000000</td>\n",
       "      <td>0.000000</td>\n",
       "    </tr>\n",
       "    <tr>\n",
       "      <th>zzzs</th>\n",
       "      <td>0.00000</td>\n",
       "      <td>0.000000</td>\n",
       "      <td>0.000000</td>\n",
       "      <td>0.000000</td>\n",
       "      <td>0.0</td>\n",
       "      <td>0.000000</td>\n",
       "      <td>0.000000</td>\n",
       "      <td>0.000000</td>\n",
       "      <td>0.014167</td>\n",
       "      <td>0.000000</td>\n",
       "      <td>0.000000</td>\n",
       "      <td>0.000000</td>\n",
       "      <td>0.000000</td>\n",
       "      <td>0.000000</td>\n",
       "      <td>0.000000</td>\n",
       "      <td>0.000000</td>\n",
       "      <td>0.000000</td>\n",
       "      <td>0.000000</td>\n",
       "      <td>0.000000</td>\n",
       "    </tr>\n",
       "    <tr>\n",
       "      <th>zzzs iphone</th>\n",
       "      <td>0.00000</td>\n",
       "      <td>0.000000</td>\n",
       "      <td>0.000000</td>\n",
       "      <td>0.000000</td>\n",
       "      <td>0.0</td>\n",
       "      <td>0.000000</td>\n",
       "      <td>0.000000</td>\n",
       "      <td>0.000000</td>\n",
       "      <td>0.014167</td>\n",
       "      <td>0.000000</td>\n",
       "      <td>0.000000</td>\n",
       "      <td>0.000000</td>\n",
       "      <td>0.000000</td>\n",
       "      <td>0.000000</td>\n",
       "      <td>0.000000</td>\n",
       "      <td>0.000000</td>\n",
       "      <td>0.000000</td>\n",
       "      <td>0.000000</td>\n",
       "      <td>0.000000</td>\n",
       "    </tr>\n",
       "    <tr>\n",
       "      <th>zzzs iphone battery</th>\n",
       "      <td>0.00000</td>\n",
       "      <td>0.000000</td>\n",
       "      <td>0.000000</td>\n",
       "      <td>0.000000</td>\n",
       "      <td>0.0</td>\n",
       "      <td>0.000000</td>\n",
       "      <td>0.000000</td>\n",
       "      <td>0.000000</td>\n",
       "      <td>0.014167</td>\n",
       "      <td>0.000000</td>\n",
       "      <td>0.000000</td>\n",
       "      <td>0.000000</td>\n",
       "      <td>0.000000</td>\n",
       "      <td>0.000000</td>\n",
       "      <td>0.000000</td>\n",
       "      <td>0.000000</td>\n",
       "      <td>0.000000</td>\n",
       "      <td>0.000000</td>\n",
       "      <td>0.000000</td>\n",
       "    </tr>\n",
       "  </tbody>\n",
       "</table>\n",
       "<p>104142 rows × 19 columns</p>\n",
       "</div>"
      ],
      "text/plain": [
       "                         Negative                                  \\\n",
       "                          Android Android App     Apple    Google   \n",
       "!                         0.04388    0.025603  0.054796  0.062841   \n",
       "! !                       0.00000    0.000000  0.005163  0.010996   \n",
       "! ! !                     0.00000    0.000000  0.000000  0.005793   \n",
       "! ! #angrybirds           0.00000    0.000000  0.000000  0.000000   \n",
       "! ! #apple                0.00000    0.000000  0.000000  0.000000   \n",
       "...                           ...         ...       ...       ...   \n",
       "zynga facebook            0.00000    0.000000  0.000000  0.000000   \n",
       "zynga facebook microsoft  0.00000    0.000000  0.000000  0.000000   \n",
       "zzzs                      0.00000    0.000000  0.000000  0.000000   \n",
       "zzzs iphone               0.00000    0.000000  0.000000  0.000000   \n",
       "zzzs iphone battery       0.00000    0.000000  0.000000  0.000000   \n",
       "\n",
       "                                                                             \\\n",
       "                         Other Apple Product Other Google Product   iOS App   \n",
       "!                                        0.0             0.041581  0.073591   \n",
       "! !                                      0.0             0.016977  0.022535   \n",
       "! ! !                                    0.0             0.008943  0.007914   \n",
       "! ! #angrybirds                          0.0             0.000000  0.000000   \n",
       "! ! #apple                               0.0             0.000000  0.000000   \n",
       "...                                      ...                  ...       ...   \n",
       "zynga facebook                           0.0             0.000000  0.000000   \n",
       "zynga facebook microsoft                 0.0             0.000000  0.000000   \n",
       "zzzs                                     0.0             0.000000  0.000000   \n",
       "zzzs iphone                              0.0             0.000000  0.000000   \n",
       "zzzs iphone battery                      0.0             0.000000  0.000000   \n",
       "\n",
       "                                               Neutral  Positive              \\\n",
       "                              iPad    iPhone       NaN   Android Android App   \n",
       "!                         0.040762  0.135289  0.171880  0.207318    0.243020   \n",
       "! !                       0.000000  0.011047  0.013888  0.027452    0.029766   \n",
       "! ! !                     0.000000  0.005820  0.004413  0.007231    0.015681   \n",
       "! ! #angrybirds           0.000000  0.000000  0.000565  0.000000    0.000000   \n",
       "! ! #apple                0.000000  0.000000  0.000000  0.000000    0.000000   \n",
       "...                            ...       ...       ...       ...         ...   \n",
       "zynga facebook            0.000000  0.000000  0.002262  0.000000    0.000000   \n",
       "zynga facebook microsoft  0.000000  0.000000  0.002262  0.000000    0.000000   \n",
       "zzzs                      0.000000  0.014167  0.000000  0.000000    0.000000   \n",
       "zzzs iphone               0.000000  0.014167  0.000000  0.000000    0.000000   \n",
       "zzzs iphone battery       0.000000  0.014167  0.000000  0.000000    0.000000   \n",
       "\n",
       "                                                                  \\\n",
       "                             Apple    Google Other Apple Product   \n",
       "!                         0.132520  0.193603            0.215399   \n",
       "! !                       0.010887  0.041427            0.000000   \n",
       "! ! !                     0.003128  0.015051            0.000000   \n",
       "! ! #angrybirds           0.000000  0.000000            0.000000   \n",
       "! ! #apple                0.000000  0.000000            0.000000   \n",
       "...                            ...       ...                 ...   \n",
       "zynga facebook            0.000000  0.000000            0.000000   \n",
       "zynga facebook microsoft  0.000000  0.000000            0.000000   \n",
       "zzzs                      0.000000  0.000000            0.000000   \n",
       "zzzs iphone               0.000000  0.000000            0.000000   \n",
       "zzzs iphone battery       0.000000  0.000000            0.000000   \n",
       "\n",
       "                                                                             \n",
       "                         Other Google Product   iOS App      iPad    iPhone  \n",
       "!                                    0.119854  0.267892  0.249208  0.292128  \n",
       "! !                                  0.034769  0.044972  0.048623  0.022363  \n",
       "! ! !                                0.018316  0.017549  0.016127  0.006732  \n",
       "! ! #angrybirds                      0.000000  0.000000  0.000000  0.000000  \n",
       "! ! #apple                           0.000000  0.000000  0.002309  0.000000  \n",
       "...                                       ...       ...       ...       ...  \n",
       "zynga facebook                       0.000000  0.000000  0.000000  0.000000  \n",
       "zynga facebook microsoft             0.000000  0.000000  0.000000  0.000000  \n",
       "zzzs                                 0.000000  0.000000  0.000000  0.000000  \n",
       "zzzs iphone                          0.000000  0.000000  0.000000  0.000000  \n",
       "zzzs iphone battery                  0.000000  0.000000  0.000000  0.000000  \n",
       "\n",
       "[104142 rows x 19 columns]"
      ]
     },
     "execution_count": 39,
     "metadata": {},
     "output_type": "execute_result"
    },
    {
     "data": {
      "application/javascript": [
       "\n",
       "            setTimeout(function() {\n",
       "                var nbb_cell_id = 39;\n",
       "                var nbb_unformatted_code = \"brand_vecs = brand_vecs.sort_index(1)\\nbrand_vecs\";\n",
       "                var nbb_formatted_code = \"brand_vecs = brand_vecs.sort_index(1)\\nbrand_vecs\";\n",
       "                var nbb_cells = Jupyter.notebook.get_cells();\n",
       "                for (var i = 0; i < nbb_cells.length; ++i) {\n",
       "                    if (nbb_cells[i].input_prompt_number == nbb_cell_id) {\n",
       "                        if (nbb_cells[i].get_text() == nbb_unformatted_code) {\n",
       "                             nbb_cells[i].set_text(nbb_formatted_code);\n",
       "                        }\n",
       "                        break;\n",
       "                    }\n",
       "                }\n",
       "            }, 500);\n",
       "            "
      ],
      "text/plain": [
       "<IPython.core.display.Javascript object>"
      ]
     },
     "metadata": {},
     "output_type": "display_data"
    }
   ],
   "source": [
    "brand_vecs = brand_vecs.sort_index(1)\n",
    "brand_vecs"
   ]
  },
  {
   "cell_type": "code",
   "execution_count": 40,
   "metadata": {
    "ExecuteTime": {
     "end_time": "2021-06-23T07:31:34.032530Z",
     "start_time": "2021-06-23T07:31:33.932533Z"
    }
   },
   "outputs": [
    {
     "data": {
      "application/javascript": [
       "\n",
       "            setTimeout(function() {\n",
       "                var nbb_cell_id = 40;\n",
       "                var nbb_unformatted_code = \"# fig = plotting.wordcloud(brand_vecs.loc[:, \\\"Negative\\\"], cmap=\\\"Reds\\\", random_state=rando)\\n# fig.savefig(\\\"negative.png\\\")\";\n",
       "                var nbb_formatted_code = \"# fig = plotting.wordcloud(brand_vecs.loc[:, \\\"Negative\\\"], cmap=\\\"Reds\\\", random_state=rando)\\n# fig.savefig(\\\"negative.png\\\")\";\n",
       "                var nbb_cells = Jupyter.notebook.get_cells();\n",
       "                for (var i = 0; i < nbb_cells.length; ++i) {\n",
       "                    if (nbb_cells[i].input_prompt_number == nbb_cell_id) {\n",
       "                        if (nbb_cells[i].get_text() == nbb_unformatted_code) {\n",
       "                             nbb_cells[i].set_text(nbb_formatted_code);\n",
       "                        }\n",
       "                        break;\n",
       "                    }\n",
       "                }\n",
       "            }, 500);\n",
       "            "
      ],
      "text/plain": [
       "<IPython.core.display.Javascript object>"
      ]
     },
     "metadata": {},
     "output_type": "display_data"
    }
   ],
   "source": [
    "# fig = plotting.wordcloud(brand_vecs.loc[:, \"Negative\"], cmap=\"Reds\", random_state=rando)\n",
    "# fig.savefig(\"negative.png\")"
   ]
  },
  {
   "cell_type": "code",
   "execution_count": 41,
   "metadata": {
    "ExecuteTime": {
     "end_time": "2021-06-23T07:31:34.130531Z",
     "start_time": "2021-06-23T07:31:34.033532Z"
    }
   },
   "outputs": [
    {
     "data": {
      "application/javascript": [
       "\n",
       "            setTimeout(function() {\n",
       "                var nbb_cell_id = 41;\n",
       "                var nbb_unformatted_code = \"# fig = plotting.wordcloud(\\n#     brand_vecs.loc[:, \\\"Positive\\\"], cmap=\\\"Greens\\\", random_state=rando\\n# )\\n# fig.savefig(\\\"positive.png\\\")\";\n",
       "                var nbb_formatted_code = \"# fig = plotting.wordcloud(\\n#     brand_vecs.loc[:, \\\"Positive\\\"], cmap=\\\"Greens\\\", random_state=rando\\n# )\\n# fig.savefig(\\\"positive.png\\\")\";\n",
       "                var nbb_cells = Jupyter.notebook.get_cells();\n",
       "                for (var i = 0; i < nbb_cells.length; ++i) {\n",
       "                    if (nbb_cells[i].input_prompt_number == nbb_cell_id) {\n",
       "                        if (nbb_cells[i].get_text() == nbb_unformatted_code) {\n",
       "                             nbb_cells[i].set_text(nbb_formatted_code);\n",
       "                        }\n",
       "                        break;\n",
       "                    }\n",
       "                }\n",
       "            }, 500);\n",
       "            "
      ],
      "text/plain": [
       "<IPython.core.display.Javascript object>"
      ]
     },
     "metadata": {},
     "output_type": "display_data"
    }
   ],
   "source": [
    "# fig = plotting.wordcloud(\n",
    "#     brand_vecs.loc[:, \"Positive\"], cmap=\"Greens\", random_state=rando\n",
    "# )\n",
    "# fig.savefig(\"positive.png\")"
   ]
  },
  {
   "cell_type": "markdown",
   "metadata": {
    "ExecuteTime": {
     "end_time": "2021-06-18T21:51:57.879110Z",
     "start_time": "2021-06-18T21:51:57.788136Z"
    }
   },
   "source": [
    "# Modeling"
   ]
  },
  {
   "cell_type": "markdown",
   "metadata": {},
   "source": [
    "## Train-Test-Split"
   ]
  },
  {
   "cell_type": "code",
   "execution_count": 42,
   "metadata": {
    "ExecuteTime": {
     "end_time": "2021-06-23T07:31:34.231528Z",
     "start_time": "2021-06-23T07:31:34.131533Z"
    }
   },
   "outputs": [
    {
     "data": {
      "text/plain": [
       "0    NNS VBP VBN IN NN VBG NN NN VBD JJ . NN JJ NN ...\n",
       "1    NN VBP IN NNP JJ NN NN NN IN PRP JJ NN IN PRP$...\n",
       "2            NNS MD RB VB IN NN RB PRP MD NN PRP RP NN\n",
       "3                  RB NN DT NN NN NN NN DT NN NN NN NN\n",
       "4    JJ JJ NN NN NNP NN NN NN NN RB JJ NNS NNS VBP ...\n",
       "Name: pos_tags, dtype: object"
      ]
     },
     "execution_count": 42,
     "metadata": {},
     "output_type": "execute_result"
    },
    {
     "data": {
      "application/javascript": [
       "\n",
       "            setTimeout(function() {\n",
       "                var nbb_cell_id = 42;\n",
       "                var nbb_unformatted_code = \"df[\\\"pos_tags\\\"] = df[\\\"pos_tags\\\"].str.join(\\\" \\\")\\ndf[\\\"pos_tags\\\"].head()\";\n",
       "                var nbb_formatted_code = \"df[\\\"pos_tags\\\"] = df[\\\"pos_tags\\\"].str.join(\\\" \\\")\\ndf[\\\"pos_tags\\\"].head()\";\n",
       "                var nbb_cells = Jupyter.notebook.get_cells();\n",
       "                for (var i = 0; i < nbb_cells.length; ++i) {\n",
       "                    if (nbb_cells[i].input_prompt_number == nbb_cell_id) {\n",
       "                        if (nbb_cells[i].get_text() == nbb_unformatted_code) {\n",
       "                             nbb_cells[i].set_text(nbb_formatted_code);\n",
       "                        }\n",
       "                        break;\n",
       "                    }\n",
       "                }\n",
       "            }, 500);\n",
       "            "
      ],
      "text/plain": [
       "<IPython.core.display.Javascript object>"
      ]
     },
     "metadata": {},
     "output_type": "display_data"
    }
   ],
   "source": [
    "df[\"pos_tags\"] = df[\"pos_tags\"].str.join(\" \")\n",
    "df[\"pos_tags\"].head()"
   ]
  },
  {
   "cell_type": "code",
   "execution_count": 43,
   "metadata": {
    "ExecuteTime": {
     "end_time": "2021-06-23T07:31:34.344529Z",
     "start_time": "2021-06-23T07:31:34.232528Z"
    }
   },
   "outputs": [
    {
     "data": {
      "text/plain": [
       "0                iphone\n",
       "1       ipad iphone_app\n",
       "2                  ipad\n",
       "3            iphone_app\n",
       "4                google\n",
       "             ...       \n",
       "9088               ipad\n",
       "9089             google\n",
       "9090             google\n",
       "9091             iphone\n",
       "9092             google\n",
       "Name: brand_terms, Length: 8912, dtype: object"
      ]
     },
     "execution_count": 43,
     "metadata": {},
     "output_type": "execute_result"
    },
    {
     "data": {
      "application/javascript": [
       "\n",
       "            setTimeout(function() {\n",
       "                var nbb_cell_id = 43;\n",
       "                var nbb_unformatted_code = \"df.brand_terms = (\\n    df.brand_terms.map(lambda x: [y.replace(\\\" \\\", \\\"_\\\") for y in x], \\\"ignore\\\")\\n    .str.join(\\\" \\\")\\n    .fillna(\\\"\\\")\\n)\\ndf.brand_terms\";\n",
       "                var nbb_formatted_code = \"df.brand_terms = (\\n    df.brand_terms.map(lambda x: [y.replace(\\\" \\\", \\\"_\\\") for y in x], \\\"ignore\\\")\\n    .str.join(\\\" \\\")\\n    .fillna(\\\"\\\")\\n)\\ndf.brand_terms\";\n",
       "                var nbb_cells = Jupyter.notebook.get_cells();\n",
       "                for (var i = 0; i < nbb_cells.length; ++i) {\n",
       "                    if (nbb_cells[i].input_prompt_number == nbb_cell_id) {\n",
       "                        if (nbb_cells[i].get_text() == nbb_unformatted_code) {\n",
       "                             nbb_cells[i].set_text(nbb_formatted_code);\n",
       "                        }\n",
       "                        break;\n",
       "                    }\n",
       "                }\n",
       "            }, 500);\n",
       "            "
      ],
      "text/plain": [
       "<IPython.core.display.Javascript object>"
      ]
     },
     "metadata": {},
     "output_type": "display_data"
    }
   ],
   "source": [
    "df.brand_terms = (\n",
    "    df.brand_terms.map(lambda x: [y.replace(\" \", \"_\") for y in x], \"ignore\")\n",
    "    .str.join(\" \")\n",
    "    .fillna(\"\")\n",
    ")\n",
    "df.brand_terms"
   ]
  },
  {
   "cell_type": "code",
   "execution_count": 44,
   "metadata": {
    "ExecuteTime": {
     "end_time": "2021-06-23T07:31:34.461530Z",
     "start_time": "2021-06-23T07:31:34.345528Z"
    },
    "run_control": {
     "marked": false
    }
   },
   "outputs": [
    {
     "data": {
      "text/plain": [
       "((6684, 3), (6684,), (2228, 3), (2228,))"
      ]
     },
     "execution_count": 44,
     "metadata": {},
     "output_type": "execute_result"
    },
    {
     "data": {
      "application/javascript": [
       "\n",
       "            setTimeout(function() {\n",
       "                var nbb_cell_id = 44;\n",
       "                var nbb_unformatted_code = \"cols = [\\\"text\\\", \\\"pos_tags\\\", \\\"brand_terms\\\"]\\nX = df.loc[:, cols].copy()\\ny = df.emotion.to_numpy()\\nX_train, X_test, y_train, y_test = train_test_split(\\n    X,\\n    y,\\n    random_state=rando,\\n    stratify=y,\\n    shuffle=True,\\n)\\nX_train.shape, y_train.shape, X_test.shape, y_test.shape\";\n",
       "                var nbb_formatted_code = \"cols = [\\\"text\\\", \\\"pos_tags\\\", \\\"brand_terms\\\"]\\nX = df.loc[:, cols].copy()\\ny = df.emotion.to_numpy()\\nX_train, X_test, y_train, y_test = train_test_split(\\n    X,\\n    y,\\n    random_state=rando,\\n    stratify=y,\\n    shuffle=True,\\n)\\nX_train.shape, y_train.shape, X_test.shape, y_test.shape\";\n",
       "                var nbb_cells = Jupyter.notebook.get_cells();\n",
       "                for (var i = 0; i < nbb_cells.length; ++i) {\n",
       "                    if (nbb_cells[i].input_prompt_number == nbb_cell_id) {\n",
       "                        if (nbb_cells[i].get_text() == nbb_unformatted_code) {\n",
       "                             nbb_cells[i].set_text(nbb_formatted_code);\n",
       "                        }\n",
       "                        break;\n",
       "                    }\n",
       "                }\n",
       "            }, 500);\n",
       "            "
      ],
      "text/plain": [
       "<IPython.core.display.Javascript object>"
      ]
     },
     "metadata": {},
     "output_type": "display_data"
    }
   ],
   "source": [
    "cols = [\"text\", \"pos_tags\", \"brand_terms\"]\n",
    "X = df.loc[:, cols].copy()\n",
    "y = df.emotion.to_numpy()\n",
    "X_train, X_test, y_train, y_test = train_test_split(\n",
    "    X,\n",
    "    y,\n",
    "    random_state=rando,\n",
    "    stratify=y,\n",
    "    shuffle=True,\n",
    ")\n",
    "X_train.shape, y_train.shape, X_test.shape, y_test.shape"
   ]
  },
  {
   "cell_type": "markdown",
   "metadata": {},
   "source": [
    "## Baseline Dummy Model"
   ]
  },
  {
   "cell_type": "code",
   "execution_count": 45,
   "metadata": {
    "ExecuteTime": {
     "end_time": "2021-06-23T07:31:34.559532Z",
     "start_time": "2021-06-23T07:31:34.462531Z"
    }
   },
   "outputs": [
    {
     "data": {
      "text/plain": [
       "DummyClassifier(random_state=RandomState(MT19937) at 0x21A87528240,\n",
       "                strategy='stratified')"
      ]
     },
     "execution_count": 45,
     "metadata": {},
     "output_type": "execute_result"
    },
    {
     "data": {
      "application/javascript": [
       "\n",
       "            setTimeout(function() {\n",
       "                var nbb_cell_id = 45;\n",
       "                var nbb_unformatted_code = \"dummy = DummyClassifier(strategy=\\\"stratified\\\", random_state=rando)\\ndummy\";\n",
       "                var nbb_formatted_code = \"dummy = DummyClassifier(strategy=\\\"stratified\\\", random_state=rando)\\ndummy\";\n",
       "                var nbb_cells = Jupyter.notebook.get_cells();\n",
       "                for (var i = 0; i < nbb_cells.length; ++i) {\n",
       "                    if (nbb_cells[i].input_prompt_number == nbb_cell_id) {\n",
       "                        if (nbb_cells[i].get_text() == nbb_unformatted_code) {\n",
       "                             nbb_cells[i].set_text(nbb_formatted_code);\n",
       "                        }\n",
       "                        break;\n",
       "                    }\n",
       "                }\n",
       "            }, 500);\n",
       "            "
      ],
      "text/plain": [
       "<IPython.core.display.Javascript object>"
      ]
     },
     "metadata": {},
     "output_type": "display_data"
    }
   ],
   "source": [
    "dummy = DummyClassifier(strategy=\"stratified\", random_state=rando)\n",
    "dummy"
   ]
  },
  {
   "cell_type": "code",
   "execution_count": 46,
   "metadata": {
    "ExecuteTime": {
     "end_time": "2021-06-23T07:31:34.657530Z",
     "start_time": "2021-06-23T07:31:34.560530Z"
    }
   },
   "outputs": [
    {
     "data": {
      "text/plain": [
       "(TfidfVectorizer(token_pattern=None,\n",
       "                 tokenizer=<function casual_tokenize at 0x0000021A83C1A4C0>),\n",
       " TfidfVectorizer(tokenizer=<function space_tokenize at 0x0000021A863E6040>))"
      ]
     },
     "execution_count": 46,
     "metadata": {},
     "output_type": "execute_result"
    },
    {
     "data": {
      "application/javascript": [
       "\n",
       "            setTimeout(function() {\n",
       "                var nbb_cell_id = 46;\n",
       "                var nbb_unformatted_code = \"tfidf.set_params(\\n    preprocessor=None,\\n    max_features=None,\\n    tokenizer=nltk.casual_tokenize,\\n    token_pattern=None,\\n    ngram_range=(1, 1),\\n    stop_words=None,\\n)\\n\\ntfidf_2 = TfidfVectorizer(tokenizer=lang.space_tokenize)\\n\\ntfidf, tfidf_2\";\n",
       "                var nbb_formatted_code = \"tfidf.set_params(\\n    preprocessor=None,\\n    max_features=None,\\n    tokenizer=nltk.casual_tokenize,\\n    token_pattern=None,\\n    ngram_range=(1, 1),\\n    stop_words=None,\\n)\\n\\ntfidf_2 = TfidfVectorizer(tokenizer=lang.space_tokenize)\\n\\ntfidf, tfidf_2\";\n",
       "                var nbb_cells = Jupyter.notebook.get_cells();\n",
       "                for (var i = 0; i < nbb_cells.length; ++i) {\n",
       "                    if (nbb_cells[i].input_prompt_number == nbb_cell_id) {\n",
       "                        if (nbb_cells[i].get_text() == nbb_unformatted_code) {\n",
       "                             nbb_cells[i].set_text(nbb_formatted_code);\n",
       "                        }\n",
       "                        break;\n",
       "                    }\n",
       "                }\n",
       "            }, 500);\n",
       "            "
      ],
      "text/plain": [
       "<IPython.core.display.Javascript object>"
      ]
     },
     "metadata": {},
     "output_type": "display_data"
    }
   ],
   "source": [
    "tfidf.set_params(\n",
    "    preprocessor=None,\n",
    "    max_features=None,\n",
    "    tokenizer=nltk.casual_tokenize,\n",
    "    token_pattern=None,\n",
    "    ngram_range=(1, 1),\n",
    "    stop_words=None,\n",
    ")\n",
    "\n",
    "tfidf_2 = TfidfVectorizer(tokenizer=lang.space_tokenize)\n",
    "\n",
    "tfidf, tfidf_2"
   ]
  },
  {
   "cell_type": "code",
   "execution_count": 47,
   "metadata": {
    "ExecuteTime": {
     "end_time": "2021-06-23T07:31:34.763529Z",
     "start_time": "2021-06-23T07:31:34.658530Z"
    }
   },
   "outputs": [
    {
     "data": {
      "text/plain": [
       "ColumnTransformer(n_jobs=1,\n",
       "                  transformers=[('txt',\n",
       "                                 TfidfVectorizer(token_pattern=None,\n",
       "                                                 tokenizer=<function casual_tokenize at 0x0000021A83C1A4C0>),\n",
       "                                 'text'),\n",
       "                                ('pos',\n",
       "                                 TfidfVectorizer(tokenizer=<function space_tokenize at 0x0000021A863E6040>),\n",
       "                                 'pos_tags'),\n",
       "                                ('bra',\n",
       "                                 TfidfVectorizer(tokenizer=<function space_tokenize at 0x0000021A863E6040>),\n",
       "                                 'brand_terms')])"
      ]
     },
     "execution_count": 47,
     "metadata": {},
     "output_type": "execute_result"
    },
    {
     "data": {
      "application/javascript": [
       "\n",
       "            setTimeout(function() {\n",
       "                var nbb_cell_id = 47;\n",
       "                var nbb_unformatted_code = \"col_xform = ColumnTransformer(\\n    [\\n        (\\\"txt\\\", tfidf, \\\"text\\\"),\\n        (\\\"pos\\\", clone(tfidf_2), \\\"pos_tags\\\"),\\n        (\\\"bra\\\", clone(tfidf_2), \\\"brand_terms\\\"),\\n    ],\\n    n_jobs=1,\\n)\\ncol_xform\";\n",
       "                var nbb_formatted_code = \"col_xform = ColumnTransformer(\\n    [\\n        (\\\"txt\\\", tfidf, \\\"text\\\"),\\n        (\\\"pos\\\", clone(tfidf_2), \\\"pos_tags\\\"),\\n        (\\\"bra\\\", clone(tfidf_2), \\\"brand_terms\\\"),\\n    ],\\n    n_jobs=1,\\n)\\ncol_xform\";\n",
       "                var nbb_cells = Jupyter.notebook.get_cells();\n",
       "                for (var i = 0; i < nbb_cells.length; ++i) {\n",
       "                    if (nbb_cells[i].input_prompt_number == nbb_cell_id) {\n",
       "                        if (nbb_cells[i].get_text() == nbb_unformatted_code) {\n",
       "                             nbb_cells[i].set_text(nbb_formatted_code);\n",
       "                        }\n",
       "                        break;\n",
       "                    }\n",
       "                }\n",
       "            }, 500);\n",
       "            "
      ],
      "text/plain": [
       "<IPython.core.display.Javascript object>"
      ]
     },
     "metadata": {},
     "output_type": "display_data"
    }
   ],
   "source": [
    "col_xform = ColumnTransformer(\n",
    "    [\n",
    "        (\"txt\", tfidf, \"text\"),\n",
    "        (\"pos\", clone(tfidf_2), \"pos_tags\"),\n",
    "        (\"bra\", clone(tfidf_2), \"brand_terms\"),\n",
    "    ],\n",
    "    n_jobs=1,\n",
    ")\n",
    "col_xform"
   ]
  },
  {
   "cell_type": "code",
   "execution_count": 48,
   "metadata": {
    "ExecuteTime": {
     "end_time": "2021-06-23T07:31:34.873530Z",
     "start_time": "2021-06-23T07:31:34.764530Z"
    }
   },
   "outputs": [
    {
     "data": {
      "text/plain": [
       "Pipeline(steps=[('col',\n",
       "                 ColumnTransformer(n_jobs=1,\n",
       "                                   transformers=[('txt',\n",
       "                                                  TfidfVectorizer(token_pattern=None,\n",
       "                                                                  tokenizer=<function casual_tokenize at 0x0000021A83C1A4C0>),\n",
       "                                                  'text'),\n",
       "                                                 ('pos',\n",
       "                                                  TfidfVectorizer(tokenizer=<function space_tokenize at 0x0000021A863E6040>),\n",
       "                                                  'pos_tags'),\n",
       "                                                 ('bra',\n",
       "                                                  TfidfVectorizer(tokenizer=<function space_tokenize at 0x0000021A863E6040>),\n",
       "                                                  'brand_terms')])),\n",
       "                ('cls',\n",
       "                 DummyClassifier(random_state=RandomState(MT19937) at 0x21A87528240,\n",
       "                                 strategy='stratified'))])"
      ]
     },
     "execution_count": 48,
     "metadata": {},
     "output_type": "execute_result"
    },
    {
     "data": {
      "application/javascript": [
       "\n",
       "            setTimeout(function() {\n",
       "                var nbb_cell_id = 48;\n",
       "                var nbb_unformatted_code = \"main_pipe = Pipeline(\\n    [\\n        (\\\"col\\\", col_xform),\\n        (\\\"cls\\\", dummy),\\n    ]\\n)\\nmain_pipe\";\n",
       "                var nbb_formatted_code = \"main_pipe = Pipeline(\\n    [\\n        (\\\"col\\\", col_xform),\\n        (\\\"cls\\\", dummy),\\n    ]\\n)\\nmain_pipe\";\n",
       "                var nbb_cells = Jupyter.notebook.get_cells();\n",
       "                for (var i = 0; i < nbb_cells.length; ++i) {\n",
       "                    if (nbb_cells[i].input_prompt_number == nbb_cell_id) {\n",
       "                        if (nbb_cells[i].get_text() == nbb_unformatted_code) {\n",
       "                             nbb_cells[i].set_text(nbb_formatted_code);\n",
       "                        }\n",
       "                        break;\n",
       "                    }\n",
       "                }\n",
       "            }, 500);\n",
       "            "
      ],
      "text/plain": [
       "<IPython.core.display.Javascript object>"
      ]
     },
     "metadata": {},
     "output_type": "display_data"
    }
   ],
   "source": [
    "main_pipe = Pipeline(\n",
    "    [\n",
    "        (\"col\", col_xform),\n",
    "        (\"cls\", dummy),\n",
    "    ]\n",
    ")\n",
    "main_pipe"
   ]
  },
  {
   "cell_type": "code",
   "execution_count": 49,
   "metadata": {
    "ExecuteTime": {
     "end_time": "2021-06-23T07:31:35.775558Z",
     "start_time": "2021-06-23T07:31:34.874527Z"
    },
    "run_control": {
     "marked": false
    }
   },
   "outputs": [
    {
     "data": {
      "text/plain": [
       "<8912x10634 sparse matrix of type '<class 'numpy.float64'>'\n",
       "\twith 252242 stored elements in Compressed Sparse Row format>"
      ]
     },
     "execution_count": 49,
     "metadata": {},
     "output_type": "execute_result"
    },
    {
     "data": {
      "application/javascript": [
       "\n",
       "            setTimeout(function() {\n",
       "                var nbb_cell_id = 49;\n",
       "                var nbb_unformatted_code = \"vecs = main_pipe[:1].fit_transform(X)\\nvecs\";\n",
       "                var nbb_formatted_code = \"vecs = main_pipe[:1].fit_transform(X)\\nvecs\";\n",
       "                var nbb_cells = Jupyter.notebook.get_cells();\n",
       "                for (var i = 0; i < nbb_cells.length; ++i) {\n",
       "                    if (nbb_cells[i].input_prompt_number == nbb_cell_id) {\n",
       "                        if (nbb_cells[i].get_text() == nbb_unformatted_code) {\n",
       "                             nbb_cells[i].set_text(nbb_formatted_code);\n",
       "                        }\n",
       "                        break;\n",
       "                    }\n",
       "                }\n",
       "            }, 500);\n",
       "            "
      ],
      "text/plain": [
       "<IPython.core.display.Javascript object>"
      ]
     },
     "metadata": {},
     "output_type": "display_data"
    }
   ],
   "source": [
    "vecs = main_pipe[:1].fit_transform(X)\n",
    "vecs"
   ]
  },
  {
   "cell_type": "code",
   "execution_count": 50,
   "metadata": {
    "ExecuteTime": {
     "end_time": "2021-06-23T07:31:37.022530Z",
     "start_time": "2021-06-23T07:31:35.776528Z"
    }
   },
   "outputs": [
    {
     "data": {
      "text/html": [
       "<style  type=\"text/css\" >\n",
       "#T_5e785_row0_col0{\n",
       "            background-color:  #5983bd;\n",
       "            color:  #000000;\n",
       "        }#T_5e785_row0_col1{\n",
       "            background-color:  #edd5d3;\n",
       "            color:  #000000;\n",
       "        }#T_5e785_row0_col2,#T_5e785_row3_col2{\n",
       "            background-color:  #bbc5d7;\n",
       "            color:  #000000;\n",
       "        }#T_5e785_row1_col0{\n",
       "            background-color:  #5e86bd;\n",
       "            color:  #000000;\n",
       "        }#T_5e785_row1_col1{\n",
       "            background-color:  #f2dfdd;\n",
       "            color:  #000000;\n",
       "        }#T_5e785_row1_col2{\n",
       "            background-color:  #c3cbda;\n",
       "            color:  #000000;\n",
       "        }#T_5e785_row2_col0{\n",
       "            background-color:  #5b84bd;\n",
       "            color:  #000000;\n",
       "        }#T_5e785_row2_col1{\n",
       "            background-color:  #efdad8;\n",
       "            color:  #000000;\n",
       "        }#T_5e785_row2_col2{\n",
       "            background-color:  #bfc8d8;\n",
       "            color:  #000000;\n",
       "        }#T_5e785_row3_col0{\n",
       "            background-color:  #4a7bbc;\n",
       "            color:  #000000;\n",
       "        }#T_5e785_row3_col1{\n",
       "            background-color:  #ecd2d0;\n",
       "            color:  #000000;\n",
       "        }</style><table id=\"T_5e785_\" ><thead>    <tr>        <th class=\"blank level0\" ></th>        <th class=\"col_heading level0 col0\" >Negative</th>        <th class=\"col_heading level0 col1\" >Neutral</th>        <th class=\"col_heading level0 col2\" >Positive</th>        <th class=\"col_heading level0 col3\" >macro avg</th>        <th class=\"col_heading level0 col4\" >weighted avg</th>        <th class=\"col_heading level0 col5\" >accuracy</th>        <th class=\"col_heading level0 col6\" >bal accuracy</th>    </tr></thead><tbody>\n",
       "                <tr>\n",
       "                        <th id=\"T_5e785_level0_row0\" class=\"row_heading level0 row0\" >precision</th>\n",
       "                        <td id=\"T_5e785_row0_col0\" class=\"data row0 col0\" >0.097</td>\n",
       "                        <td id=\"T_5e785_row0_col1\" class=\"data row0 col1\" >0.597</td>\n",
       "                        <td id=\"T_5e785_row0_col2\" class=\"data row0 col2\" >0.329</td>\n",
       "                        <td id=\"T_5e785_row0_col3\" class=\"data row0 col3\" >0.341</td>\n",
       "                        <td id=\"T_5e785_row0_col4\" class=\"data row0 col4\" >0.476</td>\n",
       "                        <td id=\"T_5e785_row0_col5\" class=\"data row0 col5\" >0.469</td>\n",
       "                        <td id=\"T_5e785_row0_col6\" class=\"data row0 col6\" >0.342</td>\n",
       "            </tr>\n",
       "            <tr>\n",
       "                        <th id=\"T_5e785_level0_row1\" class=\"row_heading level0 row1\" >recall</th>\n",
       "                        <td id=\"T_5e785_row1_col0\" class=\"data row1 col0\" >0.106</td>\n",
       "                        <td id=\"T_5e785_row1_col1\" class=\"data row1 col1\" >0.573</td>\n",
       "                        <td id=\"T_5e785_row1_col2\" class=\"data row1 col2\" >0.348</td>\n",
       "                        <td id=\"T_5e785_row1_col3\" class=\"data row1 col3\" >0.342</td>\n",
       "                        <td id=\"T_5e785_row1_col4\" class=\"data row1 col4\" >0.469</td>\n",
       "                        <td id=\"T_5e785_row1_col5\" class=\"data row1 col5\" ></td>\n",
       "                        <td id=\"T_5e785_row1_col6\" class=\"data row1 col6\" ></td>\n",
       "            </tr>\n",
       "            <tr>\n",
       "                        <th id=\"T_5e785_level0_row2\" class=\"row_heading level0 row2\" >f1-score</th>\n",
       "                        <td id=\"T_5e785_row2_col0\" class=\"data row2 col0\" >0.101</td>\n",
       "                        <td id=\"T_5e785_row2_col1\" class=\"data row2 col1\" >0.585</td>\n",
       "                        <td id=\"T_5e785_row2_col2\" class=\"data row2 col2\" >0.338</td>\n",
       "                        <td id=\"T_5e785_row2_col3\" class=\"data row2 col3\" >0.341</td>\n",
       "                        <td id=\"T_5e785_row2_col4\" class=\"data row2 col4\" >0.472</td>\n",
       "                        <td id=\"T_5e785_row2_col5\" class=\"data row2 col5\" ></td>\n",
       "                        <td id=\"T_5e785_row2_col6\" class=\"data row2 col6\" ></td>\n",
       "            </tr>\n",
       "            <tr>\n",
       "                        <th id=\"T_5e785_level0_row3\" class=\"row_heading level0 row3\" >support</th>\n",
       "                        <td id=\"T_5e785_row3_col0\" class=\"data row3 col0\" >0.064</td>\n",
       "                        <td id=\"T_5e785_row3_col1\" class=\"data row3 col1\" >0.605</td>\n",
       "                        <td id=\"T_5e785_row3_col2\" class=\"data row3 col2\" >0.332</td>\n",
       "                        <td id=\"T_5e785_row3_col3\" class=\"data row3 col3\" ></td>\n",
       "                        <td id=\"T_5e785_row3_col4\" class=\"data row3 col4\" ></td>\n",
       "                        <td id=\"T_5e785_row3_col5\" class=\"data row3 col5\" ></td>\n",
       "                        <td id=\"T_5e785_row3_col6\" class=\"data row3 col6\" ></td>\n",
       "            </tr>\n",
       "    </tbody></table>"
      ],
      "text/plain": [
       "<pandas.io.formats.style.Styler at 0x21a87721f10>"
      ]
     },
     "metadata": {},
     "output_type": "display_data"
    },
    {
     "data": {
      "image/png": "[encoded data removed]",
      "text/plain": [
       "<Figure size 288x288 with 1 Axes>"
      ]
     },
     "metadata": {
      "needs_background": "light"
     },
     "output_type": "display_data"
    },
    {
     "data": {
      "application/javascript": [
       "\n",
       "            setTimeout(function() {\n",
       "                var nbb_cell_id = 50;\n",
       "                var nbb_unformatted_code = \"test_fit = partial(\\n    diag.test_fit,\\n    X_train=X_train,\\n    X_test=X_test,\\n    y_train=y_train,\\n    y_test=y_test,\\n)\\ntest_fit(main_pipe)\";\n",
       "                var nbb_formatted_code = \"test_fit = partial(\\n    diag.test_fit,\\n    X_train=X_train,\\n    X_test=X_test,\\n    y_train=y_train,\\n    y_test=y_test,\\n)\\ntest_fit(main_pipe)\";\n",
       "                var nbb_cells = Jupyter.notebook.get_cells();\n",
       "                for (var i = 0; i < nbb_cells.length; ++i) {\n",
       "                    if (nbb_cells[i].input_prompt_number == nbb_cell_id) {\n",
       "                        if (nbb_cells[i].get_text() == nbb_unformatted_code) {\n",
       "                             nbb_cells[i].set_text(nbb_formatted_code);\n",
       "                        }\n",
       "                        break;\n",
       "                    }\n",
       "                }\n",
       "            }, 500);\n",
       "            "
      ],
      "text/plain": [
       "<IPython.core.display.Javascript object>"
      ]
     },
     "metadata": {},
     "output_type": "display_data"
    }
   ],
   "source": [
    "test_fit = partial(\n",
    "    diag.test_fit,\n",
    "    X_train=X_train,\n",
    "    X_test=X_test,\n",
    "    y_train=y_train,\n",
    "    y_test=y_test,\n",
    ")\n",
    "test_fit(main_pipe)"
   ]
  },
  {
   "cell_type": "markdown",
   "metadata": {},
   "source": [
    "## Baseline Model"
   ]
  },
  {
   "cell_type": "code",
   "execution_count": 51,
   "metadata": {
    "ExecuteTime": {
     "end_time": "2021-06-23T07:31:37.119529Z",
     "start_time": "2021-06-23T07:31:37.023534Z"
    }
   },
   "outputs": [
    {
     "data": {
      "text/plain": [
       "LogisticRegression(class_weight='balanced', max_iter=10000.0,\n",
       "                   multi_class='multinomial',\n",
       "                   random_state=RandomState(MT19937) at 0x21A87528240)"
      ]
     },
     "execution_count": 51,
     "metadata": {},
     "output_type": "execute_result"
    },
    {
     "data": {
      "application/javascript": [
       "\n",
       "            setTimeout(function() {\n",
       "                var nbb_cell_id = 51;\n",
       "                var nbb_unformatted_code = \"logit = LogisticRegression(\\n    class_weight=\\\"balanced\\\",\\n    multi_class=\\\"multinomial\\\",\\n    solver=\\\"lbfgs\\\",\\n    max_iter=1e4,\\n    verbose=0,\\n    random_state=rando,\\n)\\nlogit\";\n",
       "                var nbb_formatted_code = \"logit = LogisticRegression(\\n    class_weight=\\\"balanced\\\",\\n    multi_class=\\\"multinomial\\\",\\n    solver=\\\"lbfgs\\\",\\n    max_iter=1e4,\\n    verbose=0,\\n    random_state=rando,\\n)\\nlogit\";\n",
       "                var nbb_cells = Jupyter.notebook.get_cells();\n",
       "                for (var i = 0; i < nbb_cells.length; ++i) {\n",
       "                    if (nbb_cells[i].input_prompt_number == nbb_cell_id) {\n",
       "                        if (nbb_cells[i].get_text() == nbb_unformatted_code) {\n",
       "                             nbb_cells[i].set_text(nbb_formatted_code);\n",
       "                        }\n",
       "                        break;\n",
       "                    }\n",
       "                }\n",
       "            }, 500);\n",
       "            "
      ],
      "text/plain": [
       "<IPython.core.display.Javascript object>"
      ]
     },
     "metadata": {},
     "output_type": "display_data"
    }
   ],
   "source": [
    "logit = LogisticRegression(\n",
    "    class_weight=\"balanced\",\n",
    "    multi_class=\"multinomial\",\n",
    "    solver=\"lbfgs\",\n",
    "    max_iter=1e4,\n",
    "    verbose=0,\n",
    "    random_state=rando,\n",
    ")\n",
    "logit"
   ]
  },
  {
   "cell_type": "code",
   "execution_count": 52,
   "metadata": {
    "ExecuteTime": {
     "end_time": "2021-06-23T07:31:37.227531Z",
     "start_time": "2021-06-23T07:31:37.120531Z"
    }
   },
   "outputs": [
    {
     "data": {
      "text/plain": [
       "Pipeline(steps=[('col',\n",
       "                 ColumnTransformer(n_jobs=1,\n",
       "                                   transformers=[('txt',\n",
       "                                                  TfidfVectorizer(token_pattern=None,\n",
       "                                                                  tokenizer=<function casual_tokenize at 0x0000021A83C1A4C0>),\n",
       "                                                  'text'),\n",
       "                                                 ('pos',\n",
       "                                                  TfidfVectorizer(tokenizer=<function space_tokenize at 0x0000021A863E6040>),\n",
       "                                                  'pos_tags'),\n",
       "                                                 ('bra',\n",
       "                                                  TfidfVectorizer(tokenizer=<function space_tokenize at 0x0000021A863E6040>),\n",
       "                                                  'brand_terms')])),\n",
       "                ('cls',\n",
       "                 LogisticRegression(class_weight='balanced', max_iter=10000.0,\n",
       "                                    multi_class='multinomial',\n",
       "                                    random_state=RandomState(MT19937) at 0x21A87528240))])"
      ]
     },
     "execution_count": 52,
     "metadata": {},
     "output_type": "execute_result"
    },
    {
     "data": {
      "application/javascript": [
       "\n",
       "            setTimeout(function() {\n",
       "                var nbb_cell_id = 52;\n",
       "                var nbb_unformatted_code = \"main_pipe.set_params(cls=logit)\";\n",
       "                var nbb_formatted_code = \"main_pipe.set_params(cls=logit)\";\n",
       "                var nbb_cells = Jupyter.notebook.get_cells();\n",
       "                for (var i = 0; i < nbb_cells.length; ++i) {\n",
       "                    if (nbb_cells[i].input_prompt_number == nbb_cell_id) {\n",
       "                        if (nbb_cells[i].get_text() == nbb_unformatted_code) {\n",
       "                             nbb_cells[i].set_text(nbb_formatted_code);\n",
       "                        }\n",
       "                        break;\n",
       "                    }\n",
       "                }\n",
       "            }, 500);\n",
       "            "
      ],
      "text/plain": [
       "<IPython.core.display.Javascript object>"
      ]
     },
     "metadata": {},
     "output_type": "display_data"
    }
   ],
   "source": [
    "main_pipe.set_params(cls=logit)"
   ]
  },
  {
   "cell_type": "code",
   "execution_count": 53,
   "metadata": {
    "ExecuteTime": {
     "end_time": "2021-06-23T07:31:39.424529Z",
     "start_time": "2021-06-23T07:31:37.228534Z"
    }
   },
   "outputs": [
    {
     "data": {
      "text/html": [
       "<style  type=\"text/css\" >\n",
       "#T_46a2e_row0_col0{\n",
       "            background-color:  #bfc8d8;\n",
       "            color:  #000000;\n",
       "        }#T_46a2e_row0_col1{\n",
       "            background-color:  #c97f7d;\n",
       "            color:  #000000;\n",
       "        }#T_46a2e_row0_col2{\n",
       "            background-color:  #eed7d5;\n",
       "            color:  #000000;\n",
       "        }#T_46a2e_row1_col0{\n",
       "            background-color:  #e9cbc9;\n",
       "            color:  #000000;\n",
       "        }#T_46a2e_row1_col1{\n",
       "            background-color:  #deb2b0;\n",
       "            color:  #000000;\n",
       "        }#T_46a2e_row1_col2{\n",
       "            background-color:  #e0b7b5;\n",
       "            color:  #000000;\n",
       "        }#T_46a2e_row2_col0{\n",
       "            background-color:  #e7e7ec;\n",
       "            color:  #000000;\n",
       "        }#T_46a2e_row2_col1{\n",
       "            background-color:  #d49a97;\n",
       "            color:  #000000;\n",
       "        }#T_46a2e_row2_col2{\n",
       "            background-color:  #e7c8c6;\n",
       "            color:  #000000;\n",
       "        }#T_46a2e_row3_col0{\n",
       "            background-color:  #4a7bbc;\n",
       "            color:  #000000;\n",
       "        }#T_46a2e_row3_col1{\n",
       "            background-color:  #ecd2d0;\n",
       "            color:  #000000;\n",
       "        }#T_46a2e_row3_col2{\n",
       "            background-color:  #bbc5d7;\n",
       "            color:  #000000;\n",
       "        }</style><table id=\"T_46a2e_\" ><thead>    <tr>        <th class=\"blank level0\" ></th>        <th class=\"col_heading level0 col0\" >Negative</th>        <th class=\"col_heading level0 col1\" >Neutral</th>        <th class=\"col_heading level0 col2\" >Positive</th>        <th class=\"col_heading level0 col3\" >macro avg</th>        <th class=\"col_heading level0 col4\" >weighted avg</th>        <th class=\"col_heading level0 col5\" >accuracy</th>        <th class=\"col_heading level0 col6\" >bal accuracy</th>    </tr></thead><tbody>\n",
       "                <tr>\n",
       "                        <th id=\"T_46a2e_level0_row0\" class=\"row_heading level0 row0\" >precision</th>\n",
       "                        <td id=\"T_46a2e_row0_col0\" class=\"data row0 col0\" >0.337</td>\n",
       "                        <td id=\"T_46a2e_row0_col1\" class=\"data row0 col1\" >0.813</td>\n",
       "                        <td id=\"T_46a2e_row0_col2\" class=\"data row0 col2\" >0.591</td>\n",
       "                        <td id=\"T_46a2e_row0_col3\" class=\"data row0 col3\" >0.581</td>\n",
       "                        <td id=\"T_46a2e_row0_col4\" class=\"data row0 col4\" >0.709</td>\n",
       "                        <td id=\"T_46a2e_row0_col5\" class=\"data row0 col5\" >0.674</td>\n",
       "                        <td id=\"T_46a2e_row0_col6\" class=\"data row0 col6\" >0.657</td>\n",
       "            </tr>\n",
       "            <tr>\n",
       "                        <th id=\"T_46a2e_level0_row1\" class=\"row_heading level0 row1\" >recall</th>\n",
       "                        <td id=\"T_46a2e_row1_col0\" class=\"data row1 col0\" >0.620</td>\n",
       "                        <td id=\"T_46a2e_row1_col1\" class=\"data row1 col1\" >0.683</td>\n",
       "                        <td id=\"T_46a2e_row1_col2\" class=\"data row1 col2\" >0.668</td>\n",
       "                        <td id=\"T_46a2e_row1_col3\" class=\"data row1 col3\" >0.657</td>\n",
       "                        <td id=\"T_46a2e_row1_col4\" class=\"data row1 col4\" >0.674</td>\n",
       "                        <td id=\"T_46a2e_row1_col5\" class=\"data row1 col5\" ></td>\n",
       "                        <td id=\"T_46a2e_row1_col6\" class=\"data row1 col6\" ></td>\n",
       "            </tr>\n",
       "            <tr>\n",
       "                        <th id=\"T_46a2e_level0_row2\" class=\"row_heading level0 row2\" >f1-score</th>\n",
       "                        <td id=\"T_46a2e_row2_col0\" class=\"data row2 col0\" >0.437</td>\n",
       "                        <td id=\"T_46a2e_row2_col1\" class=\"data row2 col1\" >0.743</td>\n",
       "                        <td id=\"T_46a2e_row2_col2\" class=\"data row2 col2\" >0.627</td>\n",
       "                        <td id=\"T_46a2e_row2_col3\" class=\"data row2 col3\" >0.602</td>\n",
       "                        <td id=\"T_46a2e_row2_col4\" class=\"data row2 col4\" >0.685</td>\n",
       "                        <td id=\"T_46a2e_row2_col5\" class=\"data row2 col5\" ></td>\n",
       "                        <td id=\"T_46a2e_row2_col6\" class=\"data row2 col6\" ></td>\n",
       "            </tr>\n",
       "            <tr>\n",
       "                        <th id=\"T_46a2e_level0_row3\" class=\"row_heading level0 row3\" >support</th>\n",
       "                        <td id=\"T_46a2e_row3_col0\" class=\"data row3 col0\" >0.064</td>\n",
       "                        <td id=\"T_46a2e_row3_col1\" class=\"data row3 col1\" >0.605</td>\n",
       "                        <td id=\"T_46a2e_row3_col2\" class=\"data row3 col2\" >0.332</td>\n",
       "                        <td id=\"T_46a2e_row3_col3\" class=\"data row3 col3\" ></td>\n",
       "                        <td id=\"T_46a2e_row3_col4\" class=\"data row3 col4\" ></td>\n",
       "                        <td id=\"T_46a2e_row3_col5\" class=\"data row3 col5\" ></td>\n",
       "                        <td id=\"T_46a2e_row3_col6\" class=\"data row3 col6\" ></td>\n",
       "            </tr>\n",
       "    </tbody></table>"
      ],
      "text/plain": [
       "<pandas.io.formats.style.Styler at 0x21a8c362a60>"
      ]
     },
     "metadata": {},
     "output_type": "display_data"
    },
    {
     "data": {
      "image/png": "[encoded data removed]",
      "text/plain": [
       "<Figure size 288x288 with 1 Axes>"
      ]
     },
     "metadata": {
      "needs_background": "light"
     },
     "output_type": "display_data"
    },
    {
     "data": {
      "application/javascript": [
       "\n",
       "            setTimeout(function() {\n",
       "                var nbb_cell_id = 53;\n",
       "                var nbb_unformatted_code = \"test_fit(main_pipe)\";\n",
       "                var nbb_formatted_code = \"test_fit(main_pipe)\";\n",
       "                var nbb_cells = Jupyter.notebook.get_cells();\n",
       "                for (var i = 0; i < nbb_cells.length; ++i) {\n",
       "                    if (nbb_cells[i].input_prompt_number == nbb_cell_id) {\n",
       "                        if (nbb_cells[i].get_text() == nbb_unformatted_code) {\n",
       "                             nbb_cells[i].set_text(nbb_formatted_code);\n",
       "                        }\n",
       "                        break;\n",
       "                    }\n",
       "                }\n",
       "            }, 500);\n",
       "            "
      ],
      "text/plain": [
       "<IPython.core.display.Javascript object>"
      ]
     },
     "metadata": {},
     "output_type": "display_data"
    }
   ],
   "source": [
    "test_fit(main_pipe)"
   ]
  },
  {
   "cell_type": "markdown",
   "metadata": {},
   "source": [
    "## Model Mark II"
   ]
  },
  {
   "cell_type": "code",
   "execution_count": 54,
   "metadata": {
    "ExecuteTime": {
     "end_time": "2021-06-23T07:31:39.519527Z",
     "start_time": "2021-06-23T07:31:39.425527Z"
    },
    "run_control": {
     "marked": false
    }
   },
   "outputs": [
    {
     "data": {
      "application/javascript": [
       "\n",
       "            setTimeout(function() {\n",
       "                var nbb_cell_id = 54;\n",
       "                var nbb_unformatted_code = \"run_sweep = partial(\\n    sweep,\\n    X=X,\\n    y=y,\\n    scoring=\\\"balanced_accuracy\\\",\\n    n_jobs=-1,\\n    cv=StratifiedKFold(5),\\n    random_state=rando,\\n)\";\n",
       "                var nbb_formatted_code = \"run_sweep = partial(\\n    sweep,\\n    X=X,\\n    y=y,\\n    scoring=\\\"balanced_accuracy\\\",\\n    n_jobs=-1,\\n    cv=StratifiedKFold(5),\\n    random_state=rando,\\n)\";\n",
       "                var nbb_cells = Jupyter.notebook.get_cells();\n",
       "                for (var i = 0; i < nbb_cells.length; ++i) {\n",
       "                    if (nbb_cells[i].input_prompt_number == nbb_cell_id) {\n",
       "                        if (nbb_cells[i].get_text() == nbb_unformatted_code) {\n",
       "                             nbb_cells[i].set_text(nbb_formatted_code);\n",
       "                        }\n",
       "                        break;\n",
       "                    }\n",
       "                }\n",
       "            }, 500);\n",
       "            "
      ],
      "text/plain": [
       "<IPython.core.display.Javascript object>"
      ]
     },
     "metadata": {},
     "output_type": "display_data"
    }
   ],
   "source": [
    "run_sweep = partial(\n",
    "    sweep,\n",
    "    X=X,\n",
    "    y=y,\n",
    "    scoring=\"balanced_accuracy\",\n",
    "    n_jobs=-1,\n",
    "    cv=StratifiedKFold(5),\n",
    "    random_state=rando,\n",
    ")"
   ]
  },
  {
   "cell_type": "code",
   "execution_count": 55,
   "metadata": {
    "ExecuteTime": {
     "end_time": "2021-06-23T07:31:39.627531Z",
     "start_time": "2021-06-23T07:31:39.520528Z"
    }
   },
   "outputs": [
    {
     "data": {
      "text/plain": [
       "ColumnTransformer(n_jobs=1,\n",
       "                  transformers=[('txt',\n",
       "                                 Pipeline(steps=[('fil',\n",
       "                                                  Pipeline(steps=[('f1',\n",
       "                                                                   'passthrough'),\n",
       "                                                                  ('f2',\n",
       "                                                                   'passthrough'),\n",
       "                                                                  ('f3',\n",
       "                                                                   'passthrough'),\n",
       "                                                                  ('f4',\n",
       "                                                                   'passthrough'),\n",
       "                                                                  ('f5',\n",
       "                                                                   'passthrough'),\n",
       "                                                                  ('f6',\n",
       "                                                                   'passthrough'),\n",
       "                                                                  ('f7',\n",
       "                                                                   'passthrough'),\n",
       "                                                                  ('f8',\n",
       "                                                                   'passthrough')])),\n",
       "                                                 ('vec',\n",
       "                                                  TfidfVectorizer(token_pattern=None,\n",
       "                                                                  tokenizer=<function casual_tokenize at 0x0000021A83C1A4C0>))]),\n",
       "                                 'text'),\n",
       "                                ('pos',\n",
       "                                 TfidfVectorizer(tokenizer=<function space_tokenize at 0x0000021A863E6040>),\n",
       "                                 'pos_tags'),\n",
       "                                ('bra',\n",
       "                                 TfidfVectorizer(tokenizer=<function space_tokenize at 0x0000021A863E6040>),\n",
       "                                 'brand_terms')])"
      ]
     },
     "execution_count": 55,
     "metadata": {},
     "output_type": "execute_result"
    },
    {
     "data": {
      "application/javascript": [
       "\n",
       "            setTimeout(function() {\n",
       "                var nbb_cell_id = 55;\n",
       "                var nbb_unformatted_code = \"filt_pipe = Pipeline([(f\\\"f{i+1}\\\", \\\"passthrough\\\") for i in range(8)])\\ntext_pipe = Pipeline([(\\\"fil\\\", filt_pipe), (\\\"vec\\\", tfidf)])\\ncol_xform.set_params(txt=text_pipe)\\ncol_xform\";\n",
       "                var nbb_formatted_code = \"filt_pipe = Pipeline([(f\\\"f{i+1}\\\", \\\"passthrough\\\") for i in range(8)])\\ntext_pipe = Pipeline([(\\\"fil\\\", filt_pipe), (\\\"vec\\\", tfidf)])\\ncol_xform.set_params(txt=text_pipe)\\ncol_xform\";\n",
       "                var nbb_cells = Jupyter.notebook.get_cells();\n",
       "                for (var i = 0; i < nbb_cells.length; ++i) {\n",
       "                    if (nbb_cells[i].input_prompt_number == nbb_cell_id) {\n",
       "                        if (nbb_cells[i].get_text() == nbb_unformatted_code) {\n",
       "                             nbb_cells[i].set_text(nbb_formatted_code);\n",
       "                        }\n",
       "                        break;\n",
       "                    }\n",
       "                }\n",
       "            }, 500);\n",
       "            "
      ],
      "text/plain": [
       "<IPython.core.display.Javascript object>"
      ]
     },
     "metadata": {},
     "output_type": "display_data"
    }
   ],
   "source": [
    "filt_pipe = Pipeline([(f\"f{i+1}\", \"passthrough\") for i in range(8)])\n",
    "text_pipe = Pipeline([(\"fil\", filt_pipe), (\"vec\", tfidf)])\n",
    "col_xform.set_params(txt=text_pipe)\n",
    "col_xform"
   ]
  },
  {
   "cell_type": "code",
   "execution_count": 56,
   "metadata": {
    "ExecuteTime": {
     "end_time": "2021-06-23T07:31:39.734530Z",
     "start_time": "2021-06-23T07:31:39.628531Z"
    }
   },
   "outputs": [
    {
     "data": {
      "text/plain": [
       "TfidfVectorizer(lowercase=False, strip_accents=False, token_pattern=None,\n",
       "                tokenizer=<function casual_tokenize at 0x0000021A83C1A4C0>)"
      ]
     },
     "execution_count": 56,
     "metadata": {},
     "output_type": "execute_result"
    },
    {
     "data": {
      "application/javascript": [
       "\n",
       "            setTimeout(function() {\n",
       "                var nbb_cell_id = 56;\n",
       "                var nbb_unformatted_code = \"grid = [\\n    [funcs.lowercase, \\\"passthrough\\\"],\\n    [funcs.strip_punct, \\\"passthrough\\\"],\\n    [funcs.uni2ascii, \\\"passthrough\\\"],\\n    [funcs.split_alphanum, \\\"passthrough\\\"],\\n    [funcs.strip_numeric, \\\"passthrough\\\"],\\n    [funcs.limit_repeats, \\\"passthrough\\\"],\\n    [funcs.strip_handles, \\\"passthrough\\\"],\\n    [funcs.strip_short, \\\"passthrough\\\"],\\n]\\n\\ngrid = pd.Series({f\\\"f{i+1}\\\": x for i, x in enumerate(grid)})\\ngrid = grid.add_prefix(\\\"col__txt__fil__\\\")\\n\\ntfidf.set_params(lowercase=False, strip_accents=False)\\n\\n# run_sweep(\\n#     main_pipe,\\n#     grid.to_dict(),\\n#     name=\\\"filts\\\",\\n#     kind=\\\"hgrid\\\",\\n#     cv=5,\\n#     min_resources=50,\\n#     factor=1.5,\\n#     random_state=rando,\\n# )\";\n",
       "                var nbb_formatted_code = \"grid = [\\n    [funcs.lowercase, \\\"passthrough\\\"],\\n    [funcs.strip_punct, \\\"passthrough\\\"],\\n    [funcs.uni2ascii, \\\"passthrough\\\"],\\n    [funcs.split_alphanum, \\\"passthrough\\\"],\\n    [funcs.strip_numeric, \\\"passthrough\\\"],\\n    [funcs.limit_repeats, \\\"passthrough\\\"],\\n    [funcs.strip_handles, \\\"passthrough\\\"],\\n    [funcs.strip_short, \\\"passthrough\\\"],\\n]\\n\\ngrid = pd.Series({f\\\"f{i+1}\\\": x for i, x in enumerate(grid)})\\ngrid = grid.add_prefix(\\\"col__txt__fil__\\\")\\n\\ntfidf.set_params(lowercase=False, strip_accents=False)\\n\\n# run_sweep(\\n#     main_pipe,\\n#     grid.to_dict(),\\n#     name=\\\"filts\\\",\\n#     kind=\\\"hgrid\\\",\\n#     cv=5,\\n#     min_resources=50,\\n#     factor=1.5,\\n#     random_state=rando,\\n# )\";\n",
       "                var nbb_cells = Jupyter.notebook.get_cells();\n",
       "                for (var i = 0; i < nbb_cells.length; ++i) {\n",
       "                    if (nbb_cells[i].input_prompt_number == nbb_cell_id) {\n",
       "                        if (nbb_cells[i].get_text() == nbb_unformatted_code) {\n",
       "                             nbb_cells[i].set_text(nbb_formatted_code);\n",
       "                        }\n",
       "                        break;\n",
       "                    }\n",
       "                }\n",
       "            }, 500);\n",
       "            "
      ],
      "text/plain": [
       "<IPython.core.display.Javascript object>"
      ]
     },
     "metadata": {},
     "output_type": "display_data"
    }
   ],
   "source": [
    "grid = [\n",
    "    [funcs.lowercase, \"passthrough\"],\n",
    "    [funcs.strip_punct, \"passthrough\"],\n",
    "    [funcs.uni2ascii, \"passthrough\"],\n",
    "    [funcs.split_alphanum, \"passthrough\"],\n",
    "    [funcs.strip_numeric, \"passthrough\"],\n",
    "    [funcs.limit_repeats, \"passthrough\"],\n",
    "    [funcs.strip_handles, \"passthrough\"],\n",
    "    [funcs.strip_short, \"passthrough\"],\n",
    "]\n",
    "\n",
    "grid = pd.Series({f\"f{i+1}\": x for i, x in enumerate(grid)})\n",
    "grid = grid.add_prefix(\"col__txt__fil__\")\n",
    "\n",
    "tfidf.set_params(lowercase=False, strip_accents=False)\n",
    "\n",
    "# run_sweep(\n",
    "#     main_pipe,\n",
    "#     grid.to_dict(),\n",
    "#     name=\"filts\",\n",
    "#     kind=\"hgrid\",\n",
    "#     cv=5,\n",
    "#     min_resources=50,\n",
    "#     factor=1.5,\n",
    "#     random_state=rando,\n",
    "# )"
   ]
  },
  {
   "cell_type": "code",
   "execution_count": 57,
   "metadata": {
    "ExecuteTime": {
     "end_time": "2021-06-23T07:31:40.186528Z",
     "start_time": "2021-06-23T07:31:39.735528Z"
    }
   },
   "outputs": [
    {
     "data": {
      "text/html": [
       "<div>\n",
       "<style scoped>\n",
       "    .dataframe tbody tr th:only-of-type {\n",
       "        vertical-align: middle;\n",
       "    }\n",
       "\n",
       "    .dataframe tbody tr th {\n",
       "        vertical-align: top;\n",
       "    }\n",
       "\n",
       "    .dataframe thead th {\n",
       "        text-align: right;\n",
       "    }\n",
       "</style>\n",
       "<table border=\"1\" class=\"dataframe\">\n",
       "  <thead>\n",
       "    <tr style=\"text-align: right;\">\n",
       "      <th></th>\n",
       "      <th>f1</th>\n",
       "      <th>f2</th>\n",
       "      <th>f3</th>\n",
       "      <th>f4</th>\n",
       "      <th>f5</th>\n",
       "      <th>f6</th>\n",
       "      <th>f7</th>\n",
       "      <th>f8</th>\n",
       "      <th>mean_score</th>\n",
       "      <th>rank_score</th>\n",
       "    </tr>\n",
       "  </thead>\n",
       "  <tbody>\n",
       "    <tr>\n",
       "      <th>772</th>\n",
       "      <td>lowercase</td>\n",
       "      <td>strip_punct</td>\n",
       "      <td>uni2ascii</td>\n",
       "      <td>split_alphanum</td>\n",
       "      <td>strip_numeric</td>\n",
       "      <td>NaN</td>\n",
       "      <td>strip_handles</td>\n",
       "      <td>NaN</td>\n",
       "      <td>0.611921</td>\n",
       "      <td>1</td>\n",
       "    </tr>\n",
       "    <tr>\n",
       "      <th>770</th>\n",
       "      <td>lowercase</td>\n",
       "      <td>strip_punct</td>\n",
       "      <td>uni2ascii</td>\n",
       "      <td>split_alphanum</td>\n",
       "      <td>strip_numeric</td>\n",
       "      <td>limit_repeats</td>\n",
       "      <td>strip_handles</td>\n",
       "      <td>NaN</td>\n",
       "      <td>0.611077</td>\n",
       "      <td>2</td>\n",
       "    </tr>\n",
       "    <tr>\n",
       "      <th>771</th>\n",
       "      <td>lowercase</td>\n",
       "      <td>strip_punct</td>\n",
       "      <td>uni2ascii</td>\n",
       "      <td>NaN</td>\n",
       "      <td>strip_numeric</td>\n",
       "      <td>limit_repeats</td>\n",
       "      <td>strip_handles</td>\n",
       "      <td>NaN</td>\n",
       "      <td>0.609302</td>\n",
       "      <td>3</td>\n",
       "    </tr>\n",
       "    <tr>\n",
       "      <th>767</th>\n",
       "      <td>lowercase</td>\n",
       "      <td>strip_punct</td>\n",
       "      <td>uni2ascii</td>\n",
       "      <td>split_alphanum</td>\n",
       "      <td>strip_numeric</td>\n",
       "      <td>NaN</td>\n",
       "      <td>strip_handles</td>\n",
       "      <td>NaN</td>\n",
       "      <td>0.600375</td>\n",
       "      <td>4</td>\n",
       "    </tr>\n",
       "    <tr>\n",
       "      <th>769</th>\n",
       "      <td>lowercase</td>\n",
       "      <td>strip_punct</td>\n",
       "      <td>uni2ascii</td>\n",
       "      <td>NaN</td>\n",
       "      <td>strip_numeric</td>\n",
       "      <td>limit_repeats</td>\n",
       "      <td>strip_handles</td>\n",
       "      <td>NaN</td>\n",
       "      <td>0.599808</td>\n",
       "      <td>5</td>\n",
       "    </tr>\n",
       "    <tr>\n",
       "      <th>768</th>\n",
       "      <td>lowercase</td>\n",
       "      <td>strip_punct</td>\n",
       "      <td>uni2ascii</td>\n",
       "      <td>split_alphanum</td>\n",
       "      <td>strip_numeric</td>\n",
       "      <td>limit_repeats</td>\n",
       "      <td>strip_handles</td>\n",
       "      <td>NaN</td>\n",
       "      <td>0.599117</td>\n",
       "      <td>6</td>\n",
       "    </tr>\n",
       "    <tr>\n",
       "      <th>766</th>\n",
       "      <td>lowercase</td>\n",
       "      <td>strip_punct</td>\n",
       "      <td>NaN</td>\n",
       "      <td>split_alphanum</td>\n",
       "      <td>NaN</td>\n",
       "      <td>NaN</td>\n",
       "      <td>strip_handles</td>\n",
       "      <td>NaN</td>\n",
       "      <td>0.596775</td>\n",
       "      <td>7</td>\n",
       "    </tr>\n",
       "    <tr>\n",
       "      <th>158</th>\n",
       "      <td>NaN</td>\n",
       "      <td>strip_punct</td>\n",
       "      <td>uni2ascii</td>\n",
       "      <td>NaN</td>\n",
       "      <td>NaN</td>\n",
       "      <td>NaN</td>\n",
       "      <td>NaN</td>\n",
       "      <td>strip_short</td>\n",
       "      <td>0.587222</td>\n",
       "      <td>8</td>\n",
       "    </tr>\n",
       "    <tr>\n",
       "      <th>154</th>\n",
       "      <td>NaN</td>\n",
       "      <td>strip_punct</td>\n",
       "      <td>uni2ascii</td>\n",
       "      <td>NaN</td>\n",
       "      <td>NaN</td>\n",
       "      <td>limit_repeats</td>\n",
       "      <td>NaN</td>\n",
       "      <td>strip_short</td>\n",
       "      <td>0.587222</td>\n",
       "      <td>8</td>\n",
       "    </tr>\n",
       "    <tr>\n",
       "      <th>170</th>\n",
       "      <td>NaN</td>\n",
       "      <td>strip_punct</td>\n",
       "      <td>NaN</td>\n",
       "      <td>split_alphanum</td>\n",
       "      <td>NaN</td>\n",
       "      <td>limit_repeats</td>\n",
       "      <td>NaN</td>\n",
       "      <td>strip_short</td>\n",
       "      <td>0.587222</td>\n",
       "      <td>8</td>\n",
       "    </tr>\n",
       "  </tbody>\n",
       "</table>\n",
       "</div>"
      ],
      "text/plain": [
       "            f1           f2         f3              f4             f5  \\\n",
       "772  lowercase  strip_punct  uni2ascii  split_alphanum  strip_numeric   \n",
       "770  lowercase  strip_punct  uni2ascii  split_alphanum  strip_numeric   \n",
       "771  lowercase  strip_punct  uni2ascii             NaN  strip_numeric   \n",
       "767  lowercase  strip_punct  uni2ascii  split_alphanum  strip_numeric   \n",
       "769  lowercase  strip_punct  uni2ascii             NaN  strip_numeric   \n",
       "768  lowercase  strip_punct  uni2ascii  split_alphanum  strip_numeric   \n",
       "766  lowercase  strip_punct        NaN  split_alphanum            NaN   \n",
       "158        NaN  strip_punct  uni2ascii             NaN            NaN   \n",
       "154        NaN  strip_punct  uni2ascii             NaN            NaN   \n",
       "170        NaN  strip_punct        NaN  split_alphanum            NaN   \n",
       "\n",
       "                f6             f7           f8  mean_score  rank_score  \n",
       "772            NaN  strip_handles          NaN    0.611921           1  \n",
       "770  limit_repeats  strip_handles          NaN    0.611077           2  \n",
       "771  limit_repeats  strip_handles          NaN    0.609302           3  \n",
       "767            NaN  strip_handles          NaN    0.600375           4  \n",
       "769  limit_repeats  strip_handles          NaN    0.599808           5  \n",
       "768  limit_repeats  strip_handles          NaN    0.599117           6  \n",
       "766            NaN  strip_handles          NaN    0.596775           7  \n",
       "158            NaN            NaN  strip_short    0.587222           8  \n",
       "154  limit_repeats            NaN  strip_short    0.587222           8  \n",
       "170  limit_repeats            NaN  strip_short    0.587222           8  "
      ]
     },
     "execution_count": 57,
     "metadata": {},
     "output_type": "execute_result"
    },
    {
     "data": {
      "application/javascript": [
       "\n",
       "            setTimeout(function() {\n",
       "                var nbb_cell_id = 57;\n",
       "                var nbb_unformatted_code = \"results = load_results(\\\"sweeps/filts.joblib\\\")\\nresults = results.applymap(\\n    lambda x: utils.get_func_name(x) if isinstance(x, FunctionTransformer) else x\\n)\\nresults.mask(results == \\\"passthrough\\\").head(10)\";\n",
       "                var nbb_formatted_code = \"results = load_results(\\\"sweeps/filts.joblib\\\")\\nresults = results.applymap(\\n    lambda x: utils.get_func_name(x) if isinstance(x, FunctionTransformer) else x\\n)\\nresults.mask(results == \\\"passthrough\\\").head(10)\";\n",
       "                var nbb_cells = Jupyter.notebook.get_cells();\n",
       "                for (var i = 0; i < nbb_cells.length; ++i) {\n",
       "                    if (nbb_cells[i].input_prompt_number == nbb_cell_id) {\n",
       "                        if (nbb_cells[i].get_text() == nbb_unformatted_code) {\n",
       "                             nbb_cells[i].set_text(nbb_formatted_code);\n",
       "                        }\n",
       "                        break;\n",
       "                    }\n",
       "                }\n",
       "            }, 500);\n",
       "            "
      ],
      "text/plain": [
       "<IPython.core.display.Javascript object>"
      ]
     },
     "metadata": {},
     "output_type": "display_data"
    }
   ],
   "source": [
    "results = load_results(\"sweeps/filts.joblib\")\n",
    "results = results.applymap(\n",
    "    lambda x: utils.get_func_name(x) if isinstance(x, FunctionTransformer) else x\n",
    ")\n",
    "results.mask(results == \"passthrough\").head(10)"
   ]
  },
  {
   "cell_type": "code",
   "execution_count": 58,
   "metadata": {
    "ExecuteTime": {
     "end_time": "2021-06-23T07:31:40.291552Z",
     "start_time": "2021-06-23T07:31:40.187530Z"
    }
   },
   "outputs": [
    {
     "data": {
      "text/plain": [
       "ColumnTransformer(n_jobs=1,\n",
       "                  transformers=[('txt',\n",
       "                                 TfidfVectorizer(lowercase=False,\n",
       "                                                 preprocessor=functools.partial(<function chain_filts at 0x0000021A863E2E50>, filts=[<function lowercase at 0x0000021A863E2310>, functools.partial(<function strip_punct at 0x0000021A863E2C10>, exclude='@#!?'), <function uni2ascii at 0x0000021A863E28B0>, <function split_alphanum at 0x0000021...021A863E24C0>, <function strip_handles at 0x0000021A863E2820>]),\n",
       "                                                 strip_accents=False,\n",
       "                                                 token_pattern=None,\n",
       "                                                 tokenizer=<function casual_tokenize at 0x0000021A83C1A4C0>),\n",
       "                                 'text'),\n",
       "                                ('pos',\n",
       "                                 TfidfVectorizer(tokenizer=<function space_tokenize at 0x0000021A863E6040>),\n",
       "                                 'pos_tags'),\n",
       "                                ('bra',\n",
       "                                 TfidfVectorizer(tokenizer=<function space_tokenize at 0x0000021A863E6040>),\n",
       "                                 'brand_terms')])"
      ]
     },
     "execution_count": 58,
     "metadata": {},
     "output_type": "execute_result"
    },
    {
     "data": {
      "application/javascript": [
       "\n",
       "            setTimeout(function() {\n",
       "                var nbb_cell_id = 58;\n",
       "                var nbb_unformatted_code = \"funcs = funcs.map(lambda x: x.func)\\nwinners = [\\n    \\\"lowercase\\\",\\n    \\\"strip_punct\\\",\\n    \\\"uni2ascii\\\",\\n    \\\"split_alphanum\\\",\\n    \\\"strip_numeric\\\",\\n    \\\"strip_handles\\\",\\n]\\nchain_filts = partial(\\n    lang.chain_filts,\\n    filts=funcs.loc[winners].to_list(),\\n)\\ndel text_pipe, filt_pipe, winners\\ncol_xform.set_params(txt=tfidf, txt__preprocessor=chain_filts)\";\n",
       "                var nbb_formatted_code = \"funcs = funcs.map(lambda x: x.func)\\nwinners = [\\n    \\\"lowercase\\\",\\n    \\\"strip_punct\\\",\\n    \\\"uni2ascii\\\",\\n    \\\"split_alphanum\\\",\\n    \\\"strip_numeric\\\",\\n    \\\"strip_handles\\\",\\n]\\nchain_filts = partial(\\n    lang.chain_filts,\\n    filts=funcs.loc[winners].to_list(),\\n)\\ndel text_pipe, filt_pipe, winners\\ncol_xform.set_params(txt=tfidf, txt__preprocessor=chain_filts)\";\n",
       "                var nbb_cells = Jupyter.notebook.get_cells();\n",
       "                for (var i = 0; i < nbb_cells.length; ++i) {\n",
       "                    if (nbb_cells[i].input_prompt_number == nbb_cell_id) {\n",
       "                        if (nbb_cells[i].get_text() == nbb_unformatted_code) {\n",
       "                             nbb_cells[i].set_text(nbb_formatted_code);\n",
       "                        }\n",
       "                        break;\n",
       "                    }\n",
       "                }\n",
       "            }, 500);\n",
       "            "
      ],
      "text/plain": [
       "<IPython.core.display.Javascript object>"
      ]
     },
     "metadata": {},
     "output_type": "display_data"
    }
   ],
   "source": [
    "funcs = funcs.map(lambda x: x.func)\n",
    "winners = [\n",
    "    \"lowercase\",\n",
    "    \"strip_punct\",\n",
    "    \"uni2ascii\",\n",
    "    \"split_alphanum\",\n",
    "    \"strip_numeric\",\n",
    "    \"strip_handles\",\n",
    "]\n",
    "chain_filts = partial(\n",
    "    lang.chain_filts,\n",
    "    filts=funcs.loc[winners].to_list(),\n",
    ")\n",
    "del text_pipe, filt_pipe, winners\n",
    "col_xform.set_params(txt=tfidf, txt__preprocessor=chain_filts)"
   ]
  },
  {
   "cell_type": "code",
   "execution_count": 59,
   "metadata": {
    "ExecuteTime": {
     "end_time": "2021-06-23T07:31:42.794528Z",
     "start_time": "2021-06-23T07:31:40.292527Z"
    }
   },
   "outputs": [
    {
     "data": {
      "text/html": [
       "<style  type=\"text/css\" >\n",
       "#T_49eb6_row0_col0{\n",
       "            background-color:  #b8c3d5;\n",
       "            color:  #000000;\n",
       "        }#T_49eb6_row0_col1{\n",
       "            background-color:  #c87e7b;\n",
       "            color:  #000000;\n",
       "        }#T_49eb6_row0_col2,#T_49eb6_row3_col1{\n",
       "            background-color:  #ecd2d0;\n",
       "            color:  #000000;\n",
       "        }#T_49eb6_row1_col0{\n",
       "            background-color:  #ecd3d2;\n",
       "            color:  #000000;\n",
       "        }#T_49eb6_row1_col1{\n",
       "            background-color:  #dcacaa;\n",
       "            color:  #000000;\n",
       "        }#T_49eb6_row1_col2{\n",
       "            background-color:  #e1b9b6;\n",
       "            color:  #000000;\n",
       "        }#T_49eb6_row2_col0{\n",
       "            background-color:  #e1e2e9;\n",
       "            color:  #000000;\n",
       "        }#T_49eb6_row2_col1{\n",
       "            background-color:  #d39794;\n",
       "            color:  #000000;\n",
       "        }#T_49eb6_row2_col2{\n",
       "            background-color:  #e7c7c5;\n",
       "            color:  #000000;\n",
       "        }#T_49eb6_row3_col0{\n",
       "            background-color:  #4a7bbc;\n",
       "            color:  #000000;\n",
       "        }#T_49eb6_row3_col2{\n",
       "            background-color:  #bbc5d7;\n",
       "            color:  #000000;\n",
       "        }</style><table id=\"T_49eb6_\" ><thead>    <tr>        <th class=\"blank level0\" ></th>        <th class=\"col_heading level0 col0\" >Negative</th>        <th class=\"col_heading level0 col1\" >Neutral</th>        <th class=\"col_heading level0 col2\" >Positive</th>        <th class=\"col_heading level0 col3\" >macro avg</th>        <th class=\"col_heading level0 col4\" >weighted avg</th>        <th class=\"col_heading level0 col5\" >accuracy</th>        <th class=\"col_heading level0 col6\" >bal accuracy</th>    </tr></thead><tbody>\n",
       "                <tr>\n",
       "                        <th id=\"T_49eb6_level0_row0\" class=\"row_heading level0 row0\" >precision</th>\n",
       "                        <td id=\"T_49eb6_row0_col0\" class=\"data row0 col0\" >0.322</td>\n",
       "                        <td id=\"T_49eb6_row0_col1\" class=\"data row0 col1\" >0.817</td>\n",
       "                        <td id=\"T_49eb6_row0_col2\" class=\"data row0 col2\" >0.602</td>\n",
       "                        <td id=\"T_49eb6_row0_col3\" class=\"data row0 col3\" >0.580</td>\n",
       "                        <td id=\"T_49eb6_row0_col4\" class=\"data row0 col4\" >0.714</td>\n",
       "                        <td id=\"T_49eb6_row0_col5\" class=\"data row0 col5\" >0.680</td>\n",
       "                        <td id=\"T_49eb6_row0_col6\" class=\"data row0 col6\" >0.653</td>\n",
       "            </tr>\n",
       "            <tr>\n",
       "                        <th id=\"T_49eb6_level0_row1\" class=\"row_heading level0 row1\" >recall</th>\n",
       "                        <td id=\"T_49eb6_row1_col0\" class=\"data row1 col0\" >0.599</td>\n",
       "                        <td id=\"T_49eb6_row1_col1\" class=\"data row1 col1\" >0.696</td>\n",
       "                        <td id=\"T_49eb6_row1_col2\" class=\"data row1 col2\" >0.666</td>\n",
       "                        <td id=\"T_49eb6_row1_col3\" class=\"data row1 col3\" >0.653</td>\n",
       "                        <td id=\"T_49eb6_row1_col4\" class=\"data row1 col4\" >0.680</td>\n",
       "                        <td id=\"T_49eb6_row1_col5\" class=\"data row1 col5\" ></td>\n",
       "                        <td id=\"T_49eb6_row1_col6\" class=\"data row1 col6\" ></td>\n",
       "            </tr>\n",
       "            <tr>\n",
       "                        <th id=\"T_49eb6_level0_row2\" class=\"row_heading level0 row2\" >f1-score</th>\n",
       "                        <td id=\"T_49eb6_row2_col0\" class=\"data row2 col0\" >0.419</td>\n",
       "                        <td id=\"T_49eb6_row2_col1\" class=\"data row2 col1\" >0.751</td>\n",
       "                        <td id=\"T_49eb6_row2_col2\" class=\"data row2 col2\" >0.632</td>\n",
       "                        <td id=\"T_49eb6_row2_col3\" class=\"data row2 col3\" >0.601</td>\n",
       "                        <td id=\"T_49eb6_row2_col4\" class=\"data row2 col4\" >0.691</td>\n",
       "                        <td id=\"T_49eb6_row2_col5\" class=\"data row2 col5\" ></td>\n",
       "                        <td id=\"T_49eb6_row2_col6\" class=\"data row2 col6\" ></td>\n",
       "            </tr>\n",
       "            <tr>\n",
       "                        <th id=\"T_49eb6_level0_row3\" class=\"row_heading level0 row3\" >support</th>\n",
       "                        <td id=\"T_49eb6_row3_col0\" class=\"data row3 col0\" >0.064</td>\n",
       "                        <td id=\"T_49eb6_row3_col1\" class=\"data row3 col1\" >0.605</td>\n",
       "                        <td id=\"T_49eb6_row3_col2\" class=\"data row3 col2\" >0.332</td>\n",
       "                        <td id=\"T_49eb6_row3_col3\" class=\"data row3 col3\" ></td>\n",
       "                        <td id=\"T_49eb6_row3_col4\" class=\"data row3 col4\" ></td>\n",
       "                        <td id=\"T_49eb6_row3_col5\" class=\"data row3 col5\" ></td>\n",
       "                        <td id=\"T_49eb6_row3_col6\" class=\"data row3 col6\" ></td>\n",
       "            </tr>\n",
       "    </tbody></table>"
      ],
      "text/plain": [
       "<pandas.io.formats.style.Styler at 0x21a8c3a6520>"
      ]
     },
     "metadata": {},
     "output_type": "display_data"
    },
    {
     "data": {
      "image/png": "[encoded data removed]",
      "text/plain": [
       "<Figure size 288x288 with 1 Axes>"
      ]
     },
     "metadata": {
      "needs_background": "light"
     },
     "output_type": "display_data"
    },
    {
     "data": {
      "application/javascript": [
       "\n",
       "            setTimeout(function() {\n",
       "                var nbb_cell_id = 59;\n",
       "                var nbb_unformatted_code = \"test_fit(main_pipe)\";\n",
       "                var nbb_formatted_code = \"test_fit(main_pipe)\";\n",
       "                var nbb_cells = Jupyter.notebook.get_cells();\n",
       "                for (var i = 0; i < nbb_cells.length; ++i) {\n",
       "                    if (nbb_cells[i].input_prompt_number == nbb_cell_id) {\n",
       "                        if (nbb_cells[i].get_text() == nbb_unformatted_code) {\n",
       "                             nbb_cells[i].set_text(nbb_formatted_code);\n",
       "                        }\n",
       "                        break;\n",
       "                    }\n",
       "                }\n",
       "            }, 500);\n",
       "            "
      ],
      "text/plain": [
       "<IPython.core.display.Javascript object>"
      ]
     },
     "metadata": {},
     "output_type": "display_data"
    }
   ],
   "source": [
    "test_fit(main_pipe)"
   ]
  },
  {
   "cell_type": "markdown",
   "metadata": {},
   "source": [
    "## Model Mark III"
   ]
  },
  {
   "cell_type": "code",
   "execution_count": 60,
   "metadata": {
    "ExecuteTime": {
     "end_time": "2021-06-23T07:31:42.898530Z",
     "start_time": "2021-06-23T07:31:42.795528Z"
    }
   },
   "outputs": [
    {
     "data": {
      "text/plain": [
       "binary           [True, False]\n",
       "sublinear_tf     [True, False]\n",
       "smooth_idf       [True, False]\n",
       "norm            [None, l1, l2]\n",
       "use_idf          [True, False]\n",
       "dtype: object"
      ]
     },
     "execution_count": 60,
     "metadata": {},
     "output_type": "execute_result"
    },
    {
     "data": {
      "application/javascript": [
       "\n",
       "            setTimeout(function() {\n",
       "                var nbb_cell_id = 60;\n",
       "                var nbb_unformatted_code = \"grid = pd.Series(\\n    dict(\\n        binary=[True, False],\\n        sublinear_tf=[True, False],\\n        smooth_idf=[True, False],\\n        norm=[None, \\\"l1\\\", \\\"l2\\\"],\\n        use_idf=[True, False],\\n    )\\n)\\ngrid\";\n",
       "                var nbb_formatted_code = \"grid = pd.Series(\\n    dict(\\n        binary=[True, False],\\n        sublinear_tf=[True, False],\\n        smooth_idf=[True, False],\\n        norm=[None, \\\"l1\\\", \\\"l2\\\"],\\n        use_idf=[True, False],\\n    )\\n)\\ngrid\";\n",
       "                var nbb_cells = Jupyter.notebook.get_cells();\n",
       "                for (var i = 0; i < nbb_cells.length; ++i) {\n",
       "                    if (nbb_cells[i].input_prompt_number == nbb_cell_id) {\n",
       "                        if (nbb_cells[i].get_text() == nbb_unformatted_code) {\n",
       "                             nbb_cells[i].set_text(nbb_formatted_code);\n",
       "                        }\n",
       "                        break;\n",
       "                    }\n",
       "                }\n",
       "            }, 500);\n",
       "            "
      ],
      "text/plain": [
       "<IPython.core.display.Javascript object>"
      ]
     },
     "metadata": {},
     "output_type": "display_data"
    }
   ],
   "source": [
    "grid = pd.Series(\n",
    "    dict(\n",
    "        binary=[True, False],\n",
    "        sublinear_tf=[True, False],\n",
    "        smooth_idf=[True, False],\n",
    "        norm=[None, \"l1\", \"l2\"],\n",
    "        use_idf=[True, False],\n",
    "    )\n",
    ")\n",
    "grid"
   ]
  },
  {
   "cell_type": "code",
   "execution_count": 61,
   "metadata": {
    "ExecuteTime": {
     "end_time": "2021-06-23T07:31:42.998526Z",
     "start_time": "2021-06-23T07:31:42.899533Z"
    }
   },
   "outputs": [
    {
     "data": {
      "application/javascript": [
       "\n",
       "            setTimeout(function() {\n",
       "                var nbb_cell_id = 61;\n",
       "                var nbb_unformatted_code = \"# run_sweep(\\n#     main_pipe,\\n#     grid.add_prefix(\\\"col__txt__\\\"),\\n#     name=\\\"txt_tfidf\\\",\\n#     cv=5,\\n#     kind=\\\"hgrid\\\",\\n#     min_resources=1000,\\n#     factor=1.5,\\n#     random_state=rando,\\n# )\";\n",
       "                var nbb_formatted_code = \"# run_sweep(\\n#     main_pipe,\\n#     grid.add_prefix(\\\"col__txt__\\\"),\\n#     name=\\\"txt_tfidf\\\",\\n#     cv=5,\\n#     kind=\\\"hgrid\\\",\\n#     min_resources=1000,\\n#     factor=1.5,\\n#     random_state=rando,\\n# )\";\n",
       "                var nbb_cells = Jupyter.notebook.get_cells();\n",
       "                for (var i = 0; i < nbb_cells.length; ++i) {\n",
       "                    if (nbb_cells[i].input_prompt_number == nbb_cell_id) {\n",
       "                        if (nbb_cells[i].get_text() == nbb_unformatted_code) {\n",
       "                             nbb_cells[i].set_text(nbb_formatted_code);\n",
       "                        }\n",
       "                        break;\n",
       "                    }\n",
       "                }\n",
       "            }, 500);\n",
       "            "
      ],
      "text/plain": [
       "<IPython.core.display.Javascript object>"
      ]
     },
     "metadata": {},
     "output_type": "display_data"
    }
   ],
   "source": [
    "# run_sweep(\n",
    "#     main_pipe,\n",
    "#     grid.add_prefix(\"col__txt__\"),\n",
    "#     name=\"txt_tfidf\",\n",
    "#     cv=5,\n",
    "#     kind=\"hgrid\",\n",
    "#     min_resources=1000,\n",
    "#     factor=1.5,\n",
    "#     random_state=rando,\n",
    "# )"
   ]
  },
  {
   "cell_type": "code",
   "execution_count": 62,
   "metadata": {
    "ExecuteTime": {
     "end_time": "2021-06-23T07:31:43.410529Z",
     "start_time": "2021-06-23T07:31:42.999527Z"
    },
    "run_control": {
     "marked": false
    }
   },
   "outputs": [
    {
     "data": {
      "text/html": [
       "<div>\n",
       "<style scoped>\n",
       "    .dataframe tbody tr th:only-of-type {\n",
       "        vertical-align: middle;\n",
       "    }\n",
       "\n",
       "    .dataframe tbody tr th {\n",
       "        vertical-align: top;\n",
       "    }\n",
       "\n",
       "    .dataframe thead th {\n",
       "        text-align: right;\n",
       "    }\n",
       "</style>\n",
       "<table border=\"1\" class=\"dataframe\">\n",
       "  <thead>\n",
       "    <tr style=\"text-align: right;\">\n",
       "      <th></th>\n",
       "      <th>binary</th>\n",
       "      <th>norm</th>\n",
       "      <th>smooth_idf</th>\n",
       "      <th>sublinear_tf</th>\n",
       "      <th>use_idf</th>\n",
       "      <th>mean_score</th>\n",
       "      <th>rank_score</th>\n",
       "    </tr>\n",
       "  </thead>\n",
       "  <tbody>\n",
       "    <tr>\n",
       "      <th>128</th>\n",
       "      <td>False</td>\n",
       "      <td>l2</td>\n",
       "      <td>True</td>\n",
       "      <td>True</td>\n",
       "      <td>True</td>\n",
       "      <td>0.621419</td>\n",
       "      <td>1</td>\n",
       "    </tr>\n",
       "    <tr>\n",
       "      <th>131</th>\n",
       "      <td>False</td>\n",
       "      <td>l2</td>\n",
       "      <td>True</td>\n",
       "      <td>False</td>\n",
       "      <td>True</td>\n",
       "      <td>0.618498</td>\n",
       "      <td>2</td>\n",
       "    </tr>\n",
       "    <tr>\n",
       "      <th>127</th>\n",
       "      <td>False</td>\n",
       "      <td>l2</td>\n",
       "      <td>False</td>\n",
       "      <td>False</td>\n",
       "      <td>True</td>\n",
       "      <td>0.618030</td>\n",
       "      <td>3</td>\n",
       "    </tr>\n",
       "  </tbody>\n",
       "</table>\n",
       "</div>"
      ],
      "text/plain": [
       "    binary norm smooth_idf sublinear_tf use_idf  mean_score  rank_score\n",
       "128  False   l2       True         True    True    0.621419           1\n",
       "131  False   l2       True        False    True    0.618498           2\n",
       "127  False   l2      False        False    True    0.618030           3"
      ]
     },
     "execution_count": 62,
     "metadata": {},
     "output_type": "execute_result"
    },
    {
     "data": {
      "application/javascript": [
       "\n",
       "            setTimeout(function() {\n",
       "                var nbb_cell_id = 62;\n",
       "                var nbb_unformatted_code = \"results = load_results(\\\"sweeps/txt_tfidf\\\", drop_dicts=False)\\nresults.head(3).drop(\\\"params\\\", axis=1)\";\n",
       "                var nbb_formatted_code = \"results = load_results(\\\"sweeps/txt_tfidf\\\", drop_dicts=False)\\nresults.head(3).drop(\\\"params\\\", axis=1)\";\n",
       "                var nbb_cells = Jupyter.notebook.get_cells();\n",
       "                for (var i = 0; i < nbb_cells.length; ++i) {\n",
       "                    if (nbb_cells[i].input_prompt_number == nbb_cell_id) {\n",
       "                        if (nbb_cells[i].get_text() == nbb_unformatted_code) {\n",
       "                             nbb_cells[i].set_text(nbb_formatted_code);\n",
       "                        }\n",
       "                        break;\n",
       "                    }\n",
       "                }\n",
       "            }, 500);\n",
       "            "
      ],
      "text/plain": [
       "<IPython.core.display.Javascript object>"
      ]
     },
     "metadata": {},
     "output_type": "display_data"
    }
   ],
   "source": [
    "results = load_results(\"sweeps/txt_tfidf\", drop_dicts=False)\n",
    "results.head(3).drop(\"params\", axis=1)"
   ]
  },
  {
   "cell_type": "code",
   "execution_count": 63,
   "metadata": {
    "ExecuteTime": {
     "end_time": "2021-06-23T07:31:45.815529Z",
     "start_time": "2021-06-23T07:31:43.411530Z"
    },
    "run_control": {
     "marked": false
    }
   },
   "outputs": [
    {
     "data": {
      "text/html": [
       "<style  type=\"text/css\" >\n",
       "#T_79dde_row0_col0{\n",
       "            background-color:  #b7c2d5;\n",
       "            color:  #000000;\n",
       "        }#T_79dde_row0_col1{\n",
       "            background-color:  #c87e7b;\n",
       "            color:  #000000;\n",
       "        }#T_79dde_row0_col2,#T_79dde_row1_col0{\n",
       "            background-color:  #ecd3d2;\n",
       "            color:  #000000;\n",
       "        }#T_79dde_row1_col1{\n",
       "            background-color:  #dcaeab;\n",
       "            color:  #000000;\n",
       "        }#T_79dde_row1_col2{\n",
       "            background-color:  #e1b9b6;\n",
       "            color:  #000000;\n",
       "        }#T_79dde_row2_col0{\n",
       "            background-color:  #dfe1e8;\n",
       "            color:  #000000;\n",
       "        }#T_79dde_row2_col1{\n",
       "            background-color:  #d39794;\n",
       "            color:  #000000;\n",
       "        }#T_79dde_row2_col2{\n",
       "            background-color:  #e7c7c5;\n",
       "            color:  #000000;\n",
       "        }#T_79dde_row3_col0{\n",
       "            background-color:  #4a7bbc;\n",
       "            color:  #000000;\n",
       "        }#T_79dde_row3_col1{\n",
       "            background-color:  #ecd2d0;\n",
       "            color:  #000000;\n",
       "        }#T_79dde_row3_col2{\n",
       "            background-color:  #bbc5d7;\n",
       "            color:  #000000;\n",
       "        }</style><table id=\"T_79dde_\" ><thead>    <tr>        <th class=\"blank level0\" ></th>        <th class=\"col_heading level0 col0\" >Negative</th>        <th class=\"col_heading level0 col1\" >Neutral</th>        <th class=\"col_heading level0 col2\" >Positive</th>        <th class=\"col_heading level0 col3\" >macro avg</th>        <th class=\"col_heading level0 col4\" >weighted avg</th>        <th class=\"col_heading level0 col5\" >accuracy</th>        <th class=\"col_heading level0 col6\" >bal accuracy</th>    </tr></thead><tbody>\n",
       "                <tr>\n",
       "                        <th id=\"T_79dde_level0_row0\" class=\"row_heading level0 row0\" >precision</th>\n",
       "                        <td id=\"T_79dde_row0_col0\" class=\"data row0 col0\" >0.318</td>\n",
       "                        <td id=\"T_79dde_row0_col1\" class=\"data row0 col1\" >0.818</td>\n",
       "                        <td id=\"T_79dde_row0_col2\" class=\"data row0 col2\" >0.600</td>\n",
       "                        <td id=\"T_79dde_row0_col3\" class=\"data row0 col3\" >0.579</td>\n",
       "                        <td id=\"T_79dde_row0_col4\" class=\"data row0 col4\" >0.714</td>\n",
       "                        <td id=\"T_79dde_row0_col5\" class=\"data row0 col5\" >0.678</td>\n",
       "                        <td id=\"T_79dde_row0_col6\" class=\"data row0 col6\" >0.653</td>\n",
       "            </tr>\n",
       "            <tr>\n",
       "                        <th id=\"T_79dde_level0_row1\" class=\"row_heading level0 row1\" >recall</th>\n",
       "                        <td id=\"T_79dde_row1_col0\" class=\"data row1 col0\" >0.599</td>\n",
       "                        <td id=\"T_79dde_row1_col1\" class=\"data row1 col1\" >0.693</td>\n",
       "                        <td id=\"T_79dde_row1_col2\" class=\"data row1 col2\" >0.667</td>\n",
       "                        <td id=\"T_79dde_row1_col3\" class=\"data row1 col3\" >0.653</td>\n",
       "                        <td id=\"T_79dde_row1_col4\" class=\"data row1 col4\" >0.678</td>\n",
       "                        <td id=\"T_79dde_row1_col5\" class=\"data row1 col5\" ></td>\n",
       "                        <td id=\"T_79dde_row1_col6\" class=\"data row1 col6\" ></td>\n",
       "            </tr>\n",
       "            <tr>\n",
       "                        <th id=\"T_79dde_level0_row2\" class=\"row_heading level0 row2\" >f1-score</th>\n",
       "                        <td id=\"T_79dde_row2_col0\" class=\"data row2 col0\" >0.416</td>\n",
       "                        <td id=\"T_79dde_row2_col1\" class=\"data row2 col1\" >0.750</td>\n",
       "                        <td id=\"T_79dde_row2_col2\" class=\"data row2 col2\" >0.632</td>\n",
       "                        <td id=\"T_79dde_row2_col3\" class=\"data row2 col3\" >0.599</td>\n",
       "                        <td id=\"T_79dde_row2_col4\" class=\"data row2 col4\" >0.690</td>\n",
       "                        <td id=\"T_79dde_row2_col5\" class=\"data row2 col5\" ></td>\n",
       "                        <td id=\"T_79dde_row2_col6\" class=\"data row2 col6\" ></td>\n",
       "            </tr>\n",
       "            <tr>\n",
       "                        <th id=\"T_79dde_level0_row3\" class=\"row_heading level0 row3\" >support</th>\n",
       "                        <td id=\"T_79dde_row3_col0\" class=\"data row3 col0\" >0.064</td>\n",
       "                        <td id=\"T_79dde_row3_col1\" class=\"data row3 col1\" >0.605</td>\n",
       "                        <td id=\"T_79dde_row3_col2\" class=\"data row3 col2\" >0.332</td>\n",
       "                        <td id=\"T_79dde_row3_col3\" class=\"data row3 col3\" ></td>\n",
       "                        <td id=\"T_79dde_row3_col4\" class=\"data row3 col4\" ></td>\n",
       "                        <td id=\"T_79dde_row3_col5\" class=\"data row3 col5\" ></td>\n",
       "                        <td id=\"T_79dde_row3_col6\" class=\"data row3 col6\" ></td>\n",
       "            </tr>\n",
       "    </tbody></table>"
      ],
      "text/plain": [
       "<pandas.io.formats.style.Styler at 0x21a8bd07c10>"
      ]
     },
     "metadata": {},
     "output_type": "display_data"
    },
    {
     "data": {
      "image/png": "[encoded data removed]",
      "text/plain": [
       "<Figure size 288x288 with 1 Axes>"
      ]
     },
     "metadata": {
      "needs_background": "light"
     },
     "output_type": "display_data"
    },
    {
     "data": {
      "application/javascript": [
       "\n",
       "            setTimeout(function() {\n",
       "                var nbb_cell_id = 63;\n",
       "                var nbb_unformatted_code = \"main_pipe.set_params(**results.iloc[0].params)\\ntest_fit(main_pipe)\";\n",
       "                var nbb_formatted_code = \"main_pipe.set_params(**results.iloc[0].params)\\ntest_fit(main_pipe)\";\n",
       "                var nbb_cells = Jupyter.notebook.get_cells();\n",
       "                for (var i = 0; i < nbb_cells.length; ++i) {\n",
       "                    if (nbb_cells[i].input_prompt_number == nbb_cell_id) {\n",
       "                        if (nbb_cells[i].get_text() == nbb_unformatted_code) {\n",
       "                             nbb_cells[i].set_text(nbb_formatted_code);\n",
       "                        }\n",
       "                        break;\n",
       "                    }\n",
       "                }\n",
       "            }, 500);\n",
       "            "
      ],
      "text/plain": [
       "<IPython.core.display.Javascript object>"
      ]
     },
     "metadata": {},
     "output_type": "display_data"
    }
   ],
   "source": [
    "main_pipe.set_params(**results.iloc[0].params)\n",
    "test_fit(main_pipe)"
   ]
  },
  {
   "cell_type": "code",
   "execution_count": 64,
   "metadata": {
    "ExecuteTime": {
     "end_time": "2021-06-23T07:31:45.909558Z",
     "start_time": "2021-06-23T07:31:45.816527Z"
    }
   },
   "outputs": [
    {
     "data": {
      "application/javascript": [
       "\n",
       "            setTimeout(function() {\n",
       "                var nbb_cell_id = 64;\n",
       "                var nbb_unformatted_code = \"# run_sweep(\\n#     main_pipe,\\n#     grid.add_prefix(\\\"col__pos__\\\"),\\n#     name=\\\"pos_tfidf\\\",\\n#     cv=5,\\n#     kind=\\\"hgrid\\\",\\n#     factor=1.5,\\n#     min_resources=1000,\\n#     random_state=rando,\\n# )\";\n",
       "                var nbb_formatted_code = \"# run_sweep(\\n#     main_pipe,\\n#     grid.add_prefix(\\\"col__pos__\\\"),\\n#     name=\\\"pos_tfidf\\\",\\n#     cv=5,\\n#     kind=\\\"hgrid\\\",\\n#     factor=1.5,\\n#     min_resources=1000,\\n#     random_state=rando,\\n# )\";\n",
       "                var nbb_cells = Jupyter.notebook.get_cells();\n",
       "                for (var i = 0; i < nbb_cells.length; ++i) {\n",
       "                    if (nbb_cells[i].input_prompt_number == nbb_cell_id) {\n",
       "                        if (nbb_cells[i].get_text() == nbb_unformatted_code) {\n",
       "                             nbb_cells[i].set_text(nbb_formatted_code);\n",
       "                        }\n",
       "                        break;\n",
       "                    }\n",
       "                }\n",
       "            }, 500);\n",
       "            "
      ],
      "text/plain": [
       "<IPython.core.display.Javascript object>"
      ]
     },
     "metadata": {},
     "output_type": "display_data"
    }
   ],
   "source": [
    "# run_sweep(\n",
    "#     main_pipe,\n",
    "#     grid.add_prefix(\"col__pos__\"),\n",
    "#     name=\"pos_tfidf\",\n",
    "#     cv=5,\n",
    "#     kind=\"hgrid\",\n",
    "#     factor=1.5,\n",
    "#     min_resources=1000,\n",
    "#     random_state=rando,\n",
    "# )\n"
   ]
  },
  {
   "cell_type": "code",
   "execution_count": 65,
   "metadata": {
    "ExecuteTime": {
     "end_time": "2021-06-23T07:31:46.328528Z",
     "start_time": "2021-06-23T07:31:45.910530Z"
    }
   },
   "outputs": [
    {
     "data": {
      "text/html": [
       "<div>\n",
       "<style scoped>\n",
       "    .dataframe tbody tr th:only-of-type {\n",
       "        vertical-align: middle;\n",
       "    }\n",
       "\n",
       "    .dataframe tbody tr th {\n",
       "        vertical-align: top;\n",
       "    }\n",
       "\n",
       "    .dataframe thead th {\n",
       "        text-align: right;\n",
       "    }\n",
       "</style>\n",
       "<table border=\"1\" class=\"dataframe\">\n",
       "  <thead>\n",
       "    <tr style=\"text-align: right;\">\n",
       "      <th></th>\n",
       "      <th>binary</th>\n",
       "      <th>norm</th>\n",
       "      <th>smooth_idf</th>\n",
       "      <th>sublinear_tf</th>\n",
       "      <th>use_idf</th>\n",
       "      <th>mean_score</th>\n",
       "      <th>rank_score</th>\n",
       "    </tr>\n",
       "  </thead>\n",
       "  <tbody>\n",
       "    <tr>\n",
       "      <th>133</th>\n",
       "      <td>True</td>\n",
       "      <td>l1</td>\n",
       "      <td>False</td>\n",
       "      <td>False</td>\n",
       "      <td>False</td>\n",
       "      <td>0.623307</td>\n",
       "      <td>1</td>\n",
       "    </tr>\n",
       "    <tr>\n",
       "      <th>131</th>\n",
       "      <td>True</td>\n",
       "      <td>l1</td>\n",
       "      <td>True</td>\n",
       "      <td>False</td>\n",
       "      <td>False</td>\n",
       "      <td>0.623307</td>\n",
       "      <td>1</td>\n",
       "    </tr>\n",
       "    <tr>\n",
       "      <th>130</th>\n",
       "      <td>True</td>\n",
       "      <td>l1</td>\n",
       "      <td>True</td>\n",
       "      <td>True</td>\n",
       "      <td>False</td>\n",
       "      <td>0.623307</td>\n",
       "      <td>1</td>\n",
       "    </tr>\n",
       "    <tr>\n",
       "      <th>132</th>\n",
       "      <td>True</td>\n",
       "      <td>l1</td>\n",
       "      <td>False</td>\n",
       "      <td>True</td>\n",
       "      <td>False</td>\n",
       "      <td>0.623307</td>\n",
       "      <td>1</td>\n",
       "    </tr>\n",
       "    <tr>\n",
       "      <th>129</th>\n",
       "      <td>True</td>\n",
       "      <td>l1</td>\n",
       "      <td>True</td>\n",
       "      <td>False</td>\n",
       "      <td>True</td>\n",
       "      <td>0.621604</td>\n",
       "      <td>5</td>\n",
       "    </tr>\n",
       "  </tbody>\n",
       "</table>\n",
       "</div>"
      ],
      "text/plain": [
       "    binary norm smooth_idf sublinear_tf use_idf  mean_score  rank_score\n",
       "133   True   l1      False        False   False    0.623307           1\n",
       "131   True   l1       True        False   False    0.623307           1\n",
       "130   True   l1       True         True   False    0.623307           1\n",
       "132   True   l1      False         True   False    0.623307           1\n",
       "129   True   l1       True        False    True    0.621604           5"
      ]
     },
     "execution_count": 65,
     "metadata": {},
     "output_type": "execute_result"
    },
    {
     "data": {
      "application/javascript": [
       "\n",
       "            setTimeout(function() {\n",
       "                var nbb_cell_id = 65;\n",
       "                var nbb_unformatted_code = \"results = load_results(\\\"sweeps/pos_tfidf\\\", drop_dicts=False)\\nresults.head().drop(\\\"params\\\", axis=1)\";\n",
       "                var nbb_formatted_code = \"results = load_results(\\\"sweeps/pos_tfidf\\\", drop_dicts=False)\\nresults.head().drop(\\\"params\\\", axis=1)\";\n",
       "                var nbb_cells = Jupyter.notebook.get_cells();\n",
       "                for (var i = 0; i < nbb_cells.length; ++i) {\n",
       "                    if (nbb_cells[i].input_prompt_number == nbb_cell_id) {\n",
       "                        if (nbb_cells[i].get_text() == nbb_unformatted_code) {\n",
       "                             nbb_cells[i].set_text(nbb_formatted_code);\n",
       "                        }\n",
       "                        break;\n",
       "                    }\n",
       "                }\n",
       "            }, 500);\n",
       "            "
      ],
      "text/plain": [
       "<IPython.core.display.Javascript object>"
      ]
     },
     "metadata": {},
     "output_type": "display_data"
    }
   ],
   "source": [
    "results = load_results(\"sweeps/pos_tfidf\", drop_dicts=False)\n",
    "results.head().drop(\"params\", axis=1)"
   ]
  },
  {
   "cell_type": "code",
   "execution_count": 66,
   "metadata": {
    "ExecuteTime": {
     "end_time": "2021-06-23T07:31:48.822541Z",
     "start_time": "2021-06-23T07:31:46.329528Z"
    },
    "run_control": {
     "marked": false
    }
   },
   "outputs": [
    {
     "data": {
      "text/html": [
       "<style  type=\"text/css\" >\n",
       "#T_92d82_row0_col0{\n",
       "            background-color:  #bac4d6;\n",
       "            color:  #000000;\n",
       "        }#T_92d82_row0_col1{\n",
       "            background-color:  #c97f7d;\n",
       "            color:  #000000;\n",
       "        }#T_92d82_row0_col2,#T_92d82_row3_col1{\n",
       "            background-color:  #ecd2d0;\n",
       "            color:  #000000;\n",
       "        }#T_92d82_row1_col0{\n",
       "            background-color:  #eed7d5;\n",
       "            color:  #000000;\n",
       "        }#T_92d82_row1_col1{\n",
       "            background-color:  #dcacaa;\n",
       "            color:  #000000;\n",
       "        }#T_92d82_row1_col2{\n",
       "            background-color:  #e1bab8;\n",
       "            color:  #000000;\n",
       "        }#T_92d82_row2_col0{\n",
       "            background-color:  #e1e2e9;\n",
       "            color:  #000000;\n",
       "        }#T_92d82_row2_col1{\n",
       "            background-color:  #d39794;\n",
       "            color:  #000000;\n",
       "        }#T_92d82_row2_col2{\n",
       "            background-color:  #e7c7c5;\n",
       "            color:  #000000;\n",
       "        }#T_92d82_row3_col0{\n",
       "            background-color:  #4a7bbc;\n",
       "            color:  #000000;\n",
       "        }#T_92d82_row3_col2{\n",
       "            background-color:  #bbc5d7;\n",
       "            color:  #000000;\n",
       "        }</style><table id=\"T_92d82_\" ><thead>    <tr>        <th class=\"blank level0\" ></th>        <th class=\"col_heading level0 col0\" >Negative</th>        <th class=\"col_heading level0 col1\" >Neutral</th>        <th class=\"col_heading level0 col2\" >Positive</th>        <th class=\"col_heading level0 col3\" >macro avg</th>        <th class=\"col_heading level0 col4\" >weighted avg</th>        <th class=\"col_heading level0 col5\" >accuracy</th>        <th class=\"col_heading level0 col6\" >bal accuracy</th>    </tr></thead><tbody>\n",
       "                <tr>\n",
       "                        <th id=\"T_92d82_level0_row0\" class=\"row_heading level0 row0\" >precision</th>\n",
       "                        <td id=\"T_92d82_row0_col0\" class=\"data row0 col0\" >0.324</td>\n",
       "                        <td id=\"T_92d82_row0_col1\" class=\"data row0 col1\" >0.814</td>\n",
       "                        <td id=\"T_92d82_row0_col2\" class=\"data row0 col2\" >0.602</td>\n",
       "                        <td id=\"T_92d82_row0_col3\" class=\"data row0 col3\" >0.580</td>\n",
       "                        <td id=\"T_92d82_row0_col4\" class=\"data row0 col4\" >0.712</td>\n",
       "                        <td id=\"T_92d82_row0_col5\" class=\"data row0 col5\" >0.680</td>\n",
       "                        <td id=\"T_92d82_row0_col6\" class=\"data row0 col6\" >0.651</td>\n",
       "            </tr>\n",
       "            <tr>\n",
       "                        <th id=\"T_92d82_level0_row1\" class=\"row_heading level0 row1\" >recall</th>\n",
       "                        <td id=\"T_92d82_row1_col0\" class=\"data row1 col0\" >0.592</td>\n",
       "                        <td id=\"T_92d82_row1_col1\" class=\"data row1 col1\" >0.698</td>\n",
       "                        <td id=\"T_92d82_row1_col2\" class=\"data row1 col2\" >0.663</td>\n",
       "                        <td id=\"T_92d82_row1_col3\" class=\"data row1 col3\" >0.651</td>\n",
       "                        <td id=\"T_92d82_row1_col4\" class=\"data row1 col4\" >0.680</td>\n",
       "                        <td id=\"T_92d82_row1_col5\" class=\"data row1 col5\" ></td>\n",
       "                        <td id=\"T_92d82_row1_col6\" class=\"data row1 col6\" ></td>\n",
       "            </tr>\n",
       "            <tr>\n",
       "                        <th id=\"T_92d82_level0_row2\" class=\"row_heading level0 row2\" >f1-score</th>\n",
       "                        <td id=\"T_92d82_row2_col0\" class=\"data row2 col0\" >0.419</td>\n",
       "                        <td id=\"T_92d82_row2_col1\" class=\"data row2 col1\" >0.751</td>\n",
       "                        <td id=\"T_92d82_row2_col2\" class=\"data row2 col2\" >0.631</td>\n",
       "                        <td id=\"T_92d82_row2_col3\" class=\"data row2 col3\" >0.600</td>\n",
       "                        <td id=\"T_92d82_row2_col4\" class=\"data row2 col4\" >0.690</td>\n",
       "                        <td id=\"T_92d82_row2_col5\" class=\"data row2 col5\" ></td>\n",
       "                        <td id=\"T_92d82_row2_col6\" class=\"data row2 col6\" ></td>\n",
       "            </tr>\n",
       "            <tr>\n",
       "                        <th id=\"T_92d82_level0_row3\" class=\"row_heading level0 row3\" >support</th>\n",
       "                        <td id=\"T_92d82_row3_col0\" class=\"data row3 col0\" >0.064</td>\n",
       "                        <td id=\"T_92d82_row3_col1\" class=\"data row3 col1\" >0.605</td>\n",
       "                        <td id=\"T_92d82_row3_col2\" class=\"data row3 col2\" >0.332</td>\n",
       "                        <td id=\"T_92d82_row3_col3\" class=\"data row3 col3\" ></td>\n",
       "                        <td id=\"T_92d82_row3_col4\" class=\"data row3 col4\" ></td>\n",
       "                        <td id=\"T_92d82_row3_col5\" class=\"data row3 col5\" ></td>\n",
       "                        <td id=\"T_92d82_row3_col6\" class=\"data row3 col6\" ></td>\n",
       "            </tr>\n",
       "    </tbody></table>"
      ],
      "text/plain": [
       "<pandas.io.formats.style.Styler at 0x21a87b09820>"
      ]
     },
     "metadata": {},
     "output_type": "display_data"
    },
    {
     "data": {
      "image/png": "[encoded data removed]",
      "text/plain": [
       "<Figure size 288x288 with 1 Axes>"
      ]
     },
     "metadata": {
      "needs_background": "light"
     },
     "output_type": "display_data"
    },
    {
     "data": {
      "application/javascript": [
       "\n",
       "            setTimeout(function() {\n",
       "                var nbb_cell_id = 66;\n",
       "                var nbb_unformatted_code = \"main_pipe.set_params(**results.params.iloc[0])\\ntest_fit(main_pipe)\";\n",
       "                var nbb_formatted_code = \"main_pipe.set_params(**results.params.iloc[0])\\ntest_fit(main_pipe)\";\n",
       "                var nbb_cells = Jupyter.notebook.get_cells();\n",
       "                for (var i = 0; i < nbb_cells.length; ++i) {\n",
       "                    if (nbb_cells[i].input_prompt_number == nbb_cell_id) {\n",
       "                        if (nbb_cells[i].get_text() == nbb_unformatted_code) {\n",
       "                             nbb_cells[i].set_text(nbb_formatted_code);\n",
       "                        }\n",
       "                        break;\n",
       "                    }\n",
       "                }\n",
       "            }, 500);\n",
       "            "
      ],
      "text/plain": [
       "<IPython.core.display.Javascript object>"
      ]
     },
     "metadata": {},
     "output_type": "display_data"
    }
   ],
   "source": [
    "main_pipe.set_params(**results.params.iloc[0])\n",
    "test_fit(main_pipe)"
   ]
  },
  {
   "cell_type": "code",
   "execution_count": 67,
   "metadata": {
    "ExecuteTime": {
     "end_time": "2021-06-23T07:31:48.919543Z",
     "start_time": "2021-06-23T07:31:48.828542Z"
    }
   },
   "outputs": [
    {
     "data": {
      "application/javascript": [
       "\n",
       "            setTimeout(function() {\n",
       "                var nbb_cell_id = 67;\n",
       "                var nbb_unformatted_code = \"# run_sweep(\\n#     main_pipe,\\n#     grid.add_prefix(\\\"col__bra__\\\"),\\n#     name=\\\"bra_tfidf\\\",\\n#     cv=5,\\n#     kind=\\\"hgrid\\\",\\n#     factor=1.5,\\n#     min_resources=1000,\\n#     random_state=rando,\\n# )\";\n",
       "                var nbb_formatted_code = \"# run_sweep(\\n#     main_pipe,\\n#     grid.add_prefix(\\\"col__bra__\\\"),\\n#     name=\\\"bra_tfidf\\\",\\n#     cv=5,\\n#     kind=\\\"hgrid\\\",\\n#     factor=1.5,\\n#     min_resources=1000,\\n#     random_state=rando,\\n# )\";\n",
       "                var nbb_cells = Jupyter.notebook.get_cells();\n",
       "                for (var i = 0; i < nbb_cells.length; ++i) {\n",
       "                    if (nbb_cells[i].input_prompt_number == nbb_cell_id) {\n",
       "                        if (nbb_cells[i].get_text() == nbb_unformatted_code) {\n",
       "                             nbb_cells[i].set_text(nbb_formatted_code);\n",
       "                        }\n",
       "                        break;\n",
       "                    }\n",
       "                }\n",
       "            }, 500);\n",
       "            "
      ],
      "text/plain": [
       "<IPython.core.display.Javascript object>"
      ]
     },
     "metadata": {},
     "output_type": "display_data"
    }
   ],
   "source": [
    "# run_sweep(\n",
    "#     main_pipe,\n",
    "#     grid.add_prefix(\"col__bra__\"),\n",
    "#     name=\"bra_tfidf\",\n",
    "#     cv=5,\n",
    "#     kind=\"hgrid\",\n",
    "#     factor=1.5,\n",
    "#     min_resources=1000,\n",
    "#     random_state=rando,\n",
    "# )\n"
   ]
  },
  {
   "cell_type": "code",
   "execution_count": 68,
   "metadata": {
    "ExecuteTime": {
     "end_time": "2021-06-23T07:31:49.334544Z",
     "start_time": "2021-06-23T07:31:48.920542Z"
    }
   },
   "outputs": [
    {
     "data": {
      "text/html": [
       "<div>\n",
       "<style scoped>\n",
       "    .dataframe tbody tr th:only-of-type {\n",
       "        vertical-align: middle;\n",
       "    }\n",
       "\n",
       "    .dataframe tbody tr th {\n",
       "        vertical-align: top;\n",
       "    }\n",
       "\n",
       "    .dataframe thead th {\n",
       "        text-align: right;\n",
       "    }\n",
       "</style>\n",
       "<table border=\"1\" class=\"dataframe\">\n",
       "  <thead>\n",
       "    <tr style=\"text-align: right;\">\n",
       "      <th></th>\n",
       "      <th>binary</th>\n",
       "      <th>norm</th>\n",
       "      <th>smooth_idf</th>\n",
       "      <th>sublinear_tf</th>\n",
       "      <th>use_idf</th>\n",
       "      <th>mean_score</th>\n",
       "      <th>rank_score</th>\n",
       "    </tr>\n",
       "  </thead>\n",
       "  <tbody>\n",
       "    <tr>\n",
       "      <th>133</th>\n",
       "      <td>True</td>\n",
       "      <td>l1</td>\n",
       "      <td>False</td>\n",
       "      <td>True</td>\n",
       "      <td>False</td>\n",
       "      <td>0.630308</td>\n",
       "      <td>1</td>\n",
       "    </tr>\n",
       "    <tr>\n",
       "      <th>130</th>\n",
       "      <td>True</td>\n",
       "      <td>l1</td>\n",
       "      <td>True</td>\n",
       "      <td>True</td>\n",
       "      <td>False</td>\n",
       "      <td>0.630308</td>\n",
       "      <td>1</td>\n",
       "    </tr>\n",
       "    <tr>\n",
       "      <th>132</th>\n",
       "      <td>True</td>\n",
       "      <td>l1</td>\n",
       "      <td>False</td>\n",
       "      <td>False</td>\n",
       "      <td>False</td>\n",
       "      <td>0.630308</td>\n",
       "      <td>1</td>\n",
       "    </tr>\n",
       "    <tr>\n",
       "      <th>131</th>\n",
       "      <td>True</td>\n",
       "      <td>l1</td>\n",
       "      <td>True</td>\n",
       "      <td>False</td>\n",
       "      <td>False</td>\n",
       "      <td>0.630308</td>\n",
       "      <td>1</td>\n",
       "    </tr>\n",
       "    <tr>\n",
       "      <th>128</th>\n",
       "      <td>True</td>\n",
       "      <td>None</td>\n",
       "      <td>False</td>\n",
       "      <td>True</td>\n",
       "      <td>True</td>\n",
       "      <td>0.630065</td>\n",
       "      <td>5</td>\n",
       "    </tr>\n",
       "  </tbody>\n",
       "</table>\n",
       "</div>"
      ],
      "text/plain": [
       "    binary  norm smooth_idf sublinear_tf use_idf  mean_score  rank_score\n",
       "133   True    l1      False         True   False    0.630308           1\n",
       "130   True    l1       True         True   False    0.630308           1\n",
       "132   True    l1      False        False   False    0.630308           1\n",
       "131   True    l1       True        False   False    0.630308           1\n",
       "128   True  None      False         True    True    0.630065           5"
      ]
     },
     "execution_count": 68,
     "metadata": {},
     "output_type": "execute_result"
    },
    {
     "data": {
      "application/javascript": [
       "\n",
       "            setTimeout(function() {\n",
       "                var nbb_cell_id = 68;\n",
       "                var nbb_unformatted_code = \"results = load_results(\\\"sweeps/bra_tfidf\\\", drop_dicts=False)\\nresults.head().drop(\\\"params\\\", axis=1)\";\n",
       "                var nbb_formatted_code = \"results = load_results(\\\"sweeps/bra_tfidf\\\", drop_dicts=False)\\nresults.head().drop(\\\"params\\\", axis=1)\";\n",
       "                var nbb_cells = Jupyter.notebook.get_cells();\n",
       "                for (var i = 0; i < nbb_cells.length; ++i) {\n",
       "                    if (nbb_cells[i].input_prompt_number == nbb_cell_id) {\n",
       "                        if (nbb_cells[i].get_text() == nbb_unformatted_code) {\n",
       "                             nbb_cells[i].set_text(nbb_formatted_code);\n",
       "                        }\n",
       "                        break;\n",
       "                    }\n",
       "                }\n",
       "            }, 500);\n",
       "            "
      ],
      "text/plain": [
       "<IPython.core.display.Javascript object>"
      ]
     },
     "metadata": {},
     "output_type": "display_data"
    }
   ],
   "source": [
    "results = load_results(\"sweeps/bra_tfidf\", drop_dicts=False)\n",
    "results.head().drop(\"params\", axis=1)"
   ]
  },
  {
   "cell_type": "code",
   "execution_count": 69,
   "metadata": {
    "ExecuteTime": {
     "end_time": "2021-06-23T07:31:51.738542Z",
     "start_time": "2021-06-23T07:31:49.335542Z"
    }
   },
   "outputs": [
    {
     "data": {
      "text/html": [
       "<style  type=\"text/css\" >\n",
       "#T_d4c8e_row0_col0,#T_d4c8e_row3_col2{\n",
       "            background-color:  #bbc5d7;\n",
       "            color:  #000000;\n",
       "        }#T_d4c8e_row0_col1{\n",
       "            background-color:  #c97f7d;\n",
       "            color:  #000000;\n",
       "        }#T_d4c8e_row0_col2,#T_d4c8e_row1_col0{\n",
       "            background-color:  #ecd3d2;\n",
       "            color:  #000000;\n",
       "        }#T_d4c8e_row1_col1{\n",
       "            background-color:  #dcacaa;\n",
       "            color:  #000000;\n",
       "        }#T_d4c8e_row1_col2{\n",
       "            background-color:  #e1bab8;\n",
       "            color:  #000000;\n",
       "        }#T_d4c8e_row2_col0{\n",
       "            background-color:  #e2e3ea;\n",
       "            color:  #000000;\n",
       "        }#T_d4c8e_row2_col1{\n",
       "            background-color:  #d39794;\n",
       "            color:  #000000;\n",
       "        }#T_d4c8e_row2_col2{\n",
       "            background-color:  #e7c7c5;\n",
       "            color:  #000000;\n",
       "        }#T_d4c8e_row3_col0{\n",
       "            background-color:  #4a7bbc;\n",
       "            color:  #000000;\n",
       "        }#T_d4c8e_row3_col1{\n",
       "            background-color:  #ecd2d0;\n",
       "            color:  #000000;\n",
       "        }</style><table id=\"T_d4c8e_\" ><thead>    <tr>        <th class=\"blank level0\" ></th>        <th class=\"col_heading level0 col0\" >Negative</th>        <th class=\"col_heading level0 col1\" >Neutral</th>        <th class=\"col_heading level0 col2\" >Positive</th>        <th class=\"col_heading level0 col3\" >macro avg</th>        <th class=\"col_heading level0 col4\" >weighted avg</th>        <th class=\"col_heading level0 col5\" >accuracy</th>        <th class=\"col_heading level0 col6\" >bal accuracy</th>    </tr></thead><tbody>\n",
       "                <tr>\n",
       "                        <th id=\"T_d4c8e_level0_row0\" class=\"row_heading level0 row0\" >precision</th>\n",
       "                        <td id=\"T_d4c8e_row0_col0\" class=\"data row0 col0\" >0.329</td>\n",
       "                        <td id=\"T_d4c8e_row0_col1\" class=\"data row0 col1\" >0.815</td>\n",
       "                        <td id=\"T_d4c8e_row0_col2\" class=\"data row0 col2\" >0.600</td>\n",
       "                        <td id=\"T_d4c8e_row0_col3\" class=\"data row0 col3\" >0.582</td>\n",
       "                        <td id=\"T_d4c8e_row0_col4\" class=\"data row0 col4\" >0.713</td>\n",
       "                        <td id=\"T_d4c8e_row0_col5\" class=\"data row0 col5\" >0.680</td>\n",
       "                        <td id=\"T_d4c8e_row0_col6\" class=\"data row0 col6\" >0.653</td>\n",
       "            </tr>\n",
       "            <tr>\n",
       "                        <th id=\"T_d4c8e_level0_row1\" class=\"row_heading level0 row1\" >recall</th>\n",
       "                        <td id=\"T_d4c8e_row1_col0\" class=\"data row1 col0\" >0.599</td>\n",
       "                        <td id=\"T_d4c8e_row1_col1\" class=\"data row1 col1\" >0.698</td>\n",
       "                        <td id=\"T_d4c8e_row1_col2\" class=\"data row1 col2\" >0.663</td>\n",
       "                        <td id=\"T_d4c8e_row1_col3\" class=\"data row1 col3\" >0.653</td>\n",
       "                        <td id=\"T_d4c8e_row1_col4\" class=\"data row1 col4\" >0.680</td>\n",
       "                        <td id=\"T_d4c8e_row1_col5\" class=\"data row1 col5\" ></td>\n",
       "                        <td id=\"T_d4c8e_row1_col6\" class=\"data row1 col6\" ></td>\n",
       "            </tr>\n",
       "            <tr>\n",
       "                        <th id=\"T_d4c8e_level0_row2\" class=\"row_heading level0 row2\" >f1-score</th>\n",
       "                        <td id=\"T_d4c8e_row2_col0\" class=\"data row2 col0\" >0.425</td>\n",
       "                        <td id=\"T_d4c8e_row2_col1\" class=\"data row2 col1\" >0.752</td>\n",
       "                        <td id=\"T_d4c8e_row2_col2\" class=\"data row2 col2\" >0.630</td>\n",
       "                        <td id=\"T_d4c8e_row2_col3\" class=\"data row2 col3\" >0.602</td>\n",
       "                        <td id=\"T_d4c8e_row2_col4\" class=\"data row2 col4\" >0.691</td>\n",
       "                        <td id=\"T_d4c8e_row2_col5\" class=\"data row2 col5\" ></td>\n",
       "                        <td id=\"T_d4c8e_row2_col6\" class=\"data row2 col6\" ></td>\n",
       "            </tr>\n",
       "            <tr>\n",
       "                        <th id=\"T_d4c8e_level0_row3\" class=\"row_heading level0 row3\" >support</th>\n",
       "                        <td id=\"T_d4c8e_row3_col0\" class=\"data row3 col0\" >0.064</td>\n",
       "                        <td id=\"T_d4c8e_row3_col1\" class=\"data row3 col1\" >0.605</td>\n",
       "                        <td id=\"T_d4c8e_row3_col2\" class=\"data row3 col2\" >0.332</td>\n",
       "                        <td id=\"T_d4c8e_row3_col3\" class=\"data row3 col3\" ></td>\n",
       "                        <td id=\"T_d4c8e_row3_col4\" class=\"data row3 col4\" ></td>\n",
       "                        <td id=\"T_d4c8e_row3_col5\" class=\"data row3 col5\" ></td>\n",
       "                        <td id=\"T_d4c8e_row3_col6\" class=\"data row3 col6\" ></td>\n",
       "            </tr>\n",
       "    </tbody></table>"
      ],
      "text/plain": [
       "<pandas.io.formats.style.Styler at 0x21a87aaad60>"
      ]
     },
     "metadata": {},
     "output_type": "display_data"
    },
    {
     "data": {
      "image/png": "[encoded data removed]",
      "text/plain": [
       "<Figure size 288x288 with 1 Axes>"
      ]
     },
     "metadata": {
      "needs_background": "light"
     },
     "output_type": "display_data"
    },
    {
     "data": {
      "application/javascript": [
       "\n",
       "            setTimeout(function() {\n",
       "                var nbb_cell_id = 69;\n",
       "                var nbb_unformatted_code = \"main_pipe.set_params(**results.params.iloc[0])\\ntest_fit(main_pipe)\";\n",
       "                var nbb_formatted_code = \"main_pipe.set_params(**results.params.iloc[0])\\ntest_fit(main_pipe)\";\n",
       "                var nbb_cells = Jupyter.notebook.get_cells();\n",
       "                for (var i = 0; i < nbb_cells.length; ++i) {\n",
       "                    if (nbb_cells[i].input_prompt_number == nbb_cell_id) {\n",
       "                        if (nbb_cells[i].get_text() == nbb_unformatted_code) {\n",
       "                             nbb_cells[i].set_text(nbb_formatted_code);\n",
       "                        }\n",
       "                        break;\n",
       "                    }\n",
       "                }\n",
       "            }, 500);\n",
       "            "
      ],
      "text/plain": [
       "<IPython.core.display.Javascript object>"
      ]
     },
     "metadata": {},
     "output_type": "display_data"
    }
   ],
   "source": [
    "main_pipe.set_params(**results.params.iloc[0])\n",
    "test_fit(main_pipe)"
   ]
  },
  {
   "cell_type": "markdown",
   "metadata": {},
   "source": [
    "## Model Mark IV"
   ]
  },
  {
   "cell_type": "code",
   "execution_count": 70,
   "metadata": {
    "ExecuteTime": {
     "end_time": "2021-06-23T07:31:54.087543Z",
     "start_time": "2021-06-23T07:31:51.739542Z"
    },
    "run_control": {
     "marked": false
    }
   },
   "outputs": [
    {
     "data": {
      "text/html": [
       "<style  type=\"text/css\" >\n",
       "#T_b64d0_row0_col0{\n",
       "            background-color:  #abb9d0;\n",
       "            color:  #000000;\n",
       "        }#T_b64d0_row0_col1{\n",
       "            background-color:  #c77b78;\n",
       "            color:  #000000;\n",
       "        }#T_b64d0_row0_col2{\n",
       "            background-color:  #ecd3d2;\n",
       "            color:  #000000;\n",
       "        }#T_b64d0_row1_col0,#T_b64d0_row1_col2{\n",
       "            background-color:  #e3bdbb;\n",
       "            color:  #000000;\n",
       "        }#T_b64d0_row1_col1{\n",
       "            background-color:  #dfb5b3;\n",
       "            color:  #000000;\n",
       "        }#T_b64d0_row2_col0{\n",
       "            background-color:  #dadde5;\n",
       "            color:  #000000;\n",
       "        }#T_b64d0_row2_col1{\n",
       "            background-color:  #d49a97;\n",
       "            color:  #000000;\n",
       "        }#T_b64d0_row2_col2{\n",
       "            background-color:  #e8cac8;\n",
       "            color:  #000000;\n",
       "        }#T_b64d0_row3_col0{\n",
       "            background-color:  #4a7bbc;\n",
       "            color:  #000000;\n",
       "        }#T_b64d0_row3_col1{\n",
       "            background-color:  #ecd2d0;\n",
       "            color:  #000000;\n",
       "        }#T_b64d0_row3_col2{\n",
       "            background-color:  #bbc5d7;\n",
       "            color:  #000000;\n",
       "        }</style><table id=\"T_b64d0_\" ><thead>    <tr>        <th class=\"blank level0\" ></th>        <th class=\"col_heading level0 col0\" >Negative</th>        <th class=\"col_heading level0 col1\" >Neutral</th>        <th class=\"col_heading level0 col2\" >Positive</th>        <th class=\"col_heading level0 col3\" >macro avg</th>        <th class=\"col_heading level0 col4\" >weighted avg</th>        <th class=\"col_heading level0 col5\" >accuracy</th>        <th class=\"col_heading level0 col6\" >bal accuracy</th>    </tr></thead><tbody>\n",
       "                <tr>\n",
       "                        <th id=\"T_b64d0_level0_row0\" class=\"row_heading level0 row0\" >precision</th>\n",
       "                        <td id=\"T_b64d0_row0_col0\" class=\"data row0 col0\" >0.292</td>\n",
       "                        <td id=\"T_b64d0_row0_col1\" class=\"data row0 col1\" >0.826</td>\n",
       "                        <td id=\"T_b64d0_row0_col2\" class=\"data row0 col2\" >0.598</td>\n",
       "                        <td id=\"T_b64d0_row0_col3\" class=\"data row0 col3\" >0.572</td>\n",
       "                        <td id=\"T_b64d0_row0_col4\" class=\"data row0 col4\" >0.716</td>\n",
       "                        <td id=\"T_b64d0_row0_col5\" class=\"data row0 col5\" >0.667</td>\n",
       "                        <td id=\"T_b64d0_row0_col6\" class=\"data row0 col6\" >0.661</td>\n",
       "            </tr>\n",
       "            <tr>\n",
       "                        <th id=\"T_b64d0_level0_row1\" class=\"row_heading level0 row1\" >recall</th>\n",
       "                        <td id=\"T_b64d0_row1_col0\" class=\"data row1 col0\" >0.655</td>\n",
       "                        <td id=\"T_b64d0_row1_col1\" class=\"data row1 col1\" >0.676</td>\n",
       "                        <td id=\"T_b64d0_row1_col2\" class=\"data row1 col2\" >0.654</td>\n",
       "                        <td id=\"T_b64d0_row1_col3\" class=\"data row1 col3\" >0.661</td>\n",
       "                        <td id=\"T_b64d0_row1_col4\" class=\"data row1 col4\" >0.667</td>\n",
       "                        <td id=\"T_b64d0_row1_col5\" class=\"data row1 col5\" ></td>\n",
       "                        <td id=\"T_b64d0_row1_col6\" class=\"data row1 col6\" ></td>\n",
       "            </tr>\n",
       "            <tr>\n",
       "                        <th id=\"T_b64d0_level0_row2\" class=\"row_heading level0 row2\" >f1-score</th>\n",
       "                        <td id=\"T_b64d0_row2_col0\" class=\"data row2 col0\" >0.404</td>\n",
       "                        <td id=\"T_b64d0_row2_col1\" class=\"data row2 col1\" >0.743</td>\n",
       "                        <td id=\"T_b64d0_row2_col2\" class=\"data row2 col2\" >0.624</td>\n",
       "                        <td id=\"T_b64d0_row2_col3\" class=\"data row2 col3\" >0.591</td>\n",
       "                        <td id=\"T_b64d0_row2_col4\" class=\"data row2 col4\" >0.682</td>\n",
       "                        <td id=\"T_b64d0_row2_col5\" class=\"data row2 col5\" ></td>\n",
       "                        <td id=\"T_b64d0_row2_col6\" class=\"data row2 col6\" ></td>\n",
       "            </tr>\n",
       "            <tr>\n",
       "                        <th id=\"T_b64d0_level0_row3\" class=\"row_heading level0 row3\" >support</th>\n",
       "                        <td id=\"T_b64d0_row3_col0\" class=\"data row3 col0\" >0.064</td>\n",
       "                        <td id=\"T_b64d0_row3_col1\" class=\"data row3 col1\" >0.605</td>\n",
       "                        <td id=\"T_b64d0_row3_col2\" class=\"data row3 col2\" >0.332</td>\n",
       "                        <td id=\"T_b64d0_row3_col3\" class=\"data row3 col3\" ></td>\n",
       "                        <td id=\"T_b64d0_row3_col4\" class=\"data row3 col4\" ></td>\n",
       "                        <td id=\"T_b64d0_row3_col5\" class=\"data row3 col5\" ></td>\n",
       "                        <td id=\"T_b64d0_row3_col6\" class=\"data row3 col6\" ></td>\n",
       "            </tr>\n",
       "    </tbody></table>"
      ],
      "text/plain": [
       "<pandas.io.formats.style.Styler at 0x21a87dc1b50>"
      ]
     },
     "metadata": {},
     "output_type": "display_data"
    },
    {
     "data": {
      "image/png": "[encoded data removed]",
      "text/plain": [
       "<Figure size 288x288 with 1 Axes>"
      ]
     },
     "metadata": {
      "needs_background": "light"
     },
     "output_type": "display_data"
    },
    {
     "data": {
      "application/javascript": [
       "\n",
       "            setTimeout(function() {\n",
       "                var nbb_cell_id = 70;\n",
       "                var nbb_unformatted_code = \"main_pipe = Pipeline(\\n    [\\n        (\\\"col\\\", col_xform),\\n        (\\\"nrm\\\", Normalizer(\\\"l2\\\")),\\n        (\\\"cls\\\", logit),\\n    ]\\n)\\n\\ntest_fit(main_pipe)\";\n",
       "                var nbb_formatted_code = \"main_pipe = Pipeline(\\n    [\\n        (\\\"col\\\", col_xform),\\n        (\\\"nrm\\\", Normalizer(\\\"l2\\\")),\\n        (\\\"cls\\\", logit),\\n    ]\\n)\\n\\ntest_fit(main_pipe)\";\n",
       "                var nbb_cells = Jupyter.notebook.get_cells();\n",
       "                for (var i = 0; i < nbb_cells.length; ++i) {\n",
       "                    if (nbb_cells[i].input_prompt_number == nbb_cell_id) {\n",
       "                        if (nbb_cells[i].get_text() == nbb_unformatted_code) {\n",
       "                             nbb_cells[i].set_text(nbb_formatted_code);\n",
       "                        }\n",
       "                        break;\n",
       "                    }\n",
       "                }\n",
       "            }, 500);\n",
       "            "
      ],
      "text/plain": [
       "<IPython.core.display.Javascript object>"
      ]
     },
     "metadata": {},
     "output_type": "display_data"
    }
   ],
   "source": [
    "main_pipe = Pipeline(\n",
    "    [\n",
    "        (\"col\", col_xform),\n",
    "        (\"nrm\", Normalizer(\"l2\")),\n",
    "        (\"cls\", logit),\n",
    "    ]\n",
    ")\n",
    "\n",
    "test_fit(main_pipe)"
   ]
  },
  {
   "cell_type": "code",
   "execution_count": 73,
   "metadata": {
    "ExecuteTime": {
     "end_time": "2021-06-23T07:33:06.103784Z",
     "start_time": "2021-06-23T07:32:54.999751Z"
    }
   },
   "outputs": [
    {
     "name": "stdout",
     "output_type": "stream",
     "text": [
      "n_iterations: 2\n",
      "n_required_iterations: 2\n",
      "n_possible_iterations: 2\n",
      "min_resources_: 1000\n",
      "max_resources_: 8912\n",
      "aggressive_elimination: False\n",
      "factor: 3\n",
      "----------\n",
      "iter: 0\n",
      "n_candidates: 6\n",
      "n_resources: 1000\n",
      "Fitting 5 folds for each of 6 candidates, totalling 30 fits\n",
      "----------\n",
      "iter: 1\n",
      "n_candidates: 2\n",
      "n_resources: 3000\n",
      "Fitting 5 folds for each of 2 candidates, totalling 10 fits\n"
     ]
    },
    {
     "data": {
      "text/plain": [
       "'sweeps\\\\penalty.joblib'"
      ]
     },
     "execution_count": 73,
     "metadata": {},
     "output_type": "execute_result"
    },
    {
     "data": {
      "application/javascript": [
       "\n",
       "            setTimeout(function() {\n",
       "                var nbb_cell_id = 73;\n",
       "                var nbb_unformatted_code = \"grid = [\\n    dict(\\n        cls__C=np.geomspace(1e-4, 1, 5),\\n        cls__penalty=[\\\"l2\\\"],\\n    ),\\n    dict(\\n        cls__C=[1],\\n        cls__penalty=[\\\"none\\\"],\\n    ),\\n]\\n\\nlogit.set_params(max_iter=1e6, solver=\\\"lbfgs\\\")\\n\\nrun_sweep(\\n    main_pipe,\\n    grid,\\n    name=\\\"penalty\\\",\\n    kind=\\\"hgrid\\\",\\n    min_resources=1000,\\n    factor=3,\\n)\";\n",
       "                var nbb_formatted_code = \"grid = [\\n    dict(\\n        cls__C=np.geomspace(1e-4, 1, 5),\\n        cls__penalty=[\\\"l2\\\"],\\n    ),\\n    dict(\\n        cls__C=[1],\\n        cls__penalty=[\\\"none\\\"],\\n    ),\\n]\\n\\nlogit.set_params(max_iter=1e6, solver=\\\"lbfgs\\\")\\n\\nrun_sweep(\\n    main_pipe,\\n    grid,\\n    name=\\\"penalty\\\",\\n    kind=\\\"hgrid\\\",\\n    min_resources=1000,\\n    factor=3,\\n)\";\n",
       "                var nbb_cells = Jupyter.notebook.get_cells();\n",
       "                for (var i = 0; i < nbb_cells.length; ++i) {\n",
       "                    if (nbb_cells[i].input_prompt_number == nbb_cell_id) {\n",
       "                        if (nbb_cells[i].get_text() == nbb_unformatted_code) {\n",
       "                             nbb_cells[i].set_text(nbb_formatted_code);\n",
       "                        }\n",
       "                        break;\n",
       "                    }\n",
       "                }\n",
       "            }, 500);\n",
       "            "
      ],
      "text/plain": [
       "<IPython.core.display.Javascript object>"
      ]
     },
     "metadata": {},
     "output_type": "display_data"
    }
   ],
   "source": [
    "grid = [\n",
    "    dict(\n",
    "        cls__C=np.geomspace(1e-4, 1, 5),\n",
    "        cls__penalty=[\"l2\"],\n",
    "    ),\n",
    "    dict(\n",
    "        cls__C=[1],\n",
    "        cls__penalty=[\"none\"],\n",
    "    ),\n",
    "]\n",
    "\n",
    "logit.set_params(max_iter=1e6, solver=\"lbfgs\")\n",
    "\n",
    "# run_sweep(\n",
    "#     main_pipe,\n",
    "#     grid,\n",
    "#     name=\"penalty\",\n",
    "#     kind=\"hgrid\",\n",
    "#     min_resources=1000,\n",
    "#     factor=3,\n",
    "# )"
   ]
  },
  {
   "cell_type": "code",
   "execution_count": 75,
   "metadata": {
    "ExecuteTime": {
     "end_time": "2021-06-23T07:33:49.673967Z",
     "start_time": "2021-06-23T07:33:49.269969Z"
    }
   },
   "outputs": [
    {
     "data": {
      "text/html": [
       "<div>\n",
       "<style scoped>\n",
       "    .dataframe tbody tr th:only-of-type {\n",
       "        vertical-align: middle;\n",
       "    }\n",
       "\n",
       "    .dataframe tbody tr th {\n",
       "        vertical-align: top;\n",
       "    }\n",
       "\n",
       "    .dataframe thead th {\n",
       "        text-align: right;\n",
       "    }\n",
       "</style>\n",
       "<table border=\"1\" class=\"dataframe\">\n",
       "  <thead>\n",
       "    <tr style=\"text-align: right;\">\n",
       "      <th></th>\n",
       "      <th>C</th>\n",
       "      <th>penalty</th>\n",
       "      <th>mean_score</th>\n",
       "      <th>rank_score</th>\n",
       "    </tr>\n",
       "  </thead>\n",
       "  <tbody>\n",
       "    <tr>\n",
       "      <th>7</th>\n",
       "      <td>1.0</td>\n",
       "      <td>l2</td>\n",
       "      <td>0.584451</td>\n",
       "      <td>1</td>\n",
       "    </tr>\n",
       "    <tr>\n",
       "      <th>6</th>\n",
       "      <td>0.1</td>\n",
       "      <td>l2</td>\n",
       "      <td>0.519688</td>\n",
       "      <td>2</td>\n",
       "    </tr>\n",
       "    <tr>\n",
       "      <th>4</th>\n",
       "      <td>1.0</td>\n",
       "      <td>l2</td>\n",
       "      <td>0.491566</td>\n",
       "      <td>3</td>\n",
       "    </tr>\n",
       "    <tr>\n",
       "      <th>3</th>\n",
       "      <td>0.1</td>\n",
       "      <td>l2</td>\n",
       "      <td>0.474799</td>\n",
       "      <td>4</td>\n",
       "    </tr>\n",
       "    <tr>\n",
       "      <th>2</th>\n",
       "      <td>0.01</td>\n",
       "      <td>l2</td>\n",
       "      <td>0.474479</td>\n",
       "      <td>5</td>\n",
       "    </tr>\n",
       "    <tr>\n",
       "      <th>1</th>\n",
       "      <td>0.001</td>\n",
       "      <td>l2</td>\n",
       "      <td>0.474067</td>\n",
       "      <td>6</td>\n",
       "    </tr>\n",
       "    <tr>\n",
       "      <th>0</th>\n",
       "      <td>0.0001</td>\n",
       "      <td>l2</td>\n",
       "      <td>0.455689</td>\n",
       "      <td>7</td>\n",
       "    </tr>\n",
       "    <tr>\n",
       "      <th>5</th>\n",
       "      <td>1</td>\n",
       "      <td>none</td>\n",
       "      <td>0.434009</td>\n",
       "      <td>8</td>\n",
       "    </tr>\n",
       "  </tbody>\n",
       "</table>\n",
       "</div>"
      ],
      "text/plain": [
       "        C penalty  mean_score  rank_score\n",
       "7     1.0      l2    0.584451           1\n",
       "6     0.1      l2    0.519688           2\n",
       "4     1.0      l2    0.491566           3\n",
       "3     0.1      l2    0.474799           4\n",
       "2    0.01      l2    0.474479           5\n",
       "1   0.001      l2    0.474067           6\n",
       "0  0.0001      l2    0.455689           7\n",
       "5       1    none    0.434009           8"
      ]
     },
     "execution_count": 75,
     "metadata": {},
     "output_type": "execute_result"
    },
    {
     "data": {
      "application/javascript": [
       "\n",
       "            setTimeout(function() {\n",
       "                var nbb_cell_id = 75;\n",
       "                var nbb_unformatted_code = \"results = load_results(\\\"sweeps/penalty\\\", drop_dicts=False)\\nresults.drop(\\\"params\\\", axis=1)\";\n",
       "                var nbb_formatted_code = \"results = load_results(\\\"sweeps/penalty\\\", drop_dicts=False)\\nresults.drop(\\\"params\\\", axis=1)\";\n",
       "                var nbb_cells = Jupyter.notebook.get_cells();\n",
       "                for (var i = 0; i < nbb_cells.length; ++i) {\n",
       "                    if (nbb_cells[i].input_prompt_number == nbb_cell_id) {\n",
       "                        if (nbb_cells[i].get_text() == nbb_unformatted_code) {\n",
       "                             nbb_cells[i].set_text(nbb_formatted_code);\n",
       "                        }\n",
       "                        break;\n",
       "                    }\n",
       "                }\n",
       "            }, 500);\n",
       "            "
      ],
      "text/plain": [
       "<IPython.core.display.Javascript object>"
      ]
     },
     "metadata": {},
     "output_type": "display_data"
    }
   ],
   "source": [
    "results = load_results(\"sweeps/penalty\", drop_dicts=False)\n",
    "results.drop(\"params\", axis=1)"
   ]
  },
  {
   "cell_type": "code",
   "execution_count": 76,
   "metadata": {
    "ExecuteTime": {
     "end_time": "2021-06-23T07:33:52.207966Z",
     "start_time": "2021-06-23T07:33:49.674968Z"
    }
   },
   "outputs": [
    {
     "data": {
      "text/html": [
       "<style  type=\"text/css\" >\n",
       "#T_8846f_row0_col0{\n",
       "            background-color:  #abb9d0;\n",
       "            color:  #000000;\n",
       "        }#T_8846f_row0_col1{\n",
       "            background-color:  #c77b78;\n",
       "            color:  #000000;\n",
       "        }#T_8846f_row0_col2{\n",
       "            background-color:  #ecd3d2;\n",
       "            color:  #000000;\n",
       "        }#T_8846f_row1_col0,#T_8846f_row1_col2{\n",
       "            background-color:  #e3bdbb;\n",
       "            color:  #000000;\n",
       "        }#T_8846f_row1_col1{\n",
       "            background-color:  #dfb5b3;\n",
       "            color:  #000000;\n",
       "        }#T_8846f_row2_col0{\n",
       "            background-color:  #dadde5;\n",
       "            color:  #000000;\n",
       "        }#T_8846f_row2_col1{\n",
       "            background-color:  #d49a97;\n",
       "            color:  #000000;\n",
       "        }#T_8846f_row2_col2{\n",
       "            background-color:  #e8cac8;\n",
       "            color:  #000000;\n",
       "        }#T_8846f_row3_col0{\n",
       "            background-color:  #4a7bbc;\n",
       "            color:  #000000;\n",
       "        }#T_8846f_row3_col1{\n",
       "            background-color:  #ecd2d0;\n",
       "            color:  #000000;\n",
       "        }#T_8846f_row3_col2{\n",
       "            background-color:  #bbc5d7;\n",
       "            color:  #000000;\n",
       "        }</style><table id=\"T_8846f_\" ><thead>    <tr>        <th class=\"blank level0\" ></th>        <th class=\"col_heading level0 col0\" >Negative</th>        <th class=\"col_heading level0 col1\" >Neutral</th>        <th class=\"col_heading level0 col2\" >Positive</th>        <th class=\"col_heading level0 col3\" >macro avg</th>        <th class=\"col_heading level0 col4\" >weighted avg</th>        <th class=\"col_heading level0 col5\" >accuracy</th>        <th class=\"col_heading level0 col6\" >bal accuracy</th>    </tr></thead><tbody>\n",
       "                <tr>\n",
       "                        <th id=\"T_8846f_level0_row0\" class=\"row_heading level0 row0\" >precision</th>\n",
       "                        <td id=\"T_8846f_row0_col0\" class=\"data row0 col0\" >0.292</td>\n",
       "                        <td id=\"T_8846f_row0_col1\" class=\"data row0 col1\" >0.826</td>\n",
       "                        <td id=\"T_8846f_row0_col2\" class=\"data row0 col2\" >0.598</td>\n",
       "                        <td id=\"T_8846f_row0_col3\" class=\"data row0 col3\" >0.572</td>\n",
       "                        <td id=\"T_8846f_row0_col4\" class=\"data row0 col4\" >0.716</td>\n",
       "                        <td id=\"T_8846f_row0_col5\" class=\"data row0 col5\" >0.667</td>\n",
       "                        <td id=\"T_8846f_row0_col6\" class=\"data row0 col6\" >0.661</td>\n",
       "            </tr>\n",
       "            <tr>\n",
       "                        <th id=\"T_8846f_level0_row1\" class=\"row_heading level0 row1\" >recall</th>\n",
       "                        <td id=\"T_8846f_row1_col0\" class=\"data row1 col0\" >0.655</td>\n",
       "                        <td id=\"T_8846f_row1_col1\" class=\"data row1 col1\" >0.676</td>\n",
       "                        <td id=\"T_8846f_row1_col2\" class=\"data row1 col2\" >0.654</td>\n",
       "                        <td id=\"T_8846f_row1_col3\" class=\"data row1 col3\" >0.661</td>\n",
       "                        <td id=\"T_8846f_row1_col4\" class=\"data row1 col4\" >0.667</td>\n",
       "                        <td id=\"T_8846f_row1_col5\" class=\"data row1 col5\" ></td>\n",
       "                        <td id=\"T_8846f_row1_col6\" class=\"data row1 col6\" ></td>\n",
       "            </tr>\n",
       "            <tr>\n",
       "                        <th id=\"T_8846f_level0_row2\" class=\"row_heading level0 row2\" >f1-score</th>\n",
       "                        <td id=\"T_8846f_row2_col0\" class=\"data row2 col0\" >0.404</td>\n",
       "                        <td id=\"T_8846f_row2_col1\" class=\"data row2 col1\" >0.743</td>\n",
       "                        <td id=\"T_8846f_row2_col2\" class=\"data row2 col2\" >0.624</td>\n",
       "                        <td id=\"T_8846f_row2_col3\" class=\"data row2 col3\" >0.591</td>\n",
       "                        <td id=\"T_8846f_row2_col4\" class=\"data row2 col4\" >0.682</td>\n",
       "                        <td id=\"T_8846f_row2_col5\" class=\"data row2 col5\" ></td>\n",
       "                        <td id=\"T_8846f_row2_col6\" class=\"data row2 col6\" ></td>\n",
       "            </tr>\n",
       "            <tr>\n",
       "                        <th id=\"T_8846f_level0_row3\" class=\"row_heading level0 row3\" >support</th>\n",
       "                        <td id=\"T_8846f_row3_col0\" class=\"data row3 col0\" >0.064</td>\n",
       "                        <td id=\"T_8846f_row3_col1\" class=\"data row3 col1\" >0.605</td>\n",
       "                        <td id=\"T_8846f_row3_col2\" class=\"data row3 col2\" >0.332</td>\n",
       "                        <td id=\"T_8846f_row3_col3\" class=\"data row3 col3\" ></td>\n",
       "                        <td id=\"T_8846f_row3_col4\" class=\"data row3 col4\" ></td>\n",
       "                        <td id=\"T_8846f_row3_col5\" class=\"data row3 col5\" ></td>\n",
       "                        <td id=\"T_8846f_row3_col6\" class=\"data row3 col6\" ></td>\n",
       "            </tr>\n",
       "    </tbody></table>"
      ],
      "text/plain": [
       "<pandas.io.formats.style.Styler at 0x21a87f85820>"
      ]
     },
     "metadata": {},
     "output_type": "display_data"
    },
    {
     "data": {
      "image/png": "[encoded data removed]",
      "text/plain": [
       "<Figure size 288x288 with 1 Axes>"
      ]
     },
     "metadata": {
      "needs_background": "light"
     },
     "output_type": "display_data"
    },
    {
     "data": {
      "application/javascript": [
       "\n",
       "            setTimeout(function() {\n",
       "                var nbb_cell_id = 76;\n",
       "                var nbb_unformatted_code = \"main_pipe.set_params(**results.iloc[0].params)\\ntest_fit(main_pipe)\";\n",
       "                var nbb_formatted_code = \"main_pipe.set_params(**results.iloc[0].params)\\ntest_fit(main_pipe)\";\n",
       "                var nbb_cells = Jupyter.notebook.get_cells();\n",
       "                for (var i = 0; i < nbb_cells.length; ++i) {\n",
       "                    if (nbb_cells[i].input_prompt_number == nbb_cell_id) {\n",
       "                        if (nbb_cells[i].get_text() == nbb_unformatted_code) {\n",
       "                             nbb_cells[i].set_text(nbb_formatted_code);\n",
       "                        }\n",
       "                        break;\n",
       "                    }\n",
       "                }\n",
       "            }, 500);\n",
       "            "
      ],
      "text/plain": [
       "<IPython.core.display.Javascript object>"
      ]
     },
     "metadata": {},
     "output_type": "display_data"
    }
   ],
   "source": [
    "main_pipe.set_params(**results.iloc[0].params)\n",
    "test_fit(main_pipe)"
   ]
  },
  {
   "cell_type": "code",
   "execution_count": 77,
   "metadata": {
    "ExecuteTime": {
     "end_time": "2021-06-23T07:33:54.749967Z",
     "start_time": "2021-06-23T07:33:52.208968Z"
    },
    "run_control": {
     "marked": false
    }
   },
   "outputs": [
    {
     "data": {
      "text/html": [
       "<style  type=\"text/css\" >\n",
       "#T_05ebf_row0_col0{\n",
       "            background-color:  #abb9d0;\n",
       "            color:  #000000;\n",
       "        }#T_05ebf_row0_col1{\n",
       "            background-color:  #c77b78;\n",
       "            color:  #000000;\n",
       "        }#T_05ebf_row0_col2{\n",
       "            background-color:  #ecd3d2;\n",
       "            color:  #000000;\n",
       "        }#T_05ebf_row1_col0,#T_05ebf_row1_col2{\n",
       "            background-color:  #e3bdbb;\n",
       "            color:  #000000;\n",
       "        }#T_05ebf_row1_col1{\n",
       "            background-color:  #dfb5b3;\n",
       "            color:  #000000;\n",
       "        }#T_05ebf_row2_col0{\n",
       "            background-color:  #dadde5;\n",
       "            color:  #000000;\n",
       "        }#T_05ebf_row2_col1{\n",
       "            background-color:  #d49a97;\n",
       "            color:  #000000;\n",
       "        }#T_05ebf_row2_col2{\n",
       "            background-color:  #e8cac8;\n",
       "            color:  #000000;\n",
       "        }#T_05ebf_row3_col0{\n",
       "            background-color:  #4a7bbc;\n",
       "            color:  #000000;\n",
       "        }#T_05ebf_row3_col1{\n",
       "            background-color:  #ecd2d0;\n",
       "            color:  #000000;\n",
       "        }#T_05ebf_row3_col2{\n",
       "            background-color:  #bbc5d7;\n",
       "            color:  #000000;\n",
       "        }</style><table id=\"T_05ebf_\" ><thead>    <tr>        <th class=\"blank level0\" ></th>        <th class=\"col_heading level0 col0\" >Negative</th>        <th class=\"col_heading level0 col1\" >Neutral</th>        <th class=\"col_heading level0 col2\" >Positive</th>        <th class=\"col_heading level0 col3\" >macro avg</th>        <th class=\"col_heading level0 col4\" >weighted avg</th>        <th class=\"col_heading level0 col5\" >accuracy</th>        <th class=\"col_heading level0 col6\" >bal accuracy</th>    </tr></thead><tbody>\n",
       "                <tr>\n",
       "                        <th id=\"T_05ebf_level0_row0\" class=\"row_heading level0 row0\" >precision</th>\n",
       "                        <td id=\"T_05ebf_row0_col0\" class=\"data row0 col0\" >0.292</td>\n",
       "                        <td id=\"T_05ebf_row0_col1\" class=\"data row0 col1\" >0.826</td>\n",
       "                        <td id=\"T_05ebf_row0_col2\" class=\"data row0 col2\" >0.598</td>\n",
       "                        <td id=\"T_05ebf_row0_col3\" class=\"data row0 col3\" >0.572</td>\n",
       "                        <td id=\"T_05ebf_row0_col4\" class=\"data row0 col4\" >0.716</td>\n",
       "                        <td id=\"T_05ebf_row0_col5\" class=\"data row0 col5\" >0.667</td>\n",
       "                        <td id=\"T_05ebf_row0_col6\" class=\"data row0 col6\" >0.661</td>\n",
       "            </tr>\n",
       "            <tr>\n",
       "                        <th id=\"T_05ebf_level0_row1\" class=\"row_heading level0 row1\" >recall</th>\n",
       "                        <td id=\"T_05ebf_row1_col0\" class=\"data row1 col0\" >0.655</td>\n",
       "                        <td id=\"T_05ebf_row1_col1\" class=\"data row1 col1\" >0.676</td>\n",
       "                        <td id=\"T_05ebf_row1_col2\" class=\"data row1 col2\" >0.654</td>\n",
       "                        <td id=\"T_05ebf_row1_col3\" class=\"data row1 col3\" >0.661</td>\n",
       "                        <td id=\"T_05ebf_row1_col4\" class=\"data row1 col4\" >0.667</td>\n",
       "                        <td id=\"T_05ebf_row1_col5\" class=\"data row1 col5\" ></td>\n",
       "                        <td id=\"T_05ebf_row1_col6\" class=\"data row1 col6\" ></td>\n",
       "            </tr>\n",
       "            <tr>\n",
       "                        <th id=\"T_05ebf_level0_row2\" class=\"row_heading level0 row2\" >f1-score</th>\n",
       "                        <td id=\"T_05ebf_row2_col0\" class=\"data row2 col0\" >0.404</td>\n",
       "                        <td id=\"T_05ebf_row2_col1\" class=\"data row2 col1\" >0.743</td>\n",
       "                        <td id=\"T_05ebf_row2_col2\" class=\"data row2 col2\" >0.624</td>\n",
       "                        <td id=\"T_05ebf_row2_col3\" class=\"data row2 col3\" >0.591</td>\n",
       "                        <td id=\"T_05ebf_row2_col4\" class=\"data row2 col4\" >0.682</td>\n",
       "                        <td id=\"T_05ebf_row2_col5\" class=\"data row2 col5\" ></td>\n",
       "                        <td id=\"T_05ebf_row2_col6\" class=\"data row2 col6\" ></td>\n",
       "            </tr>\n",
       "            <tr>\n",
       "                        <th id=\"T_05ebf_level0_row3\" class=\"row_heading level0 row3\" >support</th>\n",
       "                        <td id=\"T_05ebf_row3_col0\" class=\"data row3 col0\" >0.064</td>\n",
       "                        <td id=\"T_05ebf_row3_col1\" class=\"data row3 col1\" >0.605</td>\n",
       "                        <td id=\"T_05ebf_row3_col2\" class=\"data row3 col2\" >0.332</td>\n",
       "                        <td id=\"T_05ebf_row3_col3\" class=\"data row3 col3\" ></td>\n",
       "                        <td id=\"T_05ebf_row3_col4\" class=\"data row3 col4\" ></td>\n",
       "                        <td id=\"T_05ebf_row3_col5\" class=\"data row3 col5\" ></td>\n",
       "                        <td id=\"T_05ebf_row3_col6\" class=\"data row3 col6\" ></td>\n",
       "            </tr>\n",
       "    </tbody></table>"
      ],
      "text/plain": [
       "<pandas.io.formats.style.Styler at 0x21a8c36fa00>"
      ]
     },
     "metadata": {},
     "output_type": "display_data"
    },
    {
     "data": {
      "image/png": "[encoded data removed]",
      "text/plain": [
       "<Figure size 288x288 with 1 Axes>"
      ]
     },
     "metadata": {
      "needs_background": "light"
     },
     "output_type": "display_data"
    },
    {
     "data": {
      "application/javascript": [
       "\n",
       "            setTimeout(function() {\n",
       "                var nbb_cell_id = 77;\n",
       "                var nbb_unformatted_code = \"main_pipe = Pipeline(\\n    [\\n        (\\\"col\\\", col_xform),\\n        (\\\"nrm\\\", Normalizer(\\\"l2\\\")),\\n        (\\\"sel\\\", VarianceThreshold(1e-6)),\\n        (\\\"cls\\\", logit),\\n    ]\\n)\\n\\ntest_fit(main_pipe)\";\n",
       "                var nbb_formatted_code = \"main_pipe = Pipeline(\\n    [\\n        (\\\"col\\\", col_xform),\\n        (\\\"nrm\\\", Normalizer(\\\"l2\\\")),\\n        (\\\"sel\\\", VarianceThreshold(1e-6)),\\n        (\\\"cls\\\", logit),\\n    ]\\n)\\n\\ntest_fit(main_pipe)\";\n",
       "                var nbb_cells = Jupyter.notebook.get_cells();\n",
       "                for (var i = 0; i < nbb_cells.length; ++i) {\n",
       "                    if (nbb_cells[i].input_prompt_number == nbb_cell_id) {\n",
       "                        if (nbb_cells[i].get_text() == nbb_unformatted_code) {\n",
       "                             nbb_cells[i].set_text(nbb_formatted_code);\n",
       "                        }\n",
       "                        break;\n",
       "                    }\n",
       "                }\n",
       "            }, 500);\n",
       "            "
      ],
      "text/plain": [
       "<IPython.core.display.Javascript object>"
      ]
     },
     "metadata": {},
     "output_type": "display_data"
    }
   ],
   "source": [
    "main_pipe = Pipeline(\n",
    "    [\n",
    "        (\"col\", col_xform),\n",
    "        (\"nrm\", Normalizer(\"l2\")),\n",
    "        (\"sel\", VarianceThreshold(1e-6)),\n",
    "        (\"cls\", logit),\n",
    "    ]\n",
    ")\n",
    "\n",
    "test_fit(main_pipe)"
   ]
  },
  {
   "cell_type": "code",
   "execution_count": 78,
   "metadata": {
    "ExecuteTime": {
     "end_time": "2021-06-23T07:33:54.852967Z",
     "start_time": "2021-06-23T07:33:54.750969Z"
    }
   },
   "outputs": [
    {
     "data": {
      "application/javascript": [
       "\n",
       "            setTimeout(function() {\n",
       "                var nbb_cell_id = 78;\n",
       "                var nbb_unformatted_code = \"grid = dict(\\n    ngram_range=utils.cartesian(1, np.arange(2, 10)).tolist(),\\n    analyzer=[\\\"char\\\", \\\"char_wb\\\", \\\"word\\\"],\\n)\\n# grid = pd.Series(grid)\\n# run_sweep(\\n#     main_pipe,\\n#     grid.add_prefix(\\\"col__txt__\\\"),\\n#     name=\\\"ngram\\\",\\n#     kind=\\\"hgrid\\\",\\n#     min_resources=\\\"exhaust\\\",\\n#     factor=3,\\n# )\";\n",
       "                var nbb_formatted_code = \"grid = dict(\\n    ngram_range=utils.cartesian(1, np.arange(2, 10)).tolist(),\\n    analyzer=[\\\"char\\\", \\\"char_wb\\\", \\\"word\\\"],\\n)\\n# grid = pd.Series(grid)\\n# run_sweep(\\n#     main_pipe,\\n#     grid.add_prefix(\\\"col__txt__\\\"),\\n#     name=\\\"ngram\\\",\\n#     kind=\\\"hgrid\\\",\\n#     min_resources=\\\"exhaust\\\",\\n#     factor=3,\\n# )\";\n",
       "                var nbb_cells = Jupyter.notebook.get_cells();\n",
       "                for (var i = 0; i < nbb_cells.length; ++i) {\n",
       "                    if (nbb_cells[i].input_prompt_number == nbb_cell_id) {\n",
       "                        if (nbb_cells[i].get_text() == nbb_unformatted_code) {\n",
       "                             nbb_cells[i].set_text(nbb_formatted_code);\n",
       "                        }\n",
       "                        break;\n",
       "                    }\n",
       "                }\n",
       "            }, 500);\n",
       "            "
      ],
      "text/plain": [
       "<IPython.core.display.Javascript object>"
      ]
     },
     "metadata": {},
     "output_type": "display_data"
    }
   ],
   "source": [
    "grid = dict(\n",
    "    ngram_range=utils.cartesian(1, np.arange(2, 10)).tolist(),\n",
    "    analyzer=[\"char\", \"char_wb\", \"word\"],\n",
    ")\n",
    "# grid = pd.Series(grid)\n",
    "# run_sweep(\n",
    "#     main_pipe,\n",
    "#     grid.add_prefix(\"col__txt__\"),\n",
    "#     name=\"ngram\",\n",
    "#     kind=\"hgrid\",\n",
    "#     min_resources=\"exhaust\",\n",
    "#     factor=3,\n",
    "# )"
   ]
  },
  {
   "cell_type": "code",
   "execution_count": 79,
   "metadata": {
    "ExecuteTime": {
     "end_time": "2021-06-23T07:33:55.580970Z",
     "start_time": "2021-06-23T07:33:54.853968Z"
    }
   },
   "outputs": [
    {
     "data": {
      "text/html": [
       "<div>\n",
       "<style scoped>\n",
       "    .dataframe tbody tr th:only-of-type {\n",
       "        vertical-align: middle;\n",
       "    }\n",
       "\n",
       "    .dataframe tbody tr th {\n",
       "        vertical-align: top;\n",
       "    }\n",
       "\n",
       "    .dataframe thead th {\n",
       "        text-align: right;\n",
       "    }\n",
       "</style>\n",
       "<table border=\"1\" class=\"dataframe\">\n",
       "  <thead>\n",
       "    <tr style=\"text-align: right;\">\n",
       "      <th></th>\n",
       "      <th>analyzer</th>\n",
       "      <th>ngram_range</th>\n",
       "      <th>mean_score</th>\n",
       "      <th>rank_score</th>\n",
       "    </tr>\n",
       "  </thead>\n",
       "  <tbody>\n",
       "    <tr>\n",
       "      <th>34</th>\n",
       "      <td>char_wb</td>\n",
       "      <td>[1, 5]</td>\n",
       "      <td>0.634430</td>\n",
       "      <td>1</td>\n",
       "    </tr>\n",
       "    <tr>\n",
       "      <th>33</th>\n",
       "      <td>char_wb</td>\n",
       "      <td>[1, 6]</td>\n",
       "      <td>0.634007</td>\n",
       "      <td>2</td>\n",
       "    </tr>\n",
       "    <tr>\n",
       "      <th>32</th>\n",
       "      <td>char_wb</td>\n",
       "      <td>[1, 8]</td>\n",
       "      <td>0.632494</td>\n",
       "      <td>3</td>\n",
       "    </tr>\n",
       "    <tr>\n",
       "      <th>31</th>\n",
       "      <td>char_wb</td>\n",
       "      <td>[1, 5]</td>\n",
       "      <td>0.567345</td>\n",
       "      <td>4</td>\n",
       "    </tr>\n",
       "    <tr>\n",
       "      <th>27</th>\n",
       "      <td>char_wb</td>\n",
       "      <td>[1, 6]</td>\n",
       "      <td>0.566812</td>\n",
       "      <td>5</td>\n",
       "    </tr>\n",
       "  </tbody>\n",
       "</table>\n",
       "</div>"
      ],
      "text/plain": [
       "   analyzer ngram_range  mean_score  rank_score\n",
       "34  char_wb      [1, 5]    0.634430           1\n",
       "33  char_wb      [1, 6]    0.634007           2\n",
       "32  char_wb      [1, 8]    0.632494           3\n",
       "31  char_wb      [1, 5]    0.567345           4\n",
       "27  char_wb      [1, 6]    0.566812           5"
      ]
     },
     "execution_count": 79,
     "metadata": {},
     "output_type": "execute_result"
    },
    {
     "data": {
      "application/javascript": [
       "\n",
       "            setTimeout(function() {\n",
       "                var nbb_cell_id = 79;\n",
       "                var nbb_unformatted_code = \"results = load_results(\\\"sweeps/ngram\\\")\\nresults.head()\";\n",
       "                var nbb_formatted_code = \"results = load_results(\\\"sweeps/ngram\\\")\\nresults.head()\";\n",
       "                var nbb_cells = Jupyter.notebook.get_cells();\n",
       "                for (var i = 0; i < nbb_cells.length; ++i) {\n",
       "                    if (nbb_cells[i].input_prompt_number == nbb_cell_id) {\n",
       "                        if (nbb_cells[i].get_text() == nbb_unformatted_code) {\n",
       "                             nbb_cells[i].set_text(nbb_formatted_code);\n",
       "                        }\n",
       "                        break;\n",
       "                    }\n",
       "                }\n",
       "            }, 500);\n",
       "            "
      ],
      "text/plain": [
       "<IPython.core.display.Javascript object>"
      ]
     },
     "metadata": {},
     "output_type": "display_data"
    }
   ],
   "source": [
    "results = load_results(\"sweeps/ngram\")\n",
    "results.head()"
   ]
  },
  {
   "cell_type": "code",
   "execution_count": 80,
   "metadata": {
    "ExecuteTime": {
     "end_time": "2021-06-23T07:34:03.407304Z",
     "start_time": "2021-06-23T07:33:55.581969Z"
    }
   },
   "outputs": [
    {
     "data": {
      "text/html": [
       "<style  type=\"text/css\" >\n",
       "#T_31cc4_row0_col0{\n",
       "            background-color:  #b0bdd2;\n",
       "            color:  #000000;\n",
       "        }#T_31cc4_row0_col1{\n",
       "            background-color:  #c87c7a;\n",
       "            color:  #000000;\n",
       "        }#T_31cc4_row0_col2{\n",
       "            background-color:  #eed7d5;\n",
       "            color:  #000000;\n",
       "        }#T_31cc4_row1_col0{\n",
       "            background-color:  #deb2b0;\n",
       "            color:  #000000;\n",
       "        }#T_31cc4_row1_col1{\n",
       "            background-color:  #e0b7b5;\n",
       "            color:  #000000;\n",
       "        }#T_31cc4_row1_col2{\n",
       "            background-color:  #e3bfbd;\n",
       "            color:  #000000;\n",
       "        }#T_31cc4_row2_col0{\n",
       "            background-color:  #e1e2e9;\n",
       "            color:  #000000;\n",
       "        }#T_31cc4_row2_col1{\n",
       "            background-color:  #d59d9a;\n",
       "            color:  #000000;\n",
       "        }#T_31cc4_row2_col2{\n",
       "            background-color:  #e9cbc9;\n",
       "            color:  #000000;\n",
       "        }#T_31cc4_row3_col0{\n",
       "            background-color:  #4a7bbc;\n",
       "            color:  #000000;\n",
       "        }#T_31cc4_row3_col1{\n",
       "            background-color:  #ecd2d0;\n",
       "            color:  #000000;\n",
       "        }#T_31cc4_row3_col2{\n",
       "            background-color:  #bbc5d7;\n",
       "            color:  #000000;\n",
       "        }</style><table id=\"T_31cc4_\" ><thead>    <tr>        <th class=\"blank level0\" ></th>        <th class=\"col_heading level0 col0\" >Negative</th>        <th class=\"col_heading level0 col1\" >Neutral</th>        <th class=\"col_heading level0 col2\" >Positive</th>        <th class=\"col_heading level0 col3\" >macro avg</th>        <th class=\"col_heading level0 col4\" >weighted avg</th>        <th class=\"col_heading level0 col5\" >accuracy</th>        <th class=\"col_heading level0 col6\" >bal accuracy</th>    </tr></thead><tbody>\n",
       "                <tr>\n",
       "                        <th id=\"T_31cc4_level0_row0\" class=\"row_heading level0 row0\" >precision</th>\n",
       "                        <td id=\"T_31cc4_row0_col0\" class=\"data row0 col0\" >0.304</td>\n",
       "                        <td id=\"T_31cc4_row0_col1\" class=\"data row0 col1\" >0.821</td>\n",
       "                        <td id=\"T_31cc4_row0_col2\" class=\"data row0 col2\" >0.592</td>\n",
       "                        <td id=\"T_31cc4_row0_col3\" class=\"data row0 col3\" >0.572</td>\n",
       "                        <td id=\"T_31cc4_row0_col4\" class=\"data row0 col4\" >0.712</td>\n",
       "                        <td id=\"T_31cc4_row0_col5\" class=\"data row0 col5\" >0.664</td>\n",
       "                        <td id=\"T_31cc4_row0_col6\" class=\"data row0 col6\" >0.667</td>\n",
       "            </tr>\n",
       "            <tr>\n",
       "                        <th id=\"T_31cc4_level0_row1\" class=\"row_heading level0 row1\" >recall</th>\n",
       "                        <td id=\"T_31cc4_row1_col0\" class=\"data row1 col0\" >0.683</td>\n",
       "                        <td id=\"T_31cc4_row1_col1\" class=\"data row1 col1\" >0.670</td>\n",
       "                        <td id=\"T_31cc4_row1_col2\" class=\"data row1 col2\" >0.650</td>\n",
       "                        <td id=\"T_31cc4_row1_col3\" class=\"data row1 col3\" >0.667</td>\n",
       "                        <td id=\"T_31cc4_row1_col4\" class=\"data row1 col4\" >0.664</td>\n",
       "                        <td id=\"T_31cc4_row1_col5\" class=\"data row1 col5\" ></td>\n",
       "                        <td id=\"T_31cc4_row1_col6\" class=\"data row1 col6\" ></td>\n",
       "            </tr>\n",
       "            <tr>\n",
       "                        <th id=\"T_31cc4_level0_row2\" class=\"row_heading level0 row2\" >f1-score</th>\n",
       "                        <td id=\"T_31cc4_row2_col0\" class=\"data row2 col0\" >0.421</td>\n",
       "                        <td id=\"T_31cc4_row2_col1\" class=\"data row2 col1\" >0.738</td>\n",
       "                        <td id=\"T_31cc4_row2_col2\" class=\"data row2 col2\" >0.619</td>\n",
       "                        <td id=\"T_31cc4_row2_col3\" class=\"data row2 col3\" >0.593</td>\n",
       "                        <td id=\"T_31cc4_row2_col4\" class=\"data row2 col4\" >0.678</td>\n",
       "                        <td id=\"T_31cc4_row2_col5\" class=\"data row2 col5\" ></td>\n",
       "                        <td id=\"T_31cc4_row2_col6\" class=\"data row2 col6\" ></td>\n",
       "            </tr>\n",
       "            <tr>\n",
       "                        <th id=\"T_31cc4_level0_row3\" class=\"row_heading level0 row3\" >support</th>\n",
       "                        <td id=\"T_31cc4_row3_col0\" class=\"data row3 col0\" >0.064</td>\n",
       "                        <td id=\"T_31cc4_row3_col1\" class=\"data row3 col1\" >0.605</td>\n",
       "                        <td id=\"T_31cc4_row3_col2\" class=\"data row3 col2\" >0.332</td>\n",
       "                        <td id=\"T_31cc4_row3_col3\" class=\"data row3 col3\" ></td>\n",
       "                        <td id=\"T_31cc4_row3_col4\" class=\"data row3 col4\" ></td>\n",
       "                        <td id=\"T_31cc4_row3_col5\" class=\"data row3 col5\" ></td>\n",
       "                        <td id=\"T_31cc4_row3_col6\" class=\"data row3 col6\" ></td>\n",
       "            </tr>\n",
       "    </tbody></table>"
      ],
      "text/plain": [
       "<pandas.io.formats.style.Styler at 0x21a84aa0b20>"
      ]
     },
     "metadata": {},
     "output_type": "display_data"
    },
    {
     "data": {
      "image/png": "[encoded data removed]",
      "text/plain": [
       "<Figure size 288x288 with 1 Axes>"
      ]
     },
     "metadata": {
      "needs_background": "light"
     },
     "output_type": "display_data"
    },
    {
     "data": {
      "application/javascript": [
       "\n",
       "            setTimeout(function() {\n",
       "                var nbb_cell_id = 80;\n",
       "                var nbb_unformatted_code = \"tfidf.set_params(ngram_range=(1, 5), analyzer=\\\"char_wb\\\")\\ntest_fit(main_pipe)\";\n",
       "                var nbb_formatted_code = \"tfidf.set_params(ngram_range=(1, 5), analyzer=\\\"char_wb\\\")\\ntest_fit(main_pipe)\";\n",
       "                var nbb_cells = Jupyter.notebook.get_cells();\n",
       "                for (var i = 0; i < nbb_cells.length; ++i) {\n",
       "                    if (nbb_cells[i].input_prompt_number == nbb_cell_id) {\n",
       "                        if (nbb_cells[i].get_text() == nbb_unformatted_code) {\n",
       "                             nbb_cells[i].set_text(nbb_formatted_code);\n",
       "                        }\n",
       "                        break;\n",
       "                    }\n",
       "                }\n",
       "            }, 500);\n",
       "            "
      ],
      "text/plain": [
       "<IPython.core.display.Javascript object>"
      ]
     },
     "metadata": {},
     "output_type": "display_data"
    }
   ],
   "source": [
    "tfidf.set_params(ngram_range=(1, 5), analyzer=\"char_wb\")\n",
    "test_fit(main_pipe)"
   ]
  },
  {
   "cell_type": "code",
   "execution_count": 81,
   "metadata": {
    "ExecuteTime": {
     "end_time": "2021-06-23T07:34:03.577303Z",
     "start_time": "2021-06-23T07:34:03.408307Z"
    }
   },
   "outputs": [
    {
     "data": {
      "application/javascript": [
       "\n",
       "            setTimeout(function() {\n",
       "                var nbb_cell_id = 81;\n",
       "                var nbb_unformatted_code = \"grid = pd.Series(dict(\\n    ngram_range=utils.cartesian(1, np.arange(1, 6)).tolist(),\\n    analyzer=[\\\"char\\\", \\\"char_wb\\\", \\\"word\\\"],))\\n\\n# run_sweep(\\n#     main_pipe,\\n#     grid.add_prefix(\\\"col__pos__\\\"),\\n#     name=\\\"pos_ngram\\\",\\n#     kind=\\\"hgrid\\\",\\n#     min_resources=\\\"exhaust\\\",\\n#     factor=3,\\n# )\";\n",
       "                var nbb_formatted_code = \"grid = pd.Series(\\n    dict(\\n        ngram_range=utils.cartesian(1, np.arange(1, 6)).tolist(),\\n        analyzer=[\\\"char\\\", \\\"char_wb\\\", \\\"word\\\"],\\n    )\\n)\\n\\n# run_sweep(\\n#     main_pipe,\\n#     grid.add_prefix(\\\"col__pos__\\\"),\\n#     name=\\\"pos_ngram\\\",\\n#     kind=\\\"hgrid\\\",\\n#     min_resources=\\\"exhaust\\\",\\n#     factor=3,\\n# )\";\n",
       "                var nbb_cells = Jupyter.notebook.get_cells();\n",
       "                for (var i = 0; i < nbb_cells.length; ++i) {\n",
       "                    if (nbb_cells[i].input_prompt_number == nbb_cell_id) {\n",
       "                        if (nbb_cells[i].get_text() == nbb_unformatted_code) {\n",
       "                             nbb_cells[i].set_text(nbb_formatted_code);\n",
       "                        }\n",
       "                        break;\n",
       "                    }\n",
       "                }\n",
       "            }, 500);\n",
       "            "
      ],
      "text/plain": [
       "<IPython.core.display.Javascript object>"
      ]
     },
     "metadata": {},
     "output_type": "display_data"
    }
   ],
   "source": [
    "grid = pd.Series(\n",
    "    dict(\n",
    "        ngram_range=utils.cartesian(1, np.arange(1, 6)).tolist(),\n",
    "        analyzer=[\"char\", \"char_wb\", \"word\"],\n",
    "    )\n",
    ")\n",
    "\n",
    "# run_sweep(\n",
    "#     main_pipe,\n",
    "#     grid.add_prefix(\"col__pos__\"),\n",
    "#     name=\"pos_ngram\",\n",
    "#     kind=\"hgrid\",\n",
    "#     min_resources=\"exhaust\",\n",
    "#     factor=3,\n",
    "# )"
   ]
  },
  {
   "cell_type": "code",
   "execution_count": 82,
   "metadata": {
    "ExecuteTime": {
     "end_time": "2021-06-23T07:34:04.134315Z",
     "start_time": "2021-06-23T07:34:03.578304Z"
    }
   },
   "outputs": [
    {
     "data": {
      "text/html": [
       "<div>\n",
       "<style scoped>\n",
       "    .dataframe tbody tr th:only-of-type {\n",
       "        vertical-align: middle;\n",
       "    }\n",
       "\n",
       "    .dataframe tbody tr th {\n",
       "        vertical-align: top;\n",
       "    }\n",
       "\n",
       "    .dataframe thead th {\n",
       "        text-align: right;\n",
       "    }\n",
       "</style>\n",
       "<table border=\"1\" class=\"dataframe\">\n",
       "  <thead>\n",
       "    <tr style=\"text-align: right;\">\n",
       "      <th></th>\n",
       "      <th>analyzer</th>\n",
       "      <th>ngram_range</th>\n",
       "      <th>mean_score</th>\n",
       "      <th>rank_score</th>\n",
       "    </tr>\n",
       "  </thead>\n",
       "  <tbody>\n",
       "    <tr>\n",
       "      <th>20</th>\n",
       "      <td>char</td>\n",
       "      <td>[1, 2]</td>\n",
       "      <td>0.637870</td>\n",
       "      <td>1</td>\n",
       "    </tr>\n",
       "    <tr>\n",
       "      <th>21</th>\n",
       "      <td>word</td>\n",
       "      <td>[1, 1]</td>\n",
       "      <td>0.634986</td>\n",
       "      <td>2</td>\n",
       "    </tr>\n",
       "    <tr>\n",
       "      <th>18</th>\n",
       "      <td>word</td>\n",
       "      <td>[1, 1]</td>\n",
       "      <td>0.580892</td>\n",
       "      <td>3</td>\n",
       "    </tr>\n",
       "    <tr>\n",
       "      <th>16</th>\n",
       "      <td>char</td>\n",
       "      <td>[1, 2]</td>\n",
       "      <td>0.570657</td>\n",
       "      <td>4</td>\n",
       "    </tr>\n",
       "    <tr>\n",
       "      <th>15</th>\n",
       "      <td>word</td>\n",
       "      <td>[1, 3]</td>\n",
       "      <td>0.569725</td>\n",
       "      <td>5</td>\n",
       "    </tr>\n",
       "  </tbody>\n",
       "</table>\n",
       "</div>"
      ],
      "text/plain": [
       "   analyzer ngram_range  mean_score  rank_score\n",
       "20     char      [1, 2]    0.637870           1\n",
       "21     word      [1, 1]    0.634986           2\n",
       "18     word      [1, 1]    0.580892           3\n",
       "16     char      [1, 2]    0.570657           4\n",
       "15     word      [1, 3]    0.569725           5"
      ]
     },
     "execution_count": 82,
     "metadata": {},
     "output_type": "execute_result"
    },
    {
     "data": {
      "application/javascript": [
       "\n",
       "            setTimeout(function() {\n",
       "                var nbb_cell_id = 82;\n",
       "                var nbb_unformatted_code = \"results = load_results(\\\"sweeps/pos_ngram\\\")\\nresults.head()\";\n",
       "                var nbb_formatted_code = \"results = load_results(\\\"sweeps/pos_ngram\\\")\\nresults.head()\";\n",
       "                var nbb_cells = Jupyter.notebook.get_cells();\n",
       "                for (var i = 0; i < nbb_cells.length; ++i) {\n",
       "                    if (nbb_cells[i].input_prompt_number == nbb_cell_id) {\n",
       "                        if (nbb_cells[i].get_text() == nbb_unformatted_code) {\n",
       "                             nbb_cells[i].set_text(nbb_formatted_code);\n",
       "                        }\n",
       "                        break;\n",
       "                    }\n",
       "                }\n",
       "            }, 500);\n",
       "            "
      ],
      "text/plain": [
       "<IPython.core.display.Javascript object>"
      ]
     },
     "metadata": {},
     "output_type": "display_data"
    }
   ],
   "source": [
    "results = load_results(\"sweeps/pos_ngram\")\n",
    "results.head()"
   ]
  },
  {
   "cell_type": "code",
   "execution_count": 83,
   "metadata": {
    "ExecuteTime": {
     "end_time": "2021-06-23T07:34:11.847314Z",
     "start_time": "2021-06-23T07:34:04.136316Z"
    }
   },
   "outputs": [
    {
     "data": {
      "text/html": [
       "<style  type=\"text/css\" >\n",
       "#T_ce651_row0_col0{\n",
       "            background-color:  #b3bfd3;\n",
       "            color:  #000000;\n",
       "        }#T_ce651_row0_col1{\n",
       "            background-color:  #c87e7b;\n",
       "            color:  #000000;\n",
       "        }#T_ce651_row0_col2{\n",
       "            background-color:  #efdad8;\n",
       "            color:  #000000;\n",
       "        }#T_ce651_row1_col0{\n",
       "            background-color:  #ddafad;\n",
       "            color:  #000000;\n",
       "        }#T_ce651_row1_col1{\n",
       "            background-color:  #e1bab8;\n",
       "            color:  #000000;\n",
       "        }#T_ce651_row1_col2{\n",
       "            background-color:  #e3bfbd;\n",
       "            color:  #000000;\n",
       "        }#T_ce651_row2_col0{\n",
       "            background-color:  #e4e5eb;\n",
       "            color:  #000000;\n",
       "        }#T_ce651_row2_col1{\n",
       "            background-color:  #d69f9c;\n",
       "            color:  #000000;\n",
       "        }#T_ce651_row2_col2{\n",
       "            background-color:  #eacdcb;\n",
       "            color:  #000000;\n",
       "        }#T_ce651_row3_col0{\n",
       "            background-color:  #4a7bbc;\n",
       "            color:  #000000;\n",
       "        }#T_ce651_row3_col1{\n",
       "            background-color:  #ecd2d0;\n",
       "            color:  #000000;\n",
       "        }#T_ce651_row3_col2{\n",
       "            background-color:  #bbc5d7;\n",
       "            color:  #000000;\n",
       "        }</style><table id=\"T_ce651_\" ><thead>    <tr>        <th class=\"blank level0\" ></th>        <th class=\"col_heading level0 col0\" >Negative</th>        <th class=\"col_heading level0 col1\" >Neutral</th>        <th class=\"col_heading level0 col2\" >Positive</th>        <th class=\"col_heading level0 col3\" >macro avg</th>        <th class=\"col_heading level0 col4\" >weighted avg</th>        <th class=\"col_heading level0 col5\" >accuracy</th>        <th class=\"col_heading level0 col6\" >bal accuracy</th>    </tr></thead><tbody>\n",
       "                <tr>\n",
       "                        <th id=\"T_ce651_level0_row0\" class=\"row_heading level0 row0\" >precision</th>\n",
       "                        <td id=\"T_ce651_row0_col0\" class=\"data row0 col0\" >0.311</td>\n",
       "                        <td id=\"T_ce651_row0_col1\" class=\"data row0 col1\" >0.818</td>\n",
       "                        <td id=\"T_ce651_row0_col2\" class=\"data row0 col2\" >0.585</td>\n",
       "                        <td id=\"T_ce651_row0_col3\" class=\"data row0 col3\" >0.571</td>\n",
       "                        <td id=\"T_ce651_row0_col4\" class=\"data row0 col4\" >0.708</td>\n",
       "                        <td id=\"T_ce651_row0_col5\" class=\"data row0 col5\" >0.660</td>\n",
       "                        <td id=\"T_ce651_row0_col6\" class=\"data row0 col6\" >0.668</td>\n",
       "            </tr>\n",
       "            <tr>\n",
       "                        <th id=\"T_ce651_level0_row1\" class=\"row_heading level0 row1\" >recall</th>\n",
       "                        <td id=\"T_ce651_row1_col0\" class=\"data row1 col0\" >0.690</td>\n",
       "                        <td id=\"T_ce651_row1_col1\" class=\"data row1 col1\" >0.663</td>\n",
       "                        <td id=\"T_ce651_row1_col2\" class=\"data row1 col2\" >0.650</td>\n",
       "                        <td id=\"T_ce651_row1_col3\" class=\"data row1 col3\" >0.668</td>\n",
       "                        <td id=\"T_ce651_row1_col4\" class=\"data row1 col4\" >0.660</td>\n",
       "                        <td id=\"T_ce651_row1_col5\" class=\"data row1 col5\" ></td>\n",
       "                        <td id=\"T_ce651_row1_col6\" class=\"data row1 col6\" ></td>\n",
       "            </tr>\n",
       "            <tr>\n",
       "                        <th id=\"T_ce651_level0_row2\" class=\"row_heading level0 row2\" >f1-score</th>\n",
       "                        <td id=\"T_ce651_row2_col0\" class=\"data row2 col0\" >0.429</td>\n",
       "                        <td id=\"T_ce651_row2_col1\" class=\"data row2 col1\" >0.732</td>\n",
       "                        <td id=\"T_ce651_row2_col2\" class=\"data row2 col2\" >0.615</td>\n",
       "                        <td id=\"T_ce651_row2_col3\" class=\"data row2 col3\" >0.592</td>\n",
       "                        <td id=\"T_ce651_row2_col4\" class=\"data row2 col4\" >0.674</td>\n",
       "                        <td id=\"T_ce651_row2_col5\" class=\"data row2 col5\" ></td>\n",
       "                        <td id=\"T_ce651_row2_col6\" class=\"data row2 col6\" ></td>\n",
       "            </tr>\n",
       "            <tr>\n",
       "                        <th id=\"T_ce651_level0_row3\" class=\"row_heading level0 row3\" >support</th>\n",
       "                        <td id=\"T_ce651_row3_col0\" class=\"data row3 col0\" >0.064</td>\n",
       "                        <td id=\"T_ce651_row3_col1\" class=\"data row3 col1\" >0.605</td>\n",
       "                        <td id=\"T_ce651_row3_col2\" class=\"data row3 col2\" >0.332</td>\n",
       "                        <td id=\"T_ce651_row3_col3\" class=\"data row3 col3\" ></td>\n",
       "                        <td id=\"T_ce651_row3_col4\" class=\"data row3 col4\" ></td>\n",
       "                        <td id=\"T_ce651_row3_col5\" class=\"data row3 col5\" ></td>\n",
       "                        <td id=\"T_ce651_row3_col6\" class=\"data row3 col6\" ></td>\n",
       "            </tr>\n",
       "    </tbody></table>"
      ],
      "text/plain": [
       "<pandas.io.formats.style.Styler at 0x21a876f7490>"
      ]
     },
     "metadata": {},
     "output_type": "display_data"
    },
    {
     "data": {
      "image/png": "[encoded data removed]",
      "text/plain": [
       "<Figure size 288x288 with 1 Axes>"
      ]
     },
     "metadata": {
      "needs_background": "light"
     },
     "output_type": "display_data"
    },
    {
     "data": {
      "application/javascript": [
       "\n",
       "            setTimeout(function() {\n",
       "                var nbb_cell_id = 83;\n",
       "                var nbb_unformatted_code = \"col_xform.set_params(pos__ngram_range=(1, 2), pos__analyzer=\\\"char\\\")\\ntest_fit(main_pipe)\";\n",
       "                var nbb_formatted_code = \"col_xform.set_params(pos__ngram_range=(1, 2), pos__analyzer=\\\"char\\\")\\ntest_fit(main_pipe)\";\n",
       "                var nbb_cells = Jupyter.notebook.get_cells();\n",
       "                for (var i = 0; i < nbb_cells.length; ++i) {\n",
       "                    if (nbb_cells[i].input_prompt_number == nbb_cell_id) {\n",
       "                        if (nbb_cells[i].get_text() == nbb_unformatted_code) {\n",
       "                             nbb_cells[i].set_text(nbb_formatted_code);\n",
       "                        }\n",
       "                        break;\n",
       "                    }\n",
       "                }\n",
       "            }, 500);\n",
       "            "
      ],
      "text/plain": [
       "<IPython.core.display.Javascript object>"
      ]
     },
     "metadata": {},
     "output_type": "display_data"
    }
   ],
   "source": [
    "col_xform.set_params(pos__ngram_range=(1, 2), pos__analyzer=\"char\")\n",
    "test_fit(main_pipe)"
   ]
  },
  {
   "cell_type": "code",
   "execution_count": 84,
   "metadata": {
    "ExecuteTime": {
     "end_time": "2021-06-23T07:34:12.385314Z",
     "start_time": "2021-06-23T07:34:11.848312Z"
    }
   },
   "outputs": [
    {
     "data": {
      "text/html": [
       "<div>\n",
       "<style scoped>\n",
       "    .dataframe tbody tr th:only-of-type {\n",
       "        vertical-align: middle;\n",
       "    }\n",
       "\n",
       "    .dataframe tbody tr th {\n",
       "        vertical-align: top;\n",
       "    }\n",
       "\n",
       "    .dataframe thead th {\n",
       "        text-align: right;\n",
       "    }\n",
       "</style>\n",
       "<table border=\"1\" class=\"dataframe\">\n",
       "  <thead>\n",
       "    <tr style=\"text-align: right;\">\n",
       "      <th></th>\n",
       "      <th>analyzer</th>\n",
       "      <th>ngram_range</th>\n",
       "      <th>mean_score</th>\n",
       "      <th>rank_score</th>\n",
       "    </tr>\n",
       "  </thead>\n",
       "  <tbody>\n",
       "    <tr>\n",
       "      <th>21</th>\n",
       "      <td>char</td>\n",
       "      <td>[1, 1]</td>\n",
       "      <td>0.637794</td>\n",
       "      <td>1</td>\n",
       "    </tr>\n",
       "    <tr>\n",
       "      <th>20</th>\n",
       "      <td>char_wb</td>\n",
       "      <td>[1, 1]</td>\n",
       "      <td>0.636731</td>\n",
       "      <td>2</td>\n",
       "    </tr>\n",
       "    <tr>\n",
       "      <th>18</th>\n",
       "      <td>char</td>\n",
       "      <td>[1, 1]</td>\n",
       "      <td>0.586830</td>\n",
       "      <td>3</td>\n",
       "    </tr>\n",
       "    <tr>\n",
       "      <th>16</th>\n",
       "      <td>char_wb</td>\n",
       "      <td>[1, 1]</td>\n",
       "      <td>0.585330</td>\n",
       "      <td>4</td>\n",
       "    </tr>\n",
       "    <tr>\n",
       "      <th>19</th>\n",
       "      <td>word</td>\n",
       "      <td>[1, 1]</td>\n",
       "      <td>0.583999</td>\n",
       "      <td>5</td>\n",
       "    </tr>\n",
       "  </tbody>\n",
       "</table>\n",
       "</div>"
      ],
      "text/plain": [
       "   analyzer ngram_range  mean_score  rank_score\n",
       "21     char      [1, 1]    0.637794           1\n",
       "20  char_wb      [1, 1]    0.636731           2\n",
       "18     char      [1, 1]    0.586830           3\n",
       "16  char_wb      [1, 1]    0.585330           4\n",
       "19     word      [1, 1]    0.583999           5"
      ]
     },
     "execution_count": 84,
     "metadata": {},
     "output_type": "execute_result"
    },
    {
     "data": {
      "application/javascript": [
       "\n",
       "            setTimeout(function() {\n",
       "                var nbb_cell_id = 84;\n",
       "                var nbb_unformatted_code = \"results = load_results(\\\"sweeps/bra_ngram\\\")\\nresults.head()\";\n",
       "                var nbb_formatted_code = \"results = load_results(\\\"sweeps/bra_ngram\\\")\\nresults.head()\";\n",
       "                var nbb_cells = Jupyter.notebook.get_cells();\n",
       "                for (var i = 0; i < nbb_cells.length; ++i) {\n",
       "                    if (nbb_cells[i].input_prompt_number == nbb_cell_id) {\n",
       "                        if (nbb_cells[i].get_text() == nbb_unformatted_code) {\n",
       "                             nbb_cells[i].set_text(nbb_formatted_code);\n",
       "                        }\n",
       "                        break;\n",
       "                    }\n",
       "                }\n",
       "            }, 500);\n",
       "            "
      ],
      "text/plain": [
       "<IPython.core.display.Javascript object>"
      ]
     },
     "metadata": {},
     "output_type": "display_data"
    }
   ],
   "source": [
    "results = load_results(\"sweeps/bra_ngram\")\n",
    "results.head()"
   ]
  },
  {
   "cell_type": "code",
   "execution_count": 85,
   "metadata": {
    "ExecuteTime": {
     "end_time": "2021-06-23T07:34:21.188312Z",
     "start_time": "2021-06-23T07:34:12.386312Z"
    }
   },
   "outputs": [
    {
     "data": {
      "text/html": [
       "<style  type=\"text/css\" >\n",
       "#T_9b9c4_row0_col0{\n",
       "            background-color:  #c3cbda;\n",
       "            color:  #000000;\n",
       "        }#T_9b9c4_row0_col1{\n",
       "            background-color:  #ca827f;\n",
       "            color:  #000000;\n",
       "        }#T_9b9c4_row0_col2{\n",
       "            background-color:  #ecd3d2;\n",
       "            color:  #000000;\n",
       "        }#T_9b9c4_row1_col0{\n",
       "            background-color:  #e0b7b5;\n",
       "            color:  #000000;\n",
       "        }#T_9b9c4_row1_col1{\n",
       "            background-color:  #ddafad;\n",
       "            color:  #000000;\n",
       "        }#T_9b9c4_row1_col2{\n",
       "            background-color:  #e3bfbd;\n",
       "            color:  #000000;\n",
       "        }#T_9b9c4_row2_col0{\n",
       "            background-color:  #f1eff2;\n",
       "            color:  #000000;\n",
       "        }#T_9b9c4_row2_col1{\n",
       "            background-color:  #d49a97;\n",
       "            color:  #000000;\n",
       "        }#T_9b9c4_row2_col2{\n",
       "            background-color:  #e8cac8;\n",
       "            color:  #000000;\n",
       "        }#T_9b9c4_row3_col0{\n",
       "            background-color:  #4a7bbc;\n",
       "            color:  #000000;\n",
       "        }#T_9b9c4_row3_col1{\n",
       "            background-color:  #ecd2d0;\n",
       "            color:  #000000;\n",
       "        }#T_9b9c4_row3_col2{\n",
       "            background-color:  #bbc5d7;\n",
       "            color:  #000000;\n",
       "        }</style><table id=\"T_9b9c4_\" ><thead>    <tr>        <th class=\"blank level0\" ></th>        <th class=\"col_heading level0 col0\" >Negative</th>        <th class=\"col_heading level0 col1\" >Neutral</th>        <th class=\"col_heading level0 col2\" >Positive</th>        <th class=\"col_heading level0 col3\" >macro avg</th>        <th class=\"col_heading level0 col4\" >weighted avg</th>        <th class=\"col_heading level0 col5\" >accuracy</th>        <th class=\"col_heading level0 col6\" >bal accuracy</th>    </tr></thead><tbody>\n",
       "                <tr>\n",
       "                        <th id=\"T_9b9c4_level0_row0\" class=\"row_heading level0 row0\" >precision</th>\n",
       "                        <td id=\"T_9b9c4_row0_col0\" class=\"data row0 col0\" >0.349</td>\n",
       "                        <td id=\"T_9b9c4_row0_col1\" class=\"data row0 col1\" >0.806</td>\n",
       "                        <td id=\"T_9b9c4_row0_col2\" class=\"data row0 col2\" >0.598</td>\n",
       "                        <td id=\"T_9b9c4_row0_col3\" class=\"data row0 col3\" >0.584</td>\n",
       "                        <td id=\"T_9b9c4_row0_col4\" class=\"data row0 col4\" >0.708</td>\n",
       "                        <td id=\"T_9b9c4_row0_col5\" class=\"data row0 col5\" >0.675</td>\n",
       "                        <td id=\"T_9b9c4_row0_col6\" class=\"data row0 col6\" >0.669</td>\n",
       "            </tr>\n",
       "            <tr>\n",
       "                        <th id=\"T_9b9c4_level0_row1\" class=\"row_heading level0 row1\" >recall</th>\n",
       "                        <td id=\"T_9b9c4_row1_col0\" class=\"data row1 col0\" >0.669</td>\n",
       "                        <td id=\"T_9b9c4_row1_col1\" class=\"data row1 col1\" >0.690</td>\n",
       "                        <td id=\"T_9b9c4_row1_col2\" class=\"data row1 col2\" >0.650</td>\n",
       "                        <td id=\"T_9b9c4_row1_col3\" class=\"data row1 col3\" >0.669</td>\n",
       "                        <td id=\"T_9b9c4_row1_col4\" class=\"data row1 col4\" >0.675</td>\n",
       "                        <td id=\"T_9b9c4_row1_col5\" class=\"data row1 col5\" ></td>\n",
       "                        <td id=\"T_9b9c4_row1_col6\" class=\"data row1 col6\" ></td>\n",
       "            </tr>\n",
       "            <tr>\n",
       "                        <th id=\"T_9b9c4_level0_row2\" class=\"row_heading level0 row2\" >f1-score</th>\n",
       "                        <td id=\"T_9b9c4_row2_col0\" class=\"data row2 col0\" >0.459</td>\n",
       "                        <td id=\"T_9b9c4_row2_col1\" class=\"data row2 col1\" >0.743</td>\n",
       "                        <td id=\"T_9b9c4_row2_col2\" class=\"data row2 col2\" >0.623</td>\n",
       "                        <td id=\"T_9b9c4_row2_col3\" class=\"data row2 col3\" >0.608</td>\n",
       "                        <td id=\"T_9b9c4_row2_col4\" class=\"data row2 col4\" >0.685</td>\n",
       "                        <td id=\"T_9b9c4_row2_col5\" class=\"data row2 col5\" ></td>\n",
       "                        <td id=\"T_9b9c4_row2_col6\" class=\"data row2 col6\" ></td>\n",
       "            </tr>\n",
       "            <tr>\n",
       "                        <th id=\"T_9b9c4_level0_row3\" class=\"row_heading level0 row3\" >support</th>\n",
       "                        <td id=\"T_9b9c4_row3_col0\" class=\"data row3 col0\" >0.064</td>\n",
       "                        <td id=\"T_9b9c4_row3_col1\" class=\"data row3 col1\" >0.605</td>\n",
       "                        <td id=\"T_9b9c4_row3_col2\" class=\"data row3 col2\" >0.332</td>\n",
       "                        <td id=\"T_9b9c4_row3_col3\" class=\"data row3 col3\" ></td>\n",
       "                        <td id=\"T_9b9c4_row3_col4\" class=\"data row3 col4\" ></td>\n",
       "                        <td id=\"T_9b9c4_row3_col5\" class=\"data row3 col5\" ></td>\n",
       "                        <td id=\"T_9b9c4_row3_col6\" class=\"data row3 col6\" ></td>\n",
       "            </tr>\n",
       "    </tbody></table>"
      ],
      "text/plain": [
       "<pandas.io.formats.style.Styler at 0x21a87b027f0>"
      ]
     },
     "metadata": {},
     "output_type": "display_data"
    },
    {
     "data": {
      "image/png": "[encoded data removed]",
      "text/plain": [
       "<Figure size 288x288 with 1 Axes>"
      ]
     },
     "metadata": {
      "needs_background": "light"
     },
     "output_type": "display_data"
    },
    {
     "data": {
      "application/javascript": [
       "\n",
       "            setTimeout(function() {\n",
       "                var nbb_cell_id = 85;\n",
       "                var nbb_unformatted_code = \"col_xform.set_params(bra__analyzer=\\\"char\\\")\\ntest_fit(main_pipe)\";\n",
       "                var nbb_formatted_code = \"col_xform.set_params(bra__analyzer=\\\"char\\\")\\ntest_fit(main_pipe)\";\n",
       "                var nbb_cells = Jupyter.notebook.get_cells();\n",
       "                for (var i = 0; i < nbb_cells.length; ++i) {\n",
       "                    if (nbb_cells[i].input_prompt_number == nbb_cell_id) {\n",
       "                        if (nbb_cells[i].get_text() == nbb_unformatted_code) {\n",
       "                             nbb_cells[i].set_text(nbb_formatted_code);\n",
       "                        }\n",
       "                        break;\n",
       "                    }\n",
       "                }\n",
       "            }, 500);\n",
       "            "
      ],
      "text/plain": [
       "<IPython.core.display.Javascript object>"
      ]
     },
     "metadata": {},
     "output_type": "display_data"
    }
   ],
   "source": [
    "col_xform.set_params(bra__analyzer=\"char\")\n",
    "test_fit(main_pipe)"
   ]
  },
  {
   "cell_type": "code",
   "execution_count": 86,
   "metadata": {
    "ExecuteTime": {
     "end_time": "2021-06-23T07:34:21.282312Z",
     "start_time": "2021-06-23T07:34:21.189313Z"
    },
    "run_control": {
     "marked": false
    }
   },
   "outputs": [
    {
     "data": {
      "application/javascript": [
       "\n",
       "            setTimeout(function() {\n",
       "                var nbb_cell_id = 86;\n",
       "                var nbb_unformatted_code = \"grid = pd.Series(dict(threshold=np.arange(1, 10, 1) * 1e-6))\\n# run_sweep(\\n#     main_pipe,\\n#     grid.add_prefix(\\\"sel__\\\"),\\n#     name=\\\"var_thresh\\\",\\n#     kind=\\\"grid\\\",\\n# )\";\n",
       "                var nbb_formatted_code = \"grid = pd.Series(dict(threshold=np.arange(1, 10, 1) * 1e-6))\\n# run_sweep(\\n#     main_pipe,\\n#     grid.add_prefix(\\\"sel__\\\"),\\n#     name=\\\"var_thresh\\\",\\n#     kind=\\\"grid\\\",\\n# )\";\n",
       "                var nbb_cells = Jupyter.notebook.get_cells();\n",
       "                for (var i = 0; i < nbb_cells.length; ++i) {\n",
       "                    if (nbb_cells[i].input_prompt_number == nbb_cell_id) {\n",
       "                        if (nbb_cells[i].get_text() == nbb_unformatted_code) {\n",
       "                             nbb_cells[i].set_text(nbb_formatted_code);\n",
       "                        }\n",
       "                        break;\n",
       "                    }\n",
       "                }\n",
       "            }, 500);\n",
       "            "
      ],
      "text/plain": [
       "<IPython.core.display.Javascript object>"
      ]
     },
     "metadata": {},
     "output_type": "display_data"
    }
   ],
   "source": [
    "grid = pd.Series(dict(threshold=np.arange(1, 10, 1) * 1e-6))\n",
    "# run_sweep(\n",
    "#     main_pipe,\n",
    "#     grid.add_prefix(\"sel__\"),\n",
    "#     name=\"var_thresh\",\n",
    "#     kind=\"grid\",\n",
    "# )"
   ]
  },
  {
   "cell_type": "code",
   "execution_count": 87,
   "metadata": {
    "ExecuteTime": {
     "end_time": "2021-06-23T07:34:21.804342Z",
     "start_time": "2021-06-23T07:34:21.283315Z"
    }
   },
   "outputs": [
    {
     "data": {
      "text/html": [
       "<div>\n",
       "<style scoped>\n",
       "    .dataframe tbody tr th:only-of-type {\n",
       "        vertical-align: middle;\n",
       "    }\n",
       "\n",
       "    .dataframe tbody tr th {\n",
       "        vertical-align: top;\n",
       "    }\n",
       "\n",
       "    .dataframe thead th {\n",
       "        text-align: right;\n",
       "    }\n",
       "</style>\n",
       "<table border=\"1\" class=\"dataframe\">\n",
       "  <thead>\n",
       "    <tr style=\"text-align: right;\">\n",
       "      <th></th>\n",
       "      <th>threshold</th>\n",
       "      <th>mean_score</th>\n",
       "      <th>rank_score</th>\n",
       "    </tr>\n",
       "  </thead>\n",
       "  <tbody>\n",
       "    <tr>\n",
       "      <th>5</th>\n",
       "      <td>0.000006</td>\n",
       "      <td>0.641513</td>\n",
       "      <td>1</td>\n",
       "    </tr>\n",
       "    <tr>\n",
       "      <th>4</th>\n",
       "      <td>0.000005</td>\n",
       "      <td>0.640812</td>\n",
       "      <td>2</td>\n",
       "    </tr>\n",
       "    <tr>\n",
       "      <th>3</th>\n",
       "      <td>0.000004</td>\n",
       "      <td>0.640199</td>\n",
       "      <td>3</td>\n",
       "    </tr>\n",
       "    <tr>\n",
       "      <th>6</th>\n",
       "      <td>0.000007</td>\n",
       "      <td>0.640056</td>\n",
       "      <td>4</td>\n",
       "    </tr>\n",
       "    <tr>\n",
       "      <th>2</th>\n",
       "      <td>0.000003</td>\n",
       "      <td>0.639302</td>\n",
       "      <td>5</td>\n",
       "    </tr>\n",
       "  </tbody>\n",
       "</table>\n",
       "</div>"
      ],
      "text/plain": [
       "  threshold  mean_score  rank_score\n",
       "5  0.000006    0.641513           1\n",
       "4  0.000005    0.640812           2\n",
       "3  0.000004    0.640199           3\n",
       "6  0.000007    0.640056           4\n",
       "2  0.000003    0.639302           5"
      ]
     },
     "execution_count": 87,
     "metadata": {},
     "output_type": "execute_result"
    },
    {
     "data": {
      "application/javascript": [
       "\n",
       "            setTimeout(function() {\n",
       "                var nbb_cell_id = 87;\n",
       "                var nbb_unformatted_code = \"results = load_results(\\\"sweeps/var_thresh\\\")\\nresults.head()\";\n",
       "                var nbb_formatted_code = \"results = load_results(\\\"sweeps/var_thresh\\\")\\nresults.head()\";\n",
       "                var nbb_cells = Jupyter.notebook.get_cells();\n",
       "                for (var i = 0; i < nbb_cells.length; ++i) {\n",
       "                    if (nbb_cells[i].input_prompt_number == nbb_cell_id) {\n",
       "                        if (nbb_cells[i].get_text() == nbb_unformatted_code) {\n",
       "                             nbb_cells[i].set_text(nbb_formatted_code);\n",
       "                        }\n",
       "                        break;\n",
       "                    }\n",
       "                }\n",
       "            }, 500);\n",
       "            "
      ],
      "text/plain": [
       "<IPython.core.display.Javascript object>"
      ]
     },
     "metadata": {},
     "output_type": "display_data"
    }
   ],
   "source": [
    "results = load_results(\"sweeps/var_thresh\")\n",
    "results.head()"
   ]
  },
  {
   "cell_type": "code",
   "execution_count": 88,
   "metadata": {
    "ExecuteTime": {
     "end_time": "2021-06-23T07:34:28.346553Z",
     "start_time": "2021-06-23T07:34:21.805312Z"
    }
   },
   "outputs": [
    {
     "data": {
      "text/html": [
       "<style  type=\"text/css\" >\n",
       "#T_814a5_row0_col0{\n",
       "            background-color:  #bac4d6;\n",
       "            color:  #000000;\n",
       "        }#T_814a5_row0_col1{\n",
       "            background-color:  #c97f7d;\n",
       "            color:  #000000;\n",
       "        }#T_814a5_row0_col2{\n",
       "            background-color:  #edd5d3;\n",
       "            color:  #000000;\n",
       "        }#T_814a5_row1_col0{\n",
       "            background-color:  #dcacaa;\n",
       "            color:  #000000;\n",
       "        }#T_814a5_row1_col1{\n",
       "            background-color:  #dfb4b2;\n",
       "            color:  #000000;\n",
       "        }#T_814a5_row1_col2{\n",
       "            background-color:  #e4c0be;\n",
       "            color:  #000000;\n",
       "        }#T_814a5_row2_col0{\n",
       "            background-color:  #ebeaee;\n",
       "            color:  #000000;\n",
       "        }#T_814a5_row2_col1{\n",
       "            background-color:  #d59d9a;\n",
       "            color:  #000000;\n",
       "        }#T_814a5_row2_col2{\n",
       "            background-color:  #e8cac8;\n",
       "            color:  #000000;\n",
       "        }#T_814a5_row3_col0{\n",
       "            background-color:  #4a7bbc;\n",
       "            color:  #000000;\n",
       "        }#T_814a5_row3_col1{\n",
       "            background-color:  #ecd2d0;\n",
       "            color:  #000000;\n",
       "        }#T_814a5_row3_col2{\n",
       "            background-color:  #bbc5d7;\n",
       "            color:  #000000;\n",
       "        }</style><table id=\"T_814a5_\" ><thead>    <tr>        <th class=\"blank level0\" ></th>        <th class=\"col_heading level0 col0\" >Negative</th>        <th class=\"col_heading level0 col1\" >Neutral</th>        <th class=\"col_heading level0 col2\" >Positive</th>        <th class=\"col_heading level0 col3\" >macro avg</th>        <th class=\"col_heading level0 col4\" >weighted avg</th>        <th class=\"col_heading level0 col5\" >accuracy</th>        <th class=\"col_heading level0 col6\" >bal accuracy</th>    </tr></thead><tbody>\n",
       "                <tr>\n",
       "                        <th id=\"T_814a5_level0_row0\" class=\"row_heading level0 row0\" >precision</th>\n",
       "                        <td id=\"T_814a5_row0_col0\" class=\"data row0 col0\" >0.325</td>\n",
       "                        <td id=\"T_814a5_row0_col1\" class=\"data row0 col1\" >0.813</td>\n",
       "                        <td id=\"T_814a5_row0_col2\" class=\"data row0 col2\" >0.597</td>\n",
       "                        <td id=\"T_814a5_row0_col3\" class=\"data row0 col3\" >0.578</td>\n",
       "                        <td id=\"T_814a5_row0_col4\" class=\"data row0 col4\" >0.710</td>\n",
       "                        <td id=\"T_814a5_row0_col5\" class=\"data row0 col5\" >0.668</td>\n",
       "                        <td id=\"T_814a5_row0_col6\" class=\"data row0 col6\" >0.674</td>\n",
       "            </tr>\n",
       "            <tr>\n",
       "                        <th id=\"T_814a5_level0_row1\" class=\"row_heading level0 row1\" >recall</th>\n",
       "                        <td id=\"T_814a5_row1_col0\" class=\"data row1 col0\" >0.697</td>\n",
       "                        <td id=\"T_814a5_row1_col1\" class=\"data row1 col1\" >0.676</td>\n",
       "                        <td id=\"T_814a5_row1_col2\" class=\"data row1 col2\" >0.648</td>\n",
       "                        <td id=\"T_814a5_row1_col3\" class=\"data row1 col3\" >0.674</td>\n",
       "                        <td id=\"T_814a5_row1_col4\" class=\"data row1 col4\" >0.668</td>\n",
       "                        <td id=\"T_814a5_row1_col5\" class=\"data row1 col5\" ></td>\n",
       "                        <td id=\"T_814a5_row1_col6\" class=\"data row1 col6\" ></td>\n",
       "            </tr>\n",
       "            <tr>\n",
       "                        <th id=\"T_814a5_level0_row2\" class=\"row_heading level0 row2\" >f1-score</th>\n",
       "                        <td id=\"T_814a5_row2_col0\" class=\"data row2 col0\" >0.443</td>\n",
       "                        <td id=\"T_814a5_row2_col1\" class=\"data row2 col1\" >0.738</td>\n",
       "                        <td id=\"T_814a5_row2_col2\" class=\"data row2 col2\" >0.622</td>\n",
       "                        <td id=\"T_814a5_row2_col3\" class=\"data row2 col3\" >0.601</td>\n",
       "                        <td id=\"T_814a5_row2_col4\" class=\"data row2 col4\" >0.681</td>\n",
       "                        <td id=\"T_814a5_row2_col5\" class=\"data row2 col5\" ></td>\n",
       "                        <td id=\"T_814a5_row2_col6\" class=\"data row2 col6\" ></td>\n",
       "            </tr>\n",
       "            <tr>\n",
       "                        <th id=\"T_814a5_level0_row3\" class=\"row_heading level0 row3\" >support</th>\n",
       "                        <td id=\"T_814a5_row3_col0\" class=\"data row3 col0\" >0.064</td>\n",
       "                        <td id=\"T_814a5_row3_col1\" class=\"data row3 col1\" >0.605</td>\n",
       "                        <td id=\"T_814a5_row3_col2\" class=\"data row3 col2\" >0.332</td>\n",
       "                        <td id=\"T_814a5_row3_col3\" class=\"data row3 col3\" ></td>\n",
       "                        <td id=\"T_814a5_row3_col4\" class=\"data row3 col4\" ></td>\n",
       "                        <td id=\"T_814a5_row3_col5\" class=\"data row3 col5\" ></td>\n",
       "                        <td id=\"T_814a5_row3_col6\" class=\"data row3 col6\" ></td>\n",
       "            </tr>\n",
       "    </tbody></table>"
      ],
      "text/plain": [
       "<pandas.io.formats.style.Styler at 0x21a87d5c610>"
      ]
     },
     "metadata": {},
     "output_type": "display_data"
    },
    {
     "data": {
      "image/png": "[encoded data removed]",
      "text/plain": [
       "<Figure size 288x288 with 1 Axes>"
      ]
     },
     "metadata": {
      "needs_background": "light"
     },
     "output_type": "display_data"
    },
    {
     "data": {
      "application/javascript": [
       "\n",
       "            setTimeout(function() {\n",
       "                var nbb_cell_id = 88;\n",
       "                var nbb_unformatted_code = \"main_pipe = Pipeline(\\n    [\\n        (\\\"col\\\", col_xform),\\n        (\\\"nrm\\\", Normalizer(\\\"l2\\\")),\\n        (\\\"sel\\\", VarianceThreshold(6e-6)),\\n        (\\\"cls\\\", logit),\\n    ]\\n)\\n\\ntest_fit(main_pipe)\";\n",
       "                var nbb_formatted_code = \"main_pipe = Pipeline(\\n    [\\n        (\\\"col\\\", col_xform),\\n        (\\\"nrm\\\", Normalizer(\\\"l2\\\")),\\n        (\\\"sel\\\", VarianceThreshold(6e-6)),\\n        (\\\"cls\\\", logit),\\n    ]\\n)\\n\\ntest_fit(main_pipe)\";\n",
       "                var nbb_cells = Jupyter.notebook.get_cells();\n",
       "                for (var i = 0; i < nbb_cells.length; ++i) {\n",
       "                    if (nbb_cells[i].input_prompt_number == nbb_cell_id) {\n",
       "                        if (nbb_cells[i].get_text() == nbb_unformatted_code) {\n",
       "                             nbb_cells[i].set_text(nbb_formatted_code);\n",
       "                        }\n",
       "                        break;\n",
       "                    }\n",
       "                }\n",
       "            }, 500);\n",
       "            "
      ],
      "text/plain": [
       "<IPython.core.display.Javascript object>"
      ]
     },
     "metadata": {},
     "output_type": "display_data"
    }
   ],
   "source": [
    "main_pipe = Pipeline(\n",
    "    [\n",
    "        (\"col\", col_xform),\n",
    "        (\"nrm\", Normalizer(\"l2\")),\n",
    "        (\"sel\", VarianceThreshold(6e-6)),\n",
    "        (\"cls\", logit),\n",
    "    ]\n",
    ")\n",
    "\n",
    "test_fit(main_pipe)"
   ]
  },
  {
   "cell_type": "code",
   "execution_count": null,
   "metadata": {},
   "outputs": [],
   "source": []
  }
 ],
 "metadata": {
  "interpreter": {
   "hash": "45e948d0256f8c78ae85303b642a175be3add64c95f2eaa9e19fcfd099775c4c"
  },
  "kernelspec": {
   "display_name": "Python 3",
   "language": "python",
   "name": "python3"
  },
  "language_info": {
   "codemirror_mode": {
    "name": "ipython",
    "version": 3
   },
   "file_extension": ".py",
   "mimetype": "text/x-python",
   "name": "python",
   "nbconvert_exporter": "python",
   "pygments_lexer": "ipython3",
   "version": "3.8.5"
  },
  "toc": {
   "base_numbering": 1,
   "nav_menu": {},
   "number_sections": false,
   "sideBar": true,
   "skip_h1_title": false,
   "title_cell": "Table of Contents",
   "title_sidebar": "Contents",
   "toc_cell": false,
   "toc_position": {
    "height": "calc(100% - 180px)",
    "left": "10px",
    "top": "150px",
    "width": "512px"
   },
   "toc_section_display": true,
   "toc_window_display": true
  }
 },
 "nbformat": 4,
 "nbformat_minor": 2
}
