{
 "cells": [
  {
   "cell_type": "code",
   "execution_count": 19,
   "metadata": {
    "ExecuteTime": {
     "end_time": "2021-06-14T07:18:47.902098Z",
     "start_time": "2021-06-14T07:18:47.829097Z"
    }
   },
   "outputs": [
    {
     "name": "stdout",
     "output_type": "stream",
     "text": [
      "The nb_black extension is already loaded. To reload it, use:\n",
      "  %reload_ext nb_black\n"
     ]
    },
    {
     "data": {
      "application/javascript": [
       "\n",
       "            setTimeout(function() {\n",
       "                var nbb_cell_id = 19;\n",
       "                var nbb_unformatted_code = \"import re\\nimport numpy as np\\nimport pandas as pd\\nimport seaborn as sns\\nimport matplotlib.pyplot as plt\\nfrom os.path import normpath\\n\\nsns.set_theme(font_scale=1, style=\\\"darkgrid\\\")\\nsns.set_palette(\\\"deep\\\", desat=0.85, color_codes=True)\\n%matplotlib inline\\n%load_ext nb_black\";\n",
       "                var nbb_formatted_code = \"import re\\nimport numpy as np\\nimport pandas as pd\\nimport seaborn as sns\\nimport matplotlib.pyplot as plt\\nfrom os.path import normpath\\n\\nsns.set_theme(font_scale=1, style=\\\"darkgrid\\\")\\nsns.set_palette(\\\"deep\\\", desat=0.85, color_codes=True)\\n%matplotlib inline\\n%load_ext nb_black\";\n",
       "                var nbb_cells = Jupyter.notebook.get_cells();\n",
       "                for (var i = 0; i < nbb_cells.length; ++i) {\n",
       "                    if (nbb_cells[i].input_prompt_number == nbb_cell_id) {\n",
       "                        if (nbb_cells[i].get_text() == nbb_unformatted_code) {\n",
       "                             nbb_cells[i].set_text(nbb_formatted_code);\n",
       "                        }\n",
       "                        break;\n",
       "                    }\n",
       "                }\n",
       "            }, 500);\n",
       "            "
      ],
      "text/plain": [
       "<IPython.core.display.Javascript object>"
      ]
     },
     "metadata": {},
     "output_type": "display_data"
    }
   ],
   "source": [
    "import re\n",
    "import numpy as np\n",
    "import pandas as pd\n",
    "import seaborn as sns\n",
    "import matplotlib.pyplot as plt\n",
    "from os.path import normpath\n",
    "\n",
    "sns.set_theme(font_scale=1, style=\"darkgrid\")\n",
    "sns.set_palette(\"deep\", desat=0.85, color_codes=True)\n",
    "%matplotlib inline\n",
    "%load_ext nb_black"
   ]
  },
  {
   "cell_type": "code",
   "execution_count": 20,
   "metadata": {
    "ExecuteTime": {
     "end_time": "2021-06-14T07:18:47.971098Z",
     "start_time": "2021-06-14T07:18:47.903099Z"
    }
   },
   "outputs": [
    {
     "name": "stdout",
     "output_type": "stream",
     "text": [
      "The autoreload extension is already loaded. To reload it, use:\n",
      "  %reload_ext autoreload\n"
     ]
    },
    {
     "data": {
      "application/javascript": [
       "\n",
       "            setTimeout(function() {\n",
       "                var nbb_cell_id = 20;\n",
       "                var nbb_unformatted_code = \"%load_ext autoreload\\n%autoreload 2\\n\\nfrom tools import cleaning, plotting, language, utils\\n\\nplt.rcParams.update(plotting.MPL_DEFAULTS)\";\n",
       "                var nbb_formatted_code = \"%load_ext autoreload\\n%autoreload 2\\n\\nfrom tools import cleaning, plotting, language, utils\\n\\nplt.rcParams.update(plotting.MPL_DEFAULTS)\";\n",
       "                var nbb_cells = Jupyter.notebook.get_cells();\n",
       "                for (var i = 0; i < nbb_cells.length; ++i) {\n",
       "                    if (nbb_cells[i].input_prompt_number == nbb_cell_id) {\n",
       "                        if (nbb_cells[i].get_text() == nbb_unformatted_code) {\n",
       "                             nbb_cells[i].set_text(nbb_formatted_code);\n",
       "                        }\n",
       "                        break;\n",
       "                    }\n",
       "                }\n",
       "            }, 500);\n",
       "            "
      ],
      "text/plain": [
       "<IPython.core.display.Javascript object>"
      ]
     },
     "metadata": {},
     "output_type": "display_data"
    }
   ],
   "source": [
    "%load_ext autoreload\n",
    "%autoreload 2\n",
    "\n",
    "from tools import cleaning, plotting, language, utils\n",
    "\n",
    "plt.rcParams.update(plotting.MPL_DEFAULTS)"
   ]
  },
  {
   "cell_type": "markdown",
   "metadata": {},
   "source": [
    "# Overview of Dataset"
   ]
  },
  {
   "cell_type": "code",
   "execution_count": 21,
   "metadata": {
    "ExecuteTime": {
     "end_time": "2021-06-14T07:18:48.059125Z",
     "start_time": "2021-06-14T07:18:47.972096Z"
    },
    "run_control": {
     "marked": false
    }
   },
   "outputs": [
    {
     "data": {
      "text/html": [
       "<div>\n",
       "<style scoped>\n",
       "    .dataframe tbody tr th:only-of-type {\n",
       "        vertical-align: middle;\n",
       "    }\n",
       "\n",
       "    .dataframe tbody tr th {\n",
       "        vertical-align: top;\n",
       "    }\n",
       "\n",
       "    .dataframe thead th {\n",
       "        text-align: right;\n",
       "    }\n",
       "</style>\n",
       "<table border=\"1\" class=\"dataframe\">\n",
       "  <thead>\n",
       "    <tr style=\"text-align: right;\">\n",
       "      <th></th>\n",
       "      <th>tweet_text</th>\n",
       "      <th>emotion_in_tweet_is_directed_at</th>\n",
       "      <th>is_there_an_emotion_directed_at_a_brand_or_product</th>\n",
       "    </tr>\n",
       "  </thead>\n",
       "  <tbody>\n",
       "    <tr>\n",
       "      <th>0</th>\n",
       "      <td>.@wesley83 I have a 3G iPhone. After 3 hrs twe...</td>\n",
       "      <td>iPhone</td>\n",
       "      <td>Negative emotion</td>\n",
       "    </tr>\n",
       "    <tr>\n",
       "      <th>1</th>\n",
       "      <td>@jessedee Know about @fludapp ? Awesome iPad/i...</td>\n",
       "      <td>iPad or iPhone App</td>\n",
       "      <td>Positive emotion</td>\n",
       "    </tr>\n",
       "    <tr>\n",
       "      <th>2</th>\n",
       "      <td>@swonderlin Can not wait for #iPad 2 also. The...</td>\n",
       "      <td>iPad</td>\n",
       "      <td>Positive emotion</td>\n",
       "    </tr>\n",
       "    <tr>\n",
       "      <th>3</th>\n",
       "      <td>@sxsw I hope this year's festival isn't as cra...</td>\n",
       "      <td>iPad or iPhone App</td>\n",
       "      <td>Negative emotion</td>\n",
       "    </tr>\n",
       "    <tr>\n",
       "      <th>4</th>\n",
       "      <td>@sxtxstate great stuff on Fri #SXSW: Marissa M...</td>\n",
       "      <td>Google</td>\n",
       "      <td>Positive emotion</td>\n",
       "    </tr>\n",
       "  </tbody>\n",
       "</table>\n",
       "</div>"
      ],
      "text/plain": [
       "                                          tweet_text  \\\n",
       "0  .@wesley83 I have a 3G iPhone. After 3 hrs twe...   \n",
       "1  @jessedee Know about @fludapp ? Awesome iPad/i...   \n",
       "2  @swonderlin Can not wait for #iPad 2 also. The...   \n",
       "3  @sxsw I hope this year's festival isn't as cra...   \n",
       "4  @sxtxstate great stuff on Fri #SXSW: Marissa M...   \n",
       "\n",
       "  emotion_in_tweet_is_directed_at  \\\n",
       "0                          iPhone   \n",
       "1              iPad or iPhone App   \n",
       "2                            iPad   \n",
       "3              iPad or iPhone App   \n",
       "4                          Google   \n",
       "\n",
       "  is_there_an_emotion_directed_at_a_brand_or_product  \n",
       "0                                   Negative emotion  \n",
       "1                                   Positive emotion  \n",
       "2                                   Positive emotion  \n",
       "3                                   Negative emotion  \n",
       "4                                   Positive emotion  "
      ]
     },
     "execution_count": 21,
     "metadata": {},
     "output_type": "execute_result"
    },
    {
     "data": {
      "application/javascript": [
       "\n",
       "            setTimeout(function() {\n",
       "                var nbb_cell_id = 21;\n",
       "                var nbb_unformatted_code = \"df = pd.read_csv(normpath(\\\"data/crowdflower_tweets.csv\\\"))\\ndf.head()\";\n",
       "                var nbb_formatted_code = \"df = pd.read_csv(normpath(\\\"data/crowdflower_tweets.csv\\\"))\\ndf.head()\";\n",
       "                var nbb_cells = Jupyter.notebook.get_cells();\n",
       "                for (var i = 0; i < nbb_cells.length; ++i) {\n",
       "                    if (nbb_cells[i].input_prompt_number == nbb_cell_id) {\n",
       "                        if (nbb_cells[i].get_text() == nbb_unformatted_code) {\n",
       "                             nbb_cells[i].set_text(nbb_formatted_code);\n",
       "                        }\n",
       "                        break;\n",
       "                    }\n",
       "                }\n",
       "            }, 500);\n",
       "            "
      ],
      "text/plain": [
       "<IPython.core.display.Javascript object>"
      ]
     },
     "metadata": {},
     "output_type": "display_data"
    }
   ],
   "source": [
    "df = pd.read_csv(normpath(\"data/crowdflower_tweets.csv\"))\n",
    "df.head()"
   ]
  },
  {
   "cell_type": "markdown",
   "metadata": {},
   "source": [
    "Looks like one text feature and two categorical features, one of which has a lot of null values. The feature names are very long and wordy, presumably to reflect the actual language used by CrowdFlower in crowdsourcing this dataset. I'm going to rename those before I do anything else."
   ]
  },
  {
   "cell_type": "code",
   "execution_count": 22,
   "metadata": {
    "ExecuteTime": {
     "end_time": "2021-06-14T07:18:48.127098Z",
     "start_time": "2021-06-14T07:18:48.060096Z"
    }
   },
   "outputs": [
    {
     "name": "stdout",
     "output_type": "stream",
     "text": [
      "<class 'pandas.core.frame.DataFrame'>\n",
      "RangeIndex: 9093 entries, 0 to 9092\n",
      "Data columns (total 3 columns):\n",
      " #   Column                                              Non-Null Count  Dtype \n",
      "---  ------                                              --------------  ----- \n",
      " 0   tweet_text                                          9092 non-null   object\n",
      " 1   emotion_in_tweet_is_directed_at                     3291 non-null   object\n",
      " 2   is_there_an_emotion_directed_at_a_brand_or_product  9093 non-null   object\n",
      "dtypes: object(3)\n",
      "memory usage: 213.2+ KB\n"
     ]
    },
    {
     "data": {
      "application/javascript": [
       "\n",
       "            setTimeout(function() {\n",
       "                var nbb_cell_id = 22;\n",
       "                var nbb_unformatted_code = \"df.info()\";\n",
       "                var nbb_formatted_code = \"df.info()\";\n",
       "                var nbb_cells = Jupyter.notebook.get_cells();\n",
       "                for (var i = 0; i < nbb_cells.length; ++i) {\n",
       "                    if (nbb_cells[i].input_prompt_number == nbb_cell_id) {\n",
       "                        if (nbb_cells[i].get_text() == nbb_unformatted_code) {\n",
       "                             nbb_cells[i].set_text(nbb_formatted_code);\n",
       "                        }\n",
       "                        break;\n",
       "                    }\n",
       "                }\n",
       "            }, 500);\n",
       "            "
      ],
      "text/plain": [
       "<IPython.core.display.Javascript object>"
      ]
     },
     "metadata": {},
     "output_type": "display_data"
    }
   ],
   "source": [
    "df.info()"
   ]
  },
  {
   "cell_type": "markdown",
   "metadata": {},
   "source": [
    "# Cleaning\n",
    "## Renaming"
   ]
  },
  {
   "cell_type": "code",
   "execution_count": 23,
   "metadata": {
    "ExecuteTime": {
     "end_time": "2021-06-14T07:18:48.197098Z",
     "start_time": "2021-06-14T07:18:48.128097Z"
    }
   },
   "outputs": [
    {
     "data": {
      "text/html": [
       "<div>\n",
       "<style scoped>\n",
       "    .dataframe tbody tr th:only-of-type {\n",
       "        vertical-align: middle;\n",
       "    }\n",
       "\n",
       "    .dataframe tbody tr th {\n",
       "        vertical-align: top;\n",
       "    }\n",
       "\n",
       "    .dataframe thead th {\n",
       "        text-align: right;\n",
       "    }\n",
       "</style>\n",
       "<table border=\"1\" class=\"dataframe\">\n",
       "  <thead>\n",
       "    <tr style=\"text-align: right;\">\n",
       "      <th></th>\n",
       "      <th>tweet_text</th>\n",
       "      <th>object_of_emotion</th>\n",
       "      <th>emotion</th>\n",
       "    </tr>\n",
       "  </thead>\n",
       "  <tbody>\n",
       "    <tr>\n",
       "      <th>0</th>\n",
       "      <td>.@wesley83 I have a 3G iPhone. After 3 hrs twe...</td>\n",
       "      <td>iPhone</td>\n",
       "      <td>Negative emotion</td>\n",
       "    </tr>\n",
       "    <tr>\n",
       "      <th>1</th>\n",
       "      <td>@jessedee Know about @fludapp ? Awesome iPad/i...</td>\n",
       "      <td>iPad or iPhone App</td>\n",
       "      <td>Positive emotion</td>\n",
       "    </tr>\n",
       "    <tr>\n",
       "      <th>2</th>\n",
       "      <td>@swonderlin Can not wait for #iPad 2 also. The...</td>\n",
       "      <td>iPad</td>\n",
       "      <td>Positive emotion</td>\n",
       "    </tr>\n",
       "    <tr>\n",
       "      <th>3</th>\n",
       "      <td>@sxsw I hope this year's festival isn't as cra...</td>\n",
       "      <td>iPad or iPhone App</td>\n",
       "      <td>Negative emotion</td>\n",
       "    </tr>\n",
       "    <tr>\n",
       "      <th>4</th>\n",
       "      <td>@sxtxstate great stuff on Fri #SXSW: Marissa M...</td>\n",
       "      <td>Google</td>\n",
       "      <td>Positive emotion</td>\n",
       "    </tr>\n",
       "  </tbody>\n",
       "</table>\n",
       "</div>"
      ],
      "text/plain": [
       "                                          tweet_text   object_of_emotion  \\\n",
       "0  .@wesley83 I have a 3G iPhone. After 3 hrs twe...              iPhone   \n",
       "1  @jessedee Know about @fludapp ? Awesome iPad/i...  iPad or iPhone App   \n",
       "2  @swonderlin Can not wait for #iPad 2 also. The...                iPad   \n",
       "3  @sxsw I hope this year's festival isn't as cra...  iPad or iPhone App   \n",
       "4  @sxtxstate great stuff on Fri #SXSW: Marissa M...              Google   \n",
       "\n",
       "            emotion  \n",
       "0  Negative emotion  \n",
       "1  Positive emotion  \n",
       "2  Positive emotion  \n",
       "3  Negative emotion  \n",
       "4  Positive emotion  "
      ]
     },
     "execution_count": 23,
     "metadata": {},
     "output_type": "execute_result"
    },
    {
     "data": {
      "application/javascript": [
       "\n",
       "            setTimeout(function() {\n",
       "                var nbb_cell_id = 23;\n",
       "                var nbb_unformatted_code = \"# Assign new column names\\ndf.columns = [\\\"tweet_text\\\", \\\"object_of_emotion\\\", \\\"emotion\\\"]\\ndf.head()\";\n",
       "                var nbb_formatted_code = \"# Assign new column names\\ndf.columns = [\\\"tweet_text\\\", \\\"object_of_emotion\\\", \\\"emotion\\\"]\\ndf.head()\";\n",
       "                var nbb_cells = Jupyter.notebook.get_cells();\n",
       "                for (var i = 0; i < nbb_cells.length; ++i) {\n",
       "                    if (nbb_cells[i].input_prompt_number == nbb_cell_id) {\n",
       "                        if (nbb_cells[i].get_text() == nbb_unformatted_code) {\n",
       "                             nbb_cells[i].set_text(nbb_formatted_code);\n",
       "                        }\n",
       "                        break;\n",
       "                    }\n",
       "                }\n",
       "            }, 500);\n",
       "            "
      ],
      "text/plain": [
       "<IPython.core.display.Javascript object>"
      ]
     },
     "metadata": {},
     "output_type": "display_data"
    }
   ],
   "source": [
    "# Assign new column names\n",
    "df.columns = [\"tweet_text\", \"object_of_emotion\", \"emotion\"]\n",
    "df.head()"
   ]
  },
  {
   "cell_type": "markdown",
   "metadata": {},
   "source": [
    "Next, I take a look at the values of the categorical variables. The categories make sense, although the names are longer than necessary. I'm going to shorten some of them as well."
   ]
  },
  {
   "cell_type": "code",
   "execution_count": 24,
   "metadata": {
    "ExecuteTime": {
     "end_time": "2021-06-14T07:18:48.273096Z",
     "start_time": "2021-06-14T07:18:48.198097Z"
    }
   },
   "outputs": [
    {
     "data": {
      "text/html": [
       "<div>\n",
       "<style scoped>\n",
       "    .dataframe tbody tr th:only-of-type {\n",
       "        vertical-align: middle;\n",
       "    }\n",
       "\n",
       "    .dataframe tbody tr th {\n",
       "        vertical-align: top;\n",
       "    }\n",
       "\n",
       "    .dataframe thead th {\n",
       "        text-align: right;\n",
       "    }\n",
       "</style>\n",
       "<table border=\"1\" class=\"dataframe\">\n",
       "  <thead>\n",
       "    <tr style=\"text-align: right;\">\n",
       "      <th>object_of_emotion</th>\n",
       "      <th>emotion</th>\n",
       "    </tr>\n",
       "  </thead>\n",
       "  <tbody>\n",
       "    <tr>\n",
       "      <td>iPhone</td>\n",
       "      <td>Negative emotion</td>\n",
       "    </tr>\n",
       "    <tr>\n",
       "      <td>iPad or iPhone App</td>\n",
       "      <td>Positive emotion</td>\n",
       "    </tr>\n",
       "    <tr>\n",
       "      <td>iPad</td>\n",
       "      <td>No emotion toward brand or product</td>\n",
       "    </tr>\n",
       "    <tr>\n",
       "      <td>Google</td>\n",
       "      <td>I can't tell</td>\n",
       "    </tr>\n",
       "    <tr>\n",
       "      <td>Android</td>\n",
       "      <td></td>\n",
       "    </tr>\n",
       "    <tr>\n",
       "      <td>Apple</td>\n",
       "      <td></td>\n",
       "    </tr>\n",
       "    <tr>\n",
       "      <td>Android App</td>\n",
       "      <td></td>\n",
       "    </tr>\n",
       "    <tr>\n",
       "      <td>Other Google product or service</td>\n",
       "      <td></td>\n",
       "    </tr>\n",
       "    <tr>\n",
       "      <td>Other Apple product or service</td>\n",
       "      <td></td>\n",
       "    </tr>\n",
       "  </tbody>\n",
       "</table>\n",
       "</div>"
      ],
      "text/plain": [
       "<IPython.core.display.HTML object>"
      ]
     },
     "metadata": {},
     "output_type": "display_data"
    },
    {
     "data": {
      "application/javascript": [
       "\n",
       "            setTimeout(function() {\n",
       "                var nbb_cell_id = 24;\n",
       "                var nbb_unformatted_code = \"cleaning.show_uniques(df)\";\n",
       "                var nbb_formatted_code = \"cleaning.show_uniques(df)\";\n",
       "                var nbb_cells = Jupyter.notebook.get_cells();\n",
       "                for (var i = 0; i < nbb_cells.length; ++i) {\n",
       "                    if (nbb_cells[i].input_prompt_number == nbb_cell_id) {\n",
       "                        if (nbb_cells[i].get_text() == nbb_unformatted_code) {\n",
       "                             nbb_cells[i].set_text(nbb_formatted_code);\n",
       "                        }\n",
       "                        break;\n",
       "                    }\n",
       "                }\n",
       "            }, 500);\n",
       "            "
      ],
      "text/plain": [
       "<IPython.core.display.Javascript object>"
      ]
     },
     "metadata": {},
     "output_type": "display_data"
    }
   ],
   "source": [
    "cleaning.show_uniques(df)"
   ]
  },
  {
   "cell_type": "markdown",
   "metadata": {},
   "source": [
    "First, I convert the categorical columns to `CategoricalDtype`. This will make it easier to rename the categories, and is a convenient way to differentiate the categorical features from the text column."
   ]
  },
  {
   "cell_type": "code",
   "execution_count": 25,
   "metadata": {
    "ExecuteTime": {
     "end_time": "2021-06-14T07:18:48.345098Z",
     "start_time": "2021-06-14T07:18:48.274096Z"
    }
   },
   "outputs": [
    {
     "data": {
      "text/plain": [
       "0    Negative emotion\n",
       "1    Positive emotion\n",
       "2    Positive emotion\n",
       "Name: emotion, dtype: category\n",
       "Categories (4, object): ['I can't tell', 'Negative emotion', 'No emotion toward brand or product', 'Positive emotion']"
      ]
     },
     "metadata": {},
     "output_type": "display_data"
    },
    {
     "data": {
      "text/plain": [
       "0                iPhone\n",
       "1    iPad or iPhone App\n",
       "2                  iPad\n",
       "Name: object_of_emotion, dtype: category\n",
       "Categories (9, object): ['Android', 'Android App', 'Apple', 'Google', ..., 'Other Google product or service', 'iPad', 'iPad or iPhone App', 'iPhone']"
      ]
     },
     "metadata": {},
     "output_type": "display_data"
    },
    {
     "data": {
      "application/javascript": [
       "\n",
       "            setTimeout(function() {\n",
       "                var nbb_cell_id = 25;\n",
       "                var nbb_unformatted_code = \"# Convert categorical columns to categorical dtype\\ncat_cols = [\\\"emotion\\\", \\\"object_of_emotion\\\"]\\ndf[cat_cols] = df.loc[:, cat_cols].astype(\\\"category\\\")\\n\\n# Delete temp variable\\ndel cat_cols\\n\\n# Display results\\ndisplay(df[\\\"emotion\\\"].head(3), df[\\\"object_of_emotion\\\"].head(3))\";\n",
       "                var nbb_formatted_code = \"# Convert categorical columns to categorical dtype\\ncat_cols = [\\\"emotion\\\", \\\"object_of_emotion\\\"]\\ndf[cat_cols] = df.loc[:, cat_cols].astype(\\\"category\\\")\\n\\n# Delete temp variable\\ndel cat_cols\\n\\n# Display results\\ndisplay(df[\\\"emotion\\\"].head(3), df[\\\"object_of_emotion\\\"].head(3))\";\n",
       "                var nbb_cells = Jupyter.notebook.get_cells();\n",
       "                for (var i = 0; i < nbb_cells.length; ++i) {\n",
       "                    if (nbb_cells[i].input_prompt_number == nbb_cell_id) {\n",
       "                        if (nbb_cells[i].get_text() == nbb_unformatted_code) {\n",
       "                             nbb_cells[i].set_text(nbb_formatted_code);\n",
       "                        }\n",
       "                        break;\n",
       "                    }\n",
       "                }\n",
       "            }, 500);\n",
       "            "
      ],
      "text/plain": [
       "<IPython.core.display.Javascript object>"
      ]
     },
     "metadata": {},
     "output_type": "display_data"
    }
   ],
   "source": [
    "# Convert categorical columns to categorical dtype\n",
    "cat_cols = [\"emotion\", \"object_of_emotion\"]\n",
    "df[cat_cols] = df.loc[:, cat_cols].astype(\"category\")\n",
    "\n",
    "# Delete temp variable\n",
    "del cat_cols\n",
    "\n",
    "# Display results\n",
    "display(df[\"emotion\"].head(3), df[\"object_of_emotion\"].head(3))"
   ]
  },
  {
   "cell_type": "markdown",
   "metadata": {},
   "source": [
    "Next, I rename the categories for both categorical features.\n",
    "\n",
    "I use a single `dict` mapping old category names to new ones. I only need one `dict` for both features because the method `Series.cat.rename_categories(...)` ignores irrelevant keys."
   ]
  },
  {
   "cell_type": "code",
   "execution_count": 26,
   "metadata": {
    "ExecuteTime": {
     "end_time": "2021-06-14T07:18:48.426097Z",
     "start_time": "2021-06-14T07:18:48.346096Z"
    }
   },
   "outputs": [
    {
     "data": {
      "text/html": [
       "<div>\n",
       "<style scoped>\n",
       "    .dataframe tbody tr th:only-of-type {\n",
       "        vertical-align: middle;\n",
       "    }\n",
       "\n",
       "    .dataframe tbody tr th {\n",
       "        vertical-align: top;\n",
       "    }\n",
       "\n",
       "    .dataframe thead th {\n",
       "        text-align: right;\n",
       "    }\n",
       "</style>\n",
       "<table border=\"1\" class=\"dataframe\">\n",
       "  <thead>\n",
       "    <tr style=\"text-align: right;\">\n",
       "      <th>object_of_emotion</th>\n",
       "      <th>emotion</th>\n",
       "    </tr>\n",
       "  </thead>\n",
       "  <tbody>\n",
       "    <tr>\n",
       "      <td>iPhone</td>\n",
       "      <td>Negative</td>\n",
       "    </tr>\n",
       "    <tr>\n",
       "      <td>iOS App</td>\n",
       "      <td>Positive</td>\n",
       "    </tr>\n",
       "    <tr>\n",
       "      <td>iPad</td>\n",
       "      <td>None</td>\n",
       "    </tr>\n",
       "    <tr>\n",
       "      <td>Google</td>\n",
       "      <td>Uncertain</td>\n",
       "    </tr>\n",
       "    <tr>\n",
       "      <td>Android</td>\n",
       "      <td></td>\n",
       "    </tr>\n",
       "    <tr>\n",
       "      <td>Apple</td>\n",
       "      <td></td>\n",
       "    </tr>\n",
       "    <tr>\n",
       "      <td>Android App</td>\n",
       "      <td></td>\n",
       "    </tr>\n",
       "    <tr>\n",
       "      <td>Other Google Product</td>\n",
       "      <td></td>\n",
       "    </tr>\n",
       "    <tr>\n",
       "      <td>Other Apple Product</td>\n",
       "      <td></td>\n",
       "    </tr>\n",
       "  </tbody>\n",
       "</table>\n",
       "</div>"
      ],
      "text/plain": [
       "<IPython.core.display.HTML object>"
      ]
     },
     "metadata": {},
     "output_type": "display_data"
    },
    {
     "data": {
      "application/javascript": [
       "\n",
       "            setTimeout(function() {\n",
       "                var nbb_cell_id = 26;\n",
       "                var nbb_unformatted_code = \"# Create mapping of old categories to new ones\\nnew_cats = {\\n    # New 'emotion' categories\\n    \\\"Negative emotion\\\": \\\"Negative\\\",\\n    \\\"Positive emotion\\\": \\\"Positive\\\",\\n    \\\"No emotion toward brand or product\\\": \\\"None\\\",\\n    \\\"I can't tell\\\": \\\"Uncertain\\\",\\n    # New 'object_of_emotion' categories\\n    \\\"iPad or iPhone App\\\": \\\"iOS App\\\",\\n    \\\"Other Google product or service\\\": \\\"Other Google Product\\\",\\n    \\\"Other Apple product or service\\\": \\\"Other Apple Product\\\",\\n}\\n\\n# Rename categories in-place (ignores irrelevant keys)\\ndf[\\\"emotion\\\"].cat.rename_categories(new_cats, inplace=True)\\ndf[\\\"object_of_emotion\\\"].cat.rename_categories(new_cats, inplace=True)\\n\\n# Delete renaming dict\\ndel new_cats\\n\\n# Show results\\ncleaning.show_uniques(df)\";\n",
       "                var nbb_formatted_code = \"# Create mapping of old categories to new ones\\nnew_cats = {\\n    # New 'emotion' categories\\n    \\\"Negative emotion\\\": \\\"Negative\\\",\\n    \\\"Positive emotion\\\": \\\"Positive\\\",\\n    \\\"No emotion toward brand or product\\\": \\\"None\\\",\\n    \\\"I can't tell\\\": \\\"Uncertain\\\",\\n    # New 'object_of_emotion' categories\\n    \\\"iPad or iPhone App\\\": \\\"iOS App\\\",\\n    \\\"Other Google product or service\\\": \\\"Other Google Product\\\",\\n    \\\"Other Apple product or service\\\": \\\"Other Apple Product\\\",\\n}\\n\\n# Rename categories in-place (ignores irrelevant keys)\\ndf[\\\"emotion\\\"].cat.rename_categories(new_cats, inplace=True)\\ndf[\\\"object_of_emotion\\\"].cat.rename_categories(new_cats, inplace=True)\\n\\n# Delete renaming dict\\ndel new_cats\\n\\n# Show results\\ncleaning.show_uniques(df)\";\n",
       "                var nbb_cells = Jupyter.notebook.get_cells();\n",
       "                for (var i = 0; i < nbb_cells.length; ++i) {\n",
       "                    if (nbb_cells[i].input_prompt_number == nbb_cell_id) {\n",
       "                        if (nbb_cells[i].get_text() == nbb_unformatted_code) {\n",
       "                             nbb_cells[i].set_text(nbb_formatted_code);\n",
       "                        }\n",
       "                        break;\n",
       "                    }\n",
       "                }\n",
       "            }, 500);\n",
       "            "
      ],
      "text/plain": [
       "<IPython.core.display.Javascript object>"
      ]
     },
     "metadata": {},
     "output_type": "display_data"
    }
   ],
   "source": [
    "# Create mapping of old categories to new ones\n",
    "new_cats = {\n",
    "    # New 'emotion' categories\n",
    "    \"Negative emotion\": \"Negative\",\n",
    "    \"Positive emotion\": \"Positive\",\n",
    "    \"No emotion toward brand or product\": \"None\",\n",
    "    \"I can't tell\": \"Uncertain\",\n",
    "    # New 'object_of_emotion' categories\n",
    "    \"iPad or iPhone App\": \"iOS App\",\n",
    "    \"Other Google product or service\": \"Other Google Product\",\n",
    "    \"Other Apple product or service\": \"Other Apple Product\",\n",
    "}\n",
    "\n",
    "# Rename categories in-place (ignores irrelevant keys)\n",
    "df[\"emotion\"].cat.rename_categories(new_cats, inplace=True)\n",
    "df[\"object_of_emotion\"].cat.rename_categories(new_cats, inplace=True)\n",
    "\n",
    "# Delete renaming dict\n",
    "del new_cats\n",
    "\n",
    "# Show results\n",
    "cleaning.show_uniques(df)"
   ]
  },
  {
   "cell_type": "markdown",
   "metadata": {},
   "source": [
    "## Missing Values and Duplicates\n",
    "\n",
    "I've see that 'emotion' has a 'None' category, but tweets which don't express an emotion towards a brand comprise a genuine category. Those are not missing values.\n",
    "\n",
    "According to the table below, there are missing values in the 'object_of_emotion' category. I bet, however, that these NaN values correspond to the 'None' category. If a tweet doesn't express a brand-emotion, then there shouldn't be any brand in the 'object_of_emotion' column.\n",
    "\n",
    "Furthermore, there's one row with no tweet text and $22$ duplicates which need to be dropped."
   ]
  },
  {
   "cell_type": "code",
   "execution_count": 27,
   "metadata": {
    "ExecuteTime": {
     "end_time": "2021-06-14T07:18:48.509098Z",
     "start_time": "2021-06-14T07:18:48.427098Z"
    }
   },
   "outputs": [
    {
     "data": {
      "text/html": [
       "<div>\n",
       "<style scoped>\n",
       "    .dataframe tbody tr th:only-of-type {\n",
       "        vertical-align: middle;\n",
       "    }\n",
       "\n",
       "    .dataframe tbody tr th {\n",
       "        vertical-align: top;\n",
       "    }\n",
       "\n",
       "    .dataframe thead th {\n",
       "        text-align: right;\n",
       "    }\n",
       "</style>\n",
       "<table border=\"1\" class=\"dataframe\">\n",
       "  <thead>\n",
       "    <tr style=\"text-align: right;\">\n",
       "      <th></th>\n",
       "      <th>nan</th>\n",
       "      <th>nan_%</th>\n",
       "      <th>uniq</th>\n",
       "      <th>uniq_%</th>\n",
       "      <th>dup</th>\n",
       "      <th>dup_%</th>\n",
       "    </tr>\n",
       "  </thead>\n",
       "  <tbody>\n",
       "    <tr>\n",
       "      <th>object_of_emotion</th>\n",
       "      <td>5802</td>\n",
       "      <td>63.81</td>\n",
       "      <td>9</td>\n",
       "      <td>0.10</td>\n",
       "      <td>22</td>\n",
       "      <td>0.24</td>\n",
       "    </tr>\n",
       "    <tr>\n",
       "      <th>tweet_text</th>\n",
       "      <td>1</td>\n",
       "      <td>0.01</td>\n",
       "      <td>9065</td>\n",
       "      <td>99.69</td>\n",
       "      <td>22</td>\n",
       "      <td>0.24</td>\n",
       "    </tr>\n",
       "    <tr>\n",
       "      <th>emotion</th>\n",
       "      <td>0</td>\n",
       "      <td>0.00</td>\n",
       "      <td>4</td>\n",
       "      <td>0.04</td>\n",
       "      <td>22</td>\n",
       "      <td>0.24</td>\n",
       "    </tr>\n",
       "  </tbody>\n",
       "</table>\n",
       "</div>"
      ],
      "text/plain": [
       "                    nan  nan_%  uniq  uniq_%  dup  dup_%\n",
       "object_of_emotion  5802  63.81     9    0.10   22   0.24\n",
       "tweet_text            1   0.01  9065   99.69   22   0.24\n",
       "emotion               0   0.00     4    0.04   22   0.24"
      ]
     },
     "execution_count": 27,
     "metadata": {},
     "output_type": "execute_result"
    },
    {
     "data": {
      "application/javascript": [
       "\n",
       "            setTimeout(function() {\n",
       "                var nbb_cell_id = 27;\n",
       "                var nbb_unformatted_code = \"cleaning.info(df)\";\n",
       "                var nbb_formatted_code = \"cleaning.info(df)\";\n",
       "                var nbb_cells = Jupyter.notebook.get_cells();\n",
       "                for (var i = 0; i < nbb_cells.length; ++i) {\n",
       "                    if (nbb_cells[i].input_prompt_number == nbb_cell_id) {\n",
       "                        if (nbb_cells[i].get_text() == nbb_unformatted_code) {\n",
       "                             nbb_cells[i].set_text(nbb_formatted_code);\n",
       "                        }\n",
       "                        break;\n",
       "                    }\n",
       "                }\n",
       "            }, 500);\n",
       "            "
      ],
      "text/plain": [
       "<IPython.core.display.Javascript object>"
      ]
     },
     "metadata": {},
     "output_type": "display_data"
    }
   ],
   "source": [
    "cleaning.info(df)"
   ]
  },
  {
   "cell_type": "code",
   "execution_count": 28,
   "metadata": {
    "ExecuteTime": {
     "end_time": "2021-06-14T07:18:48.594099Z",
     "start_time": "2021-06-14T07:18:48.510097Z"
    }
   },
   "outputs": [
    {
     "data": {
      "text/html": [
       "<div>\n",
       "<style scoped>\n",
       "    .dataframe tbody tr th:only-of-type {\n",
       "        vertical-align: middle;\n",
       "    }\n",
       "\n",
       "    .dataframe tbody tr th {\n",
       "        vertical-align: top;\n",
       "    }\n",
       "\n",
       "    .dataframe thead th {\n",
       "        text-align: right;\n",
       "    }\n",
       "</style>\n",
       "<table border=\"1\" class=\"dataframe\">\n",
       "  <thead>\n",
       "    <tr style=\"text-align: right;\">\n",
       "      <th></th>\n",
       "      <th>nan</th>\n",
       "      <th>nan_%</th>\n",
       "      <th>uniq</th>\n",
       "      <th>uniq_%</th>\n",
       "      <th>dup</th>\n",
       "      <th>dup_%</th>\n",
       "    </tr>\n",
       "  </thead>\n",
       "  <tbody>\n",
       "    <tr>\n",
       "      <th>object_of_emotion</th>\n",
       "      <td>5801</td>\n",
       "      <td>63.8</td>\n",
       "      <td>9</td>\n",
       "      <td>0.10</td>\n",
       "      <td>22</td>\n",
       "      <td>0.24</td>\n",
       "    </tr>\n",
       "    <tr>\n",
       "      <th>tweet_text</th>\n",
       "      <td>0</td>\n",
       "      <td>0.0</td>\n",
       "      <td>9065</td>\n",
       "      <td>99.70</td>\n",
       "      <td>22</td>\n",
       "      <td>0.24</td>\n",
       "    </tr>\n",
       "    <tr>\n",
       "      <th>emotion</th>\n",
       "      <td>0</td>\n",
       "      <td>0.0</td>\n",
       "      <td>4</td>\n",
       "      <td>0.04</td>\n",
       "      <td>22</td>\n",
       "      <td>0.24</td>\n",
       "    </tr>\n",
       "  </tbody>\n",
       "</table>\n",
       "</div>"
      ],
      "text/plain": [
       "                    nan  nan_%  uniq  uniq_%  dup  dup_%\n",
       "object_of_emotion  5801   63.8     9    0.10   22   0.24\n",
       "tweet_text            0    0.0  9065   99.70   22   0.24\n",
       "emotion               0    0.0     4    0.04   22   0.24"
      ]
     },
     "execution_count": 28,
     "metadata": {},
     "output_type": "execute_result"
    },
    {
     "data": {
      "application/javascript": [
       "\n",
       "            setTimeout(function() {\n",
       "                var nbb_cell_id = 28;\n",
       "                var nbb_unformatted_code = \"# Slice out the non-null tweets\\ndf = df.loc[~df.tweet_text.isna()]\\ncleaning.info(df)\";\n",
       "                var nbb_formatted_code = \"# Slice out the non-null tweets\\ndf = df.loc[~df.tweet_text.isna()]\\ncleaning.info(df)\";\n",
       "                var nbb_cells = Jupyter.notebook.get_cells();\n",
       "                for (var i = 0; i < nbb_cells.length; ++i) {\n",
       "                    if (nbb_cells[i].input_prompt_number == nbb_cell_id) {\n",
       "                        if (nbb_cells[i].get_text() == nbb_unformatted_code) {\n",
       "                             nbb_cells[i].set_text(nbb_formatted_code);\n",
       "                        }\n",
       "                        break;\n",
       "                    }\n",
       "                }\n",
       "            }, 500);\n",
       "            "
      ],
      "text/plain": [
       "<IPython.core.display.Javascript object>"
      ]
     },
     "metadata": {},
     "output_type": "display_data"
    }
   ],
   "source": [
    "# Slice out the non-null tweets\n",
    "df = df.loc[~df.tweet_text.isna()]\n",
    "cleaning.info(df)"
   ]
  },
  {
   "cell_type": "markdown",
   "metadata": {},
   "source": [
    "Looks like I was roughly (though not entirely) correct that the NaN values correspond to the 'None' Category."
   ]
  },
  {
   "cell_type": "code",
   "execution_count": 29,
   "metadata": {
    "ExecuteTime": {
     "end_time": "2021-06-14T07:18:48.671097Z",
     "start_time": "2021-06-14T07:18:48.595097Z"
    }
   },
   "outputs": [
    {
     "data": {
      "text/html": [
       "<div>\n",
       "<style scoped>\n",
       "    .dataframe tbody tr th:only-of-type {\n",
       "        vertical-align: middle;\n",
       "    }\n",
       "\n",
       "    .dataframe tbody tr th {\n",
       "        vertical-align: top;\n",
       "    }\n",
       "\n",
       "    .dataframe thead th {\n",
       "        text-align: right;\n",
       "    }\n",
       "</style>\n",
       "<table border=\"1\" class=\"dataframe\">\n",
       "  <thead>\n",
       "    <tr style=\"text-align: right;\">\n",
       "      <th></th>\n",
       "      <th>tweet_text</th>\n",
       "      <th>object_of_emotion</th>\n",
       "      <th>emotion</th>\n",
       "    </tr>\n",
       "  </thead>\n",
       "  <tbody>\n",
       "    <tr>\n",
       "      <th>5840</th>\n",
       "      <td>RT @mention Google launching check in service ...</td>\n",
       "      <td>NaN</td>\n",
       "      <td>Positive</td>\n",
       "    </tr>\n",
       "    <tr>\n",
       "      <th>1904</th>\n",
       "      <td>@mention after a few days of #sxsw you still t...</td>\n",
       "      <td>NaN</td>\n",
       "      <td>None</td>\n",
       "    </tr>\n",
       "    <tr>\n",
       "      <th>3893</th>\n",
       "      <td>#sxsw - Missed Marissa Mayer @mention yesterda...</td>\n",
       "      <td>NaN</td>\n",
       "      <td>None</td>\n",
       "    </tr>\n",
       "    <tr>\n",
       "      <th>6866</th>\n",
       "      <td>RT @mention Want a taste of the artists at thi...</td>\n",
       "      <td>NaN</td>\n",
       "      <td>None</td>\n",
       "    </tr>\n",
       "    <tr>\n",
       "      <th>4748</th>\n",
       "      <td>iPad 2 Contest- Join actsofsharing.com and sta...</td>\n",
       "      <td>NaN</td>\n",
       "      <td>None</td>\n",
       "    </tr>\n",
       "    <tr>\n",
       "      <th>5242</th>\n",
       "      <td>RT @mention #LolShow Podcast w/ @mention @ment...</td>\n",
       "      <td>NaN</td>\n",
       "      <td>None</td>\n",
       "    </tr>\n",
       "    <tr>\n",
       "      <th>3687</th>\n",
       "      <td>a #sxsw find... love @mention #sxswi {link} #i...</td>\n",
       "      <td>NaN</td>\n",
       "      <td>None</td>\n",
       "    </tr>\n",
       "    <tr>\n",
       "      <th>5392</th>\n",
       "      <td>RT @mention Anna's Social Media Picks of the W...</td>\n",
       "      <td>NaN</td>\n",
       "      <td>None</td>\n",
       "    </tr>\n",
       "    <tr>\n",
       "      <th>2602</th>\n",
       "      <td>Or all the above? RT @mention setting up temp ...</td>\n",
       "      <td>NaN</td>\n",
       "      <td>None</td>\n",
       "    </tr>\n",
       "    <tr>\n",
       "      <th>5025</th>\n",
       "      <td>RT @mention</td>\n",
       "      <td>NaN</td>\n",
       "      <td>None</td>\n",
       "    </tr>\n",
       "  </tbody>\n",
       "</table>\n",
       "</div>"
      ],
      "text/plain": [
       "                                             tweet_text object_of_emotion  \\\n",
       "5840  RT @mention Google launching check in service ...               NaN   \n",
       "1904  @mention after a few days of #sxsw you still t...               NaN   \n",
       "3893  #sxsw - Missed Marissa Mayer @mention yesterda...               NaN   \n",
       "6866  RT @mention Want a taste of the artists at thi...               NaN   \n",
       "4748  iPad 2 Contest- Join actsofsharing.com and sta...               NaN   \n",
       "5242  RT @mention #LolShow Podcast w/ @mention @ment...               NaN   \n",
       "3687  a #sxsw find... love @mention #sxswi {link} #i...               NaN   \n",
       "5392  RT @mention Anna's Social Media Picks of the W...               NaN   \n",
       "2602  Or all the above? RT @mention setting up temp ...               NaN   \n",
       "5025                                        RT @mention               NaN   \n",
       "\n",
       "       emotion  \n",
       "5840  Positive  \n",
       "1904      None  \n",
       "3893      None  \n",
       "6866      None  \n",
       "4748      None  \n",
       "5242      None  \n",
       "3687      None  \n",
       "5392      None  \n",
       "2602      None  \n",
       "5025      None  "
      ]
     },
     "execution_count": 29,
     "metadata": {},
     "output_type": "execute_result"
    },
    {
     "data": {
      "application/javascript": [
       "\n",
       "            setTimeout(function() {\n",
       "                var nbb_cell_id = 29;\n",
       "                var nbb_unformatted_code = \"null_rows = cleaning.nan_rows(df)\\nnull_rows.sample(10, random_state=55)\";\n",
       "                var nbb_formatted_code = \"null_rows = cleaning.nan_rows(df)\\nnull_rows.sample(10, random_state=55)\";\n",
       "                var nbb_cells = Jupyter.notebook.get_cells();\n",
       "                for (var i = 0; i < nbb_cells.length; ++i) {\n",
       "                    if (nbb_cells[i].input_prompt_number == nbb_cell_id) {\n",
       "                        if (nbb_cells[i].get_text() == nbb_unformatted_code) {\n",
       "                             nbb_cells[i].set_text(nbb_formatted_code);\n",
       "                        }\n",
       "                        break;\n",
       "                    }\n",
       "                }\n",
       "            }, 500);\n",
       "            "
      ],
      "text/plain": [
       "<IPython.core.display.Javascript object>"
      ]
     },
     "metadata": {},
     "output_type": "display_data"
    }
   ],
   "source": [
    "null_rows = cleaning.nan_rows(df)\n",
    "null_rows.sample(10, random_state=55)"
   ]
  },
  {
   "cell_type": "code",
   "execution_count": 30,
   "metadata": {
    "ExecuteTime": {
     "end_time": "2021-06-14T07:18:48.748096Z",
     "start_time": "2021-06-14T07:18:48.672099Z"
    }
   },
   "outputs": [
    {
     "data": {
      "text/html": [
       "<div>\n",
       "<style scoped>\n",
       "    .dataframe tbody tr th:only-of-type {\n",
       "        vertical-align: middle;\n",
       "    }\n",
       "\n",
       "    .dataframe tbody tr th {\n",
       "        vertical-align: top;\n",
       "    }\n",
       "\n",
       "    .dataframe thead th {\n",
       "        text-align: right;\n",
       "    }\n",
       "</style>\n",
       "<table border=\"1\" class=\"dataframe\">\n",
       "  <thead>\n",
       "    <tr style=\"text-align: right;\">\n",
       "      <th></th>\n",
       "      <th>tweet_text</th>\n",
       "      <th>object_of_emotion</th>\n",
       "      <th>emotion</th>\n",
       "    </tr>\n",
       "  </thead>\n",
       "  <tbody>\n",
       "    <tr>\n",
       "      <th>46</th>\n",
       "      <td>Hand-Held ���Hobo�۪: Drafthouse launches ���Ho...</td>\n",
       "      <td>NaN</td>\n",
       "      <td>Positive</td>\n",
       "    </tr>\n",
       "    <tr>\n",
       "      <th>64</th>\n",
       "      <td>Again? RT @mention Line at the Apple store is ...</td>\n",
       "      <td>NaN</td>\n",
       "      <td>Negative</td>\n",
       "    </tr>\n",
       "    <tr>\n",
       "      <th>68</th>\n",
       "      <td>Boooo! RT @mention Flipboard is developing an ...</td>\n",
       "      <td>NaN</td>\n",
       "      <td>Negative</td>\n",
       "    </tr>\n",
       "    <tr>\n",
       "      <th>90</th>\n",
       "      <td>Thanks to @mention for publishing the news of ...</td>\n",
       "      <td>NaN</td>\n",
       "      <td>Uncertain</td>\n",
       "    </tr>\n",
       "    <tr>\n",
       "      <th>102</th>\n",
       "      <td>���@mention &amp;quot;Apple has opened a pop-up st...</td>\n",
       "      <td>NaN</td>\n",
       "      <td>Uncertain</td>\n",
       "    </tr>\n",
       "  </tbody>\n",
       "</table>\n",
       "</div>"
      ],
      "text/plain": [
       "                                            tweet_text object_of_emotion  \\\n",
       "46   Hand-Held ���Hobo�۪: Drafthouse launches ���Ho...               NaN   \n",
       "64   Again? RT @mention Line at the Apple store is ...               NaN   \n",
       "68   Boooo! RT @mention Flipboard is developing an ...               NaN   \n",
       "90   Thanks to @mention for publishing the news of ...               NaN   \n",
       "102  ���@mention &quot;Apple has opened a pop-up st...               NaN   \n",
       "\n",
       "       emotion  \n",
       "46    Positive  \n",
       "64    Negative  \n",
       "68    Negative  \n",
       "90   Uncertain  \n",
       "102  Uncertain  "
      ]
     },
     "metadata": {},
     "output_type": "display_data"
    },
    {
     "data": {
      "text/plain": [
       "(504, 3)"
      ]
     },
     "metadata": {},
     "output_type": "display_data"
    },
    {
     "data": {
      "application/javascript": [
       "\n",
       "            setTimeout(function() {\n",
       "                var nbb_cell_id = 30;\n",
       "                var nbb_unformatted_code = \"emo_no_obj = null_rows.loc[null_rows.emotion != \\\"None\\\"]\\ndisplay(emo_no_obj.head(), emo_no_obj.shape)\";\n",
       "                var nbb_formatted_code = \"emo_no_obj = null_rows.loc[null_rows.emotion != \\\"None\\\"]\\ndisplay(emo_no_obj.head(), emo_no_obj.shape)\";\n",
       "                var nbb_cells = Jupyter.notebook.get_cells();\n",
       "                for (var i = 0; i < nbb_cells.length; ++i) {\n",
       "                    if (nbb_cells[i].input_prompt_number == nbb_cell_id) {\n",
       "                        if (nbb_cells[i].get_text() == nbb_unformatted_code) {\n",
       "                             nbb_cells[i].set_text(nbb_formatted_code);\n",
       "                        }\n",
       "                        break;\n",
       "                    }\n",
       "                }\n",
       "            }, 500);\n",
       "            "
      ],
      "text/plain": [
       "<IPython.core.display.Javascript object>"
      ]
     },
     "metadata": {},
     "output_type": "display_data"
    }
   ],
   "source": [
    "emo_no_obj = null_rows.loc[null_rows.emotion != \"None\"]\n",
    "display(emo_no_obj.head(), emo_no_obj.shape)"
   ]
  },
  {
   "cell_type": "code",
   "execution_count": 31,
   "metadata": {
    "ExecuteTime": {
     "end_time": "2021-06-14T07:18:48.828098Z",
     "start_time": "2021-06-14T07:18:48.749099Z"
    }
   },
   "outputs": [
    {
     "data": {
      "text/plain": [
       "google         170\n",
       "ipad           138\n",
       "apple          108\n",
       "iphone          86\n",
       "ipad2           31\n",
       "android         21\n",
       "iphone app       9\n",
       "ipad app         4\n",
       "ipad1            1\n",
       "android app      1\n",
       "Name: brands, dtype: int64"
      ]
     },
     "metadata": {},
     "output_type": "display_data"
    },
    {
     "data": {
      "text/plain": [
       "569"
      ]
     },
     "metadata": {},
     "output_type": "display_data"
    },
    {
     "data": {
      "application/javascript": [
       "\n",
       "            setTimeout(function() {\n",
       "                var nbb_cell_id = 31;\n",
       "                var nbb_unformatted_code = \"# Create regex for finding each brand\\nre_apple = r\\\"ipad\\\\d?\\\\s+app|ipad\\\\d?|iphone\\\\s+app|iphone|apple\\\"\\nre_google = r\\\"android\\\\s+app|android|google\\\"\\n\\n# Find all brand/product name occurrences for each brand\\nfindings = language.identify_brands(\\n    re_apple,\\n    re_google,\\n    docs=emo_no_obj[\\\"tweet_text\\\"],\\n)\\n\\n# Convert to lowercase\\nfindings = findings.str.lower()\\n\\n# View results\\ndisplay(\\n    findings.value_counts(),\\n    findings.size,\\n)\";\n",
       "                var nbb_formatted_code = \"# Create regex for finding each brand\\nre_apple = r\\\"ipad\\\\d?\\\\s+app|ipad\\\\d?|iphone\\\\s+app|iphone|apple\\\"\\nre_google = r\\\"android\\\\s+app|android|google\\\"\\n\\n# Find all brand/product name occurrences for each brand\\nfindings = language.identify_brands(\\n    re_apple,\\n    re_google,\\n    docs=emo_no_obj[\\\"tweet_text\\\"],\\n)\\n\\n# Convert to lowercase\\nfindings = findings.str.lower()\\n\\n# View results\\ndisplay(\\n    findings.value_counts(),\\n    findings.size,\\n)\";\n",
       "                var nbb_cells = Jupyter.notebook.get_cells();\n",
       "                for (var i = 0; i < nbb_cells.length; ++i) {\n",
       "                    if (nbb_cells[i].input_prompt_number == nbb_cell_id) {\n",
       "                        if (nbb_cells[i].get_text() == nbb_unformatted_code) {\n",
       "                             nbb_cells[i].set_text(nbb_formatted_code);\n",
       "                        }\n",
       "                        break;\n",
       "                    }\n",
       "                }\n",
       "            }, 500);\n",
       "            "
      ],
      "text/plain": [
       "<IPython.core.display.Javascript object>"
      ]
     },
     "metadata": {},
     "output_type": "display_data"
    }
   ],
   "source": [
    "# Create regex for finding each brand\n",
    "re_apple = r\"ipad\\d?\\s+app|ipad\\d?|iphone\\s+app|iphone|apple\"\n",
    "re_google = r\"android\\s+app|android|google\"\n",
    "\n",
    "# Find all brand/product name occurrences for each brand\n",
    "findings = language.identify_brands(\n",
    "    re_apple,\n",
    "    re_google,\n",
    "    docs=emo_no_obj[\"tweet_text\"],\n",
    ")\n",
    "\n",
    "# Convert to lowercase\n",
    "findings = findings.str.lower()\n",
    "\n",
    "# View results\n",
    "display(\n",
    "    findings.value_counts(),\n",
    "    findings.size,\n",
    ")"
   ]
  },
  {
   "cell_type": "code",
   "execution_count": 32,
   "metadata": {
    "ExecuteTime": {
     "end_time": "2021-06-14T07:18:49.049096Z",
     "start_time": "2021-06-14T07:18:48.829097Z"
    }
   },
   "outputs": [
    {
     "data": {
      "text/html": [
       "<div>\n",
       "<style scoped>\n",
       "    .dataframe tbody tr th:only-of-type {\n",
       "        vertical-align: middle;\n",
       "    }\n",
       "\n",
       "    .dataframe tbody tr th {\n",
       "        vertical-align: top;\n",
       "    }\n",
       "\n",
       "    .dataframe thead th {\n",
       "        text-align: right;\n",
       "    }\n",
       "</style>\n",
       "<table border=\"1\" class=\"dataframe\">\n",
       "  <thead>\n",
       "    <tr style=\"text-align: right;\">\n",
       "      <th></th>\n",
       "      <th>original</th>\n",
       "      <th>extracted</th>\n",
       "      <th>score</th>\n",
       "    </tr>\n",
       "  </thead>\n",
       "  <tbody>\n",
       "    <tr>\n",
       "      <th>4831</th>\n",
       "      <td>ipad2</td>\n",
       "      <td>iPad</td>\n",
       "      <td>89</td>\n",
       "    </tr>\n",
       "    <tr>\n",
       "      <th>5586</th>\n",
       "      <td>ipad1</td>\n",
       "      <td>iPad</td>\n",
       "      <td>89</td>\n",
       "    </tr>\n",
       "    <tr>\n",
       "      <th>5586</th>\n",
       "      <td>ipad2</td>\n",
       "      <td>iPad</td>\n",
       "      <td>89</td>\n",
       "    </tr>\n",
       "    <tr>\n",
       "      <th>5401</th>\n",
       "      <td>ipad2</td>\n",
       "      <td>iPad</td>\n",
       "      <td>89</td>\n",
       "    </tr>\n",
       "    <tr>\n",
       "      <th>5240</th>\n",
       "      <td>ipad2</td>\n",
       "      <td>iPad</td>\n",
       "      <td>89</td>\n",
       "    </tr>\n",
       "    <tr>\n",
       "      <th>...</th>\n",
       "      <td>...</td>\n",
       "      <td>...</td>\n",
       "      <td>...</td>\n",
       "    </tr>\n",
       "    <tr>\n",
       "      <th>3224</th>\n",
       "      <td>ipad</td>\n",
       "      <td>iPad</td>\n",
       "      <td>100</td>\n",
       "    </tr>\n",
       "    <tr>\n",
       "      <th>3265</th>\n",
       "      <td>google</td>\n",
       "      <td>Google</td>\n",
       "      <td>100</td>\n",
       "    </tr>\n",
       "    <tr>\n",
       "      <th>3267</th>\n",
       "      <td>ipad</td>\n",
       "      <td>iPad</td>\n",
       "      <td>100</td>\n",
       "    </tr>\n",
       "    <tr>\n",
       "      <th>3145</th>\n",
       "      <td>google</td>\n",
       "      <td>Google</td>\n",
       "      <td>100</td>\n",
       "    </tr>\n",
       "    <tr>\n",
       "      <th>9058</th>\n",
       "      <td>apple</td>\n",
       "      <td>Apple</td>\n",
       "      <td>100</td>\n",
       "    </tr>\n",
       "  </tbody>\n",
       "</table>\n",
       "<p>569 rows × 3 columns</p>\n",
       "</div>"
      ],
      "text/plain": [
       "     original extracted  score\n",
       "4831    ipad2      iPad     89\n",
       "5586    ipad1      iPad     89\n",
       "5586    ipad2      iPad     89\n",
       "5401    ipad2      iPad     89\n",
       "5240    ipad2      iPad     89\n",
       "...       ...       ...    ...\n",
       "3224     ipad      iPad    100\n",
       "3265   google    Google    100\n",
       "3267     ipad      iPad    100\n",
       "3145   google    Google    100\n",
       "9058    apple     Apple    100\n",
       "\n",
       "[569 rows x 3 columns]"
      ]
     },
     "execution_count": 32,
     "metadata": {},
     "output_type": "execute_result"
    },
    {
     "data": {
      "application/javascript": [
       "\n",
       "            setTimeout(function() {\n",
       "                var nbb_cell_id = 32;\n",
       "                var nbb_unformatted_code = \"# Rename Apple apps to match categories defined previously\\nfindings = findings.str.replace(\\n    r\\\"ipad\\\\s+app|iphone\\\\s+app\\\", \\\"ios app\\\", case=False, regex=True\\n)\\n\\n# Fuzzy match with previously defined categories\\nfindings = language.fuzzy_match(findings, df[\\\"object_of_emotion\\\"].cat.categories)\\n\\n# View results\\nfindings.sort_values(\\\"score\\\")\";\n",
       "                var nbb_formatted_code = \"# Rename Apple apps to match categories defined previously\\nfindings = findings.str.replace(\\n    r\\\"ipad\\\\s+app|iphone\\\\s+app\\\", \\\"ios app\\\", case=False, regex=True\\n)\\n\\n# Fuzzy match with previously defined categories\\nfindings = language.fuzzy_match(findings, df[\\\"object_of_emotion\\\"].cat.categories)\\n\\n# View results\\nfindings.sort_values(\\\"score\\\")\";\n",
       "                var nbb_cells = Jupyter.notebook.get_cells();\n",
       "                for (var i = 0; i < nbb_cells.length; ++i) {\n",
       "                    if (nbb_cells[i].input_prompt_number == nbb_cell_id) {\n",
       "                        if (nbb_cells[i].get_text() == nbb_unformatted_code) {\n",
       "                             nbb_cells[i].set_text(nbb_formatted_code);\n",
       "                        }\n",
       "                        break;\n",
       "                    }\n",
       "                }\n",
       "            }, 500);\n",
       "            "
      ],
      "text/plain": [
       "<IPython.core.display.Javascript object>"
      ]
     },
     "metadata": {},
     "output_type": "display_data"
    }
   ],
   "source": [
    "# Rename Apple apps to match categories defined previously\n",
    "findings = findings.str.replace(\n",
    "    r\"ipad\\s+app|iphone\\s+app\", \"ios app\", case=False, regex=True\n",
    ")\n",
    "\n",
    "# Fuzzy match with previously defined categories\n",
    "findings = language.fuzzy_match(findings, df[\"object_of_emotion\"].cat.categories)\n",
    "\n",
    "# View results\n",
    "findings.sort_values(\"score\")"
   ]
  },
  {
   "cell_type": "code",
   "execution_count": 33,
   "metadata": {
    "ExecuteTime": {
     "end_time": "2021-06-14T07:18:49.258097Z",
     "start_time": "2021-06-14T07:18:49.050097Z"
    },
    "run_control": {
     "marked": false
    }
   },
   "outputs": [
    {
     "data": {
      "text/html": [
       "<div>\n",
       "<style scoped>\n",
       "    .dataframe tbody tr th:only-of-type {\n",
       "        vertical-align: middle;\n",
       "    }\n",
       "\n",
       "    .dataframe tbody tr th {\n",
       "        vertical-align: top;\n",
       "    }\n",
       "\n",
       "    .dataframe thead th {\n",
       "        text-align: right;\n",
       "    }\n",
       "</style>\n",
       "<table border=\"1\" class=\"dataframe\">\n",
       "  <thead>\n",
       "    <tr style=\"text-align: right;\">\n",
       "      <th></th>\n",
       "      <th>tweet_text</th>\n",
       "      <th>object_of_emotion</th>\n",
       "      <th>emotion</th>\n",
       "    </tr>\n",
       "  </thead>\n",
       "  <tbody>\n",
       "    <tr>\n",
       "      <th>417</th>\n",
       "      <td>Shipments daily - follow @mention #AppleATXdt ...</td>\n",
       "      <td>iPad</td>\n",
       "      <td>Negative</td>\n",
       "    </tr>\n",
       "    <tr>\n",
       "      <th>6133</th>\n",
       "      <td>RT @mention Interesting --&amp;gt;&amp;gt; RT @mention...</td>\n",
       "      <td>Google</td>\n",
       "      <td>Positive</td>\n",
       "    </tr>\n",
       "    <tr>\n",
       "      <th>3267</th>\n",
       "      <td>Food4Thought...juxtaposed on my iPad #SXSW is ...</td>\n",
       "      <td>iPad</td>\n",
       "      <td>Positive</td>\n",
       "    </tr>\n",
       "    <tr>\n",
       "      <th>3551</th>\n",
       "      <td>@mention I heard you got the first IPad 2 at @...</td>\n",
       "      <td>iPad</td>\n",
       "      <td>Positive</td>\n",
       "    </tr>\n",
       "    <tr>\n",
       "      <th>559</th>\n",
       "      <td>GSD&amp;amp;M Google #sxsw party with @mention is ...</td>\n",
       "      <td>Google</td>\n",
       "      <td>Positive</td>\n",
       "    </tr>\n",
       "    <tr>\n",
       "      <th>2116</th>\n",
       "      <td>iPhone crashed in front of #sxsw Apple pop-up....</td>\n",
       "      <td>iPhone</td>\n",
       "      <td>Uncertain</td>\n",
       "    </tr>\n",
       "    <tr>\n",
       "      <th>2447</th>\n",
       "      <td>Near Field Communication already here on andro...</td>\n",
       "      <td>Android</td>\n",
       "      <td>Positive</td>\n",
       "    </tr>\n",
       "    <tr>\n",
       "      <th>2334</th>\n",
       "      <td>Saw a bunch of security guards playing with iP...</td>\n",
       "      <td>iPad</td>\n",
       "      <td>Uncertain</td>\n",
       "    </tr>\n",
       "    <tr>\n",
       "      <th>8695</th>\n",
       "      <td>Bad news update: the pop-up Apple Store is out...</td>\n",
       "      <td>iPad</td>\n",
       "      <td>Negative</td>\n",
       "    </tr>\n",
       "    <tr>\n",
       "      <th>4399</th>\n",
       "      <td>Sound of My Voice was shot exploiting Apple &amp;a...</td>\n",
       "      <td>Apple</td>\n",
       "      <td>Positive</td>\n",
       "    </tr>\n",
       "  </tbody>\n",
       "</table>\n",
       "</div>"
      ],
      "text/plain": [
       "                                             tweet_text object_of_emotion  \\\n",
       "417   Shipments daily - follow @mention #AppleATXdt ...              iPad   \n",
       "6133  RT @mention Interesting --&gt;&gt; RT @mention...            Google   \n",
       "3267  Food4Thought...juxtaposed on my iPad #SXSW is ...              iPad   \n",
       "3551  @mention I heard you got the first IPad 2 at @...              iPad   \n",
       "559   GSD&amp;M Google #sxsw party with @mention is ...            Google   \n",
       "2116  iPhone crashed in front of #sxsw Apple pop-up....            iPhone   \n",
       "2447  Near Field Communication already here on andro...           Android   \n",
       "2334  Saw a bunch of security guards playing with iP...              iPad   \n",
       "8695  Bad news update: the pop-up Apple Store is out...              iPad   \n",
       "4399  Sound of My Voice was shot exploiting Apple &a...             Apple   \n",
       "\n",
       "        emotion  \n",
       "417    Negative  \n",
       "6133   Positive  \n",
       "3267   Positive  \n",
       "3551   Positive  \n",
       "559    Positive  \n",
       "2116  Uncertain  \n",
       "2447   Positive  \n",
       "2334  Uncertain  \n",
       "8695   Negative  \n",
       "4399   Positive  "
      ]
     },
     "execution_count": 33,
     "metadata": {},
     "output_type": "execute_result"
    },
    {
     "data": {
      "application/javascript": [
       "\n",
       "            setTimeout(function() {\n",
       "                var nbb_cell_id = 33;\n",
       "                var nbb_unformatted_code = \"# Define sort order, i.e. fill priority\\norder = [\\n    \\\"iOS App\\\",\\n    \\\"Android App\\\",\\n    \\\"iPhone\\\",\\n    \\\"iPad\\\",\\n    \\\"Android\\\",\\n    \\\"Apple\\\",\\n    \\\"Google\\\",\\n]\\n\\n# Sort values in reverse order\\nutils.explicit_sort(\\n    findings,\\n    order=order,\\n    by=\\\"extracted\\\",\\n    ascending=False,\\n    inplace=True,\\n)\\n\\n# Fill in reverse, overwriting lower priority values\\nfor i, brand in findings.extracted.items():\\n    df.at[i, \\\"object_of_emotion\\\"] = brand\\ndf.loc[findings.index].sample(10, random_state=2389)\";\n",
       "                var nbb_formatted_code = \"# Define sort order, i.e. fill priority\\norder = [\\n    \\\"iOS App\\\",\\n    \\\"Android App\\\",\\n    \\\"iPhone\\\",\\n    \\\"iPad\\\",\\n    \\\"Android\\\",\\n    \\\"Apple\\\",\\n    \\\"Google\\\",\\n]\\n\\n# Sort values in reverse order\\nutils.explicit_sort(\\n    findings,\\n    order=order,\\n    by=\\\"extracted\\\",\\n    ascending=False,\\n    inplace=True,\\n)\\n\\n# Fill in reverse, overwriting lower priority values\\nfor i, brand in findings.extracted.items():\\n    df.at[i, \\\"object_of_emotion\\\"] = brand\\ndf.loc[findings.index].sample(10, random_state=2389)\";\n",
       "                var nbb_cells = Jupyter.notebook.get_cells();\n",
       "                for (var i = 0; i < nbb_cells.length; ++i) {\n",
       "                    if (nbb_cells[i].input_prompt_number == nbb_cell_id) {\n",
       "                        if (nbb_cells[i].get_text() == nbb_unformatted_code) {\n",
       "                             nbb_cells[i].set_text(nbb_formatted_code);\n",
       "                        }\n",
       "                        break;\n",
       "                    }\n",
       "                }\n",
       "            }, 500);\n",
       "            "
      ],
      "text/plain": [
       "<IPython.core.display.Javascript object>"
      ]
     },
     "metadata": {},
     "output_type": "display_data"
    }
   ],
   "source": [
    "# Define sort order, i.e. fill priority\n",
    "order = [\n",
    "    \"iOS App\",\n",
    "    \"Android App\",\n",
    "    \"iPhone\",\n",
    "    \"iPad\",\n",
    "    \"Android\",\n",
    "    \"Apple\",\n",
    "    \"Google\",\n",
    "]\n",
    "\n",
    "# Sort values in reverse order\n",
    "utils.explicit_sort(\n",
    "    findings,\n",
    "    order=order,\n",
    "    by=\"extracted\",\n",
    "    ascending=False,\n",
    "    inplace=True,\n",
    ")\n",
    "\n",
    "# Fill in reverse, overwriting lower priority values\n",
    "for i, brand in findings.extracted.items():\n",
    "    df.at[i, \"object_of_emotion\"] = brand\n",
    "df.loc[findings.index].sample(10, random_state=2389)"
   ]
  },
  {
   "cell_type": "code",
   "execution_count": 160,
   "metadata": {
    "ExecuteTime": {
     "end_time": "2021-06-14T06:10:28.541215Z",
     "start_time": "2021-06-14T06:10:28.462211Z"
    },
    "scrolled": true
   },
   "outputs": [
    {
     "data": {
      "text/html": [
       "<div>\n",
       "<style scoped>\n",
       "    .dataframe tbody tr th:only-of-type {\n",
       "        vertical-align: middle;\n",
       "    }\n",
       "\n",
       "    .dataframe tbody tr th {\n",
       "        vertical-align: top;\n",
       "    }\n",
       "\n",
       "    .dataframe thead th {\n",
       "        text-align: right;\n",
       "    }\n",
       "</style>\n",
       "<table border=\"1\" class=\"dataframe\">\n",
       "  <thead>\n",
       "    <tr style=\"text-align: right;\">\n",
       "      <th></th>\n",
       "      <th>tweet_text</th>\n",
       "      <th>object_of_emotion</th>\n",
       "      <th>emotion</th>\n",
       "    </tr>\n",
       "  </thead>\n",
       "  <tbody>\n",
       "    <tr>\n",
       "      <th>63</th>\n",
       "      <td>#Smile RT @mention I think Apple's &amp;quot;pop-u...</td>\n",
       "      <td>Apple</td>\n",
       "      <td>None</td>\n",
       "    </tr>\n",
       "    <tr>\n",
       "      <th>265</th>\n",
       "      <td>The #SXSW Apple &amp;quot;pop-up&amp;quot; store was n...</td>\n",
       "      <td>Apple</td>\n",
       "      <td>None</td>\n",
       "    </tr>\n",
       "    <tr>\n",
       "      <th>317</th>\n",
       "      <td>I arrived at #sxsw and my @mention issue hasn'...</td>\n",
       "      <td>iOS App</td>\n",
       "      <td>None</td>\n",
       "    </tr>\n",
       "    <tr>\n",
       "      <th>558</th>\n",
       "      <td>haha. the google &amp;quot;Party like it's 1986&amp;qu...</td>\n",
       "      <td>Google</td>\n",
       "      <td>None</td>\n",
       "    </tr>\n",
       "    <tr>\n",
       "      <th>588</th>\n",
       "      <td>Diller on Google TV: &amp;quot;The first product w...</td>\n",
       "      <td>Other Google Product</td>\n",
       "      <td>None</td>\n",
       "    </tr>\n",
       "    <tr>\n",
       "      <th>...</th>\n",
       "      <td>...</td>\n",
       "      <td>...</td>\n",
       "      <td>...</td>\n",
       "    </tr>\n",
       "    <tr>\n",
       "      <th>8691</th>\n",
       "      <td>Apple popup store! #SXSW  @mention Apple Store...</td>\n",
       "      <td>Apple</td>\n",
       "      <td>None</td>\n",
       "    </tr>\n",
       "    <tr>\n",
       "      <th>8722</th>\n",
       "      <td>my wife just tried to call my ATT iphone, only...</td>\n",
       "      <td>iPhone</td>\n",
       "      <td>None</td>\n",
       "    </tr>\n",
       "    <tr>\n",
       "      <th>8849</th>\n",
       "      <td>We can't wait to give an iPad to someone at #s...</td>\n",
       "      <td>iPad</td>\n",
       "      <td>None</td>\n",
       "    </tr>\n",
       "    <tr>\n",
       "      <th>8902</th>\n",
       "      <td>@mention Which is to say iPad is going to be u...</td>\n",
       "      <td>iPad</td>\n",
       "      <td>None</td>\n",
       "    </tr>\n",
       "    <tr>\n",
       "      <th>9051</th>\n",
       "      <td>@mention You can get an iPad 1 for under $350 ...</td>\n",
       "      <td>iPad</td>\n",
       "      <td>None</td>\n",
       "    </tr>\n",
       "  </tbody>\n",
       "</table>\n",
       "<p>91 rows × 3 columns</p>\n",
       "</div>"
      ],
      "text/plain": [
       "                                             tweet_text     object_of_emotion  \\\n",
       "63    #Smile RT @mention I think Apple's &quot;pop-u...                 Apple   \n",
       "265   The #SXSW Apple &quot;pop-up&quot; store was n...                 Apple   \n",
       "317   I arrived at #sxsw and my @mention issue hasn'...               iOS App   \n",
       "558   haha. the google &quot;Party like it's 1986&qu...                Google   \n",
       "588   Diller on Google TV: &quot;The first product w...  Other Google Product   \n",
       "...                                                 ...                   ...   \n",
       "8691  Apple popup store! #SXSW  @mention Apple Store...                 Apple   \n",
       "8722  my wife just tried to call my ATT iphone, only...                iPhone   \n",
       "8849  We can't wait to give an iPad to someone at #s...                  iPad   \n",
       "8902  @mention Which is to say iPad is going to be u...                  iPad   \n",
       "9051  @mention You can get an iPad 1 for under $350 ...                  iPad   \n",
       "\n",
       "     emotion  \n",
       "63      None  \n",
       "265     None  \n",
       "317     None  \n",
       "558     None  \n",
       "588     None  \n",
       "...      ...  \n",
       "8691    None  \n",
       "8722    None  \n",
       "8849    None  \n",
       "8902    None  \n",
       "9051    None  \n",
       "\n",
       "[91 rows x 3 columns]"
      ]
     },
     "execution_count": 160,
     "metadata": {},
     "output_type": "execute_result"
    },
    {
     "data": {
      "application/javascript": [
       "\n",
       "            setTimeout(function() {\n",
       "                var nbb_cell_id = 160;\n",
       "                var nbb_unformatted_code = \"df.loc[(df.emotion == \\\"None\\\") & df.object_of_emotion.notnull()]\";\n",
       "                var nbb_formatted_code = \"df.loc[(df.emotion == \\\"None\\\") & df.object_of_emotion.notnull()]\";\n",
       "                var nbb_cells = Jupyter.notebook.get_cells();\n",
       "                for (var i = 0; i < nbb_cells.length; ++i) {\n",
       "                    if (nbb_cells[i].input_prompt_number == nbb_cell_id) {\n",
       "                        if (nbb_cells[i].get_text() == nbb_unformatted_code) {\n",
       "                             nbb_cells[i].set_text(nbb_formatted_code);\n",
       "                        }\n",
       "                        break;\n",
       "                    }\n",
       "                }\n",
       "            }, 500);\n",
       "            "
      ],
      "text/plain": [
       "<IPython.core.display.Javascript object>"
      ]
     },
     "metadata": {},
     "output_type": "display_data"
    }
   ],
   "source": [
    "df.loc[(df.emotion == \"None\") & df.object_of_emotion.notnull()]"
   ]
  },
  {
   "cell_type": "code",
   "execution_count": 9,
   "metadata": {
    "ExecuteTime": {
     "end_time": "2021-06-13T22:23:26.082209Z",
     "start_time": "2021-06-13T22:23:25.638860Z"
    }
   },
   "outputs": [
    {
     "data": {
      "image/png": "[encoded data removed]",
      "text/plain": [
       "<Figure size 1080x360 with 3 Axes>"
      ]
     },
     "metadata": {
      "needs_background": "light"
     },
     "output_type": "display_data"
    },
    {
     "data": {
      "application/javascript": [
       "\n",
       "            setTimeout(function() {\n",
       "                var nbb_cell_id = 9;\n",
       "                var nbb_unformatted_code = \"fig = plotting.multi_countplot(data=df.select_dtypes(\\\"category\\\"), normalize=1)\";\n",
       "                var nbb_formatted_code = \"fig = plotting.multi_countplot(data=df.select_dtypes(\\\"category\\\"), normalize=1)\";\n",
       "                var nbb_cells = Jupyter.notebook.get_cells();\n",
       "                for (var i = 0; i < nbb_cells.length; ++i) {\n",
       "                    if (nbb_cells[i].input_prompt_number == nbb_cell_id) {\n",
       "                        if (nbb_cells[i].get_text() == nbb_unformatted_code) {\n",
       "                             nbb_cells[i].set_text(nbb_formatted_code);\n",
       "                        }\n",
       "                        break;\n",
       "                    }\n",
       "                }\n",
       "            }, 500);\n",
       "            "
      ],
      "text/plain": [
       "<IPython.core.display.Javascript object>"
      ]
     },
     "metadata": {},
     "output_type": "display_data"
    }
   ],
   "source": [
    "fig = plotting.multi_countplot(data=df.select_dtypes(\"category\"), normalize=1)"
   ]
  },
  {
   "cell_type": "code",
   "execution_count": 44,
   "metadata": {
    "ExecuteTime": {
     "end_time": "2021-06-13T23:12:52.532491Z",
     "start_time": "2021-06-13T23:12:52.456490Z"
    }
   },
   "outputs": [
    {
     "data": {
      "text/html": [
       "<div>\n",
       "<style scoped>\n",
       "    .dataframe tbody tr th:only-of-type {\n",
       "        vertical-align: middle;\n",
       "    }\n",
       "\n",
       "    .dataframe tbody tr th {\n",
       "        vertical-align: top;\n",
       "    }\n",
       "\n",
       "    .dataframe thead th {\n",
       "        text-align: right;\n",
       "    }\n",
       "</style>\n",
       "<table border=\"1\" class=\"dataframe\">\n",
       "  <thead>\n",
       "    <tr style=\"text-align: right;\">\n",
       "      <th></th>\n",
       "      <th>tweet_text</th>\n",
       "      <th>object_of_emotion</th>\n",
       "      <th>emotion</th>\n",
       "    </tr>\n",
       "  </thead>\n",
       "  <tbody>\n",
       "    <tr>\n",
       "      <th>3962</th>\n",
       "      <td>#SXSW is just starting, #CTIA is around the co...</td>\n",
       "      <td>Android</td>\n",
       "      <td>Positive</td>\n",
       "    </tr>\n",
       "    <tr>\n",
       "      <th>468</th>\n",
       "      <td>Before It Even Begins, Apple Wins #SXSW {link}</td>\n",
       "      <td>Apple</td>\n",
       "      <td>Positive</td>\n",
       "    </tr>\n",
       "    <tr>\n",
       "      <th>2559</th>\n",
       "      <td>Counting down the days to #sxsw plus strong Ca...</td>\n",
       "      <td>Apple</td>\n",
       "      <td>Positive</td>\n",
       "    </tr>\n",
       "    <tr>\n",
       "      <th>776</th>\n",
       "      <td>Google to Launch Major New Social Network Call...</td>\n",
       "      <td>NaN</td>\n",
       "      <td>None</td>\n",
       "    </tr>\n",
       "    <tr>\n",
       "      <th>8483</th>\n",
       "      <td>I just noticed DST is coming this weekend. How...</td>\n",
       "      <td>iPhone</td>\n",
       "      <td>Negative</td>\n",
       "    </tr>\n",
       "    <tr>\n",
       "      <th>2232</th>\n",
       "      <td>Marissa Mayer: Google Will Connect the Digital...</td>\n",
       "      <td>NaN</td>\n",
       "      <td>None</td>\n",
       "    </tr>\n",
       "    <tr>\n",
       "      <th>8747</th>\n",
       "      <td>Need to buy an iPad2 while I'm in Austin at #s...</td>\n",
       "      <td>iPad</td>\n",
       "      <td>Positive</td>\n",
       "    </tr>\n",
       "    <tr>\n",
       "      <th>4897</th>\n",
       "      <td>Oh. My. God. The #SXSW app for iPad is pure, u...</td>\n",
       "      <td>iOS App</td>\n",
       "      <td>Positive</td>\n",
       "    </tr>\n",
       "    <tr>\n",
       "      <th>5884</th>\n",
       "      <td>RT @mention Google to Launch Major New Social ...</td>\n",
       "      <td>NaN</td>\n",
       "      <td>None</td>\n",
       "    </tr>\n",
       "    <tr>\n",
       "      <th>5882</th>\n",
       "      <td>RT @mention Google to Launch Major New Social ...</td>\n",
       "      <td>NaN</td>\n",
       "      <td>None</td>\n",
       "    </tr>\n",
       "    <tr>\n",
       "      <th>5881</th>\n",
       "      <td>RT @mention Google to Launch Major New Social ...</td>\n",
       "      <td>NaN</td>\n",
       "      <td>None</td>\n",
       "    </tr>\n",
       "    <tr>\n",
       "      <th>5883</th>\n",
       "      <td>RT @mention Google to Launch Major New Social ...</td>\n",
       "      <td>NaN</td>\n",
       "      <td>None</td>\n",
       "    </tr>\n",
       "    <tr>\n",
       "      <th>5885</th>\n",
       "      <td>RT @mention Google to Launch Major New Social ...</td>\n",
       "      <td>NaN</td>\n",
       "      <td>None</td>\n",
       "    </tr>\n",
       "    <tr>\n",
       "      <th>6297</th>\n",
       "      <td>RT @mention Marissa Mayer: Google Will Connect...</td>\n",
       "      <td>NaN</td>\n",
       "      <td>None</td>\n",
       "    </tr>\n",
       "    <tr>\n",
       "      <th>6299</th>\n",
       "      <td>RT @mention Marissa Mayer: Google Will Connect...</td>\n",
       "      <td>NaN</td>\n",
       "      <td>None</td>\n",
       "    </tr>\n",
       "    <tr>\n",
       "      <th>6296</th>\n",
       "      <td>RT @mention Marissa Mayer: Google Will Connect...</td>\n",
       "      <td>Google</td>\n",
       "      <td>Positive</td>\n",
       "    </tr>\n",
       "    <tr>\n",
       "      <th>6298</th>\n",
       "      <td>RT @mention Marissa Mayer: Google Will Connect...</td>\n",
       "      <td>Google</td>\n",
       "      <td>Positive</td>\n",
       "    </tr>\n",
       "    <tr>\n",
       "      <th>6300</th>\n",
       "      <td>RT @mention Marissa Mayer: Google Will Connect...</td>\n",
       "      <td>NaN</td>\n",
       "      <td>None</td>\n",
       "    </tr>\n",
       "    <tr>\n",
       "      <th>6546</th>\n",
       "      <td>RT @mention RT @mention Google to Launch Major...</td>\n",
       "      <td>NaN</td>\n",
       "      <td>None</td>\n",
       "    </tr>\n",
       "    <tr>\n",
       "      <th>5338</th>\n",
       "      <td>RT @mention ��� GO BEYOND BORDERS! ��_ {link} ...</td>\n",
       "      <td>NaN</td>\n",
       "      <td>None</td>\n",
       "    </tr>\n",
       "    <tr>\n",
       "      <th>5341</th>\n",
       "      <td>RT @mention ��� Happy Woman's Day! Make love, ...</td>\n",
       "      <td>NaN</td>\n",
       "      <td>None</td>\n",
       "    </tr>\n",
       "    <tr>\n",
       "      <th>3950</th>\n",
       "      <td>Really enjoying the changes in Gowalla 3.0 for...</td>\n",
       "      <td>Android App</td>\n",
       "      <td>Positive</td>\n",
       "    </tr>\n",
       "  </tbody>\n",
       "</table>\n",
       "</div>"
      ],
      "text/plain": [
       "                                             tweet_text object_of_emotion  \\\n",
       "3962  #SXSW is just starting, #CTIA is around the co...           Android   \n",
       "468      Before It Even Begins, Apple Wins #SXSW {link}             Apple   \n",
       "2559  Counting down the days to #sxsw plus strong Ca...             Apple   \n",
       "776   Google to Launch Major New Social Network Call...               NaN   \n",
       "8483  I just noticed DST is coming this weekend. How...            iPhone   \n",
       "2232  Marissa Mayer: Google Will Connect the Digital...               NaN   \n",
       "8747  Need to buy an iPad2 while I'm in Austin at #s...              iPad   \n",
       "4897  Oh. My. God. The #SXSW app for iPad is pure, u...           iOS App   \n",
       "5884  RT @mention Google to Launch Major New Social ...               NaN   \n",
       "5882  RT @mention Google to Launch Major New Social ...               NaN   \n",
       "5881  RT @mention Google to Launch Major New Social ...               NaN   \n",
       "5883  RT @mention Google to Launch Major New Social ...               NaN   \n",
       "5885  RT @mention Google to Launch Major New Social ...               NaN   \n",
       "6297  RT @mention Marissa Mayer: Google Will Connect...               NaN   \n",
       "6299  RT @mention Marissa Mayer: Google Will Connect...               NaN   \n",
       "6296  RT @mention Marissa Mayer: Google Will Connect...            Google   \n",
       "6298  RT @mention Marissa Mayer: Google Will Connect...            Google   \n",
       "6300  RT @mention Marissa Mayer: Google Will Connect...               NaN   \n",
       "6546  RT @mention RT @mention Google to Launch Major...               NaN   \n",
       "5338  RT @mention ��� GO BEYOND BORDERS! ��_ {link} ...               NaN   \n",
       "5341  RT @mention ��� Happy Woman's Day! Make love, ...               NaN   \n",
       "3950  Really enjoying the changes in Gowalla 3.0 for...       Android App   \n",
       "\n",
       "       emotion  \n",
       "3962  Positive  \n",
       "468   Positive  \n",
       "2559  Positive  \n",
       "776       None  \n",
       "8483  Negative  \n",
       "2232      None  \n",
       "8747  Positive  \n",
       "4897  Positive  \n",
       "5884      None  \n",
       "5882      None  \n",
       "5881      None  \n",
       "5883      None  \n",
       "5885      None  \n",
       "6297      None  \n",
       "6299      None  \n",
       "6296  Positive  \n",
       "6298  Positive  \n",
       "6300      None  \n",
       "6546      None  \n",
       "5338      None  \n",
       "5341      None  \n",
       "3950  Positive  "
      ]
     },
     "execution_count": 44,
     "metadata": {},
     "output_type": "execute_result"
    },
    {
     "data": {
      "application/javascript": [
       "\n",
       "            setTimeout(function() {\n",
       "                var nbb_cell_id = 44;\n",
       "                var nbb_unformatted_code = \"cleaning.dup_rows(df).sort_values(\\\"tweet_text\\\")\";\n",
       "                var nbb_formatted_code = \"cleaning.dup_rows(df).sort_values(\\\"tweet_text\\\")\";\n",
       "                var nbb_cells = Jupyter.notebook.get_cells();\n",
       "                for (var i = 0; i < nbb_cells.length; ++i) {\n",
       "                    if (nbb_cells[i].input_prompt_number == nbb_cell_id) {\n",
       "                        if (nbb_cells[i].get_text() == nbb_unformatted_code) {\n",
       "                             nbb_cells[i].set_text(nbb_formatted_code);\n",
       "                        }\n",
       "                        break;\n",
       "                    }\n",
       "                }\n",
       "            }, 500);\n",
       "            "
      ],
      "text/plain": [
       "<IPython.core.display.Javascript object>"
      ]
     },
     "metadata": {},
     "output_type": "display_data"
    }
   ],
   "source": [
    "cleaning.dup_rows(df).sort_values(\"tweet_text\")"
   ]
  },
  {
   "cell_type": "code",
   "execution_count": 53,
   "metadata": {
    "ExecuteTime": {
     "end_time": "2021-06-13T23:17:41.501093Z",
     "start_time": "2021-06-13T23:17:41.430095Z"
    }
   },
   "outputs": [
    {
     "data": {
      "text/plain": [
       "object_of_emotion     emotion  \n",
       "iPad                  Positive     124\n",
       "Apple                 Positive     101\n",
       "iOS App               Positive      99\n",
       "Google                Positive      78\n",
       "Other Google Product  Positive      50\n",
       "iPad                  Negative      30\n",
       "iPhone                Positive      30\n",
       "Google                Negative      16\n",
       "Apple                 Negative      16\n",
       "Other Google Product  Negative      11\n",
       "Android               Positive      10\n",
       "Android App           Positive       9\n",
       "iOS App               Negative       8\n",
       "iPhone                Negative       8\n",
       "iPad                  None           5\n",
       "Other Apple Product   Positive       4\n",
       "Google                None           3\n",
       "Other Google Product  None           1\n",
       "iPad                  Uncertain      1\n",
       "Apple                 None           1\n",
       "iOS App               None           1\n",
       "iPhone                None           1\n",
       "dtype: int64"
      ]
     },
     "execution_count": 53,
     "metadata": {},
     "output_type": "execute_result"
    },
    {
     "data": {
      "application/javascript": [
       "\n",
       "            setTimeout(function() {\n",
       "                var nbb_cell_id = 53;\n",
       "                var nbb_unformatted_code = \"retweet_mask = df.tweet_text.str.startswith(\\\"RT\\\")\\ndf.loc[retweet_mask].select_dtypes(\\\"category\\\").value_counts()\";\n",
       "                var nbb_formatted_code = \"retweet_mask = df.tweet_text.str.startswith(\\\"RT\\\")\\ndf.loc[retweet_mask].select_dtypes(\\\"category\\\").value_counts()\";\n",
       "                var nbb_cells = Jupyter.notebook.get_cells();\n",
       "                for (var i = 0; i < nbb_cells.length; ++i) {\n",
       "                    if (nbb_cells[i].input_prompt_number == nbb_cell_id) {\n",
       "                        if (nbb_cells[i].get_text() == nbb_unformatted_code) {\n",
       "                             nbb_cells[i].set_text(nbb_formatted_code);\n",
       "                        }\n",
       "                        break;\n",
       "                    }\n",
       "                }\n",
       "            }, 500);\n",
       "            "
      ],
      "text/plain": [
       "<IPython.core.display.Javascript object>"
      ]
     },
     "metadata": {},
     "output_type": "display_data"
    }
   ],
   "source": [
    "retweet_mask = df.tweet_text.str.startswith(\"RT\")\n",
    "df.loc[retweet_mask].select_dtypes(\"category\").value_counts()"
   ]
  },
  {
   "cell_type": "markdown",
   "metadata": {},
   "source": [
    "Well, it wouldn't be data science if the dataset made any sense."
   ]
  },
  {
   "cell_type": "code",
   "execution_count": null,
   "metadata": {},
   "outputs": [],
   "source": []
  }
 ],
 "metadata": {
  "interpreter": {
   "hash": "45e948d0256f8c78ae85303b642a175be3add64c95f2eaa9e19fcfd099775c4c"
  },
  "kernelspec": {
   "display_name": "Python 3",
   "language": "python",
   "name": "python3"
  },
  "language_info": {
   "codemirror_mode": {
    "name": "ipython",
    "version": 3
   },
   "file_extension": ".py",
   "mimetype": "text/x-python",
   "name": "python",
   "nbconvert_exporter": "python",
   "pygments_lexer": "ipython3",
   "version": "3.8.5"
  },
  "toc": {
   "base_numbering": 1,
   "nav_menu": {},
   "number_sections": false,
   "sideBar": true,
   "skip_h1_title": false,
   "title_cell": "Table of Contents",
   "title_sidebar": "Contents",
   "toc_cell": false,
   "toc_position": {},
   "toc_section_display": true,
   "toc_window_display": false
  }
 },
 "nbformat": 4,
 "nbformat_minor": 2
}
