{
 "cells": [
  {
   "cell_type": "code",
   "execution_count": 1,
   "metadata": {},
   "outputs": [],
   "source": [
    "import numpy as np"
   ]
  },
  {
   "cell_type": "code",
   "execution_count": 26,
   "metadata": {},
   "outputs": [
    {
     "data": {
      "text/plain": [
       "array([[81, 73, 54],\n",
       "       [66, 46, 46],\n",
       "       [77, 84, 35],\n",
       "       [49, 94, 57],\n",
       "       [58, 18, 13],\n",
       "       [ 4, 74, 26],\n",
       "       [58, 46,  8],\n",
       "       [56, 28, 57],\n",
       "       [ 1, 96, 52],\n",
       "       [22, 79, 82],\n",
       "       [31,  6, 13],\n",
       "       [97, 43, 73],\n",
       "       [71, 64, 54],\n",
       "       [29, 91, 54],\n",
       "       [98, 34, 68]], dtype=int64)"
      ]
     },
     "execution_count": 26,
     "metadata": {},
     "output_type": "execute_result"
    }
   ],
   "source": [
    "arr = np.random.default_rng().integers(1, 100, size=(15, 3))\r\n",
    "arr"
   ]
  },
  {
   "cell_type": "code",
   "execution_count": 35,
   "metadata": {},
   "outputs": [
    {
     "data": {
      "text/plain": [
       "array([[54, 73, 81],\n",
       "       [46, 46, 66],\n",
       "       [35, 77, 84],\n",
       "       [49, 57, 94],\n",
       "       [13, 18, 58],\n",
       "       [ 4, 26, 74],\n",
       "       [ 8, 46, 58],\n",
       "       [28, 56, 57],\n",
       "       [ 1, 52, 96],\n",
       "       [22, 79, 82],\n",
       "       [ 6, 13, 31],\n",
       "       [43, 73, 97],\n",
       "       [54, 64, 71],\n",
       "       [29, 54, 91],\n",
       "       [34, 68, 98]], dtype=int64)"
      ]
     },
     "execution_count": 35,
     "metadata": {},
     "output_type": "execute_result"
    }
   ],
   "source": [
    "np.apply_along_axis(sorted, 1, arr)"
   ]
  },
  {
   "cell_type": "code",
   "execution_count": null,
   "metadata": {},
   "outputs": [],
   "source": []
  }
 ],
 "metadata": {
  "interpreter": {
   "hash": "45e948d0256f8c78ae85303b642a175be3add64c95f2eaa9e19fcfd099775c4c"
  },
  "kernelspec": {
   "display_name": "Python 3.8.5 64-bit ('learn-env': conda)",
   "name": "python3"
  },
  "language_info": {
   "codemirror_mode": {
    "name": "ipython",
    "version": 3
   },
   "file_extension": ".py",
   "mimetype": "text/x-python",
   "name": "python",
   "nbconvert_exporter": "python",
   "pygments_lexer": "ipython3",
   "version": "3.8.5"
  },
  "orig_nbformat": 4
 },
 "nbformat": 4,
 "nbformat_minor": 2
}